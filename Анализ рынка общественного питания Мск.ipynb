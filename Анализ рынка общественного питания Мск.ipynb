{
 "cells": [
  {
   "cell_type": "markdown",
   "metadata": {},
   "source": [
    "# Рынок заведений общественного питания Москвы"
   ]
  },
  {
   "cell_type": "markdown",
   "metadata": {},
   "source": [
    "Цель: Подготовить исследование рынка Москвы, найти интересные особенности и презентовать полученные результаты, которые в будущем помогут в выборе подходящего инвесторам места."
   ]
  },
  {
   "cell_type": "markdown",
   "metadata": {},
   "source": [
    "Мне доступен датасет с заведениями общественного питания Москвы, составленный на основе данных сервисов Яндекс Карты и Яндекс Бизнес на лето 2022 года. Информация, размещённая в сервисе Яндекс Бизнес, могла быть добавлена пользователями или найдена в общедоступных источниках. Она носит исключительно справочный характер."
   ]
  },
  {
   "cell_type": "markdown",
   "metadata": {},
   "source": [
    "Описание данных\n",
    "- name — название заведения;\n",
    "- address — адрес заведения;\n",
    "- category — категория заведения, например «кафе», «пиццерия» или «кофейня»;\n",
    "- hours — информация о днях и часах работы;\n",
    "- lat — широта географической точки, в которой находится заведение;\n",
    "- lng — долгота географической точки, в которой находится заведение;\n",
    "- rating — рейтинг заведения по оценкам пользователей в Яндекс Картах (высшая оценка — 5.0);\n",
    "- price — категория цен в заведении, например «средние», «ниже среднего», «выше среднего» и так далее;\n",
    "- avg_bill — строка, которая хранит среднюю стоимость заказа в виде диапазона, например:\n",
    "\n",
    "\n",
    "«Средний счёт: 1000–1500 ₽»;\n",
    "\n",
    "\n",
    "«Цена чашки капучино: 130–220 ₽»;\n",
    "\n",
    "\n",
    "«Цена бокала пива: 400–600 ₽»;\n",
    "- middle_avg_bill — число с оценкой среднего чека, которое указано только для значений из столбца avg_bill, начинающихся с подстроки «Средний счёт»:\n",
    "\n",
    "\n",
    "Если в строке указан ценовой диапазон из двух значений, в столбец войдёт медиана этих двух значений.\n",
    "\n",
    "\n",
    "Если в строке указано одно число — цена без диапазона, то в столбец войдёт это число.\n",
    "\n",
    "\n",
    "Если значения нет или оно не начинается с подстроки «Средний счёт», то в столбец ничего не войдёт.\n",
    "\n",
    "\n",
    "- middle_coffee_cup — число с оценкой одной чашки капучино, которое указано только для значений из столбца avg_bill, начинающихся с подстроки «Цена одной чашки капучино»:\n",
    "\n",
    "\n",
    "Если в строке указан ценовой диапазон из двух значений, в столбец войдёт медиана этих двух значений.\n",
    "\n",
    "\n",
    "\n",
    "Если в строке указано одно число — цена без диапазона, то в столбец войдёт это число.\n",
    "\n",
    "\n",
    "Если значения нет или оно не начинается с подстроки «Цена одной чашки капучино», то в столбец ничего не войдёт.\n",
    "\n",
    "\n",
    "- chain — число, выраженное 0 или 1, которое показывает, является ли заведение сетевым (для маленьких сетей могут встречаться ошибки):\n",
    "\n",
    "\n",
    "0 — заведение не является сетевым\n",
    "\n",
    "\n",
    "1 — заведение является сетевым\n",
    "\n",
    "\n",
    "- district — административный район, в котором находится заведение, например Центральный административный округ;\n",
    "- seats — количество посадочных мест.\n"
   ]
  },
  {
   "cell_type": "markdown",
   "metadata": {},
   "source": [
    "## Изучу общую информацию о данных"
   ]
  },
  {
   "cell_type": "markdown",
   "metadata": {},
   "source": [
    "### Подключy библиотеки"
   ]
  },
  {
   "cell_type": "code",
   "execution_count": 1,
   "metadata": {},
   "outputs": [],
   "source": [
    "import pandas as pd\n",
    "import datetime as dt\n",
    "import numpy as np\n",
    "import seaborn\n",
    "import matplotlib.pyplot as plt\n",
    "from scipy import stats as st\n",
    "import math as mth\n",
    "from plotly import graph_objects as go\n",
    "import seaborn as sns\n",
    "import plotly.express as px\n",
    "import folium\n",
    "# импортируем карту и маркер\n",
    "from folium import Map, Marker\n",
    "# импортируем кластер\n",
    "from folium.plugins import MarkerCluster\n",
    "from folium import Map, Marker\n",
    "from folium import Map, Choropleth\n",
    "import numpy as np"
   ]
  },
  {
   "cell_type": "markdown",
   "metadata": {},
   "source": [
    "### Открою файл"
   ]
  },
  {
   "cell_type": "code",
   "execution_count": 3,
   "metadata": {},
   "outputs": [
    {
     "ename": "FileNotFoundError",
     "evalue": "[Errno 2] No such file or directory: '/datasets/dash_visits.csv'",
     "output_type": "error",
     "traceback": [
      "\u001b[0;31m---------------------------------------------------------------------------\u001b[0m",
      "\u001b[0;31mFileNotFoundError\u001b[0m                         Traceback (most recent call last)",
      "\u001b[0;32m/tmp/ipykernel_79/2884306509.py\u001b[0m in \u001b[0;36m<module>\u001b[0;34m\u001b[0m\n\u001b[0;32m----> 1\u001b[0;31m \u001b[0mdata\u001b[0m \u001b[0;34m=\u001b[0m \u001b[0mpd\u001b[0m\u001b[0;34m.\u001b[0m\u001b[0mread_csv\u001b[0m\u001b[0;34m(\u001b[0m\u001b[0;34m'/datasets/dash_visits.csv'\u001b[0m\u001b[0;34m,\u001b[0m \u001b[0msep\u001b[0m\u001b[0;34m=\u001b[0m\u001b[0;34m','\u001b[0m\u001b[0;34m)\u001b[0m\u001b[0;34m\u001b[0m\u001b[0;34m\u001b[0m\u001b[0m\n\u001b[0m\u001b[1;32m      2\u001b[0m \u001b[0mdisplay\u001b[0m\u001b[0;34m(\u001b[0m\u001b[0mdata\u001b[0m\u001b[0;34m.\u001b[0m\u001b[0mhead\u001b[0m\u001b[0;34m(\u001b[0m\u001b[0;34m)\u001b[0m\u001b[0;34m)\u001b[0m\u001b[0;34m\u001b[0m\u001b[0;34m\u001b[0m\u001b[0m\n",
      "\u001b[0;32m/opt/conda/lib/python3.9/site-packages/pandas/io/parsers.py\u001b[0m in \u001b[0;36mread_csv\u001b[0;34m(filepath_or_buffer, sep, delimiter, header, names, index_col, usecols, squeeze, prefix, mangle_dupe_cols, dtype, engine, converters, true_values, false_values, skipinitialspace, skiprows, skipfooter, nrows, na_values, keep_default_na, na_filter, verbose, skip_blank_lines, parse_dates, infer_datetime_format, keep_date_col, date_parser, dayfirst, cache_dates, iterator, chunksize, compression, thousands, decimal, lineterminator, quotechar, quoting, doublequote, escapechar, comment, encoding, dialect, error_bad_lines, warn_bad_lines, delim_whitespace, low_memory, memory_map, float_precision, storage_options)\u001b[0m\n\u001b[1;32m    608\u001b[0m     \u001b[0mkwds\u001b[0m\u001b[0;34m.\u001b[0m\u001b[0mupdate\u001b[0m\u001b[0;34m(\u001b[0m\u001b[0mkwds_defaults\u001b[0m\u001b[0;34m)\u001b[0m\u001b[0;34m\u001b[0m\u001b[0;34m\u001b[0m\u001b[0m\n\u001b[1;32m    609\u001b[0m \u001b[0;34m\u001b[0m\u001b[0m\n\u001b[0;32m--> 610\u001b[0;31m     \u001b[0;32mreturn\u001b[0m \u001b[0m_read\u001b[0m\u001b[0;34m(\u001b[0m\u001b[0mfilepath_or_buffer\u001b[0m\u001b[0;34m,\u001b[0m \u001b[0mkwds\u001b[0m\u001b[0;34m)\u001b[0m\u001b[0;34m\u001b[0m\u001b[0;34m\u001b[0m\u001b[0m\n\u001b[0m\u001b[1;32m    611\u001b[0m \u001b[0;34m\u001b[0m\u001b[0m\n\u001b[1;32m    612\u001b[0m \u001b[0;34m\u001b[0m\u001b[0m\n",
      "\u001b[0;32m/opt/conda/lib/python3.9/site-packages/pandas/io/parsers.py\u001b[0m in \u001b[0;36m_read\u001b[0;34m(filepath_or_buffer, kwds)\u001b[0m\n\u001b[1;32m    460\u001b[0m \u001b[0;34m\u001b[0m\u001b[0m\n\u001b[1;32m    461\u001b[0m     \u001b[0;31m# Create the parser.\u001b[0m\u001b[0;34m\u001b[0m\u001b[0;34m\u001b[0m\u001b[0;34m\u001b[0m\u001b[0m\n\u001b[0;32m--> 462\u001b[0;31m     \u001b[0mparser\u001b[0m \u001b[0;34m=\u001b[0m \u001b[0mTextFileReader\u001b[0m\u001b[0;34m(\u001b[0m\u001b[0mfilepath_or_buffer\u001b[0m\u001b[0;34m,\u001b[0m \u001b[0;34m**\u001b[0m\u001b[0mkwds\u001b[0m\u001b[0;34m)\u001b[0m\u001b[0;34m\u001b[0m\u001b[0;34m\u001b[0m\u001b[0m\n\u001b[0m\u001b[1;32m    463\u001b[0m \u001b[0;34m\u001b[0m\u001b[0m\n\u001b[1;32m    464\u001b[0m     \u001b[0;32mif\u001b[0m \u001b[0mchunksize\u001b[0m \u001b[0;32mor\u001b[0m \u001b[0miterator\u001b[0m\u001b[0;34m:\u001b[0m\u001b[0;34m\u001b[0m\u001b[0;34m\u001b[0m\u001b[0m\n",
      "\u001b[0;32m/opt/conda/lib/python3.9/site-packages/pandas/io/parsers.py\u001b[0m in \u001b[0;36m__init__\u001b[0;34m(self, f, engine, **kwds)\u001b[0m\n\u001b[1;32m    817\u001b[0m             \u001b[0mself\u001b[0m\u001b[0;34m.\u001b[0m\u001b[0moptions\u001b[0m\u001b[0;34m[\u001b[0m\u001b[0;34m\"has_index_names\"\u001b[0m\u001b[0;34m]\u001b[0m \u001b[0;34m=\u001b[0m \u001b[0mkwds\u001b[0m\u001b[0;34m[\u001b[0m\u001b[0;34m\"has_index_names\"\u001b[0m\u001b[0;34m]\u001b[0m\u001b[0;34m\u001b[0m\u001b[0;34m\u001b[0m\u001b[0m\n\u001b[1;32m    818\u001b[0m \u001b[0;34m\u001b[0m\u001b[0m\n\u001b[0;32m--> 819\u001b[0;31m         \u001b[0mself\u001b[0m\u001b[0;34m.\u001b[0m\u001b[0m_engine\u001b[0m \u001b[0;34m=\u001b[0m \u001b[0mself\u001b[0m\u001b[0;34m.\u001b[0m\u001b[0m_make_engine\u001b[0m\u001b[0;34m(\u001b[0m\u001b[0mself\u001b[0m\u001b[0;34m.\u001b[0m\u001b[0mengine\u001b[0m\u001b[0;34m)\u001b[0m\u001b[0;34m\u001b[0m\u001b[0;34m\u001b[0m\u001b[0m\n\u001b[0m\u001b[1;32m    820\u001b[0m \u001b[0;34m\u001b[0m\u001b[0m\n\u001b[1;32m    821\u001b[0m     \u001b[0;32mdef\u001b[0m \u001b[0mclose\u001b[0m\u001b[0;34m(\u001b[0m\u001b[0mself\u001b[0m\u001b[0;34m)\u001b[0m\u001b[0;34m:\u001b[0m\u001b[0;34m\u001b[0m\u001b[0;34m\u001b[0m\u001b[0m\n",
      "\u001b[0;32m/opt/conda/lib/python3.9/site-packages/pandas/io/parsers.py\u001b[0m in \u001b[0;36m_make_engine\u001b[0;34m(self, engine)\u001b[0m\n\u001b[1;32m   1048\u001b[0m             )\n\u001b[1;32m   1049\u001b[0m         \u001b[0;31m# error: Too many arguments for \"ParserBase\"\u001b[0m\u001b[0;34m\u001b[0m\u001b[0;34m\u001b[0m\u001b[0;34m\u001b[0m\u001b[0m\n\u001b[0;32m-> 1050\u001b[0;31m         \u001b[0;32mreturn\u001b[0m \u001b[0mmapping\u001b[0m\u001b[0;34m[\u001b[0m\u001b[0mengine\u001b[0m\u001b[0;34m]\u001b[0m\u001b[0;34m(\u001b[0m\u001b[0mself\u001b[0m\u001b[0;34m.\u001b[0m\u001b[0mf\u001b[0m\u001b[0;34m,\u001b[0m \u001b[0;34m**\u001b[0m\u001b[0mself\u001b[0m\u001b[0;34m.\u001b[0m\u001b[0moptions\u001b[0m\u001b[0;34m)\u001b[0m  \u001b[0;31m# type: ignore[call-arg]\u001b[0m\u001b[0;34m\u001b[0m\u001b[0;34m\u001b[0m\u001b[0m\n\u001b[0m\u001b[1;32m   1051\u001b[0m \u001b[0;34m\u001b[0m\u001b[0m\n\u001b[1;32m   1052\u001b[0m     \u001b[0;32mdef\u001b[0m \u001b[0m_failover_to_python\u001b[0m\u001b[0;34m(\u001b[0m\u001b[0mself\u001b[0m\u001b[0;34m)\u001b[0m\u001b[0;34m:\u001b[0m\u001b[0;34m\u001b[0m\u001b[0;34m\u001b[0m\u001b[0m\n",
      "\u001b[0;32m/opt/conda/lib/python3.9/site-packages/pandas/io/parsers.py\u001b[0m in \u001b[0;36m__init__\u001b[0;34m(self, src, **kwds)\u001b[0m\n\u001b[1;32m   1865\u001b[0m \u001b[0;34m\u001b[0m\u001b[0m\n\u001b[1;32m   1866\u001b[0m         \u001b[0;31m# open handles\u001b[0m\u001b[0;34m\u001b[0m\u001b[0;34m\u001b[0m\u001b[0;34m\u001b[0m\u001b[0m\n\u001b[0;32m-> 1867\u001b[0;31m         \u001b[0mself\u001b[0m\u001b[0;34m.\u001b[0m\u001b[0m_open_handles\u001b[0m\u001b[0;34m(\u001b[0m\u001b[0msrc\u001b[0m\u001b[0;34m,\u001b[0m \u001b[0mkwds\u001b[0m\u001b[0;34m)\u001b[0m\u001b[0;34m\u001b[0m\u001b[0;34m\u001b[0m\u001b[0m\n\u001b[0m\u001b[1;32m   1868\u001b[0m         \u001b[0;32massert\u001b[0m \u001b[0mself\u001b[0m\u001b[0;34m.\u001b[0m\u001b[0mhandles\u001b[0m \u001b[0;32mis\u001b[0m \u001b[0;32mnot\u001b[0m \u001b[0;32mNone\u001b[0m\u001b[0;34m\u001b[0m\u001b[0;34m\u001b[0m\u001b[0m\n\u001b[1;32m   1869\u001b[0m         \u001b[0;32mfor\u001b[0m \u001b[0mkey\u001b[0m \u001b[0;32min\u001b[0m \u001b[0;34m(\u001b[0m\u001b[0;34m\"storage_options\"\u001b[0m\u001b[0;34m,\u001b[0m \u001b[0;34m\"encoding\"\u001b[0m\u001b[0;34m,\u001b[0m \u001b[0;34m\"memory_map\"\u001b[0m\u001b[0;34m,\u001b[0m \u001b[0;34m\"compression\"\u001b[0m\u001b[0;34m)\u001b[0m\u001b[0;34m:\u001b[0m\u001b[0;34m\u001b[0m\u001b[0;34m\u001b[0m\u001b[0m\n",
      "\u001b[0;32m/opt/conda/lib/python3.9/site-packages/pandas/io/parsers.py\u001b[0m in \u001b[0;36m_open_handles\u001b[0;34m(self, src, kwds)\u001b[0m\n\u001b[1;32m   1360\u001b[0m         \u001b[0mLet\u001b[0m \u001b[0mthe\u001b[0m \u001b[0mreaders\u001b[0m \u001b[0mopen\u001b[0m \u001b[0mIOHanldes\u001b[0m \u001b[0mafter\u001b[0m \u001b[0mthey\u001b[0m \u001b[0mare\u001b[0m \u001b[0mdone\u001b[0m \u001b[0;32mwith\u001b[0m \u001b[0mtheir\u001b[0m \u001b[0mpotential\u001b[0m \u001b[0mraises\u001b[0m\u001b[0;34m.\u001b[0m\u001b[0;34m\u001b[0m\u001b[0;34m\u001b[0m\u001b[0m\n\u001b[1;32m   1361\u001b[0m         \"\"\"\n\u001b[0;32m-> 1362\u001b[0;31m         self.handles = get_handle(\n\u001b[0m\u001b[1;32m   1363\u001b[0m             \u001b[0msrc\u001b[0m\u001b[0;34m,\u001b[0m\u001b[0;34m\u001b[0m\u001b[0;34m\u001b[0m\u001b[0m\n\u001b[1;32m   1364\u001b[0m             \u001b[0;34m\"r\"\u001b[0m\u001b[0;34m,\u001b[0m\u001b[0;34m\u001b[0m\u001b[0;34m\u001b[0m\u001b[0m\n",
      "\u001b[0;32m/opt/conda/lib/python3.9/site-packages/pandas/io/common.py\u001b[0m in \u001b[0;36mget_handle\u001b[0;34m(path_or_buf, mode, encoding, compression, memory_map, is_text, errors, storage_options)\u001b[0m\n\u001b[1;32m    640\u001b[0m                 \u001b[0merrors\u001b[0m \u001b[0;34m=\u001b[0m \u001b[0;34m\"replace\"\u001b[0m\u001b[0;34m\u001b[0m\u001b[0;34m\u001b[0m\u001b[0m\n\u001b[1;32m    641\u001b[0m             \u001b[0;31m# Encoding\u001b[0m\u001b[0;34m\u001b[0m\u001b[0;34m\u001b[0m\u001b[0;34m\u001b[0m\u001b[0m\n\u001b[0;32m--> 642\u001b[0;31m             handle = open(\n\u001b[0m\u001b[1;32m    643\u001b[0m                 \u001b[0mhandle\u001b[0m\u001b[0;34m,\u001b[0m\u001b[0;34m\u001b[0m\u001b[0;34m\u001b[0m\u001b[0m\n\u001b[1;32m    644\u001b[0m                 \u001b[0mioargs\u001b[0m\u001b[0;34m.\u001b[0m\u001b[0mmode\u001b[0m\u001b[0;34m,\u001b[0m\u001b[0;34m\u001b[0m\u001b[0;34m\u001b[0m\u001b[0m\n",
      "\u001b[0;31mFileNotFoundError\u001b[0m: [Errno 2] No such file or directory: '/datasets/dash_visits.csv'"
     ]
    }
   ],
   "source": [
    "data = pd.read_csv('/datasets/dash_visits.csv', sep=',')\n",
    "display(data.head())"
   ]
  },
  {
   "cell_type": "code",
   "execution_count": null,
   "metadata": {
    "scrolled": false
   },
   "outputs": [],
   "source": [
    "print(data.info())"
   ]
  },
  {
   "cell_type": "code",
   "execution_count": null,
   "metadata": {},
   "outputs": [],
   "source": [
    "data = pd.read_csv('/datasets/moscow_places.csv', sep=',')"
   ]
  },
  {
   "cell_type": "markdown",
   "metadata": {},
   "source": [
    "Мы имеем данные о 8 406 заведениях"
   ]
  },
  {
   "cell_type": "markdown",
   "metadata": {},
   "source": [
    "Количество посадочных мест должно быть целым числом, изменим тип столбца seats "
   ]
  },
  {
   "cell_type": "code",
   "execution_count": null,
   "metadata": {},
   "outputs": [],
   "source": [
    "data['seats'] = data['seats'].astype(int, errors = 'ignore')"
   ]
  },
  {
   "cell_type": "markdown",
   "metadata": {},
   "source": [
    "## Предобработка"
   ]
  },
  {
   "cell_type": "markdown",
   "metadata": {},
   "source": [
    "### Пропущенные значения"
   ]
  },
  {
   "cell_type": "code",
   "execution_count": null,
   "metadata": {},
   "outputs": [],
   "source": [
    "data.isna().sum()"
   ]
  },
  {
   "cell_type": "markdown",
   "metadata": {},
   "source": [
    "Пропущены значения в столбцах:\n",
    "- hours (время работы) - 536\n",
    "- price (категория цен) - 5091\n",
    "- avg_bill(средняя стоимость заказа) - 4590\n",
    "- middle_avg_bill(средний чек) - 5257\n",
    "- middle_coffee_cup(цена одной чашки капучино) - 7871\n",
    "- seats(количество посадочных мест) - 3611\n",
    "\n",
    "К сожалению, эти пропуски невозможно обработать. Часы работы, категория цен, средняя стоиомость заказа, количество посадочных мест - это данные, которые могут быть абсолютно разными и не от чего не зависят. Цена одной чашки капучино может быть не указана, так как место не является кофейней."
   ]
  },
  {
   "cell_type": "code",
   "execution_count": null,
   "metadata": {},
   "outputs": [],
   "source": [
    "data['address'] = data['address'].str.lower()\n",
    "data['name'] = data['name'].str.lower()"
   ]
  },
  {
   "cell_type": "code",
   "execution_count": null,
   "metadata": {
    "scrolled": true
   },
   "outputs": [],
   "source": [
    "data[data.duplicated(['address', 'name'])].count()\n"
   ]
  },
  {
   "cell_type": "code",
   "execution_count": null,
   "metadata": {
    "scrolled": true
   },
   "outputs": [],
   "source": [
    "data[data.duplicated(['address', 'name'])].drop_duplicates()"
   ]
  },
  {
   "cell_type": "code",
   "execution_count": null,
   "metadata": {},
   "outputs": [],
   "source": [
    "data.duplicated().sum()"
   ]
  },
  {
   "cell_type": "markdown",
   "metadata": {},
   "source": [
    "Дубликатов нет"
   ]
  },
  {
   "cell_type": "markdown",
   "metadata": {},
   "source": [
    "Столбец street с названиями улиц"
   ]
  },
  {
   "cell_type": "code",
   "execution_count": null,
   "metadata": {},
   "outputs": [],
   "source": [
    "data['street'] = data.address.str.split(', ').str[1]"
   ]
  },
  {
   "cell_type": "markdown",
   "metadata": {},
   "source": [
    "Столбец is_24/7 с указанием является ли заведение круглосуточным"
   ]
  },
  {
   "cell_type": "code",
   "execution_count": null,
   "metadata": {
    "scrolled": false
   },
   "outputs": [],
   "source": [
    "data['is_24/7'] = data['hours'].str.contains('ежедневно, круглосуточно')"
   ]
  },
  {
   "cell_type": "markdown",
   "metadata": {},
   "source": [
    "Проверим рейтинг на наличие выбросов(он должен находиться в диапазоне от 1 до 5) "
   ]
  },
  {
   "cell_type": "code",
   "execution_count": null,
   "metadata": {
    "scrolled": true
   },
   "outputs": [],
   "source": [
    "print(data['rating'].max())"
   ]
  },
  {
   "cell_type": "code",
   "execution_count": null,
   "metadata": {
    "scrolled": false
   },
   "outputs": [],
   "source": [
    "print(data['rating'].min())"
   ]
  },
  {
   "cell_type": "markdown",
   "metadata": {},
   "source": [
    "Оценим стоимость чашки кофе на выбросы"
   ]
  },
  {
   "cell_type": "code",
   "execution_count": null,
   "metadata": {
    "scrolled": false
   },
   "outputs": [],
   "source": [
    "plt.hist(data['middle_coffee_cup']) "
   ]
  },
  {
   "cell_type": "markdown",
   "metadata": {},
   "source": [
    "Из графика видно, что ценовая вилка чашки кофе 90 - 370 рублей"
   ]
  },
  {
   "cell_type": "code",
   "execution_count": null,
   "metadata": {
    "scrolled": true
   },
   "outputs": [],
   "source": [
    "#data = data.dropna(subset=['middle_coffee_cup'])\n",
    "#print(np.percentile(data['middle_coffee_cup'], [90, 95, 99])) \n",
    "print(data['middle_coffee_cup'].quantile(0.9))\n",
    "print(data['middle_coffee_cup'].quantile(0.95))\n",
    "print(data['middle_coffee_cup'].quantile(0.99))"
   ]
  },
  {
   "cell_type": "markdown",
   "metadata": {},
   "source": [
    "Не более чем у 5% пользователей заказ был выше 275 рублей, не более 1% дороже 310 рублей. Можно предположить, что цена чашки кофе не более 310."
   ]
  },
  {
   "cell_type": "code",
   "execution_count": null,
   "metadata": {},
   "outputs": [],
   "source": [
    "data.loc[data['middle_coffee_cup']<310, 'middle_coffee_cup']"
   ]
  },
  {
   "cell_type": "code",
   "execution_count": null,
   "metadata": {},
   "outputs": [],
   "source": [
    "data['middle_coffee_cup'] = data.loc[data['middle_coffee_cup']<310, 'middle_coffee_cup']"
   ]
  },
  {
   "cell_type": "markdown",
   "metadata": {},
   "source": [
    "В столбце chain должно быть 2 значения 0 и 1. Проверим это"
   ]
  },
  {
   "cell_type": "code",
   "execution_count": null,
   "metadata": {},
   "outputs": [],
   "source": [
    "print(data['chain'].unique())"
   ]
  },
  {
   "cell_type": "markdown",
   "metadata": {},
   "source": [
    "Проверим столбец seats с количеством посадочных мест на выбросы и артефакты"
   ]
  },
  {
   "cell_type": "code",
   "execution_count": null,
   "metadata": {
    "scrolled": false
   },
   "outputs": [],
   "source": [
    "plt.hist(data['seats']) "
   ]
  },
  {
   "cell_type": "code",
   "execution_count": null,
   "metadata": {
    "scrolled": true
   },
   "outputs": [],
   "source": [
    "#data = data.dropna(subset=['seats'])\n",
    "#print(np.percentile(data['seats'], [90, 95, 99]))\n",
    "print(data['seats'].quantile(0.9))\n",
    "print(data['seats'].quantile(0.95))\n",
    "print(data['seats'].quantile(0.99))"
   ]
  },
  {
   "cell_type": "markdown",
   "metadata": {},
   "source": [
    "Не более чем у 5% заведений количество мест выше 307, не более 1% выше 625 рублей.Приму за достоверную информацию количество мест от 0 рублей до 320."
   ]
  },
  {
   "cell_type": "code",
   "execution_count": null,
   "metadata": {},
   "outputs": [],
   "source": [
    "data['seats'] = data.loc[data['seats']<307, 'seats']"
   ]
  },
  {
   "cell_type": "markdown",
   "metadata": {},
   "source": [
    "## Анализ данных"
   ]
  },
  {
   "cell_type": "markdown",
   "metadata": {},
   "source": [
    "Посмотрим какие категории заведений существуют"
   ]
  },
  {
   "cell_type": "code",
   "execution_count": null,
   "metadata": {},
   "outputs": [],
   "source": [
    "data['category'].unique()"
   ]
  },
  {
   "cell_type": "code",
   "execution_count": null,
   "metadata": {
    "scrolled": false
   },
   "outputs": [],
   "source": [
    "category_count = data.groupby('category').agg({'name': 'count'})\n",
    "count = category_count['name']"
   ]
  },
  {
   "cell_type": "code",
   "execution_count": null,
   "metadata": {},
   "outputs": [],
   "source": [
    "fig = go.Figure(data=[go.Pie(labels=category_count.index, values=count)])\n",
    "fig.update_layout(title='Распределение заведений по категориям') #заголовок\n",
    "fig.show() "
   ]
  },
  {
   "cell_type": "markdown",
   "metadata": {},
   "source": [
    "Больше всего из представленных заведений это кафе и рестораны, также много кофейн. Меньше всего булочных и столовых"
   ]
  },
  {
   "cell_type": "markdown",
   "metadata": {},
   "source": [
    "Проверим как распределены места между категориями"
   ]
  },
  {
   "cell_type": "code",
   "execution_count": null,
   "metadata": {},
   "outputs": [],
   "source": [
    "seats_median = data.groupby('category').agg({'seats': 'median'}).sort_values(by = 'seats',ascending = False)\n",
    "count_seats = seats_median['seats']"
   ]
  },
  {
   "cell_type": "code",
   "execution_count": null,
   "metadata": {},
   "outputs": [],
   "source": [
    "data.groupby('category').agg({'seats': 'mean'}).sort_values(by = 'seats',ascending = False)"
   ]
  },
  {
   "cell_type": "markdown",
   "metadata": {},
   "source": [
    "Среднее и медианное значение сильно отличаются, значит в данных есть выбросы. Так как среднее значение больше медианного, то выбросы это очень большие значения(количества мест). Следовательно, среднее значение будем смотреть по медиане."
   ]
  },
  {
   "cell_type": "code",
   "execution_count": null,
   "metadata": {
    "scrolled": false
   },
   "outputs": [],
   "source": [
    "fig = px.bar(seats_median, x=seats_median.index, y='seats', title='Среднее количество мест по заведениям')\n",
    "fig.update_xaxes(tickangle=45)\n",
    "fig.show() "
   ]
  },
  {
   "cell_type": "markdown",
   "metadata": {},
   "source": [
    "Больше всего мест в ресторанах - 86, а меньше всего в булочных - 50."
   ]
  },
  {
   "cell_type": "markdown",
   "metadata": {},
   "source": [
    "Посмотрим как соотносятся сетевые и несетевые заведения"
   ]
  },
  {
   "cell_type": "code",
   "execution_count": null,
   "metadata": {},
   "outputs": [],
   "source": [
    "chain_count = data.groupby('chain').agg({'name': 'count'})\n",
    "count_chain = chain_count['name']\n",
    "chain_count"
   ]
  },
  {
   "cell_type": "code",
   "execution_count": null,
   "metadata": {},
   "outputs": [],
   "source": [
    "\n",
    "name= ['несетевые','сетевые']\n",
    "fig = go.Figure(data=[go.Pie(labels=name, values=count_chain,title='Сетевые/несетевые')])\n",
    "fig.show() "
   ]
  },
  {
   "cell_type": "markdown",
   "metadata": {},
   "source": [
    "Несетевых заведений оказалось больше почти в 2 раза"
   ]
  },
  {
   "cell_type": "markdown",
   "metadata": {},
   "source": [
    "Рассмотрим подробнее сетевые заведения"
   ]
  },
  {
   "cell_type": "code",
   "execution_count": null,
   "metadata": {},
   "outputs": [],
   "source": [
    "\n",
    "chain_places = data[data['chain'] == 1]\n",
    "fig = px.histogram(data, # загружаем данные\n",
    "                   x='category', # указываем столбец с данными для оси X\n",
    "                   color='chain', # обозначаем категорию для разделения цветом\n",
    "                   title='Распределение категорий заведений среди сетевых и несетевых', # указываем заголовок\n",
    "                   nbins=8, # назначаем число корзин\n",
    "                   barmode='overlay') # выбираем «полупрозрачный» тип отображения столбцов\n",
    "fig.update_xaxes(title_text='Значение') # подпись для оси X\n",
    "fig.update_yaxes(title_text='Количество') # подпись для оси Y\n",
    "fig.show() # выводим график"
   ]
  },
  {
   "cell_type": "markdown",
   "metadata": {},
   "source": [
    "- Среди сетевых заведений больше всего кафе, ресторанов и кофейн\n",
    "- Среди несетевых заведений больше всего кафе, ресторанов\n",
    "- Кафе, рестораны, бары чаще всего относятся к несетевым\n",
    "- Булочные, пиццерии и кофейни чаще сетевые"
   ]
  },
  {
   "cell_type": "code",
   "execution_count": null,
   "metadata": {},
   "outputs": [],
   "source": [
    "chain_places = data[data['chain'] == 1]\n",
    "chain_places"
   ]
  },
  {
   "cell_type": "code",
   "execution_count": null,
   "metadata": {},
   "outputs": [],
   "source": [
    "# отфильтруем данные, сгруппируем по городам и посчитаем объявления\n",
    "data_loc_count = chain_places.groupby('name')[['name']].count()\n",
    "# переименуем столбец\n",
    "data_loc_count.columns = ['count']\n",
    "# отсортируем и оставим 15 лидеров\n",
    "data_loc_count = data_loc_count.reset_index().sort_values(by='count', ascending=False).head(15)\n",
    "display(data_loc_count)"
   ]
  },
  {
   "cell_type": "markdown",
   "metadata": {},
   "source": [
    "Самыми популярными сетями в Москве оказались:\n",
    "- Шоколадница\n",
    "- Доминос пицца\n",
    "- Додо Пицца\n",
    "\n",
    "\n",
    "Самыми непопулярными сетями оказались:\n",
    "- CofeFest\t\n",
    "- Буханка\t\n",
    "- Му-Му"
   ]
  },
  {
   "cell_type": "code",
   "execution_count": null,
   "metadata": {},
   "outputs": [],
   "source": [
    "# строим столбчатую диаграмму \n",
    "fig = px.bar(data_loc_count.sort_values(by='count', ascending=True), # загружаем данные и заново их сортируем\n",
    "             x='count', # указываем столбец с данными для оси X\n",
    "             y='name', # указываем столбец с данными для оси Y\n",
    "             text='count' # добавляем аргумент, который отобразит текст с информацией\n",
    "                                # о количестве объявлений внутри столбца графика\n",
    "            )\n",
    "# оформляем график\n",
    "fig.update_layout(title='ТОП-15 сетевых заведений',\n",
    "                   xaxis_title='Количество заведений',\n",
    "                   yaxis_title='Название заведения')\n",
    "fig.show() # выводим график"
   ]
  },
  {
   "cell_type": "code",
   "execution_count": null,
   "metadata": {},
   "outputs": [],
   "source": [
    "top = pd.DataFrame(chain_places.groupby('name').count().sort_values(by='category', ascending=False).head(15)['category']).index\n",
    "pd.DataFrame(chain_places.query('name in @top').groupby('name')['category'].unique())"
   ]
  },
  {
   "cell_type": "markdown",
   "metadata": {},
   "source": [
    "Среди Топ-15 больше всего кофейн, кафе и ресторанов, но также есть несколько сетей пиццерий"
   ]
  },
  {
   "cell_type": "code",
   "execution_count": null,
   "metadata": {},
   "outputs": [],
   "source": [
    "data['district'].unique()"
   ]
  },
  {
   "cell_type": "markdown",
   "metadata": {},
   "source": [
    "Всего есть данные о 9 округах: \n",
    "- 'Северный административный округ',\n",
    "- 'Северо-Восточный административный округ',\n",
    "-  'Северо-Западный административный округ',\n",
    "- 'Западный административный округ',\n",
    "-  'Центральный административный округ',\n",
    "- 'Восточный административный округ',\n",
    "- 'Юго-Восточный административный округ',\n",
    "- 'Южный административный округ',\n",
    "- 'Юго-Западный административный округ'"
   ]
  },
  {
   "cell_type": "code",
   "execution_count": null,
   "metadata": {},
   "outputs": [],
   "source": [
    "plt.figure(figsize=(20, 10))\n",
    "sns.countplot(x='district', hue='category', data=data)\n",
    "plt.xticks(rotation=90)\n",
    "plt.title('Распределение категорий по районам')\n",
    "plt.show()"
   ]
  },
  {
   "cell_type": "code",
   "execution_count": null,
   "metadata": {},
   "outputs": [],
   "source": [
    "data.pivot_table(index='district',\n",
    "                 columns='category',\n",
    "                 values='name',\n",
    "                 aggfunc='count',\n",
    "                 margins=True).drop('All').sort_values('All').drop(columns='All').plot(kind='bar',\n",
    "                                                                                       stacked=True)"
   ]
  },
  {
   "cell_type": "code",
   "execution_count": null,
   "metadata": {},
   "outputs": [],
   "source": [
    "data.groupby('district')['name'].count().sort_values()"
   ]
  },
  {
   "cell_type": "markdown",
   "metadata": {},
   "source": [
    "- В центральном округе больше всего заведений\n",
    "- В Северо-Западном округе меньше всего заведений\n",
    "- Везде выделяется категории кафе и ресторанов(больше всего заведений)\n",
    "- Меньше всего булочных"
   ]
  },
  {
   "cell_type": "code",
   "execution_count": null,
   "metadata": {},
   "outputs": [],
   "source": [
    "data.groupby('category')['rating'].mean().sort_values(ascending=False).plot(kind='bar')\n",
    "plt.title('Средний рейтинг по категориям')\n",
    "plt.xlabel('Категория')\n",
    "plt.ylabel('Рейтинг')\n",
    "plt.show()"
   ]
  },
  {
   "cell_type": "markdown",
   "metadata": {},
   "source": [
    "- Самый высокий рейтинг у баров, пабов, а самый низкий у быстрого питания\n",
    "- Рейтинги всех заведений колеблются между 4-5 баллами и не сильно отличаются между собой"
   ]
  },
  {
   "cell_type": "code",
   "execution_count": null,
   "metadata": {
    "scrolled": false
   },
   "outputs": [],
   "source": [
    "rating_df = data.groupby('district', as_index=False)['rating'].agg('median')\n",
    "rating_df"
   ]
  },
  {
   "cell_type": "markdown",
   "metadata": {},
   "source": [
    "Самый высокий рейтинг у Центрального округа"
   ]
  },
  {
   "cell_type": "code",
   "execution_count": null,
   "metadata": {
    "scrolled": true
   },
   "outputs": [],
   "source": [
    "# загружаем JSON-файл с границами округов Москвы\n",
    "state_geo = '/datasets/admin_level_geomap.geojson'\n",
    "# moscow_lat - широта центра Москвы, moscow_lng - долгота центра Москвы\n",
    "moscow_lat, moscow_lng = 55.751244, 37.618423\n",
    "\n",
    "# создаём карту Москвы\n",
    "m = Map(location=[moscow_lat, moscow_lng], zoom_start=10)\n",
    "\n",
    "marker_cluster = MarkerCluster().add_to(m)\n",
    "\n",
    "def create_clusters(row):\n",
    "    Marker(\n",
    "        [row['lat'], row['lng']],\n",
    "        popup=f\"{row['name']} {row['category']}\",\n",
    "    ).add_to(marker_cluster)\n",
    "\n",
    "# применяем функцию create_clusters() к каждой строке датафрейма\n",
    "data.apply(create_clusters, axis=1)\n",
    "\n",
    "# создаём хороплет с помощью конструктора Choropleth и добавляем его на карту\n",
    "Choropleth(\n",
    "    geo_data=state_geo,\n",
    "    data=rating_df,\n",
    "    columns=['district', 'rating'],\n",
    "    key_on='feature.name',\n",
    "    fill_color='YlGnBu',\n",
    "    fill_opacity=0.8,\n",
    "    legend_name='Медианный рейтинг заведений по районам',\n",
    ").add_to(m)\n",
    "\n",
    "\n",
    "\n",
    "# выводим карту\n",
    "m"
   ]
  },
  {
   "cell_type": "markdown",
   "metadata": {},
   "source": [
    "На востоке столицы рейтинг ниже"
   ]
  },
  {
   "cell_type": "code",
   "execution_count": null,
   "metadata": {
    "scrolled": true
   },
   "outputs": [],
   "source": [
    "data.groupby('street')['name'].count().sort_values(ascending = False).head(15).plot(kind='bar',title = 'Количество заведений на топ 15 улицах')\n",
    "top_street = data.groupby('street')['name'].count().sort_values(ascending = False).head(15).index"
   ]
  },
  {
   "cell_type": "markdown",
   "metadata": {},
   "source": [
    "Самое большое количество общепита находится на проспекте Мира"
   ]
  },
  {
   "cell_type": "code",
   "execution_count": null,
   "metadata": {},
   "outputs": [],
   "source": [
    "top_st_data = data.query('street in @top_street')\n",
    "plt.figure(figsize=(20, 10))\n",
    "sns.countplot(x='street', hue='category', data=top_st_data)\n",
    "plt.xticks(rotation=90)\n",
    "plt.show()"
   ]
  },
  {
   "cell_type": "markdown",
   "metadata": {},
   "source": [
    "На проспекте мира много кафе, ресторанов. Скорее всего это очень оживленная улица.\n",
    "На МКАДе тоже много кафе, но скорее всего за счет протяженности дороги"
   ]
  },
  {
   "cell_type": "code",
   "execution_count": null,
   "metadata": {
    "scrolled": true
   },
   "outputs": [],
   "source": [
    "data = data.merge(data.groupby('street')['name'].count().rename('is_alone') == 1, on='street')"
   ]
  },
  {
   "cell_type": "code",
   "execution_count": null,
   "metadata": {
    "scrolled": true
   },
   "outputs": [],
   "source": [
    "plt.figure(figsize=(20, 10))\n",
    "sns.countplot(x='is_alone', hue='category', data=data)\n",
    "plt.xticks(rotation=90)\n",
    "plt.title('Распределение категорий заведений среди одиночных и не одиночных')\n",
    "plt.show()"
   ]
  },
  {
   "cell_type": "code",
   "execution_count": null,
   "metadata": {
    "scrolled": true
   },
   "outputs": [],
   "source": [
    "fig = px.histogram(data, # загружаем данные\n",
    "                   x='category', # указываем столбец с данными для оси X\n",
    "                   color='is_alone', # обозначаем категорию для разделения цветом\n",
    "                   title='Распределение категорий заведений среди одиночных и не одиночных', # указываем заголовок\n",
    "                   nbins=8, # назначаем число корзин\n",
    "                   barmode='overlay') # выбираем «полупрозрачный» тип отображения столбцов\n",
    "fig.update_xaxes(title_text='Значение') # подпись для оси X\n",
    "fig.update_yaxes(title_text='Количество') # подпись для оси Y\n",
    "fig.show() # выводим график"
   ]
  },
  {
   "cell_type": "markdown",
   "metadata": {},
   "source": [
    "- Среди одиночных заведений самыми распространенными являются кафе, рестораны и кофейни(также, как и у не одиночных)\n",
    "- А вот одну пиццерию редко можно встретить на улице, также как и булочную\n",
    "- Чаще на одной улице расположено несколько заведений"
   ]
  },
  {
   "cell_type": "code",
   "execution_count": null,
   "metadata": {
    "scrolled": true
   },
   "outputs": [],
   "source": [
    "data.groupby('is_alone')[['seats','rating','middle_avg_bill']].mean()"
   ]
  },
  {
   "cell_type": "code",
   "execution_count": null,
   "metadata": {},
   "outputs": [],
   "source": [
    "one_count = data.pivot_table(index='street', values='name', aggfunc='count').sort_values(by='name')\n",
    "one_count.columns = ['count']\n",
    "one_count = one_count[one_count['count'] == 1]\n",
    "one_count"
   ]
  },
  {
   "cell_type": "markdown",
   "metadata": {},
   "source": [
    "На 458 улицах находится одно заведение"
   ]
  },
  {
   "cell_type": "code",
   "execution_count": null,
   "metadata": {},
   "outputs": [],
   "source": [
    "one_count_st = one_count.index\n",
    "one_count_data = data.query('street in @one_count_st')\n",
    "one_count_data"
   ]
  },
  {
   "cell_type": "code",
   "execution_count": null,
   "metadata": {
    "scrolled": true
   },
   "outputs": [],
   "source": [
    "one_count_data = one_count_data.pivot_table(index='district', columns='category', values='rating', aggfunc='mean')\n",
    "plt.figure(figsize=(14,6))\n",
    "plt.title('Рейтинг по категориям')\n",
    "sns.heatmap(one_count_data, annot=True)\n",
    "plt.show()"
   ]
  },
  {
   "cell_type": "markdown",
   "metadata": {},
   "source": [
    "Несмотря на то, что у людей нет альтернатив, рейтинги все равно очень разнообразны. Есть как хорошие, так и не очень заведения"
   ]
  },
  {
   "cell_type": "code",
   "execution_count": null,
   "metadata": {},
   "outputs": [],
   "source": [
    "one_count_st = one_count.index\n",
    "one_count_data = data.query('street in @one_count_st')\n",
    "len(one_count_data.query('chain == 0'))"
   ]
  },
  {
   "cell_type": "code",
   "execution_count": null,
   "metadata": {},
   "outputs": [],
   "source": [
    "len(one_count_data.query('chain == 1'))"
   ]
  },
  {
   "cell_type": "markdown",
   "metadata": {},
   "source": [
    "В основном это не сетевые заведения"
   ]
  },
  {
   "cell_type": "markdown",
   "metadata": {},
   "source": [
    "Найдем средний чек по району, так как в данных есть очень большие значения, будем использовать медиану"
   ]
  },
  {
   "cell_type": "code",
   "execution_count": null,
   "metadata": {},
   "outputs": [],
   "source": [
    "middle_bill = data.groupby('district', as_index=False)['middle_avg_bill'].agg('median')\n",
    "middle_bill"
   ]
  },
  {
   "cell_type": "code",
   "execution_count": null,
   "metadata": {},
   "outputs": [],
   "source": [
    "# загружаем JSON-файл с границами округов Москвы\n",
    "state_geo = '/datasets/admin_level_geomap.geojson'\n",
    "# moscow_lat - широта центра Москвы, moscow_lng - долгота центра Москвы\n",
    "moscow_lat, moscow_lng = 55.751244, 37.618423\n",
    "\n",
    "# создаём карту Москвы\n",
    "m = Map(location=[moscow_lat, moscow_lng], zoom_start=10)\n",
    "\n",
    "marker_cluster = MarkerCluster().add_to(m)\n",
    "\n",
    "def create_clusters(row):\n",
    "    Marker(\n",
    "        [row['lat'], row['lng']],\n",
    "        popup=f\"{row['name']} {row['category']}\",\n",
    "    ).add_to(marker_cluster)\n",
    "\n",
    "# применяем функцию create_clusters() к каждой строке датафрейма\n",
    "data.apply(create_clusters, axis=1)\n",
    "\n",
    "# создаём хороплет с помощью конструктора Choropleth и добавляем его на карту\n",
    "Choropleth(\n",
    "    geo_data=state_geo,\n",
    "    data=middle_bill,\n",
    "    columns=['district', 'middle_avg_bill'],\n",
    "    key_on='feature.name',\n",
    "    fill_color='YlGnBu',\n",
    "    fill_opacity=0.8,\n",
    "    legend_name='Средний чек по районам',\n",
    ").add_to(m)\n",
    "\n",
    "\n",
    "\n",
    "# выводим карту\n",
    "m"
   ]
  },
  {
   "cell_type": "markdown",
   "metadata": {},
   "source": [
    "Центральный административный округ и Западный административный округ самые дорогие"
   ]
  },
  {
   "cell_type": "markdown",
   "metadata": {},
   "source": [
    "## Открытие кофейни"
   ]
  },
  {
   "cell_type": "code",
   "execution_count": null,
   "metadata": {},
   "outputs": [],
   "source": [
    "coffee_count = len(data[data['category'] == \"кофейня\"])\n",
    "coffee_count"
   ]
  },
  {
   "cell_type": "markdown",
   "metadata": {},
   "source": [
    "Всего в Москве 1413 кофейнь"
   ]
  },
  {
   "cell_type": "code",
   "execution_count": null,
   "metadata": {
    "scrolled": true
   },
   "outputs": [],
   "source": [
    "# moscow_lat - широта центра Москвы, moscow_lng - долгота центра Москвы\n",
    "moscow_lat, moscow_lng = 55.751244, 37.618423\n",
    "\n",
    "# создаём карту Москвы\n",
    "m = Map(location=[moscow_lat, moscow_lng], zoom_start=10)\n",
    "# создаём пустой кластер, добавляем его на карту\n",
    "marker_cluster = MarkerCluster().add_to(m)\n",
    "\n",
    "# пишем функцию, которая принимает строку датафрейма,\n",
    "# создаёт маркер в текущей точке и добавляет его в кластер marker_cluster\n",
    "def create_clusters(row):\n",
    "    Marker(\n",
    "        [row['lat'], row['lng']],\n",
    "        popup=f\"{row['name']} {row['rating']}\",\n",
    "    ).add_to(marker_cluster)\n",
    "\n",
    "# применяем функцию create_clusters() к каждой строке датафрейма\n",
    "data[data['category'] == \"кофейня\"].apply(create_clusters, axis=1)\n",
    "\n",
    "# выводим карту\n",
    "m"
   ]
  },
  {
   "cell_type": "markdown",
   "metadata": {},
   "source": [
    "- Больше всего кофеен в центре, поэтому там открываться не выгодно\n",
    "- Меньше всего кофеен в Южном,Юго-Восточном округе и Северо-Западных округах"
   ]
  },
  {
   "cell_type": "code",
   "execution_count": null,
   "metadata": {},
   "outputs": [],
   "source": [
    "coffee = data[data['category'] == \"кофейня\"]"
   ]
  },
  {
   "cell_type": "code",
   "execution_count": null,
   "metadata": {},
   "outputs": [],
   "source": [
    "rating_coffee = coffee.groupby('district', as_index=False)['rating'].agg('mean')\n",
    "rating_coffee"
   ]
  },
  {
   "cell_type": "code",
   "execution_count": null,
   "metadata": {},
   "outputs": [],
   "source": [
    "# загружаем JSON-файл с границами округов Москвы\n",
    "state_geo = '/datasets/admin_level_geomap.geojson'\n",
    "# moscow_lat - широта центра Москвы, moscow_lng - долгота центра Москвы\n",
    "moscow_lat, moscow_lng = 55.751244, 37.618423\n",
    "\n",
    "# создаём карту Москвы\n",
    "m = Map(location=[moscow_lat, moscow_lng], zoom_start=10)\n",
    "\n",
    "marker_cluster = MarkerCluster().add_to(m)\n",
    "\n",
    "def create_clusters(row):\n",
    "    Marker(\n",
    "        [row['lat'], row['lng']],\n",
    "        popup=f\"{row['name']} {row['category']}\",\n",
    "    ).add_to(marker_cluster)\n",
    "\n",
    "# применяем функцию create_clusters() к каждой строке датафрейма\n",
    "coffee.apply(create_clusters, axis=1)\n",
    "\n",
    "# создаём хороплет с помощью конструктора Choropleth и добавляем его на карту\n",
    "Choropleth(\n",
    "    geo_data=state_geo,\n",
    "    data=rating_coffee,\n",
    "    columns=['district', 'rating'],\n",
    "    key_on='feature.name',\n",
    "    fill_color='YlGnBu',\n",
    "    fill_opacity=0.8,\n",
    "    legend_name='Медианный рейтинг кофеен по районам',\n",
    ").add_to(m)\n",
    "\n",
    "\n",
    "\n",
    "# выводим карту\n",
    "m"
   ]
  },
  {
   "cell_type": "markdown",
   "metadata": {},
   "source": [
    "В Западном округе рейтинг ниже Москвы, но при этом достаточно много заведений."
   ]
  },
  {
   "cell_type": "code",
   "execution_count": null,
   "metadata": {},
   "outputs": [],
   "source": [
    "len(coffee[coffee['is_24/7']==True])"
   ]
  },
  {
   "cell_type": "code",
   "execution_count": null,
   "metadata": {
    "scrolled": true
   },
   "outputs": [],
   "source": [
    "is_24_coffee = coffee.groupby('is_24/7').agg({'name': 'count'})\n",
    "is_24_coffee = is_24_coffee['name']\n",
    "name= ['не 24/7','24/7']\n",
    "fig = go.Figure(data=[go.Pie(labels=name, values=is_24_coffee,title='Распределение кофеен по графику работы')])\n",
    "fig.show() "
   ]
  },
  {
   "cell_type": "markdown",
   "metadata": {},
   "source": [
    "59 кофеен работают 24/7, это всего 4% от общего числа"
   ]
  },
  {
   "cell_type": "code",
   "execution_count": null,
   "metadata": {},
   "outputs": [],
   "source": [
    "middle_avg_bill_coffee = coffee.groupby('district', as_index=False)['middle_coffee_cup'].agg('mean')\n",
    "middle_avg_bill_coffee"
   ]
  },
  {
   "cell_type": "code",
   "execution_count": null,
   "metadata": {
    "scrolled": true
   },
   "outputs": [],
   "source": [
    "# загружаем JSON-файл с границами округов Москвы\n",
    "state_geo = '/datasets/admin_level_geomap.geojson'\n",
    "# moscow_lat - широта центра Москвы, moscow_lng - долгота центра Москвы\n",
    "moscow_lat, moscow_lng = 55.751244, 37.618423\n",
    "\n",
    "# создаём карту Москвы\n",
    "m = Map(location=[moscow_lat, moscow_lng], zoom_start=10)\n",
    "\n",
    "marker_cluster = MarkerCluster().add_to(m)\n",
    "\n",
    "def create_clusters(row):\n",
    "    Marker(\n",
    "        [row['lat'], row['lng']],\n",
    "        popup=f\"{row['name']} {row['category']}\",\n",
    "    ).add_to(marker_cluster)\n",
    "\n",
    "# применяем функцию create_clusters() к каждой строке датафрейма\n",
    "coffee.apply(create_clusters, axis=1)\n",
    "\n",
    "# создаём хороплет с помощью конструктора Choropleth и добавляем его на карту\n",
    "Choropleth(\n",
    "    geo_data=state_geo,\n",
    "    data=middle_avg_bill_coffee,\n",
    "    columns=['district', 'middle_coffee_cup'],\n",
    "    key_on='feature.name',\n",
    "    fill_color='YlGnBu',\n",
    "    fill_opacity=0.8,\n",
    "    legend_name='Средняя стоимость чашки кофе по районам',\n",
    ").add_to(m)\n",
    "\n",
    "\n",
    "\n",
    "# выводим карту\n",
    "m"
   ]
  },
  {
   "cell_type": "markdown",
   "metadata": {},
   "source": [
    "- Самое дорогое кофе на Западе, Юго-Западе и в центре\n",
    "- Самое дешевое на Востоке и Юго-Востоке"
   ]
  },
  {
   "cell_type": "code",
   "execution_count": null,
   "metadata": {
    "scrolled": true
   },
   "outputs": [],
   "source": [
    "coffee['middle_coffee_cup'].hist(bins=50)"
   ]
  },
  {
   "cell_type": "markdown",
   "metadata": {},
   "source": [
    "Чашка кофе обойдется в сумму от 50 до 300 рублей"
   ]
  },
  {
   "cell_type": "markdown",
   "metadata": {},
   "source": [
    "При открытии стоит ориентироваться на цену по району. Рассмотрим 3 района, где меньше всего кофеен, а следовательно и конкуренция ниже."
   ]
  },
  {
   "cell_type": "code",
   "execution_count": null,
   "metadata": {},
   "outputs": [],
   "source": [
    "south_district = coffee.query('district == \"Южный административный округ\"')\n",
    "south_eastern_district = coffee.query('district == \"Юго-Восточный административный округ\"')\n",
    "north_west_district = coffee.query('district == \"Северо-Западный административный округ\"')\n"
   ]
  },
  {
   "cell_type": "code",
   "execution_count": null,
   "metadata": {
    "scrolled": true
   },
   "outputs": [],
   "source": [
    "south_district['middle_coffee_cup'].hist(bins=15)"
   ]
  },
  {
   "cell_type": "markdown",
   "metadata": {},
   "source": [
    "В южном округе чашечка кофе обойдется от 60 до 300 рублей"
   ]
  },
  {
   "cell_type": "code",
   "execution_count": null,
   "metadata": {
    "scrolled": true
   },
   "outputs": [],
   "source": [
    "south_eastern_district['middle_coffee_cup'].hist(bins=15)"
   ]
  },
  {
   "cell_type": "markdown",
   "metadata": {},
   "source": [
    "В Юго-Восточном 50 - 225"
   ]
  },
  {
   "cell_type": "code",
   "execution_count": null,
   "metadata": {},
   "outputs": [],
   "source": [
    "north_west_district['middle_avg_bill'].hist(bins=15)"
   ]
  },
  {
   "cell_type": "markdown",
   "metadata": {},
   "source": [
    "В Северо-Западном от 210 до 390 рублей"
   ]
  },
  {
   "cell_type": "markdown",
   "metadata": {},
   "source": [
    "На мой взгляд, лучше открывать кофейню в Северо-Западном округе, так как\n",
    "- Небольшое количество конкурентов, так как в этом районе кофеен немного\n",
    "- Высокая цена чашечки кофе у конкурентов, что позволяет не занижать цены\n",
    "- Так как в этом районе цена чашечки кофе начинается от 210 рублей, можно сделать чуть ниже, чтобы цены казались демократичнее\n",
    "- Круглосуточные заведения не пользуются популярностью"
   ]
  },
  {
   "cell_type": "markdown",
   "metadata": {},
   "source": [
    "Презентация <https://disk.yandex.ru/i/N7JMEMI3Cz4OIQ>"
   ]
  },
  {
   "cell_type": "code",
   "execution_count": null,
   "metadata": {},
   "outputs": [],
   "source": []
  }
 ],
 "metadata": {
  "ExecuteTimeLog": [
   {
    "duration": 142,
    "start_time": "2023-03-19T08:52:41.824Z"
   },
   {
    "duration": 1307,
    "start_time": "2023-03-19T08:53:13.154Z"
   },
   {
    "duration": 116,
    "start_time": "2023-03-19T08:53:31.161Z"
   },
   {
    "duration": 13,
    "start_time": "2023-03-19T08:53:44.255Z"
   },
   {
    "duration": 9,
    "start_time": "2023-03-19T08:54:11.726Z"
   },
   {
    "duration": 13,
    "start_time": "2023-03-19T08:56:48.696Z"
   },
   {
    "duration": 17,
    "start_time": "2023-03-19T09:04:58.837Z"
   },
   {
    "duration": 138,
    "start_time": "2023-03-19T09:10:44.067Z"
   },
   {
    "duration": 9,
    "start_time": "2023-03-19T09:10:51.834Z"
   },
   {
    "duration": 5,
    "start_time": "2023-03-19T09:12:42.546Z"
   },
   {
    "duration": 5,
    "start_time": "2023-03-19T09:12:49.640Z"
   },
   {
    "duration": 5,
    "start_time": "2023-03-19T09:20:47.831Z"
   },
   {
    "duration": 17,
    "start_time": "2023-03-19T09:26:26.102Z"
   },
   {
    "duration": 18,
    "start_time": "2023-03-19T09:26:36.714Z"
   },
   {
    "duration": 14,
    "start_time": "2023-03-19T09:27:41.534Z"
   },
   {
    "duration": 9,
    "start_time": "2023-03-19T09:27:46.026Z"
   },
   {
    "duration": 6,
    "start_time": "2023-03-19T09:29:03.936Z"
   },
   {
    "duration": 8,
    "start_time": "2023-03-19T09:32:25.846Z"
   },
   {
    "duration": 98,
    "start_time": "2023-03-19T09:32:55.919Z"
   },
   {
    "duration": 6,
    "start_time": "2023-03-19T09:33:01.857Z"
   },
   {
    "duration": 183,
    "start_time": "2023-03-19T09:37:57.672Z"
   },
   {
    "duration": 16,
    "start_time": "2023-03-19T09:38:57.921Z"
   },
   {
    "duration": 1497,
    "start_time": "2023-03-19T09:39:27.170Z"
   },
   {
    "duration": 0,
    "start_time": "2023-03-19T09:39:28.669Z"
   },
   {
    "duration": 3,
    "start_time": "2023-03-19T09:39:32.337Z"
   },
   {
    "duration": 96,
    "start_time": "2023-03-19T09:39:32.827Z"
   },
   {
    "duration": 13,
    "start_time": "2023-03-19T09:39:32.942Z"
   },
   {
    "duration": 7,
    "start_time": "2023-03-19T09:39:33.410Z"
   },
   {
    "duration": 11,
    "start_time": "2023-03-19T09:39:33.853Z"
   },
   {
    "duration": 21,
    "start_time": "2023-03-19T09:39:34.156Z"
   },
   {
    "duration": 13,
    "start_time": "2023-03-19T09:39:34.672Z"
   },
   {
    "duration": 11,
    "start_time": "2023-03-19T09:39:35.058Z"
   },
   {
    "duration": 8,
    "start_time": "2023-03-19T09:39:35.581Z"
   },
   {
    "duration": 23,
    "start_time": "2023-03-19T09:39:36.955Z"
   },
   {
    "duration": 15,
    "start_time": "2023-03-19T09:40:40.790Z"
   },
   {
    "duration": 36,
    "start_time": "2023-03-19T09:40:49.422Z"
   },
   {
    "duration": 85,
    "start_time": "2023-03-19T09:41:08.919Z"
   },
   {
    "duration": 49,
    "start_time": "2023-03-19T09:41:09.076Z"
   },
   {
    "duration": 4,
    "start_time": "2023-03-19T09:41:09.651Z"
   },
   {
    "duration": 10,
    "start_time": "2023-03-19T09:41:10.114Z"
   },
   {
    "duration": 26,
    "start_time": "2023-03-19T09:41:10.441Z"
   },
   {
    "duration": 13,
    "start_time": "2023-03-19T09:41:10.919Z"
   },
   {
    "duration": 9,
    "start_time": "2023-03-19T09:41:12.815Z"
   },
   {
    "duration": 39,
    "start_time": "2023-03-19T09:43:05.970Z"
   },
   {
    "duration": 12,
    "start_time": "2023-03-19T09:43:22.958Z"
   },
   {
    "duration": 22,
    "start_time": "2023-03-19T09:43:28.732Z"
   },
   {
    "duration": 10,
    "start_time": "2023-03-19T09:43:55.154Z"
   },
   {
    "duration": 8,
    "start_time": "2023-03-19T09:45:22.698Z"
   },
   {
    "duration": 8,
    "start_time": "2023-03-19T09:45:40.110Z"
   },
   {
    "duration": 7,
    "start_time": "2023-03-19T09:46:15.830Z"
   },
   {
    "duration": 8,
    "start_time": "2023-03-19T09:46:23.901Z"
   },
   {
    "duration": 4,
    "start_time": "2023-03-19T09:46:58.854Z"
   },
   {
    "duration": 13,
    "start_time": "2023-03-19T09:47:02.794Z"
   },
   {
    "duration": 10,
    "start_time": "2023-03-19T09:47:10.703Z"
   },
   {
    "duration": 9,
    "start_time": "2023-03-19T09:49:23.111Z"
   },
   {
    "duration": 20,
    "start_time": "2023-03-19T09:49:31.542Z"
   },
   {
    "duration": 15,
    "start_time": "2023-03-19T09:50:26.121Z"
   },
   {
    "duration": 13,
    "start_time": "2023-03-19T09:50:35.664Z"
   },
   {
    "duration": 18,
    "start_time": "2023-03-19T09:50:44.779Z"
   },
   {
    "duration": 5,
    "start_time": "2023-03-19T09:54:10.020Z"
   },
   {
    "duration": 10,
    "start_time": "2023-03-19T09:54:13.599Z"
   },
   {
    "duration": 369,
    "start_time": "2023-03-19T09:54:42.160Z"
   },
   {
    "duration": 344,
    "start_time": "2023-03-19T09:55:07.609Z"
   },
   {
    "duration": 20,
    "start_time": "2023-03-19T09:55:14.486Z"
   },
   {
    "duration": 18,
    "start_time": "2023-03-19T09:55:36.644Z"
   },
   {
    "duration": 9,
    "start_time": "2023-03-19T09:56:07.698Z"
   },
   {
    "duration": 26,
    "start_time": "2023-03-19T09:56:11.563Z"
   },
   {
    "duration": 19,
    "start_time": "2023-03-19T09:56:18.734Z"
   },
   {
    "duration": 11,
    "start_time": "2023-03-19T09:56:25.966Z"
   },
   {
    "duration": 30,
    "start_time": "2023-03-19T09:56:30.770Z"
   },
   {
    "duration": 7,
    "start_time": "2023-03-19T09:56:55.435Z"
   },
   {
    "duration": 13,
    "start_time": "2023-03-19T09:59:04.205Z"
   },
   {
    "duration": 19,
    "start_time": "2023-03-19T09:59:44.775Z"
   },
   {
    "duration": 5,
    "start_time": "2023-03-19T10:00:04.272Z"
   },
   {
    "duration": 3,
    "start_time": "2023-03-19T10:00:32.005Z"
   },
   {
    "duration": 7,
    "start_time": "2023-03-19T10:00:58.398Z"
   },
   {
    "duration": 35,
    "start_time": "2023-03-19T10:01:57.419Z"
   },
   {
    "duration": 181,
    "start_time": "2023-03-19T10:02:01.323Z"
   },
   {
    "duration": 15,
    "start_time": "2023-03-19T10:02:23.400Z"
   },
   {
    "duration": 4,
    "start_time": "2023-03-19T10:03:40.727Z"
   },
   {
    "duration": 13,
    "start_time": "2023-03-19T10:04:24.753Z"
   },
   {
    "duration": 7,
    "start_time": "2023-03-19T10:04:59.465Z"
   },
   {
    "duration": 12,
    "start_time": "2023-03-19T10:05:04.811Z"
   },
   {
    "duration": 16,
    "start_time": "2023-03-19T10:05:49.736Z"
   },
   {
    "duration": 12,
    "start_time": "2023-03-19T10:06:30.409Z"
   },
   {
    "duration": 8,
    "start_time": "2023-03-19T10:06:42.852Z"
   },
   {
    "duration": 10,
    "start_time": "2023-03-19T10:06:46.440Z"
   },
   {
    "duration": 9,
    "start_time": "2023-03-19T10:07:02.118Z"
   },
   {
    "duration": 4,
    "start_time": "2023-03-19T10:07:12.804Z"
   },
   {
    "duration": 93,
    "start_time": "2023-03-19T10:07:13.129Z"
   },
   {
    "duration": 28,
    "start_time": "2023-03-19T10:07:13.279Z"
   },
   {
    "duration": 4,
    "start_time": "2023-03-19T10:07:13.733Z"
   },
   {
    "duration": 9,
    "start_time": "2023-03-19T10:07:14.203Z"
   },
   {
    "duration": 19,
    "start_time": "2023-03-19T10:07:14.770Z"
   },
   {
    "duration": 11,
    "start_time": "2023-03-19T10:07:15.441Z"
   },
   {
    "duration": 21,
    "start_time": "2023-03-19T10:07:15.780Z"
   },
   {
    "duration": 14,
    "start_time": "2023-03-19T10:07:16.276Z"
   },
   {
    "duration": 6,
    "start_time": "2023-03-19T10:07:16.420Z"
   },
   {
    "duration": 13,
    "start_time": "2023-03-19T10:07:20.035Z"
   },
   {
    "duration": 10,
    "start_time": "2023-03-19T10:09:27.299Z"
   },
   {
    "duration": 49,
    "start_time": "2023-03-19T10:09:54.327Z"
   },
   {
    "duration": 11,
    "start_time": "2023-03-19T10:09:58.500Z"
   },
   {
    "duration": 15,
    "start_time": "2023-03-19T10:11:12.710Z"
   },
   {
    "duration": 10,
    "start_time": "2023-03-19T10:11:20.097Z"
   },
   {
    "duration": 12,
    "start_time": "2023-03-19T10:11:26.454Z"
   },
   {
    "duration": 23,
    "start_time": "2023-03-19T10:12:52.603Z"
   },
   {
    "duration": 25,
    "start_time": "2023-03-19T10:13:35.538Z"
   },
   {
    "duration": 9,
    "start_time": "2023-03-19T10:13:52.839Z"
   },
   {
    "duration": 9,
    "start_time": "2023-03-19T10:14:05.726Z"
   },
   {
    "duration": 9,
    "start_time": "2023-03-19T10:18:31.966Z"
   },
   {
    "duration": 12,
    "start_time": "2023-03-19T10:25:22.410Z"
   },
   {
    "duration": 12,
    "start_time": "2023-03-19T10:25:31.559Z"
   },
   {
    "duration": 15,
    "start_time": "2023-03-19T10:25:52.531Z"
   },
   {
    "duration": 15,
    "start_time": "2023-03-19T10:27:05.097Z"
   },
   {
    "duration": 12,
    "start_time": "2023-03-19T10:27:11.666Z"
   },
   {
    "duration": 10,
    "start_time": "2023-03-19T10:28:58.159Z"
   },
   {
    "duration": 10,
    "start_time": "2023-03-19T10:29:00.904Z"
   },
   {
    "duration": 14,
    "start_time": "2023-03-19T10:33:23.539Z"
   },
   {
    "duration": 15,
    "start_time": "2023-03-19T10:33:38.668Z"
   },
   {
    "duration": 10,
    "start_time": "2023-03-19T10:33:45.551Z"
   },
   {
    "duration": 3,
    "start_time": "2023-03-19T10:35:35.173Z"
   },
   {
    "duration": 9,
    "start_time": "2023-03-19T10:38:22.624Z"
   },
   {
    "duration": 24,
    "start_time": "2023-03-19T10:40:01.261Z"
   },
   {
    "duration": 295,
    "start_time": "2023-03-19T10:41:05.426Z"
   },
   {
    "duration": 192,
    "start_time": "2023-03-19T10:41:39.368Z"
   },
   {
    "duration": 90,
    "start_time": "2023-03-19T10:46:36.421Z"
   },
   {
    "duration": 83,
    "start_time": "2023-03-19T10:49:51.906Z"
   },
   {
    "duration": 17,
    "start_time": "2023-03-19T10:50:48.821Z"
   },
   {
    "duration": 17,
    "start_time": "2023-03-19T10:51:01.764Z"
   },
   {
    "duration": 19,
    "start_time": "2023-03-19T10:51:16.670Z"
   },
   {
    "duration": 14,
    "start_time": "2023-03-19T10:51:28.107Z"
   },
   {
    "duration": 17,
    "start_time": "2023-03-19T10:51:41.838Z"
   },
   {
    "duration": 91,
    "start_time": "2023-03-19T10:51:50.438Z"
   },
   {
    "duration": 11,
    "start_time": "2023-03-19T10:51:55.681Z"
   },
   {
    "duration": 18,
    "start_time": "2023-03-19T10:52:20.348Z"
   },
   {
    "duration": 19,
    "start_time": "2023-03-19T10:52:38.599Z"
   },
   {
    "duration": 1594,
    "start_time": "2023-03-19T10:53:22.850Z"
   },
   {
    "duration": 93,
    "start_time": "2023-03-19T10:53:24.446Z"
   },
   {
    "duration": 24,
    "start_time": "2023-03-19T10:53:24.541Z"
   },
   {
    "duration": 4,
    "start_time": "2023-03-19T10:53:24.579Z"
   },
   {
    "duration": 18,
    "start_time": "2023-03-19T10:53:24.588Z"
   },
   {
    "duration": 26,
    "start_time": "2023-03-19T10:53:24.608Z"
   },
   {
    "duration": 12,
    "start_time": "2023-03-19T10:53:24.636Z"
   },
   {
    "duration": 31,
    "start_time": "2023-03-19T10:53:24.651Z"
   },
   {
    "duration": 11,
    "start_time": "2023-03-19T10:53:24.684Z"
   },
   {
    "duration": 10,
    "start_time": "2023-03-19T10:53:24.699Z"
   },
   {
    "duration": 192,
    "start_time": "2023-03-19T10:53:24.713Z"
   },
   {
    "duration": 9,
    "start_time": "2023-03-19T10:53:24.907Z"
   },
   {
    "duration": 67,
    "start_time": "2023-03-19T10:53:24.918Z"
   },
   {
    "duration": 388,
    "start_time": "2023-03-19T10:53:24.987Z"
   },
   {
    "duration": 234,
    "start_time": "2023-03-19T10:53:25.377Z"
   },
   {
    "duration": 31,
    "start_time": "2023-03-19T10:53:40.802Z"
   },
   {
    "duration": 1264,
    "start_time": "2023-03-19T10:54:18.008Z"
   },
   {
    "duration": 0,
    "start_time": "2023-03-19T10:54:19.274Z"
   },
   {
    "duration": 0,
    "start_time": "2023-03-19T10:54:19.275Z"
   },
   {
    "duration": 17,
    "start_time": "2023-03-19T10:54:19.337Z"
   },
   {
    "duration": 1297,
    "start_time": "2023-03-19T10:54:19.649Z"
   },
   {
    "duration": 0,
    "start_time": "2023-03-19T10:54:20.948Z"
   },
   {
    "duration": 0,
    "start_time": "2023-03-19T10:54:20.950Z"
   },
   {
    "duration": 0,
    "start_time": "2023-03-19T10:54:20.951Z"
   },
   {
    "duration": 17,
    "start_time": "2023-03-19T10:54:22.734Z"
   },
   {
    "duration": 1521,
    "start_time": "2023-03-19T10:54:37.468Z"
   },
   {
    "duration": 100,
    "start_time": "2023-03-19T10:54:38.991Z"
   },
   {
    "duration": 22,
    "start_time": "2023-03-19T10:54:39.093Z"
   },
   {
    "duration": 12,
    "start_time": "2023-03-19T10:54:39.117Z"
   },
   {
    "duration": 18,
    "start_time": "2023-03-19T10:54:39.131Z"
   },
   {
    "duration": 39,
    "start_time": "2023-03-19T10:54:39.151Z"
   },
   {
    "duration": 14,
    "start_time": "2023-03-19T10:54:39.192Z"
   },
   {
    "duration": 22,
    "start_time": "2023-03-19T10:54:39.208Z"
   },
   {
    "duration": 8,
    "start_time": "2023-03-19T10:54:39.232Z"
   },
   {
    "duration": 13,
    "start_time": "2023-03-19T10:54:39.242Z"
   },
   {
    "duration": 209,
    "start_time": "2023-03-19T10:54:39.257Z"
   },
   {
    "duration": 10,
    "start_time": "2023-03-19T10:54:39.480Z"
   },
   {
    "duration": 21,
    "start_time": "2023-03-19T10:54:39.493Z"
   },
   {
    "duration": 381,
    "start_time": "2023-03-19T10:54:39.518Z"
   },
   {
    "duration": 25,
    "start_time": "2023-03-19T10:54:39.902Z"
   },
   {
    "duration": 251,
    "start_time": "2023-03-19T10:54:39.930Z"
   },
   {
    "duration": 1553,
    "start_time": "2023-03-19T10:54:55.188Z"
   },
   {
    "duration": 89,
    "start_time": "2023-03-19T10:54:56.743Z"
   },
   {
    "duration": 23,
    "start_time": "2023-03-19T10:54:56.834Z"
   },
   {
    "duration": 11,
    "start_time": "2023-03-19T10:54:56.859Z"
   },
   {
    "duration": 29,
    "start_time": "2023-03-19T10:54:56.873Z"
   },
   {
    "duration": 35,
    "start_time": "2023-03-19T10:54:56.904Z"
   },
   {
    "duration": 13,
    "start_time": "2023-03-19T10:54:56.942Z"
   },
   {
    "duration": 30,
    "start_time": "2023-03-19T10:54:56.959Z"
   },
   {
    "duration": 22,
    "start_time": "2023-03-19T10:54:56.992Z"
   },
   {
    "duration": 10,
    "start_time": "2023-03-19T10:54:57.017Z"
   },
   {
    "duration": 197,
    "start_time": "2023-03-19T10:54:57.029Z"
   },
   {
    "duration": 74,
    "start_time": "2023-03-19T10:54:57.229Z"
   },
   {
    "duration": 9,
    "start_time": "2023-03-19T10:54:57.305Z"
   },
   {
    "duration": 70,
    "start_time": "2023-03-19T10:54:57.320Z"
   },
   {
    "duration": 333,
    "start_time": "2023-03-19T10:54:57.392Z"
   },
   {
    "duration": 22,
    "start_time": "2023-03-19T10:54:57.727Z"
   },
   {
    "duration": 232,
    "start_time": "2023-03-19T10:54:57.751Z"
   },
   {
    "duration": 1290,
    "start_time": "2023-03-19T10:58:01.834Z"
   },
   {
    "duration": 67,
    "start_time": "2023-03-19T10:58:03.126Z"
   },
   {
    "duration": 16,
    "start_time": "2023-03-19T10:58:03.194Z"
   },
   {
    "duration": 4,
    "start_time": "2023-03-19T10:58:03.212Z"
   },
   {
    "duration": 20,
    "start_time": "2023-03-19T10:58:03.218Z"
   },
   {
    "duration": 45,
    "start_time": "2023-03-19T10:58:03.240Z"
   },
   {
    "duration": 12,
    "start_time": "2023-03-19T10:58:03.286Z"
   },
   {
    "duration": 13,
    "start_time": "2023-03-19T10:58:03.300Z"
   },
   {
    "duration": 11,
    "start_time": "2023-03-19T10:58:03.314Z"
   },
   {
    "duration": 10,
    "start_time": "2023-03-19T10:58:03.327Z"
   },
   {
    "duration": 146,
    "start_time": "2023-03-19T10:58:03.339Z"
   },
   {
    "duration": 9,
    "start_time": "2023-03-19T10:58:03.488Z"
   },
   {
    "duration": 19,
    "start_time": "2023-03-19T10:58:03.499Z"
   },
   {
    "duration": 396,
    "start_time": "2023-03-19T10:58:03.520Z"
   },
   {
    "duration": 23,
    "start_time": "2023-03-19T10:58:03.918Z"
   },
   {
    "duration": 32,
    "start_time": "2023-03-19T10:58:03.943Z"
   },
   {
    "duration": 12,
    "start_time": "2023-03-19T10:58:45.499Z"
   },
   {
    "duration": 8,
    "start_time": "2023-03-19T11:23:55.956Z"
   },
   {
    "duration": 169,
    "start_time": "2023-03-19T11:40:36.535Z"
   },
   {
    "duration": 9,
    "start_time": "2023-03-19T11:40:43.638Z"
   },
   {
    "duration": 10,
    "start_time": "2023-03-19T11:40:46.447Z"
   },
   {
    "duration": 33,
    "start_time": "2023-03-19T11:40:50.479Z"
   },
   {
    "duration": 20,
    "start_time": "2023-03-19T11:40:56.951Z"
   },
   {
    "duration": 1466,
    "start_time": "2023-03-19T13:12:40.504Z"
   },
   {
    "duration": 296,
    "start_time": "2023-03-19T13:12:41.973Z"
   },
   {
    "duration": 22,
    "start_time": "2023-03-19T13:12:42.272Z"
   },
   {
    "duration": 4,
    "start_time": "2023-03-19T13:12:42.297Z"
   },
   {
    "duration": 17,
    "start_time": "2023-03-19T13:12:42.303Z"
   },
   {
    "duration": 18,
    "start_time": "2023-03-19T13:12:42.322Z"
   },
   {
    "duration": 36,
    "start_time": "2023-03-19T13:12:42.342Z"
   },
   {
    "duration": 13,
    "start_time": "2023-03-19T13:12:42.381Z"
   },
   {
    "duration": 7,
    "start_time": "2023-03-19T13:12:42.396Z"
   },
   {
    "duration": 7,
    "start_time": "2023-03-19T13:12:42.406Z"
   },
   {
    "duration": 207,
    "start_time": "2023-03-19T13:12:42.415Z"
   },
   {
    "duration": 10,
    "start_time": "2023-03-19T13:12:42.625Z"
   },
   {
    "duration": 21,
    "start_time": "2023-03-19T13:12:42.637Z"
   },
   {
    "duration": 308,
    "start_time": "2023-03-19T13:12:42.660Z"
   },
   {
    "duration": 23,
    "start_time": "2023-03-19T13:12:42.970Z"
   },
   {
    "duration": 10,
    "start_time": "2023-03-19T13:12:42.995Z"
   },
   {
    "duration": 47,
    "start_time": "2023-03-19T13:12:43.007Z"
   },
   {
    "duration": 0,
    "start_time": "2023-03-19T13:12:43.055Z"
   },
   {
    "duration": 209,
    "start_time": "2023-03-19T13:46:39.425Z"
   },
   {
    "duration": 124,
    "start_time": "2023-03-19T13:46:59.774Z"
   },
   {
    "duration": 124,
    "start_time": "2023-03-19T13:47:05.334Z"
   },
   {
    "duration": 130,
    "start_time": "2023-03-19T13:47:12.803Z"
   },
   {
    "duration": 164,
    "start_time": "2023-03-19T13:47:31.439Z"
   },
   {
    "duration": 33,
    "start_time": "2023-03-19T13:59:27.797Z"
   },
   {
    "duration": 12,
    "start_time": "2023-03-19T14:14:19.225Z"
   },
   {
    "duration": 37,
    "start_time": "2023-03-19T14:15:19.369Z"
   },
   {
    "duration": 18,
    "start_time": "2023-03-19T14:15:35.289Z"
   },
   {
    "duration": 58,
    "start_time": "2023-03-19T14:26:36.190Z"
   },
   {
    "duration": 60,
    "start_time": "2023-03-19T14:26:47.653Z"
   },
   {
    "duration": 445,
    "start_time": "2023-03-19T14:35:06.762Z"
   },
   {
    "duration": 1168,
    "start_time": "2023-03-19T14:35:25.530Z"
   },
   {
    "duration": 15,
    "start_time": "2023-03-19T14:35:42.426Z"
   },
   {
    "duration": 15,
    "start_time": "2023-03-19T14:36:25.347Z"
   },
   {
    "duration": 13,
    "start_time": "2023-03-19T14:36:42.489Z"
   },
   {
    "duration": 16,
    "start_time": "2023-03-19T14:39:20.287Z"
   },
   {
    "duration": 17,
    "start_time": "2023-03-19T14:40:29.247Z"
   },
   {
    "duration": 14,
    "start_time": "2023-03-19T14:40:49.712Z"
   },
   {
    "duration": 13,
    "start_time": "2023-03-19T14:41:27.164Z"
   },
   {
    "duration": 14,
    "start_time": "2023-03-19T14:41:44.597Z"
   },
   {
    "duration": 4,
    "start_time": "2023-03-19T14:41:57.613Z"
   },
   {
    "duration": 6,
    "start_time": "2023-03-19T14:42:03.518Z"
   },
   {
    "duration": 9,
    "start_time": "2023-03-19T14:42:10.582Z"
   },
   {
    "duration": 12,
    "start_time": "2023-03-19T14:42:19.657Z"
   },
   {
    "duration": 24,
    "start_time": "2023-03-19T14:42:54.487Z"
   },
   {
    "duration": 6,
    "start_time": "2023-03-19T14:43:01.364Z"
   },
   {
    "duration": 23,
    "start_time": "2023-03-19T14:45:11.725Z"
   },
   {
    "duration": 51,
    "start_time": "2023-03-19T14:47:31.357Z"
   },
   {
    "duration": 306,
    "start_time": "2023-03-19T14:54:47.533Z"
   },
   {
    "duration": 14,
    "start_time": "2023-03-19T14:55:11.494Z"
   },
   {
    "duration": 23,
    "start_time": "2023-03-19T14:58:25.426Z"
   },
   {
    "duration": 3,
    "start_time": "2023-03-19T14:59:02.996Z"
   },
   {
    "duration": 6,
    "start_time": "2023-03-19T14:59:11.286Z"
   },
   {
    "duration": 21,
    "start_time": "2023-03-19T14:59:15.550Z"
   },
   {
    "duration": 786,
    "start_time": "2023-03-19T14:59:40.426Z"
   },
   {
    "duration": 784,
    "start_time": "2023-03-19T14:59:50.023Z"
   },
   {
    "duration": 1436,
    "start_time": "2023-03-19T15:01:21.587Z"
   },
   {
    "duration": 77,
    "start_time": "2023-03-19T15:01:23.025Z"
   },
   {
    "duration": 14,
    "start_time": "2023-03-19T15:01:23.105Z"
   },
   {
    "duration": 3,
    "start_time": "2023-03-19T15:01:23.121Z"
   },
   {
    "duration": 13,
    "start_time": "2023-03-19T15:01:23.126Z"
   },
   {
    "duration": 44,
    "start_time": "2023-03-19T15:01:23.140Z"
   },
   {
    "duration": 12,
    "start_time": "2023-03-19T15:01:23.186Z"
   },
   {
    "duration": 11,
    "start_time": "2023-03-19T15:01:23.200Z"
   },
   {
    "duration": 23,
    "start_time": "2023-03-19T15:01:23.213Z"
   },
   {
    "duration": 10,
    "start_time": "2023-03-19T15:01:23.238Z"
   },
   {
    "duration": 145,
    "start_time": "2023-03-19T15:01:23.250Z"
   },
   {
    "duration": 7,
    "start_time": "2023-03-19T15:01:23.397Z"
   },
   {
    "duration": 14,
    "start_time": "2023-03-19T15:01:23.405Z"
   },
   {
    "duration": 404,
    "start_time": "2023-03-19T15:01:23.421Z"
   },
   {
    "duration": 9,
    "start_time": "2023-03-19T15:01:23.827Z"
   },
   {
    "duration": 8,
    "start_time": "2023-03-19T15:01:23.838Z"
   },
   {
    "duration": 144,
    "start_time": "2023-03-19T15:01:23.848Z"
   },
   {
    "duration": 29,
    "start_time": "2023-03-19T15:01:23.994Z"
   },
   {
    "duration": 56,
    "start_time": "2023-03-19T15:01:24.025Z"
   },
   {
    "duration": 73,
    "start_time": "2023-03-19T15:01:24.083Z"
   },
   {
    "duration": 44,
    "start_time": "2023-03-19T15:01:24.158Z"
   },
   {
    "duration": 15,
    "start_time": "2023-03-19T15:01:24.204Z"
   },
   {
    "duration": 1618,
    "start_time": "2023-03-21T17:29:48.749Z"
   },
   {
    "duration": 130,
    "start_time": "2023-03-21T17:29:50.370Z"
   },
   {
    "duration": 20,
    "start_time": "2023-03-21T17:29:50.503Z"
   },
   {
    "duration": 4,
    "start_time": "2023-03-21T17:29:50.525Z"
   },
   {
    "duration": 15,
    "start_time": "2023-03-21T17:29:50.530Z"
   },
   {
    "duration": 35,
    "start_time": "2023-03-21T17:29:50.546Z"
   },
   {
    "duration": 18,
    "start_time": "2023-03-21T17:29:50.583Z"
   },
   {
    "duration": 14,
    "start_time": "2023-03-21T17:29:50.603Z"
   },
   {
    "duration": 34,
    "start_time": "2023-03-21T17:29:50.619Z"
   },
   {
    "duration": 19,
    "start_time": "2023-03-21T17:29:50.655Z"
   },
   {
    "duration": 158,
    "start_time": "2023-03-21T17:29:50.676Z"
   },
   {
    "duration": 7,
    "start_time": "2023-03-21T17:29:50.836Z"
   },
   {
    "duration": 26,
    "start_time": "2023-03-21T17:29:50.845Z"
   },
   {
    "duration": 357,
    "start_time": "2023-03-21T17:29:50.898Z"
   },
   {
    "duration": 8,
    "start_time": "2023-03-21T17:29:51.257Z"
   },
   {
    "duration": 44,
    "start_time": "2023-03-21T17:29:51.267Z"
   },
   {
    "duration": 135,
    "start_time": "2023-03-21T17:29:51.312Z"
   },
   {
    "duration": 49,
    "start_time": "2023-03-21T17:29:51.449Z"
   },
   {
    "duration": 13,
    "start_time": "2023-03-21T17:29:51.500Z"
   },
   {
    "duration": 85,
    "start_time": "2023-03-21T17:29:51.514Z"
   },
   {
    "duration": 54,
    "start_time": "2023-03-21T17:29:51.600Z"
   },
   {
    "duration": 35,
    "start_time": "2023-03-21T17:29:51.656Z"
   },
   {
    "duration": 6,
    "start_time": "2023-03-21T17:37:06.614Z"
   },
   {
    "duration": 549,
    "start_time": "2023-03-21T17:38:57.538Z"
   },
   {
    "duration": 159,
    "start_time": "2023-03-21T18:16:44.293Z"
   },
   {
    "duration": 88,
    "start_time": "2023-03-21T18:22:47.601Z"
   },
   {
    "duration": 5,
    "start_time": "2023-03-21T18:28:44.276Z"
   },
   {
    "duration": 5,
    "start_time": "2023-03-21T18:28:48.386Z"
   },
   {
    "duration": 11,
    "start_time": "2023-03-21T18:28:54.165Z"
   },
   {
    "duration": 230,
    "start_time": "2023-03-21T18:30:22.919Z"
   },
   {
    "duration": 14,
    "start_time": "2023-03-21T18:31:24.986Z"
   },
   {
    "duration": 16,
    "start_time": "2023-03-21T18:34:12.476Z"
   },
   {
    "duration": 161,
    "start_time": "2023-03-21T18:36:33.824Z"
   },
   {
    "duration": 213,
    "start_time": "2023-03-21T18:38:29.140Z"
   },
   {
    "duration": 973,
    "start_time": "2023-03-21T18:43:26.956Z"
   },
   {
    "duration": 848,
    "start_time": "2023-03-21T18:46:13.450Z"
   },
   {
    "duration": 892,
    "start_time": "2023-03-21T18:46:59.128Z"
   },
   {
    "duration": 10667,
    "start_time": "2023-03-21T18:47:31.714Z"
   },
   {
    "duration": 10,
    "start_time": "2023-03-21T19:12:15.625Z"
   },
   {
    "duration": 10,
    "start_time": "2023-03-21T19:12:44.803Z"
   },
   {
    "duration": 10,
    "start_time": "2023-03-21T19:12:50.834Z"
   },
   {
    "duration": 15,
    "start_time": "2023-03-21T19:13:17.935Z"
   },
   {
    "duration": 32642,
    "start_time": "2023-03-21T19:14:28.713Z"
   },
   {
    "duration": 30615,
    "start_time": "2023-03-21T19:15:01.358Z"
   },
   {
    "duration": 10,
    "start_time": "2023-03-21T19:15:46.224Z"
   },
   {
    "duration": 22,
    "start_time": "2023-03-21T19:16:04.295Z"
   },
   {
    "duration": 10,
    "start_time": "2023-03-21T19:16:11.120Z"
   },
   {
    "duration": 12,
    "start_time": "2023-03-21T19:16:23.752Z"
   },
   {
    "duration": 9,
    "start_time": "2023-03-21T19:16:30.377Z"
   },
   {
    "duration": 226,
    "start_time": "2023-03-21T19:16:40.665Z"
   },
   {
    "duration": 14,
    "start_time": "2023-03-21T19:30:33.611Z"
   },
   {
    "duration": 11,
    "start_time": "2023-03-21T19:31:16.425Z"
   },
   {
    "duration": 4,
    "start_time": "2023-03-21T19:34:19.081Z"
   },
   {
    "duration": 12,
    "start_time": "2023-03-21T19:34:59.459Z"
   },
   {
    "duration": 10,
    "start_time": "2023-03-21T19:35:03.559Z"
   },
   {
    "duration": 12,
    "start_time": "2023-03-21T19:35:08.543Z"
   },
   {
    "duration": 26,
    "start_time": "2023-03-21T19:35:20.116Z"
   },
   {
    "duration": 13,
    "start_time": "2023-03-21T19:38:22.395Z"
   },
   {
    "duration": 25,
    "start_time": "2023-03-21T19:38:29.650Z"
   },
   {
    "duration": 29,
    "start_time": "2023-03-21T19:38:46.994Z"
   },
   {
    "duration": 12,
    "start_time": "2023-03-21T19:40:04.083Z"
   },
   {
    "duration": 14,
    "start_time": "2023-03-21T19:40:12.431Z"
   },
   {
    "duration": 329,
    "start_time": "2023-03-21T19:40:16.840Z"
   },
   {
    "duration": 24,
    "start_time": "2023-03-21T19:43:31.409Z"
   },
   {
    "duration": 890,
    "start_time": "2023-03-21T19:43:41.483Z"
   },
   {
    "duration": 16265,
    "start_time": "2023-03-21T19:43:52.100Z"
   },
   {
    "duration": 19,
    "start_time": "2023-03-21T19:44:30.333Z"
   },
   {
    "duration": 250,
    "start_time": "2023-03-21T19:44:42.316Z"
   },
   {
    "duration": 8,
    "start_time": "2023-03-21T19:44:50.994Z"
   },
   {
    "duration": 14,
    "start_time": "2023-03-21T19:45:00.983Z"
   },
   {
    "duration": 219,
    "start_time": "2023-03-21T19:45:08.341Z"
   },
   {
    "duration": 15878,
    "start_time": "2023-03-21T19:45:20.386Z"
   },
   {
    "duration": 217,
    "start_time": "2023-03-21T19:48:01.982Z"
   },
   {
    "duration": 219,
    "start_time": "2023-03-21T19:48:08.281Z"
   },
   {
    "duration": 4,
    "start_time": "2023-03-21T19:48:17.983Z"
   },
   {
    "duration": 25,
    "start_time": "2023-03-21T19:48:32.681Z"
   },
   {
    "duration": 627,
    "start_time": "2023-03-21T19:51:21.688Z"
   },
   {
    "duration": 589,
    "start_time": "2023-03-21T19:51:37.928Z"
   },
   {
    "duration": 473,
    "start_time": "2023-03-21T19:51:52.745Z"
   },
   {
    "duration": 8,
    "start_time": "2023-03-21T19:54:28.090Z"
   },
   {
    "duration": 9,
    "start_time": "2023-03-21T19:54:31.865Z"
   },
   {
    "duration": 9,
    "start_time": "2023-03-21T19:54:39.521Z"
   },
   {
    "duration": 9,
    "start_time": "2023-03-21T19:54:48.565Z"
   },
   {
    "duration": 13,
    "start_time": "2023-03-21T19:57:32.046Z"
   },
   {
    "duration": 19,
    "start_time": "2023-03-21T19:57:43.082Z"
   },
   {
    "duration": 6,
    "start_time": "2023-03-21T19:59:41.377Z"
   },
   {
    "duration": 26,
    "start_time": "2023-03-21T20:00:14.492Z"
   },
   {
    "duration": 19,
    "start_time": "2023-03-21T20:01:08.160Z"
   },
   {
    "duration": 7,
    "start_time": "2023-03-21T20:01:15.559Z"
   },
   {
    "duration": 14,
    "start_time": "2023-03-21T20:01:18.307Z"
   },
   {
    "duration": 6,
    "start_time": "2023-03-21T20:01:27.306Z"
   },
   {
    "duration": 34,
    "start_time": "2023-03-21T20:01:32.640Z"
   },
   {
    "duration": 11,
    "start_time": "2023-03-21T20:02:22.920Z"
   },
   {
    "duration": 22,
    "start_time": "2023-03-21T20:02:28.221Z"
   },
   {
    "duration": 18,
    "start_time": "2023-03-21T20:02:31.541Z"
   },
   {
    "duration": 22,
    "start_time": "2023-03-21T20:02:35.115Z"
   },
   {
    "duration": 27,
    "start_time": "2023-03-21T20:02:46.382Z"
   },
   {
    "duration": 6,
    "start_time": "2023-03-21T20:03:00.565Z"
   },
   {
    "duration": 7,
    "start_time": "2023-03-21T20:03:07.962Z"
   },
   {
    "duration": 1481,
    "start_time": "2023-03-21T20:04:24.532Z"
   },
   {
    "duration": 78,
    "start_time": "2023-03-21T20:04:26.015Z"
   },
   {
    "duration": 14,
    "start_time": "2023-03-21T20:04:26.095Z"
   },
   {
    "duration": 7,
    "start_time": "2023-03-21T20:04:26.111Z"
   },
   {
    "duration": 16,
    "start_time": "2023-03-21T20:04:26.119Z"
   },
   {
    "duration": 17,
    "start_time": "2023-03-21T20:04:26.137Z"
   },
   {
    "duration": 9,
    "start_time": "2023-03-21T20:04:26.156Z"
   },
   {
    "duration": 33,
    "start_time": "2023-03-21T20:04:26.166Z"
   },
   {
    "duration": 16,
    "start_time": "2023-03-21T20:04:26.202Z"
   },
   {
    "duration": 12,
    "start_time": "2023-03-21T20:04:26.220Z"
   },
   {
    "duration": 135,
    "start_time": "2023-03-21T20:04:26.234Z"
   },
   {
    "duration": 7,
    "start_time": "2023-03-21T20:04:26.370Z"
   },
   {
    "duration": 13,
    "start_time": "2023-03-21T20:04:26.396Z"
   },
   {
    "duration": 403,
    "start_time": "2023-03-21T20:04:26.411Z"
   },
   {
    "duration": 14,
    "start_time": "2023-03-21T20:04:26.817Z"
   },
   {
    "duration": 14,
    "start_time": "2023-03-21T20:04:26.832Z"
   },
   {
    "duration": 156,
    "start_time": "2023-03-21T20:04:26.848Z"
   },
   {
    "duration": 30,
    "start_time": "2023-03-21T20:04:27.005Z"
   },
   {
    "duration": 14,
    "start_time": "2023-03-21T20:04:27.036Z"
   },
   {
    "duration": 100,
    "start_time": "2023-03-21T20:04:27.052Z"
   },
   {
    "duration": 24,
    "start_time": "2023-03-21T20:04:27.154Z"
   },
   {
    "duration": 18,
    "start_time": "2023-03-21T20:04:27.180Z"
   },
   {
    "duration": 545,
    "start_time": "2023-03-21T20:04:27.200Z"
   },
   {
    "duration": 170,
    "start_time": "2023-03-21T20:04:27.751Z"
   },
   {
    "duration": 13,
    "start_time": "2023-03-21T20:04:27.923Z"
   },
   {
    "duration": 10498,
    "start_time": "2023-03-21T20:04:27.939Z"
   },
   {
    "duration": 223,
    "start_time": "2023-03-21T20:04:38.439Z"
   },
   {
    "duration": 964,
    "start_time": "2023-03-21T20:04:38.665Z"
   },
   {
    "duration": 19,
    "start_time": "2023-03-21T20:04:39.630Z"
   },
   {
    "duration": 49,
    "start_time": "2023-03-21T20:04:39.651Z"
   },
   {
    "duration": 8,
    "start_time": "2023-03-21T20:04:39.702Z"
   },
   {
    "duration": 16,
    "start_time": "2023-03-21T20:04:39.712Z"
   },
   {
    "duration": 1936,
    "start_time": "2023-03-22T16:45:03.177Z"
   },
   {
    "duration": 275,
    "start_time": "2023-03-22T16:45:05.115Z"
   },
   {
    "duration": 28,
    "start_time": "2023-03-22T16:45:05.400Z"
   },
   {
    "duration": 4,
    "start_time": "2023-03-22T16:45:05.436Z"
   },
   {
    "duration": 20,
    "start_time": "2023-03-22T16:45:05.442Z"
   },
   {
    "duration": 26,
    "start_time": "2023-03-22T16:45:05.464Z"
   },
   {
    "duration": 12,
    "start_time": "2023-03-22T16:45:05.492Z"
   },
   {
    "duration": 24,
    "start_time": "2023-03-22T16:45:05.506Z"
   },
   {
    "duration": 17,
    "start_time": "2023-03-22T16:45:05.534Z"
   },
   {
    "duration": 9,
    "start_time": "2023-03-22T16:45:05.562Z"
   },
   {
    "duration": 177,
    "start_time": "2023-03-22T16:45:05.574Z"
   },
   {
    "duration": 10,
    "start_time": "2023-03-22T16:45:05.753Z"
   },
   {
    "duration": 16,
    "start_time": "2023-03-22T16:45:05.765Z"
   },
   {
    "duration": 475,
    "start_time": "2023-03-22T16:45:05.783Z"
   },
   {
    "duration": 13,
    "start_time": "2023-03-22T16:45:06.262Z"
   },
   {
    "duration": 15,
    "start_time": "2023-03-22T16:45:06.277Z"
   },
   {
    "duration": 213,
    "start_time": "2023-03-22T16:45:06.293Z"
   },
   {
    "duration": 71,
    "start_time": "2023-03-22T16:45:06.508Z"
   },
   {
    "duration": 18,
    "start_time": "2023-03-22T16:45:06.582Z"
   },
   {
    "duration": 113,
    "start_time": "2023-03-22T16:45:06.602Z"
   },
   {
    "duration": 50,
    "start_time": "2023-03-22T16:45:06.717Z"
   },
   {
    "duration": 8,
    "start_time": "2023-03-22T16:45:06.769Z"
   },
   {
    "duration": 607,
    "start_time": "2023-03-22T16:45:06.779Z"
   },
   {
    "duration": 184,
    "start_time": "2023-03-22T16:45:07.389Z"
   },
   {
    "duration": 17,
    "start_time": "2023-03-22T16:45:07.576Z"
   },
   {
    "duration": 10547,
    "start_time": "2023-03-22T16:45:07.595Z"
   },
   {
    "duration": 430,
    "start_time": "2023-03-22T16:45:18.147Z"
   },
   {
    "duration": 663,
    "start_time": "2023-03-22T16:45:18.578Z"
   },
   {
    "duration": 24,
    "start_time": "2023-03-22T16:45:19.243Z"
   },
   {
    "duration": 34,
    "start_time": "2023-03-22T16:45:19.269Z"
   },
   {
    "duration": 9,
    "start_time": "2023-03-22T16:45:19.306Z"
   },
   {
    "duration": 10,
    "start_time": "2023-03-22T16:45:19.316Z"
   },
   {
    "duration": 14,
    "start_time": "2023-03-22T16:47:41.973Z"
   },
   {
    "duration": 11,
    "start_time": "2023-03-22T16:47:50.926Z"
   },
   {
    "duration": 16,
    "start_time": "2023-03-22T16:47:56.666Z"
   },
   {
    "duration": 10479,
    "start_time": "2023-03-22T16:49:24.559Z"
   },
   {
    "duration": 193,
    "start_time": "2023-03-22T16:58:04.418Z"
   },
   {
    "duration": 26,
    "start_time": "2023-03-22T16:59:22.926Z"
   },
   {
    "duration": 1629,
    "start_time": "2023-03-22T17:00:22.453Z"
   },
   {
    "duration": 100,
    "start_time": "2023-03-22T17:00:24.085Z"
   },
   {
    "duration": 23,
    "start_time": "2023-03-22T17:00:24.189Z"
   },
   {
    "duration": 6,
    "start_time": "2023-03-22T17:00:24.214Z"
   },
   {
    "duration": 15,
    "start_time": "2023-03-22T17:00:24.223Z"
   },
   {
    "duration": 41,
    "start_time": "2023-03-22T17:00:24.240Z"
   },
   {
    "duration": 12,
    "start_time": "2023-03-22T17:00:24.283Z"
   },
   {
    "duration": 11,
    "start_time": "2023-03-22T17:00:24.297Z"
   },
   {
    "duration": 8,
    "start_time": "2023-03-22T17:00:24.310Z"
   },
   {
    "duration": 11,
    "start_time": "2023-03-22T17:00:24.320Z"
   },
   {
    "duration": 205,
    "start_time": "2023-03-22T17:00:24.333Z"
   },
   {
    "duration": 9,
    "start_time": "2023-03-22T17:00:24.540Z"
   },
   {
    "duration": 14,
    "start_time": "2023-03-22T17:00:24.551Z"
   },
   {
    "duration": 480,
    "start_time": "2023-03-22T17:00:24.570Z"
   },
   {
    "duration": 12,
    "start_time": "2023-03-22T17:00:25.061Z"
   },
   {
    "duration": 21,
    "start_time": "2023-03-22T17:00:25.075Z"
   },
   {
    "duration": 194,
    "start_time": "2023-03-22T17:00:25.099Z"
   },
   {
    "duration": 71,
    "start_time": "2023-03-22T17:00:25.296Z"
   },
   {
    "duration": 17,
    "start_time": "2023-03-22T17:00:25.369Z"
   },
   {
    "duration": 89,
    "start_time": "2023-03-22T17:00:25.389Z"
   },
   {
    "duration": 25,
    "start_time": "2023-03-22T17:00:25.480Z"
   },
   {
    "duration": 6,
    "start_time": "2023-03-22T17:00:25.507Z"
   },
   {
    "duration": 595,
    "start_time": "2023-03-22T17:00:25.515Z"
   },
   {
    "duration": 175,
    "start_time": "2023-03-22T17:00:26.112Z"
   },
   {
    "duration": 13,
    "start_time": "2023-03-22T17:00:26.290Z"
   },
   {
    "duration": 10969,
    "start_time": "2023-03-22T17:00:26.305Z"
   },
   {
    "duration": 460,
    "start_time": "2023-03-22T17:00:37.277Z"
   },
   {
    "duration": 676,
    "start_time": "2023-03-22T17:00:37.762Z"
   },
   {
    "duration": 29,
    "start_time": "2023-03-22T17:00:38.440Z"
   },
   {
    "duration": 33,
    "start_time": "2023-03-22T17:00:38.471Z"
   },
   {
    "duration": 9,
    "start_time": "2023-03-22T17:00:38.506Z"
   },
   {
    "duration": 8,
    "start_time": "2023-03-22T17:00:38.517Z"
   },
   {
    "duration": 44,
    "start_time": "2023-03-22T17:00:38.526Z"
   },
   {
    "duration": 10926,
    "start_time": "2023-03-22T17:00:38.572Z"
   },
   {
    "duration": 43,
    "start_time": "2023-03-22T17:00:49.501Z"
   },
   {
    "duration": 43,
    "start_time": "2023-03-22T17:01:17.123Z"
   },
   {
    "duration": 6,
    "start_time": "2023-03-22T17:01:21.453Z"
   },
   {
    "duration": 28,
    "start_time": "2023-03-22T17:01:27.612Z"
   },
   {
    "duration": 6,
    "start_time": "2023-03-22T17:01:47.345Z"
   },
   {
    "duration": 11456,
    "start_time": "2023-03-22T17:03:24.414Z"
   },
   {
    "duration": 1731,
    "start_time": "2023-03-22T17:04:18.239Z"
   },
   {
    "duration": 57,
    "start_time": "2023-03-22T17:05:08.332Z"
   },
   {
    "duration": 52,
    "start_time": "2023-03-22T17:05:14.323Z"
   },
   {
    "duration": 43,
    "start_time": "2023-03-22T17:05:32.739Z"
   },
   {
    "duration": 49,
    "start_time": "2023-03-22T17:05:48.062Z"
   },
   {
    "duration": 72,
    "start_time": "2023-03-22T17:18:08.369Z"
   },
   {
    "duration": 0,
    "start_time": "2023-03-22T17:18:08.444Z"
   },
   {
    "duration": 1609,
    "start_time": "2023-03-22T17:18:08.512Z"
   },
   {
    "duration": 94,
    "start_time": "2023-03-22T17:18:10.123Z"
   },
   {
    "duration": 24,
    "start_time": "2023-03-22T17:18:10.219Z"
   },
   {
    "duration": 19,
    "start_time": "2023-03-22T17:18:10.246Z"
   },
   {
    "duration": 27,
    "start_time": "2023-03-22T17:18:10.268Z"
   },
   {
    "duration": 29,
    "start_time": "2023-03-22T17:18:10.298Z"
   },
   {
    "duration": 13,
    "start_time": "2023-03-22T17:18:10.330Z"
   },
   {
    "duration": 9,
    "start_time": "2023-03-22T17:18:10.363Z"
   },
   {
    "duration": 7,
    "start_time": "2023-03-22T17:18:10.374Z"
   },
   {
    "duration": 7,
    "start_time": "2023-03-22T17:18:10.384Z"
   },
   {
    "duration": 189,
    "start_time": "2023-03-22T17:18:10.393Z"
   },
   {
    "duration": 8,
    "start_time": "2023-03-22T17:18:10.584Z"
   },
   {
    "duration": 16,
    "start_time": "2023-03-22T17:18:10.594Z"
   },
   {
    "duration": 509,
    "start_time": "2023-03-22T17:18:10.613Z"
   },
   {
    "duration": 11,
    "start_time": "2023-03-22T17:18:11.123Z"
   },
   {
    "duration": 30,
    "start_time": "2023-03-22T17:18:11.136Z"
   },
   {
    "duration": 141,
    "start_time": "2023-03-22T17:18:11.168Z"
   },
   {
    "duration": 65,
    "start_time": "2023-03-22T17:18:11.311Z"
   },
   {
    "duration": 17,
    "start_time": "2023-03-22T17:18:11.378Z"
   },
   {
    "duration": 101,
    "start_time": "2023-03-22T17:18:11.398Z"
   },
   {
    "duration": 31,
    "start_time": "2023-03-22T17:18:11.501Z"
   },
   {
    "duration": 5,
    "start_time": "2023-03-22T17:18:11.534Z"
   },
   {
    "duration": 661,
    "start_time": "2023-03-22T17:18:11.541Z"
   },
   {
    "duration": 158,
    "start_time": "2023-03-22T17:18:12.203Z"
   },
   {
    "duration": 14,
    "start_time": "2023-03-22T17:18:12.362Z"
   },
   {
    "duration": 10657,
    "start_time": "2023-03-22T17:18:12.377Z"
   },
   {
    "duration": 488,
    "start_time": "2023-03-22T17:18:23.036Z"
   },
   {
    "duration": 652,
    "start_time": "2023-03-22T17:18:23.528Z"
   },
   {
    "duration": 31,
    "start_time": "2023-03-22T17:18:24.182Z"
   },
   {
    "duration": 65,
    "start_time": "2023-03-22T17:18:24.215Z"
   },
   {
    "duration": 13,
    "start_time": "2023-03-22T17:18:24.283Z"
   },
   {
    "duration": 10,
    "start_time": "2023-03-22T17:18:24.298Z"
   },
   {
    "duration": 15,
    "start_time": "2023-03-22T17:18:24.311Z"
   },
   {
    "duration": 10845,
    "start_time": "2023-03-22T17:18:24.329Z"
   },
   {
    "duration": 10,
    "start_time": "2023-03-22T17:18:35.177Z"
   },
   {
    "duration": 1866,
    "start_time": "2023-03-22T17:18:35.189Z"
   },
   {
    "duration": 8,
    "start_time": "2023-03-22T17:18:37.062Z"
   },
   {
    "duration": 15,
    "start_time": "2023-03-22T17:20:08.831Z"
   },
   {
    "duration": 2021,
    "start_time": "2023-03-22T17:20:13.392Z"
   },
   {
    "duration": 8,
    "start_time": "2023-03-22T17:26:28.043Z"
   },
   {
    "duration": 139,
    "start_time": "2023-03-22T17:27:20.063Z"
   },
   {
    "duration": 15,
    "start_time": "2023-03-22T17:27:25.920Z"
   },
   {
    "duration": 5,
    "start_time": "2023-03-22T17:27:30.126Z"
   },
   {
    "duration": 17,
    "start_time": "2023-03-22T17:28:31.536Z"
   },
   {
    "duration": 10,
    "start_time": "2023-03-22T17:30:01.555Z"
   },
   {
    "duration": 5,
    "start_time": "2023-03-22T17:30:11.035Z"
   },
   {
    "duration": 5,
    "start_time": "2023-03-22T17:30:31.648Z"
   },
   {
    "duration": 5,
    "start_time": "2023-03-22T17:30:36.736Z"
   },
   {
    "duration": 5,
    "start_time": "2023-03-22T17:31:14.786Z"
   },
   {
    "duration": 151,
    "start_time": "2023-03-22T17:32:06.836Z"
   },
   {
    "duration": 179,
    "start_time": "2023-03-22T17:32:59.436Z"
   },
   {
    "duration": 6,
    "start_time": "2023-03-22T17:59:10.829Z"
   },
   {
    "duration": 16,
    "start_time": "2023-03-22T18:00:12.290Z"
   },
   {
    "duration": 27,
    "start_time": "2023-03-22T18:00:19.332Z"
   },
   {
    "duration": 6,
    "start_time": "2023-03-22T18:00:47.925Z"
   },
   {
    "duration": 6,
    "start_time": "2023-03-22T18:00:57.092Z"
   },
   {
    "duration": 5,
    "start_time": "2023-03-22T18:01:08.026Z"
   },
   {
    "duration": 5,
    "start_time": "2023-03-22T18:01:25.950Z"
   },
   {
    "duration": 128,
    "start_time": "2023-03-22T18:02:39.940Z"
   },
   {
    "duration": 180,
    "start_time": "2023-03-22T18:02:47.936Z"
   },
   {
    "duration": 148,
    "start_time": "2023-03-22T18:02:56.440Z"
   },
   {
    "duration": 148,
    "start_time": "2023-03-22T18:03:01.667Z"
   },
   {
    "duration": 12,
    "start_time": "2023-03-22T18:17:14.348Z"
   },
   {
    "duration": 10,
    "start_time": "2023-03-22T18:17:18.543Z"
   },
   {
    "duration": 156,
    "start_time": "2023-03-22T18:17:22.163Z"
   },
   {
    "duration": 157,
    "start_time": "2023-03-22T18:17:25.037Z"
   },
   {
    "duration": 47,
    "start_time": "2023-03-22T18:21:40.991Z"
   },
   {
    "duration": 50,
    "start_time": "2023-03-22T18:26:17.680Z"
   },
   {
    "duration": 2696,
    "start_time": "2023-03-23T12:45:19.515Z"
   },
   {
    "duration": 120,
    "start_time": "2023-03-23T12:45:22.213Z"
   },
   {
    "duration": 79,
    "start_time": "2023-03-23T12:45:22.334Z"
   },
   {
    "duration": 25,
    "start_time": "2023-03-23T12:45:22.421Z"
   },
   {
    "duration": 110,
    "start_time": "2023-03-23T12:45:22.448Z"
   },
   {
    "duration": 90,
    "start_time": "2023-03-23T12:45:22.559Z"
   },
   {
    "duration": 26,
    "start_time": "2023-03-23T12:45:22.687Z"
   },
   {
    "duration": 28,
    "start_time": "2023-03-23T12:45:22.717Z"
   },
   {
    "duration": 75,
    "start_time": "2023-03-23T12:45:22.746Z"
   },
   {
    "duration": 21,
    "start_time": "2023-03-23T12:45:22.823Z"
   },
   {
    "duration": 440,
    "start_time": "2023-03-23T12:45:22.845Z"
   },
   {
    "duration": 19,
    "start_time": "2023-03-23T12:45:23.292Z"
   },
   {
    "duration": 102,
    "start_time": "2023-03-23T12:45:23.313Z"
   },
   {
    "duration": 610,
    "start_time": "2023-03-23T12:45:23.417Z"
   },
   {
    "duration": 84,
    "start_time": "2023-03-23T12:45:24.028Z"
   },
   {
    "duration": 20,
    "start_time": "2023-03-23T12:45:24.114Z"
   },
   {
    "duration": 271,
    "start_time": "2023-03-23T12:45:24.135Z"
   },
   {
    "duration": 80,
    "start_time": "2023-03-23T12:45:24.407Z"
   },
   {
    "duration": 12,
    "start_time": "2023-03-23T12:45:24.489Z"
   },
   {
    "duration": 212,
    "start_time": "2023-03-23T12:45:24.502Z"
   },
   {
    "duration": 72,
    "start_time": "2023-03-23T12:45:24.716Z"
   },
   {
    "duration": 18,
    "start_time": "2023-03-23T12:45:24.789Z"
   },
   {
    "duration": 1094,
    "start_time": "2023-03-23T12:45:24.809Z"
   },
   {
    "duration": 306,
    "start_time": "2023-03-23T12:45:25.908Z"
   },
   {
    "duration": 12,
    "start_time": "2023-03-23T12:45:26.215Z"
   },
   {
    "duration": 22824,
    "start_time": "2023-03-23T12:45:26.229Z"
   },
   {
    "duration": 397,
    "start_time": "2023-03-23T12:45:49.055Z"
   },
   {
    "duration": 542,
    "start_time": "2023-03-23T12:45:49.455Z"
   },
   {
    "duration": 17,
    "start_time": "2023-03-23T12:45:50.008Z"
   },
   {
    "duration": 23,
    "start_time": "2023-03-23T12:45:50.027Z"
   },
   {
    "duration": 25,
    "start_time": "2023-03-23T12:45:50.052Z"
   },
   {
    "duration": 44,
    "start_time": "2023-03-23T12:45:50.078Z"
   },
   {
    "duration": 17,
    "start_time": "2023-03-23T12:45:50.124Z"
   },
   {
    "duration": 9417,
    "start_time": "2023-03-23T12:45:50.143Z"
   },
   {
    "duration": 6,
    "start_time": "2023-03-23T12:45:59.562Z"
   },
   {
    "duration": 1644,
    "start_time": "2023-03-23T12:45:59.569Z"
   },
   {
    "duration": 5,
    "start_time": "2023-03-23T12:46:01.215Z"
   },
   {
    "duration": 54,
    "start_time": "2023-03-23T12:46:01.221Z"
   },
   {
    "duration": 1552,
    "start_time": "2023-03-23T12:46:01.277Z"
   },
   {
    "duration": 4,
    "start_time": "2023-03-23T12:46:02.831Z"
   },
   {
    "duration": 195,
    "start_time": "2023-03-23T12:46:02.836Z"
   },
   {
    "duration": 163,
    "start_time": "2023-03-23T12:46:03.033Z"
   },
   {
    "duration": 82,
    "start_time": "2023-03-23T12:46:03.198Z"
   },
   {
    "duration": 0,
    "start_time": "2023-03-23T12:46:03.282Z"
   },
   {
    "duration": 0,
    "start_time": "2023-03-23T12:46:03.283Z"
   },
   {
    "duration": 0,
    "start_time": "2023-03-23T12:46:03.284Z"
   },
   {
    "duration": 0,
    "start_time": "2023-03-23T12:46:03.291Z"
   },
   {
    "duration": 11,
    "start_time": "2023-03-23T12:46:12.901Z"
   },
   {
    "duration": 115,
    "start_time": "2023-03-23T12:46:13.317Z"
   },
   {
    "duration": 131,
    "start_time": "2023-03-23T12:46:14.362Z"
   },
   {
    "duration": 182,
    "start_time": "2023-03-23T12:46:15.183Z"
   },
   {
    "duration": 91,
    "start_time": "2023-03-23T12:54:58.344Z"
   },
   {
    "duration": 12,
    "start_time": "2023-03-23T12:57:43.286Z"
   },
   {
    "duration": 156,
    "start_time": "2023-03-23T13:05:24.156Z"
   },
   {
    "duration": 82,
    "start_time": "2023-03-23T13:06:42.124Z"
   },
   {
    "duration": 182,
    "start_time": "2023-03-23T13:11:42.704Z"
   },
   {
    "duration": 25,
    "start_time": "2023-03-23T13:11:48.756Z"
   },
   {
    "duration": 33,
    "start_time": "2023-03-23T13:12:03.217Z"
   },
   {
    "duration": 21,
    "start_time": "2023-03-23T13:12:19.606Z"
   },
   {
    "duration": 116,
    "start_time": "2023-03-23T13:15:10.637Z"
   },
   {
    "duration": 87,
    "start_time": "2023-03-23T13:15:43.437Z"
   },
   {
    "duration": 54,
    "start_time": "2023-03-23T18:11:39.826Z"
   },
   {
    "duration": 1707,
    "start_time": "2023-03-23T18:11:45.624Z"
   },
   {
    "duration": 141,
    "start_time": "2023-03-23T18:11:47.334Z"
   },
   {
    "duration": 16,
    "start_time": "2023-03-23T18:11:47.477Z"
   },
   {
    "duration": 12,
    "start_time": "2023-03-23T18:11:47.495Z"
   },
   {
    "duration": 22,
    "start_time": "2023-03-23T18:11:47.510Z"
   },
   {
    "duration": 36,
    "start_time": "2023-03-23T18:11:47.534Z"
   },
   {
    "duration": 11,
    "start_time": "2023-03-23T18:11:47.572Z"
   },
   {
    "duration": 21,
    "start_time": "2023-03-23T18:11:47.585Z"
   },
   {
    "duration": 17,
    "start_time": "2023-03-23T18:11:47.608Z"
   },
   {
    "duration": 15,
    "start_time": "2023-03-23T18:11:47.628Z"
   },
   {
    "duration": 167,
    "start_time": "2023-03-23T18:11:47.645Z"
   },
   {
    "duration": 7,
    "start_time": "2023-03-23T18:11:47.814Z"
   },
   {
    "duration": 19,
    "start_time": "2023-03-23T18:11:47.823Z"
   },
   {
    "duration": 406,
    "start_time": "2023-03-23T18:11:47.844Z"
   },
   {
    "duration": 12,
    "start_time": "2023-03-23T18:11:48.252Z"
   },
   {
    "duration": 13,
    "start_time": "2023-03-23T18:11:48.266Z"
   },
   {
    "duration": 145,
    "start_time": "2023-03-23T18:11:48.281Z"
   },
   {
    "duration": 38,
    "start_time": "2023-03-23T18:11:48.428Z"
   },
   {
    "duration": 59,
    "start_time": "2023-03-23T18:11:48.468Z"
   },
   {
    "duration": 55,
    "start_time": "2023-03-23T18:11:48.529Z"
   },
   {
    "duration": 34,
    "start_time": "2023-03-23T18:11:48.585Z"
   },
   {
    "duration": 5,
    "start_time": "2023-03-23T18:11:48.621Z"
   },
   {
    "duration": 517,
    "start_time": "2023-03-23T18:11:48.627Z"
   },
   {
    "duration": 7,
    "start_time": "2023-03-23T18:11:49.146Z"
   },
   {
    "duration": 169,
    "start_time": "2023-03-23T18:11:49.155Z"
   },
   {
    "duration": 12,
    "start_time": "2023-03-23T18:11:49.326Z"
   },
   {
    "duration": 10722,
    "start_time": "2023-03-23T18:11:49.339Z"
   },
   {
    "duration": 383,
    "start_time": "2023-03-23T18:12:00.067Z"
   },
   {
    "duration": 606,
    "start_time": "2023-03-23T18:12:00.452Z"
   },
   {
    "duration": 20,
    "start_time": "2023-03-23T18:12:01.060Z"
   },
   {
    "duration": 41,
    "start_time": "2023-03-23T18:12:01.082Z"
   },
   {
    "duration": 8,
    "start_time": "2023-03-23T18:12:01.125Z"
   },
   {
    "duration": 53,
    "start_time": "2023-03-23T18:12:01.135Z"
   },
   {
    "duration": 53,
    "start_time": "2023-03-23T18:12:01.190Z"
   },
   {
    "duration": 10573,
    "start_time": "2023-03-23T18:12:01.244Z"
   },
   {
    "duration": 8,
    "start_time": "2023-03-23T18:12:11.819Z"
   },
   {
    "duration": 2030,
    "start_time": "2023-03-23T18:12:11.828Z"
   },
   {
    "duration": 6,
    "start_time": "2023-03-23T18:12:13.859Z"
   },
   {
    "duration": 52,
    "start_time": "2023-03-23T18:12:13.867Z"
   },
   {
    "duration": 1749,
    "start_time": "2023-03-23T18:12:13.921Z"
   },
   {
    "duration": 5,
    "start_time": "2023-03-23T18:12:15.672Z"
   },
   {
    "duration": 244,
    "start_time": "2023-03-23T18:12:15.678Z"
   },
   {
    "duration": 188,
    "start_time": "2023-03-23T18:12:15.924Z"
   },
   {
    "duration": 10,
    "start_time": "2023-03-23T18:12:16.116Z"
   },
   {
    "duration": 150,
    "start_time": "2023-03-23T18:12:16.127Z"
   },
   {
    "duration": 159,
    "start_time": "2023-03-23T18:12:16.279Z"
   },
   {
    "duration": 158,
    "start_time": "2023-03-23T18:12:16.440Z"
   },
   {
    "duration": 188,
    "start_time": "2023-03-23T18:14:12.663Z"
   },
   {
    "duration": 12,
    "start_time": "2023-03-23T18:14:16.964Z"
   },
   {
    "duration": 1674,
    "start_time": "2023-03-24T09:38:09.943Z"
   },
   {
    "duration": 261,
    "start_time": "2023-03-24T09:38:11.619Z"
   },
   {
    "duration": 14,
    "start_time": "2023-03-24T09:38:11.882Z"
   },
   {
    "duration": 11,
    "start_time": "2023-03-24T09:38:11.898Z"
   },
   {
    "duration": 9,
    "start_time": "2023-03-24T09:38:11.911Z"
   },
   {
    "duration": 15,
    "start_time": "2023-03-24T09:38:11.921Z"
   },
   {
    "duration": 15,
    "start_time": "2023-03-24T09:38:11.938Z"
   },
   {
    "duration": 9,
    "start_time": "2023-03-24T09:38:11.955Z"
   },
   {
    "duration": 39,
    "start_time": "2023-03-24T09:38:11.966Z"
   },
   {
    "duration": 5,
    "start_time": "2023-03-24T09:38:12.008Z"
   },
   {
    "duration": 7,
    "start_time": "2023-03-24T09:38:12.015Z"
   },
   {
    "duration": 150,
    "start_time": "2023-03-24T09:38:12.023Z"
   },
   {
    "duration": 7,
    "start_time": "2023-03-24T09:38:12.175Z"
   },
   {
    "duration": 11,
    "start_time": "2023-03-24T09:38:12.188Z"
   },
   {
    "duration": 392,
    "start_time": "2023-03-24T09:38:12.201Z"
   },
   {
    "duration": 9,
    "start_time": "2023-03-24T09:38:12.595Z"
   },
   {
    "duration": 9,
    "start_time": "2023-03-24T09:38:12.606Z"
   },
   {
    "duration": 139,
    "start_time": "2023-03-24T09:38:12.616Z"
   },
   {
    "duration": 41,
    "start_time": "2023-03-24T09:38:12.757Z"
   },
   {
    "duration": 14,
    "start_time": "2023-03-24T09:38:12.799Z"
   },
   {
    "duration": 79,
    "start_time": "2023-03-24T09:38:12.814Z"
   },
   {
    "duration": 24,
    "start_time": "2023-03-24T09:38:12.895Z"
   },
   {
    "duration": 5,
    "start_time": "2023-03-24T09:38:12.921Z"
   },
   {
    "duration": 506,
    "start_time": "2023-03-24T09:38:12.928Z"
   },
   {
    "duration": 8,
    "start_time": "2023-03-24T09:38:13.436Z"
   },
   {
    "duration": 161,
    "start_time": "2023-03-24T09:38:13.446Z"
   },
   {
    "duration": 11,
    "start_time": "2023-03-24T09:38:13.609Z"
   },
   {
    "duration": 10281,
    "start_time": "2023-03-24T09:38:13.623Z"
   },
   {
    "duration": 427,
    "start_time": "2023-03-24T09:38:23.907Z"
   },
   {
    "duration": 622,
    "start_time": "2023-03-24T09:38:24.335Z"
   },
   {
    "duration": 17,
    "start_time": "2023-03-24T09:38:24.958Z"
   },
   {
    "duration": 41,
    "start_time": "2023-03-24T09:38:24.977Z"
   },
   {
    "duration": 8,
    "start_time": "2023-03-24T09:38:25.020Z"
   },
   {
    "duration": 16,
    "start_time": "2023-03-24T09:38:25.033Z"
   },
   {
    "duration": 16,
    "start_time": "2023-03-24T09:38:25.051Z"
   },
   {
    "duration": 10362,
    "start_time": "2023-03-24T09:38:25.089Z"
   },
   {
    "duration": 8,
    "start_time": "2023-03-24T09:38:35.453Z"
   },
   {
    "duration": 1665,
    "start_time": "2023-03-24T09:38:35.462Z"
   },
   {
    "duration": 5,
    "start_time": "2023-03-24T09:38:37.129Z"
   },
   {
    "duration": 15,
    "start_time": "2023-03-24T09:38:37.136Z"
   },
   {
    "duration": 1748,
    "start_time": "2023-03-24T09:38:37.190Z"
   },
   {
    "duration": 5,
    "start_time": "2023-03-24T09:38:38.939Z"
   },
   {
    "duration": 221,
    "start_time": "2023-03-24T09:38:38.946Z"
   },
   {
    "duration": 190,
    "start_time": "2023-03-24T09:38:39.169Z"
   },
   {
    "duration": 10,
    "start_time": "2023-03-24T09:38:39.360Z"
   },
   {
    "duration": 153,
    "start_time": "2023-03-24T09:38:39.372Z"
   },
   {
    "duration": 159,
    "start_time": "2023-03-24T09:38:39.527Z"
   },
   {
    "duration": 158,
    "start_time": "2023-03-24T09:38:39.689Z"
   },
   {
    "duration": 4766,
    "start_time": "2023-03-24T09:40:11.738Z"
   },
   {
    "duration": 20,
    "start_time": "2023-03-24T09:40:21.811Z"
   },
   {
    "duration": 12,
    "start_time": "2023-03-24T09:41:13.093Z"
   },
   {
    "duration": 16,
    "start_time": "2023-03-24T09:41:26.391Z"
   },
   {
    "duration": 13,
    "start_time": "2023-03-24T09:41:33.282Z"
   },
   {
    "duration": 13,
    "start_time": "2023-03-24T09:41:37.892Z"
   },
   {
    "duration": 21,
    "start_time": "2023-03-24T09:42:41.151Z"
   },
   {
    "duration": 51,
    "start_time": "2023-03-24T09:43:06.076Z"
   },
   {
    "duration": 20,
    "start_time": "2023-03-24T09:44:05.045Z"
   },
   {
    "duration": 6,
    "start_time": "2023-03-24T09:50:40.438Z"
   },
   {
    "duration": 5,
    "start_time": "2023-03-24T09:51:34.665Z"
   },
   {
    "duration": 5,
    "start_time": "2023-03-24T09:52:12.634Z"
   },
   {
    "duration": 11,
    "start_time": "2023-03-24T09:52:23.050Z"
   },
   {
    "duration": 4,
    "start_time": "2023-03-24T09:52:30.707Z"
   },
   {
    "duration": 61,
    "start_time": "2023-03-24T10:08:57.830Z"
   },
   {
    "duration": 150,
    "start_time": "2023-03-24T10:09:15.497Z"
   },
   {
    "duration": 5,
    "start_time": "2023-03-24T10:10:11.849Z"
   },
   {
    "duration": 7,
    "start_time": "2023-03-24T10:14:55.360Z"
   },
   {
    "duration": 5,
    "start_time": "2023-03-24T10:14:57.934Z"
   },
   {
    "duration": 6,
    "start_time": "2023-03-24T10:17:01.018Z"
   },
   {
    "duration": 44,
    "start_time": "2023-03-24T10:20:56.519Z"
   },
   {
    "duration": 5,
    "start_time": "2023-03-24T10:21:25.797Z"
   },
   {
    "duration": 5,
    "start_time": "2023-03-24T10:21:38.250Z"
   },
   {
    "duration": 81,
    "start_time": "2023-03-24T10:21:39.347Z"
   },
   {
    "duration": 123,
    "start_time": "2023-03-24T10:22:13.841Z"
   },
   {
    "duration": 4,
    "start_time": "2023-03-24T10:23:15.112Z"
   },
   {
    "duration": 81,
    "start_time": "2023-03-24T10:25:36.595Z"
   },
   {
    "duration": 4,
    "start_time": "2023-03-24T10:25:42.655Z"
   },
   {
    "duration": 4,
    "start_time": "2023-03-24T10:25:57.363Z"
   },
   {
    "duration": 79,
    "start_time": "2023-03-24T10:25:58.520Z"
   },
   {
    "duration": 19,
    "start_time": "2023-03-24T10:25:58.806Z"
   },
   {
    "duration": 5,
    "start_time": "2023-03-24T10:26:00.440Z"
   },
   {
    "duration": 14,
    "start_time": "2023-03-24T10:26:05.771Z"
   },
   {
    "duration": 18,
    "start_time": "2023-03-24T10:26:11.677Z"
   },
   {
    "duration": 50,
    "start_time": "2023-03-24T10:26:11.697Z"
   },
   {
    "duration": 16,
    "start_time": "2023-03-24T10:26:11.749Z"
   },
   {
    "duration": 18,
    "start_time": "2023-03-24T10:26:12.589Z"
   },
   {
    "duration": 12,
    "start_time": "2023-03-24T10:26:14.450Z"
   },
   {
    "duration": 5,
    "start_time": "2023-03-24T10:26:15.899Z"
   },
   {
    "duration": 3,
    "start_time": "2023-03-24T10:26:16.370Z"
   },
   {
    "duration": 207,
    "start_time": "2023-03-24T10:26:17.340Z"
   },
   {
    "duration": 62,
    "start_time": "2023-03-24T10:26:18.013Z"
   },
   {
    "duration": 9,
    "start_time": "2023-03-24T10:26:18.644Z"
   },
   {
    "duration": 4,
    "start_time": "2023-03-24T10:26:19.351Z"
   },
   {
    "duration": 5,
    "start_time": "2023-03-24T10:26:20.420Z"
   },
   {
    "duration": 4,
    "start_time": "2023-03-24T10:26:30.191Z"
   },
   {
    "duration": 158,
    "start_time": "2023-03-24T10:29:46.911Z"
   },
   {
    "duration": 11,
    "start_time": "2023-03-24T10:30:19.620Z"
   },
   {
    "duration": 5,
    "start_time": "2023-03-24T10:30:48.590Z"
   },
   {
    "duration": 905,
    "start_time": "2023-03-24T10:50:18.374Z"
   },
   {
    "duration": 5,
    "start_time": "2023-03-24T10:50:28.819Z"
   },
   {
    "duration": 4,
    "start_time": "2023-03-24T10:51:04.246Z"
   },
   {
    "duration": 1595,
    "start_time": "2023-03-24T10:51:14.762Z"
   },
   {
    "duration": 101,
    "start_time": "2023-03-24T10:51:16.359Z"
   },
   {
    "duration": 16,
    "start_time": "2023-03-24T10:51:16.462Z"
   },
   {
    "duration": 7,
    "start_time": "2023-03-24T10:51:16.494Z"
   },
   {
    "duration": 23,
    "start_time": "2023-03-24T10:51:16.503Z"
   },
   {
    "duration": 18,
    "start_time": "2023-03-24T10:51:16.528Z"
   },
   {
    "duration": 15,
    "start_time": "2023-03-24T10:51:16.548Z"
   },
   {
    "duration": 43,
    "start_time": "2023-03-24T10:51:16.564Z"
   },
   {
    "duration": 21,
    "start_time": "2023-03-24T10:51:16.609Z"
   },
   {
    "duration": 13,
    "start_time": "2023-03-24T10:51:16.632Z"
   },
   {
    "duration": 5,
    "start_time": "2023-03-24T10:51:16.647Z"
   },
   {
    "duration": 5,
    "start_time": "2023-03-24T10:51:16.654Z"
   },
   {
    "duration": 180,
    "start_time": "2023-03-24T10:51:16.661Z"
   },
   {
    "duration": 9,
    "start_time": "2023-03-24T10:51:16.843Z"
   },
   {
    "duration": 5,
    "start_time": "2023-03-24T10:51:16.854Z"
   },
   {
    "duration": 6,
    "start_time": "2023-03-24T10:51:16.861Z"
   },
   {
    "duration": 12,
    "start_time": "2023-03-24T10:51:16.894Z"
   },
   {
    "duration": 158,
    "start_time": "2023-03-24T10:51:16.908Z"
   },
   {
    "duration": 5,
    "start_time": "2023-03-24T10:51:17.068Z"
   },
   {
    "duration": 17,
    "start_time": "2023-03-24T10:51:17.075Z"
   },
   {
    "duration": 11,
    "start_time": "2023-03-24T10:51:17.094Z"
   },
   {
    "duration": 7,
    "start_time": "2023-03-24T10:51:17.107Z"
   },
   {
    "duration": 10,
    "start_time": "2023-03-24T10:51:17.116Z"
   },
   {
    "duration": 257,
    "start_time": "2023-03-24T10:51:17.127Z"
   },
   {
    "duration": 22,
    "start_time": "2023-03-24T10:51:17.386Z"
   },
   {
    "duration": 16,
    "start_time": "2023-03-24T10:51:17.410Z"
   },
   {
    "duration": 384,
    "start_time": "2023-03-24T10:51:17.428Z"
   },
   {
    "duration": 10,
    "start_time": "2023-03-24T10:51:17.818Z"
   },
   {
    "duration": 9,
    "start_time": "2023-03-24T10:51:17.830Z"
   },
   {
    "duration": 117,
    "start_time": "2023-03-24T10:51:17.842Z"
   },
   {
    "duration": 54,
    "start_time": "2023-03-24T10:51:17.961Z"
   },
   {
    "duration": 12,
    "start_time": "2023-03-24T10:51:18.016Z"
   },
   {
    "duration": 61,
    "start_time": "2023-03-24T10:51:18.030Z"
   },
   {
    "duration": 23,
    "start_time": "2023-03-24T10:51:18.095Z"
   },
   {
    "duration": 4,
    "start_time": "2023-03-24T10:51:18.120Z"
   },
   {
    "duration": 443,
    "start_time": "2023-03-24T10:51:18.126Z"
   },
   {
    "duration": 27,
    "start_time": "2023-03-24T10:51:18.571Z"
   },
   {
    "duration": 141,
    "start_time": "2023-03-24T10:51:18.600Z"
   },
   {
    "duration": 13,
    "start_time": "2023-03-24T10:51:18.743Z"
   },
   {
    "duration": 629,
    "start_time": "2023-03-24T10:51:18.757Z"
   },
   {
    "duration": 261,
    "start_time": "2023-03-24T10:51:19.394Z"
   },
   {
    "duration": 383,
    "start_time": "2023-03-24T10:51:19.657Z"
   },
   {
    "duration": 16,
    "start_time": "2023-03-24T10:51:20.043Z"
   },
   {
    "duration": 46,
    "start_time": "2023-03-24T10:51:20.061Z"
   },
   {
    "duration": 17,
    "start_time": "2023-03-24T10:51:20.108Z"
   },
   {
    "duration": 8,
    "start_time": "2023-03-24T10:51:20.127Z"
   },
   {
    "duration": 12,
    "start_time": "2023-03-24T10:51:20.136Z"
   },
   {
    "duration": 532,
    "start_time": "2023-03-24T10:51:20.150Z"
   },
   {
    "duration": 12,
    "start_time": "2023-03-24T10:51:20.684Z"
   },
   {
    "duration": 405,
    "start_time": "2023-03-24T10:51:20.698Z"
   },
   {
    "duration": 5,
    "start_time": "2023-03-24T10:51:21.108Z"
   },
   {
    "duration": 16,
    "start_time": "2023-03-24T10:51:21.114Z"
   },
   {
    "duration": 579,
    "start_time": "2023-03-24T10:51:21.132Z"
   },
   {
    "duration": 6,
    "start_time": "2023-03-24T10:51:21.713Z"
   },
   {
    "duration": 206,
    "start_time": "2023-03-24T10:51:21.721Z"
   },
   {
    "duration": 181,
    "start_time": "2023-03-24T10:51:21.929Z"
   },
   {
    "duration": 9,
    "start_time": "2023-03-24T10:51:22.112Z"
   },
   {
    "duration": 150,
    "start_time": "2023-03-24T10:51:22.122Z"
   },
   {
    "duration": 161,
    "start_time": "2023-03-24T10:51:22.274Z"
   },
   {
    "duration": 147,
    "start_time": "2023-03-24T10:51:22.437Z"
   },
   {
    "duration": 196,
    "start_time": "2023-03-24T10:53:54.531Z"
   },
   {
    "duration": 122,
    "start_time": "2023-03-24T10:54:39.148Z"
   },
   {
    "duration": 21,
    "start_time": "2023-03-24T10:58:57.852Z"
   },
   {
    "duration": 8,
    "start_time": "2023-03-24T10:59:23.143Z"
   },
   {
    "duration": 9,
    "start_time": "2023-03-24T11:01:24.729Z"
   },
   {
    "duration": 15,
    "start_time": "2023-03-24T11:01:31.415Z"
   },
   {
    "duration": 13,
    "start_time": "2023-03-24T11:01:39.820Z"
   },
   {
    "duration": 9,
    "start_time": "2023-03-24T11:02:16.328Z"
   },
   {
    "duration": 16,
    "start_time": "2023-03-24T11:02:40.618Z"
   },
   {
    "duration": 8,
    "start_time": "2023-03-24T11:03:52.960Z"
   },
   {
    "duration": 9,
    "start_time": "2023-03-24T11:05:16.270Z"
   },
   {
    "duration": 10,
    "start_time": "2023-03-24T11:05:55.969Z"
   },
   {
    "duration": 9,
    "start_time": "2023-03-24T11:06:06.235Z"
   },
   {
    "duration": 50,
    "start_time": "2023-03-24T11:06:45.233Z"
   },
   {
    "duration": 71,
    "start_time": "2023-03-24T11:06:56.469Z"
   },
   {
    "duration": 1662,
    "start_time": "2023-03-24T11:07:22.625Z"
   },
   {
    "duration": 111,
    "start_time": "2023-03-24T11:07:24.290Z"
   },
   {
    "duration": 26,
    "start_time": "2023-03-24T11:07:24.409Z"
   },
   {
    "duration": 5,
    "start_time": "2023-03-24T11:07:24.437Z"
   },
   {
    "duration": 10,
    "start_time": "2023-03-24T11:07:24.445Z"
   },
   {
    "duration": 23,
    "start_time": "2023-03-24T11:07:24.456Z"
   },
   {
    "duration": 23,
    "start_time": "2023-03-24T11:07:24.481Z"
   },
   {
    "duration": 21,
    "start_time": "2023-03-24T11:07:24.506Z"
   },
   {
    "duration": 17,
    "start_time": "2023-03-24T11:07:24.529Z"
   },
   {
    "duration": 12,
    "start_time": "2023-03-24T11:07:24.548Z"
   },
   {
    "duration": 44,
    "start_time": "2023-03-24T11:07:24.563Z"
   },
   {
    "duration": 12,
    "start_time": "2023-03-24T11:07:24.613Z"
   },
   {
    "duration": 180,
    "start_time": "2023-03-24T11:07:24.627Z"
   },
   {
    "duration": 16,
    "start_time": "2023-03-24T11:07:24.811Z"
   },
   {
    "duration": 6,
    "start_time": "2023-03-24T11:07:24.829Z"
   },
   {
    "duration": 10,
    "start_time": "2023-03-24T11:07:24.837Z"
   },
   {
    "duration": 8,
    "start_time": "2023-03-24T11:07:24.848Z"
   },
   {
    "duration": 178,
    "start_time": "2023-03-24T11:07:24.858Z"
   },
   {
    "duration": 6,
    "start_time": "2023-03-24T11:07:25.038Z"
   },
   {
    "duration": 10,
    "start_time": "2023-03-24T11:07:25.046Z"
   },
   {
    "duration": 26,
    "start_time": "2023-03-24T11:07:25.057Z"
   },
   {
    "duration": 37,
    "start_time": "2023-03-24T11:07:25.084Z"
   },
   {
    "duration": 9,
    "start_time": "2023-03-24T11:07:25.123Z"
   },
   {
    "duration": 291,
    "start_time": "2023-03-24T11:07:25.134Z"
   },
   {
    "duration": 5,
    "start_time": "2023-03-24T11:07:25.427Z"
   },
   {
    "duration": 26,
    "start_time": "2023-03-24T11:07:25.434Z"
   },
   {
    "duration": 336,
    "start_time": "2023-03-24T11:07:25.462Z"
   },
   {
    "duration": 13,
    "start_time": "2023-03-24T11:07:25.800Z"
   },
   {
    "duration": 26,
    "start_time": "2023-03-24T11:07:25.815Z"
   },
   {
    "duration": 86,
    "start_time": "2023-03-24T11:07:25.843Z"
   },
   {
    "duration": 26,
    "start_time": "2023-03-24T11:07:25.931Z"
   },
   {
    "duration": 36,
    "start_time": "2023-03-24T11:07:25.959Z"
   },
   {
    "duration": 56,
    "start_time": "2023-03-24T11:07:26.001Z"
   },
   {
    "duration": 20,
    "start_time": "2023-03-24T11:07:26.059Z"
   },
   {
    "duration": 6,
    "start_time": "2023-03-24T11:07:26.090Z"
   },
   {
    "duration": 444,
    "start_time": "2023-03-24T11:07:26.098Z"
   },
   {
    "duration": 8,
    "start_time": "2023-03-24T11:07:26.544Z"
   },
   {
    "duration": 188,
    "start_time": "2023-03-24T11:07:26.554Z"
   },
   {
    "duration": 11,
    "start_time": "2023-03-24T11:07:26.744Z"
   },
   {
    "duration": 642,
    "start_time": "2023-03-24T11:07:26.757Z"
   },
   {
    "duration": 296,
    "start_time": "2023-03-24T11:07:27.412Z"
   },
   {
    "duration": 447,
    "start_time": "2023-03-24T11:07:27.714Z"
   },
   {
    "duration": 37,
    "start_time": "2023-03-24T11:07:28.163Z"
   },
   {
    "duration": 35,
    "start_time": "2023-03-24T11:07:28.204Z"
   },
   {
    "duration": 9,
    "start_time": "2023-03-24T11:07:28.240Z"
   },
   {
    "duration": 7,
    "start_time": "2023-03-24T11:07:28.251Z"
   },
   {
    "duration": 48,
    "start_time": "2023-03-24T11:07:28.260Z"
   },
   {
    "duration": 552,
    "start_time": "2023-03-24T11:07:28.310Z"
   },
   {
    "duration": 5,
    "start_time": "2023-03-24T11:07:28.864Z"
   },
   {
    "duration": 440,
    "start_time": "2023-03-24T11:07:28.871Z"
   },
   {
    "duration": 6,
    "start_time": "2023-03-24T11:07:29.322Z"
   },
   {
    "duration": 31,
    "start_time": "2023-03-24T11:07:29.331Z"
   },
   {
    "duration": 683,
    "start_time": "2023-03-24T11:07:29.364Z"
   },
   {
    "duration": 6,
    "start_time": "2023-03-24T11:07:30.049Z"
   },
   {
    "duration": 257,
    "start_time": "2023-03-24T11:07:30.056Z"
   },
   {
    "duration": 206,
    "start_time": "2023-03-24T11:07:30.319Z"
   },
   {
    "duration": 11,
    "start_time": "2023-03-24T11:07:30.527Z"
   },
   {
    "duration": 290,
    "start_time": "2023-03-24T11:07:30.540Z"
   },
   {
    "duration": 151,
    "start_time": "2023-03-24T11:07:30.832Z"
   },
   {
    "duration": 166,
    "start_time": "2023-03-24T11:07:30.991Z"
   },
   {
    "duration": 1747,
    "start_time": "2023-03-24T11:07:49.366Z"
   },
   {
    "duration": 95,
    "start_time": "2023-03-24T11:07:51.117Z"
   },
   {
    "duration": 15,
    "start_time": "2023-03-24T11:07:51.219Z"
   },
   {
    "duration": 4,
    "start_time": "2023-03-24T11:07:51.235Z"
   },
   {
    "duration": 17,
    "start_time": "2023-03-24T11:07:51.241Z"
   },
   {
    "duration": 43,
    "start_time": "2023-03-24T11:07:51.260Z"
   },
   {
    "duration": 17,
    "start_time": "2023-03-24T11:07:51.311Z"
   },
   {
    "duration": 16,
    "start_time": "2023-03-24T11:07:51.330Z"
   },
   {
    "duration": 18,
    "start_time": "2023-03-24T11:07:51.347Z"
   },
   {
    "duration": 22,
    "start_time": "2023-03-24T11:07:51.368Z"
   },
   {
    "duration": 9,
    "start_time": "2023-03-24T11:07:51.397Z"
   },
   {
    "duration": 6,
    "start_time": "2023-03-24T11:07:51.416Z"
   },
   {
    "duration": 181,
    "start_time": "2023-03-24T11:07:51.423Z"
   },
   {
    "duration": 10,
    "start_time": "2023-03-24T11:07:51.605Z"
   },
   {
    "duration": 35,
    "start_time": "2023-03-24T11:07:51.617Z"
   },
   {
    "duration": 29,
    "start_time": "2023-03-24T11:07:51.654Z"
   },
   {
    "duration": 42,
    "start_time": "2023-03-24T11:07:51.685Z"
   },
   {
    "duration": 147,
    "start_time": "2023-03-24T11:07:51.728Z"
   },
   {
    "duration": 17,
    "start_time": "2023-03-24T11:07:51.877Z"
   },
   {
    "duration": 25,
    "start_time": "2023-03-24T11:07:51.896Z"
   },
   {
    "duration": 16,
    "start_time": "2023-03-24T11:07:51.923Z"
   },
   {
    "duration": 23,
    "start_time": "2023-03-24T11:07:51.941Z"
   },
   {
    "duration": 20,
    "start_time": "2023-03-24T11:07:51.966Z"
   },
   {
    "duration": 250,
    "start_time": "2023-03-24T11:07:51.987Z"
   },
   {
    "duration": 6,
    "start_time": "2023-03-24T11:07:52.239Z"
   },
   {
    "duration": 48,
    "start_time": "2023-03-24T11:07:52.247Z"
   },
   {
    "duration": 294,
    "start_time": "2023-03-24T11:07:52.297Z"
   },
   {
    "duration": 21,
    "start_time": "2023-03-24T11:07:52.598Z"
   },
   {
    "duration": 11,
    "start_time": "2023-03-24T11:07:52.623Z"
   },
   {
    "duration": 89,
    "start_time": "2023-03-24T11:07:52.636Z"
   },
   {
    "duration": 41,
    "start_time": "2023-03-24T11:07:52.728Z"
   },
   {
    "duration": 46,
    "start_time": "2023-03-24T11:07:52.771Z"
   },
   {
    "duration": 61,
    "start_time": "2023-03-24T11:07:52.824Z"
   },
   {
    "duration": 38,
    "start_time": "2023-03-24T11:07:52.887Z"
   },
   {
    "duration": 12,
    "start_time": "2023-03-24T11:07:52.927Z"
   },
   {
    "duration": 449,
    "start_time": "2023-03-24T11:07:52.941Z"
   },
   {
    "duration": 10,
    "start_time": "2023-03-24T11:07:53.392Z"
   },
   {
    "duration": 155,
    "start_time": "2023-03-24T11:07:53.408Z"
   },
   {
    "duration": 12,
    "start_time": "2023-03-24T11:07:53.565Z"
   },
   {
    "duration": 648,
    "start_time": "2023-03-24T11:07:53.578Z"
   },
   {
    "duration": 240,
    "start_time": "2023-03-24T11:07:54.228Z"
   },
   {
    "duration": 396,
    "start_time": "2023-03-24T11:07:54.470Z"
   },
   {
    "duration": 29,
    "start_time": "2023-03-24T11:07:54.868Z"
   },
   {
    "duration": 46,
    "start_time": "2023-03-24T11:07:54.899Z"
   },
   {
    "duration": 17,
    "start_time": "2023-03-24T11:07:54.948Z"
   },
   {
    "duration": 32,
    "start_time": "2023-03-24T11:07:54.966Z"
   },
   {
    "duration": 18,
    "start_time": "2023-03-24T11:07:55.013Z"
   },
   {
    "duration": 517,
    "start_time": "2023-03-24T11:07:55.032Z"
   },
   {
    "duration": 7,
    "start_time": "2023-03-24T11:07:55.551Z"
   },
   {
    "duration": 420,
    "start_time": "2023-03-24T11:07:55.560Z"
   },
   {
    "duration": 19,
    "start_time": "2023-03-24T11:07:55.982Z"
   },
   {
    "duration": 19,
    "start_time": "2023-03-24T11:07:56.007Z"
   },
   {
    "duration": 590,
    "start_time": "2023-03-24T11:07:56.028Z"
   },
   {
    "duration": 7,
    "start_time": "2023-03-24T11:07:56.634Z"
   },
   {
    "duration": 216,
    "start_time": "2023-03-24T11:07:56.642Z"
   },
   {
    "duration": 200,
    "start_time": "2023-03-24T11:07:56.860Z"
   },
   {
    "duration": 10,
    "start_time": "2023-03-24T11:07:57.062Z"
   },
   {
    "duration": 162,
    "start_time": "2023-03-24T11:07:57.074Z"
   },
   {
    "duration": 159,
    "start_time": "2023-03-24T11:07:57.238Z"
   },
   {
    "duration": 153,
    "start_time": "2023-03-24T11:07:57.405Z"
   },
   {
    "duration": 32,
    "start_time": "2023-03-24T11:09:15.868Z"
   },
   {
    "duration": 13,
    "start_time": "2023-03-24T11:09:24.968Z"
   },
   {
    "duration": 14,
    "start_time": "2023-03-24T11:09:46.912Z"
   },
   {
    "duration": 11,
    "start_time": "2023-03-24T11:10:01.818Z"
   },
   {
    "duration": 1660,
    "start_time": "2023-03-24T11:11:04.114Z"
   },
   {
    "duration": 98,
    "start_time": "2023-03-24T11:11:05.776Z"
   },
   {
    "duration": 25,
    "start_time": "2023-03-24T11:11:05.876Z"
   },
   {
    "duration": 5,
    "start_time": "2023-03-24T11:11:05.907Z"
   },
   {
    "duration": 23,
    "start_time": "2023-03-24T11:11:05.913Z"
   },
   {
    "duration": 31,
    "start_time": "2023-03-24T11:11:05.937Z"
   },
   {
    "duration": 46,
    "start_time": "2023-03-24T11:11:05.970Z"
   },
   {
    "duration": 17,
    "start_time": "2023-03-24T11:11:06.018Z"
   },
   {
    "duration": 32,
    "start_time": "2023-03-24T11:11:06.036Z"
   },
   {
    "duration": 25,
    "start_time": "2023-03-24T11:11:06.071Z"
   },
   {
    "duration": 11,
    "start_time": "2023-03-24T11:11:06.104Z"
   },
   {
    "duration": 23,
    "start_time": "2023-03-24T11:11:06.117Z"
   },
   {
    "duration": 178,
    "start_time": "2023-03-24T11:11:06.142Z"
   },
   {
    "duration": 10,
    "start_time": "2023-03-24T11:11:06.321Z"
   },
   {
    "duration": 14,
    "start_time": "2023-03-24T11:11:06.333Z"
   },
   {
    "duration": 5,
    "start_time": "2023-03-24T11:11:06.349Z"
   },
   {
    "duration": 7,
    "start_time": "2023-03-24T11:11:06.356Z"
   },
   {
    "duration": 41,
    "start_time": "2023-03-24T11:11:06.364Z"
   },
   {
    "duration": 4,
    "start_time": "2023-03-24T11:11:06.414Z"
   },
   {
    "duration": 140,
    "start_time": "2023-03-24T11:11:06.419Z"
   },
   {
    "duration": 5,
    "start_time": "2023-03-24T11:11:06.560Z"
   },
   {
    "duration": 6,
    "start_time": "2023-03-24T11:11:06.567Z"
   },
   {
    "duration": 26,
    "start_time": "2023-03-24T11:11:06.574Z"
   },
   {
    "duration": 15,
    "start_time": "2023-03-24T11:11:06.610Z"
   },
   {
    "duration": 29,
    "start_time": "2023-03-24T11:11:06.627Z"
   },
   {
    "duration": 18,
    "start_time": "2023-03-24T11:11:06.658Z"
   },
   {
    "duration": 5,
    "start_time": "2023-03-24T11:11:06.677Z"
   },
   {
    "duration": 20,
    "start_time": "2023-03-24T11:11:06.694Z"
   },
   {
    "duration": 251,
    "start_time": "2023-03-24T11:11:06.718Z"
   },
   {
    "duration": 8,
    "start_time": "2023-03-24T11:11:06.971Z"
   },
   {
    "duration": 27,
    "start_time": "2023-03-24T11:11:06.980Z"
   },
   {
    "duration": 330,
    "start_time": "2023-03-24T11:11:07.008Z"
   },
   {
    "duration": 11,
    "start_time": "2023-03-24T11:11:07.340Z"
   },
   {
    "duration": 34,
    "start_time": "2023-03-24T11:11:07.353Z"
   },
   {
    "duration": 94,
    "start_time": "2023-03-24T11:11:07.389Z"
   },
   {
    "duration": 50,
    "start_time": "2023-03-24T11:11:07.485Z"
   },
   {
    "duration": 14,
    "start_time": "2023-03-24T11:11:07.537Z"
   },
   {
    "duration": 88,
    "start_time": "2023-03-24T11:11:07.553Z"
   },
   {
    "duration": 22,
    "start_time": "2023-03-24T11:11:07.644Z"
   },
   {
    "duration": 6,
    "start_time": "2023-03-24T11:11:07.668Z"
   },
   {
    "duration": 473,
    "start_time": "2023-03-24T11:11:07.676Z"
   },
   {
    "duration": 8,
    "start_time": "2023-03-24T11:11:08.150Z"
   },
   {
    "duration": 158,
    "start_time": "2023-03-24T11:11:08.160Z"
   },
   {
    "duration": 12,
    "start_time": "2023-03-24T11:11:08.320Z"
   },
   {
    "duration": 638,
    "start_time": "2023-03-24T11:11:08.334Z"
   },
   {
    "duration": 257,
    "start_time": "2023-03-24T11:11:08.973Z"
   },
   {
    "duration": 405,
    "start_time": "2023-03-24T11:11:09.232Z"
   },
   {
    "duration": 17,
    "start_time": "2023-03-24T11:11:09.639Z"
   },
   {
    "duration": 61,
    "start_time": "2023-03-24T11:11:09.658Z"
   },
   {
    "duration": 14,
    "start_time": "2023-03-24T11:11:09.721Z"
   },
   {
    "duration": 10,
    "start_time": "2023-03-24T11:11:09.737Z"
   },
   {
    "duration": 15,
    "start_time": "2023-03-24T11:11:09.748Z"
   },
   {
    "duration": 514,
    "start_time": "2023-03-24T11:11:09.765Z"
   },
   {
    "duration": 28,
    "start_time": "2023-03-24T11:11:10.281Z"
   },
   {
    "duration": 394,
    "start_time": "2023-03-24T11:11:10.316Z"
   },
   {
    "duration": 4,
    "start_time": "2023-03-24T11:11:10.716Z"
   },
   {
    "duration": 23,
    "start_time": "2023-03-24T11:11:10.722Z"
   },
   {
    "duration": 580,
    "start_time": "2023-03-24T11:11:10.747Z"
   },
   {
    "duration": 5,
    "start_time": "2023-03-24T11:11:11.329Z"
   },
   {
    "duration": 217,
    "start_time": "2023-03-24T11:11:11.335Z"
   },
   {
    "duration": 196,
    "start_time": "2023-03-24T11:11:11.554Z"
   },
   {
    "duration": 9,
    "start_time": "2023-03-24T11:11:11.752Z"
   },
   {
    "duration": 162,
    "start_time": "2023-03-24T11:11:11.762Z"
   },
   {
    "duration": 148,
    "start_time": "2023-03-24T11:11:11.926Z"
   },
   {
    "duration": 157,
    "start_time": "2023-03-24T11:11:12.076Z"
   },
   {
    "duration": 251,
    "start_time": "2023-03-24T11:12:13.235Z"
   },
   {
    "duration": 1688,
    "start_time": "2023-03-24T11:12:38.373Z"
   },
   {
    "duration": 95,
    "start_time": "2023-03-24T11:12:40.063Z"
   },
   {
    "duration": 16,
    "start_time": "2023-03-24T11:12:40.159Z"
   },
   {
    "duration": 6,
    "start_time": "2023-03-24T11:12:40.190Z"
   },
   {
    "duration": 16,
    "start_time": "2023-03-24T11:12:40.200Z"
   },
   {
    "duration": 17,
    "start_time": "2023-03-24T11:12:40.219Z"
   },
   {
    "duration": 30,
    "start_time": "2023-03-24T11:12:40.238Z"
   },
   {
    "duration": 34,
    "start_time": "2023-03-24T11:12:40.270Z"
   },
   {
    "duration": 21,
    "start_time": "2023-03-24T11:12:40.311Z"
   },
   {
    "duration": 10,
    "start_time": "2023-03-24T11:12:40.335Z"
   },
   {
    "duration": 11,
    "start_time": "2023-03-24T11:12:40.346Z"
   },
   {
    "duration": 5,
    "start_time": "2023-03-24T11:12:40.359Z"
   },
   {
    "duration": 184,
    "start_time": "2023-03-24T11:12:40.365Z"
   },
   {
    "duration": 16,
    "start_time": "2023-03-24T11:12:40.551Z"
   },
   {
    "duration": 224,
    "start_time": "2023-03-24T11:12:40.569Z"
   },
   {
    "duration": 0,
    "start_time": "2023-03-24T11:12:40.796Z"
   },
   {
    "duration": 0,
    "start_time": "2023-03-24T11:12:40.799Z"
   },
   {
    "duration": 0,
    "start_time": "2023-03-24T11:12:40.802Z"
   },
   {
    "duration": 0,
    "start_time": "2023-03-24T11:12:40.802Z"
   },
   {
    "duration": 0,
    "start_time": "2023-03-24T11:12:40.803Z"
   },
   {
    "duration": 0,
    "start_time": "2023-03-24T11:12:40.805Z"
   },
   {
    "duration": 0,
    "start_time": "2023-03-24T11:12:40.810Z"
   },
   {
    "duration": 0,
    "start_time": "2023-03-24T11:12:40.811Z"
   },
   {
    "duration": 0,
    "start_time": "2023-03-24T11:12:40.812Z"
   },
   {
    "duration": 0,
    "start_time": "2023-03-24T11:12:40.812Z"
   },
   {
    "duration": 0,
    "start_time": "2023-03-24T11:12:40.816Z"
   },
   {
    "duration": 0,
    "start_time": "2023-03-24T11:12:40.818Z"
   },
   {
    "duration": 0,
    "start_time": "2023-03-24T11:12:40.819Z"
   },
   {
    "duration": 0,
    "start_time": "2023-03-24T11:12:40.821Z"
   },
   {
    "duration": 0,
    "start_time": "2023-03-24T11:12:40.822Z"
   },
   {
    "duration": 0,
    "start_time": "2023-03-24T11:12:40.823Z"
   },
   {
    "duration": 0,
    "start_time": "2023-03-24T11:12:40.825Z"
   },
   {
    "duration": 0,
    "start_time": "2023-03-24T11:12:40.826Z"
   },
   {
    "duration": 0,
    "start_time": "2023-03-24T11:12:40.827Z"
   },
   {
    "duration": 0,
    "start_time": "2023-03-24T11:12:40.828Z"
   },
   {
    "duration": 0,
    "start_time": "2023-03-24T11:12:40.829Z"
   },
   {
    "duration": 0,
    "start_time": "2023-03-24T11:12:40.830Z"
   },
   {
    "duration": 0,
    "start_time": "2023-03-24T11:12:40.831Z"
   },
   {
    "duration": 0,
    "start_time": "2023-03-24T11:12:40.832Z"
   },
   {
    "duration": 0,
    "start_time": "2023-03-24T11:12:40.833Z"
   },
   {
    "duration": 1,
    "start_time": "2023-03-24T11:12:40.834Z"
   },
   {
    "duration": 0,
    "start_time": "2023-03-24T11:12:40.836Z"
   },
   {
    "duration": 0,
    "start_time": "2023-03-24T11:12:40.837Z"
   },
   {
    "duration": 0,
    "start_time": "2023-03-24T11:12:40.838Z"
   },
   {
    "duration": 0,
    "start_time": "2023-03-24T11:12:40.839Z"
   },
   {
    "duration": 0,
    "start_time": "2023-03-24T11:12:40.840Z"
   },
   {
    "duration": 0,
    "start_time": "2023-03-24T11:12:40.841Z"
   },
   {
    "duration": 0,
    "start_time": "2023-03-24T11:12:40.842Z"
   },
   {
    "duration": 0,
    "start_time": "2023-03-24T11:12:40.843Z"
   },
   {
    "duration": 0,
    "start_time": "2023-03-24T11:12:40.844Z"
   },
   {
    "duration": 0,
    "start_time": "2023-03-24T11:12:40.889Z"
   },
   {
    "duration": 0,
    "start_time": "2023-03-24T11:12:40.890Z"
   },
   {
    "duration": 0,
    "start_time": "2023-03-24T11:12:40.890Z"
   },
   {
    "duration": 0,
    "start_time": "2023-03-24T11:12:40.893Z"
   },
   {
    "duration": 0,
    "start_time": "2023-03-24T11:12:40.894Z"
   },
   {
    "duration": 0,
    "start_time": "2023-03-24T11:12:40.895Z"
   },
   {
    "duration": 0,
    "start_time": "2023-03-24T11:12:40.895Z"
   },
   {
    "duration": 0,
    "start_time": "2023-03-24T11:12:40.897Z"
   },
   {
    "duration": 0,
    "start_time": "2023-03-24T11:12:40.897Z"
   },
   {
    "duration": 0,
    "start_time": "2023-03-24T11:12:40.900Z"
   },
   {
    "duration": 0,
    "start_time": "2023-03-24T11:12:40.901Z"
   },
   {
    "duration": 0,
    "start_time": "2023-03-24T11:12:40.903Z"
   },
   {
    "duration": 0,
    "start_time": "2023-03-24T11:12:40.904Z"
   },
   {
    "duration": 0,
    "start_time": "2023-03-24T11:12:40.905Z"
   },
   {
    "duration": 103,
    "start_time": "2023-03-24T11:13:18.182Z"
   },
   {
    "duration": 10,
    "start_time": "2023-03-24T11:15:43.851Z"
   },
   {
    "duration": 7,
    "start_time": "2023-03-24T11:15:51.011Z"
   },
   {
    "duration": 144,
    "start_time": "2023-03-24T11:16:21.815Z"
   },
   {
    "duration": 4,
    "start_time": "2023-03-24T11:16:39.522Z"
   },
   {
    "duration": 13,
    "start_time": "2023-03-24T11:16:43.825Z"
   },
   {
    "duration": 4,
    "start_time": "2023-03-24T11:17:13.681Z"
   },
   {
    "duration": 81,
    "start_time": "2023-03-24T11:17:13.687Z"
   },
   {
    "duration": 13,
    "start_time": "2023-03-24T11:17:13.770Z"
   },
   {
    "duration": 11,
    "start_time": "2023-03-24T11:17:13.785Z"
   },
   {
    "duration": 15,
    "start_time": "2023-03-24T11:17:13.808Z"
   },
   {
    "duration": 14,
    "start_time": "2023-03-24T11:17:13.825Z"
   },
   {
    "duration": 22,
    "start_time": "2023-03-24T11:17:13.841Z"
   },
   {
    "duration": 15,
    "start_time": "2023-03-24T11:17:13.864Z"
   },
   {
    "duration": 97,
    "start_time": "2023-03-24T11:17:13.880Z"
   },
   {
    "duration": 36,
    "start_time": "2023-03-24T11:17:13.978Z"
   },
   {
    "duration": 4,
    "start_time": "2023-03-24T11:17:14.018Z"
   },
   {
    "duration": 6,
    "start_time": "2023-03-24T11:17:14.023Z"
   },
   {
    "duration": 146,
    "start_time": "2023-03-24T11:17:14.031Z"
   },
   {
    "duration": 4,
    "start_time": "2023-03-24T11:17:23.643Z"
   },
   {
    "duration": 19,
    "start_time": "2023-03-24T11:17:23.649Z"
   },
   {
    "duration": 108,
    "start_time": "2023-03-24T11:17:23.669Z"
   },
   {
    "duration": 1,
    "start_time": "2023-03-24T11:17:23.780Z"
   },
   {
    "duration": 0,
    "start_time": "2023-03-24T11:17:23.782Z"
   },
   {
    "duration": 0,
    "start_time": "2023-03-24T11:17:23.783Z"
   },
   {
    "duration": 0,
    "start_time": "2023-03-24T11:17:23.784Z"
   },
   {
    "duration": 0,
    "start_time": "2023-03-24T11:17:23.785Z"
   },
   {
    "duration": 0,
    "start_time": "2023-03-24T11:17:23.787Z"
   },
   {
    "duration": 0,
    "start_time": "2023-03-24T11:17:23.788Z"
   },
   {
    "duration": 0,
    "start_time": "2023-03-24T11:17:23.796Z"
   },
   {
    "duration": 1,
    "start_time": "2023-03-24T11:17:23.796Z"
   },
   {
    "duration": 0,
    "start_time": "2023-03-24T11:17:23.797Z"
   },
   {
    "duration": 0,
    "start_time": "2023-03-24T11:17:23.798Z"
   },
   {
    "duration": 0,
    "start_time": "2023-03-24T11:17:23.799Z"
   },
   {
    "duration": 0,
    "start_time": "2023-03-24T11:17:23.800Z"
   },
   {
    "duration": 0,
    "start_time": "2023-03-24T11:17:23.801Z"
   },
   {
    "duration": 0,
    "start_time": "2023-03-24T11:17:23.801Z"
   },
   {
    "duration": 0,
    "start_time": "2023-03-24T11:17:23.802Z"
   },
   {
    "duration": 0,
    "start_time": "2023-03-24T11:17:23.807Z"
   },
   {
    "duration": 0,
    "start_time": "2023-03-24T11:17:23.808Z"
   },
   {
    "duration": 0,
    "start_time": "2023-03-24T11:17:23.812Z"
   },
   {
    "duration": 0,
    "start_time": "2023-03-24T11:17:23.813Z"
   },
   {
    "duration": 0,
    "start_time": "2023-03-24T11:17:23.814Z"
   },
   {
    "duration": 0,
    "start_time": "2023-03-24T11:17:23.815Z"
   },
   {
    "duration": 0,
    "start_time": "2023-03-24T11:17:23.816Z"
   },
   {
    "duration": 0,
    "start_time": "2023-03-24T11:17:23.816Z"
   },
   {
    "duration": 0,
    "start_time": "2023-03-24T11:17:23.817Z"
   },
   {
    "duration": 0,
    "start_time": "2023-03-24T11:17:23.818Z"
   },
   {
    "duration": 0,
    "start_time": "2023-03-24T11:17:23.820Z"
   },
   {
    "duration": 0,
    "start_time": "2023-03-24T11:17:23.821Z"
   },
   {
    "duration": 0,
    "start_time": "2023-03-24T11:17:23.822Z"
   },
   {
    "duration": 0,
    "start_time": "2023-03-24T11:17:23.823Z"
   },
   {
    "duration": 0,
    "start_time": "2023-03-24T11:17:23.825Z"
   },
   {
    "duration": 1,
    "start_time": "2023-03-24T11:17:23.826Z"
   },
   {
    "duration": 0,
    "start_time": "2023-03-24T11:17:23.828Z"
   },
   {
    "duration": 0,
    "start_time": "2023-03-24T11:17:23.829Z"
   },
   {
    "duration": 0,
    "start_time": "2023-03-24T11:17:23.830Z"
   },
   {
    "duration": 0,
    "start_time": "2023-03-24T11:17:23.832Z"
   },
   {
    "duration": 0,
    "start_time": "2023-03-24T11:17:23.833Z"
   },
   {
    "duration": 0,
    "start_time": "2023-03-24T11:17:23.834Z"
   },
   {
    "duration": 0,
    "start_time": "2023-03-24T11:17:23.836Z"
   },
   {
    "duration": 0,
    "start_time": "2023-03-24T11:17:23.837Z"
   },
   {
    "duration": 0,
    "start_time": "2023-03-24T11:17:23.838Z"
   },
   {
    "duration": 0,
    "start_time": "2023-03-24T11:17:23.840Z"
   },
   {
    "duration": 0,
    "start_time": "2023-03-24T11:17:23.841Z"
   },
   {
    "duration": 0,
    "start_time": "2023-03-24T11:17:23.843Z"
   },
   {
    "duration": 0,
    "start_time": "2023-03-24T11:17:23.844Z"
   },
   {
    "duration": 0,
    "start_time": "2023-03-24T11:17:23.845Z"
   },
   {
    "duration": 0,
    "start_time": "2023-03-24T11:17:23.894Z"
   },
   {
    "duration": 0,
    "start_time": "2023-03-24T11:17:23.895Z"
   },
   {
    "duration": 0,
    "start_time": "2023-03-24T11:17:23.895Z"
   },
   {
    "duration": 4,
    "start_time": "2023-03-24T11:18:24.755Z"
   },
   {
    "duration": 107,
    "start_time": "2023-03-24T11:18:24.761Z"
   },
   {
    "duration": 14,
    "start_time": "2023-03-24T11:18:24.869Z"
   },
   {
    "duration": 25,
    "start_time": "2023-03-24T11:18:24.885Z"
   },
   {
    "duration": 10,
    "start_time": "2023-03-24T11:18:24.913Z"
   },
   {
    "duration": 14,
    "start_time": "2023-03-24T11:18:24.925Z"
   },
   {
    "duration": 15,
    "start_time": "2023-03-24T11:18:24.940Z"
   },
   {
    "duration": 13,
    "start_time": "2023-03-24T11:18:24.956Z"
   },
   {
    "duration": 31,
    "start_time": "2023-03-24T11:18:24.971Z"
   },
   {
    "duration": 11,
    "start_time": "2023-03-24T11:18:25.008Z"
   },
   {
    "duration": 9,
    "start_time": "2023-03-24T11:18:25.021Z"
   },
   {
    "duration": 7,
    "start_time": "2023-03-24T11:18:25.031Z"
   },
   {
    "duration": 174,
    "start_time": "2023-03-24T11:18:25.039Z"
   },
   {
    "duration": 25,
    "start_time": "2023-03-24T11:18:28.177Z"
   },
   {
    "duration": 96,
    "start_time": "2023-03-24T11:18:28.737Z"
   },
   {
    "duration": 5,
    "start_time": "2023-03-24T11:18:53.841Z"
   },
   {
    "duration": 4,
    "start_time": "2023-03-24T11:19:07.158Z"
   },
   {
    "duration": 173,
    "start_time": "2023-03-24T11:19:10.546Z"
   },
   {
    "duration": 4,
    "start_time": "2023-03-24T11:23:53.771Z"
   },
   {
    "duration": 106,
    "start_time": "2023-03-24T11:23:53.777Z"
   },
   {
    "duration": 31,
    "start_time": "2023-03-24T11:23:53.885Z"
   },
   {
    "duration": 14,
    "start_time": "2023-03-24T11:23:53.919Z"
   },
   {
    "duration": 48,
    "start_time": "2023-03-24T11:23:53.934Z"
   },
   {
    "duration": 33,
    "start_time": "2023-03-24T11:23:53.984Z"
   },
   {
    "duration": 35,
    "start_time": "2023-03-24T11:23:54.018Z"
   },
   {
    "duration": 61,
    "start_time": "2023-03-24T11:23:54.055Z"
   },
   {
    "duration": 19,
    "start_time": "2023-03-24T11:23:54.119Z"
   },
   {
    "duration": 42,
    "start_time": "2023-03-24T11:23:54.140Z"
   },
   {
    "duration": 28,
    "start_time": "2023-03-24T11:23:54.184Z"
   },
   {
    "duration": 38,
    "start_time": "2023-03-24T11:23:54.214Z"
   },
   {
    "duration": 197,
    "start_time": "2023-03-24T11:23:54.254Z"
   },
   {
    "duration": 2,
    "start_time": "2023-03-24T11:23:54.453Z"
   },
   {
    "duration": 48,
    "start_time": "2023-03-24T11:23:54.456Z"
   },
   {
    "duration": 40,
    "start_time": "2023-03-24T11:23:54.507Z"
   },
   {
    "duration": 72,
    "start_time": "2023-03-24T11:23:54.549Z"
   },
   {
    "duration": 28,
    "start_time": "2023-03-24T11:23:54.623Z"
   },
   {
    "duration": 206,
    "start_time": "2023-03-24T11:23:54.652Z"
   },
   {
    "duration": 2,
    "start_time": "2023-03-24T11:23:54.860Z"
   },
   {
    "duration": 54,
    "start_time": "2023-03-24T11:23:54.864Z"
   },
   {
    "duration": 15,
    "start_time": "2023-03-24T11:24:15.634Z"
   },
   {
    "duration": 1589,
    "start_time": "2023-03-24T11:24:34.554Z"
   },
   {
    "duration": 89,
    "start_time": "2023-03-24T11:24:36.145Z"
   },
   {
    "duration": 14,
    "start_time": "2023-03-24T11:24:36.236Z"
   },
   {
    "duration": 12,
    "start_time": "2023-03-24T11:24:36.252Z"
   },
   {
    "duration": 52,
    "start_time": "2023-03-24T11:24:36.265Z"
   },
   {
    "duration": 16,
    "start_time": "2023-03-24T11:24:36.318Z"
   },
   {
    "duration": 56,
    "start_time": "2023-03-24T11:24:36.335Z"
   },
   {
    "duration": 35,
    "start_time": "2023-03-24T11:24:36.393Z"
   },
   {
    "duration": 37,
    "start_time": "2023-03-24T11:24:36.430Z"
   },
   {
    "duration": 21,
    "start_time": "2023-03-24T11:24:36.469Z"
   },
   {
    "duration": 25,
    "start_time": "2023-03-24T11:24:36.492Z"
   },
   {
    "duration": 23,
    "start_time": "2023-03-24T11:24:36.519Z"
   },
   {
    "duration": 166,
    "start_time": "2023-03-24T11:24:36.544Z"
   },
   {
    "duration": 4,
    "start_time": "2023-03-24T11:24:36.712Z"
   },
   {
    "duration": 37,
    "start_time": "2023-03-24T11:24:36.718Z"
   },
   {
    "duration": 16,
    "start_time": "2023-03-24T11:24:36.756Z"
   },
   {
    "duration": 166,
    "start_time": "2023-03-24T11:24:36.774Z"
   },
   {
    "duration": 3,
    "start_time": "2023-03-24T11:24:36.941Z"
   },
   {
    "duration": 35,
    "start_time": "2023-03-24T11:24:36.946Z"
   },
   {
    "duration": 29,
    "start_time": "2023-03-24T11:24:36.982Z"
   },
   {
    "duration": 19,
    "start_time": "2023-03-24T11:24:37.017Z"
   },
   {
    "duration": 318,
    "start_time": "2023-03-24T11:24:37.038Z"
   },
   {
    "duration": 9,
    "start_time": "2023-03-24T11:24:37.359Z"
   },
   {
    "duration": 32,
    "start_time": "2023-03-24T11:24:37.371Z"
   },
   {
    "duration": 384,
    "start_time": "2023-03-24T11:24:37.415Z"
   },
   {
    "duration": 13,
    "start_time": "2023-03-24T11:24:37.803Z"
   },
   {
    "duration": 26,
    "start_time": "2023-03-24T11:24:37.819Z"
   },
   {
    "duration": 163,
    "start_time": "2023-03-24T11:24:37.848Z"
   },
   {
    "duration": 26,
    "start_time": "2023-03-24T11:24:38.013Z"
   },
   {
    "duration": 21,
    "start_time": "2023-03-24T11:24:38.041Z"
   },
   {
    "duration": 97,
    "start_time": "2023-03-24T11:24:38.063Z"
   },
   {
    "duration": 22,
    "start_time": "2023-03-24T11:24:38.163Z"
   },
   {
    "duration": 27,
    "start_time": "2023-03-24T11:24:38.187Z"
   },
   {
    "duration": 562,
    "start_time": "2023-03-24T11:24:38.216Z"
   },
   {
    "duration": 31,
    "start_time": "2023-03-24T11:24:38.780Z"
   },
   {
    "duration": 178,
    "start_time": "2023-03-24T11:24:38.813Z"
   },
   {
    "duration": 18,
    "start_time": "2023-03-24T11:24:39.005Z"
   },
   {
    "duration": 11509,
    "start_time": "2023-03-24T11:24:39.024Z"
   },
   {
    "duration": 466,
    "start_time": "2023-03-24T11:24:50.536Z"
   },
   {
    "duration": 611,
    "start_time": "2023-03-24T11:24:51.010Z"
   },
   {
    "duration": 16,
    "start_time": "2023-03-24T11:24:51.623Z"
   },
   {
    "duration": 73,
    "start_time": "2023-03-24T11:24:51.641Z"
   },
   {
    "duration": 34,
    "start_time": "2023-03-24T11:24:51.719Z"
   },
   {
    "duration": 25,
    "start_time": "2023-03-24T11:24:51.755Z"
   },
   {
    "duration": 43,
    "start_time": "2023-03-24T11:24:51.782Z"
   },
   {
    "duration": 11223,
    "start_time": "2023-03-24T11:24:51.827Z"
   },
   {
    "duration": 7,
    "start_time": "2023-03-24T11:25:03.052Z"
   },
   {
    "duration": 1955,
    "start_time": "2023-03-24T11:25:03.060Z"
   },
   {
    "duration": 6,
    "start_time": "2023-03-24T11:25:05.018Z"
   },
   {
    "duration": 23,
    "start_time": "2023-03-24T11:25:05.025Z"
   },
   {
    "duration": 1865,
    "start_time": "2023-03-24T11:25:05.050Z"
   },
   {
    "duration": 5,
    "start_time": "2023-03-24T11:25:06.917Z"
   },
   {
    "duration": 572,
    "start_time": "2023-03-24T11:25:06.924Z"
   },
   {
    "duration": 237,
    "start_time": "2023-03-24T11:25:07.497Z"
   },
   {
    "duration": 12,
    "start_time": "2023-03-24T11:25:07.737Z"
   },
   {
    "duration": 191,
    "start_time": "2023-03-24T11:25:07.751Z"
   },
   {
    "duration": 184,
    "start_time": "2023-03-24T11:25:07.944Z"
   },
   {
    "duration": 170,
    "start_time": "2023-03-24T11:25:08.130Z"
   },
   {
    "duration": 9,
    "start_time": "2023-03-24T11:25:15.614Z"
   },
   {
    "duration": 144,
    "start_time": "2023-03-24T11:27:47.527Z"
   },
   {
    "duration": 53,
    "start_time": "2023-03-24T11:28:14.619Z"
   },
   {
    "duration": 112,
    "start_time": "2023-03-24T11:28:22.240Z"
   },
   {
    "duration": 43,
    "start_time": "2023-03-24T11:28:42.114Z"
   },
   {
    "duration": 170,
    "start_time": "2023-03-24T11:50:39.237Z"
   },
   {
    "duration": 166,
    "start_time": "2023-03-24T11:50:49.774Z"
   },
   {
    "duration": 55,
    "start_time": "2023-03-24T11:54:03.626Z"
   },
   {
    "duration": 68,
    "start_time": "2023-03-24T11:54:23.974Z"
   },
   {
    "duration": 248,
    "start_time": "2023-03-24T11:55:50.811Z"
   },
   {
    "duration": 273,
    "start_time": "2023-03-24T11:56:05.056Z"
   },
   {
    "duration": 80,
    "start_time": "2023-03-24T11:56:30.285Z"
   },
   {
    "duration": 510,
    "start_time": "2023-03-24T11:59:07.258Z"
   },
   {
    "duration": 660,
    "start_time": "2023-03-24T11:59:14.595Z"
   },
   {
    "duration": 27,
    "start_time": "2023-03-24T12:00:08.326Z"
   },
   {
    "duration": 52,
    "start_time": "2023-03-24T12:07:03.000Z"
   },
   {
    "duration": 29,
    "start_time": "2023-03-24T12:08:08.975Z"
   },
   {
    "duration": 24,
    "start_time": "2023-03-24T12:08:25.676Z"
   },
   {
    "duration": 296,
    "start_time": "2023-03-24T12:08:28.337Z"
   },
   {
    "duration": 13,
    "start_time": "2023-03-24T12:10:31.634Z"
   },
   {
    "duration": 132,
    "start_time": "2023-03-24T12:19:40.147Z"
   },
   {
    "duration": 122,
    "start_time": "2023-03-24T12:21:38.014Z"
   },
   {
    "duration": 127,
    "start_time": "2023-03-24T12:24:03.814Z"
   },
   {
    "duration": 124,
    "start_time": "2023-03-24T12:40:06.153Z"
   },
   {
    "duration": 15,
    "start_time": "2023-03-24T12:40:53.703Z"
   },
   {
    "duration": 121,
    "start_time": "2023-03-24T12:41:05.058Z"
   },
   {
    "duration": 314,
    "start_time": "2023-03-24T12:43:19.108Z"
   },
   {
    "duration": 298,
    "start_time": "2023-03-24T12:45:58.454Z"
   },
   {
    "duration": 120,
    "start_time": "2023-03-24T12:46:08.201Z"
   },
   {
    "duration": 138,
    "start_time": "2023-03-24T13:01:18.653Z"
   },
   {
    "duration": 455,
    "start_time": "2023-03-24T13:09:16.589Z"
   },
   {
    "duration": 19,
    "start_time": "2023-03-24T13:09:43.601Z"
   },
   {
    "duration": 20,
    "start_time": "2023-03-24T13:10:57.878Z"
   },
   {
    "duration": 19,
    "start_time": "2023-03-24T13:14:26.779Z"
   },
   {
    "duration": 18,
    "start_time": "2023-03-24T13:14:54.038Z"
   },
   {
    "duration": 769,
    "start_time": "2023-03-24T13:15:40.003Z"
   },
   {
    "duration": 869,
    "start_time": "2023-03-24T13:18:26.910Z"
   },
   {
    "duration": 54,
    "start_time": "2023-03-24T13:20:08.586Z"
   },
   {
    "duration": 1845,
    "start_time": "2023-03-24T13:22:39.397Z"
   },
   {
    "duration": 879,
    "start_time": "2023-03-24T13:23:24.049Z"
   },
   {
    "duration": 2193,
    "start_time": "2023-03-24T13:23:57.018Z"
   },
   {
    "duration": 11,
    "start_time": "2023-03-24T13:30:31.578Z"
   },
   {
    "duration": 13,
    "start_time": "2023-03-24T13:30:50.851Z"
   },
   {
    "duration": 1734,
    "start_time": "2023-03-24T13:31:02.089Z"
   },
   {
    "duration": 1694,
    "start_time": "2023-03-24T13:31:35.588Z"
   },
   {
    "duration": 20,
    "start_time": "2023-03-24T13:46:18.261Z"
   },
   {
    "duration": 18,
    "start_time": "2023-03-24T13:46:23.306Z"
   },
   {
    "duration": 14,
    "start_time": "2023-03-24T13:46:32.659Z"
   },
   {
    "duration": 57,
    "start_time": "2023-03-24T13:46:43.420Z"
   },
   {
    "duration": 15,
    "start_time": "2023-03-24T13:47:07.248Z"
   },
   {
    "duration": 11,
    "start_time": "2023-03-24T13:47:14.123Z"
   },
   {
    "duration": 12,
    "start_time": "2023-03-24T13:47:22.909Z"
   },
   {
    "duration": 12,
    "start_time": "2023-03-24T13:48:09.063Z"
   },
   {
    "duration": 2172,
    "start_time": "2023-03-24T13:48:16.752Z"
   },
   {
    "duration": 12,
    "start_time": "2023-03-24T13:53:41.786Z"
   },
   {
    "duration": 13,
    "start_time": "2023-03-24T13:54:11.386Z"
   },
   {
    "duration": 13,
    "start_time": "2023-03-24T13:54:32.859Z"
   },
   {
    "duration": 13,
    "start_time": "2023-03-24T13:54:56.067Z"
   },
   {
    "duration": 24,
    "start_time": "2023-03-24T13:55:09.442Z"
   },
   {
    "duration": 12,
    "start_time": "2023-03-24T13:55:16.083Z"
   },
   {
    "duration": 5,
    "start_time": "2023-03-24T13:55:24.442Z"
   },
   {
    "duration": 12,
    "start_time": "2023-03-24T13:56:09.581Z"
   },
   {
    "duration": 6,
    "start_time": "2023-03-24T13:56:25.951Z"
   },
   {
    "duration": 7,
    "start_time": "2023-03-24T13:56:31.286Z"
   },
   {
    "duration": 8,
    "start_time": "2023-03-24T13:56:41.057Z"
   },
   {
    "duration": 15,
    "start_time": "2023-03-24T13:56:51.223Z"
   },
   {
    "duration": 12,
    "start_time": "2023-03-24T13:57:04.902Z"
   },
   {
    "duration": 42,
    "start_time": "2023-03-24T13:58:51.477Z"
   },
   {
    "duration": 180,
    "start_time": "2023-03-24T14:04:21.539Z"
   },
   {
    "duration": 142,
    "start_time": "2023-03-24T14:05:03.990Z"
   },
   {
    "duration": 133,
    "start_time": "2023-03-24T14:05:10.414Z"
   },
   {
    "duration": 192,
    "start_time": "2023-03-24T14:05:19.859Z"
   },
   {
    "duration": 1388,
    "start_time": "2023-03-24T18:17:23.005Z"
   },
   {
    "duration": 135,
    "start_time": "2023-03-24T18:17:24.395Z"
   },
   {
    "duration": 13,
    "start_time": "2023-03-24T18:17:24.532Z"
   },
   {
    "duration": 12,
    "start_time": "2023-03-24T18:17:24.548Z"
   },
   {
    "duration": 11,
    "start_time": "2023-03-24T18:17:24.562Z"
   },
   {
    "duration": 17,
    "start_time": "2023-03-24T18:17:24.575Z"
   },
   {
    "duration": 18,
    "start_time": "2023-03-24T18:17:24.593Z"
   },
   {
    "duration": 18,
    "start_time": "2023-03-24T18:17:24.613Z"
   },
   {
    "duration": 41,
    "start_time": "2023-03-24T18:17:24.632Z"
   },
   {
    "duration": 10,
    "start_time": "2023-03-24T18:17:24.677Z"
   },
   {
    "duration": 12,
    "start_time": "2023-03-24T18:17:24.689Z"
   },
   {
    "duration": 6,
    "start_time": "2023-03-24T18:17:24.703Z"
   },
   {
    "duration": 169,
    "start_time": "2023-03-24T18:17:24.710Z"
   },
   {
    "duration": 2,
    "start_time": "2023-03-24T18:17:24.881Z"
   },
   {
    "duration": 19,
    "start_time": "2023-03-24T18:17:24.885Z"
   },
   {
    "duration": 9,
    "start_time": "2023-03-24T18:17:24.905Z"
   },
   {
    "duration": 117,
    "start_time": "2023-03-24T18:17:24.916Z"
   },
   {
    "duration": 3,
    "start_time": "2023-03-24T18:17:25.034Z"
   },
   {
    "duration": 7,
    "start_time": "2023-03-24T18:17:25.038Z"
   },
   {
    "duration": 7,
    "start_time": "2023-03-24T18:17:25.046Z"
   },
   {
    "duration": 26,
    "start_time": "2023-03-24T18:17:25.055Z"
   },
   {
    "duration": 347,
    "start_time": "2023-03-24T18:17:25.083Z"
   },
   {
    "duration": 7,
    "start_time": "2023-03-24T18:17:25.432Z"
   },
   {
    "duration": 17,
    "start_time": "2023-03-24T18:17:25.440Z"
   },
   {
    "duration": 323,
    "start_time": "2023-03-24T18:17:25.471Z"
   },
   {
    "duration": 10,
    "start_time": "2023-03-24T18:17:25.796Z"
   },
   {
    "duration": 11,
    "start_time": "2023-03-24T18:17:25.808Z"
   },
   {
    "duration": 194,
    "start_time": "2023-03-24T18:17:25.824Z"
   },
   {
    "duration": 52,
    "start_time": "2023-03-24T18:17:26.020Z"
   },
   {
    "duration": 15,
    "start_time": "2023-03-24T18:17:26.074Z"
   },
   {
    "duration": 53,
    "start_time": "2023-03-24T18:17:26.091Z"
   },
   {
    "duration": 44,
    "start_time": "2023-03-24T18:17:26.146Z"
   },
   {
    "duration": 5,
    "start_time": "2023-03-24T18:17:26.192Z"
   },
   {
    "duration": 449,
    "start_time": "2023-03-24T18:17:26.199Z"
   },
   {
    "duration": 8,
    "start_time": "2023-03-24T18:17:26.663Z"
   },
   {
    "duration": 146,
    "start_time": "2023-03-24T18:17:26.673Z"
   },
   {
    "duration": 61,
    "start_time": "2023-03-24T18:17:26.821Z"
   },
   {
    "duration": 9196,
    "start_time": "2023-03-24T18:17:26.884Z"
   },
   {
    "duration": 442,
    "start_time": "2023-03-24T18:17:36.082Z"
   },
   {
    "duration": 520,
    "start_time": "2023-03-24T18:17:36.525Z"
   },
   {
    "duration": 18,
    "start_time": "2023-03-24T18:17:37.046Z"
   },
   {
    "duration": 272,
    "start_time": "2023-03-24T18:17:37.072Z"
   },
   {
    "duration": 122,
    "start_time": "2023-03-24T18:17:37.346Z"
   },
   {
    "duration": 229,
    "start_time": "2023-03-24T18:17:37.471Z"
   },
   {
    "duration": 0,
    "start_time": "2023-03-24T18:17:37.702Z"
   },
   {
    "duration": 0,
    "start_time": "2023-03-24T18:17:37.703Z"
   },
   {
    "duration": 0,
    "start_time": "2023-03-24T18:17:37.704Z"
   },
   {
    "duration": 0,
    "start_time": "2023-03-24T18:17:37.705Z"
   },
   {
    "duration": 0,
    "start_time": "2023-03-24T18:17:37.705Z"
   },
   {
    "duration": 0,
    "start_time": "2023-03-24T18:17:37.706Z"
   },
   {
    "duration": 0,
    "start_time": "2023-03-24T18:17:37.707Z"
   },
   {
    "duration": 0,
    "start_time": "2023-03-24T18:17:37.708Z"
   },
   {
    "duration": 0,
    "start_time": "2023-03-24T18:17:37.709Z"
   },
   {
    "duration": 0,
    "start_time": "2023-03-24T18:17:37.710Z"
   },
   {
    "duration": 0,
    "start_time": "2023-03-24T18:17:37.710Z"
   },
   {
    "duration": 0,
    "start_time": "2023-03-24T18:17:37.711Z"
   },
   {
    "duration": 0,
    "start_time": "2023-03-24T18:17:37.712Z"
   },
   {
    "duration": 0,
    "start_time": "2023-03-24T18:17:37.713Z"
   },
   {
    "duration": 0,
    "start_time": "2023-03-24T18:17:37.714Z"
   },
   {
    "duration": 0,
    "start_time": "2023-03-24T18:17:37.714Z"
   },
   {
    "duration": 0,
    "start_time": "2023-03-24T18:17:37.715Z"
   },
   {
    "duration": 0,
    "start_time": "2023-03-24T18:17:37.716Z"
   },
   {
    "duration": 0,
    "start_time": "2023-03-24T18:17:37.717Z"
   },
   {
    "duration": 0,
    "start_time": "2023-03-24T18:17:37.718Z"
   },
   {
    "duration": 0,
    "start_time": "2023-03-24T18:17:37.719Z"
   },
   {
    "duration": 6,
    "start_time": "2023-03-24T18:21:11.062Z"
   },
   {
    "duration": 4,
    "start_time": "2023-03-24T18:22:07.599Z"
   },
   {
    "duration": 87,
    "start_time": "2023-03-24T18:22:50.567Z"
   },
   {
    "duration": 15,
    "start_time": "2023-03-24T18:22:53.071Z"
   },
   {
    "duration": 4,
    "start_time": "2023-03-24T18:22:54.151Z"
   },
   {
    "duration": 9,
    "start_time": "2023-03-24T18:22:55.221Z"
   },
   {
    "duration": 15,
    "start_time": "2023-03-24T18:22:57.075Z"
   },
   {
    "duration": 12,
    "start_time": "2023-03-24T18:22:57.602Z"
   },
   {
    "duration": 12,
    "start_time": "2023-03-24T18:22:58.223Z"
   },
   {
    "duration": 16,
    "start_time": "2023-03-24T18:23:00.271Z"
   },
   {
    "duration": 7,
    "start_time": "2023-03-24T18:23:01.435Z"
   },
   {
    "duration": 4,
    "start_time": "2023-03-24T18:23:03.073Z"
   },
   {
    "duration": 3,
    "start_time": "2023-03-24T18:23:03.378Z"
   },
   {
    "duration": 120,
    "start_time": "2023-03-24T18:23:05.528Z"
   },
   {
    "duration": 2,
    "start_time": "2023-03-24T18:23:07.965Z"
   },
   {
    "duration": 7,
    "start_time": "2023-03-24T18:23:13.738Z"
   },
   {
    "duration": 7,
    "start_time": "2023-03-24T18:23:32.238Z"
   },
   {
    "duration": 4,
    "start_time": "2023-03-24T18:23:41.854Z"
   },
   {
    "duration": 7,
    "start_time": "2023-03-24T18:23:44.527Z"
   },
   {
    "duration": 12,
    "start_time": "2023-03-24T18:26:23.360Z"
   },
   {
    "duration": 8,
    "start_time": "2023-03-24T18:27:48.236Z"
   },
   {
    "duration": 70,
    "start_time": "2023-03-24T18:28:13.382Z"
   },
   {
    "duration": 18,
    "start_time": "2023-03-24T18:31:23.849Z"
   },
   {
    "duration": 17,
    "start_time": "2023-03-24T18:31:29.022Z"
   },
   {
    "duration": 40,
    "start_time": "2023-03-24T18:31:36.086Z"
   },
   {
    "duration": 39,
    "start_time": "2023-03-24T18:31:41.503Z"
   },
   {
    "duration": 40,
    "start_time": "2023-03-24T18:31:51.686Z"
   },
   {
    "duration": 51,
    "start_time": "2023-03-24T18:32:07.963Z"
   },
   {
    "duration": 358,
    "start_time": "2023-03-24T18:32:18.919Z"
   },
   {
    "duration": 322,
    "start_time": "2023-03-24T18:33:21.221Z"
   },
   {
    "duration": 73,
    "start_time": "2023-03-24T18:34:50.692Z"
   },
   {
    "duration": 13,
    "start_time": "2023-03-24T18:34:59.145Z"
   },
   {
    "duration": 21,
    "start_time": "2023-03-24T18:35:09.146Z"
   },
   {
    "duration": 14,
    "start_time": "2023-03-24T18:35:12.577Z"
   },
   {
    "duration": 17,
    "start_time": "2023-03-24T18:36:03.145Z"
   },
   {
    "duration": 29,
    "start_time": "2023-03-24T18:36:04.127Z"
   },
   {
    "duration": 185,
    "start_time": "2023-03-24T18:36:04.339Z"
   },
   {
    "duration": 684,
    "start_time": "2023-03-24T18:36:26.268Z"
   },
   {
    "duration": 31,
    "start_time": "2023-03-24T18:36:32.025Z"
   },
   {
    "duration": 29,
    "start_time": "2023-03-24T18:36:32.213Z"
   },
   {
    "duration": 18,
    "start_time": "2023-03-24T18:36:45.339Z"
   },
   {
    "duration": 11,
    "start_time": "2023-03-24T18:37:43.341Z"
   },
   {
    "duration": 1490,
    "start_time": "2023-03-24T18:38:38.302Z"
   },
   {
    "duration": 75,
    "start_time": "2023-03-24T18:38:39.794Z"
   },
   {
    "duration": 12,
    "start_time": "2023-03-24T18:38:39.871Z"
   },
   {
    "duration": 3,
    "start_time": "2023-03-24T18:38:39.885Z"
   },
   {
    "duration": 13,
    "start_time": "2023-03-24T18:38:39.890Z"
   },
   {
    "duration": 34,
    "start_time": "2023-03-24T18:38:39.905Z"
   },
   {
    "duration": 33,
    "start_time": "2023-03-24T18:38:39.940Z"
   },
   {
    "duration": 18,
    "start_time": "2023-03-24T18:38:39.974Z"
   },
   {
    "duration": 20,
    "start_time": "2023-03-24T18:38:39.993Z"
   },
   {
    "duration": 27,
    "start_time": "2023-03-24T18:38:40.015Z"
   },
   {
    "duration": 16,
    "start_time": "2023-03-24T18:38:40.044Z"
   },
   {
    "duration": 18,
    "start_time": "2023-03-24T18:38:40.061Z"
   },
   {
    "duration": 131,
    "start_time": "2023-03-24T18:38:40.080Z"
   },
   {
    "duration": 4,
    "start_time": "2023-03-24T18:38:40.213Z"
   },
   {
    "duration": 13,
    "start_time": "2023-03-24T18:38:40.218Z"
   },
   {
    "duration": 5,
    "start_time": "2023-03-24T18:38:40.233Z"
   },
   {
    "duration": 6,
    "start_time": "2023-03-24T18:38:40.239Z"
   },
   {
    "duration": 129,
    "start_time": "2023-03-24T18:38:40.246Z"
   },
   {
    "duration": 2,
    "start_time": "2023-03-24T18:38:40.377Z"
   },
   {
    "duration": 14,
    "start_time": "2023-03-24T18:38:40.381Z"
   },
   {
    "duration": 12,
    "start_time": "2023-03-24T18:38:40.396Z"
   },
   {
    "duration": 8,
    "start_time": "2023-03-24T18:38:40.410Z"
   },
   {
    "duration": 301,
    "start_time": "2023-03-24T18:38:40.419Z"
   },
   {
    "duration": 6,
    "start_time": "2023-03-24T18:38:40.721Z"
   },
   {
    "duration": 9,
    "start_time": "2023-03-24T18:38:40.729Z"
   },
   {
    "duration": 290,
    "start_time": "2023-03-24T18:38:40.740Z"
   },
   {
    "duration": 9,
    "start_time": "2023-03-24T18:38:41.031Z"
   },
   {
    "duration": 9,
    "start_time": "2023-03-24T18:38:41.043Z"
   },
   {
    "duration": 127,
    "start_time": "2023-03-24T18:38:41.054Z"
   },
   {
    "duration": 23,
    "start_time": "2023-03-24T18:38:41.183Z"
   },
   {
    "duration": 11,
    "start_time": "2023-03-24T18:38:41.208Z"
   },
   {
    "duration": 97,
    "start_time": "2023-03-24T18:38:41.221Z"
   },
   {
    "duration": 18,
    "start_time": "2023-03-24T18:38:41.320Z"
   },
   {
    "duration": 4,
    "start_time": "2023-03-24T18:38:41.340Z"
   },
   {
    "duration": 445,
    "start_time": "2023-03-24T18:38:41.345Z"
   },
   {
    "duration": 6,
    "start_time": "2023-03-24T18:38:41.792Z"
   },
   {
    "duration": 160,
    "start_time": "2023-03-24T18:38:41.799Z"
   },
   {
    "duration": 16,
    "start_time": "2023-03-24T18:38:41.961Z"
   },
   {
    "duration": 9229,
    "start_time": "2023-03-24T18:38:41.979Z"
   },
   {
    "duration": 398,
    "start_time": "2023-03-24T18:38:51.210Z"
   },
   {
    "duration": 574,
    "start_time": "2023-03-24T18:38:51.610Z"
   },
   {
    "duration": 18,
    "start_time": "2023-03-24T18:38:52.186Z"
   },
   {
    "duration": 284,
    "start_time": "2023-03-24T18:38:52.206Z"
   },
   {
    "duration": 120,
    "start_time": "2023-03-24T18:38:52.492Z"
   },
   {
    "duration": 16,
    "start_time": "2023-03-24T18:38:52.614Z"
   },
   {
    "duration": 49,
    "start_time": "2023-03-24T18:38:52.631Z"
   },
   {
    "duration": 27,
    "start_time": "2023-03-24T18:38:52.681Z"
   },
   {
    "duration": 722,
    "start_time": "2023-03-24T18:38:52.710Z"
   },
   {
    "duration": 257,
    "start_time": "2023-03-24T18:38:53.434Z"
   },
   {
    "duration": 0,
    "start_time": "2023-03-24T18:38:53.693Z"
   },
   {
    "duration": 0,
    "start_time": "2023-03-24T18:38:53.695Z"
   },
   {
    "duration": 0,
    "start_time": "2023-03-24T18:38:53.696Z"
   },
   {
    "duration": 0,
    "start_time": "2023-03-24T18:38:53.697Z"
   },
   {
    "duration": 0,
    "start_time": "2023-03-24T18:38:53.698Z"
   },
   {
    "duration": 0,
    "start_time": "2023-03-24T18:38:53.700Z"
   },
   {
    "duration": 0,
    "start_time": "2023-03-24T18:38:53.701Z"
   },
   {
    "duration": 0,
    "start_time": "2023-03-24T18:38:53.703Z"
   },
   {
    "duration": 0,
    "start_time": "2023-03-24T18:38:53.704Z"
   },
   {
    "duration": 0,
    "start_time": "2023-03-24T18:38:53.706Z"
   },
   {
    "duration": 0,
    "start_time": "2023-03-24T18:38:53.707Z"
   },
   {
    "duration": 0,
    "start_time": "2023-03-24T18:38:53.708Z"
   },
   {
    "duration": 0,
    "start_time": "2023-03-24T18:38:53.708Z"
   },
   {
    "duration": 0,
    "start_time": "2023-03-24T18:38:53.709Z"
   },
   {
    "duration": 0,
    "start_time": "2023-03-24T18:38:53.710Z"
   },
   {
    "duration": 0,
    "start_time": "2023-03-24T18:38:53.711Z"
   },
   {
    "duration": 0,
    "start_time": "2023-03-24T18:38:53.712Z"
   },
   {
    "duration": 26,
    "start_time": "2023-03-24T18:39:13.542Z"
   },
   {
    "duration": 26,
    "start_time": "2023-03-24T18:39:24.449Z"
   },
   {
    "duration": 11,
    "start_time": "2023-03-24T18:39:29.465Z"
   },
   {
    "duration": 8725,
    "start_time": "2023-03-24T18:39:30.766Z"
   },
   {
    "duration": 6,
    "start_time": "2023-03-24T18:39:39.495Z"
   },
   {
    "duration": 1501,
    "start_time": "2023-03-24T18:39:39.503Z"
   },
   {
    "duration": 6,
    "start_time": "2023-03-24T18:39:41.006Z"
   },
   {
    "duration": 20,
    "start_time": "2023-03-24T18:39:41.014Z"
   },
   {
    "duration": 1710,
    "start_time": "2023-03-24T18:39:41.036Z"
   },
   {
    "duration": 5,
    "start_time": "2023-03-24T18:39:42.747Z"
   },
   {
    "duration": 25,
    "start_time": "2023-03-24T18:39:42.754Z"
   },
   {
    "duration": 12,
    "start_time": "2023-03-24T18:39:42.781Z"
   },
   {
    "duration": 1513,
    "start_time": "2023-03-24T18:39:42.795Z"
   },
   {
    "duration": 203,
    "start_time": "2023-03-24T18:39:44.310Z"
   },
   {
    "duration": 9,
    "start_time": "2023-03-24T18:39:44.514Z"
   },
   {
    "duration": 119,
    "start_time": "2023-03-24T18:39:44.525Z"
   },
   {
    "duration": 122,
    "start_time": "2023-03-24T18:39:44.646Z"
   },
   {
    "duration": 124,
    "start_time": "2023-03-24T18:39:44.772Z"
   },
   {
    "duration": 1394,
    "start_time": "2023-03-24T18:43:58.119Z"
   },
   {
    "duration": 80,
    "start_time": "2023-03-24T18:43:59.515Z"
   },
   {
    "duration": 13,
    "start_time": "2023-03-24T18:43:59.597Z"
   },
   {
    "duration": 4,
    "start_time": "2023-03-24T18:43:59.612Z"
   },
   {
    "duration": 9,
    "start_time": "2023-03-24T18:43:59.617Z"
   },
   {
    "duration": 13,
    "start_time": "2023-03-24T18:43:59.627Z"
   },
   {
    "duration": 37,
    "start_time": "2023-03-24T18:43:59.642Z"
   },
   {
    "duration": 13,
    "start_time": "2023-03-24T18:43:59.680Z"
   },
   {
    "duration": 15,
    "start_time": "2023-03-24T18:43:59.695Z"
   },
   {
    "duration": 8,
    "start_time": "2023-03-24T18:43:59.713Z"
   },
   {
    "duration": 5,
    "start_time": "2023-03-24T18:43:59.723Z"
   },
   {
    "duration": 6,
    "start_time": "2023-03-24T18:43:59.729Z"
   },
   {
    "duration": 155,
    "start_time": "2023-03-24T18:43:59.736Z"
   },
   {
    "duration": 2,
    "start_time": "2023-03-24T18:43:59.893Z"
   },
   {
    "duration": 13,
    "start_time": "2023-03-24T18:43:59.896Z"
   },
   {
    "duration": 4,
    "start_time": "2023-03-24T18:43:59.910Z"
   },
   {
    "duration": 4,
    "start_time": "2023-03-24T18:43:59.915Z"
   },
   {
    "duration": 124,
    "start_time": "2023-03-24T18:43:59.921Z"
   },
   {
    "duration": 3,
    "start_time": "2023-03-24T18:44:00.046Z"
   },
   {
    "duration": 12,
    "start_time": "2023-03-24T18:44:00.050Z"
   },
   {
    "duration": 7,
    "start_time": "2023-03-24T18:44:00.071Z"
   },
   {
    "duration": 13,
    "start_time": "2023-03-24T18:44:00.079Z"
   },
   {
    "duration": 302,
    "start_time": "2023-03-24T18:44:00.093Z"
   },
   {
    "duration": 6,
    "start_time": "2023-03-24T18:44:00.396Z"
   },
   {
    "duration": 78,
    "start_time": "2023-03-24T18:44:00.404Z"
   },
   {
    "duration": 219,
    "start_time": "2023-03-24T18:44:00.483Z"
   },
   {
    "duration": 9,
    "start_time": "2023-03-24T18:44:00.703Z"
   },
   {
    "duration": 40,
    "start_time": "2023-03-24T18:44:00.716Z"
   },
   {
    "duration": 132,
    "start_time": "2023-03-24T18:44:00.758Z"
   },
   {
    "duration": 21,
    "start_time": "2023-03-24T18:44:00.892Z"
   },
   {
    "duration": 25,
    "start_time": "2023-03-24T18:44:00.915Z"
   },
   {
    "duration": 82,
    "start_time": "2023-03-24T18:44:00.942Z"
   },
   {
    "duration": 19,
    "start_time": "2023-03-24T18:44:01.025Z"
   },
   {
    "duration": 19,
    "start_time": "2023-03-24T18:44:01.046Z"
   },
   {
    "duration": 470,
    "start_time": "2023-03-24T18:44:01.067Z"
   },
   {
    "duration": 7,
    "start_time": "2023-03-24T18:44:01.538Z"
   },
   {
    "duration": 170,
    "start_time": "2023-03-24T18:44:01.546Z"
   },
   {
    "duration": 13,
    "start_time": "2023-03-24T18:44:01.718Z"
   },
   {
    "duration": 8919,
    "start_time": "2023-03-24T18:44:01.733Z"
   },
   {
    "duration": 341,
    "start_time": "2023-03-24T18:44:10.654Z"
   },
   {
    "duration": 517,
    "start_time": "2023-03-24T18:44:10.996Z"
   },
   {
    "duration": 13,
    "start_time": "2023-03-24T18:44:11.515Z"
   },
   {
    "duration": 244,
    "start_time": "2023-03-24T18:44:11.530Z"
   },
   {
    "duration": 98,
    "start_time": "2023-03-24T18:44:11.776Z"
   },
   {
    "duration": 11,
    "start_time": "2023-03-24T18:44:11.876Z"
   },
   {
    "duration": 17,
    "start_time": "2023-03-24T18:44:11.888Z"
   },
   {
    "duration": 24,
    "start_time": "2023-03-24T18:44:11.906Z"
   },
   {
    "duration": 693,
    "start_time": "2023-03-24T18:44:11.931Z"
   },
   {
    "duration": 185,
    "start_time": "2023-03-24T18:44:12.626Z"
   },
   {
    "duration": 0,
    "start_time": "2023-03-24T18:44:12.812Z"
   },
   {
    "duration": 0,
    "start_time": "2023-03-24T18:44:12.813Z"
   },
   {
    "duration": 0,
    "start_time": "2023-03-24T18:44:12.814Z"
   },
   {
    "duration": 0,
    "start_time": "2023-03-24T18:44:12.815Z"
   },
   {
    "duration": 0,
    "start_time": "2023-03-24T18:44:12.816Z"
   },
   {
    "duration": 0,
    "start_time": "2023-03-24T18:44:12.816Z"
   },
   {
    "duration": 0,
    "start_time": "2023-03-24T18:44:12.817Z"
   },
   {
    "duration": 0,
    "start_time": "2023-03-24T18:44:12.818Z"
   },
   {
    "duration": 0,
    "start_time": "2023-03-24T18:44:12.818Z"
   },
   {
    "duration": 0,
    "start_time": "2023-03-24T18:44:12.820Z"
   },
   {
    "duration": 0,
    "start_time": "2023-03-24T18:44:12.820Z"
   },
   {
    "duration": 0,
    "start_time": "2023-03-24T18:44:12.821Z"
   },
   {
    "duration": 0,
    "start_time": "2023-03-24T18:44:12.822Z"
   },
   {
    "duration": 0,
    "start_time": "2023-03-24T18:44:12.823Z"
   },
   {
    "duration": 0,
    "start_time": "2023-03-24T18:44:12.823Z"
   },
   {
    "duration": 0,
    "start_time": "2023-03-24T18:44:12.824Z"
   },
   {
    "duration": 0,
    "start_time": "2023-03-24T18:44:12.825Z"
   },
   {
    "duration": 1695,
    "start_time": "2023-03-25T08:30:00.880Z"
   },
   {
    "duration": 132,
    "start_time": "2023-03-25T08:30:02.577Z"
   },
   {
    "duration": 14,
    "start_time": "2023-03-25T08:30:02.710Z"
   },
   {
    "duration": 3,
    "start_time": "2023-03-25T08:30:02.726Z"
   },
   {
    "duration": 12,
    "start_time": "2023-03-25T08:30:02.730Z"
   },
   {
    "duration": 14,
    "start_time": "2023-03-25T08:30:02.744Z"
   },
   {
    "duration": 62,
    "start_time": "2023-03-25T08:30:02.760Z"
   },
   {
    "duration": 25,
    "start_time": "2023-03-25T08:30:02.824Z"
   },
   {
    "duration": 15,
    "start_time": "2023-03-25T08:30:02.852Z"
   },
   {
    "duration": 59,
    "start_time": "2023-03-25T08:30:02.870Z"
   },
   {
    "duration": 10,
    "start_time": "2023-03-25T08:30:02.930Z"
   },
   {
    "duration": 5,
    "start_time": "2023-03-25T08:30:02.942Z"
   },
   {
    "duration": 166,
    "start_time": "2023-03-25T08:30:02.948Z"
   },
   {
    "duration": 2,
    "start_time": "2023-03-25T08:30:03.115Z"
   },
   {
    "duration": 20,
    "start_time": "2023-03-25T08:30:03.118Z"
   },
   {
    "duration": 17,
    "start_time": "2023-03-25T08:30:03.139Z"
   },
   {
    "duration": 56,
    "start_time": "2023-03-25T08:30:03.158Z"
   },
   {
    "duration": 141,
    "start_time": "2023-03-25T08:30:03.215Z"
   },
   {
    "duration": 2,
    "start_time": "2023-03-25T08:30:03.358Z"
   },
   {
    "duration": 26,
    "start_time": "2023-03-25T08:30:03.372Z"
   },
   {
    "duration": 22,
    "start_time": "2023-03-25T08:30:03.400Z"
   },
   {
    "duration": 58,
    "start_time": "2023-03-25T08:30:03.424Z"
   },
   {
    "duration": 255,
    "start_time": "2023-03-25T08:30:03.484Z"
   },
   {
    "duration": 7,
    "start_time": "2023-03-25T08:30:03.740Z"
   },
   {
    "duration": 18,
    "start_time": "2023-03-25T08:30:03.748Z"
   },
   {
    "duration": 252,
    "start_time": "2023-03-25T08:30:03.768Z"
   },
   {
    "duration": 8,
    "start_time": "2023-03-25T08:30:04.022Z"
   },
   {
    "duration": 7,
    "start_time": "2023-03-25T08:30:04.034Z"
   },
   {
    "duration": 124,
    "start_time": "2023-03-25T08:30:04.043Z"
   },
   {
    "duration": 23,
    "start_time": "2023-03-25T08:30:04.172Z"
   },
   {
    "duration": 10,
    "start_time": "2023-03-25T08:30:04.197Z"
   },
   {
    "duration": 80,
    "start_time": "2023-03-25T08:30:04.209Z"
   },
   {
    "duration": 20,
    "start_time": "2023-03-25T08:30:04.291Z"
   },
   {
    "duration": 4,
    "start_time": "2023-03-25T08:30:04.312Z"
   },
   {
    "duration": 451,
    "start_time": "2023-03-25T08:30:04.318Z"
   },
   {
    "duration": 6,
    "start_time": "2023-03-25T08:30:04.771Z"
   },
   {
    "duration": 141,
    "start_time": "2023-03-25T08:30:04.779Z"
   },
   {
    "duration": 10,
    "start_time": "2023-03-25T08:30:04.922Z"
   },
   {
    "duration": 8819,
    "start_time": "2023-03-25T08:30:04.934Z"
   },
   {
    "duration": 373,
    "start_time": "2023-03-25T08:30:13.755Z"
   },
   {
    "duration": 522,
    "start_time": "2023-03-25T08:30:14.131Z"
   },
   {
    "duration": 21,
    "start_time": "2023-03-25T08:30:14.654Z"
   },
   {
    "duration": 236,
    "start_time": "2023-03-25T08:30:14.676Z"
   },
   {
    "duration": 107,
    "start_time": "2023-03-25T08:30:14.914Z"
   },
   {
    "duration": 12,
    "start_time": "2023-03-25T08:30:15.023Z"
   },
   {
    "duration": 45,
    "start_time": "2023-03-25T08:30:15.036Z"
   },
   {
    "duration": 25,
    "start_time": "2023-03-25T08:30:15.083Z"
   },
   {
    "duration": 759,
    "start_time": "2023-03-25T08:30:15.110Z"
   },
   {
    "duration": 214,
    "start_time": "2023-03-25T08:30:15.870Z"
   },
   {
    "duration": 0,
    "start_time": "2023-03-25T08:30:16.086Z"
   },
   {
    "duration": 0,
    "start_time": "2023-03-25T08:30:16.087Z"
   },
   {
    "duration": 0,
    "start_time": "2023-03-25T08:30:16.089Z"
   },
   {
    "duration": 0,
    "start_time": "2023-03-25T08:30:16.090Z"
   },
   {
    "duration": 1,
    "start_time": "2023-03-25T08:30:16.090Z"
   },
   {
    "duration": 0,
    "start_time": "2023-03-25T08:30:16.091Z"
   },
   {
    "duration": 0,
    "start_time": "2023-03-25T08:30:16.092Z"
   },
   {
    "duration": 0,
    "start_time": "2023-03-25T08:30:16.094Z"
   },
   {
    "duration": 0,
    "start_time": "2023-03-25T08:30:16.094Z"
   },
   {
    "duration": 0,
    "start_time": "2023-03-25T08:30:16.095Z"
   },
   {
    "duration": 0,
    "start_time": "2023-03-25T08:30:16.097Z"
   },
   {
    "duration": 0,
    "start_time": "2023-03-25T08:30:16.098Z"
   },
   {
    "duration": 0,
    "start_time": "2023-03-25T08:30:16.099Z"
   },
   {
    "duration": 0,
    "start_time": "2023-03-25T08:30:16.100Z"
   },
   {
    "duration": 0,
    "start_time": "2023-03-25T08:30:16.101Z"
   },
   {
    "duration": 0,
    "start_time": "2023-03-25T08:30:16.102Z"
   },
   {
    "duration": 0,
    "start_time": "2023-03-25T08:30:16.103Z"
   },
   {
    "duration": 10,
    "start_time": "2023-03-25T08:31:13.928Z"
   },
   {
    "duration": 6,
    "start_time": "2023-03-25T08:31:17.463Z"
   },
   {
    "duration": 1464,
    "start_time": "2023-03-25T08:31:28.052Z"
   },
   {
    "duration": 76,
    "start_time": "2023-03-25T08:31:29.518Z"
   },
   {
    "duration": 13,
    "start_time": "2023-03-25T08:31:29.595Z"
   },
   {
    "duration": 3,
    "start_time": "2023-03-25T08:31:29.610Z"
   },
   {
    "duration": 11,
    "start_time": "2023-03-25T08:31:29.615Z"
   },
   {
    "duration": 13,
    "start_time": "2023-03-25T08:31:29.628Z"
   },
   {
    "duration": 30,
    "start_time": "2023-03-25T08:31:29.643Z"
   },
   {
    "duration": 13,
    "start_time": "2023-03-25T08:31:29.674Z"
   },
   {
    "duration": 14,
    "start_time": "2023-03-25T08:31:29.689Z"
   },
   {
    "duration": 8,
    "start_time": "2023-03-25T08:31:29.706Z"
   },
   {
    "duration": 7,
    "start_time": "2023-03-25T08:31:29.715Z"
   },
   {
    "duration": 6,
    "start_time": "2023-03-25T08:31:29.723Z"
   },
   {
    "duration": 158,
    "start_time": "2023-03-25T08:31:29.731Z"
   },
   {
    "duration": 2,
    "start_time": "2023-03-25T08:31:29.891Z"
   },
   {
    "duration": 11,
    "start_time": "2023-03-25T08:31:29.895Z"
   },
   {
    "duration": 7,
    "start_time": "2023-03-25T08:31:29.908Z"
   },
   {
    "duration": 12,
    "start_time": "2023-03-25T08:31:29.916Z"
   },
   {
    "duration": 134,
    "start_time": "2023-03-25T08:31:29.930Z"
   },
   {
    "duration": 7,
    "start_time": "2023-03-25T08:31:30.065Z"
   },
   {
    "duration": 15,
    "start_time": "2023-03-25T08:31:30.075Z"
   },
   {
    "duration": 27,
    "start_time": "2023-03-25T08:31:30.092Z"
   },
   {
    "duration": 32,
    "start_time": "2023-03-25T08:31:30.121Z"
   },
   {
    "duration": 256,
    "start_time": "2023-03-25T08:31:30.155Z"
   },
   {
    "duration": 6,
    "start_time": "2023-03-25T08:31:30.413Z"
   },
   {
    "duration": 53,
    "start_time": "2023-03-25T08:31:30.420Z"
   },
   {
    "duration": 233,
    "start_time": "2023-03-25T08:31:30.474Z"
   },
   {
    "duration": 8,
    "start_time": "2023-03-25T08:31:30.708Z"
   },
   {
    "duration": 33,
    "start_time": "2023-03-25T08:31:30.720Z"
   },
   {
    "duration": 113,
    "start_time": "2023-03-25T08:31:30.755Z"
   },
   {
    "duration": 36,
    "start_time": "2023-03-25T08:31:30.870Z"
   },
   {
    "duration": 13,
    "start_time": "2023-03-25T08:31:30.908Z"
   },
   {
    "duration": 91,
    "start_time": "2023-03-25T08:31:30.923Z"
   },
   {
    "duration": 25,
    "start_time": "2023-03-25T08:31:31.016Z"
   },
   {
    "duration": 13,
    "start_time": "2023-03-25T08:31:31.042Z"
   },
   {
    "duration": 444,
    "start_time": "2023-03-25T08:31:31.072Z"
   },
   {
    "duration": 6,
    "start_time": "2023-03-25T08:31:31.518Z"
   },
   {
    "duration": 153,
    "start_time": "2023-03-25T08:31:31.526Z"
   },
   {
    "duration": 11,
    "start_time": "2023-03-25T08:31:31.680Z"
   },
   {
    "duration": 9713,
    "start_time": "2023-03-25T08:31:31.692Z"
   },
   {
    "duration": 373,
    "start_time": "2023-03-25T08:31:41.408Z"
   },
   {
    "duration": 566,
    "start_time": "2023-03-25T08:31:41.783Z"
   },
   {
    "duration": 24,
    "start_time": "2023-03-25T08:31:42.351Z"
   },
   {
    "duration": 264,
    "start_time": "2023-03-25T08:31:42.376Z"
   },
   {
    "duration": 115,
    "start_time": "2023-03-25T08:31:42.642Z"
   },
   {
    "duration": 18,
    "start_time": "2023-03-25T08:31:42.772Z"
   },
   {
    "duration": 18,
    "start_time": "2023-03-25T08:31:42.792Z"
   },
   {
    "duration": 65,
    "start_time": "2023-03-25T08:31:42.812Z"
   },
   {
    "duration": 662,
    "start_time": "2023-03-25T08:31:42.879Z"
   },
   {
    "duration": 9,
    "start_time": "2023-03-25T08:31:43.543Z"
   },
   {
    "duration": 19,
    "start_time": "2023-03-25T08:31:43.554Z"
   },
   {
    "duration": 37,
    "start_time": "2023-03-25T08:31:43.574Z"
   },
   {
    "duration": 8512,
    "start_time": "2023-03-25T08:31:43.613Z"
   },
   {
    "duration": 7,
    "start_time": "2023-03-25T08:31:52.127Z"
   },
   {
    "duration": 1503,
    "start_time": "2023-03-25T08:31:52.136Z"
   },
   {
    "duration": 5,
    "start_time": "2023-03-25T08:31:53.640Z"
   },
   {
    "duration": 29,
    "start_time": "2023-03-25T08:31:53.646Z"
   },
   {
    "duration": 1708,
    "start_time": "2023-03-25T08:31:53.676Z"
   },
   {
    "duration": 5,
    "start_time": "2023-03-25T08:31:55.385Z"
   },
   {
    "duration": 28,
    "start_time": "2023-03-25T08:31:55.391Z"
   },
   {
    "duration": 20,
    "start_time": "2023-03-25T08:31:55.420Z"
   },
   {
    "duration": 1505,
    "start_time": "2023-03-25T08:31:55.441Z"
   },
   {
    "duration": 203,
    "start_time": "2023-03-25T08:31:56.949Z"
   },
   {
    "duration": 19,
    "start_time": "2023-03-25T08:31:57.153Z"
   },
   {
    "duration": 121,
    "start_time": "2023-03-25T08:31:57.173Z"
   },
   {
    "duration": 132,
    "start_time": "2023-03-25T08:31:57.296Z"
   },
   {
    "duration": 135,
    "start_time": "2023-03-25T08:31:57.430Z"
   },
   {
    "duration": 12,
    "start_time": "2023-03-25T08:32:26.481Z"
   },
   {
    "duration": 14,
    "start_time": "2023-03-25T08:32:28.852Z"
   },
   {
    "duration": 12,
    "start_time": "2023-03-25T08:32:45.708Z"
   },
   {
    "duration": 16,
    "start_time": "2023-03-25T08:32:51.003Z"
   },
   {
    "duration": 7,
    "start_time": "2023-03-25T08:34:25.059Z"
   },
   {
    "duration": 7,
    "start_time": "2023-03-25T08:34:44.385Z"
   },
   {
    "duration": 9,
    "start_time": "2023-03-25T08:36:12.803Z"
   },
   {
    "duration": 8,
    "start_time": "2023-03-25T08:36:22.068Z"
   },
   {
    "duration": 340,
    "start_time": "2023-03-25T08:36:51.911Z"
   },
   {
    "duration": 440,
    "start_time": "2023-03-25T08:37:24.958Z"
   },
   {
    "duration": 340,
    "start_time": "2023-03-25T08:37:30.317Z"
   },
   {
    "duration": 367,
    "start_time": "2023-03-25T08:38:54.741Z"
   },
   {
    "duration": 530,
    "start_time": "2023-03-25T08:39:01.767Z"
   },
   {
    "duration": 1494,
    "start_time": "2023-03-25T08:40:26.232Z"
   },
   {
    "duration": 79,
    "start_time": "2023-03-25T08:40:27.728Z"
   },
   {
    "duration": 15,
    "start_time": "2023-03-25T08:40:27.809Z"
   },
   {
    "duration": 3,
    "start_time": "2023-03-25T08:40:27.825Z"
   },
   {
    "duration": 10,
    "start_time": "2023-03-25T08:40:27.830Z"
   },
   {
    "duration": 35,
    "start_time": "2023-03-25T08:40:27.842Z"
   },
   {
    "duration": 16,
    "start_time": "2023-03-25T08:40:27.878Z"
   },
   {
    "duration": 13,
    "start_time": "2023-03-25T08:40:27.896Z"
   },
   {
    "duration": 16,
    "start_time": "2023-03-25T08:40:27.910Z"
   },
   {
    "duration": 7,
    "start_time": "2023-03-25T08:40:27.929Z"
   },
   {
    "duration": 9,
    "start_time": "2023-03-25T08:40:27.937Z"
   },
   {
    "duration": 4,
    "start_time": "2023-03-25T08:40:27.972Z"
   },
   {
    "duration": 135,
    "start_time": "2023-03-25T08:40:27.977Z"
   },
   {
    "duration": 7,
    "start_time": "2023-03-25T08:40:28.113Z"
   },
   {
    "duration": 9,
    "start_time": "2023-03-25T08:40:28.122Z"
   },
   {
    "duration": 7,
    "start_time": "2023-03-25T08:40:28.133Z"
   },
   {
    "duration": 4,
    "start_time": "2023-03-25T08:40:28.141Z"
   },
   {
    "duration": 149,
    "start_time": "2023-03-25T08:40:28.147Z"
   },
   {
    "duration": 7,
    "start_time": "2023-03-25T08:40:28.298Z"
   },
   {
    "duration": 4,
    "start_time": "2023-03-25T08:40:28.306Z"
   },
   {
    "duration": 5,
    "start_time": "2023-03-25T08:40:28.311Z"
   },
   {
    "duration": 14,
    "start_time": "2023-03-25T08:40:28.317Z"
   },
   {
    "duration": 269,
    "start_time": "2023-03-25T08:40:28.333Z"
   },
   {
    "duration": 8,
    "start_time": "2023-03-25T08:40:28.604Z"
   },
   {
    "duration": 12,
    "start_time": "2023-03-25T08:40:28.614Z"
   },
   {
    "duration": 274,
    "start_time": "2023-03-25T08:40:28.628Z"
   },
   {
    "duration": 10,
    "start_time": "2023-03-25T08:40:28.904Z"
   },
   {
    "duration": 8,
    "start_time": "2023-03-25T08:40:28.918Z"
   },
   {
    "duration": 126,
    "start_time": "2023-03-25T08:40:28.927Z"
   },
   {
    "duration": 37,
    "start_time": "2023-03-25T08:40:29.054Z"
   },
   {
    "duration": 11,
    "start_time": "2023-03-25T08:40:29.093Z"
   },
   {
    "duration": 89,
    "start_time": "2023-03-25T08:40:29.106Z"
   },
   {
    "duration": 21,
    "start_time": "2023-03-25T08:40:29.196Z"
   },
   {
    "duration": 5,
    "start_time": "2023-03-25T08:40:29.219Z"
   },
   {
    "duration": 460,
    "start_time": "2023-03-25T08:40:29.226Z"
   },
   {
    "duration": 422,
    "start_time": "2023-03-25T08:40:29.687Z"
   },
   {
    "duration": 7,
    "start_time": "2023-03-25T08:40:30.110Z"
   },
   {
    "duration": 159,
    "start_time": "2023-03-25T08:40:30.119Z"
   },
   {
    "duration": 10,
    "start_time": "2023-03-25T08:40:30.280Z"
   },
   {
    "duration": 9054,
    "start_time": "2023-03-25T08:40:30.291Z"
   },
   {
    "duration": 360,
    "start_time": "2023-03-25T08:40:39.348Z"
   },
   {
    "duration": 535,
    "start_time": "2023-03-25T08:40:39.710Z"
   },
   {
    "duration": 25,
    "start_time": "2023-03-25T08:40:40.247Z"
   },
   {
    "duration": 254,
    "start_time": "2023-03-25T08:40:40.274Z"
   },
   {
    "duration": 109,
    "start_time": "2023-03-25T08:40:40.529Z"
   },
   {
    "duration": 33,
    "start_time": "2023-03-25T08:40:40.639Z"
   },
   {
    "duration": 18,
    "start_time": "2023-03-25T08:40:40.674Z"
   },
   {
    "duration": 24,
    "start_time": "2023-03-25T08:40:40.694Z"
   },
   {
    "duration": 722,
    "start_time": "2023-03-25T08:40:40.719Z"
   },
   {
    "duration": 9,
    "start_time": "2023-03-25T08:40:41.443Z"
   },
   {
    "duration": 19,
    "start_time": "2023-03-25T08:40:41.454Z"
   },
   {
    "duration": 15,
    "start_time": "2023-03-25T08:40:41.476Z"
   },
   {
    "duration": 8843,
    "start_time": "2023-03-25T08:40:41.492Z"
   },
   {
    "duration": 7,
    "start_time": "2023-03-25T08:40:50.337Z"
   },
   {
    "duration": 1710,
    "start_time": "2023-03-25T08:40:50.346Z"
   },
   {
    "duration": 15,
    "start_time": "2023-03-25T08:40:52.058Z"
   },
   {
    "duration": 18,
    "start_time": "2023-03-25T08:40:52.076Z"
   },
   {
    "duration": 1832,
    "start_time": "2023-03-25T08:40:52.096Z"
   },
   {
    "duration": 5,
    "start_time": "2023-03-25T08:40:53.930Z"
   },
   {
    "duration": 48,
    "start_time": "2023-03-25T08:40:53.936Z"
   },
   {
    "duration": 10,
    "start_time": "2023-03-25T08:40:53.987Z"
   },
   {
    "duration": 1543,
    "start_time": "2023-03-25T08:40:53.999Z"
   },
   {
    "duration": 199,
    "start_time": "2023-03-25T08:40:55.544Z"
   },
   {
    "duration": 9,
    "start_time": "2023-03-25T08:40:55.744Z"
   },
   {
    "duration": 130,
    "start_time": "2023-03-25T08:40:55.755Z"
   },
   {
    "duration": 173,
    "start_time": "2023-03-25T08:40:55.887Z"
   },
   {
    "duration": 134,
    "start_time": "2023-03-25T08:40:56.062Z"
   },
   {
    "duration": 24,
    "start_time": "2023-03-25T08:45:14.335Z"
   },
   {
    "duration": 15,
    "start_time": "2023-03-25T08:45:28.421Z"
   },
   {
    "duration": 15,
    "start_time": "2023-03-25T08:45:41.964Z"
   },
   {
    "duration": 1646,
    "start_time": "2023-03-25T08:45:45.203Z"
   },
   {
    "duration": 77,
    "start_time": "2023-03-25T08:45:46.850Z"
   },
   {
    "duration": 13,
    "start_time": "2023-03-25T08:45:46.929Z"
   },
   {
    "duration": 4,
    "start_time": "2023-03-25T08:45:46.945Z"
   },
   {
    "duration": 29,
    "start_time": "2023-03-25T08:45:46.950Z"
   },
   {
    "duration": 12,
    "start_time": "2023-03-25T08:45:46.981Z"
   },
   {
    "duration": 17,
    "start_time": "2023-03-25T08:45:46.995Z"
   },
   {
    "duration": 32,
    "start_time": "2023-03-25T08:45:47.014Z"
   },
   {
    "duration": 35,
    "start_time": "2023-03-25T08:45:47.047Z"
   },
   {
    "duration": 27,
    "start_time": "2023-03-25T08:45:47.086Z"
   },
   {
    "duration": 20,
    "start_time": "2023-03-25T08:45:47.115Z"
   },
   {
    "duration": 9,
    "start_time": "2023-03-25T08:45:47.137Z"
   },
   {
    "duration": 4,
    "start_time": "2023-03-25T08:45:47.147Z"
   },
   {
    "duration": 162,
    "start_time": "2023-03-25T08:45:47.153Z"
   },
   {
    "duration": 7,
    "start_time": "2023-03-25T08:45:47.316Z"
   },
   {
    "duration": 8,
    "start_time": "2023-03-25T08:45:47.325Z"
   },
   {
    "duration": 6,
    "start_time": "2023-03-25T08:45:47.334Z"
   },
   {
    "duration": 5,
    "start_time": "2023-03-25T08:45:47.342Z"
   },
   {
    "duration": 139,
    "start_time": "2023-03-25T08:45:47.349Z"
   },
   {
    "duration": 6,
    "start_time": "2023-03-25T08:45:47.490Z"
   },
   {
    "duration": 9,
    "start_time": "2023-03-25T08:45:47.498Z"
   },
   {
    "duration": 6,
    "start_time": "2023-03-25T08:45:47.509Z"
   },
   {
    "duration": 23,
    "start_time": "2023-03-25T08:45:47.516Z"
   },
   {
    "duration": 235,
    "start_time": "2023-03-25T08:45:47.541Z"
   },
   {
    "duration": 9,
    "start_time": "2023-03-25T08:45:47.778Z"
   },
   {
    "duration": 84,
    "start_time": "2023-03-25T08:45:47.789Z"
   },
   {
    "duration": 304,
    "start_time": "2023-03-25T08:45:47.876Z"
   },
   {
    "duration": 9,
    "start_time": "2023-03-25T08:45:48.185Z"
   },
   {
    "duration": 23,
    "start_time": "2023-03-25T08:45:48.195Z"
   },
   {
    "duration": 110,
    "start_time": "2023-03-25T08:45:48.219Z"
   },
   {
    "duration": 42,
    "start_time": "2023-03-25T08:45:48.331Z"
   },
   {
    "duration": 10,
    "start_time": "2023-03-25T08:45:48.375Z"
   },
   {
    "duration": 46,
    "start_time": "2023-03-25T08:45:48.387Z"
   },
   {
    "duration": 55,
    "start_time": "2023-03-25T08:45:48.435Z"
   },
   {
    "duration": 4,
    "start_time": "2023-03-25T08:45:48.491Z"
   },
   {
    "duration": 466,
    "start_time": "2023-03-25T08:45:48.496Z"
   },
   {
    "duration": 431,
    "start_time": "2023-03-25T08:45:48.964Z"
   },
   {
    "duration": 6,
    "start_time": "2023-03-25T08:45:49.396Z"
   },
   {
    "duration": 146,
    "start_time": "2023-03-25T08:45:49.404Z"
   },
   {
    "duration": 10,
    "start_time": "2023-03-25T08:45:49.551Z"
   },
   {
    "duration": 9076,
    "start_time": "2023-03-25T08:45:49.572Z"
   },
   {
    "duration": 379,
    "start_time": "2023-03-25T08:45:58.650Z"
   },
   {
    "duration": 545,
    "start_time": "2023-03-25T08:45:59.030Z"
   },
   {
    "duration": 16,
    "start_time": "2023-03-25T08:45:59.577Z"
   },
   {
    "duration": 304,
    "start_time": "2023-03-25T08:45:59.594Z"
   },
   {
    "duration": 112,
    "start_time": "2023-03-25T08:45:59.900Z"
   },
   {
    "duration": 12,
    "start_time": "2023-03-25T08:46:00.013Z"
   },
   {
    "duration": 61,
    "start_time": "2023-03-25T08:46:00.026Z"
   },
   {
    "duration": 38,
    "start_time": "2023-03-25T08:46:00.089Z"
   },
   {
    "duration": 734,
    "start_time": "2023-03-25T08:46:00.129Z"
   },
   {
    "duration": 16,
    "start_time": "2023-03-25T08:46:00.864Z"
   },
   {
    "duration": 16,
    "start_time": "2023-03-25T08:46:00.881Z"
   },
   {
    "duration": 18,
    "start_time": "2023-03-25T08:46:00.899Z"
   },
   {
    "duration": 8883,
    "start_time": "2023-03-25T08:46:00.918Z"
   },
   {
    "duration": 8,
    "start_time": "2023-03-25T08:46:09.803Z"
   },
   {
    "duration": 1754,
    "start_time": "2023-03-25T08:46:09.813Z"
   },
   {
    "duration": 6,
    "start_time": "2023-03-25T08:46:11.573Z"
   },
   {
    "duration": 30,
    "start_time": "2023-03-25T08:46:11.581Z"
   },
   {
    "duration": 1855,
    "start_time": "2023-03-25T08:46:11.613Z"
   },
   {
    "duration": 7,
    "start_time": "2023-03-25T08:46:13.473Z"
   },
   {
    "duration": 36,
    "start_time": "2023-03-25T08:46:13.482Z"
   },
   {
    "duration": 15,
    "start_time": "2023-03-25T08:46:13.521Z"
   },
   {
    "duration": 1565,
    "start_time": "2023-03-25T08:46:13.538Z"
   },
   {
    "duration": 199,
    "start_time": "2023-03-25T08:46:15.104Z"
   },
   {
    "duration": 12,
    "start_time": "2023-03-25T08:46:15.305Z"
   },
   {
    "duration": 173,
    "start_time": "2023-03-25T08:46:15.319Z"
   },
   {
    "duration": 132,
    "start_time": "2023-03-25T08:46:15.494Z"
   },
   {
    "duration": 145,
    "start_time": "2023-03-25T08:46:15.628Z"
   },
   {
    "duration": 5,
    "start_time": "2023-03-25T08:47:32.723Z"
   },
   {
    "duration": 1917,
    "start_time": "2023-03-25T12:10:13.868Z"
   },
   {
    "duration": 169,
    "start_time": "2023-03-25T12:10:15.788Z"
   },
   {
    "duration": 21,
    "start_time": "2023-03-25T12:10:15.960Z"
   },
   {
    "duration": 5,
    "start_time": "2023-03-25T12:10:15.984Z"
   },
   {
    "duration": 18,
    "start_time": "2023-03-25T12:10:15.991Z"
   },
   {
    "duration": 44,
    "start_time": "2023-03-25T12:10:16.012Z"
   },
   {
    "duration": 17,
    "start_time": "2023-03-25T12:10:16.058Z"
   },
   {
    "duration": 25,
    "start_time": "2023-03-25T12:10:16.078Z"
   },
   {
    "duration": 44,
    "start_time": "2023-03-25T12:10:16.106Z"
   },
   {
    "duration": 19,
    "start_time": "2023-03-25T12:10:16.153Z"
   },
   {
    "duration": 9,
    "start_time": "2023-03-25T12:10:16.175Z"
   },
   {
    "duration": 10,
    "start_time": "2023-03-25T12:10:16.186Z"
   },
   {
    "duration": 9,
    "start_time": "2023-03-25T12:10:16.198Z"
   },
   {
    "duration": 197,
    "start_time": "2023-03-25T12:10:16.208Z"
   },
   {
    "duration": 8,
    "start_time": "2023-03-25T12:10:16.407Z"
   },
   {
    "duration": 16,
    "start_time": "2023-03-25T12:10:16.417Z"
   },
   {
    "duration": 9,
    "start_time": "2023-03-25T12:10:16.442Z"
   },
   {
    "duration": 13,
    "start_time": "2023-03-25T12:10:16.453Z"
   },
   {
    "duration": 157,
    "start_time": "2023-03-25T12:10:16.469Z"
   },
   {
    "duration": 16,
    "start_time": "2023-03-25T12:10:16.628Z"
   },
   {
    "duration": 12,
    "start_time": "2023-03-25T12:10:16.645Z"
   },
   {
    "duration": 20,
    "start_time": "2023-03-25T12:10:16.659Z"
   },
   {
    "duration": 16,
    "start_time": "2023-03-25T12:10:16.681Z"
   },
   {
    "duration": 278,
    "start_time": "2023-03-25T12:10:16.699Z"
   },
   {
    "duration": 8,
    "start_time": "2023-03-25T12:10:16.979Z"
   },
   {
    "duration": 13,
    "start_time": "2023-03-25T12:10:16.989Z"
   },
   {
    "duration": 341,
    "start_time": "2023-03-25T12:10:17.004Z"
   },
   {
    "duration": 12,
    "start_time": "2023-03-25T12:10:17.350Z"
   },
   {
    "duration": 19,
    "start_time": "2023-03-25T12:10:17.364Z"
   },
   {
    "duration": 171,
    "start_time": "2023-03-25T12:10:17.386Z"
   },
   {
    "duration": 28,
    "start_time": "2023-03-25T12:10:17.559Z"
   },
   {
    "duration": 52,
    "start_time": "2023-03-25T12:10:17.589Z"
   },
   {
    "duration": 68,
    "start_time": "2023-03-25T12:10:17.643Z"
   },
   {
    "duration": 35,
    "start_time": "2023-03-25T12:10:17.713Z"
   },
   {
    "duration": 6,
    "start_time": "2023-03-25T12:10:17.750Z"
   },
   {
    "duration": 531,
    "start_time": "2023-03-25T12:10:17.757Z"
   },
   {
    "duration": 533,
    "start_time": "2023-03-25T12:10:18.290Z"
   },
   {
    "duration": 17,
    "start_time": "2023-03-25T12:10:18.825Z"
   },
   {
    "duration": 156,
    "start_time": "2023-03-25T12:10:18.844Z"
   },
   {
    "duration": 11,
    "start_time": "2023-03-25T12:10:19.002Z"
   },
   {
    "duration": 10733,
    "start_time": "2023-03-25T12:10:19.015Z"
   },
   {
    "duration": 402,
    "start_time": "2023-03-25T12:10:29.751Z"
   },
   {
    "duration": 630,
    "start_time": "2023-03-25T12:10:30.154Z"
   },
   {
    "duration": 23,
    "start_time": "2023-03-25T12:10:30.786Z"
   },
   {
    "duration": 317,
    "start_time": "2023-03-25T12:10:30.812Z"
   },
   {
    "duration": 131,
    "start_time": "2023-03-25T12:10:31.131Z"
   },
   {
    "duration": 16,
    "start_time": "2023-03-25T12:10:31.264Z"
   },
   {
    "duration": 59,
    "start_time": "2023-03-25T12:10:31.282Z"
   },
   {
    "duration": 33,
    "start_time": "2023-03-25T12:10:31.343Z"
   },
   {
    "duration": 879,
    "start_time": "2023-03-25T12:10:31.378Z"
   },
   {
    "duration": 12,
    "start_time": "2023-03-25T12:10:32.259Z"
   },
   {
    "duration": 23,
    "start_time": "2023-03-25T12:10:32.273Z"
   },
   {
    "duration": 32,
    "start_time": "2023-03-25T12:10:32.298Z"
   },
   {
    "duration": 10772,
    "start_time": "2023-03-25T12:10:32.331Z"
   },
   {
    "duration": 8,
    "start_time": "2023-03-25T12:10:43.106Z"
   },
   {
    "duration": 1762,
    "start_time": "2023-03-25T12:10:43.116Z"
   },
   {
    "duration": 6,
    "start_time": "2023-03-25T12:10:44.880Z"
   },
   {
    "duration": 20,
    "start_time": "2023-03-25T12:10:44.888Z"
   },
   {
    "duration": 2200,
    "start_time": "2023-03-25T12:10:44.941Z"
   },
   {
    "duration": 6,
    "start_time": "2023-03-25T12:10:47.143Z"
   },
   {
    "duration": 17,
    "start_time": "2023-03-25T12:10:47.151Z"
   },
   {
    "duration": 14,
    "start_time": "2023-03-25T12:10:47.170Z"
   },
   {
    "duration": 1849,
    "start_time": "2023-03-25T12:10:47.186Z"
   },
   {
    "duration": 241,
    "start_time": "2023-03-25T12:10:49.042Z"
   },
   {
    "duration": 12,
    "start_time": "2023-03-25T12:10:49.286Z"
   },
   {
    "duration": 167,
    "start_time": "2023-03-25T12:10:49.301Z"
   },
   {
    "duration": 158,
    "start_time": "2023-03-25T12:10:49.470Z"
   },
   {
    "duration": 154,
    "start_time": "2023-03-25T12:10:49.630Z"
   },
   {
    "duration": 3,
    "start_time": "2023-03-25T12:10:49.789Z"
   },
   {
    "duration": 11,
    "start_time": "2023-03-25T12:10:57.502Z"
   },
   {
    "duration": 262,
    "start_time": "2023-03-25T12:40:05.306Z"
   },
   {
    "duration": 395,
    "start_time": "2023-03-25T12:40:44.120Z"
   },
   {
    "duration": 383,
    "start_time": "2023-03-25T12:41:04.283Z"
   },
   {
    "duration": 89,
    "start_time": "2023-03-25T13:36:25.260Z"
   },
   {
    "duration": 1428,
    "start_time": "2023-03-26T10:31:13.845Z"
   },
   {
    "duration": 291,
    "start_time": "2023-03-26T10:31:15.275Z"
   },
   {
    "duration": 18,
    "start_time": "2023-03-26T10:31:15.568Z"
   },
   {
    "duration": 3,
    "start_time": "2023-03-26T10:31:15.588Z"
   },
   {
    "duration": 13,
    "start_time": "2023-03-26T10:31:15.594Z"
   },
   {
    "duration": 16,
    "start_time": "2023-03-26T10:31:15.608Z"
   },
   {
    "duration": 20,
    "start_time": "2023-03-26T10:31:15.626Z"
   },
   {
    "duration": 20,
    "start_time": "2023-03-26T10:31:15.648Z"
   },
   {
    "duration": 13,
    "start_time": "2023-03-26T10:31:15.670Z"
   },
   {
    "duration": 15,
    "start_time": "2023-03-26T10:31:15.685Z"
   },
   {
    "duration": 39,
    "start_time": "2023-03-26T10:31:15.702Z"
   },
   {
    "duration": 4,
    "start_time": "2023-03-26T10:31:15.742Z"
   },
   {
    "duration": 5,
    "start_time": "2023-03-26T10:31:15.748Z"
   },
   {
    "duration": 157,
    "start_time": "2023-03-26T10:31:15.756Z"
   },
   {
    "duration": 8,
    "start_time": "2023-03-26T10:31:15.915Z"
   },
   {
    "duration": 21,
    "start_time": "2023-03-26T10:31:15.925Z"
   },
   {
    "duration": 4,
    "start_time": "2023-03-26T10:31:15.948Z"
   },
   {
    "duration": 5,
    "start_time": "2023-03-26T10:31:15.953Z"
   },
   {
    "duration": 155,
    "start_time": "2023-03-26T10:31:15.960Z"
   },
   {
    "duration": 23,
    "start_time": "2023-03-26T10:31:16.117Z"
   },
   {
    "duration": 6,
    "start_time": "2023-03-26T10:31:16.143Z"
   },
   {
    "duration": 11,
    "start_time": "2023-03-26T10:31:16.151Z"
   },
   {
    "duration": 18,
    "start_time": "2023-03-26T10:31:16.164Z"
   },
   {
    "duration": 296,
    "start_time": "2023-03-26T10:31:16.185Z"
   },
   {
    "duration": 8,
    "start_time": "2023-03-26T10:31:16.483Z"
   },
   {
    "duration": 14,
    "start_time": "2023-03-26T10:31:16.493Z"
   },
   {
    "duration": 310,
    "start_time": "2023-03-26T10:31:16.509Z"
   },
   {
    "duration": 10,
    "start_time": "2023-03-26T10:31:16.821Z"
   },
   {
    "duration": 10,
    "start_time": "2023-03-26T10:31:16.841Z"
   },
   {
    "duration": 117,
    "start_time": "2023-03-26T10:31:16.853Z"
   },
   {
    "duration": 25,
    "start_time": "2023-03-26T10:31:16.972Z"
   },
   {
    "duration": 44,
    "start_time": "2023-03-26T10:31:16.998Z"
   },
   {
    "duration": 45,
    "start_time": "2023-03-26T10:31:17.043Z"
   },
   {
    "duration": 22,
    "start_time": "2023-03-26T10:31:17.090Z"
   },
   {
    "duration": 29,
    "start_time": "2023-03-26T10:31:17.114Z"
   },
   {
    "duration": 474,
    "start_time": "2023-03-26T10:31:17.144Z"
   },
   {
    "duration": 466,
    "start_time": "2023-03-26T10:31:17.619Z"
   },
   {
    "duration": 7,
    "start_time": "2023-03-26T10:31:18.086Z"
   },
   {
    "duration": 141,
    "start_time": "2023-03-26T10:31:18.094Z"
   },
   {
    "duration": 11,
    "start_time": "2023-03-26T10:31:18.240Z"
   },
   {
    "duration": 10561,
    "start_time": "2023-03-26T10:31:18.255Z"
   },
   {
    "duration": 484,
    "start_time": "2023-03-26T10:31:28.818Z"
   },
   {
    "duration": 618,
    "start_time": "2023-03-26T10:31:29.303Z"
   },
   {
    "duration": 25,
    "start_time": "2023-03-26T10:31:29.922Z"
   },
   {
    "duration": 274,
    "start_time": "2023-03-26T10:31:29.949Z"
   },
   {
    "duration": 115,
    "start_time": "2023-03-26T10:31:30.225Z"
   },
   {
    "duration": 14,
    "start_time": "2023-03-26T10:31:30.341Z"
   },
   {
    "duration": 40,
    "start_time": "2023-03-26T10:31:30.356Z"
   },
   {
    "duration": 45,
    "start_time": "2023-03-26T10:31:30.397Z"
   },
   {
    "duration": 726,
    "start_time": "2023-03-26T10:31:30.444Z"
   },
   {
    "duration": 12,
    "start_time": "2023-03-26T10:31:31.171Z"
   },
   {
    "duration": 17,
    "start_time": "2023-03-26T10:31:31.185Z"
   },
   {
    "duration": 24,
    "start_time": "2023-03-26T10:31:31.204Z"
   },
   {
    "duration": 10235,
    "start_time": "2023-03-26T10:31:31.230Z"
   },
   {
    "duration": 9,
    "start_time": "2023-03-26T10:31:41.467Z"
   },
   {
    "duration": 1751,
    "start_time": "2023-03-26T10:31:41.477Z"
   },
   {
    "duration": 13,
    "start_time": "2023-03-26T10:31:43.230Z"
   },
   {
    "duration": 13,
    "start_time": "2023-03-26T10:31:43.245Z"
   },
   {
    "duration": 1917,
    "start_time": "2023-03-26T10:31:43.259Z"
   },
   {
    "duration": 5,
    "start_time": "2023-03-26T10:31:45.177Z"
   },
   {
    "duration": 14,
    "start_time": "2023-03-26T10:31:45.184Z"
   },
   {
    "duration": 42,
    "start_time": "2023-03-26T10:31:45.200Z"
   },
   {
    "duration": 1740,
    "start_time": "2023-03-26T10:31:45.243Z"
   },
   {
    "duration": 226,
    "start_time": "2023-03-26T10:31:46.985Z"
   },
   {
    "duration": 22,
    "start_time": "2023-03-26T10:31:47.212Z"
   },
   {
    "duration": 137,
    "start_time": "2023-03-26T10:31:47.236Z"
   },
   {
    "duration": 151,
    "start_time": "2023-03-26T10:31:47.375Z"
   },
   {
    "duration": 150,
    "start_time": "2023-03-26T10:31:47.528Z"
   },
   {
    "duration": 50,
    "start_time": "2023-04-09T11:41:49.149Z"
   },
   {
    "duration": 1700,
    "start_time": "2023-04-09T11:41:54.732Z"
   },
   {
    "duration": 109,
    "start_time": "2023-04-09T11:42:02.557Z"
   },
   {
    "duration": 2250,
    "start_time": "2023-04-29T20:45:19.038Z"
   },
   {
    "duration": 253,
    "start_time": "2023-04-29T20:45:21.298Z"
   },
   {
    "duration": 0,
    "start_time": "2023-04-29T20:45:21.561Z"
   },
   {
    "duration": 0,
    "start_time": "2023-04-29T20:45:21.562Z"
   },
   {
    "duration": 0,
    "start_time": "2023-04-29T20:45:21.563Z"
   },
   {
    "duration": 0,
    "start_time": "2023-04-29T20:45:21.564Z"
   },
   {
    "duration": 0,
    "start_time": "2023-04-29T20:45:21.565Z"
   },
   {
    "duration": 0,
    "start_time": "2023-04-29T20:45:21.566Z"
   },
   {
    "duration": 0,
    "start_time": "2023-04-29T20:45:21.567Z"
   },
   {
    "duration": 0,
    "start_time": "2023-04-29T20:45:21.568Z"
   },
   {
    "duration": 0,
    "start_time": "2023-04-29T20:45:21.569Z"
   },
   {
    "duration": 0,
    "start_time": "2023-04-29T20:45:21.571Z"
   },
   {
    "duration": 0,
    "start_time": "2023-04-29T20:45:21.573Z"
   },
   {
    "duration": 0,
    "start_time": "2023-04-29T20:45:21.574Z"
   },
   {
    "duration": 0,
    "start_time": "2023-04-29T20:45:21.576Z"
   },
   {
    "duration": 0,
    "start_time": "2023-04-29T20:45:21.578Z"
   },
   {
    "duration": 0,
    "start_time": "2023-04-29T20:45:21.579Z"
   },
   {
    "duration": 0,
    "start_time": "2023-04-29T20:45:21.596Z"
   },
   {
    "duration": 0,
    "start_time": "2023-04-29T20:45:21.604Z"
   },
   {
    "duration": 0,
    "start_time": "2023-04-29T20:45:21.612Z"
   },
   {
    "duration": 0,
    "start_time": "2023-04-29T20:45:21.617Z"
   },
   {
    "duration": 0,
    "start_time": "2023-04-29T20:45:21.620Z"
   },
   {
    "duration": 0,
    "start_time": "2023-04-29T20:45:21.621Z"
   },
   {
    "duration": 0,
    "start_time": "2023-04-29T20:45:21.622Z"
   },
   {
    "duration": 0,
    "start_time": "2023-04-29T20:45:21.623Z"
   },
   {
    "duration": 0,
    "start_time": "2023-04-29T20:45:21.627Z"
   },
   {
    "duration": 0,
    "start_time": "2023-04-29T20:45:21.631Z"
   },
   {
    "duration": 0,
    "start_time": "2023-04-29T20:45:21.632Z"
   },
   {
    "duration": 0,
    "start_time": "2023-04-29T20:45:21.633Z"
   },
   {
    "duration": 0,
    "start_time": "2023-04-29T20:45:21.636Z"
   },
   {
    "duration": 0,
    "start_time": "2023-04-29T20:45:21.637Z"
   },
   {
    "duration": 0,
    "start_time": "2023-04-29T20:45:21.640Z"
   },
   {
    "duration": 0,
    "start_time": "2023-04-29T20:45:21.642Z"
   },
   {
    "duration": 0,
    "start_time": "2023-04-29T20:45:21.647Z"
   },
   {
    "duration": 0,
    "start_time": "2023-04-29T20:45:21.653Z"
   },
   {
    "duration": 0,
    "start_time": "2023-04-29T20:45:21.660Z"
   },
   {
    "duration": 0,
    "start_time": "2023-04-29T20:45:21.666Z"
   },
   {
    "duration": 0,
    "start_time": "2023-04-29T20:45:21.671Z"
   },
   {
    "duration": 0,
    "start_time": "2023-04-29T20:45:21.673Z"
   },
   {
    "duration": 0,
    "start_time": "2023-04-29T20:45:21.674Z"
   },
   {
    "duration": 0,
    "start_time": "2023-04-29T20:45:21.695Z"
   },
   {
    "duration": 0,
    "start_time": "2023-04-29T20:45:21.702Z"
   },
   {
    "duration": 0,
    "start_time": "2023-04-29T20:45:21.704Z"
   },
   {
    "duration": 0,
    "start_time": "2023-04-29T20:45:21.706Z"
   },
   {
    "duration": 0,
    "start_time": "2023-04-29T20:45:21.715Z"
   },
   {
    "duration": 0,
    "start_time": "2023-04-29T20:45:21.719Z"
   },
   {
    "duration": 0,
    "start_time": "2023-04-29T20:45:21.721Z"
   },
   {
    "duration": 0,
    "start_time": "2023-04-29T20:45:21.726Z"
   },
   {
    "duration": 0,
    "start_time": "2023-04-29T20:45:21.727Z"
   },
   {
    "duration": 0,
    "start_time": "2023-04-29T20:45:21.729Z"
   },
   {
    "duration": 0,
    "start_time": "2023-04-29T20:45:21.741Z"
   },
   {
    "duration": 0,
    "start_time": "2023-04-29T20:45:21.746Z"
   },
   {
    "duration": 0,
    "start_time": "2023-04-29T20:45:21.753Z"
   },
   {
    "duration": 0,
    "start_time": "2023-04-29T20:45:21.755Z"
   },
   {
    "duration": 0,
    "start_time": "2023-04-29T20:45:21.762Z"
   },
   {
    "duration": 0,
    "start_time": "2023-04-29T20:45:21.763Z"
   },
   {
    "duration": 0,
    "start_time": "2023-04-29T20:45:21.766Z"
   },
   {
    "duration": 0,
    "start_time": "2023-04-29T20:45:21.767Z"
   },
   {
    "duration": 0,
    "start_time": "2023-04-29T20:45:21.768Z"
   },
   {
    "duration": 0,
    "start_time": "2023-04-29T20:45:21.769Z"
   },
   {
    "duration": 0,
    "start_time": "2023-04-29T20:45:21.770Z"
   },
   {
    "duration": 0,
    "start_time": "2023-04-29T20:45:21.775Z"
   },
   {
    "duration": 0,
    "start_time": "2023-04-29T20:45:21.776Z"
   },
   {
    "duration": 0,
    "start_time": "2023-04-29T20:45:21.777Z"
   },
   {
    "duration": 0,
    "start_time": "2023-04-29T20:45:21.778Z"
   },
   {
    "duration": 0,
    "start_time": "2023-04-29T20:45:21.788Z"
   },
   {
    "duration": 0,
    "start_time": "2023-04-29T20:45:21.790Z"
   },
   {
    "duration": 0,
    "start_time": "2023-04-29T20:45:21.791Z"
   },
   {
    "duration": 0,
    "start_time": "2023-04-29T20:45:21.804Z"
   },
   {
    "duration": 70,
    "start_time": "2023-04-29T20:46:06.113Z"
   }
  ],
  "kernelspec": {
   "display_name": "Python 3 (ipykernel)",
   "language": "python",
   "name": "python3"
  },
  "language_info": {
   "codemirror_mode": {
    "name": "ipython",
    "version": 3
   },
   "file_extension": ".py",
   "mimetype": "text/x-python",
   "name": "python",
   "nbconvert_exporter": "python",
   "pygments_lexer": "ipython3",
   "version": "3.9.5"
  },
  "toc": {
   "base_numbering": 1,
   "nav_menu": {},
   "number_sections": true,
   "sideBar": true,
   "skip_h1_title": true,
   "title_cell": "Table of Contents",
   "title_sidebar": "Contents",
   "toc_cell": false,
   "toc_position": {},
   "toc_section_display": true,
   "toc_window_display": false
  }
 },
 "nbformat": 4,
 "nbformat_minor": 2
}
