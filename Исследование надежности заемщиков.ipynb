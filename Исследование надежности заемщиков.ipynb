{
 "cells": [
  {
   "cell_type": "markdown",
   "id": "6387b4de",
   "metadata": {
    "deletable": false,
    "editable": false,
    "id": "c81daeeb"
   },
   "source": [
    "# Исследование надежности заемщиков\n"
   ]
  },
  {
   "cell_type": "markdown",
   "id": "558abad1",
   "metadata": {
    "deletable": false,
    "editable": false,
    "id": "744d7639"
   },
   "source": [
    "## Откройте таблицу и изучите общую информацию о данных"
   ]
  },
  {
   "cell_type": "markdown",
   "id": "f9f6da16",
   "metadata": {
    "deletable": false,
    "editable": false,
    "id": "e7a14c31"
   },
   "source": [
    "**Задание 1. Импортируйте библиотеку pandas. Считайте данные из csv-файла в датафрейм и сохраните в переменную `data`. Путь к файлу:**\n",
    "\n",
    "`/datasets/data.csv`"
   ]
  },
  {
   "cell_type": "code",
   "execution_count": 1,
   "id": "423c1a06",
   "metadata": {
    "deletable": false,
    "id": "7bcf75c9"
   },
   "outputs": [],
   "source": [
    "import pandas as pd\n",
    "\n",
    "try:\n",
    "    data = pd.read_csv('/datasets/data.csv')\n",
    "except:\n",
    "    data = pd.read_csv('https://code.s3.yandex.net/datasets/data.csv')"
   ]
  },
  {
   "cell_type": "markdown",
   "id": "23384bb5",
   "metadata": {
    "deletable": false,
    "editable": false,
    "id": "b8038fe3"
   },
   "source": [
    "**Задание 2. Выведите первые 20 строчек датафрейма `data` на экран.**"
   ]
  },
  {
   "cell_type": "code",
   "execution_count": 2,
   "id": "aae10931",
   "metadata": {
    "deletable": false,
    "id": "2a7cab99",
    "outputId": "1a8f3ef2-d323-4ec2-ddf7-89670b5944c4"
   },
   "outputs": [
    {
     "data": {
      "text/html": [
       "<div>\n",
       "<style scoped>\n",
       "    .dataframe tbody tr th:only-of-type {\n",
       "        vertical-align: middle;\n",
       "    }\n",
       "\n",
       "    .dataframe tbody tr th {\n",
       "        vertical-align: top;\n",
       "    }\n",
       "\n",
       "    .dataframe thead th {\n",
       "        text-align: right;\n",
       "    }\n",
       "</style>\n",
       "<table border=\"1\" class=\"dataframe\">\n",
       "  <thead>\n",
       "    <tr style=\"text-align: right;\">\n",
       "      <th></th>\n",
       "      <th>children</th>\n",
       "      <th>days_employed</th>\n",
       "      <th>dob_years</th>\n",
       "      <th>education</th>\n",
       "      <th>education_id</th>\n",
       "      <th>family_status</th>\n",
       "      <th>family_status_id</th>\n",
       "      <th>gender</th>\n",
       "      <th>income_type</th>\n",
       "      <th>debt</th>\n",
       "      <th>total_income</th>\n",
       "      <th>purpose</th>\n",
       "    </tr>\n",
       "  </thead>\n",
       "  <tbody>\n",
       "    <tr>\n",
       "      <th>0</th>\n",
       "      <td>1</td>\n",
       "      <td>-8437.673028</td>\n",
       "      <td>42</td>\n",
       "      <td>высшее</td>\n",
       "      <td>0</td>\n",
       "      <td>женат / замужем</td>\n",
       "      <td>0</td>\n",
       "      <td>F</td>\n",
       "      <td>сотрудник</td>\n",
       "      <td>0</td>\n",
       "      <td>253875.639453</td>\n",
       "      <td>покупка жилья</td>\n",
       "    </tr>\n",
       "    <tr>\n",
       "      <th>1</th>\n",
       "      <td>1</td>\n",
       "      <td>-4024.803754</td>\n",
       "      <td>36</td>\n",
       "      <td>среднее</td>\n",
       "      <td>1</td>\n",
       "      <td>женат / замужем</td>\n",
       "      <td>0</td>\n",
       "      <td>F</td>\n",
       "      <td>сотрудник</td>\n",
       "      <td>0</td>\n",
       "      <td>112080.014102</td>\n",
       "      <td>приобретение автомобиля</td>\n",
       "    </tr>\n",
       "    <tr>\n",
       "      <th>2</th>\n",
       "      <td>0</td>\n",
       "      <td>-5623.422610</td>\n",
       "      <td>33</td>\n",
       "      <td>Среднее</td>\n",
       "      <td>1</td>\n",
       "      <td>женат / замужем</td>\n",
       "      <td>0</td>\n",
       "      <td>M</td>\n",
       "      <td>сотрудник</td>\n",
       "      <td>0</td>\n",
       "      <td>145885.952297</td>\n",
       "      <td>покупка жилья</td>\n",
       "    </tr>\n",
       "    <tr>\n",
       "      <th>3</th>\n",
       "      <td>3</td>\n",
       "      <td>-4124.747207</td>\n",
       "      <td>32</td>\n",
       "      <td>среднее</td>\n",
       "      <td>1</td>\n",
       "      <td>женат / замужем</td>\n",
       "      <td>0</td>\n",
       "      <td>M</td>\n",
       "      <td>сотрудник</td>\n",
       "      <td>0</td>\n",
       "      <td>267628.550329</td>\n",
       "      <td>дополнительное образование</td>\n",
       "    </tr>\n",
       "    <tr>\n",
       "      <th>4</th>\n",
       "      <td>0</td>\n",
       "      <td>340266.072047</td>\n",
       "      <td>53</td>\n",
       "      <td>среднее</td>\n",
       "      <td>1</td>\n",
       "      <td>гражданский брак</td>\n",
       "      <td>1</td>\n",
       "      <td>F</td>\n",
       "      <td>пенсионер</td>\n",
       "      <td>0</td>\n",
       "      <td>158616.077870</td>\n",
       "      <td>сыграть свадьбу</td>\n",
       "    </tr>\n",
       "    <tr>\n",
       "      <th>5</th>\n",
       "      <td>0</td>\n",
       "      <td>-926.185831</td>\n",
       "      <td>27</td>\n",
       "      <td>высшее</td>\n",
       "      <td>0</td>\n",
       "      <td>гражданский брак</td>\n",
       "      <td>1</td>\n",
       "      <td>M</td>\n",
       "      <td>компаньон</td>\n",
       "      <td>0</td>\n",
       "      <td>255763.565419</td>\n",
       "      <td>покупка жилья</td>\n",
       "    </tr>\n",
       "    <tr>\n",
       "      <th>6</th>\n",
       "      <td>0</td>\n",
       "      <td>-2879.202052</td>\n",
       "      <td>43</td>\n",
       "      <td>высшее</td>\n",
       "      <td>0</td>\n",
       "      <td>женат / замужем</td>\n",
       "      <td>0</td>\n",
       "      <td>F</td>\n",
       "      <td>компаньон</td>\n",
       "      <td>0</td>\n",
       "      <td>240525.971920</td>\n",
       "      <td>операции с жильем</td>\n",
       "    </tr>\n",
       "    <tr>\n",
       "      <th>7</th>\n",
       "      <td>0</td>\n",
       "      <td>-152.779569</td>\n",
       "      <td>50</td>\n",
       "      <td>СРЕДНЕЕ</td>\n",
       "      <td>1</td>\n",
       "      <td>женат / замужем</td>\n",
       "      <td>0</td>\n",
       "      <td>M</td>\n",
       "      <td>сотрудник</td>\n",
       "      <td>0</td>\n",
       "      <td>135823.934197</td>\n",
       "      <td>образование</td>\n",
       "    </tr>\n",
       "    <tr>\n",
       "      <th>8</th>\n",
       "      <td>2</td>\n",
       "      <td>-6929.865299</td>\n",
       "      <td>35</td>\n",
       "      <td>ВЫСШЕЕ</td>\n",
       "      <td>0</td>\n",
       "      <td>гражданский брак</td>\n",
       "      <td>1</td>\n",
       "      <td>F</td>\n",
       "      <td>сотрудник</td>\n",
       "      <td>0</td>\n",
       "      <td>95856.832424</td>\n",
       "      <td>на проведение свадьбы</td>\n",
       "    </tr>\n",
       "    <tr>\n",
       "      <th>9</th>\n",
       "      <td>0</td>\n",
       "      <td>-2188.756445</td>\n",
       "      <td>41</td>\n",
       "      <td>среднее</td>\n",
       "      <td>1</td>\n",
       "      <td>женат / замужем</td>\n",
       "      <td>0</td>\n",
       "      <td>M</td>\n",
       "      <td>сотрудник</td>\n",
       "      <td>0</td>\n",
       "      <td>144425.938277</td>\n",
       "      <td>покупка жилья для семьи</td>\n",
       "    </tr>\n",
       "    <tr>\n",
       "      <th>10</th>\n",
       "      <td>2</td>\n",
       "      <td>-4171.483647</td>\n",
       "      <td>36</td>\n",
       "      <td>высшее</td>\n",
       "      <td>0</td>\n",
       "      <td>женат / замужем</td>\n",
       "      <td>0</td>\n",
       "      <td>M</td>\n",
       "      <td>компаньон</td>\n",
       "      <td>0</td>\n",
       "      <td>113943.491460</td>\n",
       "      <td>покупка недвижимости</td>\n",
       "    </tr>\n",
       "    <tr>\n",
       "      <th>11</th>\n",
       "      <td>0</td>\n",
       "      <td>-792.701887</td>\n",
       "      <td>40</td>\n",
       "      <td>среднее</td>\n",
       "      <td>1</td>\n",
       "      <td>женат / замужем</td>\n",
       "      <td>0</td>\n",
       "      <td>F</td>\n",
       "      <td>сотрудник</td>\n",
       "      <td>0</td>\n",
       "      <td>77069.234271</td>\n",
       "      <td>покупка коммерческой недвижимости</td>\n",
       "    </tr>\n",
       "    <tr>\n",
       "      <th>12</th>\n",
       "      <td>0</td>\n",
       "      <td>NaN</td>\n",
       "      <td>65</td>\n",
       "      <td>среднее</td>\n",
       "      <td>1</td>\n",
       "      <td>гражданский брак</td>\n",
       "      <td>1</td>\n",
       "      <td>M</td>\n",
       "      <td>пенсионер</td>\n",
       "      <td>0</td>\n",
       "      <td>NaN</td>\n",
       "      <td>сыграть свадьбу</td>\n",
       "    </tr>\n",
       "    <tr>\n",
       "      <th>13</th>\n",
       "      <td>0</td>\n",
       "      <td>-1846.641941</td>\n",
       "      <td>54</td>\n",
       "      <td>неоконченное высшее</td>\n",
       "      <td>2</td>\n",
       "      <td>женат / замужем</td>\n",
       "      <td>0</td>\n",
       "      <td>F</td>\n",
       "      <td>сотрудник</td>\n",
       "      <td>0</td>\n",
       "      <td>130458.228857</td>\n",
       "      <td>приобретение автомобиля</td>\n",
       "    </tr>\n",
       "    <tr>\n",
       "      <th>14</th>\n",
       "      <td>0</td>\n",
       "      <td>-1844.956182</td>\n",
       "      <td>56</td>\n",
       "      <td>высшее</td>\n",
       "      <td>0</td>\n",
       "      <td>гражданский брак</td>\n",
       "      <td>1</td>\n",
       "      <td>F</td>\n",
       "      <td>компаньон</td>\n",
       "      <td>1</td>\n",
       "      <td>165127.911772</td>\n",
       "      <td>покупка жилой недвижимости</td>\n",
       "    </tr>\n",
       "    <tr>\n",
       "      <th>15</th>\n",
       "      <td>1</td>\n",
       "      <td>-972.364419</td>\n",
       "      <td>26</td>\n",
       "      <td>среднее</td>\n",
       "      <td>1</td>\n",
       "      <td>женат / замужем</td>\n",
       "      <td>0</td>\n",
       "      <td>F</td>\n",
       "      <td>сотрудник</td>\n",
       "      <td>0</td>\n",
       "      <td>116820.904450</td>\n",
       "      <td>строительство собственной недвижимости</td>\n",
       "    </tr>\n",
       "    <tr>\n",
       "      <th>16</th>\n",
       "      <td>0</td>\n",
       "      <td>-1719.934226</td>\n",
       "      <td>35</td>\n",
       "      <td>среднее</td>\n",
       "      <td>1</td>\n",
       "      <td>женат / замужем</td>\n",
       "      <td>0</td>\n",
       "      <td>F</td>\n",
       "      <td>сотрудник</td>\n",
       "      <td>0</td>\n",
       "      <td>289202.704229</td>\n",
       "      <td>недвижимость</td>\n",
       "    </tr>\n",
       "    <tr>\n",
       "      <th>17</th>\n",
       "      <td>0</td>\n",
       "      <td>-2369.999720</td>\n",
       "      <td>33</td>\n",
       "      <td>высшее</td>\n",
       "      <td>0</td>\n",
       "      <td>гражданский брак</td>\n",
       "      <td>1</td>\n",
       "      <td>M</td>\n",
       "      <td>сотрудник</td>\n",
       "      <td>0</td>\n",
       "      <td>90410.586745</td>\n",
       "      <td>строительство недвижимости</td>\n",
       "    </tr>\n",
       "    <tr>\n",
       "      <th>18</th>\n",
       "      <td>0</td>\n",
       "      <td>400281.136913</td>\n",
       "      <td>53</td>\n",
       "      <td>среднее</td>\n",
       "      <td>1</td>\n",
       "      <td>вдовец / вдова</td>\n",
       "      <td>2</td>\n",
       "      <td>F</td>\n",
       "      <td>пенсионер</td>\n",
       "      <td>0</td>\n",
       "      <td>56823.777243</td>\n",
       "      <td>на покупку подержанного автомобиля</td>\n",
       "    </tr>\n",
       "    <tr>\n",
       "      <th>19</th>\n",
       "      <td>0</td>\n",
       "      <td>-10038.818549</td>\n",
       "      <td>48</td>\n",
       "      <td>СРЕДНЕЕ</td>\n",
       "      <td>1</td>\n",
       "      <td>в разводе</td>\n",
       "      <td>3</td>\n",
       "      <td>F</td>\n",
       "      <td>сотрудник</td>\n",
       "      <td>0</td>\n",
       "      <td>242831.107982</td>\n",
       "      <td>на покупку своего автомобиля</td>\n",
       "    </tr>\n",
       "  </tbody>\n",
       "</table>\n",
       "</div>"
      ],
      "text/plain": [
       "    children  days_employed  dob_years            education  education_id  \\\n",
       "0          1   -8437.673028         42               высшее             0   \n",
       "1          1   -4024.803754         36              среднее             1   \n",
       "2          0   -5623.422610         33              Среднее             1   \n",
       "3          3   -4124.747207         32              среднее             1   \n",
       "4          0  340266.072047         53              среднее             1   \n",
       "5          0    -926.185831         27               высшее             0   \n",
       "6          0   -2879.202052         43               высшее             0   \n",
       "7          0    -152.779569         50              СРЕДНЕЕ             1   \n",
       "8          2   -6929.865299         35               ВЫСШЕЕ             0   \n",
       "9          0   -2188.756445         41              среднее             1   \n",
       "10         2   -4171.483647         36               высшее             0   \n",
       "11         0    -792.701887         40              среднее             1   \n",
       "12         0            NaN         65              среднее             1   \n",
       "13         0   -1846.641941         54  неоконченное высшее             2   \n",
       "14         0   -1844.956182         56               высшее             0   \n",
       "15         1    -972.364419         26              среднее             1   \n",
       "16         0   -1719.934226         35              среднее             1   \n",
       "17         0   -2369.999720         33               высшее             0   \n",
       "18         0  400281.136913         53              среднее             1   \n",
       "19         0  -10038.818549         48              СРЕДНЕЕ             1   \n",
       "\n",
       "       family_status  family_status_id gender income_type  debt  \\\n",
       "0    женат / замужем                 0      F   сотрудник     0   \n",
       "1    женат / замужем                 0      F   сотрудник     0   \n",
       "2    женат / замужем                 0      M   сотрудник     0   \n",
       "3    женат / замужем                 0      M   сотрудник     0   \n",
       "4   гражданский брак                 1      F   пенсионер     0   \n",
       "5   гражданский брак                 1      M   компаньон     0   \n",
       "6    женат / замужем                 0      F   компаньон     0   \n",
       "7    женат / замужем                 0      M   сотрудник     0   \n",
       "8   гражданский брак                 1      F   сотрудник     0   \n",
       "9    женат / замужем                 0      M   сотрудник     0   \n",
       "10   женат / замужем                 0      M   компаньон     0   \n",
       "11   женат / замужем                 0      F   сотрудник     0   \n",
       "12  гражданский брак                 1      M   пенсионер     0   \n",
       "13   женат / замужем                 0      F   сотрудник     0   \n",
       "14  гражданский брак                 1      F   компаньон     1   \n",
       "15   женат / замужем                 0      F   сотрудник     0   \n",
       "16   женат / замужем                 0      F   сотрудник     0   \n",
       "17  гражданский брак                 1      M   сотрудник     0   \n",
       "18    вдовец / вдова                 2      F   пенсионер     0   \n",
       "19         в разводе                 3      F   сотрудник     0   \n",
       "\n",
       "     total_income                                 purpose  \n",
       "0   253875.639453                           покупка жилья  \n",
       "1   112080.014102                 приобретение автомобиля  \n",
       "2   145885.952297                           покупка жилья  \n",
       "3   267628.550329              дополнительное образование  \n",
       "4   158616.077870                         сыграть свадьбу  \n",
       "5   255763.565419                           покупка жилья  \n",
       "6   240525.971920                       операции с жильем  \n",
       "7   135823.934197                             образование  \n",
       "8    95856.832424                   на проведение свадьбы  \n",
       "9   144425.938277                 покупка жилья для семьи  \n",
       "10  113943.491460                    покупка недвижимости  \n",
       "11   77069.234271       покупка коммерческой недвижимости  \n",
       "12            NaN                         сыграть свадьбу  \n",
       "13  130458.228857                 приобретение автомобиля  \n",
       "14  165127.911772              покупка жилой недвижимости  \n",
       "15  116820.904450  строительство собственной недвижимости  \n",
       "16  289202.704229                            недвижимость  \n",
       "17   90410.586745              строительство недвижимости  \n",
       "18   56823.777243      на покупку подержанного автомобиля  \n",
       "19  242831.107982            на покупку своего автомобиля  "
      ]
     },
     "execution_count": 2,
     "metadata": {},
     "output_type": "execute_result"
    }
   ],
   "source": [
    "data.head(20)"
   ]
  },
  {
   "cell_type": "markdown",
   "id": "dd97d627",
   "metadata": {
    "deletable": false,
    "editable": false,
    "id": "1c12e233"
   },
   "source": [
    "**Задание 3. Выведите основную информацию о датафрейме с помощью метода `info()`.**"
   ]
  },
  {
   "cell_type": "code",
   "execution_count": 3,
   "id": "3dd3f288",
   "metadata": {
    "deletable": false,
    "id": "2b757bca",
    "outputId": "15376089-8dad-46c9-b520-c05248d43158"
   },
   "outputs": [
    {
     "name": "stdout",
     "output_type": "stream",
     "text": [
      "<class 'pandas.core.frame.DataFrame'>\n",
      "RangeIndex: 21525 entries, 0 to 21524\n",
      "Data columns (total 12 columns):\n",
      " #   Column            Non-Null Count  Dtype  \n",
      "---  ------            --------------  -----  \n",
      " 0   children          21525 non-null  int64  \n",
      " 1   days_employed     19351 non-null  float64\n",
      " 2   dob_years         21525 non-null  int64  \n",
      " 3   education         21525 non-null  object \n",
      " 4   education_id      21525 non-null  int64  \n",
      " 5   family_status     21525 non-null  object \n",
      " 6   family_status_id  21525 non-null  int64  \n",
      " 7   gender            21525 non-null  object \n",
      " 8   income_type       21525 non-null  object \n",
      " 9   debt              21525 non-null  int64  \n",
      " 10  total_income      19351 non-null  float64\n",
      " 11  purpose           21525 non-null  object \n",
      "dtypes: float64(2), int64(5), object(5)\n",
      "memory usage: 2.0+ MB\n"
     ]
    }
   ],
   "source": [
    "data.info()"
   ]
  },
  {
   "cell_type": "markdown",
   "id": "4b4bf2d7",
   "metadata": {
    "deletable": false,
    "editable": false,
    "id": "333ec665"
   },
   "source": [
    "## Предобработка данных"
   ]
  },
  {
   "cell_type": "markdown",
   "id": "ad08ed45",
   "metadata": {
    "deletable": false,
    "editable": false,
    "id": "02d92d53"
   },
   "source": [
    "### Удаление пропусков"
   ]
  },
  {
   "cell_type": "markdown",
   "id": "948340b1",
   "metadata": {
    "deletable": false,
    "editable": false,
    "id": "cd84967c"
   },
   "source": [
    "**Задание 4. Выведите количество пропущенных значений для каждого столбца. Используйте комбинацию двух методов.**"
   ]
  },
  {
   "cell_type": "code",
   "execution_count": 4,
   "id": "f065bd4f",
   "metadata": {
    "deletable": false,
    "id": "7f9b2309",
    "outputId": "81f4d817-781c-465c-ed15-91ce4446810d"
   },
   "outputs": [
    {
     "data": {
      "text/plain": [
       "children               0\n",
       "days_employed       2174\n",
       "dob_years              0\n",
       "education              0\n",
       "education_id           0\n",
       "family_status          0\n",
       "family_status_id       0\n",
       "gender                 0\n",
       "income_type            0\n",
       "debt                   0\n",
       "total_income        2174\n",
       "purpose                0\n",
       "dtype: int64"
      ]
     },
     "execution_count": 4,
     "metadata": {},
     "output_type": "execute_result"
    }
   ],
   "source": [
    "data.isna().sum()"
   ]
  },
  {
   "cell_type": "markdown",
   "id": "4df322fe",
   "metadata": {
    "deletable": false,
    "editable": false,
    "id": "db86e27b"
   },
   "source": [
    "**Задание 5. В двух столбцах есть пропущенные значения. Один из них — `days_employed`. Пропуски в этом столбце вы обработаете на следующем этапе. Другой столбец с пропущенными значениями — `total_income` — хранит данные о доходах. На сумму дохода сильнее всего влияет тип занятости, поэтому заполнить пропуски в этом столбце нужно медианным значением по каждому типу из столбца `income_type`. Например, у человека с типом занятости `сотрудник` пропуск в столбце `total_income` должен быть заполнен медианным доходом среди всех записей с тем же типом.**"
   ]
  },
  {
   "cell_type": "code",
   "execution_count": 5,
   "id": "1e88c210",
   "metadata": {
    "deletable": false,
    "id": "42006a93"
   },
   "outputs": [],
   "source": [
    "for t in data['income_type'].unique():\n",
    "    data.loc[(data['income_type'] == t) & (data['total_income'].isna()), 'total_income'] = \\\n",
    "    data.loc[(data['income_type'] == t), 'total_income'].median()"
   ]
  },
  {
   "cell_type": "markdown",
   "id": "21ccb926",
   "metadata": {
    "deletable": false,
    "editable": false,
    "id": "89da5ece"
   },
   "source": [
    "### Обработка аномальных значений"
   ]
  },
  {
   "cell_type": "markdown",
   "id": "48322a2a",
   "metadata": {
    "deletable": false,
    "editable": false,
    "id": "57964554"
   },
   "source": [
    "**Задание 6. В данных могут встречаться артефакты (аномалии) — значения, которые не отражают действительность и появились по какой-то ошибке. таким артефактом будет отрицательное количество дней трудового стажа в столбце `days_employed`. Для реальных данных это нормально. Обработайте значения в этом столбце: замените все отрицательные значения положительными с помощью метода `abs()`.**"
   ]
  },
  {
   "cell_type": "code",
   "execution_count": 6,
   "id": "152e3dc0",
   "metadata": {
    "deletable": false,
    "id": "f6f055bf"
   },
   "outputs": [],
   "source": [
    "data['days_employed'] = data['days_employed'].abs()"
   ]
  },
  {
   "cell_type": "markdown",
   "id": "3b5cc845",
   "metadata": {
    "deletable": false,
    "editable": false,
    "id": "6107dd2f"
   },
   "source": [
    "**Задание 7. Для каждого типа занятости выведите медианное значение трудового стажа `days_employed` в днях.**"
   ]
  },
  {
   "cell_type": "code",
   "execution_count": 7,
   "id": "f534f91f",
   "metadata": {
    "deletable": false,
    "id": "85a5faf6",
    "outputId": "801ef80e-522b-4668-f34e-565af7432bcf"
   },
   "outputs": [
    {
     "data": {
      "text/plain": [
       "income_type\n",
       "безработный        366413.652744\n",
       "в декрете            3296.759962\n",
       "госслужащий          2689.368353\n",
       "компаньон            1547.382223\n",
       "пенсионер          365213.306266\n",
       "предприниматель       520.848083\n",
       "сотрудник            1574.202821\n",
       "студент               578.751554\n",
       "Name: days_employed, dtype: float64"
      ]
     },
     "execution_count": 7,
     "metadata": {},
     "output_type": "execute_result"
    }
   ],
   "source": [
    "data.groupby('income_type')['days_employed'].agg('median')"
   ]
  },
  {
   "cell_type": "markdown",
   "id": "07e2b2e1",
   "metadata": {
    "deletable": false,
    "editable": false,
    "id": "38d1a030"
   },
   "source": [
    "У двух типов (безработные и пенсионеры) получатся аномально большие значения. Исправить такие значения сложно, поэтому оставьте их как есть. Тем более этот столбец не понадобится вам для исследования."
   ]
  },
  {
   "cell_type": "markdown",
   "id": "1d4bde23",
   "metadata": {
    "deletable": false,
    "editable": false,
    "id": "d8a9f147"
   },
   "source": [
    "**Задание 8. Выведите перечень уникальных значений столбца `children`.**"
   ]
  },
  {
   "cell_type": "code",
   "execution_count": 8,
   "id": "64ec756c",
   "metadata": {
    "deletable": false,
    "id": "ef5056eb",
    "outputId": "6975b15c-7f95-4697-d16d-a0c79b657b03"
   },
   "outputs": [
    {
     "data": {
      "text/plain": [
       "array([ 1,  0,  3,  2, -1,  4, 20,  5])"
      ]
     },
     "execution_count": 8,
     "metadata": {},
     "output_type": "execute_result"
    }
   ],
   "source": [
    "data['children'].unique()"
   ]
  },
  {
   "cell_type": "markdown",
   "id": "e854c9e1",
   "metadata": {
    "deletable": false,
    "editable": false,
    "id": "40b9ebf2"
   },
   "source": [
    "**Задание 9. В столбце `children` есть два аномальных значения. Удалите строки, в которых встречаются такие аномальные значения из датафрейма `data`.**"
   ]
  },
  {
   "cell_type": "code",
   "execution_count": 9,
   "id": "653df440",
   "metadata": {
    "deletable": false,
    "id": "3ff9801d"
   },
   "outputs": [],
   "source": [
    "data = data[(data['children'] != -1) & (data['children'] != 20)]"
   ]
  },
  {
   "cell_type": "markdown",
   "id": "c154eccc",
   "metadata": {
    "deletable": false,
    "editable": false,
    "id": "bbc4d0ce"
   },
   "source": [
    "**Задание 10. Ещё раз выведите перечень уникальных значений столбца `children`, чтобы убедиться, что артефакты удалены.**"
   ]
  },
  {
   "cell_type": "code",
   "execution_count": 10,
   "id": "4eb091ef",
   "metadata": {
    "deletable": false,
    "id": "ad4fa8b7",
    "outputId": "b2097101-d49d-44d9-901b-32a65c9463d1"
   },
   "outputs": [
    {
     "data": {
      "text/plain": [
       "array([1, 0, 3, 2, 4, 5])"
      ]
     },
     "execution_count": 10,
     "metadata": {},
     "output_type": "execute_result"
    }
   ],
   "source": [
    "data['children'].unique()"
   ]
  },
  {
   "cell_type": "markdown",
   "id": "7d23ff1f",
   "metadata": {
    "deletable": false,
    "editable": false,
    "id": "75440b63"
   },
   "source": [
    "### Удаление пропусков (продолжение)"
   ]
  },
  {
   "cell_type": "markdown",
   "id": "4d238bb0",
   "metadata": {
    "deletable": false,
    "editable": false,
    "id": "f4ea573f"
   },
   "source": [
    "**Задание 11. Заполните пропуски в столбце `days_employed` медианными значениями по каждого типа занятости `income_type`.**"
   ]
  },
  {
   "cell_type": "code",
   "execution_count": 11,
   "id": "dc9a61dd",
   "metadata": {
    "deletable": false,
    "id": "af6b1a7e"
   },
   "outputs": [],
   "source": [
    "for t in data['income_type'].unique():\n",
    "    data.loc[(data['income_type'] == t) & (data['days_employed'].isna()), 'days_employed'] = \\\n",
    "    data.loc[(data['income_type'] == t), 'days_employed'].median()"
   ]
  },
  {
   "cell_type": "markdown",
   "id": "05963ba0",
   "metadata": {
    "deletable": false,
    "editable": false,
    "id": "2753f40d"
   },
   "source": [
    "**Задание 12. Убедитесь, что все пропуски заполнены. Проверьте себя и ещё раз выведите количество пропущенных значений для каждого столбца с помощью двух методов.**"
   ]
  },
  {
   "cell_type": "code",
   "execution_count": 12,
   "id": "5897967f",
   "metadata": {
    "deletable": false,
    "id": "55f78bc2",
    "outputId": "8da1e4e1-358e-4e87-98c9-f261bce0a7b2"
   },
   "outputs": [
    {
     "data": {
      "text/plain": [
       "children            0\n",
       "days_employed       0\n",
       "dob_years           0\n",
       "education           0\n",
       "education_id        0\n",
       "family_status       0\n",
       "family_status_id    0\n",
       "gender              0\n",
       "income_type         0\n",
       "debt                0\n",
       "total_income        0\n",
       "purpose             0\n",
       "dtype: int64"
      ]
     },
     "execution_count": 12,
     "metadata": {},
     "output_type": "execute_result"
    }
   ],
   "source": [
    "data.isna().sum()"
   ]
  },
  {
   "cell_type": "markdown",
   "id": "2ff0ab77",
   "metadata": {
    "deletable": false,
    "editable": false,
    "id": "ddc81e43"
   },
   "source": [
    "### Изменение типов данных"
   ]
  },
  {
   "cell_type": "markdown",
   "id": "f3121748",
   "metadata": {
    "deletable": false,
    "editable": false,
    "id": "42d19d24"
   },
   "source": [
    "**Задание 13. Замените вещественный тип данных в столбце `total_income` на целочисленный с помощью метода `astype()`.**"
   ]
  },
  {
   "cell_type": "code",
   "execution_count": 13,
   "id": "59f1e3a6",
   "metadata": {
    "deletable": false,
    "id": "920b65ad"
   },
   "outputs": [],
   "source": [
    "data['total_income'] = data['total_income'].astype(int)"
   ]
  },
  {
   "cell_type": "markdown",
   "id": "c1e49f37",
   "metadata": {
    "deletable": false,
    "editable": false,
    "id": "80c420ba"
   },
   "source": [
    "### Обработка дубликатов"
   ]
  },
  {
   "cell_type": "markdown",
   "id": "54fb2309",
   "metadata": {
    "deletable": false,
    "editable": false
   },
   "source": [
    "**Задание 14. Обработайте неявные дубликаты в столбце `education`. В этом столбце есть одни и те же значения, но записанные по-разному: с использованием заглавных и строчных букв. Приведите их к нижнему регистру. Проверьте остальные столбцы.**"
   ]
  },
  {
   "cell_type": "code",
   "execution_count": 14,
   "id": "c8bf412a",
   "metadata": {
    "deletable": false
   },
   "outputs": [],
   "source": [
    "data['education'] = data['education'].str.lower()"
   ]
  },
  {
   "cell_type": "markdown",
   "id": "b309adaf",
   "metadata": {
    "deletable": false,
    "editable": false,
    "id": "dc587695"
   },
   "source": [
    "**Задание 15. Выведите на экран количество строк-дубликатов в данных. Если такие строки присутствуют, удалите их.**"
   ]
  },
  {
   "cell_type": "code",
   "execution_count": 15,
   "id": "28682f33",
   "metadata": {
    "deletable": false,
    "id": "3ee445e4",
    "outputId": "9684deba-1934-42d1-99e1-cda61740f822"
   },
   "outputs": [
    {
     "data": {
      "text/plain": [
       "71"
      ]
     },
     "execution_count": 15,
     "metadata": {},
     "output_type": "execute_result"
    }
   ],
   "source": [
    "data.duplicated().sum()"
   ]
  },
  {
   "cell_type": "code",
   "execution_count": 16,
   "id": "c623cc2b",
   "metadata": {
    "deletable": false,
    "id": "8575fe05"
   },
   "outputs": [],
   "source": [
    "data = data.drop_duplicates()"
   ]
  },
  {
   "cell_type": "markdown",
   "id": "7fe3967e",
   "metadata": {
    "deletable": false,
    "editable": false,
    "id": "9904cf55"
   },
   "source": [
    "### Категоризация данных"
   ]
  },
  {
   "cell_type": "markdown",
   "id": "99d13070",
   "metadata": {
    "deletable": false,
    "editable": false,
    "id": "72fcc8a2"
   },
   "source": [
    "**Задание 16. На основании диапазонов, указанных ниже, создайте в датафрейме `data` столбец `total_income_category` с категориями:**\n",
    "\n",
    "- 0–30000 — `'E'`;\n",
    "- 30001–50000 — `'D'`;\n",
    "- 50001–200000 — `'C'`;\n",
    "- 200001–1000000 — `'B'`;\n",
    "- 1000001 и выше — `'A'`.\n",
    "\n",
    "\n",
    "**Например, кредитополучателю с доходом 25000 нужно назначить категорию `'E'`, а клиенту, получающему 235000, — `'B'`. Используйте собственную функцию с именем `categorize_income()` и метод `apply()`.**"
   ]
  },
  {
   "cell_type": "code",
   "execution_count": 17,
   "id": "6a1c9ed0",
   "metadata": {
    "deletable": false,
    "id": "e1771346"
   },
   "outputs": [],
   "source": [
    "def categorize_income(income):\n",
    "    try:\n",
    "        if 0 <= income <= 30000:\n",
    "            return 'E'\n",
    "        elif 30001 <= income <= 50000:\n",
    "            return 'D'\n",
    "        elif 50001 <= income <= 200000:\n",
    "            return 'C'\n",
    "        elif 200001 <= income <= 1000000:\n",
    "            return 'B'\n",
    "        elif income >= 1000001:\n",
    "            return 'A'\n",
    "    except:\n",
    "        pass"
   ]
  },
  {
   "cell_type": "code",
   "execution_count": 18,
   "id": "b3a06809",
   "metadata": {
    "deletable": false,
    "id": "d5f3586d"
   },
   "outputs": [],
   "source": [
    "data['total_income_category'] = data['total_income'].apply(categorize_income)"
   ]
  },
  {
   "cell_type": "markdown",
   "id": "bac14261",
   "metadata": {
    "deletable": false,
    "editable": false,
    "id": "dde49b5c"
   },
   "source": [
    "**Задание 17. Выведите на экран перечень уникальных целей взятия кредита из столбца `purpose`.**"
   ]
  },
  {
   "cell_type": "code",
   "execution_count": 19,
   "id": "417f60d2",
   "metadata": {
    "deletable": false,
    "id": "f67ce9b3",
    "outputId": "673c12d9-7d7e-4ae0-9812-c622c89dd244"
   },
   "outputs": [
    {
     "data": {
      "text/plain": [
       "array(['покупка жилья', 'приобретение автомобиля',\n",
       "       'дополнительное образование', 'сыграть свадьбу',\n",
       "       'операции с жильем', 'образование', 'на проведение свадьбы',\n",
       "       'покупка жилья для семьи', 'покупка недвижимости',\n",
       "       'покупка коммерческой недвижимости', 'покупка жилой недвижимости',\n",
       "       'строительство собственной недвижимости', 'недвижимость',\n",
       "       'строительство недвижимости', 'на покупку подержанного автомобиля',\n",
       "       'на покупку своего автомобиля',\n",
       "       'операции с коммерческой недвижимостью',\n",
       "       'строительство жилой недвижимости', 'жилье',\n",
       "       'операции со своей недвижимостью', 'автомобили',\n",
       "       'заняться образованием', 'сделка с подержанным автомобилем',\n",
       "       'получение образования', 'автомобиль', 'свадьба',\n",
       "       'получение дополнительного образования', 'покупка своего жилья',\n",
       "       'операции с недвижимостью', 'получение высшего образования',\n",
       "       'свой автомобиль', 'сделка с автомобилем',\n",
       "       'профильное образование', 'высшее образование',\n",
       "       'покупка жилья для сдачи', 'на покупку автомобиля', 'ремонт жилью',\n",
       "       'заняться высшим образованием'], dtype=object)"
      ]
     },
     "execution_count": 19,
     "metadata": {},
     "output_type": "execute_result"
    }
   ],
   "source": [
    "data['purpose'].unique()"
   ]
  },
  {
   "cell_type": "markdown",
   "id": "7ade87b2",
   "metadata": {
    "deletable": false,
    "editable": false,
    "id": "85d0aef0"
   },
   "source": [
    "**Задание 18. Создайте функцию, которая на основании данных из столбца `purpose` сформирует новый столбец `purpose_category`, в который войдут следующие категории:**\n",
    "\n",
    "- `'операции с автомобилем'`,\n",
    "- `'операции с недвижимостью'`,\n",
    "- `'проведение свадьбы'`,\n",
    "- `'получение образования'`.\n",
    "\n",
    "**Например, если в столбце `purpose` находится подстрока `'на покупку автомобиля'`, то в столбце `purpose_category` должна появиться строка `'операции с автомобилем'`.**\n",
    "\n",
    "**Используйте собственную функцию с именем `categorize_purpose()` и метод `apply()`. Изучите данные в столбце `purpose` и определите, какие подстроки помогут вам правильно определить категорию.**"
   ]
  },
  {
   "cell_type": "code",
   "execution_count": 20,
   "id": "b80f612d",
   "metadata": {
    "deletable": false,
    "id": "e149fab4"
   },
   "outputs": [],
   "source": [
    "def categorize_purpose(row):\n",
    "    try:\n",
    "        if 'автом' in row:\n",
    "            return 'операции с автомобилем'\n",
    "        elif 'жил' in row or 'недвиж' in row:\n",
    "            return 'операции с недвижимостью'\n",
    "        elif 'свад' in row:\n",
    "            return 'проведение свадьбы'\n",
    "        elif 'образов' in row:\n",
    "            return 'получение образования'\n",
    "    except:\n",
    "        return 'нет категории'"
   ]
  },
  {
   "cell_type": "code",
   "execution_count": 21,
   "id": "e17c1bad",
   "metadata": {
    "deletable": false,
    "id": "bf36e69b"
   },
   "outputs": [],
   "source": [
    "data['purpose_category'] = data['purpose'].apply(categorize_purpose)"
   ]
  },
  {
   "cell_type": "markdown",
   "id": "c8bc705e",
   "metadata": {
    "deletable": false,
    "editable": false,
    "id": "09b242bf"
   },
   "source": [
    "### Шаг 3. Исследуйте данные и ответьте на вопросы"
   ]
  },
  {
   "cell_type": "markdown",
   "id": "4af81075",
   "metadata": {
    "deletable": false,
    "editable": false,
    "id": "c5d66278"
   },
   "source": [
    "#### 3.1 Есть ли зависимость между количеством детей и возвратом кредита в срок?"
   ]
  },
  {
   "cell_type": "markdown",
   "id": "962759ad",
   "metadata": {
    "deletable": false,
    "id": "2cacfc4a"
   },
   "source": [
    "<font color='red'> Рассмотрим людей разного возраста. </font>  В процентном соотношении выведу зависимость задолженности от количества детей."
   ]
  },
  {
   "cell_type": "code",
   "execution_count": 22,
   "id": "863b9893",
   "metadata": {},
   "outputs": [],
   "source": [
    "data_analis = data.copy()"
   ]
  },
  {
   "cell_type": "code",
   "execution_count": 262,
   "id": "fd1cd786",
   "metadata": {
    "scrolled": true
   },
   "outputs": [
    {
     "name": "stdout",
     "output_type": "stream",
     "text": [
      "children\n",
      "0    7.543822\n",
      "1    9.234609\n",
      "2    9.454191\n",
      "3    8.181818\n",
      "4    9.756098\n",
      "5    0.000000\n",
      "Name: debt, dtype: float64\n"
     ]
    }
   ],
   "source": [
    "col_debt = data_analis.groupby('children')['debt'].sum() #количество людей, имеющие задолжность\n",
    "col_children = data_analis.groupby('children')['debt'].count() #количество людей, имеющие детей\n",
    "print(col_debt/col_children * 100)"
   ]
  },
  {
   "cell_type": "code",
   "execution_count": 263,
   "id": "0b027ff6",
   "metadata": {
    "scrolled": true
   },
   "outputs": [
    {
     "data": {
      "text/html": [
       "<div>\n",
       "<style scoped>\n",
       "    .dataframe tbody tr th:only-of-type {\n",
       "        vertical-align: middle;\n",
       "    }\n",
       "\n",
       "    .dataframe tbody tr th {\n",
       "        vertical-align: top;\n",
       "    }\n",
       "\n",
       "    .dataframe thead th {\n",
       "        text-align: right;\n",
       "    }\n",
       "</style>\n",
       "<table border=\"1\" class=\"dataframe\">\n",
       "  <thead>\n",
       "    <tr style=\"text-align: right;\">\n",
       "      <th></th>\n",
       "      <th>count</th>\n",
       "      <th>sum</th>\n",
       "      <th>mean</th>\n",
       "    </tr>\n",
       "    <tr>\n",
       "      <th>children</th>\n",
       "      <th></th>\n",
       "      <th></th>\n",
       "      <th></th>\n",
       "    </tr>\n",
       "  </thead>\n",
       "  <tbody>\n",
       "    <tr>\n",
       "      <th>0</th>\n",
       "      <td>14091</td>\n",
       "      <td>1063</td>\n",
       "      <td>0.075438</td>\n",
       "    </tr>\n",
       "    <tr>\n",
       "      <th>1</th>\n",
       "      <td>4808</td>\n",
       "      <td>444</td>\n",
       "      <td>0.092346</td>\n",
       "    </tr>\n",
       "    <tr>\n",
       "      <th>2</th>\n",
       "      <td>2052</td>\n",
       "      <td>194</td>\n",
       "      <td>0.094542</td>\n",
       "    </tr>\n",
       "    <tr>\n",
       "      <th>3</th>\n",
       "      <td>330</td>\n",
       "      <td>27</td>\n",
       "      <td>0.081818</td>\n",
       "    </tr>\n",
       "    <tr>\n",
       "      <th>4</th>\n",
       "      <td>41</td>\n",
       "      <td>4</td>\n",
       "      <td>0.097561</td>\n",
       "    </tr>\n",
       "    <tr>\n",
       "      <th>5</th>\n",
       "      <td>9</td>\n",
       "      <td>0</td>\n",
       "      <td>0.000000</td>\n",
       "    </tr>\n",
       "  </tbody>\n",
       "</table>\n",
       "</div>"
      ],
      "text/plain": [
       "          count   sum      mean\n",
       "children                       \n",
       "0         14091  1063  0.075438\n",
       "1          4808   444  0.092346\n",
       "2          2052   194  0.094542\n",
       "3           330    27  0.081818\n",
       "4            41     4  0.097561\n",
       "5             9     0  0.000000"
      ]
     },
     "execution_count": 263,
     "metadata": {},
     "output_type": "execute_result"
    }
   ],
   "source": [
    "\n",
    "\n",
    "data_analis.groupby('children')['debt'].agg(['count','sum','mean'])"
   ]
  },
  {
   "cell_type": "code",
   "execution_count": 264,
   "id": "a87105c0",
   "metadata": {},
   "outputs": [
    {
     "data": {
      "text/html": [
       "<div>\n",
       "<style scoped>\n",
       "    .dataframe tbody tr th:only-of-type {\n",
       "        vertical-align: middle;\n",
       "    }\n",
       "\n",
       "    .dataframe tbody tr th {\n",
       "        vertical-align: top;\n",
       "    }\n",
       "\n",
       "    .dataframe thead th {\n",
       "        text-align: right;\n",
       "    }\n",
       "</style>\n",
       "<table border=\"1\" class=\"dataframe\">\n",
       "  <thead>\n",
       "    <tr style=\"text-align: right;\">\n",
       "      <th></th>\n",
       "      <th>count</th>\n",
       "      <th>sum</th>\n",
       "      <th>my_mean</th>\n",
       "    </tr>\n",
       "    <tr>\n",
       "      <th>children</th>\n",
       "      <th></th>\n",
       "      <th></th>\n",
       "      <th></th>\n",
       "    </tr>\n",
       "  </thead>\n",
       "  <tbody>\n",
       "    <tr>\n",
       "      <th>0</th>\n",
       "      <td>14091</td>\n",
       "      <td>1063</td>\n",
       "      <td>7.543822</td>\n",
       "    </tr>\n",
       "    <tr>\n",
       "      <th>1</th>\n",
       "      <td>4808</td>\n",
       "      <td>444</td>\n",
       "      <td>9.234609</td>\n",
       "    </tr>\n",
       "    <tr>\n",
       "      <th>2</th>\n",
       "      <td>2052</td>\n",
       "      <td>194</td>\n",
       "      <td>9.454191</td>\n",
       "    </tr>\n",
       "    <tr>\n",
       "      <th>3</th>\n",
       "      <td>330</td>\n",
       "      <td>27</td>\n",
       "      <td>8.181818</td>\n",
       "    </tr>\n",
       "    <tr>\n",
       "      <th>4</th>\n",
       "      <td>41</td>\n",
       "      <td>4</td>\n",
       "      <td>9.756098</td>\n",
       "    </tr>\n",
       "    <tr>\n",
       "      <th>5</th>\n",
       "      <td>9</td>\n",
       "      <td>0</td>\n",
       "      <td>0.000000</td>\n",
       "    </tr>\n",
       "  </tbody>\n",
       "</table>\n",
       "</div>"
      ],
      "text/plain": [
       "          count   sum   my_mean\n",
       "children                       \n",
       "0         14091  1063  7.543822\n",
       "1          4808   444  9.234609\n",
       "2          2052   194  9.454191\n",
       "3           330    27  8.181818\n",
       "4            41     4  9.756098\n",
       "5             9     0  0.000000"
      ]
     },
     "execution_count": 264,
     "metadata": {},
     "output_type": "execute_result"
    }
   ],
   "source": [
    "\n",
    "def my_mean(x): return x.mean()*100\n",
    "data_analis.groupby('children')['debt'].agg(['count', 'sum', my_mean])"
   ]
  },
  {
   "cell_type": "code",
   "execution_count": 265,
   "id": "516e1cd5",
   "metadata": {},
   "outputs": [
    {
     "data": {
      "text/html": [
       "<div>\n",
       "<style scoped>\n",
       "    .dataframe tbody tr th:only-of-type {\n",
       "        vertical-align: middle;\n",
       "    }\n",
       "\n",
       "    .dataframe tbody tr th {\n",
       "        vertical-align: top;\n",
       "    }\n",
       "\n",
       "    .dataframe thead th {\n",
       "        text-align: right;\n",
       "    }\n",
       "</style>\n",
       "<table border=\"1\" class=\"dataframe\">\n",
       "  <thead>\n",
       "    <tr style=\"text-align: right;\">\n",
       "      <th></th>\n",
       "      <th>count</th>\n",
       "      <th>sum</th>\n",
       "      <th>my_mean</th>\n",
       "    </tr>\n",
       "    <tr>\n",
       "      <th>children</th>\n",
       "      <th></th>\n",
       "      <th></th>\n",
       "      <th></th>\n",
       "    </tr>\n",
       "  </thead>\n",
       "  <tbody>\n",
       "    <tr>\n",
       "      <th>5</th>\n",
       "      <td>9</td>\n",
       "      <td>0</td>\n",
       "      <td>0.00%</td>\n",
       "    </tr>\n",
       "    <tr>\n",
       "      <th>0</th>\n",
       "      <td>14091</td>\n",
       "      <td>1063</td>\n",
       "      <td>7.54%</td>\n",
       "    </tr>\n",
       "    <tr>\n",
       "      <th>3</th>\n",
       "      <td>330</td>\n",
       "      <td>27</td>\n",
       "      <td>8.18%</td>\n",
       "    </tr>\n",
       "    <tr>\n",
       "      <th>1</th>\n",
       "      <td>4808</td>\n",
       "      <td>444</td>\n",
       "      <td>9.23%</td>\n",
       "    </tr>\n",
       "    <tr>\n",
       "      <th>2</th>\n",
       "      <td>2052</td>\n",
       "      <td>194</td>\n",
       "      <td>9.45%</td>\n",
       "    </tr>\n",
       "    <tr>\n",
       "      <th>4</th>\n",
       "      <td>41</td>\n",
       "      <td>4</td>\n",
       "      <td>9.76%</td>\n",
       "    </tr>\n",
       "  </tbody>\n",
       "</table>\n",
       "</div>"
      ],
      "text/plain": [
       "          count   sum my_mean\n",
       "children                     \n",
       "5             9     0  0.00% \n",
       "0         14091  1063  7.54% \n",
       "3           330    27  8.18% \n",
       "1          4808   444  9.23% \n",
       "2          2052   194  9.45% \n",
       "4            41     4  9.76% "
      ]
     },
     "execution_count": 265,
     "metadata": {},
     "output_type": "execute_result"
    }
   ],
   "source": [
    "def my_mean(x): return '{:.2%} '.format(x.mean())\n",
    "\n",
    "data_analis_children = data_analis.groupby('children')['debt'].agg(['count', 'sum', my_mean])\n",
    "\n",
    "data_analis_children.sort_values(by='my_mean')"
   ]
  },
  {
   "cell_type": "markdown",
   "id": "2e8d8b38",
   "metadata": {
    "deletable": false,
    "id": "3a6b99ec"
   },
   "source": [
    "**Вывод:** количество детей влияет на задолженности: \n",
    "- Чем больше детей, тем больше вероятность задолженности\n",
    "- У людей с 3-мя детьми вероятность задолженности ниже,чем у людей с другим количеством детей(возможно это связано с получением помощи от государства многодетным семьям). Вероятность задолженностей - 8%\n",
    "- У людей, имеющих 5 детей нет задолженностей(возможно из-за того, что таких людей очень мало)\n",
    "- Бездетные имеют невысокий процент задолженностей - 7%"
   ]
  },
  {
   "cell_type": "markdown",
   "id": "f1c3adf1",
   "metadata": {
    "deletable": false,
    "editable": false,
    "id": "97be82ca"
   },
   "source": [
    "#### 3.2 Есть ли зависимость между семейным положением и возвратом кредита в срок?"
   ]
  },
  {
   "cell_type": "code",
   "execution_count": 266,
   "id": "935e9dc3",
   "metadata": {
    "deletable": false,
    "id": "dc3f7ee8",
    "scrolled": true
   },
   "outputs": [
    {
     "data": {
      "text/html": [
       "<div>\n",
       "<style scoped>\n",
       "    .dataframe tbody tr th:only-of-type {\n",
       "        vertical-align: middle;\n",
       "    }\n",
       "\n",
       "    .dataframe tbody tr th {\n",
       "        vertical-align: top;\n",
       "    }\n",
       "\n",
       "    .dataframe thead th {\n",
       "        text-align: right;\n",
       "    }\n",
       "</style>\n",
       "<table border=\"1\" class=\"dataframe\">\n",
       "  <thead>\n",
       "    <tr style=\"text-align: right;\">\n",
       "      <th></th>\n",
       "      <th>count</th>\n",
       "      <th>sum</th>\n",
       "      <th>my_mean</th>\n",
       "    </tr>\n",
       "    <tr>\n",
       "      <th>family_status</th>\n",
       "      <th></th>\n",
       "      <th></th>\n",
       "      <th></th>\n",
       "    </tr>\n",
       "  </thead>\n",
       "  <tbody>\n",
       "    <tr>\n",
       "      <th>вдовец / вдова</th>\n",
       "      <td>951</td>\n",
       "      <td>63</td>\n",
       "      <td>6.62%</td>\n",
       "    </tr>\n",
       "    <tr>\n",
       "      <th>в разводе</th>\n",
       "      <td>1189</td>\n",
       "      <td>84</td>\n",
       "      <td>7.06%</td>\n",
       "    </tr>\n",
       "    <tr>\n",
       "      <th>женат / замужем</th>\n",
       "      <td>12261</td>\n",
       "      <td>927</td>\n",
       "      <td>7.56%</td>\n",
       "    </tr>\n",
       "    <tr>\n",
       "      <th>гражданский брак</th>\n",
       "      <td>4134</td>\n",
       "      <td>385</td>\n",
       "      <td>9.31%</td>\n",
       "    </tr>\n",
       "    <tr>\n",
       "      <th>Не женат / не замужем</th>\n",
       "      <td>2796</td>\n",
       "      <td>273</td>\n",
       "      <td>9.76%</td>\n",
       "    </tr>\n",
       "  </tbody>\n",
       "</table>\n",
       "</div>"
      ],
      "text/plain": [
       "                       count  sum my_mean\n",
       "family_status                            \n",
       "вдовец / вдова           951   63  6.62% \n",
       "в разводе               1189   84  7.06% \n",
       "женат / замужем        12261  927  7.56% \n",
       "гражданский брак        4134  385  9.31% \n",
       "Не женат / не замужем   2796  273  9.76% "
      ]
     },
     "execution_count": 266,
     "metadata": {},
     "output_type": "execute_result"
    }
   ],
   "source": [
    "data_analis_family = data_analis.groupby('family_status')['debt'].agg(['count', 'sum', my_mean])\n",
    "data_analis_family.sort_values(by='my_mean')"
   ]
  },
  {
   "cell_type": "code",
   "execution_count": 267,
   "id": "c5657b5e",
   "metadata": {},
   "outputs": [
    {
     "data": {
      "text/html": [
       "<div>\n",
       "<style scoped>\n",
       "    .dataframe tbody tr th:only-of-type {\n",
       "        vertical-align: middle;\n",
       "    }\n",
       "\n",
       "    .dataframe tbody tr th {\n",
       "        vertical-align: top;\n",
       "    }\n",
       "\n",
       "    .dataframe thead th {\n",
       "        text-align: right;\n",
       "    }\n",
       "</style>\n",
       "<table border=\"1\" class=\"dataframe\">\n",
       "  <thead>\n",
       "    <tr style=\"text-align: right;\">\n",
       "      <th></th>\n",
       "      <th>count</th>\n",
       "      <th>sum</th>\n",
       "      <th>my_mean</th>\n",
       "    </tr>\n",
       "    <tr>\n",
       "      <th>family_status</th>\n",
       "      <th></th>\n",
       "      <th></th>\n",
       "      <th></th>\n",
       "    </tr>\n",
       "  </thead>\n",
       "  <tbody>\n",
       "    <tr>\n",
       "      <th>в разводе</th>\n",
       "      <td>1189</td>\n",
       "      <td>84</td>\n",
       "      <td>7.06%</td>\n",
       "    </tr>\n",
       "    <tr>\n",
       "      <th>женат / замужем</th>\n",
       "      <td>12261</td>\n",
       "      <td>927</td>\n",
       "      <td>7.56%</td>\n",
       "    </tr>\n",
       "    <tr>\n",
       "      <th>гражданский брак</th>\n",
       "      <td>4134</td>\n",
       "      <td>385</td>\n",
       "      <td>9.31%</td>\n",
       "    </tr>\n",
       "    <tr>\n",
       "      <th>Не женат / не замужем</th>\n",
       "      <td>2796</td>\n",
       "      <td>273</td>\n",
       "      <td>9.76%</td>\n",
       "    </tr>\n",
       "  </tbody>\n",
       "</table>\n",
       "</div>"
      ],
      "text/plain": [
       "                       count  sum my_mean\n",
       "family_status                            \n",
       "в разводе               1189   84  7.06% \n",
       "женат / замужем        12261  927  7.56% \n",
       "гражданский брак        4134  385  9.31% \n",
       "Не женат / не замужем   2796  273  9.76% "
      ]
     },
     "execution_count": 267,
     "metadata": {},
     "output_type": "execute_result"
    }
   ],
   "source": [
    "data_analis_family_2 = data_analis[data_analis['family_status'] != 'вдовец / вдова']\n",
    "data_analis_family_2 = data_analis_family_2.groupby('family_status')['debt'].agg(['count', 'sum', my_mean])\n",
    "data_analis_family_2.sort_values(by='my_mean')"
   ]
  },
  {
   "cell_type": "markdown",
   "id": "ccd5de9a",
   "metadata": {
    "deletable": false,
    "id": "1cef7837"
   },
   "source": [
    "**Вывод:** \n",
    "- Люди, никогда не состоявшие в браке имеют более высокий процент задолжностей - 9%\n",
    "- Самая надежная категория - \"вдовец / вдова\" - 6%\n",
    "- Клиенты, расторгнувшие брак лучше отдают кредиты - 7%"
   ]
  },
  {
   "cell_type": "markdown",
   "id": "4530b9d1",
   "metadata": {
    "deletable": false,
    "editable": false,
    "id": "1e8b2fca"
   },
   "source": [
    "#### 3.3 Есть ли зависимость между уровнем дохода и возвратом кредита в срок?"
   ]
  },
  {
   "cell_type": "code",
   "execution_count": 268,
   "id": "0170a5df",
   "metadata": {
    "deletable": false,
    "id": "cd7e3720",
    "scrolled": true
   },
   "outputs": [
    {
     "data": {
      "text/html": [
       "<div>\n",
       "<style scoped>\n",
       "    .dataframe tbody tr th:only-of-type {\n",
       "        vertical-align: middle;\n",
       "    }\n",
       "\n",
       "    .dataframe tbody tr th {\n",
       "        vertical-align: top;\n",
       "    }\n",
       "\n",
       "    .dataframe thead th {\n",
       "        text-align: right;\n",
       "    }\n",
       "</style>\n",
       "<table border=\"1\" class=\"dataframe\">\n",
       "  <thead>\n",
       "    <tr style=\"text-align: right;\">\n",
       "      <th></th>\n",
       "      <th>count</th>\n",
       "      <th>sum</th>\n",
       "      <th>my_mean</th>\n",
       "    </tr>\n",
       "    <tr>\n",
       "      <th>total_income_category</th>\n",
       "      <th></th>\n",
       "      <th></th>\n",
       "      <th></th>\n",
       "    </tr>\n",
       "  </thead>\n",
       "  <tbody>\n",
       "    <tr>\n",
       "      <th>D</th>\n",
       "      <td>349</td>\n",
       "      <td>21</td>\n",
       "      <td>6.02%</td>\n",
       "    </tr>\n",
       "    <tr>\n",
       "      <th>B</th>\n",
       "      <td>5014</td>\n",
       "      <td>354</td>\n",
       "      <td>7.06%</td>\n",
       "    </tr>\n",
       "    <tr>\n",
       "      <th>A</th>\n",
       "      <td>25</td>\n",
       "      <td>2</td>\n",
       "      <td>8.00%</td>\n",
       "    </tr>\n",
       "    <tr>\n",
       "      <th>C</th>\n",
       "      <td>15921</td>\n",
       "      <td>1353</td>\n",
       "      <td>8.50%</td>\n",
       "    </tr>\n",
       "    <tr>\n",
       "      <th>E</th>\n",
       "      <td>22</td>\n",
       "      <td>2</td>\n",
       "      <td>9.09%</td>\n",
       "    </tr>\n",
       "  </tbody>\n",
       "</table>\n",
       "</div>"
      ],
      "text/plain": [
       "                       count   sum my_mean\n",
       "total_income_category                     \n",
       "D                        349    21  6.02% \n",
       "B                       5014   354  7.06% \n",
       "A                         25     2  8.00% \n",
       "C                      15921  1353  8.50% \n",
       "E                         22     2  9.09% "
      ]
     },
     "execution_count": 268,
     "metadata": {},
     "output_type": "execute_result"
    }
   ],
   "source": [
    "data_analis_income = data_analis.groupby('total_income_category')['debt'].agg(['count', 'sum', my_mean])\n",
    "data_analis_income.sort_values(by='my_mean')"
   ]
  },
  {
   "cell_type": "markdown",
   "id": "d1c42702",
   "metadata": {
    "deletable": false,
    "id": "e8593def"
   },
   "source": [
    "**Вывод:** \n",
    "- Самыми ненадежными являются люди, категории E - с доходом с доходом ниже 30 000 - 9%\n",
    "- Надежнее всего оказались люди с доходом от 30 000 до 50 000 - 6%\n"
   ]
  },
  {
   "cell_type": "markdown",
   "id": "adf9ea07",
   "metadata": {
    "deletable": false,
    "editable": false,
    "id": "99ecbd1f"
   },
   "source": [
    "#### 3.4 Как разные цели кредита влияют на его возврат в срок?"
   ]
  },
  {
   "cell_type": "code",
   "execution_count": 269,
   "id": "72484815",
   "metadata": {
    "deletable": false,
    "id": "2b687290"
   },
   "outputs": [
    {
     "data": {
      "text/html": [
       "<div>\n",
       "<style scoped>\n",
       "    .dataframe tbody tr th:only-of-type {\n",
       "        vertical-align: middle;\n",
       "    }\n",
       "\n",
       "    .dataframe tbody tr th {\n",
       "        vertical-align: top;\n",
       "    }\n",
       "\n",
       "    .dataframe thead th {\n",
       "        text-align: right;\n",
       "    }\n",
       "</style>\n",
       "<table border=\"1\" class=\"dataframe\">\n",
       "  <thead>\n",
       "    <tr style=\"text-align: right;\">\n",
       "      <th></th>\n",
       "      <th>count</th>\n",
       "      <th>sum</th>\n",
       "      <th>my_mean</th>\n",
       "    </tr>\n",
       "    <tr>\n",
       "      <th>purpose_category</th>\n",
       "      <th></th>\n",
       "      <th></th>\n",
       "      <th></th>\n",
       "    </tr>\n",
       "  </thead>\n",
       "  <tbody>\n",
       "    <tr>\n",
       "      <th>операции с недвижимостью</th>\n",
       "      <td>10751</td>\n",
       "      <td>780</td>\n",
       "      <td>7.26%</td>\n",
       "    </tr>\n",
       "    <tr>\n",
       "      <th>проведение свадьбы</th>\n",
       "      <td>2313</td>\n",
       "      <td>183</td>\n",
       "      <td>7.91%</td>\n",
       "    </tr>\n",
       "    <tr>\n",
       "      <th>получение образования</th>\n",
       "      <td>3988</td>\n",
       "      <td>369</td>\n",
       "      <td>9.25%</td>\n",
       "    </tr>\n",
       "    <tr>\n",
       "      <th>операции с автомобилем</th>\n",
       "      <td>4279</td>\n",
       "      <td>400</td>\n",
       "      <td>9.35%</td>\n",
       "    </tr>\n",
       "  </tbody>\n",
       "</table>\n",
       "</div>"
      ],
      "text/plain": [
       "                          count  sum my_mean\n",
       "purpose_category                            \n",
       "операции с недвижимостью  10751  780  7.26% \n",
       "проведение свадьбы         2313  183  7.91% \n",
       "получение образования      3988  369  9.25% \n",
       "операции с автомобилем     4279  400  9.35% "
      ]
     },
     "execution_count": 269,
     "metadata": {},
     "output_type": "execute_result"
    }
   ],
   "source": [
    "data_analis_purpose = data_analis.groupby('purpose_category')['debt'].agg(['count', 'sum', my_mean])\n",
    "data_analis_purpose.sort_values(by='my_mean')"
   ]
  },
  {
   "cell_type": "markdown",
   "id": "0aae0c9f",
   "metadata": {
    "deletable": false,
    "id": "b4bb2ce6"
   },
   "source": [
    "**Вывод:** \n",
    "- Кредит, взятый на автомобиль не вернут в срок в 9% случаев - самые ненадежные заемщики\n",
    "- Кредит, взятый на недвижимость не вернут в срок в 7% случаев - самые надежные"
   ]
  },
  {
   "cell_type": "markdown",
   "id": "7964eed5",
   "metadata": {
    "deletable": false,
    "editable": false,
    "id": "09c3ac4c"
   },
   "source": [
    "#### 3.5 Приведите возможные причины появления пропусков в исходных данных."
   ]
  },
  {
   "cell_type": "markdown",
   "id": "bc086e4f",
   "metadata": {
    "deletable": false,
    "id": "9da2ceda"
   },
   "source": [
    "*Ответ:* \n",
    "- люди ошибаются/не заполняют данные в онлайн формах\n",
    "- нехватка данных\n",
    "- технический сбой"
   ]
  },
  {
   "cell_type": "markdown",
   "id": "008223da",
   "metadata": {
    "deletable": false,
    "editable": false,
    "id": "7b0487d6"
   },
   "source": [
    "#### 3.6 Объясните, почему заполнить пропуски медианным значением — лучшее решение для количественных переменных."
   ]
  },
  {
   "cell_type": "markdown",
   "id": "9f84a5a1",
   "metadata": {
    "deletable": false,
    "id": "7ecf2b8e"
   },
   "source": [
    "*Ответ:* потому что это значение ничего не изменит для анализа, так как будет средним. Среднее нельзя использовать, так как в данных могут быть аномальные значения\n"
   ]
  },
  {
   "cell_type": "markdown",
   "id": "f48f965f",
   "metadata": {
    "deletable": false,
    "editable": false,
    "id": "6db5255a"
   },
   "source": [
    "### Шаг 4: общий вывод."
   ]
  },
  {
   "cell_type": "markdown",
   "id": "8d2a962c",
   "metadata": {
    "deletable": false,
    "id": "bad65432"
   },
   "source": [
    "Надежнее выдавать кредит людям:\n",
    "- без детей - 7,5%, \n",
    "- людям, которые ранее состояли в браке(вдовец,вдова,в разводе) - 7%\n",
    "- с доходом от 30 000 - 50 000 - 6%,\n",
    "- берущим на операции с недвижимостью - 7%\n",
    "\n",
    "Самыми ненадежными оказались люди:\n",
    "- имеющие 4 детей - около 10%\n",
    "- незамужние и неженатые - около 10%\n",
    "- с доходом ниже 30 000 - 9%\n",
    "- берущим на операции с автомобилем - 7%"
   ]
  }
 ],
 "metadata": {
  "ExecuteTimeLog": [
   {
    "duration": 43,
    "start_time": "2022-11-06T09:03:23.308Z"
   },
   {
    "duration": 409,
    "start_time": "2022-11-06T09:03:36.161Z"
   },
   {
    "duration": 20,
    "start_time": "2022-11-06T09:03:36.572Z"
   },
   {
    "duration": 15,
    "start_time": "2022-11-06T09:03:36.594Z"
   },
   {
    "duration": 15,
    "start_time": "2022-11-06T09:03:36.612Z"
   },
   {
    "duration": 32,
    "start_time": "2022-11-06T09:03:36.628Z"
   },
   {
    "duration": 3,
    "start_time": "2022-11-06T09:03:36.662Z"
   },
   {
    "duration": 11,
    "start_time": "2022-11-06T09:03:36.666Z"
   },
   {
    "duration": 4,
    "start_time": "2022-11-06T09:03:36.678Z"
   },
   {
    "duration": 8,
    "start_time": "2022-11-06T09:03:36.683Z"
   },
   {
    "duration": 28,
    "start_time": "2022-11-06T09:03:36.693Z"
   },
   {
    "duration": 28,
    "start_time": "2022-11-06T09:03:36.723Z"
   },
   {
    "duration": 8,
    "start_time": "2022-11-06T09:03:36.752Z"
   },
   {
    "duration": 4,
    "start_time": "2022-11-06T09:03:36.761Z"
   },
   {
    "duration": 11,
    "start_time": "2022-11-06T09:03:36.767Z"
   },
   {
    "duration": 41,
    "start_time": "2022-11-06T09:03:36.780Z"
   },
   {
    "duration": 17,
    "start_time": "2022-11-06T09:03:36.823Z"
   },
   {
    "duration": 4,
    "start_time": "2022-11-06T09:03:36.841Z"
   },
   {
    "duration": 11,
    "start_time": "2022-11-06T09:03:36.846Z"
   },
   {
    "duration": 6,
    "start_time": "2022-11-06T09:03:36.859Z"
   },
   {
    "duration": 3,
    "start_time": "2022-11-06T09:03:36.867Z"
   },
   {
    "duration": 11,
    "start_time": "2022-11-06T09:03:36.872Z"
   },
   {
    "duration": 4,
    "start_time": "2022-11-06T09:03:36.884Z"
   },
   {
    "duration": 39,
    "start_time": "2022-11-06T09:03:36.889Z"
   },
   {
    "duration": 5,
    "start_time": "2022-11-06T09:03:36.930Z"
   },
   {
    "duration": 11,
    "start_time": "2022-11-06T09:03:36.936Z"
   },
   {
    "duration": 17,
    "start_time": "2022-11-06T09:06:38.391Z"
   },
   {
    "duration": 17,
    "start_time": "2022-11-06T09:07:27.519Z"
   },
   {
    "duration": 32,
    "start_time": "2022-11-06T09:22:41.168Z"
   },
   {
    "duration": 30,
    "start_time": "2022-11-06T09:22:52.892Z"
   },
   {
    "duration": 16,
    "start_time": "2022-11-06T09:23:05.209Z"
   },
   {
    "duration": 25,
    "start_time": "2022-11-06T09:23:33.997Z"
   },
   {
    "duration": 25,
    "start_time": "2022-11-06T09:24:45.981Z"
   },
   {
    "duration": 35,
    "start_time": "2022-11-06T10:03:47.461Z"
   },
   {
    "duration": 32,
    "start_time": "2022-11-06T10:03:59.574Z"
   },
   {
    "duration": 1099,
    "start_time": "2022-11-06T10:25:36.343Z"
   },
   {
    "duration": 1110,
    "start_time": "2022-11-06T10:25:55.342Z"
   },
   {
    "duration": 1465,
    "start_time": "2022-11-06T10:26:16.386Z"
   },
   {
    "duration": 16,
    "start_time": "2022-11-06T10:26:21.165Z"
   },
   {
    "duration": 10,
    "start_time": "2022-11-06T10:26:37.245Z"
   },
   {
    "duration": 17,
    "start_time": "2022-11-06T10:26:52.416Z"
   },
   {
    "duration": 566,
    "start_time": "2022-11-06T10:27:02.376Z"
   },
   {
    "duration": 571,
    "start_time": "2022-11-06T10:27:10.484Z"
   },
   {
    "duration": 13,
    "start_time": "2022-11-06T10:27:19.508Z"
   },
   {
    "duration": 14,
    "start_time": "2022-11-06T10:28:32.964Z"
   },
   {
    "duration": 16,
    "start_time": "2022-11-06T10:28:35.345Z"
   },
   {
    "duration": 11,
    "start_time": "2022-11-06T10:28:46.089Z"
   },
   {
    "duration": 15,
    "start_time": "2022-11-06T10:29:06.745Z"
   },
   {
    "duration": 12,
    "start_time": "2022-11-06T10:29:18.369Z"
   },
   {
    "duration": 14,
    "start_time": "2022-11-06T10:29:25.234Z"
   },
   {
    "duration": 3,
    "start_time": "2022-11-06T10:34:29.057Z"
   },
   {
    "duration": 13,
    "start_time": "2022-11-06T10:34:40.211Z"
   },
   {
    "duration": 8,
    "start_time": "2022-11-06T10:36:29.073Z"
   },
   {
    "duration": 11,
    "start_time": "2022-11-06T10:36:38.133Z"
   },
   {
    "duration": 1206,
    "start_time": "2022-11-06T10:37:30.855Z"
   },
   {
    "duration": 1127,
    "start_time": "2022-11-06T10:37:46.895Z"
   },
   {
    "duration": 8,
    "start_time": "2022-11-06T10:41:56.384Z"
   },
   {
    "duration": 7,
    "start_time": "2022-11-06T10:42:08.981Z"
   },
   {
    "duration": 8,
    "start_time": "2022-11-06T10:42:11.526Z"
   },
   {
    "duration": 5,
    "start_time": "2022-11-06T10:48:20.315Z"
   },
   {
    "duration": 4,
    "start_time": "2022-11-06T10:52:20.153Z"
   },
   {
    "duration": 11,
    "start_time": "2022-11-06T10:52:25.571Z"
   },
   {
    "duration": 21,
    "start_time": "2022-11-06T10:54:25.217Z"
   },
   {
    "duration": 12,
    "start_time": "2022-11-06T10:54:41.992Z"
   },
   {
    "duration": 9,
    "start_time": "2022-11-06T10:54:51.115Z"
   },
   {
    "duration": 11,
    "start_time": "2022-11-06T10:55:17.742Z"
   },
   {
    "duration": 12,
    "start_time": "2022-11-06T10:55:30.526Z"
   },
   {
    "duration": 22,
    "start_time": "2022-11-06T10:57:27.419Z"
   },
   {
    "duration": 16,
    "start_time": "2022-11-06T10:57:42.570Z"
   },
   {
    "duration": 7,
    "start_time": "2022-11-06T10:58:48.123Z"
   },
   {
    "duration": 7,
    "start_time": "2022-11-06T10:58:52.321Z"
   },
   {
    "duration": 14,
    "start_time": "2022-11-06T10:59:04.511Z"
   },
   {
    "duration": 11,
    "start_time": "2022-11-06T10:59:24.147Z"
   },
   {
    "duration": 11,
    "start_time": "2022-11-06T10:59:50.602Z"
   },
   {
    "duration": 18,
    "start_time": "2022-11-06T10:59:57.866Z"
   },
   {
    "duration": 13,
    "start_time": "2022-11-06T11:01:18.455Z"
   },
   {
    "duration": 7,
    "start_time": "2022-11-06T11:06:12.118Z"
   },
   {
    "duration": 12,
    "start_time": "2022-11-06T11:06:23.070Z"
   },
   {
    "duration": 18,
    "start_time": "2022-11-06T11:07:31.562Z"
   },
   {
    "duration": 23,
    "start_time": "2022-11-06T11:07:42.635Z"
   },
   {
    "duration": 21,
    "start_time": "2022-11-06T11:08:00.955Z"
   },
   {
    "duration": 28,
    "start_time": "2022-11-06T11:08:15.928Z"
   },
   {
    "duration": 30,
    "start_time": "2022-11-06T11:09:03.446Z"
   },
   {
    "duration": 17,
    "start_time": "2022-11-06T11:10:41.926Z"
   },
   {
    "duration": 14,
    "start_time": "2022-11-06T11:10:55.280Z"
   },
   {
    "duration": 3,
    "start_time": "2022-11-06T11:11:25.527Z"
   },
   {
    "duration": 20,
    "start_time": "2022-11-06T11:12:59.433Z"
   },
   {
    "duration": 21,
    "start_time": "2022-11-06T11:13:11.739Z"
   },
   {
    "duration": 4,
    "start_time": "2022-11-06T11:13:15.469Z"
   },
   {
    "duration": 7,
    "start_time": "2022-11-06T11:18:58.255Z"
   },
   {
    "duration": 4,
    "start_time": "2022-11-06T11:19:02.605Z"
   },
   {
    "duration": 6,
    "start_time": "2022-11-06T11:19:04.288Z"
   },
   {
    "duration": 11,
    "start_time": "2022-11-06T11:19:13.603Z"
   },
   {
    "duration": 7,
    "start_time": "2022-11-06T11:19:26.746Z"
   },
   {
    "duration": 7,
    "start_time": "2022-11-06T11:19:36.943Z"
   },
   {
    "duration": 8,
    "start_time": "2022-11-06T11:19:42.993Z"
   },
   {
    "duration": 6,
    "start_time": "2022-11-06T11:19:56.856Z"
   },
   {
    "duration": 12,
    "start_time": "2022-11-06T11:27:27.945Z"
   },
   {
    "duration": 12,
    "start_time": "2022-11-06T11:27:58.449Z"
   },
   {
    "duration": 9,
    "start_time": "2022-11-06T11:28:17.583Z"
   },
   {
    "duration": 8,
    "start_time": "2022-11-06T11:28:28.850Z"
   },
   {
    "duration": 6,
    "start_time": "2022-11-06T11:28:42.671Z"
   },
   {
    "duration": 13,
    "start_time": "2022-11-06T11:33:52.548Z"
   },
   {
    "duration": 12,
    "start_time": "2022-11-06T11:34:50.575Z"
   },
   {
    "duration": 17,
    "start_time": "2022-11-06T11:35:16.283Z"
   },
   {
    "duration": 18,
    "start_time": "2022-11-06T11:35:23.397Z"
   },
   {
    "duration": 18,
    "start_time": "2022-11-06T11:35:31.068Z"
   },
   {
    "duration": 17,
    "start_time": "2022-11-06T11:35:35.751Z"
   },
   {
    "duration": 67,
    "start_time": "2022-11-06T11:37:48.717Z"
   },
   {
    "duration": 11,
    "start_time": "2022-11-06T11:37:55.567Z"
   },
   {
    "duration": 16,
    "start_time": "2022-11-06T11:38:11.972Z"
   },
   {
    "duration": 29,
    "start_time": "2022-11-06T11:45:59.852Z"
   },
   {
    "duration": 19,
    "start_time": "2022-11-06T11:46:04.778Z"
   },
   {
    "duration": 18,
    "start_time": "2022-11-06T11:46:57.378Z"
   },
   {
    "duration": 17,
    "start_time": "2022-11-06T11:52:08.352Z"
   },
   {
    "duration": 16,
    "start_time": "2022-11-06T12:01:51.757Z"
   },
   {
    "duration": 17,
    "start_time": "2022-11-06T12:02:21.186Z"
   },
   {
    "duration": 17,
    "start_time": "2022-11-06T12:02:41.348Z"
   },
   {
    "duration": 18,
    "start_time": "2022-11-06T12:03:55.883Z"
   },
   {
    "duration": 11,
    "start_time": "2022-11-06T12:06:19.857Z"
   },
   {
    "duration": 7,
    "start_time": "2022-11-06T12:18:49.176Z"
   },
   {
    "duration": 6,
    "start_time": "2022-11-06T12:20:43.012Z"
   },
   {
    "duration": 5,
    "start_time": "2022-11-06T12:21:37.389Z"
   },
   {
    "duration": 9,
    "start_time": "2022-11-06T12:22:07.253Z"
   },
   {
    "duration": 13,
    "start_time": "2022-11-06T12:22:21.032Z"
   },
   {
    "duration": 6,
    "start_time": "2022-11-06T12:23:07.311Z"
   },
   {
    "duration": 6,
    "start_time": "2022-11-06T12:23:14.674Z"
   },
   {
    "duration": 7,
    "start_time": "2022-11-06T12:23:35.087Z"
   },
   {
    "duration": 10,
    "start_time": "2022-11-06T12:23:57.406Z"
   },
   {
    "duration": 7,
    "start_time": "2022-11-06T12:24:48.994Z"
   },
   {
    "duration": 13,
    "start_time": "2022-11-06T12:25:11.793Z"
   },
   {
    "duration": 14,
    "start_time": "2022-11-06T12:27:47.869Z"
   },
   {
    "duration": 8,
    "start_time": "2022-11-06T12:28:40.720Z"
   },
   {
    "duration": 10,
    "start_time": "2022-11-06T12:28:50.150Z"
   },
   {
    "duration": 82,
    "start_time": "2022-11-06T12:32:58.736Z"
   },
   {
    "duration": 12,
    "start_time": "2022-11-06T12:33:05.850Z"
   },
   {
    "duration": 18,
    "start_time": "2022-11-06T12:33:30.284Z"
   },
   {
    "duration": 12,
    "start_time": "2022-11-06T12:34:30.732Z"
   },
   {
    "duration": 12,
    "start_time": "2022-11-06T12:34:49.989Z"
   },
   {
    "duration": 16,
    "start_time": "2022-11-06T12:36:19.991Z"
   },
   {
    "duration": 13,
    "start_time": "2022-11-06T12:36:33.340Z"
   },
   {
    "duration": 10,
    "start_time": "2022-11-06T12:37:33.675Z"
   },
   {
    "duration": 11,
    "start_time": "2022-11-06T12:38:57.200Z"
   },
   {
    "duration": 11,
    "start_time": "2022-11-06T12:39:16.834Z"
   },
   {
    "duration": 13,
    "start_time": "2022-11-06T12:39:24.050Z"
   },
   {
    "duration": 12,
    "start_time": "2022-11-06T12:42:11.618Z"
   },
   {
    "duration": 15,
    "start_time": "2022-11-06T12:48:52.603Z"
   },
   {
    "duration": 13,
    "start_time": "2022-11-06T12:49:03.498Z"
   },
   {
    "duration": 10,
    "start_time": "2022-11-06T12:49:07.209Z"
   },
   {
    "duration": 17,
    "start_time": "2022-11-06T12:50:25.043Z"
   },
   {
    "duration": 19,
    "start_time": "2022-11-06T12:50:34.031Z"
   },
   {
    "duration": 13,
    "start_time": "2022-11-06T12:50:37.802Z"
   },
   {
    "duration": 17,
    "start_time": "2022-11-06T12:50:43.043Z"
   },
   {
    "duration": 9,
    "start_time": "2022-11-06T12:51:10.109Z"
   },
   {
    "duration": 11,
    "start_time": "2022-11-06T12:54:35.464Z"
   },
   {
    "duration": 15,
    "start_time": "2022-11-06T12:59:41.531Z"
   },
   {
    "duration": 13,
    "start_time": "2022-11-06T13:02:39.350Z"
   },
   {
    "duration": 6,
    "start_time": "2022-11-06T13:04:36.942Z"
   },
   {
    "duration": 5,
    "start_time": "2022-11-06T13:04:51.618Z"
   },
   {
    "duration": 6,
    "start_time": "2022-11-06T13:05:03.265Z"
   },
   {
    "duration": 4,
    "start_time": "2022-11-06T13:05:09.483Z"
   },
   {
    "duration": 4,
    "start_time": "2022-11-06T13:05:13.200Z"
   },
   {
    "duration": 4,
    "start_time": "2022-11-06T13:05:19.890Z"
   },
   {
    "duration": 16,
    "start_time": "2022-11-06T13:06:45.429Z"
   },
   {
    "duration": 5,
    "start_time": "2022-11-06T13:14:26.785Z"
   },
   {
    "duration": 12,
    "start_time": "2022-11-06T13:19:14.459Z"
   },
   {
    "duration": 3,
    "start_time": "2022-11-06T13:23:50.310Z"
   },
   {
    "duration": 8,
    "start_time": "2022-11-06T13:23:54.729Z"
   },
   {
    "duration": 9,
    "start_time": "2022-11-06T13:27:00.243Z"
   },
   {
    "duration": 12,
    "start_time": "2022-11-06T13:28:38.359Z"
   },
   {
    "duration": 11,
    "start_time": "2022-11-06T13:28:46.187Z"
   },
   {
    "duration": 11,
    "start_time": "2022-11-06T13:35:52.758Z"
   },
   {
    "duration": 11,
    "start_time": "2022-11-06T13:36:06.765Z"
   },
   {
    "duration": 6,
    "start_time": "2022-11-06T13:36:11.712Z"
   },
   {
    "duration": 5,
    "start_time": "2022-11-06T13:36:30.896Z"
   },
   {
    "duration": 11,
    "start_time": "2022-11-06T13:41:50.404Z"
   },
   {
    "duration": 12,
    "start_time": "2022-11-06T13:44:23.128Z"
   },
   {
    "duration": 10,
    "start_time": "2022-11-06T13:48:09.170Z"
   },
   {
    "duration": 13,
    "start_time": "2022-11-06T13:50:18.661Z"
   },
   {
    "duration": 9,
    "start_time": "2022-11-06T13:50:39.732Z"
   },
   {
    "duration": 11,
    "start_time": "2022-11-06T13:51:44.584Z"
   },
   {
    "duration": 9,
    "start_time": "2022-11-06T13:52:23.920Z"
   },
   {
    "duration": 6,
    "start_time": "2022-11-06T13:52:27.489Z"
   },
   {
    "duration": 52,
    "start_time": "2022-11-06T18:19:27.201Z"
   },
   {
    "duration": 7,
    "start_time": "2022-11-06T18:19:27.335Z"
   },
   {
    "duration": 9,
    "start_time": "2022-11-06T18:19:27.482Z"
   },
   {
    "duration": 490,
    "start_time": "2022-11-06T18:19:29.997Z"
   },
   {
    "duration": 32,
    "start_time": "2022-11-06T18:19:30.489Z"
   },
   {
    "duration": 62,
    "start_time": "2022-11-06T18:19:30.523Z"
   },
   {
    "duration": 34,
    "start_time": "2022-11-06T18:19:30.587Z"
   },
   {
    "duration": 69,
    "start_time": "2022-11-06T18:19:30.625Z"
   },
   {
    "duration": 4,
    "start_time": "2022-11-06T18:19:30.696Z"
   },
   {
    "duration": 46,
    "start_time": "2022-11-06T18:19:30.702Z"
   },
   {
    "duration": 12,
    "start_time": "2022-11-06T18:19:30.750Z"
   },
   {
    "duration": 36,
    "start_time": "2022-11-06T18:19:30.764Z"
   },
   {
    "duration": 26,
    "start_time": "2022-11-06T18:19:30.802Z"
   },
   {
    "duration": 90,
    "start_time": "2022-11-06T18:19:30.830Z"
   },
   {
    "duration": 13,
    "start_time": "2022-11-06T18:19:30.922Z"
   },
   {
    "duration": 44,
    "start_time": "2022-11-06T18:19:30.936Z"
   },
   {
    "duration": 44,
    "start_time": "2022-11-06T18:19:30.983Z"
   },
   {
    "duration": 71,
    "start_time": "2022-11-06T18:19:31.029Z"
   },
   {
    "duration": 33,
    "start_time": "2022-11-06T18:19:31.101Z"
   },
   {
    "duration": 12,
    "start_time": "2022-11-06T18:19:31.136Z"
   },
   {
    "duration": 62,
    "start_time": "2022-11-06T18:19:31.149Z"
   },
   {
    "duration": 48,
    "start_time": "2022-11-06T18:19:31.212Z"
   },
   {
    "duration": 27,
    "start_time": "2022-11-06T18:19:31.262Z"
   },
   {
    "duration": 31,
    "start_time": "2022-11-06T18:19:31.290Z"
   },
   {
    "duration": 20,
    "start_time": "2022-11-06T18:19:31.323Z"
   },
   {
    "duration": 37,
    "start_time": "2022-11-06T18:19:31.345Z"
   },
   {
    "duration": 21,
    "start_time": "2022-11-06T18:19:31.383Z"
   },
   {
    "duration": 12,
    "start_time": "2022-11-06T18:19:31.406Z"
   },
   {
    "duration": 11,
    "start_time": "2022-11-06T18:19:31.420Z"
   },
   {
    "duration": 9,
    "start_time": "2022-11-06T18:23:22.442Z"
   },
   {
    "duration": 75,
    "start_time": "2022-11-06T18:23:25.706Z"
   },
   {
    "duration": 24,
    "start_time": "2022-11-06T18:23:25.783Z"
   },
   {
    "duration": 19,
    "start_time": "2022-11-06T18:23:25.809Z"
   },
   {
    "duration": 9,
    "start_time": "2022-11-06T18:23:25.831Z"
   },
   {
    "duration": 45,
    "start_time": "2022-11-06T18:23:25.842Z"
   },
   {
    "duration": 22,
    "start_time": "2022-11-06T18:23:25.888Z"
   },
   {
    "duration": 16,
    "start_time": "2022-11-06T18:23:25.912Z"
   },
   {
    "duration": 4,
    "start_time": "2022-11-06T18:23:25.930Z"
   },
   {
    "duration": 9,
    "start_time": "2022-11-06T18:23:25.936Z"
   },
   {
    "duration": 4,
    "start_time": "2022-11-06T18:23:25.948Z"
   },
   {
    "duration": 63,
    "start_time": "2022-11-06T18:23:25.953Z"
   },
   {
    "duration": 10,
    "start_time": "2022-11-06T18:23:26.017Z"
   },
   {
    "duration": 6,
    "start_time": "2022-11-06T18:23:26.029Z"
   },
   {
    "duration": 12,
    "start_time": "2022-11-06T18:23:26.037Z"
   },
   {
    "duration": 27,
    "start_time": "2022-11-06T18:23:26.051Z"
   },
   {
    "duration": 89,
    "start_time": "2022-11-06T18:23:26.080Z"
   },
   {
    "duration": 43,
    "start_time": "2022-11-06T18:23:26.171Z"
   },
   {
    "duration": 60,
    "start_time": "2022-11-06T18:23:26.216Z"
   },
   {
    "duration": 63,
    "start_time": "2022-11-06T18:23:26.278Z"
   },
   {
    "duration": 39,
    "start_time": "2022-11-06T18:23:26.343Z"
   },
   {
    "duration": 37,
    "start_time": "2022-11-06T18:23:26.383Z"
   },
   {
    "duration": 47,
    "start_time": "2022-11-06T18:23:26.422Z"
   },
   {
    "duration": 11,
    "start_time": "2022-11-06T18:23:27.661Z"
   },
   {
    "duration": 9,
    "start_time": "2022-11-06T18:23:30.343Z"
   },
   {
    "duration": 23,
    "start_time": "2022-11-06T18:23:41.143Z"
   },
   {
    "duration": 21,
    "start_time": "2022-11-06T18:25:52.889Z"
   },
   {
    "duration": 11,
    "start_time": "2022-11-06T18:26:00.144Z"
   },
   {
    "duration": 19,
    "start_time": "2022-11-06T18:26:03.483Z"
   },
   {
    "duration": 19,
    "start_time": "2022-11-06T18:26:08.033Z"
   },
   {
    "duration": 85,
    "start_time": "2022-11-06T18:26:36.512Z"
   },
   {
    "duration": 15,
    "start_time": "2022-11-06T18:26:36.598Z"
   },
   {
    "duration": 19,
    "start_time": "2022-11-06T18:26:36.615Z"
   },
   {
    "duration": 11,
    "start_time": "2022-11-06T18:26:36.636Z"
   },
   {
    "duration": 34,
    "start_time": "2022-11-06T18:26:36.649Z"
   },
   {
    "duration": 24,
    "start_time": "2022-11-06T18:26:36.685Z"
   },
   {
    "duration": 13,
    "start_time": "2022-11-06T18:26:36.712Z"
   },
   {
    "duration": 4,
    "start_time": "2022-11-06T18:26:36.727Z"
   },
   {
    "duration": 8,
    "start_time": "2022-11-06T18:26:36.733Z"
   },
   {
    "duration": 7,
    "start_time": "2022-11-06T18:26:36.743Z"
   },
   {
    "duration": 72,
    "start_time": "2022-11-06T18:26:36.751Z"
   },
   {
    "duration": 10,
    "start_time": "2022-11-06T18:26:36.825Z"
   },
   {
    "duration": 7,
    "start_time": "2022-11-06T18:26:36.837Z"
   },
   {
    "duration": 19,
    "start_time": "2022-11-06T18:26:36.846Z"
   },
   {
    "duration": 21,
    "start_time": "2022-11-06T18:26:36.866Z"
   },
   {
    "duration": 35,
    "start_time": "2022-11-06T18:26:36.888Z"
   },
   {
    "duration": 3,
    "start_time": "2022-11-06T18:26:36.925Z"
   },
   {
    "duration": 15,
    "start_time": "2022-11-06T18:26:36.930Z"
   },
   {
    "duration": 8,
    "start_time": "2022-11-06T18:26:36.947Z"
   },
   {
    "duration": 10,
    "start_time": "2022-11-06T18:26:36.956Z"
   },
   {
    "duration": 20,
    "start_time": "2022-11-06T18:26:36.967Z"
   },
   {
    "duration": 3,
    "start_time": "2022-11-06T18:26:37.008Z"
   },
   {
    "duration": 26,
    "start_time": "2022-11-06T18:26:38.869Z"
   },
   {
    "duration": 24,
    "start_time": "2022-11-06T18:26:53.192Z"
   },
   {
    "duration": 44,
    "start_time": "2022-11-08T07:38:51.174Z"
   },
   {
    "duration": 691,
    "start_time": "2022-11-08T07:39:12.243Z"
   },
   {
    "duration": 18,
    "start_time": "2022-11-08T07:39:12.936Z"
   },
   {
    "duration": 12,
    "start_time": "2022-11-08T07:39:12.956Z"
   },
   {
    "duration": 9,
    "start_time": "2022-11-08T07:39:12.970Z"
   },
   {
    "duration": 36,
    "start_time": "2022-11-08T07:39:12.980Z"
   },
   {
    "duration": 3,
    "start_time": "2022-11-08T07:39:13.017Z"
   },
   {
    "duration": 10,
    "start_time": "2022-11-08T07:39:13.021Z"
   },
   {
    "duration": 5,
    "start_time": "2022-11-08T07:39:13.032Z"
   },
   {
    "duration": 6,
    "start_time": "2022-11-08T07:39:13.059Z"
   },
   {
    "duration": 3,
    "start_time": "2022-11-08T07:39:13.067Z"
   },
   {
    "duration": 39,
    "start_time": "2022-11-08T07:39:13.072Z"
   },
   {
    "duration": 10,
    "start_time": "2022-11-08T07:39:13.112Z"
   },
   {
    "duration": 6,
    "start_time": "2022-11-08T07:39:13.123Z"
   },
   {
    "duration": 11,
    "start_time": "2022-11-08T07:39:13.131Z"
   },
   {
    "duration": 17,
    "start_time": "2022-11-08T07:39:13.158Z"
   },
   {
    "duration": 14,
    "start_time": "2022-11-08T07:39:13.177Z"
   },
   {
    "duration": 3,
    "start_time": "2022-11-08T07:39:13.193Z"
   },
   {
    "duration": 13,
    "start_time": "2022-11-08T07:39:13.197Z"
   },
   {
    "duration": 12,
    "start_time": "2022-11-08T07:39:13.212Z"
   },
   {
    "duration": 11,
    "start_time": "2022-11-08T07:39:13.225Z"
   },
   {
    "duration": 21,
    "start_time": "2022-11-08T07:39:13.238Z"
   },
   {
    "duration": 2,
    "start_time": "2022-11-08T07:39:13.260Z"
   },
   {
    "duration": 9,
    "start_time": "2022-11-08T07:39:13.264Z"
   },
   {
    "duration": 9,
    "start_time": "2022-11-08T07:39:13.274Z"
   },
   {
    "duration": 10,
    "start_time": "2022-11-08T07:39:13.284Z"
   },
   {
    "duration": 10,
    "start_time": "2022-11-08T07:39:13.295Z"
   },
   {
    "duration": 8,
    "start_time": "2022-11-08T07:39:13.307Z"
   },
   {
    "duration": 42,
    "start_time": "2022-11-08T07:39:13.317Z"
   },
   {
    "duration": 7,
    "start_time": "2022-11-08T07:39:13.361Z"
   },
   {
    "duration": 13,
    "start_time": "2022-11-08T07:39:13.369Z"
   },
   {
    "duration": 7,
    "start_time": "2022-11-08T07:39:57.045Z"
   },
   {
    "duration": 7,
    "start_time": "2022-11-08T07:40:38.585Z"
   },
   {
    "duration": 12,
    "start_time": "2022-11-08T07:43:07.568Z"
   },
   {
    "duration": 16,
    "start_time": "2022-11-08T07:45:07.240Z"
   },
   {
    "duration": 37,
    "start_time": "2022-11-08T07:46:55.996Z"
   },
   {
    "duration": 12,
    "start_time": "2022-11-08T07:47:11.729Z"
   },
   {
    "duration": 46,
    "start_time": "2022-11-08T07:47:42.914Z"
   },
   {
    "duration": 9,
    "start_time": "2022-11-08T07:47:54.098Z"
   },
   {
    "duration": 9,
    "start_time": "2022-11-08T07:47:56.636Z"
   },
   {
    "duration": 8,
    "start_time": "2022-11-08T07:48:21.525Z"
   },
   {
    "duration": 9,
    "start_time": "2022-11-08T07:48:26.198Z"
   },
   {
    "duration": 9,
    "start_time": "2022-11-08T07:48:36.316Z"
   },
   {
    "duration": 66,
    "start_time": "2022-11-08T07:48:42.751Z"
   },
   {
    "duration": 15,
    "start_time": "2022-11-08T07:48:42.819Z"
   },
   {
    "duration": 24,
    "start_time": "2022-11-08T07:48:42.836Z"
   },
   {
    "duration": 21,
    "start_time": "2022-11-08T07:48:42.862Z"
   },
   {
    "duration": 31,
    "start_time": "2022-11-08T07:48:42.885Z"
   },
   {
    "duration": 3,
    "start_time": "2022-11-08T07:48:42.918Z"
   },
   {
    "duration": 32,
    "start_time": "2022-11-08T07:48:42.923Z"
   },
   {
    "duration": 17,
    "start_time": "2022-11-08T07:48:42.956Z"
   },
   {
    "duration": 5,
    "start_time": "2022-11-08T07:48:42.975Z"
   },
   {
    "duration": 4,
    "start_time": "2022-11-08T07:48:42.983Z"
   },
   {
    "duration": 34,
    "start_time": "2022-11-08T07:48:42.988Z"
   },
   {
    "duration": 8,
    "start_time": "2022-11-08T07:48:43.024Z"
   },
   {
    "duration": 4,
    "start_time": "2022-11-08T07:48:43.034Z"
   },
   {
    "duration": 30,
    "start_time": "2022-11-08T07:48:43.040Z"
   },
   {
    "duration": 19,
    "start_time": "2022-11-08T07:48:43.071Z"
   },
   {
    "duration": 15,
    "start_time": "2022-11-08T07:48:43.092Z"
   },
   {
    "duration": 4,
    "start_time": "2022-11-08T07:48:43.109Z"
   },
   {
    "duration": 15,
    "start_time": "2022-11-08T07:48:43.114Z"
   },
   {
    "duration": 29,
    "start_time": "2022-11-08T07:48:43.131Z"
   },
   {
    "duration": 3,
    "start_time": "2022-11-08T07:48:43.162Z"
   },
   {
    "duration": 13,
    "start_time": "2022-11-08T07:48:43.167Z"
   },
   {
    "duration": 6,
    "start_time": "2022-11-08T07:48:43.182Z"
   },
   {
    "duration": 10,
    "start_time": "2022-11-08T07:48:43.189Z"
   },
   {
    "duration": 11,
    "start_time": "2022-11-08T07:48:43.200Z"
   },
   {
    "duration": 13,
    "start_time": "2022-11-08T07:48:43.212Z"
   },
   {
    "duration": 13,
    "start_time": "2022-11-08T07:48:43.259Z"
   },
   {
    "duration": 68,
    "start_time": "2022-11-08T07:48:43.274Z"
   },
   {
    "duration": 0,
    "start_time": "2022-11-08T07:48:43.344Z"
   },
   {
    "duration": 0,
    "start_time": "2022-11-08T07:48:43.346Z"
   },
   {
    "duration": 0,
    "start_time": "2022-11-08T07:48:43.347Z"
   },
   {
    "duration": 10,
    "start_time": "2022-11-08T07:51:59.318Z"
   },
   {
    "duration": 49,
    "start_time": "2022-11-08T07:53:58.300Z"
   },
   {
    "duration": 10,
    "start_time": "2022-11-08T08:52:51.148Z"
   },
   {
    "duration": 68,
    "start_time": "2022-11-08T09:33:43.676Z"
   },
   {
    "duration": 20,
    "start_time": "2022-11-08T09:33:43.746Z"
   },
   {
    "duration": 18,
    "start_time": "2022-11-08T09:33:43.769Z"
   },
   {
    "duration": 9,
    "start_time": "2022-11-08T09:33:43.788Z"
   },
   {
    "duration": 30,
    "start_time": "2022-11-08T09:33:43.799Z"
   },
   {
    "duration": 3,
    "start_time": "2022-11-08T09:33:43.831Z"
   },
   {
    "duration": 41,
    "start_time": "2022-11-08T09:33:43.835Z"
   },
   {
    "duration": 4,
    "start_time": "2022-11-08T09:33:43.877Z"
   },
   {
    "duration": 10,
    "start_time": "2022-11-08T09:33:43.883Z"
   },
   {
    "duration": 5,
    "start_time": "2022-11-08T09:33:43.894Z"
   },
   {
    "duration": 31,
    "start_time": "2022-11-08T09:33:43.900Z"
   },
   {
    "duration": 9,
    "start_time": "2022-11-08T09:33:43.933Z"
   },
   {
    "duration": 3,
    "start_time": "2022-11-08T09:33:43.943Z"
   },
   {
    "duration": 16,
    "start_time": "2022-11-08T09:33:43.958Z"
   },
   {
    "duration": 17,
    "start_time": "2022-11-08T09:33:43.976Z"
   },
   {
    "duration": 15,
    "start_time": "2022-11-08T09:33:43.995Z"
   },
   {
    "duration": 4,
    "start_time": "2022-11-08T09:33:44.011Z"
   },
   {
    "duration": 12,
    "start_time": "2022-11-08T09:33:44.016Z"
   },
   {
    "duration": 40,
    "start_time": "2022-11-08T09:33:44.030Z"
   },
   {
    "duration": 4,
    "start_time": "2022-11-08T09:33:44.073Z"
   },
   {
    "duration": 14,
    "start_time": "2022-11-08T09:33:44.079Z"
   },
   {
    "duration": 3,
    "start_time": "2022-11-08T09:33:44.095Z"
   },
   {
    "duration": 10,
    "start_time": "2022-11-08T09:33:44.100Z"
   },
   {
    "duration": 13,
    "start_time": "2022-11-08T09:33:44.112Z"
   },
   {
    "duration": 43,
    "start_time": "2022-11-08T09:33:44.127Z"
   },
   {
    "duration": 13,
    "start_time": "2022-11-08T09:33:44.172Z"
   },
   {
    "duration": 10,
    "start_time": "2022-11-08T09:33:48.374Z"
   },
   {
    "duration": 13,
    "start_time": "2022-11-08T09:34:09.393Z"
   },
   {
    "duration": 10,
    "start_time": "2022-11-08T09:35:10.805Z"
   },
   {
    "duration": 14,
    "start_time": "2022-11-08T09:35:24.254Z"
   },
   {
    "duration": 10,
    "start_time": "2022-11-08T09:35:28.704Z"
   },
   {
    "duration": 12,
    "start_time": "2022-11-08T09:35:42.273Z"
   },
   {
    "duration": 9,
    "start_time": "2022-11-08T09:36:21.484Z"
   },
   {
    "duration": 67,
    "start_time": "2022-11-08T09:36:30.173Z"
   },
   {
    "duration": 14,
    "start_time": "2022-11-08T09:36:30.242Z"
   },
   {
    "duration": 43,
    "start_time": "2022-11-08T09:36:30.257Z"
   },
   {
    "duration": 21,
    "start_time": "2022-11-08T09:36:30.302Z"
   },
   {
    "duration": 46,
    "start_time": "2022-11-08T09:36:30.325Z"
   },
   {
    "duration": 3,
    "start_time": "2022-11-08T09:36:30.373Z"
   },
   {
    "duration": 15,
    "start_time": "2022-11-08T09:36:30.377Z"
   },
   {
    "duration": 15,
    "start_time": "2022-11-08T09:36:30.393Z"
   },
   {
    "duration": 15,
    "start_time": "2022-11-08T09:36:30.409Z"
   },
   {
    "duration": 20,
    "start_time": "2022-11-08T09:36:30.426Z"
   },
   {
    "duration": 44,
    "start_time": "2022-11-08T09:36:30.448Z"
   },
   {
    "duration": 9,
    "start_time": "2022-11-08T09:36:30.494Z"
   },
   {
    "duration": 24,
    "start_time": "2022-11-08T09:36:30.505Z"
   },
   {
    "duration": 49,
    "start_time": "2022-11-08T09:36:30.531Z"
   },
   {
    "duration": 29,
    "start_time": "2022-11-08T09:36:30.581Z"
   },
   {
    "duration": 17,
    "start_time": "2022-11-08T09:36:30.612Z"
   },
   {
    "duration": 5,
    "start_time": "2022-11-08T09:36:30.630Z"
   },
   {
    "duration": 43,
    "start_time": "2022-11-08T09:36:30.636Z"
   },
   {
    "duration": 26,
    "start_time": "2022-11-08T09:36:30.680Z"
   },
   {
    "duration": 29,
    "start_time": "2022-11-08T09:36:30.708Z"
   },
   {
    "duration": 135,
    "start_time": "2022-11-08T09:36:30.738Z"
   },
   {
    "duration": 195,
    "start_time": "2022-11-08T09:36:30.875Z"
   },
   {
    "duration": 14,
    "start_time": "2022-11-08T09:36:31.073Z"
   },
   {
    "duration": 12,
    "start_time": "2022-11-08T09:36:31.089Z"
   },
   {
    "duration": 28,
    "start_time": "2022-11-08T09:36:31.102Z"
   },
   {
    "duration": 11,
    "start_time": "2022-11-08T09:36:31.132Z"
   },
   {
    "duration": 12,
    "start_time": "2022-11-08T09:36:31.144Z"
   },
   {
    "duration": 15,
    "start_time": "2022-11-08T09:36:31.157Z"
   },
   {
    "duration": 0,
    "start_time": "2022-11-08T09:36:31.174Z"
   },
   {
    "duration": 0,
    "start_time": "2022-11-08T09:36:31.175Z"
   },
   {
    "duration": 9,
    "start_time": "2022-11-08T09:40:43.991Z"
   },
   {
    "duration": 11,
    "start_time": "2022-11-08T09:40:59.776Z"
   },
   {
    "duration": 10,
    "start_time": "2022-11-08T09:41:52.408Z"
   },
   {
    "duration": 3,
    "start_time": "2022-11-08T09:42:07.712Z"
   },
   {
    "duration": 12,
    "start_time": "2022-11-08T09:42:14.357Z"
   },
   {
    "duration": 10,
    "start_time": "2022-11-08T09:48:10.631Z"
   },
   {
    "duration": 59,
    "start_time": "2022-11-08T14:09:47.752Z"
   },
   {
    "duration": 519,
    "start_time": "2022-11-08T14:09:53.163Z"
   },
   {
    "duration": 23,
    "start_time": "2022-11-08T14:09:53.684Z"
   },
   {
    "duration": 23,
    "start_time": "2022-11-08T14:09:53.709Z"
   },
   {
    "duration": 11,
    "start_time": "2022-11-08T14:09:53.733Z"
   },
   {
    "duration": 51,
    "start_time": "2022-11-08T14:09:53.746Z"
   },
   {
    "duration": 3,
    "start_time": "2022-11-08T14:09:53.799Z"
   },
   {
    "duration": 27,
    "start_time": "2022-11-08T14:09:53.804Z"
   },
   {
    "duration": 5,
    "start_time": "2022-11-08T14:09:53.832Z"
   },
   {
    "duration": 22,
    "start_time": "2022-11-08T14:09:53.838Z"
   },
   {
    "duration": 10,
    "start_time": "2022-11-08T14:09:53.862Z"
   },
   {
    "duration": 54,
    "start_time": "2022-11-08T14:09:53.874Z"
   },
   {
    "duration": 11,
    "start_time": "2022-11-08T14:09:53.930Z"
   },
   {
    "duration": 14,
    "start_time": "2022-11-08T14:09:53.943Z"
   },
   {
    "duration": 26,
    "start_time": "2022-11-08T14:09:53.960Z"
   },
   {
    "duration": 33,
    "start_time": "2022-11-08T14:09:53.988Z"
   },
   {
    "duration": 21,
    "start_time": "2022-11-08T14:09:54.023Z"
   },
   {
    "duration": 3,
    "start_time": "2022-11-08T14:09:54.046Z"
   },
   {
    "duration": 16,
    "start_time": "2022-11-08T14:09:54.050Z"
   },
   {
    "duration": 9,
    "start_time": "2022-11-08T14:09:54.068Z"
   },
   {
    "duration": 10,
    "start_time": "2022-11-08T14:09:54.078Z"
   },
   {
    "duration": 31,
    "start_time": "2022-11-08T14:09:54.090Z"
   },
   {
    "duration": 6,
    "start_time": "2022-11-08T14:09:54.123Z"
   },
   {
    "duration": 10,
    "start_time": "2022-11-08T14:09:54.130Z"
   },
   {
    "duration": 10,
    "start_time": "2022-11-08T14:09:54.142Z"
   },
   {
    "duration": 12,
    "start_time": "2022-11-08T14:09:54.154Z"
   },
   {
    "duration": 13,
    "start_time": "2022-11-08T14:09:54.167Z"
   },
   {
    "duration": 39,
    "start_time": "2022-11-08T14:09:54.181Z"
   },
   {
    "duration": 11,
    "start_time": "2022-11-08T14:09:54.221Z"
   },
   {
    "duration": 12,
    "start_time": "2022-11-08T14:10:05.681Z"
   },
   {
    "duration": 34,
    "start_time": "2022-11-08T14:11:38.155Z"
   },
   {
    "duration": 10,
    "start_time": "2022-11-08T14:11:44.875Z"
   },
   {
    "duration": 11,
    "start_time": "2022-11-08T14:11:47.509Z"
   },
   {
    "duration": 11,
    "start_time": "2022-11-08T14:12:16.507Z"
   },
   {
    "duration": 7,
    "start_time": "2022-11-08T14:12:23.453Z"
   },
   {
    "duration": 9,
    "start_time": "2022-11-08T14:12:38.954Z"
   },
   {
    "duration": 81,
    "start_time": "2022-11-08T14:13:35.153Z"
   },
   {
    "duration": 16,
    "start_time": "2022-11-08T14:13:35.236Z"
   },
   {
    "duration": 27,
    "start_time": "2022-11-08T14:13:35.254Z"
   },
   {
    "duration": 26,
    "start_time": "2022-11-08T14:13:35.284Z"
   },
   {
    "duration": 49,
    "start_time": "2022-11-08T14:13:35.312Z"
   },
   {
    "duration": 3,
    "start_time": "2022-11-08T14:13:35.363Z"
   },
   {
    "duration": 28,
    "start_time": "2022-11-08T14:13:35.368Z"
   },
   {
    "duration": 7,
    "start_time": "2022-11-08T14:13:35.398Z"
   },
   {
    "duration": 23,
    "start_time": "2022-11-08T14:13:35.407Z"
   },
   {
    "duration": 21,
    "start_time": "2022-11-08T14:13:35.432Z"
   },
   {
    "duration": 51,
    "start_time": "2022-11-08T14:13:35.454Z"
   },
   {
    "duration": 13,
    "start_time": "2022-11-08T14:13:35.506Z"
   },
   {
    "duration": 4,
    "start_time": "2022-11-08T14:13:35.520Z"
   },
   {
    "duration": 14,
    "start_time": "2022-11-08T14:13:35.526Z"
   },
   {
    "duration": 21,
    "start_time": "2022-11-08T14:13:35.541Z"
   },
   {
    "duration": 18,
    "start_time": "2022-11-08T14:13:35.564Z"
   },
   {
    "duration": 29,
    "start_time": "2022-11-08T14:13:35.584Z"
   },
   {
    "duration": 11,
    "start_time": "2022-11-08T14:13:35.615Z"
   },
   {
    "duration": 11,
    "start_time": "2022-11-08T14:13:35.627Z"
   },
   {
    "duration": 4,
    "start_time": "2022-11-08T14:13:35.640Z"
   },
   {
    "duration": 16,
    "start_time": "2022-11-08T14:13:35.645Z"
   },
   {
    "duration": 3,
    "start_time": "2022-11-08T14:13:35.663Z"
   },
   {
    "duration": 15,
    "start_time": "2022-11-08T14:13:35.668Z"
   },
   {
    "duration": 19,
    "start_time": "2022-11-08T14:13:38.920Z"
   },
   {
    "duration": 20,
    "start_time": "2022-11-08T14:13:44.852Z"
   },
   {
    "duration": 14,
    "start_time": "2022-11-08T14:14:05.164Z"
   },
   {
    "duration": 9,
    "start_time": "2022-11-08T14:14:58.521Z"
   },
   {
    "duration": 16,
    "start_time": "2022-11-08T14:15:08.811Z"
   },
   {
    "duration": 68,
    "start_time": "2022-11-08T14:15:26.505Z"
   },
   {
    "duration": 16,
    "start_time": "2022-11-08T14:15:26.575Z"
   },
   {
    "duration": 25,
    "start_time": "2022-11-08T14:15:26.593Z"
   },
   {
    "duration": 11,
    "start_time": "2022-11-08T14:15:26.620Z"
   },
   {
    "duration": 36,
    "start_time": "2022-11-08T14:15:26.633Z"
   },
   {
    "duration": 3,
    "start_time": "2022-11-08T14:15:26.671Z"
   },
   {
    "duration": 42,
    "start_time": "2022-11-08T14:15:26.676Z"
   },
   {
    "duration": 5,
    "start_time": "2022-11-08T14:15:26.719Z"
   },
   {
    "duration": 8,
    "start_time": "2022-11-08T14:15:26.725Z"
   },
   {
    "duration": 5,
    "start_time": "2022-11-08T14:15:26.736Z"
   },
   {
    "duration": 39,
    "start_time": "2022-11-08T14:15:26.743Z"
   },
   {
    "duration": 35,
    "start_time": "2022-11-08T14:15:26.783Z"
   },
   {
    "duration": 4,
    "start_time": "2022-11-08T14:15:26.820Z"
   },
   {
    "duration": 12,
    "start_time": "2022-11-08T14:15:26.826Z"
   },
   {
    "duration": 26,
    "start_time": "2022-11-08T14:15:26.840Z"
   },
   {
    "duration": 53,
    "start_time": "2022-11-08T14:15:26.867Z"
   },
   {
    "duration": 4,
    "start_time": "2022-11-08T14:15:26.921Z"
   },
   {
    "duration": 14,
    "start_time": "2022-11-08T14:15:26.927Z"
   },
   {
    "duration": 6,
    "start_time": "2022-11-08T14:15:26.942Z"
   },
   {
    "duration": 8,
    "start_time": "2022-11-08T14:15:26.950Z"
   },
   {
    "duration": 16,
    "start_time": "2022-11-08T14:15:26.960Z"
   },
   {
    "duration": 4,
    "start_time": "2022-11-08T14:15:26.977Z"
   },
   {
    "duration": 30,
    "start_time": "2022-11-08T14:15:26.983Z"
   },
   {
    "duration": 13,
    "start_time": "2022-11-08T14:15:27.015Z"
   },
   {
    "duration": 13,
    "start_time": "2022-11-08T14:15:27.029Z"
   },
   {
    "duration": 14,
    "start_time": "2022-11-08T14:15:27.044Z"
   },
   {
    "duration": 15,
    "start_time": "2022-11-08T14:15:27.059Z"
   },
   {
    "duration": 15,
    "start_time": "2022-11-08T14:15:27.113Z"
   },
   {
    "duration": 1145,
    "start_time": "2022-11-08T14:15:27.130Z"
   },
   {
    "duration": 0,
    "start_time": "2022-11-08T14:15:28.278Z"
   },
   {
    "duration": 1117,
    "start_time": "2022-11-08T14:18:04.143Z"
   },
   {
    "duration": 1147,
    "start_time": "2022-11-08T14:18:45.211Z"
   },
   {
    "duration": 70,
    "start_time": "2022-11-08T14:19:02.208Z"
   },
   {
    "duration": 16,
    "start_time": "2022-11-08T14:19:02.279Z"
   },
   {
    "duration": 28,
    "start_time": "2022-11-08T14:19:02.297Z"
   },
   {
    "duration": 11,
    "start_time": "2022-11-08T14:19:02.327Z"
   },
   {
    "duration": 39,
    "start_time": "2022-11-08T14:19:02.339Z"
   },
   {
    "duration": 3,
    "start_time": "2022-11-08T14:19:02.380Z"
   },
   {
    "duration": 34,
    "start_time": "2022-11-08T14:19:02.385Z"
   },
   {
    "duration": 5,
    "start_time": "2022-11-08T14:19:02.432Z"
   },
   {
    "duration": 7,
    "start_time": "2022-11-08T14:19:02.439Z"
   },
   {
    "duration": 6,
    "start_time": "2022-11-08T14:19:02.449Z"
   },
   {
    "duration": 56,
    "start_time": "2022-11-08T14:19:02.457Z"
   },
   {
    "duration": 11,
    "start_time": "2022-11-08T14:19:02.515Z"
   },
   {
    "duration": 5,
    "start_time": "2022-11-08T14:19:02.527Z"
   },
   {
    "duration": 12,
    "start_time": "2022-11-08T14:19:02.534Z"
   },
   {
    "duration": 20,
    "start_time": "2022-11-08T14:19:02.548Z"
   },
   {
    "duration": 52,
    "start_time": "2022-11-08T14:19:02.569Z"
   },
   {
    "duration": 3,
    "start_time": "2022-11-08T14:19:02.623Z"
   },
   {
    "duration": 14,
    "start_time": "2022-11-08T14:19:02.628Z"
   },
   {
    "duration": 6,
    "start_time": "2022-11-08T14:19:02.644Z"
   },
   {
    "duration": 8,
    "start_time": "2022-11-08T14:19:02.651Z"
   },
   {
    "duration": 15,
    "start_time": "2022-11-08T14:19:02.661Z"
   },
   {
    "duration": 7,
    "start_time": "2022-11-08T14:19:02.678Z"
   },
   {
    "duration": 29,
    "start_time": "2022-11-08T14:19:02.687Z"
   },
   {
    "duration": 31,
    "start_time": "2022-11-08T14:19:02.719Z"
   },
   {
    "duration": 18,
    "start_time": "2022-11-08T14:19:02.752Z"
   },
   {
    "duration": 20,
    "start_time": "2022-11-08T14:19:02.773Z"
   },
   {
    "duration": 20,
    "start_time": "2022-11-08T14:19:06.261Z"
   },
   {
    "duration": 20,
    "start_time": "2022-11-08T14:19:30.962Z"
   },
   {
    "duration": 65,
    "start_time": "2022-11-08T14:25:12.031Z"
   },
   {
    "duration": 30,
    "start_time": "2022-11-08T14:25:12.098Z"
   },
   {
    "duration": 24,
    "start_time": "2022-11-08T14:25:12.130Z"
   },
   {
    "duration": 11,
    "start_time": "2022-11-08T14:25:12.156Z"
   },
   {
    "duration": 57,
    "start_time": "2022-11-08T14:25:12.168Z"
   },
   {
    "duration": 4,
    "start_time": "2022-11-08T14:25:12.227Z"
   },
   {
    "duration": 21,
    "start_time": "2022-11-08T14:25:12.233Z"
   },
   {
    "duration": 7,
    "start_time": "2022-11-08T14:25:12.256Z"
   },
   {
    "duration": 11,
    "start_time": "2022-11-08T14:25:12.265Z"
   },
   {
    "duration": 7,
    "start_time": "2022-11-08T14:25:12.279Z"
   },
   {
    "duration": 70,
    "start_time": "2022-11-08T14:25:12.288Z"
   },
   {
    "duration": 14,
    "start_time": "2022-11-08T14:25:12.363Z"
   },
   {
    "duration": 5,
    "start_time": "2022-11-08T14:25:12.379Z"
   },
   {
    "duration": 42,
    "start_time": "2022-11-08T14:25:12.385Z"
   },
   {
    "duration": 45,
    "start_time": "2022-11-08T14:25:12.432Z"
   },
   {
    "duration": 21,
    "start_time": "2022-11-08T14:25:12.480Z"
   },
   {
    "duration": 4,
    "start_time": "2022-11-08T14:25:12.503Z"
   },
   {
    "duration": 18,
    "start_time": "2022-11-08T14:25:12.509Z"
   },
   {
    "duration": 13,
    "start_time": "2022-11-08T14:25:12.529Z"
   },
   {
    "duration": 6,
    "start_time": "2022-11-08T14:25:12.544Z"
   },
   {
    "duration": 19,
    "start_time": "2022-11-08T14:25:12.552Z"
   },
   {
    "duration": 5,
    "start_time": "2022-11-08T14:25:12.573Z"
   },
   {
    "duration": 36,
    "start_time": "2022-11-08T14:25:12.580Z"
   },
   {
    "duration": 16,
    "start_time": "2022-11-08T14:25:12.618Z"
   },
   {
    "duration": 19,
    "start_time": "2022-11-08T14:25:12.636Z"
   },
   {
    "duration": 15,
    "start_time": "2022-11-08T14:25:12.657Z"
   },
   {
    "duration": 49,
    "start_time": "2022-11-08T14:25:12.674Z"
   },
   {
    "duration": 28,
    "start_time": "2022-11-08T14:25:12.727Z"
   },
   {
    "duration": 73,
    "start_time": "2022-11-08T14:28:40.407Z"
   },
   {
    "duration": 16,
    "start_time": "2022-11-08T14:28:40.482Z"
   },
   {
    "duration": 27,
    "start_time": "2022-11-08T14:28:40.499Z"
   },
   {
    "duration": 11,
    "start_time": "2022-11-08T14:28:40.528Z"
   },
   {
    "duration": 37,
    "start_time": "2022-11-08T14:28:40.541Z"
   },
   {
    "duration": 3,
    "start_time": "2022-11-08T14:28:40.580Z"
   },
   {
    "duration": 34,
    "start_time": "2022-11-08T14:28:40.585Z"
   },
   {
    "duration": 5,
    "start_time": "2022-11-08T14:28:40.620Z"
   },
   {
    "duration": 8,
    "start_time": "2022-11-08T14:28:40.626Z"
   },
   {
    "duration": 6,
    "start_time": "2022-11-08T14:28:40.638Z"
   },
   {
    "duration": 85,
    "start_time": "2022-11-08T14:28:40.646Z"
   },
   {
    "duration": 12,
    "start_time": "2022-11-08T14:28:40.734Z"
   },
   {
    "duration": 4,
    "start_time": "2022-11-08T14:28:40.748Z"
   },
   {
    "duration": 12,
    "start_time": "2022-11-08T14:28:40.754Z"
   },
   {
    "duration": 46,
    "start_time": "2022-11-08T14:28:40.768Z"
   },
   {
    "duration": 20,
    "start_time": "2022-11-08T14:28:40.816Z"
   },
   {
    "duration": 4,
    "start_time": "2022-11-08T14:28:40.838Z"
   },
   {
    "duration": 17,
    "start_time": "2022-11-08T14:28:40.844Z"
   },
   {
    "duration": 12,
    "start_time": "2022-11-08T14:28:40.863Z"
   },
   {
    "duration": 7,
    "start_time": "2022-11-08T14:28:40.876Z"
   },
   {
    "duration": 33,
    "start_time": "2022-11-08T14:28:40.884Z"
   },
   {
    "duration": 13,
    "start_time": "2022-11-08T14:28:40.921Z"
   },
   {
    "duration": 19,
    "start_time": "2022-11-08T14:28:40.936Z"
   },
   {
    "duration": 11,
    "start_time": "2022-11-08T14:28:40.957Z"
   },
   {
    "duration": 12,
    "start_time": "2022-11-08T14:28:40.970Z"
   },
   {
    "duration": 42,
    "start_time": "2022-11-08T14:28:40.984Z"
   },
   {
    "duration": 17,
    "start_time": "2022-11-08T14:28:41.028Z"
   },
   {
    "duration": 20,
    "start_time": "2022-11-08T14:28:41.048Z"
   },
   {
    "duration": 14,
    "start_time": "2022-11-08T14:28:41.069Z"
   },
   {
    "duration": 68,
    "start_time": "2022-11-08T14:29:29.177Z"
   },
   {
    "duration": 16,
    "start_time": "2022-11-08T14:29:29.246Z"
   },
   {
    "duration": 16,
    "start_time": "2022-11-08T14:29:29.264Z"
   },
   {
    "duration": 36,
    "start_time": "2022-11-08T14:29:29.282Z"
   },
   {
    "duration": 41,
    "start_time": "2022-11-08T14:29:29.320Z"
   },
   {
    "duration": 3,
    "start_time": "2022-11-08T14:29:29.363Z"
   },
   {
    "duration": 11,
    "start_time": "2022-11-08T14:29:29.368Z"
   },
   {
    "duration": 5,
    "start_time": "2022-11-08T14:29:29.380Z"
   },
   {
    "duration": 28,
    "start_time": "2022-11-08T14:29:29.386Z"
   },
   {
    "duration": 10,
    "start_time": "2022-11-08T14:29:29.417Z"
   },
   {
    "duration": 44,
    "start_time": "2022-11-08T14:29:29.428Z"
   },
   {
    "duration": 12,
    "start_time": "2022-11-08T14:29:29.475Z"
   },
   {
    "duration": 5,
    "start_time": "2022-11-08T14:29:29.488Z"
   },
   {
    "duration": 31,
    "start_time": "2022-11-08T14:29:29.495Z"
   },
   {
    "duration": 22,
    "start_time": "2022-11-08T14:29:29.527Z"
   },
   {
    "duration": 20,
    "start_time": "2022-11-08T14:29:29.550Z"
   },
   {
    "duration": 3,
    "start_time": "2022-11-08T14:29:29.572Z"
   },
   {
    "duration": 16,
    "start_time": "2022-11-08T14:29:29.577Z"
   },
   {
    "duration": 7,
    "start_time": "2022-11-08T14:29:29.613Z"
   },
   {
    "duration": 17,
    "start_time": "2022-11-08T14:29:29.622Z"
   },
   {
    "duration": 15,
    "start_time": "2022-11-08T14:29:29.640Z"
   },
   {
    "duration": 6,
    "start_time": "2022-11-08T14:29:29.657Z"
   },
   {
    "duration": 15,
    "start_time": "2022-11-08T14:29:29.665Z"
   },
   {
    "duration": 12,
    "start_time": "2022-11-08T14:29:29.682Z"
   },
   {
    "duration": 28,
    "start_time": "2022-11-08T14:29:29.696Z"
   },
   {
    "duration": 14,
    "start_time": "2022-11-08T14:29:29.726Z"
   },
   {
    "duration": 15,
    "start_time": "2022-11-08T14:29:29.742Z"
   },
   {
    "duration": 56,
    "start_time": "2022-11-08T14:29:29.761Z"
   },
   {
    "duration": 14,
    "start_time": "2022-11-08T14:29:29.819Z"
   },
   {
    "duration": 69,
    "start_time": "2022-11-08T14:29:36.375Z"
   },
   {
    "duration": 16,
    "start_time": "2022-11-08T14:29:36.446Z"
   },
   {
    "duration": 17,
    "start_time": "2022-11-08T14:29:36.465Z"
   },
   {
    "duration": 37,
    "start_time": "2022-11-08T14:29:36.484Z"
   },
   {
    "duration": 39,
    "start_time": "2022-11-08T14:29:36.522Z"
   },
   {
    "duration": 4,
    "start_time": "2022-11-08T14:29:36.563Z"
   },
   {
    "duration": 10,
    "start_time": "2022-11-08T14:29:36.569Z"
   },
   {
    "duration": 34,
    "start_time": "2022-11-08T14:29:36.581Z"
   },
   {
    "duration": 7,
    "start_time": "2022-11-08T14:29:36.617Z"
   },
   {
    "duration": 5,
    "start_time": "2022-11-08T14:29:36.627Z"
   },
   {
    "duration": 39,
    "start_time": "2022-11-08T14:29:36.634Z"
   },
   {
    "duration": 10,
    "start_time": "2022-11-08T14:29:36.675Z"
   },
   {
    "duration": 4,
    "start_time": "2022-11-08T14:29:36.713Z"
   },
   {
    "duration": 14,
    "start_time": "2022-11-08T14:29:36.718Z"
   },
   {
    "duration": 23,
    "start_time": "2022-11-08T14:29:36.733Z"
   },
   {
    "duration": 22,
    "start_time": "2022-11-08T14:29:36.757Z"
   },
   {
    "duration": 4,
    "start_time": "2022-11-08T14:29:36.781Z"
   },
   {
    "duration": 12,
    "start_time": "2022-11-08T14:29:36.813Z"
   },
   {
    "duration": 10,
    "start_time": "2022-11-08T14:29:36.827Z"
   },
   {
    "duration": 3,
    "start_time": "2022-11-08T14:29:36.839Z"
   },
   {
    "duration": 14,
    "start_time": "2022-11-08T14:29:36.844Z"
   },
   {
    "duration": 6,
    "start_time": "2022-11-08T14:29:36.860Z"
   },
   {
    "duration": 10,
    "start_time": "2022-11-08T14:29:36.867Z"
   },
   {
    "duration": 40,
    "start_time": "2022-11-08T14:29:36.878Z"
   },
   {
    "duration": 13,
    "start_time": "2022-11-08T14:29:36.920Z"
   },
   {
    "duration": 16,
    "start_time": "2022-11-08T14:29:36.935Z"
   },
   {
    "duration": 14,
    "start_time": "2022-11-08T14:29:36.952Z"
   },
   {
    "duration": 60,
    "start_time": "2022-11-08T14:29:36.969Z"
   },
   {
    "duration": 16,
    "start_time": "2022-11-08T14:29:37.031Z"
   },
   {
    "duration": 10,
    "start_time": "2022-11-08T14:29:37.049Z"
   },
   {
    "duration": 71,
    "start_time": "2022-11-08T14:34:29.294Z"
   },
   {
    "duration": 16,
    "start_time": "2022-11-08T14:34:29.367Z"
   },
   {
    "duration": 35,
    "start_time": "2022-11-08T14:34:29.385Z"
   },
   {
    "duration": 15,
    "start_time": "2022-11-08T14:34:29.422Z"
   },
   {
    "duration": 38,
    "start_time": "2022-11-08T14:34:29.438Z"
   },
   {
    "duration": 3,
    "start_time": "2022-11-08T14:34:29.478Z"
   },
   {
    "duration": 31,
    "start_time": "2022-11-08T14:34:29.483Z"
   },
   {
    "duration": 5,
    "start_time": "2022-11-08T14:34:29.516Z"
   },
   {
    "duration": 11,
    "start_time": "2022-11-08T14:34:29.523Z"
   },
   {
    "duration": 6,
    "start_time": "2022-11-08T14:34:29.538Z"
   },
   {
    "duration": 103,
    "start_time": "2022-11-08T14:34:29.546Z"
   },
   {
    "duration": 11,
    "start_time": "2022-11-08T14:34:29.651Z"
   },
   {
    "duration": 4,
    "start_time": "2022-11-08T14:34:29.665Z"
   },
   {
    "duration": 16,
    "start_time": "2022-11-08T14:34:29.671Z"
   },
   {
    "duration": 38,
    "start_time": "2022-11-08T14:34:29.689Z"
   },
   {
    "duration": 21,
    "start_time": "2022-11-08T14:34:29.730Z"
   },
   {
    "duration": 5,
    "start_time": "2022-11-08T14:34:29.753Z"
   },
   {
    "duration": 14,
    "start_time": "2022-11-08T14:34:29.760Z"
   },
   {
    "duration": 37,
    "start_time": "2022-11-08T14:34:29.777Z"
   },
   {
    "duration": 4,
    "start_time": "2022-11-08T14:34:29.816Z"
   },
   {
    "duration": 17,
    "start_time": "2022-11-08T14:34:29.822Z"
   },
   {
    "duration": 10,
    "start_time": "2022-11-08T14:34:29.841Z"
   },
   {
    "duration": 11,
    "start_time": "2022-11-08T14:34:29.853Z"
   },
   {
    "duration": 11,
    "start_time": "2022-11-08T14:34:29.866Z"
   },
   {
    "duration": 38,
    "start_time": "2022-11-08T14:34:29.878Z"
   },
   {
    "duration": 14,
    "start_time": "2022-11-08T14:34:29.918Z"
   },
   {
    "duration": 14,
    "start_time": "2022-11-08T14:34:29.934Z"
   },
   {
    "duration": 19,
    "start_time": "2022-11-08T14:34:29.951Z"
   },
   {
    "duration": 50,
    "start_time": "2022-11-08T14:34:29.972Z"
   },
   {
    "duration": 15,
    "start_time": "2022-11-08T14:34:30.024Z"
   },
   {
    "duration": 680,
    "start_time": "2022-11-09T05:45:50.586Z"
   },
   {
    "duration": 37,
    "start_time": "2022-11-09T05:45:51.268Z"
   },
   {
    "duration": 17,
    "start_time": "2022-11-09T05:45:51.309Z"
   },
   {
    "duration": 16,
    "start_time": "2022-11-09T05:45:51.327Z"
   },
   {
    "duration": 36,
    "start_time": "2022-11-09T05:45:51.346Z"
   },
   {
    "duration": 3,
    "start_time": "2022-11-09T05:45:51.384Z"
   },
   {
    "duration": 12,
    "start_time": "2022-11-09T05:45:51.389Z"
   },
   {
    "duration": 5,
    "start_time": "2022-11-09T05:45:51.403Z"
   },
   {
    "duration": 15,
    "start_time": "2022-11-09T05:45:51.410Z"
   },
   {
    "duration": 25,
    "start_time": "2022-11-09T05:45:51.427Z"
   },
   {
    "duration": 42,
    "start_time": "2022-11-09T05:45:51.454Z"
   },
   {
    "duration": 13,
    "start_time": "2022-11-09T05:45:51.497Z"
   },
   {
    "duration": 9,
    "start_time": "2022-11-09T05:45:51.512Z"
   },
   {
    "duration": 33,
    "start_time": "2022-11-09T05:45:51.524Z"
   },
   {
    "duration": 41,
    "start_time": "2022-11-09T05:45:51.559Z"
   },
   {
    "duration": 20,
    "start_time": "2022-11-09T05:45:51.601Z"
   },
   {
    "duration": 4,
    "start_time": "2022-11-09T05:45:51.623Z"
   },
   {
    "duration": 17,
    "start_time": "2022-11-09T05:45:51.629Z"
   },
   {
    "duration": 11,
    "start_time": "2022-11-09T05:45:51.647Z"
   },
   {
    "duration": 5,
    "start_time": "2022-11-09T05:45:51.660Z"
   },
   {
    "duration": 13,
    "start_time": "2022-11-09T05:45:51.667Z"
   },
   {
    "duration": 5,
    "start_time": "2022-11-09T05:45:51.682Z"
   },
   {
    "duration": 17,
    "start_time": "2022-11-09T05:45:51.688Z"
   },
   {
    "duration": 17,
    "start_time": "2022-11-09T05:45:51.707Z"
   }
  ],
  "colab": {
   "name": "dpp_template_part2.ipynb",
   "provenance": []
  },
  "kernelspec": {
   "display_name": "Python 3 (ipykernel)",
   "language": "python",
   "name": "python3"
  },
  "language_info": {
   "codemirror_mode": {
    "name": "ipython",
    "version": 3
   },
   "file_extension": ".py",
   "mimetype": "text/x-python",
   "name": "python",
   "nbconvert_exporter": "python",
   "pygments_lexer": "ipython3",
   "version": "3.9.5"
  },
  "toc": {
   "base_numbering": 1,
   "nav_menu": {},
   "number_sections": true,
   "sideBar": true,
   "skip_h1_title": true,
   "title_cell": "Table of Contents",
   "title_sidebar": "Contents",
   "toc_cell": false,
   "toc_position": {},
   "toc_section_display": true,
   "toc_window_display": false
  }
 },
 "nbformat": 4,
 "nbformat_minor": 5
}
