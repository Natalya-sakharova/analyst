{
 "cells": [
  {
   "cell_type": "markdown",
   "metadata": {},
   "source": [
    "# Исследование объявлений о продаже квартир\n",
    "\n",
    "В вашем распоряжении данные сервиса Яндекс.Недвижимость — архив объявлений о продаже квартир в Санкт-Петербурге и соседних населённых пунктов за несколько лет. Нужно научиться определять рыночную стоимость объектов недвижимости. Ваша задача — установить параметры. Это позволит построить автоматизированную систему: она отследит аномалии и мошенническую деятельность. \n",
    "\n",
    "По каждой квартире на продажу доступны два вида данных. Первые вписаны пользователем, вторые — получены автоматически на основе картографических данных. Например, расстояние до центра, аэропорта, ближайшего парка и водоёма. "
   ]
  },
  {
   "cell_type": "markdown",
   "metadata": {},
   "source": [
    "### Откройте файл с данными и изучите общую информацию. "
   ]
  },
  {
   "cell_type": "code",
   "execution_count": 2,
   "metadata": {},
   "outputs": [],
   "source": [
    "import pandas as pd\n",
    "import matplotlib.pyplot as plt\n",
    "data = pd.read_csv('/datasets/real_estate_data.csv',sep='\\t')"
   ]
  },
  {
   "cell_type": "code",
   "execution_count": 4,
   "metadata": {},
   "outputs": [
    {
     "name": "stdout",
     "output_type": "stream",
     "text": [
      "<class 'pandas.core.frame.DataFrame'>\n",
      "RangeIndex: 23699 entries, 0 to 23698\n",
      "Data columns (total 22 columns):\n",
      " #   Column                Non-Null Count  Dtype  \n",
      "---  ------                --------------  -----  \n",
      " 0   total_images          23699 non-null  int64  \n",
      " 1   last_price            23699 non-null  float64\n",
      " 2   total_area            23699 non-null  float64\n",
      " 3   first_day_exposition  23699 non-null  object \n",
      " 4   rooms                 23699 non-null  int64  \n",
      " 5   ceiling_height        14504 non-null  float64\n",
      " 6   floors_total          23613 non-null  float64\n",
      " 7   living_area           21796 non-null  float64\n",
      " 8   floor                 23699 non-null  int64  \n",
      " 9   is_apartment          2775 non-null   object \n",
      " 10  studio                23699 non-null  bool   \n",
      " 11  open_plan             23699 non-null  bool   \n",
      " 12  kitchen_area          21421 non-null  float64\n",
      " 13  balcony               12180 non-null  float64\n",
      " 14  locality_name         23650 non-null  object \n",
      " 15  airports_nearest      18157 non-null  float64\n",
      " 16  cityCenters_nearest   18180 non-null  float64\n",
      " 17  parks_around3000      18181 non-null  float64\n",
      " 18  parks_nearest         8079 non-null   float64\n",
      " 19  ponds_around3000      18181 non-null  float64\n",
      " 20  ponds_nearest         9110 non-null   float64\n",
      " 21  days_exposition       20518 non-null  float64\n",
      "dtypes: bool(2), float64(14), int64(3), object(3)\n",
      "memory usage: 3.7+ MB\n"
     ]
    },
    {
     "data": {
      "text/html": [
       "<div>\n",
       "<style scoped>\n",
       "    .dataframe tbody tr th:only-of-type {\n",
       "        vertical-align: middle;\n",
       "    }\n",
       "\n",
       "    .dataframe tbody tr th {\n",
       "        vertical-align: top;\n",
       "    }\n",
       "\n",
       "    .dataframe thead th {\n",
       "        text-align: right;\n",
       "    }\n",
       "</style>\n",
       "<table border=\"1\" class=\"dataframe\">\n",
       "  <thead>\n",
       "    <tr style=\"text-align: right;\">\n",
       "      <th></th>\n",
       "      <th>total_images</th>\n",
       "      <th>last_price</th>\n",
       "      <th>total_area</th>\n",
       "      <th>first_day_exposition</th>\n",
       "      <th>rooms</th>\n",
       "      <th>ceiling_height</th>\n",
       "      <th>floors_total</th>\n",
       "      <th>living_area</th>\n",
       "      <th>floor</th>\n",
       "      <th>is_apartment</th>\n",
       "      <th>...</th>\n",
       "      <th>kitchen_area</th>\n",
       "      <th>balcony</th>\n",
       "      <th>locality_name</th>\n",
       "      <th>airports_nearest</th>\n",
       "      <th>cityCenters_nearest</th>\n",
       "      <th>parks_around3000</th>\n",
       "      <th>parks_nearest</th>\n",
       "      <th>ponds_around3000</th>\n",
       "      <th>ponds_nearest</th>\n",
       "      <th>days_exposition</th>\n",
       "    </tr>\n",
       "  </thead>\n",
       "  <tbody>\n",
       "    <tr>\n",
       "      <th>0</th>\n",
       "      <td>20</td>\n",
       "      <td>13000000.0</td>\n",
       "      <td>108.0</td>\n",
       "      <td>2019-03-07T00:00:00</td>\n",
       "      <td>3</td>\n",
       "      <td>2.70</td>\n",
       "      <td>16.0</td>\n",
       "      <td>51.0</td>\n",
       "      <td>8</td>\n",
       "      <td>NaN</td>\n",
       "      <td>...</td>\n",
       "      <td>25.0</td>\n",
       "      <td>NaN</td>\n",
       "      <td>Санкт-Петербург</td>\n",
       "      <td>18863.0</td>\n",
       "      <td>16028.0</td>\n",
       "      <td>1.0</td>\n",
       "      <td>482.0</td>\n",
       "      <td>2.0</td>\n",
       "      <td>755.0</td>\n",
       "      <td>NaN</td>\n",
       "    </tr>\n",
       "    <tr>\n",
       "      <th>1</th>\n",
       "      <td>7</td>\n",
       "      <td>3350000.0</td>\n",
       "      <td>40.4</td>\n",
       "      <td>2018-12-04T00:00:00</td>\n",
       "      <td>1</td>\n",
       "      <td>NaN</td>\n",
       "      <td>11.0</td>\n",
       "      <td>18.6</td>\n",
       "      <td>1</td>\n",
       "      <td>NaN</td>\n",
       "      <td>...</td>\n",
       "      <td>11.0</td>\n",
       "      <td>2.0</td>\n",
       "      <td>посёлок Шушары</td>\n",
       "      <td>12817.0</td>\n",
       "      <td>18603.0</td>\n",
       "      <td>0.0</td>\n",
       "      <td>NaN</td>\n",
       "      <td>0.0</td>\n",
       "      <td>NaN</td>\n",
       "      <td>81.0</td>\n",
       "    </tr>\n",
       "    <tr>\n",
       "      <th>2</th>\n",
       "      <td>10</td>\n",
       "      <td>5196000.0</td>\n",
       "      <td>56.0</td>\n",
       "      <td>2015-08-20T00:00:00</td>\n",
       "      <td>2</td>\n",
       "      <td>NaN</td>\n",
       "      <td>5.0</td>\n",
       "      <td>34.3</td>\n",
       "      <td>4</td>\n",
       "      <td>NaN</td>\n",
       "      <td>...</td>\n",
       "      <td>8.3</td>\n",
       "      <td>0.0</td>\n",
       "      <td>Санкт-Петербург</td>\n",
       "      <td>21741.0</td>\n",
       "      <td>13933.0</td>\n",
       "      <td>1.0</td>\n",
       "      <td>90.0</td>\n",
       "      <td>2.0</td>\n",
       "      <td>574.0</td>\n",
       "      <td>558.0</td>\n",
       "    </tr>\n",
       "    <tr>\n",
       "      <th>3</th>\n",
       "      <td>0</td>\n",
       "      <td>64900000.0</td>\n",
       "      <td>159.0</td>\n",
       "      <td>2015-07-24T00:00:00</td>\n",
       "      <td>3</td>\n",
       "      <td>NaN</td>\n",
       "      <td>14.0</td>\n",
       "      <td>NaN</td>\n",
       "      <td>9</td>\n",
       "      <td>NaN</td>\n",
       "      <td>...</td>\n",
       "      <td>NaN</td>\n",
       "      <td>0.0</td>\n",
       "      <td>Санкт-Петербург</td>\n",
       "      <td>28098.0</td>\n",
       "      <td>6800.0</td>\n",
       "      <td>2.0</td>\n",
       "      <td>84.0</td>\n",
       "      <td>3.0</td>\n",
       "      <td>234.0</td>\n",
       "      <td>424.0</td>\n",
       "    </tr>\n",
       "    <tr>\n",
       "      <th>4</th>\n",
       "      <td>2</td>\n",
       "      <td>10000000.0</td>\n",
       "      <td>100.0</td>\n",
       "      <td>2018-06-19T00:00:00</td>\n",
       "      <td>2</td>\n",
       "      <td>3.03</td>\n",
       "      <td>14.0</td>\n",
       "      <td>32.0</td>\n",
       "      <td>13</td>\n",
       "      <td>NaN</td>\n",
       "      <td>...</td>\n",
       "      <td>41.0</td>\n",
       "      <td>NaN</td>\n",
       "      <td>Санкт-Петербург</td>\n",
       "      <td>31856.0</td>\n",
       "      <td>8098.0</td>\n",
       "      <td>2.0</td>\n",
       "      <td>112.0</td>\n",
       "      <td>1.0</td>\n",
       "      <td>48.0</td>\n",
       "      <td>121.0</td>\n",
       "    </tr>\n",
       "  </tbody>\n",
       "</table>\n",
       "<p>5 rows × 22 columns</p>\n",
       "</div>"
      ],
      "text/plain": [
       "   total_images  last_price  total_area first_day_exposition  rooms  \\\n",
       "0            20  13000000.0       108.0  2019-03-07T00:00:00      3   \n",
       "1             7   3350000.0        40.4  2018-12-04T00:00:00      1   \n",
       "2            10   5196000.0        56.0  2015-08-20T00:00:00      2   \n",
       "3             0  64900000.0       159.0  2015-07-24T00:00:00      3   \n",
       "4             2  10000000.0       100.0  2018-06-19T00:00:00      2   \n",
       "\n",
       "   ceiling_height  floors_total  living_area  floor is_apartment  ...  \\\n",
       "0            2.70          16.0         51.0      8          NaN  ...   \n",
       "1             NaN          11.0         18.6      1          NaN  ...   \n",
       "2             NaN           5.0         34.3      4          NaN  ...   \n",
       "3             NaN          14.0          NaN      9          NaN  ...   \n",
       "4            3.03          14.0         32.0     13          NaN  ...   \n",
       "\n",
       "   kitchen_area  balcony    locality_name  airports_nearest  \\\n",
       "0          25.0      NaN  Санкт-Петербург           18863.0   \n",
       "1          11.0      2.0   посёлок Шушары           12817.0   \n",
       "2           8.3      0.0  Санкт-Петербург           21741.0   \n",
       "3           NaN      0.0  Санкт-Петербург           28098.0   \n",
       "4          41.0      NaN  Санкт-Петербург           31856.0   \n",
       "\n",
       "  cityCenters_nearest  parks_around3000  parks_nearest  ponds_around3000  \\\n",
       "0             16028.0               1.0          482.0               2.0   \n",
       "1             18603.0               0.0            NaN               0.0   \n",
       "2             13933.0               1.0           90.0               2.0   \n",
       "3              6800.0               2.0           84.0               3.0   \n",
       "4              8098.0               2.0          112.0               1.0   \n",
       "\n",
       "   ponds_nearest  days_exposition  \n",
       "0          755.0              NaN  \n",
       "1            NaN             81.0  \n",
       "2          574.0            558.0  \n",
       "3          234.0            424.0  \n",
       "4           48.0            121.0  \n",
       "\n",
       "[5 rows x 22 columns]"
      ]
     },
     "metadata": {},
     "output_type": "display_data"
    }
   ],
   "source": [
    "data.info()\n",
    "display(data.head())"
   ]
  },
  {
   "cell_type": "code",
   "execution_count": 3,
   "metadata": {},
   "outputs": [
    {
     "data": {
      "image/png": "[encoded data removed]",
      "text/plain": [
       "<Figure size 2160x2160 with 20 Axes>"
      ]
     },
     "metadata": {
      "needs_background": "light"
     },
     "output_type": "display_data"
    }
   ],
   "source": [
    "data.hist(figsize=(30, 30))\n",
    "plt.show()"
   ]
  },
  {
   "cell_type": "markdown",
   "metadata": {},
   "source": [
    "Здравствуйте, что-то я совсем запуталась... Дайте мне пожалуйста развернутые комментарии к тому, что я неправильно сделала или не сделала. Меня парень бросил и на каждом затыке в задании, я очень расстраиваюсь. Я бы очень хотела доделать проект вовремя и усвоить все знания. Просто если сейчас будет затык, то далее уже проблемно будет продолжать. Все выводы я сделаю, когда доделаю полностью работу. Спасибо!"
   ]
  },
  {
   "cell_type": "markdown",
   "metadata": {},
   "source": [
    "### Предобработка данных"
   ]
  },
  {
   "cell_type": "markdown",
   "metadata": {},
   "source": [
    "#### Работа с пропусками в данных"
   ]
  },
  {
   "cell_type": "code",
   "execution_count": 4,
   "metadata": {},
   "outputs": [
    {
     "data": {
      "text/plain": [
       "total_images                0\n",
       "last_price                  0\n",
       "total_area                  0\n",
       "first_day_exposition        0\n",
       "rooms                       0\n",
       "ceiling_height           9195\n",
       "floors_total               86\n",
       "living_area              1903\n",
       "floor                       0\n",
       "is_apartment            20924\n",
       "studio                      0\n",
       "open_plan                   0\n",
       "kitchen_area             2278\n",
       "balcony                 11519\n",
       "locality_name              49\n",
       "airports_nearest         5542\n",
       "cityCenters_nearest      5519\n",
       "parks_around3000         5518\n",
       "parks_nearest           15620\n",
       "ponds_around3000         5518\n",
       "ponds_nearest           14589\n",
       "days_exposition          3181\n",
       "dtype: int64"
      ]
     },
     "execution_count": 4,
     "metadata": {},
     "output_type": "execute_result"
    }
   ],
   "source": [
    "data.isna().sum()"
   ]
  },
  {
   "cell_type": "code",
   "execution_count": 5,
   "metadata": {
    "scrolled": true
   },
   "outputs": [
    {
     "data": {
      "text/html": [
       "<style  type=\"text/css\" >\n",
       "#T_7d911_row0_col0,#T_7d911_row1_col0,#T_7d911_row2_col0,#T_7d911_row3_col0,#T_7d911_row4_col0,#T_7d911_row6_col0,#T_7d911_row8_col0,#T_7d911_row10_col0,#T_7d911_row11_col0,#T_7d911_row14_col0{\n",
       "            background-color:  #3b4cc0;\n",
       "            color:  #f1f1f1;\n",
       "        }#T_7d911_row5_col0{\n",
       "            background-color:  #cdd9ec;\n",
       "            color:  #000000;\n",
       "        }#T_7d911_row7_col0{\n",
       "            background-color:  #5673e0;\n",
       "            color:  #000000;\n",
       "        }#T_7d911_row9_col0{\n",
       "            background-color:  #b40426;\n",
       "            color:  #f1f1f1;\n",
       "        }#T_7d911_row12_col0{\n",
       "            background-color:  #5e7de7;\n",
       "            color:  #000000;\n",
       "        }#T_7d911_row13_col0{\n",
       "            background-color:  #ead4c8;\n",
       "            color:  #000000;\n",
       "        }#T_7d911_row15_col0,#T_7d911_row16_col0,#T_7d911_row17_col0,#T_7d911_row19_col0{\n",
       "            background-color:  #90b2fe;\n",
       "            color:  #000000;\n",
       "        }#T_7d911_row18_col0{\n",
       "            background-color:  #f4987a;\n",
       "            color:  #000000;\n",
       "        }#T_7d911_row20_col0{\n",
       "            background-color:  #f7aa8c;\n",
       "            color:  #000000;\n",
       "        }#T_7d911_row21_col0{\n",
       "            background-color:  #688aef;\n",
       "            color:  #000000;\n",
       "        }</style><table id=\"T_7d911_\" ><thead>    <tr>        <th class=\"blank level0\" ></th>        <th class=\"col_heading level0 col0\" >0</th>    </tr></thead><tbody>\n",
       "                <tr>\n",
       "                        <th id=\"T_7d911_level0_row0\" class=\"row_heading level0 row0\" >total_images</th>\n",
       "                        <td id=\"T_7d911_row0_col0\" class=\"data row0 col0\" >0.000000</td>\n",
       "            </tr>\n",
       "            <tr>\n",
       "                        <th id=\"T_7d911_level0_row1\" class=\"row_heading level0 row1\" >last_price</th>\n",
       "                        <td id=\"T_7d911_row1_col0\" class=\"data row1 col0\" >0.000000</td>\n",
       "            </tr>\n",
       "            <tr>\n",
       "                        <th id=\"T_7d911_level0_row2\" class=\"row_heading level0 row2\" >total_area</th>\n",
       "                        <td id=\"T_7d911_row2_col0\" class=\"data row2 col0\" >0.000000</td>\n",
       "            </tr>\n",
       "            <tr>\n",
       "                        <th id=\"T_7d911_level0_row3\" class=\"row_heading level0 row3\" >first_day_exposition</th>\n",
       "                        <td id=\"T_7d911_row3_col0\" class=\"data row3 col0\" >0.000000</td>\n",
       "            </tr>\n",
       "            <tr>\n",
       "                        <th id=\"T_7d911_level0_row4\" class=\"row_heading level0 row4\" >rooms</th>\n",
       "                        <td id=\"T_7d911_row4_col0\" class=\"data row4 col0\" >0.000000</td>\n",
       "            </tr>\n",
       "            <tr>\n",
       "                        <th id=\"T_7d911_level0_row5\" class=\"row_heading level0 row5\" >ceiling_height</th>\n",
       "                        <td id=\"T_7d911_row5_col0\" class=\"data row5 col0\" >39.000000</td>\n",
       "            </tr>\n",
       "            <tr>\n",
       "                        <th id=\"T_7d911_level0_row6\" class=\"row_heading level0 row6\" >floors_total</th>\n",
       "                        <td id=\"T_7d911_row6_col0\" class=\"data row6 col0\" >0.000000</td>\n",
       "            </tr>\n",
       "            <tr>\n",
       "                        <th id=\"T_7d911_level0_row7\" class=\"row_heading level0 row7\" >living_area</th>\n",
       "                        <td id=\"T_7d911_row7_col0\" class=\"data row7 col0\" >8.000000</td>\n",
       "            </tr>\n",
       "            <tr>\n",
       "                        <th id=\"T_7d911_level0_row8\" class=\"row_heading level0 row8\" >floor</th>\n",
       "                        <td id=\"T_7d911_row8_col0\" class=\"data row8 col0\" >0.000000</td>\n",
       "            </tr>\n",
       "            <tr>\n",
       "                        <th id=\"T_7d911_level0_row9\" class=\"row_heading level0 row9\" >is_apartment</th>\n",
       "                        <td id=\"T_7d911_row9_col0\" class=\"data row9 col0\" >88.000000</td>\n",
       "            </tr>\n",
       "            <tr>\n",
       "                        <th id=\"T_7d911_level0_row10\" class=\"row_heading level0 row10\" >studio</th>\n",
       "                        <td id=\"T_7d911_row10_col0\" class=\"data row10 col0\" >0.000000</td>\n",
       "            </tr>\n",
       "            <tr>\n",
       "                        <th id=\"T_7d911_level0_row11\" class=\"row_heading level0 row11\" >open_plan</th>\n",
       "                        <td id=\"T_7d911_row11_col0\" class=\"data row11 col0\" >0.000000</td>\n",
       "            </tr>\n",
       "            <tr>\n",
       "                        <th id=\"T_7d911_level0_row12\" class=\"row_heading level0 row12\" >kitchen_area</th>\n",
       "                        <td id=\"T_7d911_row12_col0\" class=\"data row12 col0\" >10.000000</td>\n",
       "            </tr>\n",
       "            <tr>\n",
       "                        <th id=\"T_7d911_level0_row13\" class=\"row_heading level0 row13\" >balcony</th>\n",
       "                        <td id=\"T_7d911_row13_col0\" class=\"data row13 col0\" >49.000000</td>\n",
       "            </tr>\n",
       "            <tr>\n",
       "                        <th id=\"T_7d911_level0_row14\" class=\"row_heading level0 row14\" >locality_name</th>\n",
       "                        <td id=\"T_7d911_row14_col0\" class=\"data row14 col0\" >0.000000</td>\n",
       "            </tr>\n",
       "            <tr>\n",
       "                        <th id=\"T_7d911_level0_row15\" class=\"row_heading level0 row15\" >airports_nearest</th>\n",
       "                        <td id=\"T_7d911_row15_col0\" class=\"data row15 col0\" >23.000000</td>\n",
       "            </tr>\n",
       "            <tr>\n",
       "                        <th id=\"T_7d911_level0_row16\" class=\"row_heading level0 row16\" >cityCenters_nearest</th>\n",
       "                        <td id=\"T_7d911_row16_col0\" class=\"data row16 col0\" >23.000000</td>\n",
       "            </tr>\n",
       "            <tr>\n",
       "                        <th id=\"T_7d911_level0_row17\" class=\"row_heading level0 row17\" >parks_around3000</th>\n",
       "                        <td id=\"T_7d911_row17_col0\" class=\"data row17 col0\" >23.000000</td>\n",
       "            </tr>\n",
       "            <tr>\n",
       "                        <th id=\"T_7d911_level0_row18\" class=\"row_heading level0 row18\" >parks_nearest</th>\n",
       "                        <td id=\"T_7d911_row18_col0\" class=\"data row18 col0\" >66.000000</td>\n",
       "            </tr>\n",
       "            <tr>\n",
       "                        <th id=\"T_7d911_level0_row19\" class=\"row_heading level0 row19\" >ponds_around3000</th>\n",
       "                        <td id=\"T_7d911_row19_col0\" class=\"data row19 col0\" >23.000000</td>\n",
       "            </tr>\n",
       "            <tr>\n",
       "                        <th id=\"T_7d911_level0_row20\" class=\"row_heading level0 row20\" >ponds_nearest</th>\n",
       "                        <td id=\"T_7d911_row20_col0\" class=\"data row20 col0\" >62.000000</td>\n",
       "            </tr>\n",
       "            <tr>\n",
       "                        <th id=\"T_7d911_level0_row21\" class=\"row_heading level0 row21\" >days_exposition</th>\n",
       "                        <td id=\"T_7d911_row21_col0\" class=\"data row21 col0\" >13.000000</td>\n",
       "            </tr>\n",
       "    </tbody></table>"
      ],
      "text/plain": [
       "<pandas.io.formats.style.Styler at 0x7f82144ce1c0>"
      ]
     },
     "execution_count": 5,
     "metadata": {},
     "output_type": "execute_result"
    }
   ],
   "source": [
    "pd.DataFrame(round(data.isna().mean()*100,)).style.background_gradient('coolwarm')"
   ]
  },
  {
   "cell_type": "markdown",
   "metadata": {},
   "source": [
    "Пропуски обнаружились в\n",
    "- ceiling_height - высота потолков - ее могли не указать, так как не смогли измерить.Следовательно, потолки достаточно высокие или наоборот, потолки стандартные и указывать высоту было не обязательно, также, возможен вариант с низкими потолками, поэтому, чтобы продать квартиру, высоту не указали. Оставим без изменений.\n",
    "- floors_total - количество этажей в доме - есть переменная этаж, можно поработать с этими переменными\n",
    "- living_area - жилая площадь - из общей площади квартиры вычесть площадь кухни, ванна и санузел занимают небольшую площадь, ими можно пренебречь. Строки для которых нет этих данных - удалить.\n",
    "- is_apartment - апартаменты или нет - оставить данные без изменений\n",
    "- kitchen_area - площадь кухни - из общей площади вычесть жилую  \n",
    "- balcony - число балконов - заменить 0, так как если указали, значит балконов нет\n",
    "- locality_name - название населенного пункта - оставить без изменений\n",
    "- airports_nearest - расстояние до ближайшего аэропорта - могли не указать, так как ближайший аэропорт находится очень далеко\n",
    "- cityCenters_nearest  - расстояние до центра - возможно место находится в маленьком населенном пункте, где нет центра\n",
    "- parks_around3000 - число парков в ближайших 3 км    \n",
    "- parks_nearest - расстояние до ближайшего парка   \n",
    "- ponds_around3000 -    число водоемов в ближайших 3 км\n",
    "- ponds_nearest - расстояние до ближайшего водоема\n",
    "- days_exposition - сколько дней было размещено объявление - если не указано, значит до сих пор размещено. Оставляем без изменений\n"
   ]
  },
  {
   "cell_type": "code",
   "execution_count": 6,
   "metadata": {
    "scrolled": true
   },
   "outputs": [
    {
     "data": {
      "text/html": [
       "<div>\n",
       "<style scoped>\n",
       "    .dataframe tbody tr th:only-of-type {\n",
       "        vertical-align: middle;\n",
       "    }\n",
       "\n",
       "    .dataframe tbody tr th {\n",
       "        vertical-align: top;\n",
       "    }\n",
       "\n",
       "    .dataframe thead th {\n",
       "        text-align: right;\n",
       "    }\n",
       "</style>\n",
       "<table border=\"1\" class=\"dataframe\">\n",
       "  <thead>\n",
       "    <tr style=\"text-align: right;\">\n",
       "      <th></th>\n",
       "      <th>total_images</th>\n",
       "      <th>last_price</th>\n",
       "      <th>total_area</th>\n",
       "      <th>first_day_exposition</th>\n",
       "      <th>rooms</th>\n",
       "      <th>ceiling_height</th>\n",
       "      <th>floors_total</th>\n",
       "      <th>living_area</th>\n",
       "      <th>floor</th>\n",
       "      <th>is_apartment</th>\n",
       "      <th>...</th>\n",
       "      <th>kitchen_area</th>\n",
       "      <th>balcony</th>\n",
       "      <th>locality_name</th>\n",
       "      <th>airports_nearest</th>\n",
       "      <th>cityCenters_nearest</th>\n",
       "      <th>parks_around3000</th>\n",
       "      <th>parks_nearest</th>\n",
       "      <th>ponds_around3000</th>\n",
       "      <th>ponds_nearest</th>\n",
       "      <th>days_exposition</th>\n",
       "    </tr>\n",
       "  </thead>\n",
       "  <tbody>\n",
       "    <tr>\n",
       "      <th>186</th>\n",
       "      <td>12</td>\n",
       "      <td>11640000.0</td>\n",
       "      <td>65.20</td>\n",
       "      <td>2018-10-02T00:00:00</td>\n",
       "      <td>2</td>\n",
       "      <td>NaN</td>\n",
       "      <td>NaN</td>\n",
       "      <td>30.80</td>\n",
       "      <td>4</td>\n",
       "      <td>NaN</td>\n",
       "      <td>...</td>\n",
       "      <td>12.00</td>\n",
       "      <td>NaN</td>\n",
       "      <td>Санкт-Петербург</td>\n",
       "      <td>39197.0</td>\n",
       "      <td>12373.0</td>\n",
       "      <td>1.0</td>\n",
       "      <td>123.0</td>\n",
       "      <td>0.0</td>\n",
       "      <td>NaN</td>\n",
       "      <td>49.0</td>\n",
       "    </tr>\n",
       "    <tr>\n",
       "      <th>237</th>\n",
       "      <td>4</td>\n",
       "      <td>2438033.0</td>\n",
       "      <td>28.10</td>\n",
       "      <td>2016-11-23T00:00:00</td>\n",
       "      <td>1</td>\n",
       "      <td>NaN</td>\n",
       "      <td>NaN</td>\n",
       "      <td>20.75</td>\n",
       "      <td>1</td>\n",
       "      <td>NaN</td>\n",
       "      <td>...</td>\n",
       "      <td>NaN</td>\n",
       "      <td>0.0</td>\n",
       "      <td>Санкт-Петербург</td>\n",
       "      <td>22041.0</td>\n",
       "      <td>17369.0</td>\n",
       "      <td>0.0</td>\n",
       "      <td>NaN</td>\n",
       "      <td>1.0</td>\n",
       "      <td>374.0</td>\n",
       "      <td>251.0</td>\n",
       "    </tr>\n",
       "    <tr>\n",
       "      <th>457</th>\n",
       "      <td>4</td>\n",
       "      <td>9788348.0</td>\n",
       "      <td>70.80</td>\n",
       "      <td>2015-08-01T00:00:00</td>\n",
       "      <td>2</td>\n",
       "      <td>NaN</td>\n",
       "      <td>NaN</td>\n",
       "      <td>38.40</td>\n",
       "      <td>12</td>\n",
       "      <td>NaN</td>\n",
       "      <td>...</td>\n",
       "      <td>10.63</td>\n",
       "      <td>0.0</td>\n",
       "      <td>Санкт-Петербург</td>\n",
       "      <td>37364.0</td>\n",
       "      <td>8322.0</td>\n",
       "      <td>2.0</td>\n",
       "      <td>309.0</td>\n",
       "      <td>2.0</td>\n",
       "      <td>706.0</td>\n",
       "      <td>727.0</td>\n",
       "    </tr>\n",
       "    <tr>\n",
       "      <th>671</th>\n",
       "      <td>4</td>\n",
       "      <td>6051191.0</td>\n",
       "      <td>93.60</td>\n",
       "      <td>2017-04-06T00:00:00</td>\n",
       "      <td>3</td>\n",
       "      <td>NaN</td>\n",
       "      <td>NaN</td>\n",
       "      <td>47.10</td>\n",
       "      <td>8</td>\n",
       "      <td>NaN</td>\n",
       "      <td>...</td>\n",
       "      <td>16.80</td>\n",
       "      <td>0.0</td>\n",
       "      <td>Санкт-Петербург</td>\n",
       "      <td>22041.0</td>\n",
       "      <td>17369.0</td>\n",
       "      <td>0.0</td>\n",
       "      <td>NaN</td>\n",
       "      <td>1.0</td>\n",
       "      <td>374.0</td>\n",
       "      <td>123.0</td>\n",
       "    </tr>\n",
       "    <tr>\n",
       "      <th>1757</th>\n",
       "      <td>5</td>\n",
       "      <td>3600000.0</td>\n",
       "      <td>39.00</td>\n",
       "      <td>2017-04-22T00:00:00</td>\n",
       "      <td>1</td>\n",
       "      <td>NaN</td>\n",
       "      <td>NaN</td>\n",
       "      <td>NaN</td>\n",
       "      <td>9</td>\n",
       "      <td>NaN</td>\n",
       "      <td>...</td>\n",
       "      <td>NaN</td>\n",
       "      <td>0.0</td>\n",
       "      <td>Санкт-Петербург</td>\n",
       "      <td>22735.0</td>\n",
       "      <td>11618.0</td>\n",
       "      <td>1.0</td>\n",
       "      <td>835.0</td>\n",
       "      <td>1.0</td>\n",
       "      <td>652.0</td>\n",
       "      <td>77.0</td>\n",
       "    </tr>\n",
       "    <tr>\n",
       "      <th>1930</th>\n",
       "      <td>1</td>\n",
       "      <td>9750000.0</td>\n",
       "      <td>66.77</td>\n",
       "      <td>2016-05-13T00:00:00</td>\n",
       "      <td>2</td>\n",
       "      <td>NaN</td>\n",
       "      <td>NaN</td>\n",
       "      <td>NaN</td>\n",
       "      <td>4</td>\n",
       "      <td>NaN</td>\n",
       "      <td>...</td>\n",
       "      <td>NaN</td>\n",
       "      <td>0.0</td>\n",
       "      <td>Санкт-Петербург</td>\n",
       "      <td>39886.0</td>\n",
       "      <td>10660.0</td>\n",
       "      <td>1.0</td>\n",
       "      <td>2276.0</td>\n",
       "      <td>3.0</td>\n",
       "      <td>244.0</td>\n",
       "      <td>90.0</td>\n",
       "    </tr>\n",
       "    <tr>\n",
       "      <th>2392</th>\n",
       "      <td>7</td>\n",
       "      <td>5395770.0</td>\n",
       "      <td>53.00</td>\n",
       "      <td>2017-06-29T00:00:00</td>\n",
       "      <td>2</td>\n",
       "      <td>NaN</td>\n",
       "      <td>NaN</td>\n",
       "      <td>29.00</td>\n",
       "      <td>22</td>\n",
       "      <td>NaN</td>\n",
       "      <td>...</td>\n",
       "      <td>9.00</td>\n",
       "      <td>0.0</td>\n",
       "      <td>Санкт-Петербург</td>\n",
       "      <td>43074.0</td>\n",
       "      <td>10820.0</td>\n",
       "      <td>0.0</td>\n",
       "      <td>NaN</td>\n",
       "      <td>0.0</td>\n",
       "      <td>NaN</td>\n",
       "      <td>48.0</td>\n",
       "    </tr>\n",
       "    <tr>\n",
       "      <th>2846</th>\n",
       "      <td>4</td>\n",
       "      <td>2325000.0</td>\n",
       "      <td>27.80</td>\n",
       "      <td>2016-09-21T00:00:00</td>\n",
       "      <td>1</td>\n",
       "      <td>NaN</td>\n",
       "      <td>NaN</td>\n",
       "      <td>19.40</td>\n",
       "      <td>15</td>\n",
       "      <td>NaN</td>\n",
       "      <td>...</td>\n",
       "      <td>NaN</td>\n",
       "      <td>0.0</td>\n",
       "      <td>Санкт-Петербург</td>\n",
       "      <td>22041.0</td>\n",
       "      <td>17369.0</td>\n",
       "      <td>0.0</td>\n",
       "      <td>NaN</td>\n",
       "      <td>1.0</td>\n",
       "      <td>374.0</td>\n",
       "      <td>307.0</td>\n",
       "    </tr>\n",
       "    <tr>\n",
       "      <th>2952</th>\n",
       "      <td>10</td>\n",
       "      <td>6500000.0</td>\n",
       "      <td>54.30</td>\n",
       "      <td>2019-04-23T00:00:00</td>\n",
       "      <td>1</td>\n",
       "      <td>NaN</td>\n",
       "      <td>NaN</td>\n",
       "      <td>22.20</td>\n",
       "      <td>6</td>\n",
       "      <td>NaN</td>\n",
       "      <td>...</td>\n",
       "      <td>12.30</td>\n",
       "      <td>NaN</td>\n",
       "      <td>Санкт-Петербург</td>\n",
       "      <td>23606.0</td>\n",
       "      <td>3148.0</td>\n",
       "      <td>0.0</td>\n",
       "      <td>NaN</td>\n",
       "      <td>0.0</td>\n",
       "      <td>NaN</td>\n",
       "      <td>NaN</td>\n",
       "    </tr>\n",
       "    <tr>\n",
       "      <th>3031</th>\n",
       "      <td>9</td>\n",
       "      <td>6400000.0</td>\n",
       "      <td>56.70</td>\n",
       "      <td>2018-03-27T00:00:00</td>\n",
       "      <td>2</td>\n",
       "      <td>NaN</td>\n",
       "      <td>NaN</td>\n",
       "      <td>32.00</td>\n",
       "      <td>12</td>\n",
       "      <td>NaN</td>\n",
       "      <td>...</td>\n",
       "      <td>12.00</td>\n",
       "      <td>NaN</td>\n",
       "      <td>Кудрово</td>\n",
       "      <td>NaN</td>\n",
       "      <td>NaN</td>\n",
       "      <td>NaN</td>\n",
       "      <td>NaN</td>\n",
       "      <td>NaN</td>\n",
       "      <td>NaN</td>\n",
       "      <td>231.0</td>\n",
       "    </tr>\n",
       "    <tr>\n",
       "      <th>3438</th>\n",
       "      <td>10</td>\n",
       "      <td>4100000.0</td>\n",
       "      <td>38.00</td>\n",
       "      <td>2018-04-14T00:00:00</td>\n",
       "      <td>1</td>\n",
       "      <td>NaN</td>\n",
       "      <td>NaN</td>\n",
       "      <td>19.00</td>\n",
       "      <td>12</td>\n",
       "      <td>NaN</td>\n",
       "      <td>...</td>\n",
       "      <td>10.30</td>\n",
       "      <td>NaN</td>\n",
       "      <td>Кудрово</td>\n",
       "      <td>NaN</td>\n",
       "      <td>NaN</td>\n",
       "      <td>NaN</td>\n",
       "      <td>NaN</td>\n",
       "      <td>NaN</td>\n",
       "      <td>NaN</td>\n",
       "      <td>95.0</td>\n",
       "    </tr>\n",
       "    <tr>\n",
       "      <th>3817</th>\n",
       "      <td>1</td>\n",
       "      <td>1640000.0</td>\n",
       "      <td>23.98</td>\n",
       "      <td>2015-08-25T00:00:00</td>\n",
       "      <td>1</td>\n",
       "      <td>NaN</td>\n",
       "      <td>NaN</td>\n",
       "      <td>NaN</td>\n",
       "      <td>1</td>\n",
       "      <td>NaN</td>\n",
       "      <td>...</td>\n",
       "      <td>NaN</td>\n",
       "      <td>0.0</td>\n",
       "      <td>посёлок Щеглово</td>\n",
       "      <td>61908.0</td>\n",
       "      <td>34085.0</td>\n",
       "      <td>0.0</td>\n",
       "      <td>NaN</td>\n",
       "      <td>0.0</td>\n",
       "      <td>NaN</td>\n",
       "      <td>378.0</td>\n",
       "    </tr>\n",
       "    <tr>\n",
       "      <th>3831</th>\n",
       "      <td>5</td>\n",
       "      <td>4850000.0</td>\n",
       "      <td>37.40</td>\n",
       "      <td>2019-03-02T00:00:00</td>\n",
       "      <td>1</td>\n",
       "      <td>NaN</td>\n",
       "      <td>NaN</td>\n",
       "      <td>NaN</td>\n",
       "      <td>7</td>\n",
       "      <td>NaN</td>\n",
       "      <td>...</td>\n",
       "      <td>NaN</td>\n",
       "      <td>NaN</td>\n",
       "      <td>Санкт-Петербург</td>\n",
       "      <td>NaN</td>\n",
       "      <td>NaN</td>\n",
       "      <td>NaN</td>\n",
       "      <td>NaN</td>\n",
       "      <td>NaN</td>\n",
       "      <td>NaN</td>\n",
       "      <td>NaN</td>\n",
       "    </tr>\n",
       "    <tr>\n",
       "      <th>4140</th>\n",
       "      <td>4</td>\n",
       "      <td>10296437.0</td>\n",
       "      <td>100.30</td>\n",
       "      <td>2017-07-02T00:00:00</td>\n",
       "      <td>3</td>\n",
       "      <td>NaN</td>\n",
       "      <td>NaN</td>\n",
       "      <td>58.18</td>\n",
       "      <td>3</td>\n",
       "      <td>NaN</td>\n",
       "      <td>...</td>\n",
       "      <td>10.90</td>\n",
       "      <td>0.0</td>\n",
       "      <td>Санкт-Петербург</td>\n",
       "      <td>37364.0</td>\n",
       "      <td>8322.0</td>\n",
       "      <td>2.0</td>\n",
       "      <td>309.0</td>\n",
       "      <td>2.0</td>\n",
       "      <td>706.0</td>\n",
       "      <td>35.0</td>\n",
       "    </tr>\n",
       "    <tr>\n",
       "      <th>4617</th>\n",
       "      <td>4</td>\n",
       "      <td>4275062.0</td>\n",
       "      <td>61.20</td>\n",
       "      <td>2017-04-27T00:00:00</td>\n",
       "      <td>2</td>\n",
       "      <td>NaN</td>\n",
       "      <td>NaN</td>\n",
       "      <td>32.00</td>\n",
       "      <td>12</td>\n",
       "      <td>NaN</td>\n",
       "      <td>...</td>\n",
       "      <td>12.20</td>\n",
       "      <td>0.0</td>\n",
       "      <td>Санкт-Петербург</td>\n",
       "      <td>22041.0</td>\n",
       "      <td>17369.0</td>\n",
       "      <td>0.0</td>\n",
       "      <td>NaN</td>\n",
       "      <td>1.0</td>\n",
       "      <td>374.0</td>\n",
       "      <td>72.0</td>\n",
       "    </tr>\n",
       "    <tr>\n",
       "      <th>4848</th>\n",
       "      <td>15</td>\n",
       "      <td>13000000.0</td>\n",
       "      <td>98.00</td>\n",
       "      <td>2017-02-08T00:00:00</td>\n",
       "      <td>3</td>\n",
       "      <td>NaN</td>\n",
       "      <td>NaN</td>\n",
       "      <td>NaN</td>\n",
       "      <td>18</td>\n",
       "      <td>NaN</td>\n",
       "      <td>...</td>\n",
       "      <td>NaN</td>\n",
       "      <td>0.0</td>\n",
       "      <td>Санкт-Петербург</td>\n",
       "      <td>37625.0</td>\n",
       "      <td>14153.0</td>\n",
       "      <td>0.0</td>\n",
       "      <td>NaN</td>\n",
       "      <td>0.0</td>\n",
       "      <td>NaN</td>\n",
       "      <td>29.0</td>\n",
       "    </tr>\n",
       "    <tr>\n",
       "      <th>4901</th>\n",
       "      <td>5</td>\n",
       "      <td>2200000.0</td>\n",
       "      <td>24.00</td>\n",
       "      <td>2018-10-22T00:00:00</td>\n",
       "      <td>0</td>\n",
       "      <td>NaN</td>\n",
       "      <td>NaN</td>\n",
       "      <td>NaN</td>\n",
       "      <td>6</td>\n",
       "      <td>NaN</td>\n",
       "      <td>...</td>\n",
       "      <td>NaN</td>\n",
       "      <td>NaN</td>\n",
       "      <td>посёлок Бугры</td>\n",
       "      <td>NaN</td>\n",
       "      <td>NaN</td>\n",
       "      <td>NaN</td>\n",
       "      <td>NaN</td>\n",
       "      <td>NaN</td>\n",
       "      <td>NaN</td>\n",
       "      <td>51.0</td>\n",
       "    </tr>\n",
       "    <tr>\n",
       "      <th>5146</th>\n",
       "      <td>10</td>\n",
       "      <td>3085024.0</td>\n",
       "      <td>33.33</td>\n",
       "      <td>2018-10-06T00:00:00</td>\n",
       "      <td>1</td>\n",
       "      <td>NaN</td>\n",
       "      <td>NaN</td>\n",
       "      <td>11.00</td>\n",
       "      <td>12</td>\n",
       "      <td>NaN</td>\n",
       "      <td>...</td>\n",
       "      <td>NaN</td>\n",
       "      <td>NaN</td>\n",
       "      <td>Санкт-Петербург</td>\n",
       "      <td>47303.0</td>\n",
       "      <td>25865.0</td>\n",
       "      <td>1.0</td>\n",
       "      <td>400.0</td>\n",
       "      <td>1.0</td>\n",
       "      <td>492.0</td>\n",
       "      <td>140.0</td>\n",
       "    </tr>\n",
       "    <tr>\n",
       "      <th>5187</th>\n",
       "      <td>5</td>\n",
       "      <td>3300000.0</td>\n",
       "      <td>25.40</td>\n",
       "      <td>2018-11-02T00:00:00</td>\n",
       "      <td>0</td>\n",
       "      <td>NaN</td>\n",
       "      <td>NaN</td>\n",
       "      <td>NaN</td>\n",
       "      <td>15</td>\n",
       "      <td>NaN</td>\n",
       "      <td>...</td>\n",
       "      <td>NaN</td>\n",
       "      <td>NaN</td>\n",
       "      <td>посёлок Мурино</td>\n",
       "      <td>NaN</td>\n",
       "      <td>NaN</td>\n",
       "      <td>NaN</td>\n",
       "      <td>NaN</td>\n",
       "      <td>NaN</td>\n",
       "      <td>NaN</td>\n",
       "      <td>3.0</td>\n",
       "    </tr>\n",
       "    <tr>\n",
       "      <th>5784</th>\n",
       "      <td>4</td>\n",
       "      <td>4262941.0</td>\n",
       "      <td>59.90</td>\n",
       "      <td>2017-04-02T00:00:00</td>\n",
       "      <td>2</td>\n",
       "      <td>NaN</td>\n",
       "      <td>NaN</td>\n",
       "      <td>31.70</td>\n",
       "      <td>18</td>\n",
       "      <td>NaN</td>\n",
       "      <td>...</td>\n",
       "      <td>11.90</td>\n",
       "      <td>0.0</td>\n",
       "      <td>Санкт-Петербург</td>\n",
       "      <td>22041.0</td>\n",
       "      <td>17369.0</td>\n",
       "      <td>0.0</td>\n",
       "      <td>NaN</td>\n",
       "      <td>1.0</td>\n",
       "      <td>374.0</td>\n",
       "      <td>127.0</td>\n",
       "    </tr>\n",
       "  </tbody>\n",
       "</table>\n",
       "<p>20 rows × 22 columns</p>\n",
       "</div>"
      ],
      "text/plain": [
       "      total_images  last_price  total_area first_day_exposition  rooms  \\\n",
       "186             12  11640000.0       65.20  2018-10-02T00:00:00      2   \n",
       "237              4   2438033.0       28.10  2016-11-23T00:00:00      1   \n",
       "457              4   9788348.0       70.80  2015-08-01T00:00:00      2   \n",
       "671              4   6051191.0       93.60  2017-04-06T00:00:00      3   \n",
       "1757             5   3600000.0       39.00  2017-04-22T00:00:00      1   \n",
       "1930             1   9750000.0       66.77  2016-05-13T00:00:00      2   \n",
       "2392             7   5395770.0       53.00  2017-06-29T00:00:00      2   \n",
       "2846             4   2325000.0       27.80  2016-09-21T00:00:00      1   \n",
       "2952            10   6500000.0       54.30  2019-04-23T00:00:00      1   \n",
       "3031             9   6400000.0       56.70  2018-03-27T00:00:00      2   \n",
       "3438            10   4100000.0       38.00  2018-04-14T00:00:00      1   \n",
       "3817             1   1640000.0       23.98  2015-08-25T00:00:00      1   \n",
       "3831             5   4850000.0       37.40  2019-03-02T00:00:00      1   \n",
       "4140             4  10296437.0      100.30  2017-07-02T00:00:00      3   \n",
       "4617             4   4275062.0       61.20  2017-04-27T00:00:00      2   \n",
       "4848            15  13000000.0       98.00  2017-02-08T00:00:00      3   \n",
       "4901             5   2200000.0       24.00  2018-10-22T00:00:00      0   \n",
       "5146            10   3085024.0       33.33  2018-10-06T00:00:00      1   \n",
       "5187             5   3300000.0       25.40  2018-11-02T00:00:00      0   \n",
       "5784             4   4262941.0       59.90  2017-04-02T00:00:00      2   \n",
       "\n",
       "      ceiling_height  floors_total  living_area  floor is_apartment  ...  \\\n",
       "186              NaN           NaN        30.80      4          NaN  ...   \n",
       "237              NaN           NaN        20.75      1          NaN  ...   \n",
       "457              NaN           NaN        38.40     12          NaN  ...   \n",
       "671              NaN           NaN        47.10      8          NaN  ...   \n",
       "1757             NaN           NaN          NaN      9          NaN  ...   \n",
       "1930             NaN           NaN          NaN      4          NaN  ...   \n",
       "2392             NaN           NaN        29.00     22          NaN  ...   \n",
       "2846             NaN           NaN        19.40     15          NaN  ...   \n",
       "2952             NaN           NaN        22.20      6          NaN  ...   \n",
       "3031             NaN           NaN        32.00     12          NaN  ...   \n",
       "3438             NaN           NaN        19.00     12          NaN  ...   \n",
       "3817             NaN           NaN          NaN      1          NaN  ...   \n",
       "3831             NaN           NaN          NaN      7          NaN  ...   \n",
       "4140             NaN           NaN        58.18      3          NaN  ...   \n",
       "4617             NaN           NaN        32.00     12          NaN  ...   \n",
       "4848             NaN           NaN          NaN     18          NaN  ...   \n",
       "4901             NaN           NaN          NaN      6          NaN  ...   \n",
       "5146             NaN           NaN        11.00     12          NaN  ...   \n",
       "5187             NaN           NaN          NaN     15          NaN  ...   \n",
       "5784             NaN           NaN        31.70     18          NaN  ...   \n",
       "\n",
       "      kitchen_area  balcony    locality_name  airports_nearest  \\\n",
       "186          12.00      NaN  Санкт-Петербург           39197.0   \n",
       "237            NaN      0.0  Санкт-Петербург           22041.0   \n",
       "457          10.63      0.0  Санкт-Петербург           37364.0   \n",
       "671          16.80      0.0  Санкт-Петербург           22041.0   \n",
       "1757           NaN      0.0  Санкт-Петербург           22735.0   \n",
       "1930           NaN      0.0  Санкт-Петербург           39886.0   \n",
       "2392          9.00      0.0  Санкт-Петербург           43074.0   \n",
       "2846           NaN      0.0  Санкт-Петербург           22041.0   \n",
       "2952         12.30      NaN  Санкт-Петербург           23606.0   \n",
       "3031         12.00      NaN          Кудрово               NaN   \n",
       "3438         10.30      NaN          Кудрово               NaN   \n",
       "3817           NaN      0.0  посёлок Щеглово           61908.0   \n",
       "3831           NaN      NaN  Санкт-Петербург               NaN   \n",
       "4140         10.90      0.0  Санкт-Петербург           37364.0   \n",
       "4617         12.20      0.0  Санкт-Петербург           22041.0   \n",
       "4848           NaN      0.0  Санкт-Петербург           37625.0   \n",
       "4901           NaN      NaN    посёлок Бугры               NaN   \n",
       "5146           NaN      NaN  Санкт-Петербург           47303.0   \n",
       "5187           NaN      NaN   посёлок Мурино               NaN   \n",
       "5784         11.90      0.0  Санкт-Петербург           22041.0   \n",
       "\n",
       "     cityCenters_nearest  parks_around3000  parks_nearest  ponds_around3000  \\\n",
       "186              12373.0               1.0          123.0               0.0   \n",
       "237              17369.0               0.0            NaN               1.0   \n",
       "457               8322.0               2.0          309.0               2.0   \n",
       "671              17369.0               0.0            NaN               1.0   \n",
       "1757             11618.0               1.0          835.0               1.0   \n",
       "1930             10660.0               1.0         2276.0               3.0   \n",
       "2392             10820.0               0.0            NaN               0.0   \n",
       "2846             17369.0               0.0            NaN               1.0   \n",
       "2952              3148.0               0.0            NaN               0.0   \n",
       "3031                 NaN               NaN            NaN               NaN   \n",
       "3438                 NaN               NaN            NaN               NaN   \n",
       "3817             34085.0               0.0            NaN               0.0   \n",
       "3831                 NaN               NaN            NaN               NaN   \n",
       "4140              8322.0               2.0          309.0               2.0   \n",
       "4617             17369.0               0.0            NaN               1.0   \n",
       "4848             14153.0               0.0            NaN               0.0   \n",
       "4901                 NaN               NaN            NaN               NaN   \n",
       "5146             25865.0               1.0          400.0               1.0   \n",
       "5187                 NaN               NaN            NaN               NaN   \n",
       "5784             17369.0               0.0            NaN               1.0   \n",
       "\n",
       "      ponds_nearest  days_exposition  \n",
       "186             NaN             49.0  \n",
       "237           374.0            251.0  \n",
       "457           706.0            727.0  \n",
       "671           374.0            123.0  \n",
       "1757          652.0             77.0  \n",
       "1930          244.0             90.0  \n",
       "2392            NaN             48.0  \n",
       "2846          374.0            307.0  \n",
       "2952            NaN              NaN  \n",
       "3031            NaN            231.0  \n",
       "3438            NaN             95.0  \n",
       "3817            NaN            378.0  \n",
       "3831            NaN              NaN  \n",
       "4140          706.0             35.0  \n",
       "4617          374.0             72.0  \n",
       "4848            NaN             29.0  \n",
       "4901            NaN             51.0  \n",
       "5146          492.0            140.0  \n",
       "5187            NaN              3.0  \n",
       "5784          374.0            127.0  \n",
       "\n",
       "[20 rows x 22 columns]"
      ]
     },
     "execution_count": 6,
     "metadata": {},
     "output_type": "execute_result"
    }
   ],
   "source": [
    "data[data['floors_total'].isna()].head(20)"
   ]
  },
  {
   "cell_type": "markdown",
   "metadata": {},
   "source": [
    "Можно предположить, что там, где не указано количество этажей в доме, а в столбце этаж указано 1, будет всего 1 этаж, но просмотрев пару значений в таблице видим, что и для 8, 9 этажей общее их количество в доме не указано. Оставим без изменений.\n"
   ]
  },
  {
   "cell_type": "markdown",
   "metadata": {},
   "source": [
    "Сначала проработаем с пропусками, которые можно отредактировать, а затем удалим строки с пропущенными значениями в жилой площади и площади кухни, так как они составляют менее 10%"
   ]
  },
  {
   "cell_type": "code",
   "execution_count": 7,
   "metadata": {},
   "outputs": [],
   "source": [
    "data.loc[data['living_area'].isna(),'living_area'] = data['total_area'] - data['kitchen_area']\n",
    "data['living_area'].isna().sum()\n",
    "data['living_area'] = data['living_area'].dropna().reset_index(drop=True)"
   ]
  },
  {
   "cell_type": "code",
   "execution_count": 8,
   "metadata": {},
   "outputs": [],
   "source": [
    "data.loc[data['kitchen_area'].isna(),'kitchen_area'] = data['total_area'] - data['living_area']\n",
    "data['kitchen_area'].isna().sum()\n",
    "data['living_area'] = data['living_area'].dropna().reset_index(drop=True)"
   ]
  },
  {
   "cell_type": "markdown",
   "metadata": {},
   "source": [
    "Балконы:"
   ]
  },
  {
   "cell_type": "code",
   "execution_count": 9,
   "metadata": {},
   "outputs": [
    {
     "data": {
      "text/plain": [
       "0"
      ]
     },
     "execution_count": 9,
     "metadata": {},
     "output_type": "execute_result"
    }
   ],
   "source": [
    "data.loc[data['balcony'].isna(),'balcony'] = 0\n",
    "data['balcony'].isna().sum()"
   ]
  },
  {
   "cell_type": "code",
   "execution_count": 10,
   "metadata": {},
   "outputs": [
    {
     "data": {
      "text/html": [
       "<style  type=\"text/css\" >\n",
       "#T_c7409_row0_col0,#T_c7409_row1_col0,#T_c7409_row2_col0,#T_c7409_row3_col0,#T_c7409_row4_col0,#T_c7409_row6_col0,#T_c7409_row8_col0,#T_c7409_row10_col0,#T_c7409_row11_col0,#T_c7409_row13_col0,#T_c7409_row14_col0{\n",
       "            background-color:  #3b4cc0;\n",
       "            color:  #f1f1f1;\n",
       "        }#T_c7409_row5_col0{\n",
       "            background-color:  #cdd9ec;\n",
       "            color:  #000000;\n",
       "        }#T_c7409_row7_col0{\n",
       "            background-color:  #4f69d9;\n",
       "            color:  #000000;\n",
       "        }#T_c7409_row9_col0{\n",
       "            background-color:  #b40426;\n",
       "            color:  #f1f1f1;\n",
       "        }#T_c7409_row12_col0{\n",
       "            background-color:  #3d50c3;\n",
       "            color:  #f1f1f1;\n",
       "        }#T_c7409_row15_col0,#T_c7409_row16_col0,#T_c7409_row17_col0,#T_c7409_row19_col0{\n",
       "            background-color:  #90b2fe;\n",
       "            color:  #000000;\n",
       "        }#T_c7409_row18_col0{\n",
       "            background-color:  #f4987a;\n",
       "            color:  #000000;\n",
       "        }#T_c7409_row20_col0{\n",
       "            background-color:  #f7aa8c;\n",
       "            color:  #000000;\n",
       "        }#T_c7409_row21_col0{\n",
       "            background-color:  #688aef;\n",
       "            color:  #000000;\n",
       "        }</style><table id=\"T_c7409_\" ><thead>    <tr>        <th class=\"blank level0\" ></th>        <th class=\"col_heading level0 col0\" >0</th>    </tr></thead><tbody>\n",
       "                <tr>\n",
       "                        <th id=\"T_c7409_level0_row0\" class=\"row_heading level0 row0\" >total_images</th>\n",
       "                        <td id=\"T_c7409_row0_col0\" class=\"data row0 col0\" >0.000000</td>\n",
       "            </tr>\n",
       "            <tr>\n",
       "                        <th id=\"T_c7409_level0_row1\" class=\"row_heading level0 row1\" >last_price</th>\n",
       "                        <td id=\"T_c7409_row1_col0\" class=\"data row1 col0\" >0.000000</td>\n",
       "            </tr>\n",
       "            <tr>\n",
       "                        <th id=\"T_c7409_level0_row2\" class=\"row_heading level0 row2\" >total_area</th>\n",
       "                        <td id=\"T_c7409_row2_col0\" class=\"data row2 col0\" >0.000000</td>\n",
       "            </tr>\n",
       "            <tr>\n",
       "                        <th id=\"T_c7409_level0_row3\" class=\"row_heading level0 row3\" >first_day_exposition</th>\n",
       "                        <td id=\"T_c7409_row3_col0\" class=\"data row3 col0\" >0.000000</td>\n",
       "            </tr>\n",
       "            <tr>\n",
       "                        <th id=\"T_c7409_level0_row4\" class=\"row_heading level0 row4\" >rooms</th>\n",
       "                        <td id=\"T_c7409_row4_col0\" class=\"data row4 col0\" >0.000000</td>\n",
       "            </tr>\n",
       "            <tr>\n",
       "                        <th id=\"T_c7409_level0_row5\" class=\"row_heading level0 row5\" >ceiling_height</th>\n",
       "                        <td id=\"T_c7409_row5_col0\" class=\"data row5 col0\" >39.000000</td>\n",
       "            </tr>\n",
       "            <tr>\n",
       "                        <th id=\"T_c7409_level0_row6\" class=\"row_heading level0 row6\" >floors_total</th>\n",
       "                        <td id=\"T_c7409_row6_col0\" class=\"data row6 col0\" >0.000000</td>\n",
       "            </tr>\n",
       "            <tr>\n",
       "                        <th id=\"T_c7409_level0_row7\" class=\"row_heading level0 row7\" >living_area</th>\n",
       "                        <td id=\"T_c7409_row7_col0\" class=\"data row7 col0\" >6.000000</td>\n",
       "            </tr>\n",
       "            <tr>\n",
       "                        <th id=\"T_c7409_level0_row8\" class=\"row_heading level0 row8\" >floor</th>\n",
       "                        <td id=\"T_c7409_row8_col0\" class=\"data row8 col0\" >0.000000</td>\n",
       "            </tr>\n",
       "            <tr>\n",
       "                        <th id=\"T_c7409_level0_row9\" class=\"row_heading level0 row9\" >is_apartment</th>\n",
       "                        <td id=\"T_c7409_row9_col0\" class=\"data row9 col0\" >88.000000</td>\n",
       "            </tr>\n",
       "            <tr>\n",
       "                        <th id=\"T_c7409_level0_row10\" class=\"row_heading level0 row10\" >studio</th>\n",
       "                        <td id=\"T_c7409_row10_col0\" class=\"data row10 col0\" >0.000000</td>\n",
       "            </tr>\n",
       "            <tr>\n",
       "                        <th id=\"T_c7409_level0_row11\" class=\"row_heading level0 row11\" >open_plan</th>\n",
       "                        <td id=\"T_c7409_row11_col0\" class=\"data row11 col0\" >0.000000</td>\n",
       "            </tr>\n",
       "            <tr>\n",
       "                        <th id=\"T_c7409_level0_row12\" class=\"row_heading level0 row12\" >kitchen_area</th>\n",
       "                        <td id=\"T_c7409_row12_col0\" class=\"data row12 col0\" >1.000000</td>\n",
       "            </tr>\n",
       "            <tr>\n",
       "                        <th id=\"T_c7409_level0_row13\" class=\"row_heading level0 row13\" >balcony</th>\n",
       "                        <td id=\"T_c7409_row13_col0\" class=\"data row13 col0\" >0.000000</td>\n",
       "            </tr>\n",
       "            <tr>\n",
       "                        <th id=\"T_c7409_level0_row14\" class=\"row_heading level0 row14\" >locality_name</th>\n",
       "                        <td id=\"T_c7409_row14_col0\" class=\"data row14 col0\" >0.000000</td>\n",
       "            </tr>\n",
       "            <tr>\n",
       "                        <th id=\"T_c7409_level0_row15\" class=\"row_heading level0 row15\" >airports_nearest</th>\n",
       "                        <td id=\"T_c7409_row15_col0\" class=\"data row15 col0\" >23.000000</td>\n",
       "            </tr>\n",
       "            <tr>\n",
       "                        <th id=\"T_c7409_level0_row16\" class=\"row_heading level0 row16\" >cityCenters_nearest</th>\n",
       "                        <td id=\"T_c7409_row16_col0\" class=\"data row16 col0\" >23.000000</td>\n",
       "            </tr>\n",
       "            <tr>\n",
       "                        <th id=\"T_c7409_level0_row17\" class=\"row_heading level0 row17\" >parks_around3000</th>\n",
       "                        <td id=\"T_c7409_row17_col0\" class=\"data row17 col0\" >23.000000</td>\n",
       "            </tr>\n",
       "            <tr>\n",
       "                        <th id=\"T_c7409_level0_row18\" class=\"row_heading level0 row18\" >parks_nearest</th>\n",
       "                        <td id=\"T_c7409_row18_col0\" class=\"data row18 col0\" >66.000000</td>\n",
       "            </tr>\n",
       "            <tr>\n",
       "                        <th id=\"T_c7409_level0_row19\" class=\"row_heading level0 row19\" >ponds_around3000</th>\n",
       "                        <td id=\"T_c7409_row19_col0\" class=\"data row19 col0\" >23.000000</td>\n",
       "            </tr>\n",
       "            <tr>\n",
       "                        <th id=\"T_c7409_level0_row20\" class=\"row_heading level0 row20\" >ponds_nearest</th>\n",
       "                        <td id=\"T_c7409_row20_col0\" class=\"data row20 col0\" >62.000000</td>\n",
       "            </tr>\n",
       "            <tr>\n",
       "                        <th id=\"T_c7409_level0_row21\" class=\"row_heading level0 row21\" >days_exposition</th>\n",
       "                        <td id=\"T_c7409_row21_col0\" class=\"data row21 col0\" >13.000000</td>\n",
       "            </tr>\n",
       "    </tbody></table>"
      ],
      "text/plain": [
       "<pandas.io.formats.style.Styler at 0x7f821ccdd0d0>"
      ]
     },
     "execution_count": 10,
     "metadata": {},
     "output_type": "execute_result"
    }
   ],
   "source": [
    "pd.DataFrame(round(data.isna().mean()*100,)).style.background_gradient('coolwarm')"
   ]
  },
  {
   "cell_type": "code",
   "execution_count": 11,
   "metadata": {},
   "outputs": [
    {
     "name": "stderr",
     "output_type": "stream",
     "text": [
      "/opt/conda/lib/python3.9/site-packages/numpy/lib/nanfunctions.py:1117: RuntimeWarning: Mean of empty slice\n",
      "  return np.nanmean(a, axis, out=out, keepdims=keepdims)\n",
      "/opt/conda/lib/python3.9/site-packages/numpy/lib/nanfunctions.py:1117: RuntimeWarning: Mean of empty slice\n",
      "  return np.nanmean(a, axis, out=out, keepdims=keepdims)\n",
      "/opt/conda/lib/python3.9/site-packages/numpy/lib/nanfunctions.py:1117: RuntimeWarning: Mean of empty slice\n",
      "  return np.nanmean(a, axis, out=out, keepdims=keepdims)\n",
      "/opt/conda/lib/python3.9/site-packages/numpy/lib/nanfunctions.py:1117: RuntimeWarning: Mean of empty slice\n",
      "  return np.nanmean(a, axis, out=out, keepdims=keepdims)\n",
      "/opt/conda/lib/python3.9/site-packages/numpy/lib/nanfunctions.py:1117: RuntimeWarning: Mean of empty slice\n",
      "  return np.nanmean(a, axis, out=out, keepdims=keepdims)\n",
      "/opt/conda/lib/python3.9/site-packages/numpy/lib/nanfunctions.py:1117: RuntimeWarning: Mean of empty slice\n",
      "  return np.nanmean(a, axis, out=out, keepdims=keepdims)\n",
      "/opt/conda/lib/python3.9/site-packages/numpy/lib/nanfunctions.py:1117: RuntimeWarning: Mean of empty slice\n",
      "  return np.nanmean(a, axis, out=out, keepdims=keepdims)\n",
      "/opt/conda/lib/python3.9/site-packages/numpy/lib/nanfunctions.py:1117: RuntimeWarning: Mean of empty slice\n",
      "  return np.nanmean(a, axis, out=out, keepdims=keepdims)\n",
      "/opt/conda/lib/python3.9/site-packages/numpy/lib/nanfunctions.py:1117: RuntimeWarning: Mean of empty slice\n",
      "  return np.nanmean(a, axis, out=out, keepdims=keepdims)\n",
      "/opt/conda/lib/python3.9/site-packages/numpy/lib/nanfunctions.py:1117: RuntimeWarning: Mean of empty slice\n",
      "  return np.nanmean(a, axis, out=out, keepdims=keepdims)\n",
      "/opt/conda/lib/python3.9/site-packages/numpy/lib/nanfunctions.py:1117: RuntimeWarning: Mean of empty slice\n",
      "  return np.nanmean(a, axis, out=out, keepdims=keepdims)\n",
      "/opt/conda/lib/python3.9/site-packages/numpy/lib/nanfunctions.py:1117: RuntimeWarning: Mean of empty slice\n",
      "  return np.nanmean(a, axis, out=out, keepdims=keepdims)\n",
      "/opt/conda/lib/python3.9/site-packages/numpy/lib/nanfunctions.py:1117: RuntimeWarning: Mean of empty slice\n",
      "  return np.nanmean(a, axis, out=out, keepdims=keepdims)\n",
      "/opt/conda/lib/python3.9/site-packages/numpy/lib/nanfunctions.py:1117: RuntimeWarning: Mean of empty slice\n",
      "  return np.nanmean(a, axis, out=out, keepdims=keepdims)\n",
      "/opt/conda/lib/python3.9/site-packages/numpy/lib/nanfunctions.py:1117: RuntimeWarning: Mean of empty slice\n",
      "  return np.nanmean(a, axis, out=out, keepdims=keepdims)\n",
      "/opt/conda/lib/python3.9/site-packages/numpy/lib/nanfunctions.py:1117: RuntimeWarning: Mean of empty slice\n",
      "  return np.nanmean(a, axis, out=out, keepdims=keepdims)\n",
      "/opt/conda/lib/python3.9/site-packages/numpy/lib/nanfunctions.py:1117: RuntimeWarning: Mean of empty slice\n",
      "  return np.nanmean(a, axis, out=out, keepdims=keepdims)\n",
      "/opt/conda/lib/python3.9/site-packages/numpy/lib/nanfunctions.py:1117: RuntimeWarning: Mean of empty slice\n",
      "  return np.nanmean(a, axis, out=out, keepdims=keepdims)\n",
      "/opt/conda/lib/python3.9/site-packages/numpy/lib/nanfunctions.py:1117: RuntimeWarning: Mean of empty slice\n",
      "  return np.nanmean(a, axis, out=out, keepdims=keepdims)\n",
      "/opt/conda/lib/python3.9/site-packages/numpy/lib/nanfunctions.py:1117: RuntimeWarning: Mean of empty slice\n",
      "  return np.nanmean(a, axis, out=out, keepdims=keepdims)\n",
      "/opt/conda/lib/python3.9/site-packages/numpy/lib/nanfunctions.py:1117: RuntimeWarning: Mean of empty slice\n",
      "  return np.nanmean(a, axis, out=out, keepdims=keepdims)\n",
      "/opt/conda/lib/python3.9/site-packages/numpy/lib/nanfunctions.py:1117: RuntimeWarning: Mean of empty slice\n",
      "  return np.nanmean(a, axis, out=out, keepdims=keepdims)\n",
      "/opt/conda/lib/python3.9/site-packages/numpy/lib/nanfunctions.py:1117: RuntimeWarning: Mean of empty slice\n",
      "  return np.nanmean(a, axis, out=out, keepdims=keepdims)\n",
      "/opt/conda/lib/python3.9/site-packages/numpy/lib/nanfunctions.py:1117: RuntimeWarning: Mean of empty slice\n",
      "  return np.nanmean(a, axis, out=out, keepdims=keepdims)\n",
      "/opt/conda/lib/python3.9/site-packages/numpy/lib/nanfunctions.py:1117: RuntimeWarning: Mean of empty slice\n",
      "  return np.nanmean(a, axis, out=out, keepdims=keepdims)\n",
      "/opt/conda/lib/python3.9/site-packages/numpy/lib/nanfunctions.py:1117: RuntimeWarning: Mean of empty slice\n",
      "  return np.nanmean(a, axis, out=out, keepdims=keepdims)\n",
      "/opt/conda/lib/python3.9/site-packages/numpy/lib/nanfunctions.py:1117: RuntimeWarning: Mean of empty slice\n",
      "  return np.nanmean(a, axis, out=out, keepdims=keepdims)\n",
      "/opt/conda/lib/python3.9/site-packages/numpy/lib/nanfunctions.py:1117: RuntimeWarning: Mean of empty slice\n",
      "  return np.nanmean(a, axis, out=out, keepdims=keepdims)\n",
      "/opt/conda/lib/python3.9/site-packages/numpy/lib/nanfunctions.py:1117: RuntimeWarning: Mean of empty slice\n",
      "  return np.nanmean(a, axis, out=out, keepdims=keepdims)\n",
      "/opt/conda/lib/python3.9/site-packages/numpy/lib/nanfunctions.py:1117: RuntimeWarning: Mean of empty slice\n",
      "  return np.nanmean(a, axis, out=out, keepdims=keepdims)\n",
      "/opt/conda/lib/python3.9/site-packages/numpy/lib/nanfunctions.py:1117: RuntimeWarning: Mean of empty slice\n",
      "  return np.nanmean(a, axis, out=out, keepdims=keepdims)\n",
      "/opt/conda/lib/python3.9/site-packages/numpy/lib/nanfunctions.py:1117: RuntimeWarning: Mean of empty slice\n",
      "  return np.nanmean(a, axis, out=out, keepdims=keepdims)\n",
      "/opt/conda/lib/python3.9/site-packages/numpy/lib/nanfunctions.py:1117: RuntimeWarning: Mean of empty slice\n",
      "  return np.nanmean(a, axis, out=out, keepdims=keepdims)\n",
      "/opt/conda/lib/python3.9/site-packages/numpy/lib/nanfunctions.py:1117: RuntimeWarning: Mean of empty slice\n",
      "  return np.nanmean(a, axis, out=out, keepdims=keepdims)\n",
      "/opt/conda/lib/python3.9/site-packages/numpy/lib/nanfunctions.py:1117: RuntimeWarning: Mean of empty slice\n",
      "  return np.nanmean(a, axis, out=out, keepdims=keepdims)\n",
      "/opt/conda/lib/python3.9/site-packages/numpy/lib/nanfunctions.py:1117: RuntimeWarning: Mean of empty slice\n",
      "  return np.nanmean(a, axis, out=out, keepdims=keepdims)\n",
      "/opt/conda/lib/python3.9/site-packages/numpy/lib/nanfunctions.py:1117: RuntimeWarning: Mean of empty slice\n",
      "  return np.nanmean(a, axis, out=out, keepdims=keepdims)\n",
      "/opt/conda/lib/python3.9/site-packages/numpy/lib/nanfunctions.py:1117: RuntimeWarning: Mean of empty slice\n",
      "  return np.nanmean(a, axis, out=out, keepdims=keepdims)\n",
      "/opt/conda/lib/python3.9/site-packages/numpy/lib/nanfunctions.py:1117: RuntimeWarning: Mean of empty slice\n",
      "  return np.nanmean(a, axis, out=out, keepdims=keepdims)\n",
      "/opt/conda/lib/python3.9/site-packages/numpy/lib/nanfunctions.py:1117: RuntimeWarning: Mean of empty slice\n",
      "  return np.nanmean(a, axis, out=out, keepdims=keepdims)\n",
      "/opt/conda/lib/python3.9/site-packages/numpy/lib/nanfunctions.py:1117: RuntimeWarning: Mean of empty slice\n",
      "  return np.nanmean(a, axis, out=out, keepdims=keepdims)\n",
      "/opt/conda/lib/python3.9/site-packages/numpy/lib/nanfunctions.py:1117: RuntimeWarning: Mean of empty slice\n",
      "  return np.nanmean(a, axis, out=out, keepdims=keepdims)\n",
      "/opt/conda/lib/python3.9/site-packages/numpy/lib/nanfunctions.py:1117: RuntimeWarning: Mean of empty slice\n",
      "  return np.nanmean(a, axis, out=out, keepdims=keepdims)\n",
      "/opt/conda/lib/python3.9/site-packages/numpy/lib/nanfunctions.py:1117: RuntimeWarning: Mean of empty slice\n",
      "  return np.nanmean(a, axis, out=out, keepdims=keepdims)\n",
      "/opt/conda/lib/python3.9/site-packages/numpy/lib/nanfunctions.py:1117: RuntimeWarning: Mean of empty slice\n",
      "  return np.nanmean(a, axis, out=out, keepdims=keepdims)\n",
      "/opt/conda/lib/python3.9/site-packages/numpy/lib/nanfunctions.py:1117: RuntimeWarning: Mean of empty slice\n",
      "  return np.nanmean(a, axis, out=out, keepdims=keepdims)\n",
      "/opt/conda/lib/python3.9/site-packages/numpy/lib/nanfunctions.py:1117: RuntimeWarning: Mean of empty slice\n",
      "  return np.nanmean(a, axis, out=out, keepdims=keepdims)\n",
      "/opt/conda/lib/python3.9/site-packages/numpy/lib/nanfunctions.py:1117: RuntimeWarning: Mean of empty slice\n",
      "  return np.nanmean(a, axis, out=out, keepdims=keepdims)\n",
      "/opt/conda/lib/python3.9/site-packages/numpy/lib/nanfunctions.py:1117: RuntimeWarning: Mean of empty slice\n",
      "  return np.nanmean(a, axis, out=out, keepdims=keepdims)\n",
      "/opt/conda/lib/python3.9/site-packages/numpy/lib/nanfunctions.py:1117: RuntimeWarning: Mean of empty slice\n",
      "  return np.nanmean(a, axis, out=out, keepdims=keepdims)\n",
      "/opt/conda/lib/python3.9/site-packages/numpy/lib/nanfunctions.py:1117: RuntimeWarning: Mean of empty slice\n",
      "  return np.nanmean(a, axis, out=out, keepdims=keepdims)\n",
      "/opt/conda/lib/python3.9/site-packages/numpy/lib/nanfunctions.py:1117: RuntimeWarning: Mean of empty slice\n",
      "  return np.nanmean(a, axis, out=out, keepdims=keepdims)\n",
      "/opt/conda/lib/python3.9/site-packages/numpy/lib/nanfunctions.py:1117: RuntimeWarning: Mean of empty slice\n",
      "  return np.nanmean(a, axis, out=out, keepdims=keepdims)\n",
      "/opt/conda/lib/python3.9/site-packages/numpy/lib/nanfunctions.py:1117: RuntimeWarning: Mean of empty slice\n",
      "  return np.nanmean(a, axis, out=out, keepdims=keepdims)\n",
      "/opt/conda/lib/python3.9/site-packages/numpy/lib/nanfunctions.py:1117: RuntimeWarning: Mean of empty slice\n",
      "  return np.nanmean(a, axis, out=out, keepdims=keepdims)\n",
      "/opt/conda/lib/python3.9/site-packages/numpy/lib/nanfunctions.py:1117: RuntimeWarning: Mean of empty slice\n",
      "  return np.nanmean(a, axis, out=out, keepdims=keepdims)\n",
      "/opt/conda/lib/python3.9/site-packages/numpy/lib/nanfunctions.py:1117: RuntimeWarning: Mean of empty slice\n",
      "  return np.nanmean(a, axis, out=out, keepdims=keepdims)\n",
      "/opt/conda/lib/python3.9/site-packages/numpy/lib/nanfunctions.py:1117: RuntimeWarning: Mean of empty slice\n",
      "  return np.nanmean(a, axis, out=out, keepdims=keepdims)\n",
      "/opt/conda/lib/python3.9/site-packages/numpy/lib/nanfunctions.py:1117: RuntimeWarning: Mean of empty slice\n",
      "  return np.nanmean(a, axis, out=out, keepdims=keepdims)\n",
      "/opt/conda/lib/python3.9/site-packages/numpy/lib/nanfunctions.py:1117: RuntimeWarning: Mean of empty slice\n",
      "  return np.nanmean(a, axis, out=out, keepdims=keepdims)\n",
      "/opt/conda/lib/python3.9/site-packages/numpy/lib/nanfunctions.py:1117: RuntimeWarning: Mean of empty slice\n",
      "  return np.nanmean(a, axis, out=out, keepdims=keepdims)\n",
      "/opt/conda/lib/python3.9/site-packages/numpy/lib/nanfunctions.py:1117: RuntimeWarning: Mean of empty slice\n",
      "  return np.nanmean(a, axis, out=out, keepdims=keepdims)\n",
      "/opt/conda/lib/python3.9/site-packages/numpy/lib/nanfunctions.py:1117: RuntimeWarning: Mean of empty slice\n",
      "  return np.nanmean(a, axis, out=out, keepdims=keepdims)\n",
      "/opt/conda/lib/python3.9/site-packages/numpy/lib/nanfunctions.py:1117: RuntimeWarning: Mean of empty slice\n",
      "  return np.nanmean(a, axis, out=out, keepdims=keepdims)\n",
      "/opt/conda/lib/python3.9/site-packages/numpy/lib/nanfunctions.py:1117: RuntimeWarning: Mean of empty slice\n",
      "  return np.nanmean(a, axis, out=out, keepdims=keepdims)\n",
      "/opt/conda/lib/python3.9/site-packages/numpy/lib/nanfunctions.py:1117: RuntimeWarning: Mean of empty slice\n",
      "  return np.nanmean(a, axis, out=out, keepdims=keepdims)\n",
      "/opt/conda/lib/python3.9/site-packages/numpy/lib/nanfunctions.py:1117: RuntimeWarning: Mean of empty slice\n",
      "  return np.nanmean(a, axis, out=out, keepdims=keepdims)\n",
      "/opt/conda/lib/python3.9/site-packages/numpy/lib/nanfunctions.py:1117: RuntimeWarning: Mean of empty slice\n",
      "  return np.nanmean(a, axis, out=out, keepdims=keepdims)\n",
      "/opt/conda/lib/python3.9/site-packages/numpy/lib/nanfunctions.py:1117: RuntimeWarning: Mean of empty slice\n",
      "  return np.nanmean(a, axis, out=out, keepdims=keepdims)\n",
      "/opt/conda/lib/python3.9/site-packages/numpy/lib/nanfunctions.py:1117: RuntimeWarning: Mean of empty slice\n",
      "  return np.nanmean(a, axis, out=out, keepdims=keepdims)\n",
      "/opt/conda/lib/python3.9/site-packages/numpy/lib/nanfunctions.py:1117: RuntimeWarning: Mean of empty slice\n",
      "  return np.nanmean(a, axis, out=out, keepdims=keepdims)\n",
      "/opt/conda/lib/python3.9/site-packages/numpy/lib/nanfunctions.py:1117: RuntimeWarning: Mean of empty slice\n",
      "  return np.nanmean(a, axis, out=out, keepdims=keepdims)\n",
      "/opt/conda/lib/python3.9/site-packages/numpy/lib/nanfunctions.py:1117: RuntimeWarning: Mean of empty slice\n",
      "  return np.nanmean(a, axis, out=out, keepdims=keepdims)\n",
      "/opt/conda/lib/python3.9/site-packages/numpy/lib/nanfunctions.py:1117: RuntimeWarning: Mean of empty slice\n",
      "  return np.nanmean(a, axis, out=out, keepdims=keepdims)\n",
      "/opt/conda/lib/python3.9/site-packages/numpy/lib/nanfunctions.py:1117: RuntimeWarning: Mean of empty slice\n",
      "  return np.nanmean(a, axis, out=out, keepdims=keepdims)\n",
      "/opt/conda/lib/python3.9/site-packages/numpy/lib/nanfunctions.py:1117: RuntimeWarning: Mean of empty slice\n",
      "  return np.nanmean(a, axis, out=out, keepdims=keepdims)\n",
      "/opt/conda/lib/python3.9/site-packages/numpy/lib/nanfunctions.py:1117: RuntimeWarning: Mean of empty slice\n",
      "  return np.nanmean(a, axis, out=out, keepdims=keepdims)\n",
      "/opt/conda/lib/python3.9/site-packages/numpy/lib/nanfunctions.py:1117: RuntimeWarning: Mean of empty slice\n",
      "  return np.nanmean(a, axis, out=out, keepdims=keepdims)\n",
      "/opt/conda/lib/python3.9/site-packages/numpy/lib/nanfunctions.py:1117: RuntimeWarning: Mean of empty slice\n",
      "  return np.nanmean(a, axis, out=out, keepdims=keepdims)\n",
      "/opt/conda/lib/python3.9/site-packages/numpy/lib/nanfunctions.py:1117: RuntimeWarning: Mean of empty slice\n",
      "  return np.nanmean(a, axis, out=out, keepdims=keepdims)\n",
      "/opt/conda/lib/python3.9/site-packages/numpy/lib/nanfunctions.py:1117: RuntimeWarning: Mean of empty slice\n",
      "  return np.nanmean(a, axis, out=out, keepdims=keepdims)\n"
     ]
    }
   ],
   "source": [
    "for locality_name in data['locality_name'].unique():  #пройдемся по всем уникальным значениям населенных пунктов\n",
    "    median = data.loc[data['locality_name'] == locality_name,'ceiling_height'].median() #найдем медиану для конкретного населенного пункта\n",
    "     #присваиваем значение, если есть пропуск\n",
    "data.loc[data['ceiling_height'].isna(),'ceiling_height'] = data['ceiling_height'].median()"
   ]
  },
  {
   "cell_type": "code",
   "execution_count": 12,
   "metadata": {},
   "outputs": [],
   "source": [
    "data.loc[(data['is_apartment'].isna()),'is_apartment'] = False"
   ]
  },
  {
   "cell_type": "markdown",
   "metadata": {},
   "source": [
    "#### Изменение типов данных"
   ]
  },
  {
   "cell_type": "markdown",
   "metadata": {},
   "source": [
    "Посмотрев на исходные данные, понимаем, что нужно заменить дату и время специальный тип datetime"
   ]
  },
  {
   "cell_type": "code",
   "execution_count": 13,
   "metadata": {},
   "outputs": [
    {
     "data": {
      "text/plain": [
       "0    2019-03-07T00:00:00\n",
       "1    2018-12-04T00:00:00\n",
       "2    2015-08-20T00:00:00\n",
       "3    2015-07-24T00:00:00\n",
       "4    2018-06-19T00:00:00\n",
       "Name: first_day_exposition, dtype: object"
      ]
     },
     "execution_count": 13,
     "metadata": {},
     "output_type": "execute_result"
    }
   ],
   "source": [
    "data['first_day_exposition'].head()  "
   ]
  },
  {
   "cell_type": "code",
   "execution_count": 14,
   "metadata": {},
   "outputs": [
    {
     "data": {
      "text/plain": [
       "0       2019-03-07\n",
       "1       2018-12-04\n",
       "2       2015-08-20\n",
       "3       2015-07-24\n",
       "4       2018-06-19\n",
       "           ...    \n",
       "23694   2017-03-21\n",
       "23695   2018-01-15\n",
       "23696   2018-02-11\n",
       "23697   2017-03-28\n",
       "23698   2017-07-21\n",
       "Name: first_day_exposition, Length: 23699, dtype: datetime64[ns]"
      ]
     },
     "execution_count": 14,
     "metadata": {},
     "output_type": "execute_result"
    }
   ],
   "source": [
    "data['first_day_exposition'] = pd.to_datetime(data['first_day_exposition'], format='%Y-%m-%dT%H:%M:%S')\n",
    "data['first_day_exposition'] "
   ]
  },
  {
   "cell_type": "markdown",
   "metadata": {},
   "source": [
    "Также нужно заменить высоту потолков на тип float\n"
   ]
  },
  {
   "cell_type": "code",
   "execution_count": 15,
   "metadata": {},
   "outputs": [
    {
     "data": {
      "text/plain": [
       "0        2.70\n",
       "1        2.65\n",
       "2        2.65\n",
       "3        2.65\n",
       "4        3.03\n",
       "         ... \n",
       "23694    3.70\n",
       "23695    2.65\n",
       "23696    2.65\n",
       "23697    3.00\n",
       "23698    2.50\n",
       "Name: ceiling_height, Length: 23699, dtype: float64"
      ]
     },
     "execution_count": 15,
     "metadata": {},
     "output_type": "execute_result"
    }
   ],
   "source": [
    "data['ceiling_height'] = pd.to_numeric(data['ceiling_height'], errors='ignore')\n",
    "data['ceiling_height']"
   ]
  },
  {
   "cell_type": "code",
   "execution_count": 16,
   "metadata": {
    "scrolled": true
   },
   "outputs": [
    {
     "name": "stdout",
     "output_type": "stream",
     "text": [
      "<class 'pandas.core.frame.DataFrame'>\n",
      "RangeIndex: 23699 entries, 0 to 23698\n",
      "Data columns (total 22 columns):\n",
      " #   Column                Non-Null Count  Dtype         \n",
      "---  ------                --------------  -----         \n",
      " 0   total_images          23699 non-null  int64         \n",
      " 1   last_price            23699 non-null  float64       \n",
      " 2   total_area            23699 non-null  float64       \n",
      " 3   first_day_exposition  23699 non-null  datetime64[ns]\n",
      " 4   rooms                 23699 non-null  int64         \n",
      " 5   ceiling_height        23699 non-null  float64       \n",
      " 6   floors_total          23613 non-null  float64       \n",
      " 7   living_area           22235 non-null  float64       \n",
      " 8   floor                 23699 non-null  int64         \n",
      " 9   is_apartment          23699 non-null  object        \n",
      " 10  studio                23699 non-null  bool          \n",
      " 11  open_plan             23699 non-null  bool          \n",
      " 12  kitchen_area          23558 non-null  float64       \n",
      " 13  balcony               23699 non-null  float64       \n",
      " 14  locality_name         23650 non-null  object        \n",
      " 15  airports_nearest      18157 non-null  float64       \n",
      " 16  cityCenters_nearest   18180 non-null  float64       \n",
      " 17  parks_around3000      18181 non-null  float64       \n",
      " 18  parks_nearest         8079 non-null   float64       \n",
      " 19  ponds_around3000      18181 non-null  float64       \n",
      " 20  ponds_nearest         9110 non-null   float64       \n",
      " 21  days_exposition       20518 non-null  float64       \n",
      "dtypes: bool(2), datetime64[ns](1), float64(14), int64(3), object(2)\n",
      "memory usage: 3.7+ MB\n"
     ]
    }
   ],
   "source": [
    "data.info()"
   ]
  },
  {
   "cell_type": "markdown",
   "metadata": {},
   "source": []
  },
  {
   "cell_type": "code",
   "execution_count": 17,
   "metadata": {},
   "outputs": [
    {
     "data": {
      "text/plain": [
       "0        0\n",
       "1        2\n",
       "2        0\n",
       "3        0\n",
       "4        0\n",
       "        ..\n",
       "23694    0\n",
       "23695    0\n",
       "23696    0\n",
       "23697    2\n",
       "23698    0\n",
       "Name: balcony, Length: 23699, dtype: int64"
      ]
     },
     "execution_count": 17,
     "metadata": {},
     "output_type": "execute_result"
    }
   ],
   "source": [
    "data['balcony'] = data['balcony'].astype('int')\n",
    "data['balcony']"
   ]
  },
  {
   "cell_type": "markdown",
   "metadata": {},
   "source": [
    "#### Работа с дубликатами"
   ]
  },
  {
   "cell_type": "code",
   "execution_count": 18,
   "metadata": {},
   "outputs": [
    {
     "data": {
      "text/plain": [
       "0"
      ]
     },
     "execution_count": 18,
     "metadata": {},
     "output_type": "execute_result"
    }
   ],
   "source": [
    "data.duplicated().sum()"
   ]
  },
  {
   "cell_type": "markdown",
   "metadata": {},
   "source": [
    "Явных дубликатов в данных нет. Найдем и избавимся от неявных дубликатов, для этого создам функцию, которая уберет типы поселений(деревня, поселок и тд)."
   ]
  },
  {
   "cell_type": "code",
   "execution_count": 19,
   "metadata": {},
   "outputs": [
    {
     "data": {
      "text/plain": [
       "['nan',\n",
       " 'Бокситогорск',\n",
       " 'Волосово',\n",
       " 'Волхов',\n",
       " 'Всеволожск',\n",
       " 'Выборг',\n",
       " 'Высоцк',\n",
       " 'Гатчина',\n",
       " 'Зеленогорск',\n",
       " 'Ивангород',\n",
       " 'Каменногорск',\n",
       " 'Кингисепп',\n",
       " 'Кириши',\n",
       " 'Кировск',\n",
       " 'Колпино',\n",
       " 'Коммунар',\n",
       " 'Красное Село',\n",
       " 'Кронштадт',\n",
       " 'Кудрово',\n",
       " 'Лодейное Поле',\n",
       " 'Ломоносов',\n",
       " 'Луга',\n",
       " 'Любань',\n",
       " 'Мурино',\n",
       " 'Никольское',\n",
       " 'Новая Ладога',\n",
       " 'Отрадное',\n",
       " 'Павловск',\n",
       " 'Петергоф',\n",
       " 'Пикалёво',\n",
       " 'Подпорожье',\n",
       " 'Приморск',\n",
       " 'Приозерск',\n",
       " 'Пушкин',\n",
       " 'Санкт-Петербург',\n",
       " 'Светогорск',\n",
       " 'Сертолово',\n",
       " 'Сестрорецк',\n",
       " 'Сланцы',\n",
       " 'Сосновый Бор',\n",
       " 'Сясьстрой',\n",
       " 'Тихвин',\n",
       " 'Тосно',\n",
       " 'Шлиссельбург',\n",
       " 'городской поселок Большая Ижора',\n",
       " 'городской поселок Янино-1',\n",
       " 'городской посёлок Будогощь',\n",
       " 'городской посёлок Виллози',\n",
       " 'городской посёлок Лесогорский',\n",
       " 'городской посёлок Мга',\n",
       " 'городской посёлок Назия',\n",
       " 'городской посёлок Новоселье',\n",
       " 'городской посёлок Павлово',\n",
       " 'городской посёлок Рощино',\n",
       " 'городской посёлок Свирьстрой',\n",
       " 'городской посёлок Советский',\n",
       " 'городской посёлок Фёдоровское',\n",
       " 'городской посёлок Янино-1',\n",
       " 'деревня Агалатово',\n",
       " 'деревня Аро',\n",
       " 'деревня Батово',\n",
       " 'деревня Бегуницы',\n",
       " 'деревня Белогорка',\n",
       " 'деревня Большая Вруда',\n",
       " 'деревня Большая Пустомержа',\n",
       " 'деревня Большие Колпаны',\n",
       " 'деревня Большое Рейзино',\n",
       " 'деревня Большой Сабск',\n",
       " 'деревня Бор',\n",
       " 'деревня Борисова Грива',\n",
       " 'деревня Ваганово',\n",
       " 'деревня Вартемяги',\n",
       " 'деревня Вахнова Кара',\n",
       " 'деревня Выскатка',\n",
       " 'деревня Гарболово',\n",
       " 'деревня Глинка',\n",
       " 'деревня Горбунки',\n",
       " 'деревня Гостилицы',\n",
       " 'деревня Заклинье',\n",
       " 'деревня Заневка',\n",
       " 'деревня Зимитицы',\n",
       " 'деревня Извара',\n",
       " 'деревня Иссад',\n",
       " 'деревня Калитино',\n",
       " 'деревня Кальтино',\n",
       " 'деревня Камышовка',\n",
       " 'деревня Каськово',\n",
       " 'деревня Келози',\n",
       " 'деревня Кипень',\n",
       " 'деревня Кисельня',\n",
       " 'деревня Колтуши',\n",
       " 'деревня Коркино',\n",
       " 'деревня Котлы',\n",
       " 'деревня Кривко',\n",
       " 'деревня Кудрово',\n",
       " 'деревня Кузьмолово',\n",
       " 'деревня Курковицы',\n",
       " 'деревня Куровицы',\n",
       " 'деревня Куттузи',\n",
       " 'деревня Лаврики',\n",
       " 'деревня Лаголово',\n",
       " 'деревня Лампово',\n",
       " 'деревня Лесколово',\n",
       " 'деревня Лопухинка',\n",
       " 'деревня Лупполово',\n",
       " 'деревня Малая Романовка',\n",
       " 'деревня Малое Верево',\n",
       " 'деревня Малое Карлино',\n",
       " 'деревня Малые Колпаны',\n",
       " 'деревня Мануйлово',\n",
       " 'деревня Меньково',\n",
       " 'деревня Мины',\n",
       " 'деревня Мистолово',\n",
       " 'деревня Ненимяки',\n",
       " 'деревня Нижние Осельки',\n",
       " 'деревня Нижняя',\n",
       " 'деревня Низино',\n",
       " 'деревня Новое Девяткино',\n",
       " 'деревня Новолисино',\n",
       " 'деревня Нурма',\n",
       " 'деревня Оржицы',\n",
       " 'деревня Парицы',\n",
       " 'деревня Пельгора',\n",
       " 'деревня Пеники',\n",
       " 'деревня Пижма',\n",
       " 'деревня Пикколово',\n",
       " 'деревня Пудомяги',\n",
       " 'деревня Пустынка',\n",
       " 'деревня Пчева',\n",
       " 'деревня Рабитицы',\n",
       " 'деревня Разбегаево',\n",
       " 'деревня Раздолье',\n",
       " 'деревня Разметелево',\n",
       " 'деревня Рапполово',\n",
       " 'деревня Реброво',\n",
       " 'деревня Русско',\n",
       " 'деревня Сижно',\n",
       " 'деревня Снегирёвка',\n",
       " 'деревня Старая',\n",
       " 'деревня Старая Пустошь',\n",
       " 'деревня Старое Хинколово',\n",
       " 'деревня Старополье',\n",
       " 'деревня Старосиверская',\n",
       " 'деревня Старые Бегуницы',\n",
       " 'деревня Суоранда',\n",
       " 'деревня Сяськелево',\n",
       " 'деревня Тарасово',\n",
       " 'деревня Терпилицы',\n",
       " 'деревня Тихковицы',\n",
       " 'деревня Тойворово',\n",
       " 'деревня Торосово',\n",
       " 'деревня Торошковичи',\n",
       " 'деревня Трубников Бор',\n",
       " 'деревня Фалилеево',\n",
       " 'деревня Фёдоровское',\n",
       " 'деревня Хапо-Ое',\n",
       " 'деревня Хязельки',\n",
       " 'деревня Чудской Бор',\n",
       " 'деревня Шпаньково',\n",
       " 'деревня Щеглово',\n",
       " 'деревня Юкки',\n",
       " 'деревня Ялгино',\n",
       " 'деревня Яльгелево',\n",
       " 'деревня Ям-Тесово',\n",
       " 'коттеджный поселок Кивеннапа Север',\n",
       " 'коттеджный поселок Счастье',\n",
       " 'коттеджный посёлок Лесное',\n",
       " 'поселок Аннино',\n",
       " 'поселок Барышево',\n",
       " 'поселок Бугры',\n",
       " 'поселок Возрождение',\n",
       " 'поселок Войсковицы',\n",
       " 'поселок Володарское',\n",
       " 'поселок Гаврилово',\n",
       " 'поселок Гарболово',\n",
       " 'поселок Гладкое',\n",
       " 'поселок Глажево',\n",
       " 'поселок Глебычево',\n",
       " 'поселок Гончарово',\n",
       " 'поселок Громово',\n",
       " 'поселок Дружноселье',\n",
       " 'поселок Елизаветино',\n",
       " 'поселок Жилгородок',\n",
       " 'поселок Жилпосёлок',\n",
       " 'поселок Житково',\n",
       " 'поселок Заводской',\n",
       " 'поселок Запорожское',\n",
       " 'поселок Зимитицы',\n",
       " 'поселок Ильичёво',\n",
       " 'поселок Калитино',\n",
       " 'поселок Каложицы',\n",
       " 'поселок Кингисеппский',\n",
       " 'поселок Кирпичное',\n",
       " 'поселок Кобралово',\n",
       " 'поселок Кобринское',\n",
       " 'поселок Коммунары',\n",
       " 'поселок Коробицыно',\n",
       " 'поселок Котельский',\n",
       " 'поселок Красная Долина',\n",
       " 'поселок Красносельское',\n",
       " 'поселок Лесное',\n",
       " 'поселок Лисий Нос',\n",
       " 'поселок Лукаши',\n",
       " 'поселок Любань',\n",
       " 'поселок Мельниково',\n",
       " 'поселок Мичуринское',\n",
       " 'поселок Молодцово',\n",
       " 'поселок Мурино',\n",
       " 'поселок Новый Свет',\n",
       " 'поселок Новый Учхоз',\n",
       " 'поселок Оредеж',\n",
       " 'поселок Пансионат Зелёный Бор',\n",
       " 'поселок Первомайское',\n",
       " 'поселок Перово',\n",
       " 'поселок Петровское',\n",
       " 'поселок Победа',\n",
       " 'поселок Поляны',\n",
       " 'поселок Почап',\n",
       " 'поселок Починок',\n",
       " 'поселок Пушное',\n",
       " 'поселок Пчевжа',\n",
       " 'поселок Рабитицы',\n",
       " 'поселок Романовка',\n",
       " 'поселок Ромашки',\n",
       " 'поселок Рябово',\n",
       " 'поселок Севастьяново',\n",
       " 'поселок Селезнёво',\n",
       " 'поселок Сельцо',\n",
       " 'поселок Семиозерье',\n",
       " 'поселок Семрино',\n",
       " 'поселок Серебрянский',\n",
       " 'поселок Совхозный',\n",
       " 'поселок Старая Малукса',\n",
       " 'поселок Стеклянный',\n",
       " 'поселок Сумино',\n",
       " 'поселок Суходолье',\n",
       " 'поселок Тельмана',\n",
       " 'поселок Терволово',\n",
       " 'поселок Торковичи',\n",
       " 'поселок Тёсово-4',\n",
       " 'поселок Углово',\n",
       " 'поселок Усть-Луга',\n",
       " 'поселок Ушаки',\n",
       " 'поселок Цвелодубово',\n",
       " 'поселок Цвылёво',\n",
       " 'поселок городского типа Большая Ижора',\n",
       " 'поселок городского типа Вырица',\n",
       " 'поселок городского типа Дружная Горка',\n",
       " 'поселок городского типа Дубровка',\n",
       " 'поселок городского типа Ефимовский',\n",
       " 'поселок городского типа Кондратьево',\n",
       " 'поселок городского типа Красный Бор',\n",
       " 'поселок городского типа Кузьмоловский',\n",
       " 'поселок городского типа Лебяжье',\n",
       " 'поселок городского типа Лесогорский',\n",
       " 'поселок городского типа Назия',\n",
       " 'поселок городского типа Никольский',\n",
       " 'поселок городского типа Приладожский',\n",
       " 'поселок городского типа Рахья',\n",
       " 'поселок городского типа Рощино',\n",
       " 'поселок городского типа Рябово',\n",
       " 'поселок городского типа Синявино',\n",
       " 'поселок городского типа Советский',\n",
       " 'поселок городского типа Токсово',\n",
       " 'поселок городского типа Форносово',\n",
       " 'поселок городского типа имени Свердлова',\n",
       " 'поселок станции Вещево',\n",
       " 'поселок станции Корнево',\n",
       " 'поселок станции Лужайка',\n",
       " 'поселок станции Приветнинское',\n",
       " 'посёлок Александровская',\n",
       " 'посёлок Алексеевка',\n",
       " 'посёлок Аннино',\n",
       " 'посёлок Белоостров',\n",
       " 'посёлок Бугры',\n",
       " 'посёлок Возрождение',\n",
       " 'посёлок Войскорово',\n",
       " 'посёлок Высокоключевой',\n",
       " 'посёлок Гаврилово',\n",
       " 'посёлок Дзержинского',\n",
       " 'посёлок Жилгородок',\n",
       " 'посёлок Ильичёво',\n",
       " 'посёлок Кикерино',\n",
       " 'посёлок Кобралово',\n",
       " 'посёлок Коробицыно',\n",
       " 'посёлок Левашово',\n",
       " 'посёлок Ленинское',\n",
       " 'посёлок Лисий Нос',\n",
       " 'посёлок Мельниково',\n",
       " 'посёлок Металлострой',\n",
       " 'посёлок Мичуринское',\n",
       " 'посёлок Молодёжное',\n",
       " 'посёлок Мурино',\n",
       " 'посёлок Мыза-Ивановка',\n",
       " 'посёлок Новогорелово',\n",
       " 'посёлок Новый Свет',\n",
       " 'посёлок Пансионат Зелёный Бор',\n",
       " 'посёлок Парголово',\n",
       " 'посёлок Перово',\n",
       " 'посёлок Песочный',\n",
       " 'посёлок Петро-Славянка',\n",
       " 'посёлок Петровское',\n",
       " 'посёлок Платформа 69-й километр',\n",
       " 'посёлок Плодовое',\n",
       " 'посёлок Плоское',\n",
       " 'посёлок Победа',\n",
       " 'посёлок Поляны',\n",
       " 'посёлок Понтонный',\n",
       " 'посёлок Пригородный',\n",
       " 'посёлок Пудость',\n",
       " 'посёлок Репино',\n",
       " 'посёлок Ропша',\n",
       " 'посёлок Сапёрное',\n",
       " 'посёлок Сапёрный',\n",
       " 'посёлок Сосново',\n",
       " 'посёлок Старая Малукса',\n",
       " 'посёлок Стеклянный',\n",
       " 'посёлок Стрельна',\n",
       " 'посёлок Суйда',\n",
       " 'посёлок Сумино',\n",
       " 'посёлок Тельмана',\n",
       " 'посёлок Терволово',\n",
       " 'посёлок Торфяное',\n",
       " 'посёлок Усть-Ижора',\n",
       " 'посёлок Усть-Луга',\n",
       " 'посёлок Форт Красная Горка',\n",
       " 'посёлок Шугозеро',\n",
       " 'посёлок Шушары',\n",
       " 'посёлок Щеглово',\n",
       " 'посёлок городского типа Важины',\n",
       " 'посёлок городского типа Вознесенье',\n",
       " 'посёлок городского типа Вырица',\n",
       " 'посёлок городского типа Красный Бор',\n",
       " 'посёлок городского типа Кузнечное',\n",
       " 'посёлок городского типа Кузьмоловский',\n",
       " 'посёлок городского типа Лебяжье',\n",
       " 'посёлок городского типа Мга',\n",
       " 'посёлок городского типа Павлово',\n",
       " 'посёлок городского типа Рощино',\n",
       " 'посёлок городского типа Рябово',\n",
       " 'посёлок городского типа Сиверский',\n",
       " 'посёлок городского типа Тайцы',\n",
       " 'посёлок городского типа Токсово',\n",
       " 'посёлок городского типа Ульяновка',\n",
       " 'посёлок городского типа Форносово',\n",
       " 'посёлок городского типа имени Морозова',\n",
       " 'посёлок городского типа имени Свердлова',\n",
       " 'посёлок при железнодорожной станции Вещево',\n",
       " 'посёлок при железнодорожной станции Приветнинское',\n",
       " 'посёлок станции Громово',\n",
       " 'посёлок станции Свирь',\n",
       " 'садоводческое некоммерческое товарищество Лесная Поляна',\n",
       " 'садовое товарищество Новая Ропша',\n",
       " 'садовое товарищество Приладожский',\n",
       " 'садовое товарищество Рахья',\n",
       " 'садовое товарищество Садко',\n",
       " 'село Копорье',\n",
       " 'село Никольское',\n",
       " 'село Павлово',\n",
       " 'село Паша',\n",
       " 'село Путилово',\n",
       " 'село Рождествено',\n",
       " 'село Русско-Высоцкое',\n",
       " 'село Старая Ладога',\n",
       " 'село Шум']"
      ]
     },
     "execution_count": 19,
     "metadata": {},
     "output_type": "execute_result"
    }
   ],
   "source": [
    "sorted(data['locality_name'].astype('str').unique())"
   ]
  },
  {
   "cell_type": "code",
   "execution_count": 20,
   "metadata": {},
   "outputs": [
    {
     "data": {
      "text/plain": [
       "['nan',\n",
       " 'Агалатово',\n",
       " 'Александровская',\n",
       " 'Алексеевка',\n",
       " 'Аннино',\n",
       " 'Аро',\n",
       " 'Барышево',\n",
       " 'Батово',\n",
       " 'Бегуницы',\n",
       " 'Белогорка',\n",
       " 'Белоостров',\n",
       " 'Бокситогорск',\n",
       " 'Большая Вруда',\n",
       " 'Большая Ижора',\n",
       " 'Большая Пустомержа',\n",
       " 'Большие Колпаны',\n",
       " 'Большое Рейзино',\n",
       " 'Большой Сабск',\n",
       " 'Бор',\n",
       " 'Борисова Грива',\n",
       " 'Бугры',\n",
       " 'Будогощь',\n",
       " 'Ваганово',\n",
       " 'Важины',\n",
       " 'Вартемяги',\n",
       " 'Вахнова Кара',\n",
       " 'Вещево',\n",
       " 'Виллози',\n",
       " 'Вознесенье',\n",
       " 'Возрождение',\n",
       " 'Войсковицы',\n",
       " 'Войскорово',\n",
       " 'Володарское',\n",
       " 'Волосово',\n",
       " 'Волхов',\n",
       " 'Всеволожск',\n",
       " 'Выборг',\n",
       " 'Вырица',\n",
       " 'Выскатка',\n",
       " 'Высокоключевой',\n",
       " 'Высоцк',\n",
       " 'Гаврилово',\n",
       " 'Гарболово',\n",
       " 'Гатчина',\n",
       " 'Гладкое',\n",
       " 'Глажево',\n",
       " 'Глебычево',\n",
       " 'Глинка',\n",
       " 'Гончарово',\n",
       " 'Горбунки',\n",
       " 'Гостилицы',\n",
       " 'Громово',\n",
       " 'Дзержинского',\n",
       " 'Дружная Горка',\n",
       " 'Дружноселье',\n",
       " 'Дубровка',\n",
       " 'Елизаветино',\n",
       " 'Ефимовский',\n",
       " 'Жилгородок',\n",
       " 'Жилпосёлок',\n",
       " 'Житково',\n",
       " 'Заводской',\n",
       " 'Заклинье',\n",
       " 'Заневка',\n",
       " 'Запорожское',\n",
       " 'Зеленогорск',\n",
       " 'Зелёный Бор',\n",
       " 'Зимитицы',\n",
       " 'Ивангород',\n",
       " 'Извара',\n",
       " 'Ильичёво',\n",
       " 'Иссад',\n",
       " 'Калитино',\n",
       " 'Каложицы',\n",
       " 'Кальтино',\n",
       " 'Каменногорск',\n",
       " 'Камышовка',\n",
       " 'Каськово',\n",
       " 'Келози',\n",
       " 'Кивеннапа Север',\n",
       " 'Кикерино',\n",
       " 'Кингисепп',\n",
       " 'Кингисеппский',\n",
       " 'Кипень',\n",
       " 'Кириши',\n",
       " 'Кировск',\n",
       " 'Кирпичное',\n",
       " 'Кисельня',\n",
       " 'Кобралово',\n",
       " 'Кобринское',\n",
       " 'Колпино',\n",
       " 'Колтуши',\n",
       " 'Коммунар',\n",
       " 'Коммунары',\n",
       " 'Кондратьево',\n",
       " 'Копорье',\n",
       " 'Коркино',\n",
       " 'Корнево',\n",
       " 'Коробицыно',\n",
       " 'Котельский',\n",
       " 'Котлы',\n",
       " 'Красная Долина',\n",
       " 'Красное Село',\n",
       " 'Красносельское',\n",
       " 'Красный Бор',\n",
       " 'Кривко',\n",
       " 'Кронштадт',\n",
       " 'Кудрово',\n",
       " 'Кузнечное',\n",
       " 'Кузьмолово',\n",
       " 'Кузьмоловский',\n",
       " 'Курковицы',\n",
       " 'Куровицы',\n",
       " 'Куттузи',\n",
       " 'Лаврики',\n",
       " 'Лаголово',\n",
       " 'Лампово',\n",
       " 'Лебяжье',\n",
       " 'Левашово',\n",
       " 'Ленинское',\n",
       " 'Лесколово',\n",
       " 'Лесная Поляна',\n",
       " 'Лесное',\n",
       " 'Лесогорский',\n",
       " 'Лисий Нос',\n",
       " 'Лодейное Поле',\n",
       " 'Ломоносов',\n",
       " 'Лопухинка',\n",
       " 'Луга',\n",
       " 'Лужайка',\n",
       " 'Лукаши',\n",
       " 'Лупполово',\n",
       " 'Любань',\n",
       " 'Малая Романовка',\n",
       " 'Малое Верево',\n",
       " 'Малое Карлино',\n",
       " 'Малые Колпаны',\n",
       " 'Мануйлово',\n",
       " 'Мга',\n",
       " 'Мельниково',\n",
       " 'Меньково',\n",
       " 'Металлострой',\n",
       " 'Мины',\n",
       " 'Мистолово',\n",
       " 'Мичуринское',\n",
       " 'Молодцово',\n",
       " 'Молодёжное',\n",
       " 'Мурино',\n",
       " 'Мыза-Ивановка',\n",
       " 'Назия',\n",
       " 'Ненимяки',\n",
       " 'Нижние Осельки',\n",
       " 'Нижняя',\n",
       " 'Низино',\n",
       " 'Никольский',\n",
       " 'Никольское',\n",
       " 'Новая Ладога',\n",
       " 'Новая Ропша',\n",
       " 'Новогорелово',\n",
       " 'Новое Девяткино',\n",
       " 'Новолисино',\n",
       " 'Новоселье',\n",
       " 'Новый Свет',\n",
       " 'Новый Учхоз',\n",
       " 'Нурма',\n",
       " 'Оредеж',\n",
       " 'Оржицы',\n",
       " 'Отрадное',\n",
       " 'Павлово',\n",
       " 'Павловск',\n",
       " 'Парголово',\n",
       " 'Парицы',\n",
       " 'Паша',\n",
       " 'Пельгора',\n",
       " 'Пеники',\n",
       " 'Первомайское',\n",
       " 'Перово',\n",
       " 'Песочный',\n",
       " 'Петергоф',\n",
       " 'Петро-Славянка',\n",
       " 'Петровское',\n",
       " 'Пижма',\n",
       " 'Пикалёво',\n",
       " 'Пикколово',\n",
       " 'Платформа 69-й километр',\n",
       " 'Плодовое',\n",
       " 'Плоское',\n",
       " 'Победа',\n",
       " 'Подпорожье',\n",
       " 'Поляны',\n",
       " 'Понтонный',\n",
       " 'Почап',\n",
       " 'Починок',\n",
       " 'Приветнинское',\n",
       " 'Пригородный',\n",
       " 'Приладожский',\n",
       " 'Приморск',\n",
       " 'Приозерск',\n",
       " 'Пудомяги',\n",
       " 'Пудость',\n",
       " 'Пустынка',\n",
       " 'Путилово',\n",
       " 'Пушкин',\n",
       " 'Пушное',\n",
       " 'Пчева',\n",
       " 'Пчевжа',\n",
       " 'Рабитицы',\n",
       " 'Разбегаево',\n",
       " 'Раздолье',\n",
       " 'Разметелево',\n",
       " 'Рапполово',\n",
       " 'Рахья',\n",
       " 'Реброво',\n",
       " 'Репино',\n",
       " 'Рождествено',\n",
       " 'Романовка',\n",
       " 'Ромашки',\n",
       " 'Ропша',\n",
       " 'Рощино',\n",
       " 'Русско',\n",
       " 'Русско-Высоцкое',\n",
       " 'Рябово',\n",
       " 'Садко',\n",
       " 'Санкт-Петербург',\n",
       " 'Сапёрное',\n",
       " 'Сапёрный',\n",
       " 'Светогорск',\n",
       " 'Свирь',\n",
       " 'Свирьстрой',\n",
       " 'Севастьяново',\n",
       " 'Селезнёво',\n",
       " 'Сельцо',\n",
       " 'Семиозерье',\n",
       " 'Семрино',\n",
       " 'Серебрянский',\n",
       " 'Сертолово',\n",
       " 'Сестрорецк',\n",
       " 'Сиверский',\n",
       " 'Сижно',\n",
       " 'Синявино',\n",
       " 'Сланцы',\n",
       " 'Снегирёвка',\n",
       " 'Советский',\n",
       " 'Совхозный',\n",
       " 'Сосново',\n",
       " 'Сосновый Бор',\n",
       " 'Старая',\n",
       " 'Старая Ладога',\n",
       " 'Старая Малукса',\n",
       " 'Старая Пустошь',\n",
       " 'Старое Хинколово',\n",
       " 'Старополье',\n",
       " 'Старосиверская',\n",
       " 'Старые Бегуницы',\n",
       " 'Стеклянный',\n",
       " 'Стрельна',\n",
       " 'Суйда',\n",
       " 'Сумино',\n",
       " 'Суоранда',\n",
       " 'Суходолье',\n",
       " 'Счастье',\n",
       " 'Сяськелево',\n",
       " 'Сясьстрой',\n",
       " 'Тайцы',\n",
       " 'Тарасово',\n",
       " 'Тельмана',\n",
       " 'Терволово',\n",
       " 'Терпилицы',\n",
       " 'Тихвин',\n",
       " 'Тихковицы',\n",
       " 'Тойворово',\n",
       " 'Токсово',\n",
       " 'Торковичи',\n",
       " 'Торосово',\n",
       " 'Торошковичи',\n",
       " 'Торфяное',\n",
       " 'Тосно',\n",
       " 'Трубников Бор',\n",
       " 'Тёсово-4',\n",
       " 'Углово',\n",
       " 'Ульяновка',\n",
       " 'Усть-Ижора',\n",
       " 'Усть-Луга',\n",
       " 'Ушаки',\n",
       " 'Фалилеево',\n",
       " 'Форносово',\n",
       " 'Форт Красная Горка',\n",
       " 'Фёдоровское',\n",
       " 'Хапо-Ое',\n",
       " 'Хязельки',\n",
       " 'Цвелодубово',\n",
       " 'Цвылёво',\n",
       " 'Чудской Бор',\n",
       " 'Шлиссельбург',\n",
       " 'Шпаньково',\n",
       " 'Шугозеро',\n",
       " 'Шум',\n",
       " 'Шушары',\n",
       " 'Щеглово',\n",
       " 'Юкки',\n",
       " 'Ялгино',\n",
       " 'Яльгелево',\n",
       " 'Ям-Тесово',\n",
       " 'Янино-1',\n",
       " 'имени Морозова',\n",
       " 'имени Свердлова']"
      ]
     },
     "execution_count": 20,
     "metadata": {},
     "output_type": "execute_result"
    }
   ],
   "source": [
    "def replace_locality_name(locality_name):\n",
    "    locality_name = locality_name.str.replace('поселок городского типа ','')\n",
    "    locality_name = locality_name.str.replace('посёлок городского типа ','')\n",
    "    locality_name = locality_name.str.replace('городской поселок ','')\n",
    "    locality_name = locality_name.str.replace('городской посёлок ','')\n",
    "    locality_name = locality_name.str.replace('коттеджный поселок ','')\n",
    "    locality_name = locality_name.str.replace('коттеджный посёлок ','')\n",
    "    locality_name = locality_name.str.replace('посёлок ','')\n",
    "    locality_name = locality_name.str.replace('поселок ','')\n",
    "    locality_name = locality_name.str.replace('деревня ','')\n",
    "    locality_name = locality_name.str.replace('село ','')\n",
    "    locality_name = locality_name.str.replace('село ','')\n",
    "    locality_name = locality_name.str.replace('Пансионат ','')\n",
    "    locality_name = locality_name.str.replace('Садовое товарищество ','')\n",
    "    locality_name = locality_name.str.replace('садовое товарищество ','')\n",
    "    locality_name = locality_name.str.replace('садоводческое некоммерческое товарищество ','')\n",
    "    locality_name = locality_name.str.replace('при железнодорожной станции ','')\n",
    "    locality_name = locality_name.str.replace('станции ','')\n",
    "    return locality_name\n",
    "data['locality_name'] = replace_locality_name(data['locality_name'].copy())\n",
    "sorted(data['locality_name'].astype('str').unique())"
   ]
  },
  {
   "cell_type": "markdown",
   "metadata": {},
   "source": [
    "#### Работа с аномальными значениями"
   ]
  },
  {
   "cell_type": "code",
   "execution_count": 21,
   "metadata": {
    "scrolled": false
   },
   "outputs": [
    {
     "data": {
      "text/plain": [
       "<AxesSubplot:ylabel='Frequency'>"
      ]
     },
     "execution_count": 21,
     "metadata": {},
     "output_type": "execute_result"
    },
    {
     "data": {
      "image/png": "[encoded data removed]",
      "text/plain": [
       "<Figure size 432x288 with 1 Axes>"
      ]
     },
     "metadata": {
      "needs_background": "light"
     },
     "output_type": "display_data"
    }
   ],
   "source": [
    "data.plot(y='ceiling_height',kind='hist',bins=100)"
   ]
  },
  {
   "cell_type": "markdown",
   "metadata": {},
   "source": [
    "Чтобы найти аномальные значения, выведу минимальные и максимальные значения по всем столбцам"
   ]
  },
  {
   "cell_type": "code",
   "execution_count": 22,
   "metadata": {},
   "outputs": [
    {
     "data": {
      "text/plain": [
       "total_images                             50\n",
       "last_price                      763000000.0\n",
       "total_area                            900.0\n",
       "first_day_exposition    2019-05-03 00:00:00\n",
       "rooms                                    19\n",
       "ceiling_height                        100.0\n",
       "floors_total                           60.0\n",
       "living_area                           571.0\n",
       "floor                                    33\n",
       "is_apartment                           True\n",
       "studio                                 True\n",
       "open_plan                              True\n",
       "kitchen_area                         462.75\n",
       "balcony                                   5\n",
       "airports_nearest                    84869.0\n",
       "cityCenters_nearest                 65968.0\n",
       "parks_around3000                        3.0\n",
       "parks_nearest                        3190.0\n",
       "ponds_around3000                        3.0\n",
       "ponds_nearest                        1344.0\n",
       "days_exposition                      1580.0\n",
       "dtype: object"
      ]
     },
     "execution_count": 22,
     "metadata": {},
     "output_type": "execute_result"
    }
   ],
   "source": [
    "data.max()"
   ]
  },
  {
   "cell_type": "code",
   "execution_count": 23,
   "metadata": {},
   "outputs": [
    {
     "data": {
      "text/plain": [
       "total_images                              0\n",
       "last_price                          12190.0\n",
       "total_area                             12.0\n",
       "first_day_exposition    2014-11-27 00:00:00\n",
       "rooms                                     0\n",
       "ceiling_height                          1.0\n",
       "floors_total                            1.0\n",
       "living_area                             2.0\n",
       "floor                                     1\n",
       "is_apartment                          False\n",
       "studio                                False\n",
       "open_plan                             False\n",
       "kitchen_area                         -352.0\n",
       "balcony                                   0\n",
       "airports_nearest                        0.0\n",
       "cityCenters_nearest                   181.0\n",
       "parks_around3000                        0.0\n",
       "parks_nearest                           1.0\n",
       "ponds_around3000                        0.0\n",
       "ponds_nearest                          13.0\n",
       "days_exposition                         1.0\n",
       "dtype: object"
      ]
     },
     "execution_count": 23,
     "metadata": {},
     "output_type": "execute_result"
    }
   ],
   "source": [
    "data.min()"
   ]
  },
  {
   "cell_type": "markdown",
   "metadata": {},
   "source": [
    "- Высота потолков не может быть менее 2м и более 3, в данных ошибка.\n",
    "- Жилая площадь не может быть 2м, согласно жилищному кодексу РФ - минимальная площадь на одного человека должна быть более 12 квадратных метров."
   ]
  },
  {
   "cell_type": "code",
   "execution_count": 24,
   "metadata": {},
   "outputs": [],
   "source": [
    "data.loc[data['ceiling_height'] > 20,'ceiling_height'] = data.loc[data['ceiling_height'] > 20,'ceiling_height'] /10\n",
    "data['ceiling_height'] = data.loc[(data['ceiling_height'] < 3) & (data['ceiling_height'] > 2), 'ceiling_height']"
   ]
  },
  {
   "cell_type": "code",
   "execution_count": 25,
   "metadata": {},
   "outputs": [],
   "source": [
    "data['living_area'] = data.loc[data['living_area'] > 12, 'living_area']"
   ]
  },
  {
   "cell_type": "code",
   "execution_count": 26,
   "metadata": {},
   "outputs": [
    {
     "data": {
      "image/png": "[encoded data removed]",
      "text/plain": [
       "<Figure size 432x288 with 1 Axes>"
      ]
     },
     "metadata": {
      "needs_background": "light"
     },
     "output_type": "display_data"
    }
   ],
   "source": [
    "plt.boxplot(data['last_price'])\n",
    "plt.ylim(0, 13000000)\n",
    "plt.show()"
   ]
  },
  {
   "cell_type": "markdown",
   "metadata": {},
   "source": [
    "В ходе предобработки данных были:\n",
    "- удалены пропуски\n",
    "- заменены пропуски на медианное значение по группе\n",
    "- изменены некоторые типы данных\n",
    "- удалены дубликаты\n",
    "- удалены аномальные значения"
   ]
  },
  {
   "cell_type": "markdown",
   "metadata": {},
   "source": [
    "### Посчитайте и добавьте в таблицу новые столбцы"
   ]
  },
  {
   "cell_type": "code",
   "execution_count": 27,
   "metadata": {},
   "outputs": [
    {
     "data": {
      "text/html": [
       "<div>\n",
       "<style scoped>\n",
       "    .dataframe tbody tr th:only-of-type {\n",
       "        vertical-align: middle;\n",
       "    }\n",
       "\n",
       "    .dataframe tbody tr th {\n",
       "        vertical-align: top;\n",
       "    }\n",
       "\n",
       "    .dataframe thead th {\n",
       "        text-align: right;\n",
       "    }\n",
       "</style>\n",
       "<table border=\"1\" class=\"dataframe\">\n",
       "  <thead>\n",
       "    <tr style=\"text-align: right;\">\n",
       "      <th></th>\n",
       "      <th>total_images</th>\n",
       "      <th>last_price</th>\n",
       "      <th>total_area</th>\n",
       "      <th>first_day_exposition</th>\n",
       "      <th>rooms</th>\n",
       "      <th>ceiling_height</th>\n",
       "      <th>floors_total</th>\n",
       "      <th>living_area</th>\n",
       "      <th>floor</th>\n",
       "      <th>is_apartment</th>\n",
       "      <th>...</th>\n",
       "      <th>balcony</th>\n",
       "      <th>locality_name</th>\n",
       "      <th>airports_nearest</th>\n",
       "      <th>cityCenters_nearest</th>\n",
       "      <th>parks_around3000</th>\n",
       "      <th>parks_nearest</th>\n",
       "      <th>ponds_around3000</th>\n",
       "      <th>ponds_nearest</th>\n",
       "      <th>days_exposition</th>\n",
       "      <th>price_metr</th>\n",
       "    </tr>\n",
       "  </thead>\n",
       "  <tbody>\n",
       "    <tr>\n",
       "      <th>0</th>\n",
       "      <td>20</td>\n",
       "      <td>13000000.0</td>\n",
       "      <td>108.0</td>\n",
       "      <td>2019-03-07</td>\n",
       "      <td>3</td>\n",
       "      <td>2.70</td>\n",
       "      <td>16.0</td>\n",
       "      <td>51.0</td>\n",
       "      <td>8</td>\n",
       "      <td>False</td>\n",
       "      <td>...</td>\n",
       "      <td>0</td>\n",
       "      <td>Санкт-Петербург</td>\n",
       "      <td>18863.0</td>\n",
       "      <td>16028.0</td>\n",
       "      <td>1.0</td>\n",
       "      <td>482.0</td>\n",
       "      <td>2.0</td>\n",
       "      <td>755.0</td>\n",
       "      <td>NaN</td>\n",
       "      <td>120370.370370</td>\n",
       "    </tr>\n",
       "    <tr>\n",
       "      <th>1</th>\n",
       "      <td>7</td>\n",
       "      <td>3350000.0</td>\n",
       "      <td>40.4</td>\n",
       "      <td>2018-12-04</td>\n",
       "      <td>1</td>\n",
       "      <td>2.65</td>\n",
       "      <td>11.0</td>\n",
       "      <td>18.6</td>\n",
       "      <td>1</td>\n",
       "      <td>False</td>\n",
       "      <td>...</td>\n",
       "      <td>2</td>\n",
       "      <td>Шушары</td>\n",
       "      <td>12817.0</td>\n",
       "      <td>18603.0</td>\n",
       "      <td>0.0</td>\n",
       "      <td>NaN</td>\n",
       "      <td>0.0</td>\n",
       "      <td>NaN</td>\n",
       "      <td>81.0</td>\n",
       "      <td>82920.792079</td>\n",
       "    </tr>\n",
       "    <tr>\n",
       "      <th>2</th>\n",
       "      <td>10</td>\n",
       "      <td>5196000.0</td>\n",
       "      <td>56.0</td>\n",
       "      <td>2015-08-20</td>\n",
       "      <td>2</td>\n",
       "      <td>2.65</td>\n",
       "      <td>5.0</td>\n",
       "      <td>34.3</td>\n",
       "      <td>4</td>\n",
       "      <td>False</td>\n",
       "      <td>...</td>\n",
       "      <td>0</td>\n",
       "      <td>Санкт-Петербург</td>\n",
       "      <td>21741.0</td>\n",
       "      <td>13933.0</td>\n",
       "      <td>1.0</td>\n",
       "      <td>90.0</td>\n",
       "      <td>2.0</td>\n",
       "      <td>574.0</td>\n",
       "      <td>558.0</td>\n",
       "      <td>92785.714286</td>\n",
       "    </tr>\n",
       "    <tr>\n",
       "      <th>3</th>\n",
       "      <td>0</td>\n",
       "      <td>64900000.0</td>\n",
       "      <td>159.0</td>\n",
       "      <td>2015-07-24</td>\n",
       "      <td>3</td>\n",
       "      <td>2.65</td>\n",
       "      <td>14.0</td>\n",
       "      <td>32.0</td>\n",
       "      <td>9</td>\n",
       "      <td>False</td>\n",
       "      <td>...</td>\n",
       "      <td>0</td>\n",
       "      <td>Санкт-Петербург</td>\n",
       "      <td>28098.0</td>\n",
       "      <td>6800.0</td>\n",
       "      <td>2.0</td>\n",
       "      <td>84.0</td>\n",
       "      <td>3.0</td>\n",
       "      <td>234.0</td>\n",
       "      <td>424.0</td>\n",
       "      <td>408176.100629</td>\n",
       "    </tr>\n",
       "    <tr>\n",
       "      <th>4</th>\n",
       "      <td>2</td>\n",
       "      <td>10000000.0</td>\n",
       "      <td>100.0</td>\n",
       "      <td>2018-06-19</td>\n",
       "      <td>2</td>\n",
       "      <td>NaN</td>\n",
       "      <td>14.0</td>\n",
       "      <td>14.4</td>\n",
       "      <td>13</td>\n",
       "      <td>False</td>\n",
       "      <td>...</td>\n",
       "      <td>0</td>\n",
       "      <td>Санкт-Петербург</td>\n",
       "      <td>31856.0</td>\n",
       "      <td>8098.0</td>\n",
       "      <td>2.0</td>\n",
       "      <td>112.0</td>\n",
       "      <td>1.0</td>\n",
       "      <td>48.0</td>\n",
       "      <td>121.0</td>\n",
       "      <td>100000.000000</td>\n",
       "    </tr>\n",
       "  </tbody>\n",
       "</table>\n",
       "<p>5 rows × 23 columns</p>\n",
       "</div>"
      ],
      "text/plain": [
       "   total_images  last_price  total_area first_day_exposition  rooms  \\\n",
       "0            20  13000000.0       108.0           2019-03-07      3   \n",
       "1             7   3350000.0        40.4           2018-12-04      1   \n",
       "2            10   5196000.0        56.0           2015-08-20      2   \n",
       "3             0  64900000.0       159.0           2015-07-24      3   \n",
       "4             2  10000000.0       100.0           2018-06-19      2   \n",
       "\n",
       "   ceiling_height  floors_total  living_area  floor is_apartment  ...  \\\n",
       "0            2.70          16.0         51.0      8        False  ...   \n",
       "1            2.65          11.0         18.6      1        False  ...   \n",
       "2            2.65           5.0         34.3      4        False  ...   \n",
       "3            2.65          14.0         32.0      9        False  ...   \n",
       "4             NaN          14.0         14.4     13        False  ...   \n",
       "\n",
       "   balcony    locality_name  airports_nearest  cityCenters_nearest  \\\n",
       "0        0  Санкт-Петербург           18863.0              16028.0   \n",
       "1        2           Шушары           12817.0              18603.0   \n",
       "2        0  Санкт-Петербург           21741.0              13933.0   \n",
       "3        0  Санкт-Петербург           28098.0               6800.0   \n",
       "4        0  Санкт-Петербург           31856.0               8098.0   \n",
       "\n",
       "  parks_around3000  parks_nearest  ponds_around3000  ponds_nearest  \\\n",
       "0              1.0          482.0               2.0          755.0   \n",
       "1              0.0            NaN               0.0            NaN   \n",
       "2              1.0           90.0               2.0          574.0   \n",
       "3              2.0           84.0               3.0          234.0   \n",
       "4              2.0          112.0               1.0           48.0   \n",
       "\n",
       "   days_exposition     price_metr  \n",
       "0              NaN  120370.370370  \n",
       "1             81.0   82920.792079  \n",
       "2            558.0   92785.714286  \n",
       "3            424.0  408176.100629  \n",
       "4            121.0  100000.000000  \n",
       "\n",
       "[5 rows x 23 columns]"
      ]
     },
     "execution_count": 27,
     "metadata": {},
     "output_type": "execute_result"
    }
   ],
   "source": [
    "data['price_metr'] = data['last_price'] / data['total_area']#добавила столбец цена за метр квадратный\n",
    "data.head()"
   ]
  },
  {
   "cell_type": "code",
   "execution_count": 28,
   "metadata": {},
   "outputs": [
    {
     "data": {
      "text/plain": [
       "0    3\n",
       "1    1\n",
       "2    3\n",
       "3    4\n",
       "4    1\n",
       "Name: weekday, dtype: int64"
      ]
     },
     "execution_count": 28,
     "metadata": {},
     "output_type": "execute_result"
    }
   ],
   "source": [
    "data['weekday'] = pd.DatetimeIndex(data['first_day_exposition']).weekday #добавила столбец месяц\n",
    "data['weekday'].head()"
   ]
  },
  {
   "cell_type": "code",
   "execution_count": 29,
   "metadata": {},
   "outputs": [
    {
     "data": {
      "text/plain": [
       "0     3\n",
       "1    12\n",
       "2     8\n",
       "3     7\n",
       "4     6\n",
       "Name: month, dtype: int64"
      ]
     },
     "execution_count": 29,
     "metadata": {},
     "output_type": "execute_result"
    }
   ],
   "source": [
    "data['month'] = pd.DatetimeIndex(data['first_day_exposition']).month #добавила столбец месяц\n",
    "data['month'].head()"
   ]
  },
  {
   "cell_type": "code",
   "execution_count": 30,
   "metadata": {
    "scrolled": true
   },
   "outputs": [
    {
     "data": {
      "text/plain": [
       "0    2019\n",
       "1    2018\n",
       "2    2015\n",
       "3    2015\n",
       "4    2018\n",
       "Name: year, dtype: int64"
      ]
     },
     "execution_count": 30,
     "metadata": {},
     "output_type": "execute_result"
    }
   ],
   "source": [
    "data['year'] = pd.DatetimeIndex(data['first_day_exposition']).year #добавила столбец год\n",
    "data['year'].head()"
   ]
  },
  {
   "cell_type": "code",
   "execution_count": 31,
   "metadata": {
    "scrolled": true
   },
   "outputs": [
    {
     "data": {
      "text/plain": [
       "0        другой\n",
       "1        первый\n",
       "2        другой\n",
       "3        другой\n",
       "4        другой\n",
       "          ...  \n",
       "23694    другой\n",
       "23695    другой\n",
       "23696    первый\n",
       "23697    другой\n",
       "23698    первый\n",
       "Name: type_floor, Length: 23699, dtype: object"
      ]
     },
     "execution_count": 31,
     "metadata": {},
     "output_type": "execute_result"
    }
   ],
   "source": [
    "def type_floor(row):#функция для определения типа этажа: первый,последний,другой\n",
    "    if row['floor'] == 1:\n",
    "        return 'первый'\n",
    "    if  row['floor'] == row['floors_total']:\n",
    "        return 'последний'\n",
    "    else:\n",
    "        return 'другой'\n",
    "    \n",
    "data['type_floor'] = data.apply(type_floor,axis = 1)\n",
    "data['type_floor']"
   ]
  },
  {
   "cell_type": "markdown",
   "metadata": {},
   "source": [
    "Расстояние до центра города в километрах "
   ]
  },
  {
   "cell_type": "code",
   "execution_count": 32,
   "metadata": {
    "scrolled": true
   },
   "outputs": [
    {
     "data": {
      "text/plain": [
       "0        16.0\n",
       "1        19.0\n",
       "2        14.0\n",
       "3         7.0\n",
       "4         8.0\n",
       "         ... \n",
       "23694     4.0\n",
       "23695     NaN\n",
       "23696     NaN\n",
       "23697    10.0\n",
       "23698     NaN\n",
       "Name: cityCenters_nearest_km, Length: 23699, dtype: float64"
      ]
     },
     "execution_count": 32,
     "metadata": {},
     "output_type": "execute_result"
    }
   ],
   "source": [
    "data['cityCenters_nearest_km'] = round(data['cityCenters_nearest'] / 1000)\n",
    "data['cityCenters_nearest_km']"
   ]
  },
  {
   "cell_type": "markdown",
   "metadata": {},
   "source": [
    "### Проведите исследовательский анализ данных"
   ]
  },
  {
   "cell_type": "code",
   "execution_count": 33,
   "metadata": {},
   "outputs": [
    {
     "data": {
      "text/plain": [
       "<AxesSubplot:>"
      ]
     },
     "execution_count": 33,
     "metadata": {},
     "output_type": "execute_result"
    },
    {
     "data": {
      "image/png": "[encoded data removed]",
      "text/plain": [
       "<Figure size 432x288 with 1 Axes>"
      ]
     },
     "metadata": {
      "needs_background": "light"
     },
     "output_type": "display_data"
    }
   ],
   "source": [
    "data['total_area'].hist(bins=40,range = (0,200))"
   ]
  },
  {
   "cell_type": "markdown",
   "metadata": {},
   "source": [
    "Общая площадь в основном лежит в диапазоне от 30 до 100 метров квадратных.Пик в 40 м2"
   ]
  },
  {
   "cell_type": "code",
   "execution_count": 34,
   "metadata": {
    "scrolled": true
   },
   "outputs": [
    {
     "data": {
      "text/plain": [
       "<AxesSubplot:>"
      ]
     },
     "execution_count": 34,
     "metadata": {},
     "output_type": "execute_result"
    },
    {
     "data": {
      "image/png": "[encoded data removed]",
      "text/plain": [
       "<Figure size 432x288 with 1 Axes>"
      ]
     },
     "metadata": {
      "needs_background": "light"
     },
     "output_type": "display_data"
    }
   ],
   "source": [
    "data['living_area'].hist(bins=40)"
   ]
  },
  {
   "cell_type": "markdown",
   "metadata": {},
   "source": [
    "Жилая площадь в основном лежит в диапазоне от 10 до 50 метров квадратных. Пик в 50м2.\n"
   ]
  },
  {
   "cell_type": "code",
   "execution_count": 35,
   "metadata": {},
   "outputs": [
    {
     "data": {
      "text/plain": [
       "<AxesSubplot:>"
      ]
     },
     "execution_count": 35,
     "metadata": {},
     "output_type": "execute_result"
    },
    {
     "data": {
      "image/png": "[encoded data removed]",
      "text/plain": [
       "<Figure size 432x288 with 1 Axes>"
      ]
     },
     "metadata": {
      "needs_background": "light"
     },
     "output_type": "display_data"
    }
   ],
   "source": [
    "data['kitchen_area'].hist(bins=20)"
   ]
  },
  {
   "cell_type": "markdown",
   "metadata": {},
   "source": [
    "Площадь кухни от 0 до 25м2\n"
   ]
  },
  {
   "cell_type": "code",
   "execution_count": 36,
   "metadata": {
    "scrolled": true
   },
   "outputs": [
    {
     "data": {
      "text/plain": [
       "<AxesSubplot:>"
      ]
     },
     "execution_count": 36,
     "metadata": {},
     "output_type": "execute_result"
    },
    {
     "data": {
      "image/png": "[encoded data removed]",
      "text/plain": [
       "<Figure size 432x288 with 1 Axes>"
      ]
     },
     "metadata": {
      "needs_background": "light"
     },
     "output_type": "display_data"
    }
   ],
   "source": [
    "data['last_price'].hist(bins=100)"
   ]
  },
  {
   "cell_type": "markdown",
   "metadata": {},
   "source": [
    "Странные данные, высокий пик в 0."
   ]
  },
  {
   "cell_type": "code",
   "execution_count": 37,
   "metadata": {
    "scrolled": true
   },
   "outputs": [
    {
     "data": {
      "text/plain": [
       "<AxesSubplot:>"
      ]
     },
     "execution_count": 37,
     "metadata": {},
     "output_type": "execute_result"
    },
    {
     "data": {
      "image/png": "[encoded data removed]",
      "text/plain": [
       "<Figure size 432x288 with 1 Axes>"
      ]
     },
     "metadata": {
      "needs_background": "light"
     },
     "output_type": "display_data"
    }
   ],
   "source": [
    "data['rooms'].hist(bins=100)"
   ]
  },
  {
   "cell_type": "markdown",
   "metadata": {},
   "source": [
    "Большинство квартир однокомнатные. На втором месте квартиры с 2-мя комнатами."
   ]
  },
  {
   "cell_type": "code",
   "execution_count": 38,
   "metadata": {},
   "outputs": [
    {
     "data": {
      "text/plain": [
       "<AxesSubplot:>"
      ]
     },
     "execution_count": 38,
     "metadata": {},
     "output_type": "execute_result"
    },
    {
     "data": {
      "image/png": "[encoded data removed]",
      "text/plain": [
       "<Figure size 432x288 with 1 Axes>"
      ]
     },
     "metadata": {
      "needs_background": "light"
     },
     "output_type": "display_data"
    }
   ],
   "source": [
    "data['ceiling_height'].hist(bins=100)"
   ]
  },
  {
   "cell_type": "markdown",
   "metadata": {},
   "source": [
    "Большинство потолков стандартные, примерно 2.6 м."
   ]
  },
  {
   "cell_type": "code",
   "execution_count": 39,
   "metadata": {},
   "outputs": [
    {
     "data": {
      "text/plain": [
       "<AxesSubplot:>"
      ]
     },
     "execution_count": 39,
     "metadata": {},
     "output_type": "execute_result"
    },
    {
     "data": {
      "image/png": "[encoded data removed]",
      "text/plain": [
       "<Figure size 432x288 with 1 Axes>"
      ]
     },
     "metadata": {
      "needs_background": "light"
     },
     "output_type": "display_data"
    }
   ],
   "source": [
    "data['floor'].hist(bins=100)"
   ]
  },
  {
   "cell_type": "markdown",
   "metadata": {},
   "source": [
    "Люди продают квартиры от 0 до 5 этажа чаще, чем квартиры на более высоких этажах."
   ]
  },
  {
   "cell_type": "code",
   "execution_count": 40,
   "metadata": {
    "scrolled": true
   },
   "outputs": [
    {
     "data": {
      "text/plain": [
       "<AxesSubplot:>"
      ]
     },
     "execution_count": 40,
     "metadata": {},
     "output_type": "execute_result"
    },
    {
     "data": {
      "image/png": "[encoded data removed]",
      "text/plain": [
       "<Figure size 432x288 with 1 Axes>"
      ]
     },
     "metadata": {
      "needs_background": "light"
     },
     "output_type": "display_data"
    }
   ],
   "source": [
    "data['type_floor'].hist(bins=100)"
   ]
  },
  {
   "cell_type": "markdown",
   "metadata": {},
   "source": [
    "Люди не любят покупать жилье на 1 и последнем этажах"
   ]
  },
  {
   "cell_type": "code",
   "execution_count": 41,
   "metadata": {
    "scrolled": true
   },
   "outputs": [
    {
     "data": {
      "text/plain": [
       "<AxesSubplot:>"
      ]
     },
     "execution_count": 41,
     "metadata": {},
     "output_type": "execute_result"
    },
    {
     "data": {
      "image/png": "[encoded data removed]",
      "text/plain": [
       "<Figure size 2880x720 with 1 Axes>"
      ]
     },
     "metadata": {
      "needs_background": "light"
     },
     "output_type": "display_data"
    }
   ],
   "source": [
    "data['cityCenters_nearest'].hist(bins=10,figsize=(40,10))"
   ]
  },
  {
   "cell_type": "markdown",
   "metadata": {},
   "source": [
    "Квартиры расположенные на среднем расстоянии от центра продают чаще, чем остальные. Люди предпочитают жить в квартирах, расположенных либо близко к центру, либо очень далеко(за городом)."
   ]
  },
  {
   "cell_type": "code",
   "execution_count": 42,
   "metadata": {},
   "outputs": [
    {
     "data": {
      "text/plain": [
       "<AxesSubplot:>"
      ]
     },
     "execution_count": 42,
     "metadata": {},
     "output_type": "execute_result"
    },
    {
     "data": {
      "image/png": "[encoded data removed]",
      "text/plain": [
       "<Figure size 432x288 with 1 Axes>"
      ]
     },
     "metadata": {
      "needs_background": "light"
     },
     "output_type": "display_data"
    }
   ],
   "source": [
    "data['airports_nearest'].hist(bins=100)"
   ]
  },
  {
   "cell_type": "code",
   "execution_count": 43,
   "metadata": {
    "scrolled": true
   },
   "outputs": [
    {
     "data": {
      "text/plain": [
       "<AxesSubplot:>"
      ]
     },
     "execution_count": 43,
     "metadata": {},
     "output_type": "execute_result"
    },
    {
     "data": {
      "image/png": "[encoded data removed]",
      "text/plain": [
       "<Figure size 432x288 with 1 Axes>"
      ]
     },
     "metadata": {
      "needs_background": "light"
     },
     "output_type": "display_data"
    }
   ],
   "source": [
    "data['parks_nearest'].hist(bins=100)"
   ]
  },
  {
   "cell_type": "markdown",
   "metadata": {},
   "source": [
    "Парки находятся в радиусе 3 км от места жительства."
   ]
  },
  {
   "cell_type": "code",
   "execution_count": 44,
   "metadata": {
    "scrolled": true
   },
   "outputs": [
    {
     "data": {
      "text/plain": [
       "<AxesSubplot:>"
      ]
     },
     "execution_count": 44,
     "metadata": {},
     "output_type": "execute_result"
    },
    {
     "data": {
      "image/png": "[encoded data removed]",
      "text/plain": [
       "<Figure size 2880x720 with 1 Axes>"
      ]
     },
     "metadata": {
      "needs_background": "light"
     },
     "output_type": "display_data"
    }
   ],
   "source": [
    "data['first_day_exposition'].hist(bins=100,figsize=(40,10))"
   ]
  },
  {
   "cell_type": "markdown",
   "metadata": {},
   "source": [
    "Со временем виден рост размещения объявлений."
   ]
  },
  {
   "cell_type": "code",
   "execution_count": 45,
   "metadata": {
    "scrolled": true
   },
   "outputs": [
    {
     "data": {
      "text/plain": [
       "<AxesSubplot:>"
      ]
     },
     "execution_count": 45,
     "metadata": {},
     "output_type": "execute_result"
    },
    {
     "data": {
      "image/png": "[encoded data removed]",
      "text/plain": [
       "<Figure size 2880x720 with 1 Axes>"
      ]
     },
     "metadata": {
      "needs_background": "light"
     },
     "output_type": "display_data"
    }
   ],
   "source": [
    "data['weekday'].hist(bins=100,figsize=(40,10))"
   ]
  },
  {
   "cell_type": "markdown",
   "metadata": {},
   "source": [
    "Квартиры лучше продаются в четверг и вторник, а вот на выходных шансы значительно ниже"
   ]
  },
  {
   "cell_type": "code",
   "execution_count": 46,
   "metadata": {
    "scrolled": false
   },
   "outputs": [
    {
     "data": {
      "text/plain": [
       "<AxesSubplot:>"
      ]
     },
     "execution_count": 46,
     "metadata": {},
     "output_type": "execute_result"
    },
    {
     "data": {
      "image/png": "[encoded data removed]",
      "text/plain": [
       "<Figure size 2880x720 with 1 Axes>"
      ]
     },
     "metadata": {
      "needs_background": "light"
     },
     "output_type": "display_data"
    }
   ],
   "source": [
    "data['month'].hist(bins=100,figsize=(40,10))"
   ]
  },
  {
   "cell_type": "markdown",
   "metadata": {},
   "source": [
    "Жилье активнее покупают в зимние месяцы, а меньше всего покупок в мае."
   ]
  },
  {
   "cell_type": "markdown",
   "metadata": {},
   "source": [
    "#### Как быстро продавались квартиры?"
   ]
  },
  {
   "cell_type": "code",
   "execution_count": 47,
   "metadata": {},
   "outputs": [
    {
     "data": {
      "text/plain": [
       "<AxesSubplot:>"
      ]
     },
     "execution_count": 47,
     "metadata": {},
     "output_type": "execute_result"
    },
    {
     "data": {
      "image/png": "[encoded data removed]",
      "text/plain": [
       "<Figure size 432x288 with 1 Axes>"
      ]
     },
     "metadata": {
      "needs_background": "light"
     },
     "output_type": "display_data"
    }
   ],
   "source": [
    "data['days_exposition'].hist(bins=50)"
   ]
  },
  {
   "cell_type": "code",
   "execution_count": 48,
   "metadata": {},
   "outputs": [
    {
     "data": {
      "text/plain": [
       "95.0"
      ]
     },
     "execution_count": 48,
     "metadata": {},
     "output_type": "execute_result"
    }
   ],
   "source": [
    "data['days_exposition'].median()"
   ]
  },
  {
   "cell_type": "code",
   "execution_count": 49,
   "metadata": {
    "scrolled": true
   },
   "outputs": [
    {
     "data": {
      "text/plain": [
       "180.88863436982163"
      ]
     },
     "execution_count": 49,
     "metadata": {},
     "output_type": "execute_result"
    }
   ],
   "source": [
    "data['days_exposition'].mean()"
   ]
  },
  {
   "cell_type": "code",
   "execution_count": 50,
   "metadata": {
    "scrolled": true
   },
   "outputs": [
    {
     "data": {
      "text/plain": [
       "count    20518.000000\n",
       "mean       180.888634\n",
       "std        219.727988\n",
       "min          1.000000\n",
       "25%         45.000000\n",
       "50%         95.000000\n",
       "75%        232.000000\n",
       "max       1580.000000\n",
       "Name: days_exposition, dtype: float64"
      ]
     },
     "execution_count": 50,
     "metadata": {},
     "output_type": "execute_result"
    }
   ],
   "source": [
    "data['days_exposition'].describe()"
   ]
  },
  {
   "cell_type": "markdown",
   "metadata": {},
   "source": [
    "Продажи занимают около 95 дней. Продажи более 232 дней считаются затяжными. Быстрыми можно считать продажи до 45 дней."
   ]
  },
  {
   "cell_type": "markdown",
   "metadata": {},
   "source": [
    "#### Какие факторы больше всего влияют на общую (полную) стоимость объекта?"
   ]
  },
  {
   "cell_type": "code",
   "execution_count": 51,
   "metadata": {
    "scrolled": false
   },
   "outputs": [
    {
     "data": {
      "text/plain": [
       "<AxesSubplot:xlabel='total_area'>"
      ]
     },
     "execution_count": 51,
     "metadata": {},
     "output_type": "execute_result"
    },
    {
     "data": {
      "image/png": "[encoded data removed]",
      "text/plain": [
       "<Figure size 864x360 with 1 Axes>"
      ]
     },
     "metadata": {
      "needs_background": "light"
     },
     "output_type": "display_data"
    }
   ],
   "source": [
    "(\n",
    "data\n",
    ".plot(x = 'total_area',y='last_price', style = 'o', grid=True, figsize=(12, 5))\n",
    ")"
   ]
  },
  {
   "cell_type": "markdown",
   "metadata": {},
   "source": [
    "Коррелляция"
   ]
  },
  {
   "cell_type": "code",
   "execution_count": 52,
   "metadata": {
    "scrolled": true
   },
   "outputs": [
    {
     "data": {
      "text/plain": [
       "0.6536750579657242"
      ]
     },
     "execution_count": 52,
     "metadata": {},
     "output_type": "execute_result"
    }
   ],
   "source": [
    "data['total_area'].corr(data['last_price'])"
   ]
  },
  {
   "cell_type": "markdown",
   "metadata": {},
   "source": [
    "Чем больше общая площадь, тем выше цена - это подтверждает и график, и коэффициент корреляции Пирсона. Коррелляция показывает не очень сильную связь(0,6), но все же она есть."
   ]
  },
  {
   "cell_type": "code",
   "execution_count": 53,
   "metadata": {
    "scrolled": false
   },
   "outputs": [
    {
     "data": {
      "text/plain": [
       "<AxesSubplot:xlabel='living_area'>"
      ]
     },
     "execution_count": 53,
     "metadata": {},
     "output_type": "execute_result"
    },
    {
     "data": {
      "image/png": "[encoded data removed]",
      "text/plain": [
       "<Figure size 864x360 with 1 Axes>"
      ]
     },
     "metadata": {
      "needs_background": "light"
     },
     "output_type": "display_data"
    }
   ],
   "source": [
    "(\n",
    "data\n",
    ".plot(x = 'living_area',y='last_price', style = 'o', grid=True, figsize=(12, 5))\n",
    ")"
   ]
  },
  {
   "cell_type": "code",
   "execution_count": 54,
   "metadata": {},
   "outputs": [
    {
     "data": {
      "text/plain": [
       "0.0014934470760337327"
      ]
     },
     "execution_count": 54,
     "metadata": {},
     "output_type": "execute_result"
    }
   ],
   "source": [
    "data['living_area'].corr(data['last_price'])"
   ]
  },
  {
   "cell_type": "markdown",
   "metadata": {},
   "source": [
    "Чем больше жилая площадь, тем выше цена, но связи между этими величинами практически нет"
   ]
  },
  {
   "cell_type": "code",
   "execution_count": 55,
   "metadata": {
    "scrolled": false
   },
   "outputs": [
    {
     "data": {
      "text/plain": [
       "<AxesSubplot:xlabel='kitchen_area'>"
      ]
     },
     "execution_count": 55,
     "metadata": {},
     "output_type": "execute_result"
    },
    {
     "data": {
      "image/png": "[encoded data removed]",
      "text/plain": [
       "<Figure size 864x360 with 1 Axes>"
      ]
     },
     "metadata": {
      "needs_background": "light"
     },
     "output_type": "display_data"
    }
   ],
   "source": [
    "(\n",
    "data\n",
    ".plot(x = 'kitchen_area',y='last_price', style = 'o', grid=True, figsize=(12, 5))\n",
    ")"
   ]
  },
  {
   "cell_type": "code",
   "execution_count": 56,
   "metadata": {},
   "outputs": [
    {
     "data": {
      "text/plain": [
       "0.38008006210732975"
      ]
     },
     "execution_count": 56,
     "metadata": {},
     "output_type": "execute_result"
    }
   ],
   "source": [
    "data['kitchen_area'].corr(data['last_price'])"
   ]
  },
  {
   "cell_type": "markdown",
   "metadata": {},
   "source": [
    "От площади кухни цена слабо зависит"
   ]
  },
  {
   "cell_type": "code",
   "execution_count": 57,
   "metadata": {
    "scrolled": false
   },
   "outputs": [
    {
     "data": {
      "text/plain": [
       "<AxesSubplot:xlabel='rooms'>"
      ]
     },
     "execution_count": 57,
     "metadata": {},
     "output_type": "execute_result"
    },
    {
     "data": {
      "image/png": "[encoded data removed]",
      "text/plain": [
       "<Figure size 864x360 with 1 Axes>"
      ]
     },
     "metadata": {
      "needs_background": "light"
     },
     "output_type": "display_data"
    }
   ],
   "source": [
    "(\n",
    "data\n",
    ".plot(x = 'rooms',y='last_price',style = 'o', grid=True, figsize=(12, 5))\n",
    ")"
   ]
  },
  {
   "cell_type": "code",
   "execution_count": 58,
   "metadata": {},
   "outputs": [
    {
     "data": {
      "text/plain": [
       "0.3633428499648948"
      ]
     },
     "execution_count": 58,
     "metadata": {},
     "output_type": "execute_result"
    }
   ],
   "source": [
    "data['rooms'].corr(data['last_price'])"
   ]
  },
  {
   "cell_type": "markdown",
   "metadata": {},
   "source": [
    "Цена квартир с количеством комнат от 0 до 2 ниже, чем на квартиры с количеством комнат от 3 до 7. Данные по квартирам с количеством комнат 7+ не являются достоверными, так как их мало в сравнении с другими. Связь между величинами слабая."
   ]
  },
  {
   "cell_type": "code",
   "execution_count": 59,
   "metadata": {
    "scrolled": false
   },
   "outputs": [
    {
     "data": {
      "text/plain": [
       "<AxesSubplot:xlabel='weekday'>"
      ]
     },
     "execution_count": 59,
     "metadata": {},
     "output_type": "execute_result"
    },
    {
     "data": {
      "image/png": "[encoded data removed]",
      "text/plain": [
       "<Figure size 864x360 with 1 Axes>"
      ]
     },
     "metadata": {
      "needs_background": "light"
     },
     "output_type": "display_data"
    }
   ],
   "source": [
    "(\n",
    "data\n",
    ".plot(x = 'weekday',y='last_price', style = 'o', grid=True, figsize=(12, 5))\n",
    ")"
   ]
  },
  {
   "cell_type": "markdown",
   "metadata": {},
   "source": [
    "По времени цена медленно увеличивается."
   ]
  },
  {
   "cell_type": "code",
   "execution_count": 60,
   "metadata": {
    "scrolled": false
   },
   "outputs": [
    {
     "data": {
      "text/plain": [
       "<AxesSubplot:xlabel='month'>"
      ]
     },
     "execution_count": 60,
     "metadata": {},
     "output_type": "execute_result"
    },
    {
     "data": {
      "image/png": "[encoded data removed]",
      "text/plain": [
       "<Figure size 864x360 with 1 Axes>"
      ]
     },
     "metadata": {
      "needs_background": "light"
     },
     "output_type": "display_data"
    }
   ],
   "source": [
    "(\n",
    "data\n",
    ".plot(x = 'month',y='last_price', style = 'o', grid=True, figsize=(12, 5))\n",
    ")"
   ]
  },
  {
   "cell_type": "code",
   "execution_count": 61,
   "metadata": {},
   "outputs": [
    {
     "data": {
      "text/plain": [
       "0.0027791287507397166"
      ]
     },
     "execution_count": 61,
     "metadata": {},
     "output_type": "execute_result"
    }
   ],
   "source": [
    "data['month'].corr(data['last_price'])"
   ]
  },
  {
   "cell_type": "markdown",
   "metadata": {},
   "source": [
    "От месяца цена не зависит"
   ]
  },
  {
   "cell_type": "code",
   "execution_count": 62,
   "metadata": {
    "scrolled": false
   },
   "outputs": [
    {
     "data": {
      "text/plain": [
       "<AxesSubplot:xlabel='year'>"
      ]
     },
     "execution_count": 62,
     "metadata": {},
     "output_type": "execute_result"
    },
    {
     "data": {
      "image/png": "[encoded data removed]",
      "text/plain": [
       "<Figure size 864x360 with 1 Axes>"
      ]
     },
     "metadata": {
      "needs_background": "light"
     },
     "output_type": "display_data"
    }
   ],
   "source": [
    "(\n",
    "data\n",
    ".plot(x = 'year',y='last_price', style = 'o', grid=True, figsize=(12, 5))\n",
    ")"
   ]
  },
  {
   "cell_type": "code",
   "execution_count": 63,
   "metadata": {
    "scrolled": true
   },
   "outputs": [
    {
     "data": {
      "text/plain": [
       "-0.043089036199508615"
      ]
     },
     "execution_count": 63,
     "metadata": {},
     "output_type": "execute_result"
    }
   ],
   "source": [
    "data['year'].corr(data['last_price'])"
   ]
  },
  {
   "cell_type": "markdown",
   "metadata": {},
   "source": [
    "По графику: с увеличением года, увеличивалась и цена. \n",
    "По коэф Пирсона: чем больше год, тем меньше цена, но связь очень слабая, поэтому лучше верить графику"
   ]
  },
  {
   "cell_type": "code",
   "execution_count": 64,
   "metadata": {
    "scrolled": false
   },
   "outputs": [
    {
     "data": {
      "text/plain": [
       "<AxesSubplot:xlabel='type_floor', ylabel='last_price'>"
      ]
     },
     "execution_count": 64,
     "metadata": {},
     "output_type": "execute_result"
    },
    {
     "data": {
      "image/png": "[encoded data removed]",
      "text/plain": [
       "<Figure size 360x360 with 1 Axes>"
      ]
     },
     "metadata": {
      "needs_background": "light"
     },
     "output_type": "display_data"
    }
   ],
   "source": [
    "(\n",
    "data\n",
    ".plot(x = 'type_floor',y='last_price', style = 'o', grid=True, figsize=(5, 5), kind = 'scatter')\n",
    ")"
   ]
  },
  {
   "cell_type": "markdown",
   "metadata": {},
   "source": [
    "На первом этаже жилье преобретают реже всего,поэтому цена тоже ниже. С большей охотой покупают на последнем, цена чуть выше первого этажа. Чаще всего люди предпочитают не последний и не первый этажи и там самые высокие цены."
   ]
  },
  {
   "cell_type": "markdown",
   "metadata": {},
   "source": [
    "Посчитайте среднюю цену одного квадратного метра в 10 населённых пунктах с наибольшим числом объявлений. Выделите населённые пункты с самой высокой и низкой стоимостью квадратного метра. Эти данные можно найти по имени в столбце locality_name"
   ]
  },
  {
   "cell_type": "code",
   "execution_count": 65,
   "metadata": {
    "scrolled": true
   },
   "outputs": [
    {
     "data": {
      "text/html": [
       "<div>\n",
       "<style scoped>\n",
       "    .dataframe tbody tr th:only-of-type {\n",
       "        vertical-align: middle;\n",
       "    }\n",
       "\n",
       "    .dataframe tbody tr th {\n",
       "        vertical-align: top;\n",
       "    }\n",
       "\n",
       "    .dataframe thead th {\n",
       "        text-align: right;\n",
       "    }\n",
       "</style>\n",
       "<table border=\"1\" class=\"dataframe\">\n",
       "  <thead>\n",
       "    <tr style=\"text-align: right;\">\n",
       "      <th></th>\n",
       "      <th>count</th>\n",
       "    </tr>\n",
       "    <tr>\n",
       "      <th>locality_name</th>\n",
       "      <th></th>\n",
       "    </tr>\n",
       "  </thead>\n",
       "  <tbody>\n",
       "    <tr>\n",
       "      <th>Санкт-Петербург</th>\n",
       "      <td>15721</td>\n",
       "    </tr>\n",
       "    <tr>\n",
       "      <th>Мурино</th>\n",
       "      <td>590</td>\n",
       "    </tr>\n",
       "    <tr>\n",
       "      <th>Кудрово</th>\n",
       "      <td>472</td>\n",
       "    </tr>\n",
       "    <tr>\n",
       "      <th>Шушары</th>\n",
       "      <td>440</td>\n",
       "    </tr>\n",
       "    <tr>\n",
       "      <th>Всеволожск</th>\n",
       "      <td>398</td>\n",
       "    </tr>\n",
       "    <tr>\n",
       "      <th>Пушкин</th>\n",
       "      <td>369</td>\n",
       "    </tr>\n",
       "    <tr>\n",
       "      <th>Колпино</th>\n",
       "      <td>338</td>\n",
       "    </tr>\n",
       "    <tr>\n",
       "      <th>Парголово</th>\n",
       "      <td>327</td>\n",
       "    </tr>\n",
       "    <tr>\n",
       "      <th>Гатчина</th>\n",
       "      <td>307</td>\n",
       "    </tr>\n",
       "    <tr>\n",
       "      <th>Выборг</th>\n",
       "      <td>237</td>\n",
       "    </tr>\n",
       "  </tbody>\n",
       "</table>\n",
       "</div>"
      ],
      "text/plain": [
       "                 count\n",
       "locality_name         \n",
       "Санкт-Петербург  15721\n",
       "Мурино             590\n",
       "Кудрово            472\n",
       "Шушары             440\n",
       "Всеволожск         398\n",
       "Пушкин             369\n",
       "Колпино            338\n",
       "Парголово          327\n",
       "Гатчина            307\n",
       "Выборг             237"
      ]
     },
     "execution_count": 65,
     "metadata": {},
     "output_type": "execute_result"
    }
   ],
   "source": [
    "# 10 населенных пунктов c наибольшим числом объявлений\n",
    "\n",
    "top_10 = data.groupby('locality_name')['price_metr'].agg(['count']).sort_values(by = 'count',ascending = False).head(10)\n",
    "top_10"
   ]
  },
  {
   "cell_type": "code",
   "execution_count": 66,
   "metadata": {
    "scrolled": true
   },
   "outputs": [
    {
     "data": {
      "text/plain": [
       "locality_name\n",
       "Всеволожск          68654.473986\n",
       "Выборг              58141.909153\n",
       "Гатчина             68746.146763\n",
       "Колпино             75424.579098\n",
       "Кудрово             95324.930544\n",
       "Мурино              86087.512050\n",
       "Парголово           90175.913458\n",
       "Пушкин             103125.819291\n",
       "Санкт-Петербург    114849.008794\n",
       "Шушары              78677.364217\n",
       "Name: price_metr, dtype: float64"
      ]
     },
     "execution_count": 66,
     "metadata": {},
     "output_type": "execute_result"
    }
   ],
   "source": [
    "#top_10_new - Таблица дата с городами только из топ 10,группировка по названию и нахождение среднего\n",
    "top_10_new = data.query('locality_name == \"Санкт-Петербург\" or locality_name == \"Мурино\" or locality_name == \"Кудрово\" or locality_name == \"Шушары\" or locality_name == \"Всеволожск\" or locality_name == \"Пушкин\" or locality_name == \"Колпино\" or locality_name == \"Парголово\" or locality_name == \"Гатчина\" or locality_name == \"Выборг\"').groupby('locality_name').mean()\n",
    "top_10_new['price_metr']"
   ]
  },
  {
   "cell_type": "markdown",
   "metadata": {},
   "source": [
    "Самая высокая средняя цена за квадратный метр - в Санкт-Петербурге(114 849 р)\n",
    "На втором месте город Пушкин (103 125 р)\n",
    "На третьем Кудрово(95 324 р)\n",
    "\n",
    "Самыми бюджетными оказались: Выборг(58 141 р), Всеволжск(68 654 р) и Гатчина(68 746 р)  "
   ]
  },
  {
   "cell_type": "code",
   "execution_count": 67,
   "metadata": {
    "scrolled": true
   },
   "outputs": [
    {
     "data": {
      "text/html": [
       "<div>\n",
       "<style scoped>\n",
       "    .dataframe tbody tr th:only-of-type {\n",
       "        vertical-align: middle;\n",
       "    }\n",
       "\n",
       "    .dataframe tbody tr th {\n",
       "        vertical-align: top;\n",
       "    }\n",
       "\n",
       "    .dataframe thead th {\n",
       "        text-align: right;\n",
       "    }\n",
       "</style>\n",
       "<table border=\"1\" class=\"dataframe\">\n",
       "  <thead>\n",
       "    <tr style=\"text-align: right;\">\n",
       "      <th></th>\n",
       "      <th>balcony</th>\n",
       "      <th>last_price</th>\n",
       "    </tr>\n",
       "    <tr>\n",
       "      <th>locality_name</th>\n",
       "      <th></th>\n",
       "      <th></th>\n",
       "    </tr>\n",
       "  </thead>\n",
       "  <tbody>\n",
       "    <tr>\n",
       "      <th>Санкт-Петербург</th>\n",
       "      <td>15721</td>\n",
       "      <td>5500000.0</td>\n",
       "    </tr>\n",
       "    <tr>\n",
       "      <th>Мурино</th>\n",
       "      <td>590</td>\n",
       "      <td>3400000.0</td>\n",
       "    </tr>\n",
       "    <tr>\n",
       "      <th>Кудрово</th>\n",
       "      <td>472</td>\n",
       "      <td>3890000.0</td>\n",
       "    </tr>\n",
       "    <tr>\n",
       "      <th>Шушары</th>\n",
       "      <td>440</td>\n",
       "      <td>3950000.0</td>\n",
       "    </tr>\n",
       "    <tr>\n",
       "      <th>Всеволожск</th>\n",
       "      <td>398</td>\n",
       "      <td>3450000.0</td>\n",
       "    </tr>\n",
       "    <tr>\n",
       "      <th>Пушкин</th>\n",
       "      <td>369</td>\n",
       "      <td>5180000.0</td>\n",
       "    </tr>\n",
       "    <tr>\n",
       "      <th>Колпино</th>\n",
       "      <td>338</td>\n",
       "      <td>3600000.0</td>\n",
       "    </tr>\n",
       "    <tr>\n",
       "      <th>Парголово</th>\n",
       "      <td>327</td>\n",
       "      <td>4100000.0</td>\n",
       "    </tr>\n",
       "    <tr>\n",
       "      <th>Гатчина</th>\n",
       "      <td>307</td>\n",
       "      <td>3100000.0</td>\n",
       "    </tr>\n",
       "    <tr>\n",
       "      <th>Выборг</th>\n",
       "      <td>237</td>\n",
       "      <td>2897000.0</td>\n",
       "    </tr>\n",
       "  </tbody>\n",
       "</table>\n",
       "</div>"
      ],
      "text/plain": [
       "                 balcony  last_price\n",
       "locality_name                       \n",
       "Санкт-Петербург    15721   5500000.0\n",
       "Мурино               590   3400000.0\n",
       "Кудрово              472   3890000.0\n",
       "Шушары               440   3950000.0\n",
       "Всеволожск           398   3450000.0\n",
       "Пушкин               369   5180000.0\n",
       "Колпино              338   3600000.0\n",
       "Парголово            327   4100000.0\n",
       "Гатчина              307   3100000.0\n",
       "Выборг               237   2897000.0"
      ]
     },
     "execution_count": 67,
     "metadata": {},
     "output_type": "execute_result"
    }
   ],
   "source": [
    "data.groupby('locality_name').agg({'balcony':'count', 'last_price':'median'}) \\\n",
    "    .sort_values(by = 'balcony', ascending = False) \\\n",
    "    .head(10)"
   ]
  },
  {
   "cell_type": "code",
   "execution_count": 68,
   "metadata": {
    "scrolled": false
   },
   "outputs": [
    {
     "data": {
      "text/html": [
       "<div>\n",
       "<style scoped>\n",
       "    .dataframe tbody tr th:only-of-type {\n",
       "        vertical-align: middle;\n",
       "    }\n",
       "\n",
       "    .dataframe tbody tr th {\n",
       "        vertical-align: top;\n",
       "    }\n",
       "\n",
       "    .dataframe thead th {\n",
       "        text-align: right;\n",
       "    }\n",
       "</style>\n",
       "<table border=\"1\" class=\"dataframe\">\n",
       "  <thead>\n",
       "    <tr style=\"text-align: right;\">\n",
       "      <th></th>\n",
       "      <th>price_metr</th>\n",
       "    </tr>\n",
       "    <tr>\n",
       "      <th>cityCenters_nearest_km</th>\n",
       "      <th></th>\n",
       "    </tr>\n",
       "  </thead>\n",
       "  <tbody>\n",
       "    <tr>\n",
       "      <th>0.0</th>\n",
       "      <td>245833.530289</td>\n",
       "    </tr>\n",
       "    <tr>\n",
       "      <th>1.0</th>\n",
       "      <td>177005.407676</td>\n",
       "    </tr>\n",
       "    <tr>\n",
       "      <th>2.0</th>\n",
       "      <td>157849.007329</td>\n",
       "    </tr>\n",
       "    <tr>\n",
       "      <th>3.0</th>\n",
       "      <td>121387.453704</td>\n",
       "    </tr>\n",
       "    <tr>\n",
       "      <th>4.0</th>\n",
       "      <td>133282.874761</td>\n",
       "    </tr>\n",
       "    <tr>\n",
       "      <th>5.0</th>\n",
       "      <td>140509.789046</td>\n",
       "    </tr>\n",
       "    <tr>\n",
       "      <th>6.0</th>\n",
       "      <td>151012.193621</td>\n",
       "    </tr>\n",
       "    <tr>\n",
       "      <th>7.0</th>\n",
       "      <td>156176.879664</td>\n",
       "    </tr>\n",
       "    <tr>\n",
       "      <th>8.0</th>\n",
       "      <td>125671.442742</td>\n",
       "    </tr>\n",
       "    <tr>\n",
       "      <th>9.0</th>\n",
       "      <td>113131.041911</td>\n",
       "    </tr>\n",
       "    <tr>\n",
       "      <th>10.0</th>\n",
       "      <td>112727.516925</td>\n",
       "    </tr>\n",
       "    <tr>\n",
       "      <th>11.0</th>\n",
       "      <td>108630.835324</td>\n",
       "    </tr>\n",
       "    <tr>\n",
       "      <th>12.0</th>\n",
       "      <td>107488.734023</td>\n",
       "    </tr>\n",
       "    <tr>\n",
       "      <th>13.0</th>\n",
       "      <td>108148.127854</td>\n",
       "    </tr>\n",
       "    <tr>\n",
       "      <th>14.0</th>\n",
       "      <td>104252.385047</td>\n",
       "    </tr>\n",
       "    <tr>\n",
       "      <th>15.0</th>\n",
       "      <td>104231.976184</td>\n",
       "    </tr>\n",
       "    <tr>\n",
       "      <th>16.0</th>\n",
       "      <td>100542.613949</td>\n",
       "    </tr>\n",
       "    <tr>\n",
       "      <th>17.0</th>\n",
       "      <td>96597.652408</td>\n",
       "    </tr>\n",
       "    <tr>\n",
       "      <th>18.0</th>\n",
       "      <td>96362.263941</td>\n",
       "    </tr>\n",
       "    <tr>\n",
       "      <th>19.0</th>\n",
       "      <td>98652.736027</td>\n",
       "    </tr>\n",
       "    <tr>\n",
       "      <th>20.0</th>\n",
       "      <td>103045.181922</td>\n",
       "    </tr>\n",
       "    <tr>\n",
       "      <th>21.0</th>\n",
       "      <td>94469.584582</td>\n",
       "    </tr>\n",
       "    <tr>\n",
       "      <th>22.0</th>\n",
       "      <td>91330.425050</td>\n",
       "    </tr>\n",
       "    <tr>\n",
       "      <th>23.0</th>\n",
       "      <td>91828.517765</td>\n",
       "    </tr>\n",
       "    <tr>\n",
       "      <th>24.0</th>\n",
       "      <td>85736.904595</td>\n",
       "    </tr>\n",
       "    <tr>\n",
       "      <th>25.0</th>\n",
       "      <td>91531.371618</td>\n",
       "    </tr>\n",
       "    <tr>\n",
       "      <th>26.0</th>\n",
       "      <td>89285.876593</td>\n",
       "    </tr>\n",
       "    <tr>\n",
       "      <th>27.0</th>\n",
       "      <td>132115.709459</td>\n",
       "    </tr>\n",
       "    <tr>\n",
       "      <th>28.0</th>\n",
       "      <td>81161.915320</td>\n",
       "    </tr>\n",
       "    <tr>\n",
       "      <th>29.0</th>\n",
       "      <td>72953.365445</td>\n",
       "    </tr>\n",
       "  </tbody>\n",
       "</table>\n",
       "</div>"
      ],
      "text/plain": [
       "                           price_metr\n",
       "cityCenters_nearest_km               \n",
       "0.0                     245833.530289\n",
       "1.0                     177005.407676\n",
       "2.0                     157849.007329\n",
       "3.0                     121387.453704\n",
       "4.0                     133282.874761\n",
       "5.0                     140509.789046\n",
       "6.0                     151012.193621\n",
       "7.0                     156176.879664\n",
       "8.0                     125671.442742\n",
       "9.0                     113131.041911\n",
       "10.0                    112727.516925\n",
       "11.0                    108630.835324\n",
       "12.0                    107488.734023\n",
       "13.0                    108148.127854\n",
       "14.0                    104252.385047\n",
       "15.0                    104231.976184\n",
       "16.0                    100542.613949\n",
       "17.0                     96597.652408\n",
       "18.0                     96362.263941\n",
       "19.0                     98652.736027\n",
       "20.0                    103045.181922\n",
       "21.0                     94469.584582\n",
       "22.0                     91330.425050\n",
       "23.0                     91828.517765\n",
       "24.0                     85736.904595\n",
       "25.0                     91531.371618\n",
       "26.0                     89285.876593\n",
       "27.0                    132115.709459\n",
       "28.0                     81161.915320\n",
       "29.0                     72953.365445"
      ]
     },
     "execution_count": 68,
     "metadata": {},
     "output_type": "execute_result"
    }
   ],
   "source": [
    "price_km_mean = data[data['locality_name'] == 'Санкт-Петербург'].groupby('cityCenters_nearest_km').agg({'price_metr':'mean'})\n",
    "price_km_mean"
   ]
  },
  {
   "cell_type": "markdown",
   "metadata": {},
   "source": [
    "Чем дальше от центра, тем ниже цена на квадратный метр. Однако, на  27 км цена сильно выделяется.Это может быть связано с продажей очень дорогого жилья."
   ]
  },
  {
   "cell_type": "code",
   "execution_count": 70,
   "metadata": {
    "scrolled": true
   },
   "outputs": [
    {
     "data": {
      "image/png": "[encoded data removed]",
      "text/plain": [
       "<Figure size 432x288 with 1 Axes>"
      ]
     },
     "metadata": {
      "needs_background": "light"
     },
     "output_type": "display_data"
    }
   ],
   "source": [
    "price_km_mean.plot(grid = True, title = 'Заголовок');"
   ]
  },
  {
   "cell_type": "markdown",
   "metadata": {},
   "source": [
    "Взглянув на график, видно, что цена снижается, однако есть пик в 6 км от города и в 27 км"
   ]
  },
  {
   "cell_type": "markdown",
   "metadata": {},
   "source": [
    "### Общий вывод"
   ]
  },
  {
   "cell_type": "markdown",
   "metadata": {},
   "source": [
    "В ходе исследования удалось выяснить:\n",
    "- Хорошо продаются квартиры с общей площадью от 30 до 100 м2\n",
    "- Чаще всего люди покупают однокомнатные квартиры\n",
    "- Потолки имеют разброс от 2,5 до 2,8 метров\n",
    "- Предпочтительнее квартиры в центре или очень далеко от него, поэтому продают где-то посередине\n",
    "- На выходных покупки совершаются редко, чаще совершают сделку во вторник или четверг\n",
    "- Если оценивать по месяцам, то чаще покупают в зимний период, а реже в мае\n",
    "- Быстрой покупкой можно считать продажу за менее чем 45 дней, а медленной более 232 дней\n",
    "- Больше всего на цену влияет общая площадь, также можно отследить зависимость цены от количества комнат\n",
    "- Чем дальше от центра, тем ниже цена\n",
    "- На первом этаже жилье преобретают реже всего,поэтому цена тоже ниже. С большей охотой покупают на последнем, цена чуть выше первого этажа. Чаще всего люди предпочитают не последний и не первый этажи и там самые высокие цены."
   ]
  }
 ],
 "metadata": {
  "ExecuteTimeLog": [
   {
    "duration": 540,
    "start_time": "2022-11-20T07:42:33.957Z"
   },
   {
    "duration": 95,
    "start_time": "2022-11-20T07:44:34.865Z"
   },
   {
    "duration": 15,
    "start_time": "2022-11-20T07:46:39.121Z"
   },
   {
    "duration": 16,
    "start_time": "2022-11-20T07:47:30.956Z"
   },
   {
    "duration": 68,
    "start_time": "2022-11-20T07:52:10.727Z"
   },
   {
    "duration": 13,
    "start_time": "2022-11-20T07:52:15.242Z"
   },
   {
    "duration": 70,
    "start_time": "2022-11-20T07:58:51.702Z"
   },
   {
    "duration": 75,
    "start_time": "2022-11-20T07:59:20.393Z"
   },
   {
    "duration": 86,
    "start_time": "2022-11-20T07:59:58.640Z"
   },
   {
    "duration": 91,
    "start_time": "2022-11-20T08:06:00.448Z"
   },
   {
    "duration": 69,
    "start_time": "2022-11-20T08:07:28.301Z"
   },
   {
    "duration": 81,
    "start_time": "2022-11-20T08:07:34.712Z"
   },
   {
    "duration": 14,
    "start_time": "2022-11-20T08:07:36.220Z"
   },
   {
    "duration": 103,
    "start_time": "2022-11-20T08:24:30.648Z"
   },
   {
    "duration": 101,
    "start_time": "2022-11-20T08:24:33.466Z"
   },
   {
    "duration": 25,
    "start_time": "2022-11-20T08:24:36.457Z"
   },
   {
    "duration": 2335,
    "start_time": "2022-11-20T08:25:17.141Z"
   },
   {
    "duration": 1719,
    "start_time": "2022-11-20T08:25:32.771Z"
   },
   {
    "duration": 92,
    "start_time": "2022-11-20T08:29:06.695Z"
   },
   {
    "duration": 27,
    "start_time": "2022-11-20T08:29:09.005Z"
   },
   {
    "duration": 1711,
    "start_time": "2022-11-20T08:29:13.296Z"
   },
   {
    "duration": 1764,
    "start_time": "2022-11-20T08:29:36.183Z"
   },
   {
    "duration": 1172,
    "start_time": "2022-11-20T08:32:48.888Z"
   },
   {
    "duration": 1128,
    "start_time": "2022-11-20T08:32:57.189Z"
   },
   {
    "duration": 8,
    "start_time": "2022-11-20T08:33:13.390Z"
   },
   {
    "duration": 167,
    "start_time": "2022-11-20T08:33:21.129Z"
   },
   {
    "duration": 128,
    "start_time": "2022-11-20T08:33:35.526Z"
   },
   {
    "duration": 1490,
    "start_time": "2022-11-20T08:34:12.021Z"
   },
   {
    "duration": 1353,
    "start_time": "2022-11-20T08:36:32.550Z"
   },
   {
    "duration": 2561,
    "start_time": "2022-11-20T08:36:42.595Z"
   },
   {
    "duration": 14,
    "start_time": "2022-11-20T08:44:09.642Z"
   },
   {
    "duration": 1279,
    "start_time": "2022-11-20T09:20:13.253Z"
   },
   {
    "duration": 52,
    "start_time": "2022-11-20T09:20:28.084Z"
   },
   {
    "duration": 555,
    "start_time": "2022-11-20T09:20:50.834Z"
   },
   {
    "duration": 588,
    "start_time": "2022-11-20T09:20:59.195Z"
   },
   {
    "duration": 45,
    "start_time": "2022-11-20T09:21:03.541Z"
   },
   {
    "duration": 33,
    "start_time": "2022-11-20T09:21:31.071Z"
   },
   {
    "duration": 42,
    "start_time": "2022-11-20T09:22:58.528Z"
   },
   {
    "duration": 12,
    "start_time": "2022-11-20T09:29:09.791Z"
   },
   {
    "duration": 9,
    "start_time": "2022-11-20T09:29:19.656Z"
   },
   {
    "duration": 5,
    "start_time": "2022-11-20T09:30:31.684Z"
   },
   {
    "duration": 4,
    "start_time": "2022-11-20T09:30:33.712Z"
   },
   {
    "duration": 5,
    "start_time": "2022-11-20T09:31:08.605Z"
   },
   {
    "duration": 10,
    "start_time": "2022-11-20T09:32:18.147Z"
   },
   {
    "duration": 6,
    "start_time": "2022-11-20T09:32:20.905Z"
   },
   {
    "duration": 7,
    "start_time": "2022-11-20T09:36:46.018Z"
   },
   {
    "duration": 8,
    "start_time": "2022-11-20T09:37:59.930Z"
   },
   {
    "duration": 6,
    "start_time": "2022-11-20T09:45:38.189Z"
   },
   {
    "duration": 6,
    "start_time": "2022-11-20T09:47:46.921Z"
   },
   {
    "duration": 40,
    "start_time": "2022-11-20T09:47:56.941Z"
   },
   {
    "duration": 7,
    "start_time": "2022-11-20T09:48:30.647Z"
   },
   {
    "duration": 9,
    "start_time": "2022-11-20T09:48:42.845Z"
   },
   {
    "duration": 13,
    "start_time": "2022-11-20T09:52:32.138Z"
   },
   {
    "duration": 1234,
    "start_time": "2022-11-20T09:54:29.148Z"
   },
   {
    "duration": 5,
    "start_time": "2022-11-20T10:10:33.976Z"
   },
   {
    "duration": 5,
    "start_time": "2022-11-20T10:10:59.342Z"
   },
   {
    "duration": 5,
    "start_time": "2022-11-20T10:11:04.051Z"
   },
   {
    "duration": 2,
    "start_time": "2022-11-20T10:11:47.217Z"
   },
   {
    "duration": 8,
    "start_time": "2022-11-20T10:18:36.601Z"
   },
   {
    "duration": 9,
    "start_time": "2022-11-20T10:18:45.469Z"
   },
   {
    "duration": 12,
    "start_time": "2022-11-20T10:18:48.776Z"
   },
   {
    "duration": 21,
    "start_time": "2022-11-20T10:19:20.186Z"
   },
   {
    "duration": 16,
    "start_time": "2022-11-20T10:19:45.197Z"
   },
   {
    "duration": 23,
    "start_time": "2022-11-20T10:19:54.838Z"
   },
   {
    "duration": 27,
    "start_time": "2022-11-20T10:21:20.288Z"
   },
   {
    "duration": 7,
    "start_time": "2022-11-20T10:23:59.352Z"
   },
   {
    "duration": 9,
    "start_time": "2022-11-20T10:24:08.754Z"
   },
   {
    "duration": 58,
    "start_time": "2022-11-20T15:43:17.635Z"
   },
   {
    "duration": 7,
    "start_time": "2022-11-20T15:43:32.827Z"
   },
   {
    "duration": 7,
    "start_time": "2022-11-20T15:43:45.832Z"
   },
   {
    "duration": 9,
    "start_time": "2022-11-20T15:43:51.980Z"
   },
   {
    "duration": 1174,
    "start_time": "2022-11-20T15:44:04.028Z"
   },
   {
    "duration": 32,
    "start_time": "2022-11-20T15:44:05.204Z"
   },
   {
    "duration": 2790,
    "start_time": "2022-11-20T15:44:05.238Z"
   },
   {
    "duration": 11,
    "start_time": "2022-11-20T15:44:08.029Z"
   },
   {
    "duration": 48,
    "start_time": "2022-11-20T15:44:08.042Z"
   },
   {
    "duration": 8,
    "start_time": "2022-11-20T15:44:08.091Z"
   },
   {
    "duration": 12,
    "start_time": "2022-11-20T15:44:08.101Z"
   },
   {
    "duration": 11,
    "start_time": "2022-11-20T15:44:08.117Z"
   },
   {
    "duration": 8,
    "start_time": "2022-11-20T15:44:08.129Z"
   },
   {
    "duration": 9,
    "start_time": "2022-11-20T15:44:08.138Z"
   },
   {
    "duration": 13,
    "start_time": "2022-11-20T15:44:08.149Z"
   },
   {
    "duration": 27,
    "start_time": "2022-11-20T15:44:08.164Z"
   },
   {
    "duration": 21,
    "start_time": "2022-11-20T15:44:08.213Z"
   },
   {
    "duration": 0,
    "start_time": "2022-11-20T15:44:08.532Z"
   },
   {
    "duration": 292,
    "start_time": "2022-11-20T15:44:12.185Z"
   },
   {
    "duration": 23,
    "start_time": "2022-11-20T15:44:55.204Z"
   },
   {
    "duration": 16,
    "start_time": "2022-11-20T15:45:00.635Z"
   },
   {
    "duration": 16,
    "start_time": "2022-11-20T15:45:04.294Z"
   },
   {
    "duration": 253,
    "start_time": "2022-11-20T15:45:33.656Z"
   },
   {
    "duration": 233,
    "start_time": "2022-11-20T15:46:15.851Z"
   },
   {
    "duration": 269,
    "start_time": "2022-11-20T15:47:40.596Z"
   },
   {
    "duration": 210,
    "start_time": "2022-11-20T15:47:50.889Z"
   },
   {
    "duration": 228,
    "start_time": "2022-11-20T15:50:27.310Z"
   },
   {
    "duration": 213,
    "start_time": "2022-11-20T15:55:33.528Z"
   },
   {
    "duration": 236,
    "start_time": "2022-11-20T15:55:42.540Z"
   },
   {
    "duration": 227,
    "start_time": "2022-11-20T15:55:56.568Z"
   },
   {
    "duration": 312,
    "start_time": "2022-11-20T15:56:23.280Z"
   },
   {
    "duration": 292,
    "start_time": "2022-11-20T15:56:48.495Z"
   },
   {
    "duration": 231,
    "start_time": "2022-11-20T15:57:11.580Z"
   },
   {
    "duration": 57,
    "start_time": "2022-11-20T15:57:13.172Z"
   },
   {
    "duration": 88,
    "start_time": "2022-11-20T16:06:23.181Z"
   },
   {
    "duration": 5,
    "start_time": "2022-11-20T16:06:39.321Z"
   },
   {
    "duration": 23,
    "start_time": "2022-11-20T16:07:21.334Z"
   },
   {
    "duration": 12,
    "start_time": "2022-11-20T16:08:54.951Z"
   },
   {
    "duration": 8,
    "start_time": "2022-11-20T16:13:43.774Z"
   },
   {
    "duration": 13,
    "start_time": "2022-11-20T16:14:00.113Z"
   },
   {
    "duration": 8,
    "start_time": "2022-11-20T16:14:18.479Z"
   },
   {
    "duration": 7,
    "start_time": "2022-11-20T16:14:21.371Z"
   },
   {
    "duration": 7,
    "start_time": "2022-11-20T16:14:43.359Z"
   },
   {
    "duration": 7,
    "start_time": "2022-11-20T16:15:01.090Z"
   },
   {
    "duration": 6,
    "start_time": "2022-11-20T16:16:24.981Z"
   },
   {
    "duration": 7,
    "start_time": "2022-11-20T16:16:31.489Z"
   },
   {
    "duration": 94,
    "start_time": "2022-11-20T16:16:50.450Z"
   },
   {
    "duration": 25,
    "start_time": "2022-11-20T16:16:50.547Z"
   },
   {
    "duration": 2733,
    "start_time": "2022-11-20T16:16:50.574Z"
   },
   {
    "duration": 13,
    "start_time": "2022-11-20T16:16:53.309Z"
   },
   {
    "duration": 43,
    "start_time": "2022-11-20T16:16:53.332Z"
   },
   {
    "duration": 9,
    "start_time": "2022-11-20T16:16:53.377Z"
   },
   {
    "duration": 29,
    "start_time": "2022-11-20T16:16:53.388Z"
   },
   {
    "duration": 7,
    "start_time": "2022-11-20T16:16:53.423Z"
   },
   {
    "duration": 6,
    "start_time": "2022-11-20T16:16:53.432Z"
   },
   {
    "duration": 11,
    "start_time": "2022-11-20T16:16:53.441Z"
   },
   {
    "duration": 26,
    "start_time": "2022-11-20T16:16:53.454Z"
   },
   {
    "duration": 25,
    "start_time": "2022-11-20T16:16:53.481Z"
   },
   {
    "duration": 19,
    "start_time": "2022-11-20T16:16:53.508Z"
   },
   {
    "duration": 9,
    "start_time": "2022-11-20T16:17:09.339Z"
   },
   {
    "duration": 8,
    "start_time": "2022-11-20T16:17:11.824Z"
   },
   {
    "duration": 7,
    "start_time": "2022-11-20T16:17:43.134Z"
   },
   {
    "duration": 10,
    "start_time": "2022-11-20T16:19:40.967Z"
   },
   {
    "duration": 10,
    "start_time": "2022-11-20T16:21:01.279Z"
   },
   {
    "duration": 94,
    "start_time": "2022-11-20T16:21:28.494Z"
   },
   {
    "duration": 34,
    "start_time": "2022-11-20T16:21:28.591Z"
   },
   {
    "duration": 2805,
    "start_time": "2022-11-20T16:21:28.626Z"
   },
   {
    "duration": 10,
    "start_time": "2022-11-20T16:21:31.433Z"
   },
   {
    "duration": 40,
    "start_time": "2022-11-20T16:21:31.446Z"
   },
   {
    "duration": 41,
    "start_time": "2022-11-20T16:21:31.488Z"
   },
   {
    "duration": 13,
    "start_time": "2022-11-20T16:21:31.531Z"
   },
   {
    "duration": 5,
    "start_time": "2022-11-20T16:21:31.546Z"
   },
   {
    "duration": 6,
    "start_time": "2022-11-20T16:21:31.553Z"
   },
   {
    "duration": 8,
    "start_time": "2022-11-20T16:21:31.560Z"
   },
   {
    "duration": 12,
    "start_time": "2022-11-20T16:21:31.570Z"
   },
   {
    "duration": 48,
    "start_time": "2022-11-20T16:21:31.583Z"
   },
   {
    "duration": 7,
    "start_time": "2022-11-20T16:21:31.633Z"
   },
   {
    "duration": 8,
    "start_time": "2022-11-20T16:21:38.461Z"
   },
   {
    "duration": 55,
    "start_time": "2022-11-20T18:45:24.049Z"
   },
   {
    "duration": 937,
    "start_time": "2022-11-20T18:45:31.704Z"
   },
   {
    "duration": 27,
    "start_time": "2022-11-20T18:45:32.643Z"
   },
   {
    "duration": 2527,
    "start_time": "2022-11-20T18:45:32.672Z"
   },
   {
    "duration": 10,
    "start_time": "2022-11-20T18:45:35.202Z"
   },
   {
    "duration": 56,
    "start_time": "2022-11-20T18:45:35.213Z"
   },
   {
    "duration": 8,
    "start_time": "2022-11-20T18:45:35.270Z"
   },
   {
    "duration": 36,
    "start_time": "2022-11-20T18:45:35.279Z"
   },
   {
    "duration": 23,
    "start_time": "2022-11-20T18:45:35.316Z"
   },
   {
    "duration": 20,
    "start_time": "2022-11-20T18:45:35.340Z"
   },
   {
    "duration": 20,
    "start_time": "2022-11-20T18:45:35.362Z"
   },
   {
    "duration": 25,
    "start_time": "2022-11-20T18:45:35.384Z"
   },
   {
    "duration": 43,
    "start_time": "2022-11-20T18:45:35.411Z"
   },
   {
    "duration": 7,
    "start_time": "2022-11-20T18:45:35.456Z"
   },
   {
    "duration": 33,
    "start_time": "2022-11-20T18:45:35.464Z"
   },
   {
    "duration": 19,
    "start_time": "2022-11-20T18:46:04.983Z"
   },
   {
    "duration": 30,
    "start_time": "2022-11-20T18:47:00.580Z"
   },
   {
    "duration": 32,
    "start_time": "2022-11-20T18:47:10.600Z"
   },
   {
    "duration": 52,
    "start_time": "2022-11-20T18:47:23.456Z"
   },
   {
    "duration": 27,
    "start_time": "2022-11-20T18:47:33.946Z"
   },
   {
    "duration": 29,
    "start_time": "2022-11-20T18:47:44.867Z"
   },
   {
    "duration": 28,
    "start_time": "2022-11-20T18:48:22.535Z"
   },
   {
    "duration": 29,
    "start_time": "2022-11-20T18:48:28.666Z"
   },
   {
    "duration": 26,
    "start_time": "2022-11-20T18:48:39.643Z"
   },
   {
    "duration": 60,
    "start_time": "2022-11-20T18:50:23.347Z"
   },
   {
    "duration": 56,
    "start_time": "2022-11-20T18:51:22.540Z"
   },
   {
    "duration": 71,
    "start_time": "2022-11-20T18:51:42.213Z"
   },
   {
    "duration": 84,
    "start_time": "2022-11-20T18:54:57.139Z"
   },
   {
    "duration": 86,
    "start_time": "2022-11-20T18:55:11.373Z"
   },
   {
    "duration": 25,
    "start_time": "2022-11-20T18:55:11.461Z"
   },
   {
    "duration": 2359,
    "start_time": "2022-11-20T18:55:11.488Z"
   },
   {
    "duration": 13,
    "start_time": "2022-11-20T18:55:13.848Z"
   },
   {
    "duration": 60,
    "start_time": "2022-11-20T18:55:13.863Z"
   },
   {
    "duration": 14,
    "start_time": "2022-11-20T18:55:13.925Z"
   },
   {
    "duration": 10,
    "start_time": "2022-11-20T18:55:13.941Z"
   },
   {
    "duration": 10,
    "start_time": "2022-11-20T18:55:13.953Z"
   },
   {
    "duration": 8,
    "start_time": "2022-11-20T18:55:13.965Z"
   },
   {
    "duration": 11,
    "start_time": "2022-11-20T18:55:13.974Z"
   },
   {
    "duration": 16,
    "start_time": "2022-11-20T18:55:13.986Z"
   },
   {
    "duration": 41,
    "start_time": "2022-11-20T18:55:14.004Z"
   },
   {
    "duration": 6,
    "start_time": "2022-11-20T18:55:14.047Z"
   },
   {
    "duration": 139,
    "start_time": "2022-11-20T18:55:14.056Z"
   },
   {
    "duration": 90,
    "start_time": "2022-11-20T18:55:53.774Z"
   },
   {
    "duration": 83,
    "start_time": "2022-11-20T18:58:23.255Z"
   },
   {
    "duration": 85,
    "start_time": "2022-11-20T18:59:06.020Z"
   },
   {
    "duration": 91,
    "start_time": "2022-11-20T18:59:14.268Z"
   },
   {
    "duration": 79,
    "start_time": "2022-11-20T18:59:20.897Z"
   },
   {
    "duration": 23,
    "start_time": "2022-11-20T18:59:20.978Z"
   },
   {
    "duration": 2279,
    "start_time": "2022-11-20T18:59:21.003Z"
   },
   {
    "duration": 8,
    "start_time": "2022-11-20T18:59:23.284Z"
   },
   {
    "duration": 46,
    "start_time": "2022-11-20T18:59:23.293Z"
   },
   {
    "duration": 7,
    "start_time": "2022-11-20T18:59:23.340Z"
   },
   {
    "duration": 8,
    "start_time": "2022-11-20T18:59:23.348Z"
   },
   {
    "duration": 5,
    "start_time": "2022-11-20T18:59:23.358Z"
   },
   {
    "duration": 2,
    "start_time": "2022-11-20T18:59:23.364Z"
   },
   {
    "duration": 7,
    "start_time": "2022-11-20T18:59:23.368Z"
   },
   {
    "duration": 11,
    "start_time": "2022-11-20T18:59:23.376Z"
   },
   {
    "duration": 46,
    "start_time": "2022-11-20T18:59:23.390Z"
   },
   {
    "duration": 5,
    "start_time": "2022-11-20T18:59:23.438Z"
   },
   {
    "duration": 19,
    "start_time": "2022-11-20T19:00:16.873Z"
   },
   {
    "duration": 21,
    "start_time": "2022-11-20T19:07:24.234Z"
   },
   {
    "duration": 19,
    "start_time": "2022-11-20T19:07:41.184Z"
   },
   {
    "duration": 18,
    "start_time": "2022-11-20T19:08:43.370Z"
   },
   {
    "duration": 75,
    "start_time": "2022-11-20T19:08:47.612Z"
   },
   {
    "duration": 24,
    "start_time": "2022-11-20T19:08:47.689Z"
   },
   {
    "duration": 2354,
    "start_time": "2022-11-20T19:08:47.715Z"
   },
   {
    "duration": 8,
    "start_time": "2022-11-20T19:08:50.071Z"
   },
   {
    "duration": 49,
    "start_time": "2022-11-20T19:08:50.081Z"
   },
   {
    "duration": 7,
    "start_time": "2022-11-20T19:08:50.131Z"
   },
   {
    "duration": 14,
    "start_time": "2022-11-20T19:08:50.140Z"
   },
   {
    "duration": 5,
    "start_time": "2022-11-20T19:08:50.155Z"
   },
   {
    "duration": 3,
    "start_time": "2022-11-20T19:08:50.162Z"
   },
   {
    "duration": 8,
    "start_time": "2022-11-20T19:08:50.167Z"
   },
   {
    "duration": 16,
    "start_time": "2022-11-20T19:08:50.177Z"
   },
   {
    "duration": 40,
    "start_time": "2022-11-20T19:08:50.194Z"
   },
   {
    "duration": 6,
    "start_time": "2022-11-20T19:08:50.236Z"
   },
   {
    "duration": 37,
    "start_time": "2022-11-20T19:08:50.243Z"
   },
   {
    "duration": 68,
    "start_time": "2022-11-20T19:08:50.281Z"
   },
   {
    "duration": 18,
    "start_time": "2022-11-20T19:13:26.919Z"
   },
   {
    "duration": 19,
    "start_time": "2022-11-20T19:13:30.131Z"
   },
   {
    "duration": 99,
    "start_time": "2022-11-20T19:14:49.200Z"
   },
   {
    "duration": 148,
    "start_time": "2022-11-20T19:15:24.059Z"
   },
   {
    "duration": 136,
    "start_time": "2022-11-20T19:17:50.742Z"
   },
   {
    "duration": 140,
    "start_time": "2022-11-20T19:18:21.472Z"
   },
   {
    "duration": 5,
    "start_time": "2022-11-20T19:19:15.272Z"
   },
   {
    "duration": 7,
    "start_time": "2022-11-20T19:24:26.404Z"
   },
   {
    "duration": 6,
    "start_time": "2022-11-20T19:24:45.412Z"
   },
   {
    "duration": 1079,
    "start_time": "2022-11-21T14:35:07.060Z"
   },
   {
    "duration": 29,
    "start_time": "2022-11-21T14:35:08.142Z"
   },
   {
    "duration": 2516,
    "start_time": "2022-11-21T14:35:08.172Z"
   },
   {
    "duration": 9,
    "start_time": "2022-11-21T14:35:10.691Z"
   },
   {
    "duration": 39,
    "start_time": "2022-11-21T14:35:10.702Z"
   },
   {
    "duration": 8,
    "start_time": "2022-11-21T14:35:10.742Z"
   },
   {
    "duration": 10,
    "start_time": "2022-11-21T14:35:10.752Z"
   },
   {
    "duration": 29,
    "start_time": "2022-11-21T14:35:10.763Z"
   },
   {
    "duration": 15,
    "start_time": "2022-11-21T14:35:10.794Z"
   },
   {
    "duration": 9,
    "start_time": "2022-11-21T14:35:10.812Z"
   },
   {
    "duration": 12,
    "start_time": "2022-11-21T14:35:10.823Z"
   },
   {
    "duration": 29,
    "start_time": "2022-11-21T14:35:10.837Z"
   },
   {
    "duration": 10,
    "start_time": "2022-11-21T14:35:10.868Z"
   },
   {
    "duration": 78,
    "start_time": "2022-11-21T14:35:10.880Z"
   },
   {
    "duration": 0,
    "start_time": "2022-11-21T14:35:10.960Z"
   },
   {
    "duration": 154,
    "start_time": "2022-11-21T14:35:46.491Z"
   },
   {
    "duration": 169,
    "start_time": "2022-11-21T14:45:07.950Z"
   },
   {
    "duration": 7,
    "start_time": "2022-11-21T14:45:25.371Z"
   },
   {
    "duration": 180,
    "start_time": "2022-11-21T14:48:04.926Z"
   },
   {
    "duration": 7,
    "start_time": "2022-11-21T14:48:07.825Z"
   },
   {
    "duration": 164,
    "start_time": "2022-11-21T14:48:22.827Z"
   },
   {
    "duration": 6,
    "start_time": "2022-11-21T14:48:26.846Z"
   },
   {
    "duration": 5,
    "start_time": "2022-11-21T14:48:58.690Z"
   },
   {
    "duration": 8,
    "start_time": "2022-11-21T14:49:26.703Z"
   },
   {
    "duration": 11,
    "start_time": "2022-11-21T14:49:31.873Z"
   },
   {
    "duration": 5,
    "start_time": "2022-11-21T14:49:41.421Z"
   },
   {
    "duration": 176,
    "start_time": "2022-11-21T14:49:51.578Z"
   },
   {
    "duration": 6,
    "start_time": "2022-11-21T14:50:02.057Z"
   },
   {
    "duration": 164,
    "start_time": "2022-11-21T14:50:37.800Z"
   },
   {
    "duration": 163,
    "start_time": "2022-11-21T14:50:44.052Z"
   },
   {
    "duration": 9,
    "start_time": "2022-11-21T14:52:08.727Z"
   },
   {
    "duration": 22,
    "start_time": "2022-11-21T18:23:16.652Z"
   },
   {
    "duration": 100,
    "start_time": "2022-11-21T18:23:44.082Z"
   },
   {
    "duration": 26,
    "start_time": "2022-11-21T18:23:44.194Z"
   },
   {
    "duration": 2789,
    "start_time": "2022-11-21T18:23:44.222Z"
   },
   {
    "duration": 12,
    "start_time": "2022-11-21T18:23:47.013Z"
   },
   {
    "duration": 69,
    "start_time": "2022-11-21T18:23:47.028Z"
   },
   {
    "duration": 8,
    "start_time": "2022-11-21T18:23:47.098Z"
   },
   {
    "duration": 14,
    "start_time": "2022-11-21T18:23:47.107Z"
   },
   {
    "duration": 13,
    "start_time": "2022-11-21T18:23:47.123Z"
   },
   {
    "duration": 4,
    "start_time": "2022-11-21T18:23:47.138Z"
   },
   {
    "duration": 12,
    "start_time": "2022-11-21T18:23:47.144Z"
   },
   {
    "duration": 35,
    "start_time": "2022-11-21T18:23:47.158Z"
   },
   {
    "duration": 27,
    "start_time": "2022-11-21T18:23:47.194Z"
   },
   {
    "duration": 0,
    "start_time": "2022-11-21T18:23:47.223Z"
   },
   {
    "duration": 0,
    "start_time": "2022-11-21T18:23:47.224Z"
   },
   {
    "duration": 0,
    "start_time": "2022-11-21T18:23:47.225Z"
   },
   {
    "duration": 0,
    "start_time": "2022-11-21T18:23:47.226Z"
   },
   {
    "duration": 19,
    "start_time": "2022-11-21T18:23:57.876Z"
   },
   {
    "duration": 151,
    "start_time": "2022-11-21T18:26:26.098Z"
   },
   {
    "duration": 149,
    "start_time": "2022-11-21T18:27:04.356Z"
   },
   {
    "duration": 194,
    "start_time": "2022-11-21T18:27:10.941Z"
   },
   {
    "duration": 202,
    "start_time": "2022-11-21T18:27:28.996Z"
   },
   {
    "duration": 191,
    "start_time": "2022-11-21T18:27:38.073Z"
   },
   {
    "duration": 376,
    "start_time": "2022-11-21T18:27:45.521Z"
   },
   {
    "duration": 244,
    "start_time": "2022-11-21T18:28:16.584Z"
   },
   {
    "duration": 350,
    "start_time": "2022-11-21T18:29:05.367Z"
   },
   {
    "duration": 5,
    "start_time": "2022-11-21T18:37:11.595Z"
   },
   {
    "duration": 34,
    "start_time": "2022-11-21T18:38:28.317Z"
   },
   {
    "duration": 14,
    "start_time": "2022-11-21T18:44:04.077Z"
   },
   {
    "duration": 9,
    "start_time": "2022-11-21T18:44:21.301Z"
   },
   {
    "duration": 14,
    "start_time": "2022-11-21T18:44:48.612Z"
   },
   {
    "duration": 85,
    "start_time": "2022-11-21T18:46:09.775Z"
   },
   {
    "duration": 13,
    "start_time": "2022-11-21T18:53:31.722Z"
   },
   {
    "duration": 14,
    "start_time": "2022-11-21T18:53:42.957Z"
   },
   {
    "duration": 15,
    "start_time": "2022-11-21T18:54:56.538Z"
   },
   {
    "duration": 49,
    "start_time": "2022-11-23T14:40:51.965Z"
   },
   {
    "duration": 6,
    "start_time": "2022-11-23T14:50:46.271Z"
   },
   {
    "duration": 1132,
    "start_time": "2022-11-23T14:50:53.155Z"
   },
   {
    "duration": 26,
    "start_time": "2022-11-23T14:50:54.288Z"
   },
   {
    "duration": 2453,
    "start_time": "2022-11-23T14:50:54.316Z"
   },
   {
    "duration": 9,
    "start_time": "2022-11-23T14:50:56.771Z"
   },
   {
    "duration": 35,
    "start_time": "2022-11-23T14:50:56.782Z"
   },
   {
    "duration": 7,
    "start_time": "2022-11-23T14:50:56.819Z"
   },
   {
    "duration": 16,
    "start_time": "2022-11-23T14:50:56.828Z"
   },
   {
    "duration": 9,
    "start_time": "2022-11-23T14:50:56.845Z"
   },
   {
    "duration": 4,
    "start_time": "2022-11-23T14:50:56.856Z"
   },
   {
    "duration": 18,
    "start_time": "2022-11-23T14:50:56.861Z"
   },
   {
    "duration": 12,
    "start_time": "2022-11-23T14:50:56.880Z"
   },
   {
    "duration": 23,
    "start_time": "2022-11-23T14:50:56.894Z"
   },
   {
    "duration": 21,
    "start_time": "2022-11-23T14:50:57.640Z"
   },
   {
    "duration": 6,
    "start_time": "2022-11-23T14:52:21.809Z"
   },
   {
    "duration": 36,
    "start_time": "2022-11-23T14:53:02.026Z"
   },
   {
    "duration": 7,
    "start_time": "2022-11-23T14:53:11.961Z"
   },
   {
    "duration": 55,
    "start_time": "2022-11-23T14:53:34.124Z"
   },
   {
    "duration": 20,
    "start_time": "2022-11-23T14:53:48.145Z"
   },
   {
    "duration": 9,
    "start_time": "2022-11-23T14:54:20.622Z"
   },
   {
    "duration": 8,
    "start_time": "2022-11-23T14:54:37.009Z"
   },
   {
    "duration": 7,
    "start_time": "2022-11-23T14:55:40.146Z"
   },
   {
    "duration": 7,
    "start_time": "2022-11-23T14:55:46.372Z"
   },
   {
    "duration": 9,
    "start_time": "2022-11-23T14:55:50.672Z"
   },
   {
    "duration": 8,
    "start_time": "2022-11-23T14:56:09.784Z"
   },
   {
    "duration": 180,
    "start_time": "2022-11-23T14:57:03.218Z"
   },
   {
    "duration": 166,
    "start_time": "2022-11-23T14:57:07.870Z"
   },
   {
    "duration": 172,
    "start_time": "2022-11-23T14:59:15.768Z"
   },
   {
    "duration": 175,
    "start_time": "2022-11-23T14:59:33.241Z"
   },
   {
    "duration": 7,
    "start_time": "2022-11-23T15:03:28.825Z"
   },
   {
    "duration": 7,
    "start_time": "2022-11-23T15:03:40.692Z"
   },
   {
    "duration": 2,
    "start_time": "2022-11-23T15:05:05.604Z"
   },
   {
    "duration": 51,
    "start_time": "2022-11-23T15:11:07.139Z"
   },
   {
    "duration": 51,
    "start_time": "2022-11-23T15:11:25.593Z"
   },
   {
    "duration": 11,
    "start_time": "2022-11-23T15:12:16.520Z"
   },
   {
    "duration": 11,
    "start_time": "2022-11-23T15:12:24.587Z"
   },
   {
    "duration": 4,
    "start_time": "2022-11-23T15:15:58.137Z"
   },
   {
    "duration": 11,
    "start_time": "2022-11-23T15:16:06.930Z"
   },
   {
    "duration": 3,
    "start_time": "2022-11-23T15:17:30.788Z"
   },
   {
    "duration": 4,
    "start_time": "2022-11-23T15:17:38.133Z"
   },
   {
    "duration": 5,
    "start_time": "2022-11-23T15:17:59.616Z"
   },
   {
    "duration": 53,
    "start_time": "2022-11-23T15:18:43.293Z"
   },
   {
    "duration": 39,
    "start_time": "2022-11-23T15:20:23.540Z"
   },
   {
    "duration": 38,
    "start_time": "2022-11-23T15:20:41.056Z"
   },
   {
    "duration": 40,
    "start_time": "2022-11-23T15:22:47.887Z"
   },
   {
    "duration": 20,
    "start_time": "2022-11-23T15:30:26.713Z"
   },
   {
    "duration": 11,
    "start_time": "2022-11-23T15:30:29.969Z"
   },
   {
    "duration": 11,
    "start_time": "2022-11-23T15:30:47.482Z"
   },
   {
    "duration": 21,
    "start_time": "2022-11-23T15:31:02.183Z"
   },
   {
    "duration": 4,
    "start_time": "2022-11-23T15:33:12.716Z"
   },
   {
    "duration": 3,
    "start_time": "2022-11-23T15:33:14.983Z"
   },
   {
    "duration": 7,
    "start_time": "2022-11-23T15:33:32.296Z"
   },
   {
    "duration": 18,
    "start_time": "2022-11-23T15:33:51.713Z"
   },
   {
    "duration": 19,
    "start_time": "2022-11-23T15:34:19.615Z"
   },
   {
    "duration": 93,
    "start_time": "2022-11-23T15:34:25.175Z"
   },
   {
    "duration": 26,
    "start_time": "2022-11-23T15:34:25.270Z"
   },
   {
    "duration": 2333,
    "start_time": "2022-11-23T15:34:25.297Z"
   },
   {
    "duration": 11,
    "start_time": "2022-11-23T15:34:27.631Z"
   },
   {
    "duration": 49,
    "start_time": "2022-11-23T15:34:27.645Z"
   },
   {
    "duration": 7,
    "start_time": "2022-11-23T15:34:27.695Z"
   },
   {
    "duration": 7,
    "start_time": "2022-11-23T15:34:27.703Z"
   },
   {
    "duration": 8,
    "start_time": "2022-11-23T15:34:27.711Z"
   },
   {
    "duration": 3,
    "start_time": "2022-11-23T15:34:27.720Z"
   },
   {
    "duration": 9,
    "start_time": "2022-11-23T15:34:27.724Z"
   },
   {
    "duration": 12,
    "start_time": "2022-11-23T15:34:27.734Z"
   },
   {
    "duration": 30,
    "start_time": "2022-11-23T15:34:27.748Z"
   },
   {
    "duration": 18,
    "start_time": "2022-11-23T15:34:27.779Z"
   },
   {
    "duration": 8,
    "start_time": "2022-11-23T15:34:27.800Z"
   },
   {
    "duration": 189,
    "start_time": "2022-11-23T15:34:27.809Z"
   },
   {
    "duration": 262,
    "start_time": "2022-11-23T15:34:28.000Z"
   },
   {
    "duration": 19,
    "start_time": "2022-11-23T15:34:28.264Z"
   },
   {
    "duration": 12,
    "start_time": "2022-11-23T15:34:28.285Z"
   },
   {
    "duration": 18,
    "start_time": "2022-11-23T15:34:28.298Z"
   },
   {
    "duration": 6,
    "start_time": "2022-11-23T15:38:14.846Z"
   },
   {
    "duration": 6,
    "start_time": "2022-11-23T15:50:27.000Z"
   },
   {
    "duration": 17,
    "start_time": "2022-11-23T15:50:36.745Z"
   },
   {
    "duration": 17,
    "start_time": "2022-11-23T15:52:27.427Z"
   },
   {
    "duration": 6,
    "start_time": "2022-11-23T15:53:23.390Z"
   },
   {
    "duration": 18,
    "start_time": "2022-11-23T15:53:59.708Z"
   },
   {
    "duration": 11,
    "start_time": "2022-11-23T15:56:09.589Z"
   },
   {
    "duration": 22,
    "start_time": "2022-11-23T16:00:54.975Z"
   },
   {
    "duration": 16,
    "start_time": "2022-11-23T16:01:08.906Z"
   },
   {
    "duration": 17,
    "start_time": "2022-11-23T16:01:56.002Z"
   },
   {
    "duration": 13,
    "start_time": "2022-11-23T16:06:56.738Z"
   },
   {
    "duration": 4,
    "start_time": "2022-11-23T16:09:06.073Z"
   },
   {
    "duration": 44,
    "start_time": "2022-11-23T16:09:18.327Z"
   },
   {
    "duration": 137,
    "start_time": "2022-11-23T16:10:05.160Z"
   },
   {
    "duration": 105,
    "start_time": "2022-11-23T16:11:05.710Z"
   },
   {
    "duration": 11,
    "start_time": "2022-11-23T16:11:17.697Z"
   },
   {
    "duration": 6,
    "start_time": "2022-11-23T16:23:39.626Z"
   },
   {
    "duration": 4,
    "start_time": "2022-11-23T16:24:11.688Z"
   },
   {
    "duration": 3,
    "start_time": "2022-11-23T16:24:14.133Z"
   },
   {
    "duration": 9,
    "start_time": "2022-11-23T16:24:26.945Z"
   },
   {
    "duration": 4,
    "start_time": "2022-11-23T16:24:35.298Z"
   },
   {
    "duration": 6,
    "start_time": "2022-11-23T16:24:41.466Z"
   },
   {
    "duration": 7,
    "start_time": "2022-11-23T16:30:08.894Z"
   },
   {
    "duration": 8,
    "start_time": "2022-11-23T16:30:11.985Z"
   },
   {
    "duration": 108,
    "start_time": "2022-11-23T16:30:37.235Z"
   },
   {
    "duration": 45,
    "start_time": "2022-11-23T16:30:56.294Z"
   },
   {
    "duration": 54,
    "start_time": "2022-11-23T16:31:01.914Z"
   },
   {
    "duration": 8,
    "start_time": "2022-11-23T16:31:05.585Z"
   },
   {
    "duration": 8,
    "start_time": "2022-11-23T16:49:34.639Z"
   },
   {
    "duration": 81,
    "start_time": "2022-11-23T16:49:43.631Z"
   },
   {
    "duration": 25,
    "start_time": "2022-11-23T16:49:43.714Z"
   },
   {
    "duration": 2508,
    "start_time": "2022-11-23T16:49:43.741Z"
   },
   {
    "duration": 10,
    "start_time": "2022-11-23T16:49:46.251Z"
   },
   {
    "duration": 50,
    "start_time": "2022-11-23T16:49:46.263Z"
   },
   {
    "duration": 11,
    "start_time": "2022-11-23T16:49:46.315Z"
   },
   {
    "duration": 12,
    "start_time": "2022-11-23T16:49:46.328Z"
   },
   {
    "duration": 14,
    "start_time": "2022-11-23T16:49:46.341Z"
   },
   {
    "duration": 4,
    "start_time": "2022-11-23T16:49:46.356Z"
   },
   {
    "duration": 15,
    "start_time": "2022-11-23T16:49:46.362Z"
   },
   {
    "duration": 12,
    "start_time": "2022-11-23T16:49:46.379Z"
   },
   {
    "duration": 9,
    "start_time": "2022-11-23T16:49:46.392Z"
   },
   {
    "duration": 22,
    "start_time": "2022-11-23T16:49:46.402Z"
   },
   {
    "duration": 9,
    "start_time": "2022-11-23T16:49:46.425Z"
   },
   {
    "duration": 205,
    "start_time": "2022-11-23T16:49:46.435Z"
   },
   {
    "duration": 287,
    "start_time": "2022-11-23T16:49:46.642Z"
   },
   {
    "duration": 11,
    "start_time": "2022-11-23T16:49:46.931Z"
   },
   {
    "duration": 11,
    "start_time": "2022-11-23T16:49:46.944Z"
   },
   {
    "duration": 68,
    "start_time": "2022-11-23T16:49:46.956Z"
   },
   {
    "duration": 0,
    "start_time": "2022-11-23T16:49:47.025Z"
   },
   {
    "duration": 0,
    "start_time": "2022-11-23T16:49:47.026Z"
   },
   {
    "duration": 0,
    "start_time": "2022-11-23T16:49:47.027Z"
   },
   {
    "duration": 0,
    "start_time": "2022-11-23T16:49:47.028Z"
   },
   {
    "duration": 0,
    "start_time": "2022-11-23T16:49:47.029Z"
   },
   {
    "duration": 0,
    "start_time": "2022-11-23T16:49:47.031Z"
   },
   {
    "duration": 128,
    "start_time": "2022-11-23T16:49:51.336Z"
   },
   {
    "duration": 120,
    "start_time": "2022-11-23T16:49:58.293Z"
   },
   {
    "duration": 222,
    "start_time": "2022-11-23T16:51:58.669Z"
   },
   {
    "duration": 158,
    "start_time": "2022-11-23T17:16:20.026Z"
   },
   {
    "duration": 141,
    "start_time": "2022-11-23T17:16:22.396Z"
   },
   {
    "duration": 157,
    "start_time": "2022-11-23T17:17:19.455Z"
   },
   {
    "duration": 125,
    "start_time": "2022-11-23T17:18:31.697Z"
   },
   {
    "duration": 152,
    "start_time": "2022-11-23T17:20:34.521Z"
   },
   {
    "duration": 172,
    "start_time": "2022-11-23T17:24:06.550Z"
   },
   {
    "duration": 240,
    "start_time": "2022-11-23T17:24:10.744Z"
   },
   {
    "duration": 44,
    "start_time": "2022-11-23T17:24:45.166Z"
   },
   {
    "duration": 227,
    "start_time": "2022-11-23T17:25:57.600Z"
   },
   {
    "duration": 193,
    "start_time": "2022-11-23T17:41:56.500Z"
   },
   {
    "duration": 156,
    "start_time": "2022-11-23T17:42:05.918Z"
   },
   {
    "duration": 278,
    "start_time": "2022-11-23T17:42:12.438Z"
   },
   {
    "duration": 400,
    "start_time": "2022-11-23T17:48:37.388Z"
   },
   {
    "duration": 1046,
    "start_time": "2022-11-23T17:48:46.452Z"
   },
   {
    "duration": 960,
    "start_time": "2022-11-23T17:48:59.852Z"
   },
   {
    "duration": 186,
    "start_time": "2022-11-23T17:49:07.678Z"
   },
   {
    "duration": 294,
    "start_time": "2022-11-23T17:49:13.321Z"
   },
   {
    "duration": 39,
    "start_time": "2022-11-23T17:49:34.085Z"
   },
   {
    "duration": 40,
    "start_time": "2022-11-23T17:49:50.911Z"
   },
   {
    "duration": 41,
    "start_time": "2022-11-23T17:49:56.345Z"
   },
   {
    "duration": 747,
    "start_time": "2022-11-23T17:50:30.569Z"
   },
   {
    "duration": 370,
    "start_time": "2022-11-23T17:50:39.000Z"
   },
   {
    "duration": 516,
    "start_time": "2022-11-23T17:50:50.749Z"
   },
   {
    "duration": 211,
    "start_time": "2022-11-23T17:51:04.216Z"
   },
   {
    "duration": 245,
    "start_time": "2022-11-23T17:51:09.314Z"
   },
   {
    "duration": 209,
    "start_time": "2022-11-23T17:51:11.290Z"
   },
   {
    "duration": 722,
    "start_time": "2022-11-23T17:51:13.559Z"
   },
   {
    "duration": 349,
    "start_time": "2022-11-23T17:51:49.386Z"
   },
   {
    "duration": 212,
    "start_time": "2022-11-23T17:51:52.785Z"
   },
   {
    "duration": 112,
    "start_time": "2022-11-23T17:51:59.168Z"
   },
   {
    "duration": 226,
    "start_time": "2022-11-23T17:52:15.806Z"
   },
   {
    "duration": 944,
    "start_time": "2022-11-23T17:54:25.496Z"
   },
   {
    "duration": 500,
    "start_time": "2022-11-23T17:55:15.889Z"
   },
   {
    "duration": 339,
    "start_time": "2022-11-23T17:55:21.302Z"
   },
   {
    "duration": 309,
    "start_time": "2022-11-23T17:55:30.790Z"
   },
   {
    "duration": 378,
    "start_time": "2022-11-23T17:55:36.501Z"
   },
   {
    "duration": 232,
    "start_time": "2022-11-23T17:55:43.786Z"
   },
   {
    "duration": 376,
    "start_time": "2022-11-23T17:58:03.784Z"
   },
   {
    "duration": 131,
    "start_time": "2022-11-23T18:03:02.453Z"
   },
   {
    "duration": 215,
    "start_time": "2022-11-23T18:03:07.461Z"
   },
   {
    "duration": 6,
    "start_time": "2022-11-23T18:04:43.688Z"
   },
   {
    "duration": 5,
    "start_time": "2022-11-23T18:05:02.782Z"
   },
   {
    "duration": 206,
    "start_time": "2022-11-23T18:06:50.154Z"
   },
   {
    "duration": 239,
    "start_time": "2022-11-23T18:07:02.243Z"
   },
   {
    "duration": 191,
    "start_time": "2022-11-23T18:07:18.838Z"
   },
   {
    "duration": 14,
    "start_time": "2022-11-23T18:43:10.332Z"
   },
   {
    "duration": 4,
    "start_time": "2022-11-23T18:43:12.673Z"
   },
   {
    "duration": 8,
    "start_time": "2022-11-23T18:43:14.360Z"
   },
   {
    "duration": 231,
    "start_time": "2022-11-23T18:43:25.239Z"
   },
   {
    "duration": 166,
    "start_time": "2022-11-23T19:51:02.765Z"
   },
   {
    "duration": 9,
    "start_time": "2022-11-23T19:52:58.155Z"
   },
   {
    "duration": 199,
    "start_time": "2022-11-23T19:54:24.177Z"
   },
   {
    "duration": 192,
    "start_time": "2022-11-23T19:55:34.053Z"
   },
   {
    "duration": 191,
    "start_time": "2022-11-23T19:58:28.248Z"
   },
   {
    "duration": 179,
    "start_time": "2022-11-23T19:58:52.748Z"
   },
   {
    "duration": 208,
    "start_time": "2022-11-23T19:59:28.218Z"
   },
   {
    "duration": 255,
    "start_time": "2022-11-23T20:00:25.004Z"
   },
   {
    "duration": 159,
    "start_time": "2022-11-23T20:17:40.163Z"
   },
   {
    "duration": 216,
    "start_time": "2022-11-23T20:18:30.180Z"
   },
   {
    "duration": 172,
    "start_time": "2022-11-23T20:20:10.165Z"
   },
   {
    "duration": 326,
    "start_time": "2022-11-23T20:20:52.125Z"
   },
   {
    "duration": 201,
    "start_time": "2022-11-23T20:21:20.214Z"
   },
   {
    "duration": 294,
    "start_time": "2022-11-23T20:23:33.258Z"
   },
   {
    "duration": 11,
    "start_time": "2022-11-23T20:30:06.524Z"
   },
   {
    "duration": 9,
    "start_time": "2022-11-23T20:30:28.586Z"
   },
   {
    "duration": 46,
    "start_time": "2022-11-23T20:30:36.293Z"
   },
   {
    "duration": 12,
    "start_time": "2022-11-23T20:31:13.423Z"
   },
   {
    "duration": 36,
    "start_time": "2022-11-23T20:31:45.232Z"
   },
   {
    "duration": 10,
    "start_time": "2022-11-23T20:32:03.952Z"
   },
   {
    "duration": 12,
    "start_time": "2022-11-23T20:32:22.939Z"
   },
   {
    "duration": 10,
    "start_time": "2022-11-23T20:32:42.247Z"
   },
   {
    "duration": 10,
    "start_time": "2022-11-23T20:33:00.763Z"
   },
   {
    "duration": 58,
    "start_time": "2022-11-23T20:35:04.933Z"
   },
   {
    "duration": 23,
    "start_time": "2022-11-23T20:36:01.981Z"
   },
   {
    "duration": 41,
    "start_time": "2022-11-23T20:36:31.849Z"
   },
   {
    "duration": 44,
    "start_time": "2022-11-23T20:36:38.304Z"
   },
   {
    "duration": 14,
    "start_time": "2022-11-23T20:36:49.448Z"
   },
   {
    "duration": 21,
    "start_time": "2022-11-23T20:36:52.997Z"
   },
   {
    "duration": 25,
    "start_time": "2022-11-23T20:36:58.196Z"
   },
   {
    "duration": 33,
    "start_time": "2022-11-23T20:37:05.212Z"
   },
   {
    "duration": 17,
    "start_time": "2022-11-23T20:37:31.293Z"
   },
   {
    "duration": 22,
    "start_time": "2022-11-23T20:37:36.287Z"
   },
   {
    "duration": 8,
    "start_time": "2022-11-23T20:37:50.922Z"
   },
   {
    "duration": 9,
    "start_time": "2022-11-23T20:41:13.025Z"
   },
   {
    "duration": 13,
    "start_time": "2022-11-23T20:41:33.615Z"
   },
   {
    "duration": 14,
    "start_time": "2022-11-23T20:41:53.832Z"
   },
   {
    "duration": 15,
    "start_time": "2022-11-23T20:42:09.982Z"
   },
   {
    "duration": 12,
    "start_time": "2022-11-23T20:42:24.687Z"
   },
   {
    "duration": 9,
    "start_time": "2022-11-23T20:42:28.685Z"
   },
   {
    "duration": 12,
    "start_time": "2022-11-23T20:42:34.033Z"
   },
   {
    "duration": 44,
    "start_time": "2022-11-23T20:42:39.940Z"
   },
   {
    "duration": 15,
    "start_time": "2022-11-23T20:42:44.577Z"
   },
   {
    "duration": 18,
    "start_time": "2022-11-23T20:43:04.748Z"
   },
   {
    "duration": 16,
    "start_time": "2022-11-23T20:43:14.879Z"
   },
   {
    "duration": 53,
    "start_time": "2022-11-23T20:44:12.262Z"
   },
   {
    "duration": 53,
    "start_time": "2022-11-23T20:44:35.680Z"
   },
   {
    "duration": 46,
    "start_time": "2022-11-23T20:44:56.145Z"
   },
   {
    "duration": 41,
    "start_time": "2022-11-23T20:45:25.808Z"
   },
   {
    "duration": 15,
    "start_time": "2022-11-23T20:45:34.336Z"
   },
   {
    "duration": 17,
    "start_time": "2022-11-23T20:45:51.204Z"
   },
   {
    "duration": 15,
    "start_time": "2022-11-23T20:46:07.286Z"
   },
   {
    "duration": 10,
    "start_time": "2022-11-23T20:46:23.039Z"
   },
   {
    "duration": 76,
    "start_time": "2022-11-23T20:52:05.867Z"
   },
   {
    "duration": 66,
    "start_time": "2022-11-23T20:52:15.140Z"
   },
   {
    "duration": 47,
    "start_time": "2022-11-23T20:52:19.860Z"
   },
   {
    "duration": 8,
    "start_time": "2022-11-23T20:52:48.946Z"
   },
   {
    "duration": 31,
    "start_time": "2022-11-23T20:53:05.437Z"
   },
   {
    "duration": 18,
    "start_time": "2022-11-23T20:53:10.212Z"
   },
   {
    "duration": 10,
    "start_time": "2022-11-23T20:53:22.531Z"
   },
   {
    "duration": 57,
    "start_time": "2022-11-23T20:53:46.628Z"
   },
   {
    "duration": 15,
    "start_time": "2022-11-23T20:54:18.117Z"
   },
   {
    "duration": 51,
    "start_time": "2022-11-23T20:54:30.154Z"
   },
   {
    "duration": 4,
    "start_time": "2022-11-23T20:55:40.616Z"
   },
   {
    "duration": 4,
    "start_time": "2022-11-23T20:55:44.143Z"
   },
   {
    "duration": 27,
    "start_time": "2022-11-23T20:57:39.838Z"
   },
   {
    "duration": 39,
    "start_time": "2022-11-23T20:58:08.612Z"
   },
   {
    "duration": 8,
    "start_time": "2022-11-23T20:58:26.202Z"
   },
   {
    "duration": 36,
    "start_time": "2022-11-23T20:59:14.893Z"
   },
   {
    "duration": 38,
    "start_time": "2022-11-23T20:59:33.760Z"
   },
   {
    "duration": 24,
    "start_time": "2022-11-23T21:00:18.629Z"
   },
   {
    "duration": 22,
    "start_time": "2022-11-23T21:00:57.636Z"
   },
   {
    "duration": 23,
    "start_time": "2022-11-23T21:01:13.139Z"
   },
   {
    "duration": 54,
    "start_time": "2022-11-23T21:08:25.112Z"
   },
   {
    "duration": 9,
    "start_time": "2022-11-23T21:08:44.665Z"
   },
   {
    "duration": 9,
    "start_time": "2022-11-23T21:09:01.698Z"
   },
   {
    "duration": 7,
    "start_time": "2022-11-23T21:10:47.118Z"
   },
   {
    "duration": 11,
    "start_time": "2022-11-23T21:11:09.501Z"
   },
   {
    "duration": 52,
    "start_time": "2022-11-23T21:13:23.643Z"
   },
   {
    "duration": 21,
    "start_time": "2022-11-23T21:15:07.607Z"
   },
   {
    "duration": 48,
    "start_time": "2022-11-23T21:18:09.879Z"
   },
   {
    "duration": 852,
    "start_time": "2022-11-23T21:43:05.505Z"
   },
   {
    "duration": 28,
    "start_time": "2022-11-23T21:43:06.359Z"
   },
   {
    "duration": 2579,
    "start_time": "2022-11-23T21:43:06.389Z"
   },
   {
    "duration": 9,
    "start_time": "2022-11-23T21:43:08.970Z"
   },
   {
    "duration": 45,
    "start_time": "2022-11-23T21:43:08.997Z"
   },
   {
    "duration": 8,
    "start_time": "2022-11-23T21:43:09.044Z"
   },
   {
    "duration": 7,
    "start_time": "2022-11-23T21:43:09.054Z"
   },
   {
    "duration": 33,
    "start_time": "2022-11-23T21:43:09.063Z"
   },
   {
    "duration": 3,
    "start_time": "2022-11-23T21:43:09.099Z"
   },
   {
    "duration": 7,
    "start_time": "2022-11-23T21:43:09.106Z"
   },
   {
    "duration": 19,
    "start_time": "2022-11-23T21:43:09.115Z"
   },
   {
    "duration": 7,
    "start_time": "2022-11-23T21:43:09.136Z"
   },
   {
    "duration": 55,
    "start_time": "2022-11-23T21:43:09.145Z"
   },
   {
    "duration": 16,
    "start_time": "2022-11-23T21:43:09.202Z"
   },
   {
    "duration": 214,
    "start_time": "2022-11-23T21:43:09.220Z"
   },
   {
    "duration": 322,
    "start_time": "2022-11-23T21:43:09.436Z"
   },
   {
    "duration": 11,
    "start_time": "2022-11-23T21:43:09.760Z"
   },
   {
    "duration": 33,
    "start_time": "2022-11-23T21:43:09.773Z"
   },
   {
    "duration": 51,
    "start_time": "2022-11-23T21:43:09.808Z"
   },
   {
    "duration": 0,
    "start_time": "2022-11-23T21:43:09.862Z"
   },
   {
    "duration": 0,
    "start_time": "2022-11-23T21:43:09.863Z"
   },
   {
    "duration": 0,
    "start_time": "2022-11-23T21:43:09.864Z"
   },
   {
    "duration": 0,
    "start_time": "2022-11-23T21:43:09.866Z"
   },
   {
    "duration": 0,
    "start_time": "2022-11-23T21:43:09.867Z"
   },
   {
    "duration": 0,
    "start_time": "2022-11-23T21:43:09.869Z"
   },
   {
    "duration": 0,
    "start_time": "2022-11-23T21:43:09.870Z"
   },
   {
    "duration": 0,
    "start_time": "2022-11-23T21:43:09.871Z"
   },
   {
    "duration": 0,
    "start_time": "2022-11-23T21:43:09.872Z"
   },
   {
    "duration": 0,
    "start_time": "2022-11-23T21:43:09.873Z"
   },
   {
    "duration": 0,
    "start_time": "2022-11-23T21:43:09.874Z"
   },
   {
    "duration": 0,
    "start_time": "2022-11-23T21:43:09.875Z"
   },
   {
    "duration": 0,
    "start_time": "2022-11-23T21:43:09.876Z"
   },
   {
    "duration": 0,
    "start_time": "2022-11-23T21:43:09.877Z"
   },
   {
    "duration": 0,
    "start_time": "2022-11-23T21:43:09.878Z"
   },
   {
    "duration": 1,
    "start_time": "2022-11-23T21:43:09.878Z"
   },
   {
    "duration": 0,
    "start_time": "2022-11-23T21:43:09.879Z"
   },
   {
    "duration": 0,
    "start_time": "2022-11-23T21:43:09.880Z"
   },
   {
    "duration": 0,
    "start_time": "2022-11-23T21:43:09.881Z"
   },
   {
    "duration": 0,
    "start_time": "2022-11-23T21:43:09.882Z"
   },
   {
    "duration": 0,
    "start_time": "2022-11-23T21:43:09.883Z"
   },
   {
    "duration": 0,
    "start_time": "2022-11-23T21:43:09.884Z"
   },
   {
    "duration": 0,
    "start_time": "2022-11-23T21:43:09.885Z"
   },
   {
    "duration": 0,
    "start_time": "2022-11-23T21:43:09.886Z"
   },
   {
    "duration": 0,
    "start_time": "2022-11-23T21:43:09.887Z"
   },
   {
    "duration": 0,
    "start_time": "2022-11-23T21:43:09.888Z"
   },
   {
    "duration": 0,
    "start_time": "2022-11-23T21:43:09.889Z"
   },
   {
    "duration": 0,
    "start_time": "2022-11-23T21:43:09.890Z"
   },
   {
    "duration": 13,
    "start_time": "2022-11-23T21:46:27.702Z"
   },
   {
    "duration": 13,
    "start_time": "2022-11-23T21:47:05.381Z"
   },
   {
    "duration": 34,
    "start_time": "2022-11-23T21:49:15.013Z"
   },
   {
    "duration": 8,
    "start_time": "2022-11-23T21:49:15.293Z"
   },
   {
    "duration": 8,
    "start_time": "2022-11-23T21:49:15.431Z"
   },
   {
    "duration": 92,
    "start_time": "2022-11-23T21:49:15.569Z"
   },
   {
    "duration": 8,
    "start_time": "2022-11-23T21:49:15.847Z"
   },
   {
    "duration": 192,
    "start_time": "2022-11-23T21:49:16.142Z"
   },
   {
    "duration": 161,
    "start_time": "2022-11-23T21:49:16.433Z"
   },
   {
    "duration": 142,
    "start_time": "2022-11-23T21:49:16.716Z"
   },
   {
    "duration": 345,
    "start_time": "2022-11-23T21:49:17.037Z"
   },
   {
    "duration": 8,
    "start_time": "2022-11-23T21:50:58.026Z"
   },
   {
    "duration": 165,
    "start_time": "2022-11-23T21:50:58.321Z"
   },
   {
    "duration": 167,
    "start_time": "2022-11-23T21:50:58.613Z"
   },
   {
    "duration": 162,
    "start_time": "2022-11-23T21:50:58.881Z"
   },
   {
    "duration": 275,
    "start_time": "2022-11-23T21:50:59.162Z"
   },
   {
    "duration": 281,
    "start_time": "2022-11-23T21:50:59.440Z"
   },
   {
    "duration": 269,
    "start_time": "2022-11-23T21:50:59.726Z"
   },
   {
    "duration": 358,
    "start_time": "2022-11-23T21:51:00.012Z"
   },
   {
    "duration": 1073,
    "start_time": "2022-11-23T21:51:00.372Z"
   },
   {
    "duration": 0,
    "start_time": "2022-11-23T21:51:01.447Z"
   },
   {
    "duration": 0,
    "start_time": "2022-11-23T21:51:01.448Z"
   },
   {
    "duration": 0,
    "start_time": "2022-11-23T21:51:01.450Z"
   },
   {
    "duration": 0,
    "start_time": "2022-11-23T21:51:01.451Z"
   },
   {
    "duration": 229,
    "start_time": "2022-11-23T21:51:01.621Z"
   },
   {
    "duration": 270,
    "start_time": "2022-11-23T21:51:31.222Z"
   },
   {
    "duration": 236,
    "start_time": "2022-11-23T21:51:31.522Z"
   },
   {
    "duration": 276,
    "start_time": "2022-11-23T21:51:31.760Z"
   },
   {
    "duration": 619,
    "start_time": "2022-11-23T21:51:32.038Z"
   },
   {
    "duration": 236,
    "start_time": "2022-11-23T21:51:32.659Z"
   },
   {
    "duration": 13,
    "start_time": "2022-11-23T21:51:32.899Z"
   },
   {
    "duration": 11,
    "start_time": "2022-11-23T21:51:32.914Z"
   },
   {
    "duration": 221,
    "start_time": "2022-11-23T21:51:33.151Z"
   },
   {
    "duration": 214,
    "start_time": "2022-11-23T21:51:33.441Z"
   },
   {
    "duration": 214,
    "start_time": "2022-11-23T21:51:33.749Z"
   },
   {
    "duration": 217,
    "start_time": "2022-11-23T21:53:16.697Z"
   },
   {
    "duration": 338,
    "start_time": "2022-11-23T21:53:16.986Z"
   },
   {
    "duration": 12,
    "start_time": "2022-11-23T21:53:17.414Z"
   },
   {
    "duration": 41,
    "start_time": "2022-11-23T21:53:17.563Z"
   },
   {
    "duration": 58,
    "start_time": "2022-11-23T21:53:17.835Z"
   },
   {
    "duration": 13,
    "start_time": "2022-11-23T21:54:38.122Z"
   },
   {
    "duration": 55,
    "start_time": "2022-11-24T09:10:08.067Z"
   },
   {
    "duration": 1232,
    "start_time": "2022-11-24T09:10:15.787Z"
   },
   {
    "duration": 49,
    "start_time": "2022-11-24T09:10:17.023Z"
   },
   {
    "duration": 2696,
    "start_time": "2022-11-24T09:10:17.074Z"
   },
   {
    "duration": 12,
    "start_time": "2022-11-24T09:10:19.772Z"
   },
   {
    "duration": 41,
    "start_time": "2022-11-24T09:10:19.786Z"
   },
   {
    "duration": 9,
    "start_time": "2022-11-24T09:10:19.829Z"
   },
   {
    "duration": 13,
    "start_time": "2022-11-24T09:10:19.857Z"
   },
   {
    "duration": 10,
    "start_time": "2022-11-24T09:10:19.872Z"
   },
   {
    "duration": 3,
    "start_time": "2022-11-24T09:10:19.884Z"
   },
   {
    "duration": 11,
    "start_time": "2022-11-24T09:10:19.889Z"
   },
   {
    "duration": 12,
    "start_time": "2022-11-24T09:10:19.901Z"
   },
   {
    "duration": 7,
    "start_time": "2022-11-24T09:10:19.915Z"
   },
   {
    "duration": 47,
    "start_time": "2022-11-24T09:10:19.923Z"
   },
   {
    "duration": 24,
    "start_time": "2022-11-24T09:10:19.972Z"
   },
   {
    "duration": 11,
    "start_time": "2022-11-24T09:10:19.998Z"
   },
   {
    "duration": 238,
    "start_time": "2022-11-24T09:10:20.010Z"
   },
   {
    "duration": 303,
    "start_time": "2022-11-24T09:10:20.255Z"
   },
   {
    "duration": 15,
    "start_time": "2022-11-24T09:10:20.562Z"
   },
   {
    "duration": 13,
    "start_time": "2022-11-24T09:10:20.578Z"
   },
   {
    "duration": 71,
    "start_time": "2022-11-24T09:10:20.593Z"
   },
   {
    "duration": 0,
    "start_time": "2022-11-24T09:10:20.670Z"
   },
   {
    "duration": 0,
    "start_time": "2022-11-24T09:10:20.672Z"
   },
   {
    "duration": 9,
    "start_time": "2022-11-24T09:10:24.409Z"
   },
   {
    "duration": 57,
    "start_time": "2022-11-24T09:14:37.133Z"
   },
   {
    "duration": 66,
    "start_time": "2022-11-24T09:14:48.340Z"
   },
   {
    "duration": 13,
    "start_time": "2022-11-24T09:15:04.186Z"
   },
   {
    "duration": 16,
    "start_time": "2022-11-24T09:15:14.032Z"
   },
   {
    "duration": 13,
    "start_time": "2022-11-24T09:18:56.872Z"
   },
   {
    "duration": 16,
    "start_time": "2022-11-24T09:19:16.715Z"
   },
   {
    "duration": 7,
    "start_time": "2022-11-24T09:22:31.531Z"
   },
   {
    "duration": 17,
    "start_time": "2022-11-24T09:22:36.369Z"
   },
   {
    "duration": 6,
    "start_time": "2022-11-24T09:22:59.352Z"
   },
   {
    "duration": 7,
    "start_time": "2022-11-24T09:23:46.159Z"
   },
   {
    "duration": 22,
    "start_time": "2022-11-24T09:24:00.455Z"
   },
   {
    "duration": 5,
    "start_time": "2022-11-24T09:24:18.045Z"
   },
   {
    "duration": 17,
    "start_time": "2022-11-24T09:24:21.939Z"
   },
   {
    "duration": 5,
    "start_time": "2022-11-24T09:24:28.191Z"
   },
   {
    "duration": 4,
    "start_time": "2022-11-24T09:24:30.477Z"
   },
   {
    "duration": 17,
    "start_time": "2022-11-24T09:24:33.790Z"
   },
   {
    "duration": 4,
    "start_time": "2022-11-24T09:24:57.574Z"
   },
   {
    "duration": 16,
    "start_time": "2022-11-24T09:26:19.542Z"
   },
   {
    "duration": 15,
    "start_time": "2022-11-24T09:30:04.082Z"
   },
   {
    "duration": 1188,
    "start_time": "2022-11-24T09:30:29.899Z"
   },
   {
    "duration": 1176,
    "start_time": "2022-11-24T09:30:40.768Z"
   },
   {
    "duration": 1115,
    "start_time": "2022-11-24T09:37:55.802Z"
   },
   {
    "duration": 1096,
    "start_time": "2022-11-24T09:40:29.102Z"
   },
   {
    "duration": 95,
    "start_time": "2022-11-24T09:40:45.619Z"
   },
   {
    "duration": 25,
    "start_time": "2022-11-24T09:40:45.717Z"
   },
   {
    "duration": 2529,
    "start_time": "2022-11-24T09:40:45.744Z"
   },
   {
    "duration": 9,
    "start_time": "2022-11-24T09:40:48.275Z"
   },
   {
    "duration": 17,
    "start_time": "2022-11-24T09:40:48.286Z"
   },
   {
    "duration": 64,
    "start_time": "2022-11-24T09:40:48.305Z"
   },
   {
    "duration": 5,
    "start_time": "2022-11-24T09:40:48.370Z"
   },
   {
    "duration": 9,
    "start_time": "2022-11-24T09:40:48.377Z"
   },
   {
    "duration": 35,
    "start_time": "2022-11-24T09:40:48.388Z"
   },
   {
    "duration": 36,
    "start_time": "2022-11-24T09:40:48.425Z"
   },
   {
    "duration": 8,
    "start_time": "2022-11-24T09:42:13.785Z"
   },
   {
    "duration": 8,
    "start_time": "2022-11-24T09:42:17.709Z"
   },
   {
    "duration": 16,
    "start_time": "2022-11-24T09:43:38.470Z"
   },
   {
    "duration": 1370,
    "start_time": "2022-11-24T09:48:09.679Z"
   },
   {
    "duration": 1374,
    "start_time": "2022-11-24T10:02:33.744Z"
   },
   {
    "duration": 1359,
    "start_time": "2022-11-24T10:02:43.932Z"
   },
   {
    "duration": 85,
    "start_time": "2022-11-24T10:02:51.421Z"
   },
   {
    "duration": 26,
    "start_time": "2022-11-24T10:02:51.508Z"
   },
   {
    "duration": 2621,
    "start_time": "2022-11-24T10:02:51.536Z"
   },
   {
    "duration": 12,
    "start_time": "2022-11-24T10:02:54.159Z"
   },
   {
    "duration": 32,
    "start_time": "2022-11-24T10:02:54.173Z"
   },
   {
    "duration": 56,
    "start_time": "2022-11-24T10:02:54.206Z"
   },
   {
    "duration": 7,
    "start_time": "2022-11-24T10:02:54.264Z"
   },
   {
    "duration": 37,
    "start_time": "2022-11-24T10:02:54.273Z"
   },
   {
    "duration": 31,
    "start_time": "2022-11-24T10:02:54.311Z"
   },
   {
    "duration": 34,
    "start_time": "2022-11-24T10:02:54.344Z"
   },
   {
    "duration": 1420,
    "start_time": "2022-11-24T10:11:40.882Z"
   },
   {
    "duration": 833,
    "start_time": "2022-11-24T10:13:50.291Z"
   },
   {
    "duration": 5,
    "start_time": "2022-11-24T10:14:11.394Z"
   },
   {
    "duration": 6,
    "start_time": "2022-11-24T10:14:18.692Z"
   },
   {
    "duration": 5,
    "start_time": "2022-11-24T10:15:52.487Z"
   },
   {
    "duration": 5,
    "start_time": "2022-11-24T10:15:58.640Z"
   },
   {
    "duration": 21,
    "start_time": "2022-11-24T10:16:03.156Z"
   },
   {
    "duration": 47,
    "start_time": "2022-11-24T10:18:42.045Z"
   },
   {
    "duration": 6,
    "start_time": "2022-11-24T10:19:44.336Z"
   },
   {
    "duration": 4,
    "start_time": "2022-11-24T10:19:46.996Z"
   },
   {
    "duration": 11,
    "start_time": "2022-11-24T10:20:15.940Z"
   },
   {
    "duration": 7,
    "start_time": "2022-11-24T10:20:23.441Z"
   },
   {
    "duration": 44,
    "start_time": "2022-11-24T10:25:35.493Z"
   },
   {
    "duration": 788,
    "start_time": "2022-11-24T10:29:58.132Z"
   },
   {
    "duration": 12,
    "start_time": "2022-11-24T10:30:20.482Z"
   },
   {
    "duration": 362,
    "start_time": "2022-11-24T10:30:28.546Z"
   },
   {
    "duration": 912,
    "start_time": "2022-11-24T10:31:57.672Z"
   },
   {
    "duration": 12,
    "start_time": "2022-11-24T10:32:10.055Z"
   },
   {
    "duration": 12,
    "start_time": "2022-11-24T10:32:11.748Z"
   },
   {
    "duration": 351,
    "start_time": "2022-11-24T10:32:17.898Z"
   },
   {
    "duration": 47,
    "start_time": "2022-11-24T15:03:04.557Z"
   },
   {
    "duration": 850,
    "start_time": "2022-11-24T15:03:18.173Z"
   },
   {
    "duration": 29,
    "start_time": "2022-11-24T15:03:19.028Z"
   },
   {
    "duration": 2454,
    "start_time": "2022-11-24T15:03:19.059Z"
   },
   {
    "duration": 9,
    "start_time": "2022-11-24T15:03:21.515Z"
   },
   {
    "duration": 48,
    "start_time": "2022-11-24T15:03:21.526Z"
   },
   {
    "duration": 54,
    "start_time": "2022-11-24T15:03:21.576Z"
   },
   {
    "duration": 7,
    "start_time": "2022-11-24T15:03:21.632Z"
   },
   {
    "duration": 7,
    "start_time": "2022-11-24T15:03:21.640Z"
   },
   {
    "duration": 6,
    "start_time": "2022-11-24T15:03:21.649Z"
   },
   {
    "duration": 18,
    "start_time": "2022-11-24T15:03:21.656Z"
   },
   {
    "duration": 605,
    "start_time": "2022-11-24T15:03:21.676Z"
   },
   {
    "duration": 4,
    "start_time": "2022-11-24T15:03:22.282Z"
   },
   {
    "duration": 9,
    "start_time": "2022-11-24T15:03:22.288Z"
   },
   {
    "duration": 10,
    "start_time": "2022-11-24T15:03:22.314Z"
   },
   {
    "duration": 8,
    "start_time": "2022-11-24T15:03:22.325Z"
   },
   {
    "duration": 16,
    "start_time": "2022-11-24T15:03:22.334Z"
   },
   {
    "duration": 6,
    "start_time": "2022-11-24T15:03:22.352Z"
   },
   {
    "duration": 23,
    "start_time": "2022-11-24T15:03:22.360Z"
   },
   {
    "duration": 10,
    "start_time": "2022-11-24T15:03:22.413Z"
   },
   {
    "duration": 188,
    "start_time": "2022-11-24T15:03:22.425Z"
   },
   {
    "duration": 269,
    "start_time": "2022-11-24T15:03:22.615Z"
   },
   {
    "duration": 9,
    "start_time": "2022-11-24T15:03:22.886Z"
   },
   {
    "duration": 22,
    "start_time": "2022-11-24T15:03:22.897Z"
   },
   {
    "duration": 94,
    "start_time": "2022-11-24T15:03:22.921Z"
   },
   {
    "duration": 43,
    "start_time": "2022-11-24T15:03:27.874Z"
   },
   {
    "duration": 38,
    "start_time": "2022-11-24T15:06:10.650Z"
   },
   {
    "duration": 41,
    "start_time": "2022-11-24T15:06:17.850Z"
   },
   {
    "duration": 52,
    "start_time": "2022-11-24T15:06:59.103Z"
   },
   {
    "duration": 120,
    "start_time": "2022-11-24T15:07:04.951Z"
   },
   {
    "duration": 20,
    "start_time": "2022-11-24T15:07:25.488Z"
   },
   {
    "duration": 80,
    "start_time": "2022-11-24T15:07:32.743Z"
   },
   {
    "duration": 23,
    "start_time": "2022-11-24T15:07:32.825Z"
   },
   {
    "duration": 2319,
    "start_time": "2022-11-24T15:07:32.849Z"
   },
   {
    "duration": 8,
    "start_time": "2022-11-24T15:07:35.170Z"
   },
   {
    "duration": 15,
    "start_time": "2022-11-24T15:07:35.180Z"
   },
   {
    "duration": 49,
    "start_time": "2022-11-24T15:07:35.196Z"
   },
   {
    "duration": 7,
    "start_time": "2022-11-24T15:07:35.247Z"
   },
   {
    "duration": 7,
    "start_time": "2022-11-24T15:07:35.255Z"
   },
   {
    "duration": 5,
    "start_time": "2022-11-24T15:07:35.263Z"
   },
   {
    "duration": 15,
    "start_time": "2022-11-24T15:07:35.270Z"
   },
   {
    "duration": 655,
    "start_time": "2022-11-24T15:07:35.313Z"
   },
   {
    "duration": 5,
    "start_time": "2022-11-24T15:07:35.969Z"
   },
   {
    "duration": 10,
    "start_time": "2022-11-24T15:07:35.976Z"
   },
   {
    "duration": 28,
    "start_time": "2022-11-24T15:07:35.990Z"
   },
   {
    "duration": 6,
    "start_time": "2022-11-24T15:07:36.019Z"
   },
   {
    "duration": 16,
    "start_time": "2022-11-24T15:07:36.026Z"
   },
   {
    "duration": 7,
    "start_time": "2022-11-24T15:07:36.043Z"
   },
   {
    "duration": 22,
    "start_time": "2022-11-24T15:07:36.052Z"
   },
   {
    "duration": 38,
    "start_time": "2022-11-24T15:07:36.076Z"
   },
   {
    "duration": 175,
    "start_time": "2022-11-24T15:07:36.116Z"
   },
   {
    "duration": 280,
    "start_time": "2022-11-24T15:07:36.293Z"
   },
   {
    "duration": 10,
    "start_time": "2022-11-24T15:07:36.575Z"
   },
   {
    "duration": 28,
    "start_time": "2022-11-24T15:07:36.587Z"
   },
   {
    "duration": 70,
    "start_time": "2022-11-24T15:07:36.617Z"
   },
   {
    "duration": 0,
    "start_time": "2022-11-24T15:07:36.689Z"
   },
   {
    "duration": 17,
    "start_time": "2022-11-24T15:07:41.415Z"
   },
   {
    "duration": 57,
    "start_time": "2022-11-24T15:08:38.820Z"
   },
   {
    "duration": 90,
    "start_time": "2022-11-24T15:09:08.430Z"
   },
   {
    "duration": 598,
    "start_time": "2022-11-24T15:09:26.502Z"
   },
   {
    "duration": 7,
    "start_time": "2022-11-24T15:14:21.594Z"
   },
   {
    "duration": 6,
    "start_time": "2022-11-24T15:15:28.244Z"
   },
   {
    "duration": 75,
    "start_time": "2022-11-24T15:15:45.190Z"
   },
   {
    "duration": 23,
    "start_time": "2022-11-24T15:15:45.267Z"
   },
   {
    "duration": 2266,
    "start_time": "2022-11-24T15:15:45.292Z"
   },
   {
    "duration": 7,
    "start_time": "2022-11-24T15:15:47.560Z"
   },
   {
    "duration": 17,
    "start_time": "2022-11-24T15:15:47.569Z"
   },
   {
    "duration": 46,
    "start_time": "2022-11-24T15:15:47.588Z"
   },
   {
    "duration": 7,
    "start_time": "2022-11-24T15:15:47.636Z"
   },
   {
    "duration": 6,
    "start_time": "2022-11-24T15:15:47.645Z"
   },
   {
    "duration": 6,
    "start_time": "2022-11-24T15:15:47.653Z"
   },
   {
    "duration": 14,
    "start_time": "2022-11-24T15:15:47.661Z"
   },
   {
    "duration": 603,
    "start_time": "2022-11-24T15:15:47.676Z"
   },
   {
    "duration": 4,
    "start_time": "2022-11-24T15:15:48.281Z"
   },
   {
    "duration": 7,
    "start_time": "2022-11-24T15:15:48.287Z"
   },
   {
    "duration": 20,
    "start_time": "2022-11-24T15:15:48.296Z"
   },
   {
    "duration": 5,
    "start_time": "2022-11-24T15:15:48.318Z"
   },
   {
    "duration": 14,
    "start_time": "2022-11-24T15:15:48.325Z"
   },
   {
    "duration": 6,
    "start_time": "2022-11-24T15:15:48.341Z"
   },
   {
    "duration": 24,
    "start_time": "2022-11-24T15:15:48.349Z"
   },
   {
    "duration": 41,
    "start_time": "2022-11-24T15:15:48.375Z"
   },
   {
    "duration": 186,
    "start_time": "2022-11-24T15:15:48.419Z"
   },
   {
    "duration": 298,
    "start_time": "2022-11-24T15:15:48.606Z"
   },
   {
    "duration": 15,
    "start_time": "2022-11-24T15:15:48.906Z"
   },
   {
    "duration": 13,
    "start_time": "2022-11-24T15:15:48.923Z"
   },
   {
    "duration": 6,
    "start_time": "2022-11-24T15:15:58.201Z"
   },
   {
    "duration": 6,
    "start_time": "2022-11-24T15:21:29.834Z"
   },
   {
    "duration": 609,
    "start_time": "2022-11-24T15:25:43.590Z"
   },
   {
    "duration": 6,
    "start_time": "2022-11-24T15:50:53.786Z"
   },
   {
    "duration": 92,
    "start_time": "2022-11-24T15:57:40.325Z"
   },
   {
    "duration": 64,
    "start_time": "2022-11-24T15:57:50.526Z"
   },
   {
    "duration": 531,
    "start_time": "2022-11-24T15:57:56.927Z"
   },
   {
    "duration": 8,
    "start_time": "2022-11-24T16:00:39.803Z"
   },
   {
    "duration": 697,
    "start_time": "2022-11-24T16:02:40.402Z"
   },
   {
    "duration": 572,
    "start_time": "2022-11-24T16:02:47.294Z"
   },
   {
    "duration": 562,
    "start_time": "2022-11-24T16:09:10.885Z"
   },
   {
    "duration": 90,
    "start_time": "2022-11-24T16:09:23.837Z"
   },
   {
    "duration": 27,
    "start_time": "2022-11-24T16:09:23.930Z"
   },
   {
    "duration": 2293,
    "start_time": "2022-11-24T16:09:23.958Z"
   },
   {
    "duration": 9,
    "start_time": "2022-11-24T16:09:26.253Z"
   },
   {
    "duration": 18,
    "start_time": "2022-11-24T16:09:26.263Z"
   },
   {
    "duration": 56,
    "start_time": "2022-11-24T16:09:26.282Z"
   },
   {
    "duration": 6,
    "start_time": "2022-11-24T16:09:26.341Z"
   },
   {
    "duration": 6,
    "start_time": "2022-11-24T16:09:26.349Z"
   },
   {
    "duration": 6,
    "start_time": "2022-11-24T16:09:26.356Z"
   },
   {
    "duration": 14,
    "start_time": "2022-11-24T16:09:26.364Z"
   },
   {
    "duration": 610,
    "start_time": "2022-11-24T16:09:26.380Z"
   },
   {
    "duration": 5,
    "start_time": "2022-11-24T16:09:26.993Z"
   },
   {
    "duration": 20,
    "start_time": "2022-11-24T16:09:27.000Z"
   },
   {
    "duration": 21,
    "start_time": "2022-11-24T16:09:27.021Z"
   },
   {
    "duration": 10,
    "start_time": "2022-11-24T16:09:27.044Z"
   },
   {
    "duration": 19,
    "start_time": "2022-11-24T16:09:27.055Z"
   },
   {
    "duration": 6,
    "start_time": "2022-11-24T16:09:27.076Z"
   },
   {
    "duration": 38,
    "start_time": "2022-11-24T16:09:27.083Z"
   },
   {
    "duration": 10,
    "start_time": "2022-11-24T16:09:27.123Z"
   },
   {
    "duration": 195,
    "start_time": "2022-11-24T16:09:27.134Z"
   },
   {
    "duration": 399,
    "start_time": "2022-11-24T16:09:27.330Z"
   },
   {
    "duration": 11,
    "start_time": "2022-11-24T16:09:27.731Z"
   },
   {
    "duration": 12,
    "start_time": "2022-11-24T16:09:27.743Z"
   },
   {
    "duration": 11,
    "start_time": "2022-11-24T16:09:27.756Z"
   },
   {
    "duration": 647,
    "start_time": "2022-11-24T16:09:27.770Z"
   },
   {
    "duration": 5,
    "start_time": "2022-11-24T16:10:48.125Z"
   },
   {
    "duration": 14,
    "start_time": "2022-11-24T16:12:55.152Z"
   },
   {
    "duration": 12,
    "start_time": "2022-11-24T16:13:21.331Z"
   },
   {
    "duration": 14,
    "start_time": "2022-11-24T16:13:29.142Z"
   },
   {
    "duration": 7,
    "start_time": "2022-11-24T16:13:46.254Z"
   },
   {
    "duration": 6,
    "start_time": "2022-11-24T16:16:23.730Z"
   },
   {
    "duration": 8,
    "start_time": "2022-11-24T16:46:39.952Z"
   },
   {
    "duration": 335,
    "start_time": "2022-11-24T16:47:45.845Z"
   },
   {
    "duration": 286,
    "start_time": "2022-11-24T16:47:49.665Z"
   },
   {
    "duration": 288,
    "start_time": "2022-11-24T16:48:12.045Z"
   },
   {
    "duration": 158,
    "start_time": "2022-11-24T16:50:02.757Z"
   },
   {
    "duration": 298,
    "start_time": "2022-11-24T16:50:43.620Z"
   },
   {
    "duration": 12,
    "start_time": "2022-11-24T16:52:25.162Z"
   },
   {
    "duration": 14,
    "start_time": "2022-11-24T19:23:42.086Z"
   },
   {
    "duration": 14,
    "start_time": "2022-11-24T20:25:51.456Z"
   },
   {
    "duration": 86,
    "start_time": "2022-11-24T20:26:13.299Z"
   },
   {
    "duration": 33,
    "start_time": "2022-11-24T20:26:13.387Z"
   },
   {
    "duration": 2377,
    "start_time": "2022-11-24T20:26:13.422Z"
   },
   {
    "duration": 16,
    "start_time": "2022-11-24T20:26:15.801Z"
   },
   {
    "duration": 18,
    "start_time": "2022-11-24T20:26:15.818Z"
   },
   {
    "duration": 35,
    "start_time": "2022-11-24T20:26:15.838Z"
   },
   {
    "duration": 6,
    "start_time": "2022-11-24T20:26:15.875Z"
   },
   {
    "duration": 29,
    "start_time": "2022-11-24T20:26:15.883Z"
   },
   {
    "duration": 5,
    "start_time": "2022-11-24T20:26:15.914Z"
   },
   {
    "duration": 16,
    "start_time": "2022-11-24T20:26:15.921Z"
   },
   {
    "duration": 562,
    "start_time": "2022-11-24T20:26:15.939Z"
   },
   {
    "duration": 13,
    "start_time": "2022-11-24T20:26:16.502Z"
   },
   {
    "duration": 10,
    "start_time": "2022-11-24T20:26:16.516Z"
   },
   {
    "duration": 11,
    "start_time": "2022-11-24T20:26:16.528Z"
   },
   {
    "duration": 8,
    "start_time": "2022-11-24T20:26:16.541Z"
   },
   {
    "duration": 15,
    "start_time": "2022-11-24T20:26:16.550Z"
   },
   {
    "duration": 6,
    "start_time": "2022-11-24T20:26:16.566Z"
   },
   {
    "duration": 48,
    "start_time": "2022-11-24T20:26:16.573Z"
   },
   {
    "duration": 9,
    "start_time": "2022-11-24T20:26:16.622Z"
   },
   {
    "duration": 193,
    "start_time": "2022-11-24T20:26:16.632Z"
   },
   {
    "duration": 302,
    "start_time": "2022-11-24T20:26:16.826Z"
   },
   {
    "duration": 11,
    "start_time": "2022-11-24T20:26:17.130Z"
   },
   {
    "duration": 9,
    "start_time": "2022-11-24T20:26:17.142Z"
   },
   {
    "duration": 7,
    "start_time": "2022-11-24T20:26:17.152Z"
   },
   {
    "duration": 4,
    "start_time": "2022-11-24T20:26:17.160Z"
   },
   {
    "duration": 48,
    "start_time": "2022-11-24T20:26:17.165Z"
   },
   {
    "duration": 7,
    "start_time": "2022-11-24T20:26:17.215Z"
   },
   {
    "duration": 7,
    "start_time": "2022-11-24T20:26:17.225Z"
   },
   {
    "duration": 7,
    "start_time": "2022-11-24T20:26:17.233Z"
   },
   {
    "duration": 332,
    "start_time": "2022-11-24T20:26:17.242Z"
   },
   {
    "duration": 6,
    "start_time": "2022-11-24T20:26:17.576Z"
   },
   {
    "duration": 178,
    "start_time": "2022-11-24T20:26:17.584Z"
   },
   {
    "duration": 166,
    "start_time": "2022-11-24T20:26:17.763Z"
   },
   {
    "duration": 161,
    "start_time": "2022-11-24T20:26:17.930Z"
   },
   {
    "duration": 241,
    "start_time": "2022-11-24T20:26:18.092Z"
   },
   {
    "duration": 400,
    "start_time": "2022-11-24T20:26:18.335Z"
   },
   {
    "duration": 229,
    "start_time": "2022-11-24T20:26:18.737Z"
   },
   {
    "duration": 252,
    "start_time": "2022-11-24T20:26:18.968Z"
   },
   {
    "duration": 268,
    "start_time": "2022-11-24T20:26:19.222Z"
   },
   {
    "duration": 241,
    "start_time": "2022-11-24T20:26:19.492Z"
   },
   {
    "duration": 232,
    "start_time": "2022-11-24T20:26:19.735Z"
   },
   {
    "duration": 215,
    "start_time": "2022-11-24T20:26:19.969Z"
   },
   {
    "duration": 646,
    "start_time": "2022-11-24T20:26:20.186Z"
   },
   {
    "duration": 323,
    "start_time": "2022-11-24T20:26:20.833Z"
   },
   {
    "duration": 320,
    "start_time": "2022-11-24T20:26:21.157Z"
   },
   {
    "duration": 208,
    "start_time": "2022-11-24T20:26:21.478Z"
   },
   {
    "duration": 5,
    "start_time": "2022-11-24T20:26:21.687Z"
   },
   {
    "duration": 6,
    "start_time": "2022-11-24T20:26:21.694Z"
   },
   {
    "duration": 8,
    "start_time": "2022-11-24T20:26:21.713Z"
   },
   {
    "duration": 211,
    "start_time": "2022-11-24T20:26:21.723Z"
   },
   {
    "duration": 198,
    "start_time": "2022-11-24T20:26:21.936Z"
   },
   {
    "duration": 215,
    "start_time": "2022-11-24T20:26:22.136Z"
   },
   {
    "duration": 211,
    "start_time": "2022-11-24T20:26:22.352Z"
   },
   {
    "duration": 295,
    "start_time": "2022-11-24T20:26:22.565Z"
   },
   {
    "duration": 11,
    "start_time": "2022-11-24T20:26:22.862Z"
   },
   {
    "duration": 39,
    "start_time": "2022-11-24T20:26:22.874Z"
   },
   {
    "duration": 12,
    "start_time": "2022-11-24T20:26:22.915Z"
   },
   {
    "duration": 10,
    "start_time": "2022-11-24T20:26:27.958Z"
   },
   {
    "duration": 15,
    "start_time": "2022-11-24T20:26:39.585Z"
   },
   {
    "duration": 124,
    "start_time": "2022-11-24T20:27:22.542Z"
   },
   {
    "duration": 141,
    "start_time": "2022-11-24T20:27:28.502Z"
   },
   {
    "duration": 198,
    "start_time": "2022-11-24T20:27:44.605Z"
   },
   {
    "duration": 282,
    "start_time": "2022-11-24T20:28:44.295Z"
   },
   {
    "duration": 16,
    "start_time": "2022-11-24T20:32:10.880Z"
   },
   {
    "duration": 9,
    "start_time": "2022-11-24T20:34:43.387Z"
   },
   {
    "duration": 5,
    "start_time": "2022-11-24T20:41:38.829Z"
   },
   {
    "duration": 5,
    "start_time": "2022-11-24T20:44:32.149Z"
   },
   {
    "duration": 4,
    "start_time": "2022-11-24T20:45:18.741Z"
   },
   {
    "duration": 6,
    "start_time": "2022-11-24T20:45:28.499Z"
   },
   {
    "duration": 7,
    "start_time": "2022-11-24T20:45:54.772Z"
   },
   {
    "duration": 10,
    "start_time": "2022-11-24T20:46:39.411Z"
   },
   {
    "duration": 1099,
    "start_time": "2022-11-24T20:48:06.181Z"
   },
   {
    "duration": 186,
    "start_time": "2022-11-24T20:48:21.954Z"
   },
   {
    "duration": 6,
    "start_time": "2022-11-24T20:48:44.717Z"
   },
   {
    "duration": 70,
    "start_time": "2022-11-24T20:49:02.526Z"
   },
   {
    "duration": 195,
    "start_time": "2022-11-24T20:49:11.318Z"
   },
   {
    "duration": 7,
    "start_time": "2022-11-24T20:49:28.233Z"
   },
   {
    "duration": 198,
    "start_time": "2022-11-24T20:52:46.226Z"
   },
   {
    "duration": 177,
    "start_time": "2022-11-24T20:52:57.585Z"
   },
   {
    "duration": 794,
    "start_time": "2022-11-24T22:17:19.462Z"
   },
   {
    "duration": 30,
    "start_time": "2022-11-24T22:17:20.258Z"
   },
   {
    "duration": 2434,
    "start_time": "2022-11-24T22:17:20.297Z"
   },
   {
    "duration": 11,
    "start_time": "2022-11-24T22:17:22.735Z"
   },
   {
    "duration": 76,
    "start_time": "2022-11-24T22:17:22.749Z"
   },
   {
    "duration": 41,
    "start_time": "2022-11-24T22:17:22.827Z"
   },
   {
    "duration": 33,
    "start_time": "2022-11-24T22:17:22.869Z"
   },
   {
    "duration": 13,
    "start_time": "2022-11-24T22:17:22.904Z"
   },
   {
    "duration": 21,
    "start_time": "2022-11-24T22:17:22.918Z"
   },
   {
    "duration": 37,
    "start_time": "2022-11-24T22:17:22.942Z"
   },
   {
    "duration": 638,
    "start_time": "2022-11-24T22:17:22.980Z"
   },
   {
    "duration": 5,
    "start_time": "2022-11-24T22:17:23.619Z"
   },
   {
    "duration": 22,
    "start_time": "2022-11-24T22:17:23.626Z"
   },
   {
    "duration": 35,
    "start_time": "2022-11-24T22:17:23.649Z"
   },
   {
    "duration": 17,
    "start_time": "2022-11-24T22:17:23.686Z"
   },
   {
    "duration": 36,
    "start_time": "2022-11-24T22:17:23.704Z"
   },
   {
    "duration": 22,
    "start_time": "2022-11-24T22:17:23.742Z"
   },
   {
    "duration": 49,
    "start_time": "2022-11-24T22:17:23.766Z"
   },
   {
    "duration": 11,
    "start_time": "2022-11-24T22:17:23.816Z"
   },
   {
    "duration": 209,
    "start_time": "2022-11-24T22:17:23.829Z"
   },
   {
    "duration": 304,
    "start_time": "2022-11-24T22:17:24.040Z"
   },
   {
    "duration": 11,
    "start_time": "2022-11-24T22:17:24.346Z"
   },
   {
    "duration": 10,
    "start_time": "2022-11-24T22:17:24.359Z"
   },
   {
    "duration": 29,
    "start_time": "2022-11-24T22:17:24.371Z"
   },
   {
    "duration": 10,
    "start_time": "2022-11-24T22:17:24.402Z"
   },
   {
    "duration": 60,
    "start_time": "2022-11-24T22:17:24.414Z"
   },
   {
    "duration": 8,
    "start_time": "2022-11-24T22:17:24.476Z"
   },
   {
    "duration": 24,
    "start_time": "2022-11-24T22:17:24.488Z"
   },
   {
    "duration": 8,
    "start_time": "2022-11-24T22:17:24.514Z"
   },
   {
    "duration": 423,
    "start_time": "2022-11-24T22:17:24.523Z"
   },
   {
    "duration": 10,
    "start_time": "2022-11-24T22:17:24.948Z"
   },
   {
    "duration": 195,
    "start_time": "2022-11-24T22:17:24.959Z"
   },
   {
    "duration": 182,
    "start_time": "2022-11-24T22:17:25.155Z"
   },
   {
    "duration": 191,
    "start_time": "2022-11-24T22:17:25.339Z"
   },
   {
    "duration": 265,
    "start_time": "2022-11-24T22:17:25.532Z"
   },
   {
    "duration": 312,
    "start_time": "2022-11-24T22:17:25.799Z"
   },
   {
    "duration": 254,
    "start_time": "2022-11-24T22:17:26.113Z"
   },
   {
    "duration": 328,
    "start_time": "2022-11-24T22:17:26.368Z"
   },
   {
    "duration": 230,
    "start_time": "2022-11-24T22:17:26.698Z"
   },
   {
    "duration": 256,
    "start_time": "2022-11-24T22:17:26.930Z"
   },
   {
    "duration": 236,
    "start_time": "2022-11-24T22:17:27.187Z"
   },
   {
    "duration": 231,
    "start_time": "2022-11-24T22:17:27.424Z"
   },
   {
    "duration": 484,
    "start_time": "2022-11-24T22:17:27.656Z"
   },
   {
    "duration": 413,
    "start_time": "2022-11-24T22:17:28.142Z"
   },
   {
    "duration": 337,
    "start_time": "2022-11-24T22:17:28.557Z"
   },
   {
    "duration": 210,
    "start_time": "2022-11-24T22:17:28.896Z"
   },
   {
    "duration": 5,
    "start_time": "2022-11-24T22:17:29.108Z"
   },
   {
    "duration": 6,
    "start_time": "2022-11-24T22:17:29.115Z"
   },
   {
    "duration": 26,
    "start_time": "2022-11-24T22:17:29.122Z"
   },
   {
    "duration": 207,
    "start_time": "2022-11-24T22:17:29.150Z"
   },
   {
    "duration": 7,
    "start_time": "2022-11-24T22:17:29.359Z"
   },
   {
    "duration": 234,
    "start_time": "2022-11-24T22:17:29.368Z"
   },
   {
    "duration": 6,
    "start_time": "2022-11-24T22:17:29.604Z"
   },
   {
    "duration": 242,
    "start_time": "2022-11-24T22:17:29.612Z"
   },
   {
    "duration": 6,
    "start_time": "2022-11-24T22:17:29.856Z"
   },
   {
    "duration": 247,
    "start_time": "2022-11-24T22:17:29.863Z"
   },
   {
    "duration": 6,
    "start_time": "2022-11-24T22:17:30.111Z"
   },
   {
    "duration": 321,
    "start_time": "2022-11-24T22:17:30.118Z"
   },
   {
    "duration": 218,
    "start_time": "2022-11-24T22:17:30.440Z"
   },
   {
    "duration": 6,
    "start_time": "2022-11-24T22:17:30.660Z"
   },
   {
    "duration": 235,
    "start_time": "2022-11-24T22:17:30.667Z"
   },
   {
    "duration": 6,
    "start_time": "2022-11-24T22:17:30.904Z"
   },
   {
    "duration": 227,
    "start_time": "2022-11-24T22:17:30.912Z"
   },
   {
    "duration": 12,
    "start_time": "2022-11-24T22:17:31.140Z"
   },
   {
    "duration": 161,
    "start_time": "2022-11-24T22:17:31.154Z"
   },
   {
    "duration": 21,
    "start_time": "2022-11-24T22:17:31.316Z"
   },
   {
    "duration": 49,
    "start_time": "2022-11-24T22:17:31.339Z"
   },
   {
    "duration": 148,
    "start_time": "2022-11-24T22:17:31.390Z"
   },
   {
    "duration": 9,
    "start_time": "2022-11-24T22:18:37.042Z"
   },
   {
    "duration": 16,
    "start_time": "2022-11-24T22:18:47.368Z"
   },
   {
    "duration": 7,
    "start_time": "2022-11-24T22:19:07.210Z"
   },
   {
    "duration": 19,
    "start_time": "2022-11-24T22:19:08.870Z"
   },
   {
    "duration": 8,
    "start_time": "2022-11-24T22:19:20.242Z"
   },
   {
    "duration": 20,
    "start_time": "2022-11-24T22:19:21.863Z"
   },
   {
    "duration": 117,
    "start_time": "2022-11-24T22:24:26.216Z"
   },
   {
    "duration": 108,
    "start_time": "2022-11-24T22:24:39.919Z"
   },
   {
    "duration": 99,
    "start_time": "2022-11-24T22:24:44.035Z"
   },
   {
    "duration": 15,
    "start_time": "2022-11-24T22:26:27.442Z"
   },
   {
    "duration": 5,
    "start_time": "2022-11-24T22:27:09.131Z"
   },
   {
    "duration": 165,
    "start_time": "2022-11-24T22:28:26.672Z"
   },
   {
    "duration": 180,
    "start_time": "2022-11-24T22:28:49.197Z"
   },
   {
    "duration": 218,
    "start_time": "2022-11-24T22:30:20.787Z"
   },
   {
    "duration": 163,
    "start_time": "2022-11-24T22:31:32.441Z"
   },
   {
    "duration": 16,
    "start_time": "2022-11-24T22:31:34.345Z"
   },
   {
    "duration": 44,
    "start_time": "2022-11-25T08:21:08.536Z"
   },
   {
    "duration": 7,
    "start_time": "2022-11-25T08:21:36.171Z"
   },
   {
    "duration": 5,
    "start_time": "2022-11-25T08:21:40.800Z"
   },
   {
    "duration": 1088,
    "start_time": "2022-11-25T08:21:46.406Z"
   },
   {
    "duration": 25,
    "start_time": "2022-11-25T08:21:47.497Z"
   },
   {
    "duration": 2313,
    "start_time": "2022-11-25T08:21:47.524Z"
   },
   {
    "duration": 10,
    "start_time": "2022-11-25T08:21:49.839Z"
   },
   {
    "duration": 60,
    "start_time": "2022-11-25T08:21:49.851Z"
   },
   {
    "duration": 38,
    "start_time": "2022-11-25T08:21:49.913Z"
   },
   {
    "duration": 8,
    "start_time": "2022-11-25T08:21:49.954Z"
   },
   {
    "duration": 35,
    "start_time": "2022-11-25T08:21:49.963Z"
   },
   {
    "duration": 7,
    "start_time": "2022-11-25T08:21:49.999Z"
   },
   {
    "duration": 19,
    "start_time": "2022-11-25T08:21:50.008Z"
   },
   {
    "duration": 667,
    "start_time": "2022-11-25T08:21:50.030Z"
   },
   {
    "duration": 5,
    "start_time": "2022-11-25T08:21:50.699Z"
   },
   {
    "duration": 10,
    "start_time": "2022-11-25T08:21:50.705Z"
   },
   {
    "duration": 11,
    "start_time": "2022-11-25T08:21:50.718Z"
   },
   {
    "duration": 5,
    "start_time": "2022-11-25T08:21:50.731Z"
   },
   {
    "duration": 16,
    "start_time": "2022-11-25T08:21:50.738Z"
   },
   {
    "duration": 6,
    "start_time": "2022-11-25T08:21:50.755Z"
   },
   {
    "duration": 49,
    "start_time": "2022-11-25T08:21:50.762Z"
   },
   {
    "duration": 11,
    "start_time": "2022-11-25T08:21:50.813Z"
   },
   {
    "duration": 213,
    "start_time": "2022-11-25T08:21:50.826Z"
   },
   {
    "duration": 263,
    "start_time": "2022-11-25T08:21:51.041Z"
   },
   {
    "duration": 11,
    "start_time": "2022-11-25T08:21:51.305Z"
   },
   {
    "duration": 10,
    "start_time": "2022-11-25T08:21:51.318Z"
   },
   {
    "duration": 7,
    "start_time": "2022-11-25T08:21:51.329Z"
   },
   {
    "duration": 12,
    "start_time": "2022-11-25T08:21:51.338Z"
   },
   {
    "duration": 105,
    "start_time": "2022-11-25T08:21:51.351Z"
   },
   {
    "duration": 25,
    "start_time": "2022-11-25T08:21:51.458Z"
   },
   {
    "duration": 21,
    "start_time": "2022-11-25T08:21:51.484Z"
   },
   {
    "duration": 13,
    "start_time": "2022-11-25T08:21:51.506Z"
   },
   {
    "duration": 7,
    "start_time": "2022-11-25T08:21:51.520Z"
   },
   {
    "duration": 397,
    "start_time": "2022-11-25T08:21:51.528Z"
   },
   {
    "duration": 6,
    "start_time": "2022-11-25T08:21:51.927Z"
   },
   {
    "duration": 181,
    "start_time": "2022-11-25T08:21:51.935Z"
   },
   {
    "duration": 172,
    "start_time": "2022-11-25T08:21:52.118Z"
   },
   {
    "duration": 164,
    "start_time": "2022-11-25T08:21:52.292Z"
   },
   {
    "duration": 245,
    "start_time": "2022-11-25T08:21:52.458Z"
   },
   {
    "duration": 237,
    "start_time": "2022-11-25T08:21:52.705Z"
   },
   {
    "duration": 234,
    "start_time": "2022-11-25T08:21:52.944Z"
   },
   {
    "duration": 286,
    "start_time": "2022-11-25T08:21:53.179Z"
   },
   {
    "duration": 215,
    "start_time": "2022-11-25T08:21:53.466Z"
   },
   {
    "duration": 235,
    "start_time": "2022-11-25T08:21:53.685Z"
   },
   {
    "duration": 224,
    "start_time": "2022-11-25T08:21:53.922Z"
   },
   {
    "duration": 216,
    "start_time": "2022-11-25T08:21:54.148Z"
   },
   {
    "duration": 591,
    "start_time": "2022-11-25T08:21:54.366Z"
   },
   {
    "duration": 329,
    "start_time": "2022-11-25T08:21:54.959Z"
   },
   {
    "duration": 323,
    "start_time": "2022-11-25T08:21:55.290Z"
   },
   {
    "duration": 197,
    "start_time": "2022-11-25T08:21:55.615Z"
   },
   {
    "duration": 5,
    "start_time": "2022-11-25T08:21:55.813Z"
   },
   {
    "duration": 13,
    "start_time": "2022-11-25T08:21:55.819Z"
   },
   {
    "duration": 14,
    "start_time": "2022-11-25T08:21:55.833Z"
   },
   {
    "duration": 194,
    "start_time": "2022-11-25T08:21:55.848Z"
   },
   {
    "duration": 5,
    "start_time": "2022-11-25T08:21:56.044Z"
   },
   {
    "duration": 203,
    "start_time": "2022-11-25T08:21:56.050Z"
   },
   {
    "duration": 5,
    "start_time": "2022-11-25T08:21:56.255Z"
   },
   {
    "duration": 207,
    "start_time": "2022-11-25T08:21:56.261Z"
   },
   {
    "duration": 5,
    "start_time": "2022-11-25T08:21:56.470Z"
   },
   {
    "duration": 202,
    "start_time": "2022-11-25T08:21:56.477Z"
   },
   {
    "duration": 5,
    "start_time": "2022-11-25T08:21:56.681Z"
   },
   {
    "duration": 189,
    "start_time": "2022-11-25T08:21:56.697Z"
   },
   {
    "duration": 199,
    "start_time": "2022-11-25T08:21:56.887Z"
   },
   {
    "duration": 11,
    "start_time": "2022-11-25T08:21:57.087Z"
   },
   {
    "duration": 190,
    "start_time": "2022-11-25T08:21:57.099Z"
   },
   {
    "duration": 11,
    "start_time": "2022-11-25T08:21:57.290Z"
   },
   {
    "duration": 264,
    "start_time": "2022-11-25T08:21:57.303Z"
   },
   {
    "duration": 12,
    "start_time": "2022-11-25T08:21:57.569Z"
   },
   {
    "duration": 35,
    "start_time": "2022-11-25T08:21:57.582Z"
   },
   {
    "duration": 13,
    "start_time": "2022-11-25T08:21:57.618Z"
   },
   {
    "duration": 13,
    "start_time": "2022-11-25T08:21:57.633Z"
   },
   {
    "duration": 138,
    "start_time": "2022-11-25T08:21:57.647Z"
   },
   {
    "duration": 124,
    "start_time": "2022-11-25T08:22:20.656Z"
   },
   {
    "duration": 125,
    "start_time": "2022-11-25T08:22:25.408Z"
   },
   {
    "duration": 130,
    "start_time": "2022-11-25T08:22:32.053Z"
   },
   {
    "duration": 134,
    "start_time": "2022-11-25T08:22:36.001Z"
   },
   {
    "duration": 40,
    "start_time": "2022-11-25T08:23:41.831Z"
   },
   {
    "duration": 803,
    "start_time": "2022-11-25T13:27:42.189Z"
   },
   {
    "duration": 30,
    "start_time": "2022-11-25T13:27:42.994Z"
   },
   {
    "duration": 2731,
    "start_time": "2022-11-25T13:27:43.025Z"
   },
   {
    "duration": 10,
    "start_time": "2022-11-25T13:27:45.758Z"
   },
   {
    "duration": 62,
    "start_time": "2022-11-25T13:27:45.770Z"
   },
   {
    "duration": 58,
    "start_time": "2022-11-25T13:27:45.835Z"
   },
   {
    "duration": 9,
    "start_time": "2022-11-25T13:27:45.911Z"
   },
   {
    "duration": 8,
    "start_time": "2022-11-25T13:27:45.922Z"
   },
   {
    "duration": 6,
    "start_time": "2022-11-25T13:27:45.932Z"
   },
   {
    "duration": 16,
    "start_time": "2022-11-25T13:27:45.941Z"
   },
   {
    "duration": 720,
    "start_time": "2022-11-25T13:27:45.959Z"
   },
   {
    "duration": 6,
    "start_time": "2022-11-25T13:27:46.681Z"
   },
   {
    "duration": 26,
    "start_time": "2022-11-25T13:27:46.688Z"
   },
   {
    "duration": 14,
    "start_time": "2022-11-25T13:27:46.716Z"
   },
   {
    "duration": 9,
    "start_time": "2022-11-25T13:27:46.732Z"
   },
   {
    "duration": 20,
    "start_time": "2022-11-25T13:27:46.743Z"
   },
   {
    "duration": 8,
    "start_time": "2022-11-25T13:27:46.764Z"
   },
   {
    "duration": 54,
    "start_time": "2022-11-25T13:27:46.775Z"
   },
   {
    "duration": 12,
    "start_time": "2022-11-25T13:27:46.832Z"
   },
   {
    "duration": 280,
    "start_time": "2022-11-25T13:27:46.847Z"
   },
   {
    "duration": 359,
    "start_time": "2022-11-25T13:27:47.129Z"
   },
   {
    "duration": 11,
    "start_time": "2022-11-25T13:27:47.490Z"
   },
   {
    "duration": 13,
    "start_time": "2022-11-25T13:27:47.511Z"
   },
   {
    "duration": 8,
    "start_time": "2022-11-25T13:27:47.526Z"
   },
   {
    "duration": 6,
    "start_time": "2022-11-25T13:27:47.536Z"
   },
   {
    "duration": 130,
    "start_time": "2022-11-25T13:27:47.544Z"
   },
   {
    "duration": 40,
    "start_time": "2022-11-25T13:27:47.675Z"
   },
   {
    "duration": 9,
    "start_time": "2022-11-25T13:27:47.719Z"
   },
   {
    "duration": 9,
    "start_time": "2022-11-25T13:27:47.730Z"
   },
   {
    "duration": 9,
    "start_time": "2022-11-25T13:27:47.741Z"
   },
   {
    "duration": 501,
    "start_time": "2022-11-25T13:27:47.751Z"
   },
   {
    "duration": 9,
    "start_time": "2022-11-25T13:27:48.255Z"
   },
   {
    "duration": 215,
    "start_time": "2022-11-25T13:27:48.266Z"
   },
   {
    "duration": 213,
    "start_time": "2022-11-25T13:27:48.482Z"
   },
   {
    "duration": 190,
    "start_time": "2022-11-25T13:27:48.697Z"
   },
   {
    "duration": 296,
    "start_time": "2022-11-25T13:27:48.889Z"
   },
   {
    "duration": 305,
    "start_time": "2022-11-25T13:27:49.188Z"
   },
   {
    "duration": 278,
    "start_time": "2022-11-25T13:27:49.495Z"
   },
   {
    "duration": 355,
    "start_time": "2022-11-25T13:27:49.775Z"
   },
   {
    "duration": 256,
    "start_time": "2022-11-25T13:27:50.132Z"
   },
   {
    "duration": 278,
    "start_time": "2022-11-25T13:27:50.390Z"
   },
   {
    "duration": 271,
    "start_time": "2022-11-25T13:27:50.670Z"
   },
   {
    "duration": 275,
    "start_time": "2022-11-25T13:27:50.943Z"
   },
   {
    "duration": 629,
    "start_time": "2022-11-25T13:27:51.221Z"
   },
   {
    "duration": 380,
    "start_time": "2022-11-25T13:27:51.852Z"
   },
   {
    "duration": 371,
    "start_time": "2022-11-25T13:27:52.234Z"
   },
   {
    "duration": 236,
    "start_time": "2022-11-25T13:27:52.607Z"
   },
   {
    "duration": 6,
    "start_time": "2022-11-25T13:27:52.845Z"
   },
   {
    "duration": 5,
    "start_time": "2022-11-25T13:27:52.852Z"
   },
   {
    "duration": 10,
    "start_time": "2022-11-25T13:27:52.859Z"
   },
   {
    "duration": 245,
    "start_time": "2022-11-25T13:27:52.871Z"
   },
   {
    "duration": 6,
    "start_time": "2022-11-25T13:27:53.118Z"
   },
   {
    "duration": 239,
    "start_time": "2022-11-25T13:27:53.125Z"
   },
   {
    "duration": 6,
    "start_time": "2022-11-25T13:27:53.367Z"
   },
   {
    "duration": 264,
    "start_time": "2022-11-25T13:27:53.375Z"
   },
   {
    "duration": 6,
    "start_time": "2022-11-25T13:27:53.641Z"
   },
   {
    "duration": 257,
    "start_time": "2022-11-25T13:27:53.649Z"
   },
   {
    "duration": 6,
    "start_time": "2022-11-25T13:27:53.912Z"
   },
   {
    "duration": 248,
    "start_time": "2022-11-25T13:27:53.920Z"
   },
   {
    "duration": 263,
    "start_time": "2022-11-25T13:27:54.170Z"
   },
   {
    "duration": 8,
    "start_time": "2022-11-25T13:27:54.435Z"
   },
   {
    "duration": 252,
    "start_time": "2022-11-25T13:27:54.445Z"
   },
   {
    "duration": 13,
    "start_time": "2022-11-25T13:27:54.700Z"
   },
   {
    "duration": 343,
    "start_time": "2022-11-25T13:27:54.715Z"
   },
   {
    "duration": 14,
    "start_time": "2022-11-25T13:27:55.060Z"
   },
   {
    "duration": 50,
    "start_time": "2022-11-25T13:27:55.076Z"
   },
   {
    "duration": 15,
    "start_time": "2022-11-25T13:27:55.128Z"
   },
   {
    "duration": 26,
    "start_time": "2022-11-25T13:27:55.145Z"
   },
   {
    "duration": 204,
    "start_time": "2022-11-25T13:27:55.173Z"
   },
   {
    "duration": 176,
    "start_time": "2022-11-25T13:31:18.570Z"
   },
   {
    "duration": 52,
    "start_time": "2023-03-24T10:37:28.179Z"
   },
   {
    "duration": 769,
    "start_time": "2023-03-24T10:37:31.518Z"
   },
   {
    "duration": 51,
    "start_time": "2023-03-24T10:37:32.289Z"
   },
   {
    "duration": 44,
    "start_time": "2023-03-24T10:38:08.284Z"
   }
  ],
  "kernelspec": {
   "display_name": "Python 3 (ipykernel)",
   "language": "python",
   "name": "python3"
  },
  "language_info": {
   "codemirror_mode": {
    "name": "ipython",
    "version": 3
   },
   "file_extension": ".py",
   "mimetype": "text/x-python",
   "name": "python",
   "nbconvert_exporter": "python",
   "pygments_lexer": "ipython3",
   "version": "3.9.5"
  },
  "toc": {
   "base_numbering": 1,
   "nav_menu": {},
   "number_sections": true,
   "sideBar": true,
   "skip_h1_title": true,
   "title_cell": "Table of Contents",
   "title_sidebar": "Contents",
   "toc_cell": false,
   "toc_position": {},
   "toc_section_display": true,
   "toc_window_display": true
  }
 },
 "nbformat": 4,
 "nbformat_minor": 2
}
