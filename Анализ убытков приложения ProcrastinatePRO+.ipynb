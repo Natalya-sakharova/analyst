{
 "cells": [
  {
   "cell_type": "markdown",
   "metadata": {},
   "source": [
    "# Исследование данных о продажах игр\n",
    "В моем распоряжении данные из открытых источников о продажах игр, оценки пользователей и экспертов, жанры и платформы.\n",
    "\n",
    "\n",
    "Цели:\n",
    "- выявить определяющие успешность игры закономерности\n",
    "- сделать ставку на потенциально популярный продукт и спланировать рекламные кампании  на следующий год\n",
    "\n",
    "Данные о продажах игр, я получу из файла '/datasets/games.csv'.О качестве данных ничего не известно, поэтому перед тем, как приступать к целяем исследования, понадобится обзор данных. Я проверю данные на ошибки, дубликаты и оценю их влияние на анализ. На этапе предобработки я постараюсь исправить все ошибки, которые необходимо устранить. \n",
    "\n",
    "Ход работы:\n",
    "- Обзор данных\n",
    "- Предобработка данных\n",
    "- Исследовательский анализ\n",
    "- Составления портрета пользователя каждого региона\n",
    "- Формирование гипотез и их проверка\n",
    "- Общий вывод\n"
   ]
  },
  {
   "cell_type": "markdown",
   "metadata": {},
   "source": [
    "Описание данных\n",
    "- Name — название игры\n",
    "- Platform — платформа\n",
    "- Year_of_Release — год выпуска\n",
    "- Genre — жанр игры\n",
    "- NA_sales — продажи в Северной Америке (миллионы проданных копий)\n",
    "- EU_sales — продажи в Европе (миллионы проданных копий)\n",
    "- JP_sales — продажи в Японии (миллионы проданных копий)\n",
    "- Other_sales — продажи в других странах (миллионы проданных копий)\n",
    "- Critic_Score — оценка критиков (максимум 100)\n",
    "- User_Score — оценка пользователей (максимум 10)\n",
    "- Rating — рейтинг от организации ESRB (англ. Entertainment Software Rating Board). Эта ассоциация определяет рейтинг компьютерных игр и присваивает им подходящую возрастную категорию."
   ]
  },
  {
   "cell_type": "markdown",
   "metadata": {},
   "source": [
    "### Изучу общую информацию о данных"
   ]
  },
  {
   "cell_type": "code",
   "execution_count": 2,
   "metadata": {},
   "outputs": [],
   "source": [
    "import pandas as pd\n",
    "data = pd.read_csv('/datasets/games.csv')"
   ]
  },
  {
   "cell_type": "code",
   "execution_count": 3,
   "metadata": {
    "scrolled": false
   },
   "outputs": [
    {
     "data": {
      "text/html": [
       "<div>\n",
       "<style scoped>\n",
       "    .dataframe tbody tr th:only-of-type {\n",
       "        vertical-align: middle;\n",
       "    }\n",
       "\n",
       "    .dataframe tbody tr th {\n",
       "        vertical-align: top;\n",
       "    }\n",
       "\n",
       "    .dataframe thead th {\n",
       "        text-align: right;\n",
       "    }\n",
       "</style>\n",
       "<table border=\"1\" class=\"dataframe\">\n",
       "  <thead>\n",
       "    <tr style=\"text-align: right;\">\n",
       "      <th></th>\n",
       "      <th>Name</th>\n",
       "      <th>Platform</th>\n",
       "      <th>Year_of_Release</th>\n",
       "      <th>Genre</th>\n",
       "      <th>NA_sales</th>\n",
       "      <th>EU_sales</th>\n",
       "      <th>JP_sales</th>\n",
       "      <th>Other_sales</th>\n",
       "      <th>Critic_Score</th>\n",
       "      <th>User_Score</th>\n",
       "      <th>Rating</th>\n",
       "    </tr>\n",
       "  </thead>\n",
       "  <tbody>\n",
       "    <tr>\n",
       "      <th>0</th>\n",
       "      <td>Wii Sports</td>\n",
       "      <td>Wii</td>\n",
       "      <td>2006.0</td>\n",
       "      <td>Sports</td>\n",
       "      <td>41.36</td>\n",
       "      <td>28.96</td>\n",
       "      <td>3.77</td>\n",
       "      <td>8.45</td>\n",
       "      <td>76.0</td>\n",
       "      <td>8</td>\n",
       "      <td>E</td>\n",
       "    </tr>\n",
       "    <tr>\n",
       "      <th>1</th>\n",
       "      <td>Super Mario Bros.</td>\n",
       "      <td>NES</td>\n",
       "      <td>1985.0</td>\n",
       "      <td>Platform</td>\n",
       "      <td>29.08</td>\n",
       "      <td>3.58</td>\n",
       "      <td>6.81</td>\n",
       "      <td>0.77</td>\n",
       "      <td>NaN</td>\n",
       "      <td>NaN</td>\n",
       "      <td>NaN</td>\n",
       "    </tr>\n",
       "    <tr>\n",
       "      <th>2</th>\n",
       "      <td>Mario Kart Wii</td>\n",
       "      <td>Wii</td>\n",
       "      <td>2008.0</td>\n",
       "      <td>Racing</td>\n",
       "      <td>15.68</td>\n",
       "      <td>12.76</td>\n",
       "      <td>3.79</td>\n",
       "      <td>3.29</td>\n",
       "      <td>82.0</td>\n",
       "      <td>8.3</td>\n",
       "      <td>E</td>\n",
       "    </tr>\n",
       "    <tr>\n",
       "      <th>3</th>\n",
       "      <td>Wii Sports Resort</td>\n",
       "      <td>Wii</td>\n",
       "      <td>2009.0</td>\n",
       "      <td>Sports</td>\n",
       "      <td>15.61</td>\n",
       "      <td>10.93</td>\n",
       "      <td>3.28</td>\n",
       "      <td>2.95</td>\n",
       "      <td>80.0</td>\n",
       "      <td>8</td>\n",
       "      <td>E</td>\n",
       "    </tr>\n",
       "    <tr>\n",
       "      <th>4</th>\n",
       "      <td>Pokemon Red/Pokemon Blue</td>\n",
       "      <td>GB</td>\n",
       "      <td>1996.0</td>\n",
       "      <td>Role-Playing</td>\n",
       "      <td>11.27</td>\n",
       "      <td>8.89</td>\n",
       "      <td>10.22</td>\n",
       "      <td>1.00</td>\n",
       "      <td>NaN</td>\n",
       "      <td>NaN</td>\n",
       "      <td>NaN</td>\n",
       "    </tr>\n",
       "    <tr>\n",
       "      <th>5</th>\n",
       "      <td>Tetris</td>\n",
       "      <td>GB</td>\n",
       "      <td>1989.0</td>\n",
       "      <td>Puzzle</td>\n",
       "      <td>23.20</td>\n",
       "      <td>2.26</td>\n",
       "      <td>4.22</td>\n",
       "      <td>0.58</td>\n",
       "      <td>NaN</td>\n",
       "      <td>NaN</td>\n",
       "      <td>NaN</td>\n",
       "    </tr>\n",
       "    <tr>\n",
       "      <th>6</th>\n",
       "      <td>New Super Mario Bros.</td>\n",
       "      <td>DS</td>\n",
       "      <td>2006.0</td>\n",
       "      <td>Platform</td>\n",
       "      <td>11.28</td>\n",
       "      <td>9.14</td>\n",
       "      <td>6.50</td>\n",
       "      <td>2.88</td>\n",
       "      <td>89.0</td>\n",
       "      <td>8.5</td>\n",
       "      <td>E</td>\n",
       "    </tr>\n",
       "    <tr>\n",
       "      <th>7</th>\n",
       "      <td>Wii Play</td>\n",
       "      <td>Wii</td>\n",
       "      <td>2006.0</td>\n",
       "      <td>Misc</td>\n",
       "      <td>13.96</td>\n",
       "      <td>9.18</td>\n",
       "      <td>2.93</td>\n",
       "      <td>2.84</td>\n",
       "      <td>58.0</td>\n",
       "      <td>6.6</td>\n",
       "      <td>E</td>\n",
       "    </tr>\n",
       "    <tr>\n",
       "      <th>8</th>\n",
       "      <td>New Super Mario Bros. Wii</td>\n",
       "      <td>Wii</td>\n",
       "      <td>2009.0</td>\n",
       "      <td>Platform</td>\n",
       "      <td>14.44</td>\n",
       "      <td>6.94</td>\n",
       "      <td>4.70</td>\n",
       "      <td>2.24</td>\n",
       "      <td>87.0</td>\n",
       "      <td>8.4</td>\n",
       "      <td>E</td>\n",
       "    </tr>\n",
       "    <tr>\n",
       "      <th>9</th>\n",
       "      <td>Duck Hunt</td>\n",
       "      <td>NES</td>\n",
       "      <td>1984.0</td>\n",
       "      <td>Shooter</td>\n",
       "      <td>26.93</td>\n",
       "      <td>0.63</td>\n",
       "      <td>0.28</td>\n",
       "      <td>0.47</td>\n",
       "      <td>NaN</td>\n",
       "      <td>NaN</td>\n",
       "      <td>NaN</td>\n",
       "    </tr>\n",
       "    <tr>\n",
       "      <th>10</th>\n",
       "      <td>Nintendogs</td>\n",
       "      <td>DS</td>\n",
       "      <td>2005.0</td>\n",
       "      <td>Simulation</td>\n",
       "      <td>9.05</td>\n",
       "      <td>10.95</td>\n",
       "      <td>1.93</td>\n",
       "      <td>2.74</td>\n",
       "      <td>NaN</td>\n",
       "      <td>NaN</td>\n",
       "      <td>NaN</td>\n",
       "    </tr>\n",
       "    <tr>\n",
       "      <th>11</th>\n",
       "      <td>Mario Kart DS</td>\n",
       "      <td>DS</td>\n",
       "      <td>2005.0</td>\n",
       "      <td>Racing</td>\n",
       "      <td>9.71</td>\n",
       "      <td>7.47</td>\n",
       "      <td>4.13</td>\n",
       "      <td>1.90</td>\n",
       "      <td>91.0</td>\n",
       "      <td>8.6</td>\n",
       "      <td>E</td>\n",
       "    </tr>\n",
       "    <tr>\n",
       "      <th>12</th>\n",
       "      <td>Pokemon Gold/Pokemon Silver</td>\n",
       "      <td>GB</td>\n",
       "      <td>1999.0</td>\n",
       "      <td>Role-Playing</td>\n",
       "      <td>9.00</td>\n",
       "      <td>6.18</td>\n",
       "      <td>7.20</td>\n",
       "      <td>0.71</td>\n",
       "      <td>NaN</td>\n",
       "      <td>NaN</td>\n",
       "      <td>NaN</td>\n",
       "    </tr>\n",
       "    <tr>\n",
       "      <th>13</th>\n",
       "      <td>Wii Fit</td>\n",
       "      <td>Wii</td>\n",
       "      <td>2007.0</td>\n",
       "      <td>Sports</td>\n",
       "      <td>8.92</td>\n",
       "      <td>8.03</td>\n",
       "      <td>3.60</td>\n",
       "      <td>2.15</td>\n",
       "      <td>80.0</td>\n",
       "      <td>7.7</td>\n",
       "      <td>E</td>\n",
       "    </tr>\n",
       "    <tr>\n",
       "      <th>14</th>\n",
       "      <td>Kinect Adventures!</td>\n",
       "      <td>X360</td>\n",
       "      <td>2010.0</td>\n",
       "      <td>Misc</td>\n",
       "      <td>15.00</td>\n",
       "      <td>4.89</td>\n",
       "      <td>0.24</td>\n",
       "      <td>1.69</td>\n",
       "      <td>61.0</td>\n",
       "      <td>6.3</td>\n",
       "      <td>E</td>\n",
       "    </tr>\n",
       "    <tr>\n",
       "      <th>15</th>\n",
       "      <td>Wii Fit Plus</td>\n",
       "      <td>Wii</td>\n",
       "      <td>2009.0</td>\n",
       "      <td>Sports</td>\n",
       "      <td>9.01</td>\n",
       "      <td>8.49</td>\n",
       "      <td>2.53</td>\n",
       "      <td>1.77</td>\n",
       "      <td>80.0</td>\n",
       "      <td>7.4</td>\n",
       "      <td>E</td>\n",
       "    </tr>\n",
       "    <tr>\n",
       "      <th>16</th>\n",
       "      <td>Grand Theft Auto V</td>\n",
       "      <td>PS3</td>\n",
       "      <td>2013.0</td>\n",
       "      <td>Action</td>\n",
       "      <td>7.02</td>\n",
       "      <td>9.09</td>\n",
       "      <td>0.98</td>\n",
       "      <td>3.96</td>\n",
       "      <td>97.0</td>\n",
       "      <td>8.2</td>\n",
       "      <td>M</td>\n",
       "    </tr>\n",
       "    <tr>\n",
       "      <th>17</th>\n",
       "      <td>Grand Theft Auto: San Andreas</td>\n",
       "      <td>PS2</td>\n",
       "      <td>2004.0</td>\n",
       "      <td>Action</td>\n",
       "      <td>9.43</td>\n",
       "      <td>0.40</td>\n",
       "      <td>0.41</td>\n",
       "      <td>10.57</td>\n",
       "      <td>95.0</td>\n",
       "      <td>9</td>\n",
       "      <td>M</td>\n",
       "    </tr>\n",
       "    <tr>\n",
       "      <th>18</th>\n",
       "      <td>Super Mario World</td>\n",
       "      <td>SNES</td>\n",
       "      <td>1990.0</td>\n",
       "      <td>Platform</td>\n",
       "      <td>12.78</td>\n",
       "      <td>3.75</td>\n",
       "      <td>3.54</td>\n",
       "      <td>0.55</td>\n",
       "      <td>NaN</td>\n",
       "      <td>NaN</td>\n",
       "      <td>NaN</td>\n",
       "    </tr>\n",
       "    <tr>\n",
       "      <th>19</th>\n",
       "      <td>Brain Age: Train Your Brain in Minutes a Day</td>\n",
       "      <td>DS</td>\n",
       "      <td>2005.0</td>\n",
       "      <td>Misc</td>\n",
       "      <td>4.74</td>\n",
       "      <td>9.20</td>\n",
       "      <td>4.16</td>\n",
       "      <td>2.04</td>\n",
       "      <td>77.0</td>\n",
       "      <td>7.9</td>\n",
       "      <td>E</td>\n",
       "    </tr>\n",
       "  </tbody>\n",
       "</table>\n",
       "</div>"
      ],
      "text/plain": [
       "                                            Name Platform  Year_of_Release  \\\n",
       "0                                     Wii Sports      Wii           2006.0   \n",
       "1                              Super Mario Bros.      NES           1985.0   \n",
       "2                                 Mario Kart Wii      Wii           2008.0   \n",
       "3                              Wii Sports Resort      Wii           2009.0   \n",
       "4                       Pokemon Red/Pokemon Blue       GB           1996.0   \n",
       "5                                         Tetris       GB           1989.0   \n",
       "6                          New Super Mario Bros.       DS           2006.0   \n",
       "7                                       Wii Play      Wii           2006.0   \n",
       "8                      New Super Mario Bros. Wii      Wii           2009.0   \n",
       "9                                      Duck Hunt      NES           1984.0   \n",
       "10                                    Nintendogs       DS           2005.0   \n",
       "11                                 Mario Kart DS       DS           2005.0   \n",
       "12                   Pokemon Gold/Pokemon Silver       GB           1999.0   \n",
       "13                                       Wii Fit      Wii           2007.0   \n",
       "14                            Kinect Adventures!     X360           2010.0   \n",
       "15                                  Wii Fit Plus      Wii           2009.0   \n",
       "16                            Grand Theft Auto V      PS3           2013.0   \n",
       "17                 Grand Theft Auto: San Andreas      PS2           2004.0   \n",
       "18                             Super Mario World     SNES           1990.0   \n",
       "19  Brain Age: Train Your Brain in Minutes a Day       DS           2005.0   \n",
       "\n",
       "           Genre  NA_sales  EU_sales  JP_sales  Other_sales  Critic_Score  \\\n",
       "0         Sports     41.36     28.96      3.77         8.45          76.0   \n",
       "1       Platform     29.08      3.58      6.81         0.77           NaN   \n",
       "2         Racing     15.68     12.76      3.79         3.29          82.0   \n",
       "3         Sports     15.61     10.93      3.28         2.95          80.0   \n",
       "4   Role-Playing     11.27      8.89     10.22         1.00           NaN   \n",
       "5         Puzzle     23.20      2.26      4.22         0.58           NaN   \n",
       "6       Platform     11.28      9.14      6.50         2.88          89.0   \n",
       "7           Misc     13.96      9.18      2.93         2.84          58.0   \n",
       "8       Platform     14.44      6.94      4.70         2.24          87.0   \n",
       "9        Shooter     26.93      0.63      0.28         0.47           NaN   \n",
       "10    Simulation      9.05     10.95      1.93         2.74           NaN   \n",
       "11        Racing      9.71      7.47      4.13         1.90          91.0   \n",
       "12  Role-Playing      9.00      6.18      7.20         0.71           NaN   \n",
       "13        Sports      8.92      8.03      3.60         2.15          80.0   \n",
       "14          Misc     15.00      4.89      0.24         1.69          61.0   \n",
       "15        Sports      9.01      8.49      2.53         1.77          80.0   \n",
       "16        Action      7.02      9.09      0.98         3.96          97.0   \n",
       "17        Action      9.43      0.40      0.41        10.57          95.0   \n",
       "18      Platform     12.78      3.75      3.54         0.55           NaN   \n",
       "19          Misc      4.74      9.20      4.16         2.04          77.0   \n",
       "\n",
       "   User_Score Rating  \n",
       "0           8      E  \n",
       "1         NaN    NaN  \n",
       "2         8.3      E  \n",
       "3           8      E  \n",
       "4         NaN    NaN  \n",
       "5         NaN    NaN  \n",
       "6         8.5      E  \n",
       "7         6.6      E  \n",
       "8         8.4      E  \n",
       "9         NaN    NaN  \n",
       "10        NaN    NaN  \n",
       "11        8.6      E  \n",
       "12        NaN    NaN  \n",
       "13        7.7      E  \n",
       "14        6.3      E  \n",
       "15        7.4      E  \n",
       "16        8.2      M  \n",
       "17          9      M  \n",
       "18        NaN    NaN  \n",
       "19        7.9      E  "
      ]
     },
     "execution_count": 3,
     "metadata": {},
     "output_type": "execute_result"
    }
   ],
   "source": [
    "data.head(20)"
   ]
  },
  {
   "cell_type": "code",
   "execution_count": 4,
   "metadata": {},
   "outputs": [
    {
     "name": "stdout",
     "output_type": "stream",
     "text": [
      "<class 'pandas.core.frame.DataFrame'>\n",
      "RangeIndex: 16715 entries, 0 to 16714\n",
      "Data columns (total 11 columns):\n",
      " #   Column           Non-Null Count  Dtype  \n",
      "---  ------           --------------  -----  \n",
      " 0   Name             16713 non-null  object \n",
      " 1   Platform         16715 non-null  object \n",
      " 2   Year_of_Release  16446 non-null  float64\n",
      " 3   Genre            16713 non-null  object \n",
      " 4   NA_sales         16715 non-null  float64\n",
      " 5   EU_sales         16715 non-null  float64\n",
      " 6   JP_sales         16715 non-null  float64\n",
      " 7   Other_sales      16715 non-null  float64\n",
      " 8   Critic_Score     8137 non-null   float64\n",
      " 9   User_Score       10014 non-null  object \n",
      " 10  Rating           9949 non-null   object \n",
      "dtypes: float64(6), object(5)\n",
      "memory usage: 1.4+ MB\n"
     ]
    }
   ],
   "source": [
    "data.info()"
   ]
  },
  {
   "cell_type": "markdown",
   "metadata": {},
   "source": [
    "В ходе знакомства с данными заметила, что не все данные представлены в нужном типе данных, есть пропуски, названия колонок записаны без соблюдения правил."
   ]
  },
  {
   "cell_type": "markdown",
   "metadata": {},
   "source": [
    "### Предобработка данных"
   ]
  },
  {
   "cell_type": "markdown",
   "metadata": {},
   "source": [
    "#### Подготовка данных\n"
   ]
  },
  {
   "cell_type": "markdown",
   "metadata": {},
   "source": [
    "Приведу названия столбцов к нижнему регистру"
   ]
  },
  {
   "cell_type": "code",
   "execution_count": 5,
   "metadata": {
    "scrolled": true
   },
   "outputs": [
    {
     "name": "stdout",
     "output_type": "stream",
     "text": [
      "                       name platform  year_of_release         genre  na_sales  \\\n",
      "0                Wii Sports      Wii           2006.0        Sports     41.36   \n",
      "1         Super Mario Bros.      NES           1985.0      Platform     29.08   \n",
      "2            Mario Kart Wii      Wii           2008.0        Racing     15.68   \n",
      "3         Wii Sports Resort      Wii           2009.0        Sports     15.61   \n",
      "4  Pokemon Red/Pokemon Blue       GB           1996.0  Role-Playing     11.27   \n",
      "\n",
      "   eu_sales  jp_sales  other_sales  critic_score user_score rating  \n",
      "0     28.96      3.77         8.45          76.0          8      E  \n",
      "1      3.58      6.81         0.77           NaN        NaN    NaN  \n",
      "2     12.76      3.79         3.29          82.0        8.3      E  \n",
      "3     10.93      3.28         2.95          80.0          8      E  \n",
      "4      8.89     10.22         1.00           NaN        NaN    NaN  \n"
     ]
    }
   ],
   "source": [
    "data.columns = data.columns.str.lower()\n",
    "print(data.head())"
   ]
  },
  {
   "cell_type": "markdown",
   "metadata": {},
   "source": [
    "#### Изменение типов данных"
   ]
  },
  {
   "cell_type": "markdown",
   "metadata": {},
   "source": [
    "- Год выпуска хранится в формате float,надо заменить на int, так как это целочисленная величина.\n",
    "- Оценка пользователей хранится в формате object,надо заменить на float, так как это численная дробная величина."
   ]
  },
  {
   "cell_type": "code",
   "execution_count": 6,
   "metadata": {
    "scrolled": true
   },
   "outputs": [
    {
     "data": {
      "text/plain": [
       "array(['8', nan, '8.3', '8.5', '6.6', '8.4', '8.6', '7.7', '6.3', '7.4',\n",
       "       '8.2', '9', '7.9', '8.1', '8.7', '7.1', '3.4', '5.3', '4.8', '3.2',\n",
       "       '8.9', '6.4', '7.8', '7.5', '2.6', '7.2', '9.2', '7', '7.3', '4.3',\n",
       "       '7.6', '5.7', '5', '9.1', '6.5', 'tbd', '8.8', '6.9', '9.4', '6.8',\n",
       "       '6.1', '6.7', '5.4', '4', '4.9', '4.5', '9.3', '6.2', '4.2', '6',\n",
       "       '3.7', '4.1', '5.8', '5.6', '5.5', '4.4', '4.6', '5.9', '3.9',\n",
       "       '3.1', '2.9', '5.2', '3.3', '4.7', '5.1', '3.5', '2.5', '1.9', '3',\n",
       "       '2.7', '2.2', '2', '9.5', '2.1', '3.6', '2.8', '1.8', '3.8', '0',\n",
       "       '1.6', '9.6', '2.4', '1.7', '1.1', '0.3', '1.5', '0.7', '1.2',\n",
       "       '2.3', '0.5', '1.3', '0.2', '0.6', '1.4', '0.9', '1', '9.7'],\n",
       "      dtype=object)"
      ]
     },
     "execution_count": 6,
     "metadata": {},
     "output_type": "execute_result"
    }
   ],
   "source": [
    "data['user_score'].unique()"
   ]
  },
  {
   "cell_type": "markdown",
   "metadata": {},
   "source": [
    "Среди данных об оценке пользователей есть такое значение - 'tbd' - 'To Be Determined', то есть 'Будет определено'. Значит эти игры вышли совсем недавно и о них еще нет оценки. Значит, их можно удалить."
   ]
  },
  {
   "cell_type": "code",
   "execution_count": 7,
   "metadata": {
    "scrolled": true
   },
   "outputs": [
    {
     "data": {
      "text/plain": [
       "array(['8', nan, '8.3', '8.5', '6.6', '8.4', '8.6', '7.7', '6.3', '7.4',\n",
       "       '8.2', '9', '7.9', '8.1', '8.7', '7.1', '3.4', '5.3', '4.8', '3.2',\n",
       "       '8.9', '6.4', '7.8', '7.5', '2.6', '7.2', '9.2', '7', '7.3', '4.3',\n",
       "       '7.6', '5.7', '5', '9.1', '6.5', '8.8', '6.9', '9.4', '6.8', '6.1',\n",
       "       '6.7', '5.4', '4', '4.9', '4.5', '9.3', '6.2', '4.2', '6', '3.7',\n",
       "       '4.1', '5.8', '5.6', '5.5', '4.4', '4.6', '5.9', '3.9', '3.1',\n",
       "       '2.9', '5.2', '3.3', '4.7', '5.1', '3.5', '2.5', '1.9', '3', '2.7',\n",
       "       '2.2', '2', '9.5', '2.1', '3.6', '2.8', '1.8', '3.8', '0', '1.6',\n",
       "       '9.6', '2.4', '1.7', '1.1', '0.3', '1.5', '0.7', '1.2', '2.3',\n",
       "       '0.5', '1.3', '0.2', '0.6', '1.4', '0.9', '1', '9.7'], dtype=object)"
      ]
     },
     "execution_count": 7,
     "metadata": {},
     "output_type": "execute_result"
    }
   ],
   "source": [
    "data['user_score'] = data.loc[data['user_score'] != 'tbd','user_score']\n",
    "data['user_score'].unique()"
   ]
  },
  {
   "cell_type": "code",
   "execution_count": 8,
   "metadata": {},
   "outputs": [],
   "source": [
    "data = data.dropna(subset=['year_of_release','name'])"
   ]
  },
  {
   "cell_type": "code",
   "execution_count": 9,
   "metadata": {},
   "outputs": [
    {
     "name": "stdout",
     "output_type": "stream",
     "text": [
      "<class 'pandas.core.frame.DataFrame'>\n",
      "Int64Index: 16444 entries, 0 to 16714\n",
      "Data columns (total 11 columns):\n",
      " #   Column           Non-Null Count  Dtype  \n",
      "---  ------           --------------  -----  \n",
      " 0   name             16444 non-null  object \n",
      " 1   platform         16444 non-null  object \n",
      " 2   year_of_release  16444 non-null  int64  \n",
      " 3   genre            16444 non-null  object \n",
      " 4   na_sales         16444 non-null  float64\n",
      " 5   eu_sales         16444 non-null  float64\n",
      " 6   jp_sales         16444 non-null  float64\n",
      " 7   other_sales      16444 non-null  float64\n",
      " 8   critic_score     7983 non-null   float64\n",
      " 9   user_score       7463 non-null   float64\n",
      " 10  rating           9768 non-null   object \n",
      "dtypes: float64(6), int64(1), object(4)\n",
      "memory usage: 1.5+ MB\n"
     ]
    }
   ],
   "source": [
    "data['year_of_release'] = data['year_of_release'].astype(int)\n",
    "data['user_score'] = data['user_score'].astype('float')\n",
    "data.info()"
   ]
  },
  {
   "cell_type": "markdown",
   "metadata": {},
   "source": [
    "#### Работа с пропусками в данных"
   ]
  },
  {
   "cell_type": "code",
   "execution_count": 10,
   "metadata": {},
   "outputs": [
    {
     "data": {
      "text/plain": [
       "name                  0\n",
       "platform              0\n",
       "year_of_release       0\n",
       "genre                 0\n",
       "na_sales              0\n",
       "eu_sales              0\n",
       "jp_sales              0\n",
       "other_sales           0\n",
       "critic_score       8461\n",
       "user_score         8981\n",
       "rating             6676\n",
       "dtype: int64"
      ]
     },
     "execution_count": 10,
     "metadata": {},
     "output_type": "execute_result"
    }
   ],
   "source": [
    "data.isna().sum()"
   ]
  },
  {
   "cell_type": "code",
   "execution_count": 11,
   "metadata": {},
   "outputs": [
    {
     "data": {
      "text/html": [
       "<style  type=\"text/css\" >\n",
       "#T_0a613_row0_col0,#T_0a613_row1_col0,#T_0a613_row2_col0,#T_0a613_row3_col0,#T_0a613_row4_col0,#T_0a613_row5_col0,#T_0a613_row6_col0,#T_0a613_row7_col0{\n",
       "            background-color:  #3b4cc0;\n",
       "            color:  #f1f1f1;\n",
       "        }#T_0a613_row8_col0{\n",
       "            background-color:  #cd423b;\n",
       "            color:  #f1f1f1;\n",
       "        }#T_0a613_row9_col0{\n",
       "            background-color:  #b40426;\n",
       "            color:  #f1f1f1;\n",
       "        }#T_0a613_row10_col0{\n",
       "            background-color:  #f59c7d;\n",
       "            color:  #000000;\n",
       "        }</style><table id=\"T_0a613_\" ><thead>    <tr>        <th class=\"blank level0\" ></th>        <th class=\"col_heading level0 col0\" >0</th>    </tr></thead><tbody>\n",
       "                <tr>\n",
       "                        <th id=\"T_0a613_level0_row0\" class=\"row_heading level0 row0\" >name</th>\n",
       "                        <td id=\"T_0a613_row0_col0\" class=\"data row0 col0\" >0.000000</td>\n",
       "            </tr>\n",
       "            <tr>\n",
       "                        <th id=\"T_0a613_level0_row1\" class=\"row_heading level0 row1\" >platform</th>\n",
       "                        <td id=\"T_0a613_row1_col0\" class=\"data row1 col0\" >0.000000</td>\n",
       "            </tr>\n",
       "            <tr>\n",
       "                        <th id=\"T_0a613_level0_row2\" class=\"row_heading level0 row2\" >year_of_release</th>\n",
       "                        <td id=\"T_0a613_row2_col0\" class=\"data row2 col0\" >0.000000</td>\n",
       "            </tr>\n",
       "            <tr>\n",
       "                        <th id=\"T_0a613_level0_row3\" class=\"row_heading level0 row3\" >genre</th>\n",
       "                        <td id=\"T_0a613_row3_col0\" class=\"data row3 col0\" >0.000000</td>\n",
       "            </tr>\n",
       "            <tr>\n",
       "                        <th id=\"T_0a613_level0_row4\" class=\"row_heading level0 row4\" >na_sales</th>\n",
       "                        <td id=\"T_0a613_row4_col0\" class=\"data row4 col0\" >0.000000</td>\n",
       "            </tr>\n",
       "            <tr>\n",
       "                        <th id=\"T_0a613_level0_row5\" class=\"row_heading level0 row5\" >eu_sales</th>\n",
       "                        <td id=\"T_0a613_row5_col0\" class=\"data row5 col0\" >0.000000</td>\n",
       "            </tr>\n",
       "            <tr>\n",
       "                        <th id=\"T_0a613_level0_row6\" class=\"row_heading level0 row6\" >jp_sales</th>\n",
       "                        <td id=\"T_0a613_row6_col0\" class=\"data row6 col0\" >0.000000</td>\n",
       "            </tr>\n",
       "            <tr>\n",
       "                        <th id=\"T_0a613_level0_row7\" class=\"row_heading level0 row7\" >other_sales</th>\n",
       "                        <td id=\"T_0a613_row7_col0\" class=\"data row7 col0\" >0.000000</td>\n",
       "            </tr>\n",
       "            <tr>\n",
       "                        <th id=\"T_0a613_level0_row8\" class=\"row_heading level0 row8\" >critic_score</th>\n",
       "                        <td id=\"T_0a613_row8_col0\" class=\"data row8 col0\" >51.000000</td>\n",
       "            </tr>\n",
       "            <tr>\n",
       "                        <th id=\"T_0a613_level0_row9\" class=\"row_heading level0 row9\" >user_score</th>\n",
       "                        <td id=\"T_0a613_row9_col0\" class=\"data row9 col0\" >55.000000</td>\n",
       "            </tr>\n",
       "            <tr>\n",
       "                        <th id=\"T_0a613_level0_row10\" class=\"row_heading level0 row10\" >rating</th>\n",
       "                        <td id=\"T_0a613_row10_col0\" class=\"data row10 col0\" >41.000000</td>\n",
       "            </tr>\n",
       "    </tbody></table>"
      ],
      "text/plain": [
       "<pandas.io.formats.style.Styler at 0x7f61031349d0>"
      ]
     },
     "execution_count": 11,
     "metadata": {},
     "output_type": "execute_result"
    }
   ],
   "source": [
    "pd.DataFrame(round(data.isna().mean()*100,)).style.background_gradient('coolwarm')"
   ]
  },
  {
   "cell_type": "markdown",
   "metadata": {},
   "source": [
    "Пропуски обнаружены в столбцах:\n",
    "- Name (2 пропуска) - т.к. это менее 5%, эти данные можно удалить\n",
    "- Year_of_Release (2% пропусков) - т.к. это менее 5%, эти данные можно удалить\n",
    "- Critic_Score (51% пропусков) - бОльшая часть данных отсутствует  \n",
    "- User_Score (40% пропусков)    \n",
    "- Rating (40% пропусков) \n",
    "\n",
    "Возникли серьезные пропуски в оценке критиков, пользовательской оценке и рейтинге ESRB. Они могли возникнуть из-за того, что игру еще не успели оценить или игра очень старая(тогда еще не проводили анализ)"
   ]
  },
  {
   "cell_type": "code",
   "execution_count": 12,
   "metadata": {},
   "outputs": [
    {
     "data": {
      "text/html": [
       "<style  type=\"text/css\" >\n",
       "#T_bef76_row0_col0,#T_bef76_row1_col0,#T_bef76_row2_col0,#T_bef76_row3_col0,#T_bef76_row4_col0,#T_bef76_row5_col0,#T_bef76_row6_col0,#T_bef76_row7_col0{\n",
       "            background-color:  #3b4cc0;\n",
       "            color:  #f1f1f1;\n",
       "        }#T_bef76_row8_col0{\n",
       "            background-color:  #cd423b;\n",
       "            color:  #f1f1f1;\n",
       "        }#T_bef76_row9_col0{\n",
       "            background-color:  #b40426;\n",
       "            color:  #f1f1f1;\n",
       "        }#T_bef76_row10_col0{\n",
       "            background-color:  #f59c7d;\n",
       "            color:  #000000;\n",
       "        }</style><table id=\"T_bef76_\" ><thead>    <tr>        <th class=\"blank level0\" ></th>        <th class=\"col_heading level0 col0\" >0</th>    </tr></thead><tbody>\n",
       "                <tr>\n",
       "                        <th id=\"T_bef76_level0_row0\" class=\"row_heading level0 row0\" >name</th>\n",
       "                        <td id=\"T_bef76_row0_col0\" class=\"data row0 col0\" >0.000000</td>\n",
       "            </tr>\n",
       "            <tr>\n",
       "                        <th id=\"T_bef76_level0_row1\" class=\"row_heading level0 row1\" >platform</th>\n",
       "                        <td id=\"T_bef76_row1_col0\" class=\"data row1 col0\" >0.000000</td>\n",
       "            </tr>\n",
       "            <tr>\n",
       "                        <th id=\"T_bef76_level0_row2\" class=\"row_heading level0 row2\" >year_of_release</th>\n",
       "                        <td id=\"T_bef76_row2_col0\" class=\"data row2 col0\" >0.000000</td>\n",
       "            </tr>\n",
       "            <tr>\n",
       "                        <th id=\"T_bef76_level0_row3\" class=\"row_heading level0 row3\" >genre</th>\n",
       "                        <td id=\"T_bef76_row3_col0\" class=\"data row3 col0\" >0.000000</td>\n",
       "            </tr>\n",
       "            <tr>\n",
       "                        <th id=\"T_bef76_level0_row4\" class=\"row_heading level0 row4\" >na_sales</th>\n",
       "                        <td id=\"T_bef76_row4_col0\" class=\"data row4 col0\" >0.000000</td>\n",
       "            </tr>\n",
       "            <tr>\n",
       "                        <th id=\"T_bef76_level0_row5\" class=\"row_heading level0 row5\" >eu_sales</th>\n",
       "                        <td id=\"T_bef76_row5_col0\" class=\"data row5 col0\" >0.000000</td>\n",
       "            </tr>\n",
       "            <tr>\n",
       "                        <th id=\"T_bef76_level0_row6\" class=\"row_heading level0 row6\" >jp_sales</th>\n",
       "                        <td id=\"T_bef76_row6_col0\" class=\"data row6 col0\" >0.000000</td>\n",
       "            </tr>\n",
       "            <tr>\n",
       "                        <th id=\"T_bef76_level0_row7\" class=\"row_heading level0 row7\" >other_sales</th>\n",
       "                        <td id=\"T_bef76_row7_col0\" class=\"data row7 col0\" >0.000000</td>\n",
       "            </tr>\n",
       "            <tr>\n",
       "                        <th id=\"T_bef76_level0_row8\" class=\"row_heading level0 row8\" >critic_score</th>\n",
       "                        <td id=\"T_bef76_row8_col0\" class=\"data row8 col0\" >51.000000</td>\n",
       "            </tr>\n",
       "            <tr>\n",
       "                        <th id=\"T_bef76_level0_row9\" class=\"row_heading level0 row9\" >user_score</th>\n",
       "                        <td id=\"T_bef76_row9_col0\" class=\"data row9 col0\" >55.000000</td>\n",
       "            </tr>\n",
       "            <tr>\n",
       "                        <th id=\"T_bef76_level0_row10\" class=\"row_heading level0 row10\" >rating</th>\n",
       "                        <td id=\"T_bef76_row10_col0\" class=\"data row10 col0\" >41.000000</td>\n",
       "            </tr>\n",
       "    </tbody></table>"
      ],
      "text/plain": [
       "<pandas.io.formats.style.Styler at 0x7f61030eab50>"
      ]
     },
     "execution_count": 12,
     "metadata": {},
     "output_type": "execute_result"
    }
   ],
   "source": [
    "data = data.dropna(subset=['year_of_release','name']) \n",
    "pd.DataFrame(round(data.isna().mean()*100,)).style.background_gradient('coolwarm')"
   ]
  },
  {
   "cell_type": "code",
   "execution_count": 13,
   "metadata": {},
   "outputs": [],
   "source": [
    "data['user_score'] = data['user_score'].fillna(-1)\n",
    "data['critic_score'] = data['critic_score'].fillna(-1)"
   ]
  },
  {
   "cell_type": "markdown",
   "metadata": {},
   "source": [
    "Добавлю новый столбец с суммой всех продаж. Обозначу стобец 'sum_sales'"
   ]
  },
  {
   "cell_type": "code",
   "execution_count": 14,
   "metadata": {},
   "outputs": [
    {
     "data": {
      "text/html": [
       "<div>\n",
       "<style scoped>\n",
       "    .dataframe tbody tr th:only-of-type {\n",
       "        vertical-align: middle;\n",
       "    }\n",
       "\n",
       "    .dataframe tbody tr th {\n",
       "        vertical-align: top;\n",
       "    }\n",
       "\n",
       "    .dataframe thead th {\n",
       "        text-align: right;\n",
       "    }\n",
       "</style>\n",
       "<table border=\"1\" class=\"dataframe\">\n",
       "  <thead>\n",
       "    <tr style=\"text-align: right;\">\n",
       "      <th></th>\n",
       "      <th>name</th>\n",
       "      <th>platform</th>\n",
       "      <th>year_of_release</th>\n",
       "      <th>genre</th>\n",
       "      <th>na_sales</th>\n",
       "      <th>eu_sales</th>\n",
       "      <th>jp_sales</th>\n",
       "      <th>other_sales</th>\n",
       "      <th>critic_score</th>\n",
       "      <th>user_score</th>\n",
       "      <th>rating</th>\n",
       "      <th>sum_sales</th>\n",
       "    </tr>\n",
       "  </thead>\n",
       "  <tbody>\n",
       "    <tr>\n",
       "      <th>0</th>\n",
       "      <td>Wii Sports</td>\n",
       "      <td>Wii</td>\n",
       "      <td>2006</td>\n",
       "      <td>Sports</td>\n",
       "      <td>41.36</td>\n",
       "      <td>28.96</td>\n",
       "      <td>3.77</td>\n",
       "      <td>8.45</td>\n",
       "      <td>76.0</td>\n",
       "      <td>8.0</td>\n",
       "      <td>E</td>\n",
       "      <td>82.54</td>\n",
       "    </tr>\n",
       "    <tr>\n",
       "      <th>1</th>\n",
       "      <td>Super Mario Bros.</td>\n",
       "      <td>NES</td>\n",
       "      <td>1985</td>\n",
       "      <td>Platform</td>\n",
       "      <td>29.08</td>\n",
       "      <td>3.58</td>\n",
       "      <td>6.81</td>\n",
       "      <td>0.77</td>\n",
       "      <td>-1.0</td>\n",
       "      <td>-1.0</td>\n",
       "      <td>NaN</td>\n",
       "      <td>40.24</td>\n",
       "    </tr>\n",
       "    <tr>\n",
       "      <th>2</th>\n",
       "      <td>Mario Kart Wii</td>\n",
       "      <td>Wii</td>\n",
       "      <td>2008</td>\n",
       "      <td>Racing</td>\n",
       "      <td>15.68</td>\n",
       "      <td>12.76</td>\n",
       "      <td>3.79</td>\n",
       "      <td>3.29</td>\n",
       "      <td>82.0</td>\n",
       "      <td>8.3</td>\n",
       "      <td>E</td>\n",
       "      <td>35.52</td>\n",
       "    </tr>\n",
       "    <tr>\n",
       "      <th>3</th>\n",
       "      <td>Wii Sports Resort</td>\n",
       "      <td>Wii</td>\n",
       "      <td>2009</td>\n",
       "      <td>Sports</td>\n",
       "      <td>15.61</td>\n",
       "      <td>10.93</td>\n",
       "      <td>3.28</td>\n",
       "      <td>2.95</td>\n",
       "      <td>80.0</td>\n",
       "      <td>8.0</td>\n",
       "      <td>E</td>\n",
       "      <td>32.77</td>\n",
       "    </tr>\n",
       "    <tr>\n",
       "      <th>4</th>\n",
       "      <td>Pokemon Red/Pokemon Blue</td>\n",
       "      <td>GB</td>\n",
       "      <td>1996</td>\n",
       "      <td>Role-Playing</td>\n",
       "      <td>11.27</td>\n",
       "      <td>8.89</td>\n",
       "      <td>10.22</td>\n",
       "      <td>1.00</td>\n",
       "      <td>-1.0</td>\n",
       "      <td>-1.0</td>\n",
       "      <td>NaN</td>\n",
       "      <td>31.38</td>\n",
       "    </tr>\n",
       "  </tbody>\n",
       "</table>\n",
       "</div>"
      ],
      "text/plain": [
       "                       name platform  year_of_release         genre  na_sales  \\\n",
       "0                Wii Sports      Wii             2006        Sports     41.36   \n",
       "1         Super Mario Bros.      NES             1985      Platform     29.08   \n",
       "2            Mario Kart Wii      Wii             2008        Racing     15.68   \n",
       "3         Wii Sports Resort      Wii             2009        Sports     15.61   \n",
       "4  Pokemon Red/Pokemon Blue       GB             1996  Role-Playing     11.27   \n",
       "\n",
       "   eu_sales  jp_sales  other_sales  critic_score  user_score rating  sum_sales  \n",
       "0     28.96      3.77         8.45          76.0         8.0      E      82.54  \n",
       "1      3.58      6.81         0.77          -1.0        -1.0    NaN      40.24  \n",
       "2     12.76      3.79         3.29          82.0         8.3      E      35.52  \n",
       "3     10.93      3.28         2.95          80.0         8.0      E      32.77  \n",
       "4      8.89     10.22         1.00          -1.0        -1.0    NaN      31.38  "
      ]
     },
     "execution_count": 14,
     "metadata": {},
     "output_type": "execute_result"
    }
   ],
   "source": [
    "data['sum_sales'] = data['na_sales'] + data['eu_sales'] + data['jp_sales'] + data['other_sales']\n",
    "data.head()"
   ]
  },
  {
   "cell_type": "markdown",
   "metadata": {},
   "source": [
    "### Исследовательский анализ данных"
   ]
  },
  {
   "cell_type": "markdown",
   "metadata": {},
   "source": [
    "Посмотрю сколько игр выпускалось в разные годы."
   ]
  },
  {
   "cell_type": "code",
   "execution_count": 15,
   "metadata": {
    "scrolled": true
   },
   "outputs": [
    {
     "data": {
      "text/html": [
       "<div>\n",
       "<style scoped>\n",
       "    .dataframe tbody tr th:only-of-type {\n",
       "        vertical-align: middle;\n",
       "    }\n",
       "\n",
       "    .dataframe tbody tr th {\n",
       "        vertical-align: top;\n",
       "    }\n",
       "\n",
       "    .dataframe thead th {\n",
       "        text-align: right;\n",
       "    }\n",
       "</style>\n",
       "<table border=\"1\" class=\"dataframe\">\n",
       "  <thead>\n",
       "    <tr style=\"text-align: right;\">\n",
       "      <th></th>\n",
       "      <th>count</th>\n",
       "    </tr>\n",
       "    <tr>\n",
       "      <th>year_of_release</th>\n",
       "      <th></th>\n",
       "    </tr>\n",
       "  </thead>\n",
       "  <tbody>\n",
       "    <tr>\n",
       "      <th>1980</th>\n",
       "      <td>9</td>\n",
       "    </tr>\n",
       "    <tr>\n",
       "      <th>1981</th>\n",
       "      <td>46</td>\n",
       "    </tr>\n",
       "    <tr>\n",
       "      <th>1982</th>\n",
       "      <td>36</td>\n",
       "    </tr>\n",
       "    <tr>\n",
       "      <th>1983</th>\n",
       "      <td>17</td>\n",
       "    </tr>\n",
       "    <tr>\n",
       "      <th>1984</th>\n",
       "      <td>14</td>\n",
       "    </tr>\n",
       "    <tr>\n",
       "      <th>1985</th>\n",
       "      <td>14</td>\n",
       "    </tr>\n",
       "    <tr>\n",
       "      <th>1986</th>\n",
       "      <td>21</td>\n",
       "    </tr>\n",
       "    <tr>\n",
       "      <th>1987</th>\n",
       "      <td>16</td>\n",
       "    </tr>\n",
       "    <tr>\n",
       "      <th>1988</th>\n",
       "      <td>15</td>\n",
       "    </tr>\n",
       "    <tr>\n",
       "      <th>1989</th>\n",
       "      <td>17</td>\n",
       "    </tr>\n",
       "    <tr>\n",
       "      <th>1990</th>\n",
       "      <td>16</td>\n",
       "    </tr>\n",
       "    <tr>\n",
       "      <th>1991</th>\n",
       "      <td>41</td>\n",
       "    </tr>\n",
       "    <tr>\n",
       "      <th>1992</th>\n",
       "      <td>43</td>\n",
       "    </tr>\n",
       "    <tr>\n",
       "      <th>1993</th>\n",
       "      <td>60</td>\n",
       "    </tr>\n",
       "    <tr>\n",
       "      <th>1994</th>\n",
       "      <td>121</td>\n",
       "    </tr>\n",
       "    <tr>\n",
       "      <th>1995</th>\n",
       "      <td>219</td>\n",
       "    </tr>\n",
       "    <tr>\n",
       "      <th>1996</th>\n",
       "      <td>263</td>\n",
       "    </tr>\n",
       "    <tr>\n",
       "      <th>1997</th>\n",
       "      <td>289</td>\n",
       "    </tr>\n",
       "    <tr>\n",
       "      <th>1998</th>\n",
       "      <td>379</td>\n",
       "    </tr>\n",
       "    <tr>\n",
       "      <th>1999</th>\n",
       "      <td>338</td>\n",
       "    </tr>\n",
       "    <tr>\n",
       "      <th>2000</th>\n",
       "      <td>350</td>\n",
       "    </tr>\n",
       "    <tr>\n",
       "      <th>2001</th>\n",
       "      <td>482</td>\n",
       "    </tr>\n",
       "    <tr>\n",
       "      <th>2002</th>\n",
       "      <td>829</td>\n",
       "    </tr>\n",
       "    <tr>\n",
       "      <th>2003</th>\n",
       "      <td>775</td>\n",
       "    </tr>\n",
       "    <tr>\n",
       "      <th>2004</th>\n",
       "      <td>762</td>\n",
       "    </tr>\n",
       "    <tr>\n",
       "      <th>2005</th>\n",
       "      <td>939</td>\n",
       "    </tr>\n",
       "    <tr>\n",
       "      <th>2006</th>\n",
       "      <td>1006</td>\n",
       "    </tr>\n",
       "    <tr>\n",
       "      <th>2007</th>\n",
       "      <td>1197</td>\n",
       "    </tr>\n",
       "    <tr>\n",
       "      <th>2008</th>\n",
       "      <td>1427</td>\n",
       "    </tr>\n",
       "    <tr>\n",
       "      <th>2009</th>\n",
       "      <td>1426</td>\n",
       "    </tr>\n",
       "    <tr>\n",
       "      <th>2010</th>\n",
       "      <td>1255</td>\n",
       "    </tr>\n",
       "    <tr>\n",
       "      <th>2011</th>\n",
       "      <td>1136</td>\n",
       "    </tr>\n",
       "    <tr>\n",
       "      <th>2012</th>\n",
       "      <td>653</td>\n",
       "    </tr>\n",
       "    <tr>\n",
       "      <th>2013</th>\n",
       "      <td>544</td>\n",
       "    </tr>\n",
       "    <tr>\n",
       "      <th>2014</th>\n",
       "      <td>581</td>\n",
       "    </tr>\n",
       "    <tr>\n",
       "      <th>2015</th>\n",
       "      <td>606</td>\n",
       "    </tr>\n",
       "    <tr>\n",
       "      <th>2016</th>\n",
       "      <td>502</td>\n",
       "    </tr>\n",
       "  </tbody>\n",
       "</table>\n",
       "</div>"
      ],
      "text/plain": [
       "                 count\n",
       "year_of_release       \n",
       "1980                 9\n",
       "1981                46\n",
       "1982                36\n",
       "1983                17\n",
       "1984                14\n",
       "1985                14\n",
       "1986                21\n",
       "1987                16\n",
       "1988                15\n",
       "1989                17\n",
       "1990                16\n",
       "1991                41\n",
       "1992                43\n",
       "1993                60\n",
       "1994               121\n",
       "1995               219\n",
       "1996               263\n",
       "1997               289\n",
       "1998               379\n",
       "1999               338\n",
       "2000               350\n",
       "2001               482\n",
       "2002               829\n",
       "2003               775\n",
       "2004               762\n",
       "2005               939\n",
       "2006              1006\n",
       "2007              1197\n",
       "2008              1427\n",
       "2009              1426\n",
       "2010              1255\n",
       "2011              1136\n",
       "2012               653\n",
       "2013               544\n",
       "2014               581\n",
       "2015               606\n",
       "2016               502"
      ]
     },
     "execution_count": 15,
     "metadata": {},
     "output_type": "execute_result"
    }
   ],
   "source": [
    "count_by_year = data.groupby('year_of_release')['name'].agg(['count'])\n",
    "count_by_year"
   ]
  },
  {
   "cell_type": "code",
   "execution_count": 16,
   "metadata": {},
   "outputs": [
    {
     "data": {
      "text/plain": [
       "<AxesSubplot:xlabel='year_of_release'>"
      ]
     },
     "execution_count": 16,
     "metadata": {},
     "output_type": "execute_result"
    },
    {
     "data": {
      "image/png": "[encoded data removed]",
      "text/plain": [
       "<Figure size 432x288 with 1 Axes>"
      ]
     },
     "metadata": {
      "needs_background": "light"
     },
     "output_type": "display_data"
    }
   ],
   "source": [
    "count_by_year.plot(grid = True)"
   ]
  },
  {
   "cell_type": "markdown",
   "metadata": {},
   "source": [
    "Мы видим, что с 1980 года по 2009 год количество выпускаемых игр увеличивалось. Однако,  с 2009 года количество пошло на убывание. Я считаю, важно рассмотреть \"хороший\" и \"плохой\" периоды, чтобы увидеть разницу -  c 2005 по 2016."
   ]
  },
  {
   "cell_type": "markdown",
   "metadata": {},
   "source": [
    "Посмотрю,как менялись продажи по платформам.Выберу платформы с наибольшим суммарными продажами и построю график распределения по годам."
   ]
  },
  {
   "cell_type": "code",
   "execution_count": 17,
   "metadata": {},
   "outputs": [
    {
     "data": {
      "text/html": [
       "<div>\n",
       "<style scoped>\n",
       "    .dataframe tbody tr th:only-of-type {\n",
       "        vertical-align: middle;\n",
       "    }\n",
       "\n",
       "    .dataframe tbody tr th {\n",
       "        vertical-align: top;\n",
       "    }\n",
       "\n",
       "    .dataframe thead th {\n",
       "        text-align: right;\n",
       "    }\n",
       "</style>\n",
       "<table border=\"1\" class=\"dataframe\">\n",
       "  <thead>\n",
       "    <tr style=\"text-align: right;\">\n",
       "      <th></th>\n",
       "      <th>sum</th>\n",
       "    </tr>\n",
       "    <tr>\n",
       "      <th>platform</th>\n",
       "      <th></th>\n",
       "    </tr>\n",
       "  </thead>\n",
       "  <tbody>\n",
       "    <tr>\n",
       "      <th>PS2</th>\n",
       "      <td>1233.56</td>\n",
       "    </tr>\n",
       "    <tr>\n",
       "      <th>X360</th>\n",
       "      <td>961.24</td>\n",
       "    </tr>\n",
       "    <tr>\n",
       "      <th>PS3</th>\n",
       "      <td>931.34</td>\n",
       "    </tr>\n",
       "    <tr>\n",
       "      <th>Wii</th>\n",
       "      <td>891.18</td>\n",
       "    </tr>\n",
       "    <tr>\n",
       "      <th>DS</th>\n",
       "      <td>802.78</td>\n",
       "    </tr>\n",
       "    <tr>\n",
       "      <th>PS</th>\n",
       "      <td>727.58</td>\n",
       "    </tr>\n",
       "    <tr>\n",
       "      <th>PS4</th>\n",
       "      <td>314.14</td>\n",
       "    </tr>\n",
       "    <tr>\n",
       "      <th>GBA</th>\n",
       "      <td>312.88</td>\n",
       "    </tr>\n",
       "    <tr>\n",
       "      <th>PSP</th>\n",
       "      <td>289.53</td>\n",
       "    </tr>\n",
       "    <tr>\n",
       "      <th>3DS</th>\n",
       "      <td>257.81</td>\n",
       "    </tr>\n",
       "    <tr>\n",
       "      <th>PC</th>\n",
       "      <td>255.76</td>\n",
       "    </tr>\n",
       "    <tr>\n",
       "      <th>GB</th>\n",
       "      <td>254.43</td>\n",
       "    </tr>\n",
       "    <tr>\n",
       "      <th>XB</th>\n",
       "      <td>251.57</td>\n",
       "    </tr>\n",
       "    <tr>\n",
       "      <th>NES</th>\n",
       "      <td>251.05</td>\n",
       "    </tr>\n",
       "    <tr>\n",
       "      <th>N64</th>\n",
       "      <td>218.01</td>\n",
       "    </tr>\n",
       "    <tr>\n",
       "      <th>SNES</th>\n",
       "      <td>200.04</td>\n",
       "    </tr>\n",
       "    <tr>\n",
       "      <th>GC</th>\n",
       "      <td>196.73</td>\n",
       "    </tr>\n",
       "    <tr>\n",
       "      <th>XOne</th>\n",
       "      <td>159.32</td>\n",
       "    </tr>\n",
       "    <tr>\n",
       "      <th>2600</th>\n",
       "      <td>86.48</td>\n",
       "    </tr>\n",
       "    <tr>\n",
       "      <th>WiiU</th>\n",
       "      <td>82.19</td>\n",
       "    </tr>\n",
       "    <tr>\n",
       "      <th>PSV</th>\n",
       "      <td>53.81</td>\n",
       "    </tr>\n",
       "    <tr>\n",
       "      <th>SAT</th>\n",
       "      <td>33.59</td>\n",
       "    </tr>\n",
       "    <tr>\n",
       "      <th>GEN</th>\n",
       "      <td>28.35</td>\n",
       "    </tr>\n",
       "    <tr>\n",
       "      <th>DC</th>\n",
       "      <td>15.95</td>\n",
       "    </tr>\n",
       "    <tr>\n",
       "      <th>SCD</th>\n",
       "      <td>1.86</td>\n",
       "    </tr>\n",
       "    <tr>\n",
       "      <th>NG</th>\n",
       "      <td>1.44</td>\n",
       "    </tr>\n",
       "    <tr>\n",
       "      <th>WS</th>\n",
       "      <td>1.42</td>\n",
       "    </tr>\n",
       "    <tr>\n",
       "      <th>TG16</th>\n",
       "      <td>0.16</td>\n",
       "    </tr>\n",
       "    <tr>\n",
       "      <th>3DO</th>\n",
       "      <td>0.10</td>\n",
       "    </tr>\n",
       "    <tr>\n",
       "      <th>GG</th>\n",
       "      <td>0.04</td>\n",
       "    </tr>\n",
       "    <tr>\n",
       "      <th>PCFX</th>\n",
       "      <td>0.03</td>\n",
       "    </tr>\n",
       "  </tbody>\n",
       "</table>\n",
       "</div>"
      ],
      "text/plain": [
       "              sum\n",
       "platform         \n",
       "PS2       1233.56\n",
       "X360       961.24\n",
       "PS3        931.34\n",
       "Wii        891.18\n",
       "DS         802.78\n",
       "PS         727.58\n",
       "PS4        314.14\n",
       "GBA        312.88\n",
       "PSP        289.53\n",
       "3DS        257.81\n",
       "PC         255.76\n",
       "GB         254.43\n",
       "XB         251.57\n",
       "NES        251.05\n",
       "N64        218.01\n",
       "SNES       200.04\n",
       "GC         196.73\n",
       "XOne       159.32\n",
       "2600        86.48\n",
       "WiiU        82.19\n",
       "PSV         53.81\n",
       "SAT         33.59\n",
       "GEN         28.35\n",
       "DC          15.95\n",
       "SCD          1.86\n",
       "NG           1.44\n",
       "WS           1.42\n",
       "TG16         0.16\n",
       "3DO          0.10\n",
       "GG           0.04\n",
       "PCFX         0.03"
      ]
     },
     "execution_count": 17,
     "metadata": {},
     "output_type": "execute_result"
    }
   ],
   "source": [
    "sum_sales_by_platform = data.groupby('platform')['sum_sales'].agg(['sum']).sort_values(by = 'sum', ascending = False)\n",
    "sum_sales_by_platform"
   ]
  },
  {
   "cell_type": "code",
   "execution_count": 18,
   "metadata": {},
   "outputs": [
    {
     "data": {
      "text/plain": [
       "<AxesSubplot:xlabel='platform'>"
      ]
     },
     "execution_count": 18,
     "metadata": {},
     "output_type": "execute_result"
    },
    {
     "data": {
      "image/png": "[encoded data removed]",
      "text/plain": [
       "<Figure size 432x288 with 1 Axes>"
      ]
     },
     "metadata": {
      "needs_background": "light"
     },
     "output_type": "display_data"
    }
   ],
   "source": [
    "sum_sales_by_platform.plot(grid = True)"
   ]
  },
  {
   "cell_type": "markdown",
   "metadata": {},
   "source": [
    "Самыми \"успешными\" платформами стали:\n",
    "\n",
    "- PS2\t1233.56\n",
    "- X360\t961.24\n",
    "- PS3\t931.34"
   ]
  },
  {
   "cell_type": "code",
   "execution_count": 19,
   "metadata": {},
   "outputs": [
    {
     "data": {
      "text/plain": [
       "<AxesSubplot:xlabel='year_of_release'>"
      ]
     },
     "execution_count": 19,
     "metadata": {},
     "output_type": "execute_result"
    },
    {
     "data": {
      "image/png": "[encoded data removed]",
      "text/plain": [
       "<Figure size 432x288 with 1 Axes>"
      ]
     },
     "metadata": {
      "needs_background": "light"
     },
     "output_type": "display_data"
    }
   ],
   "source": [
    "data_ps2 = data.query('platform == \"PS2\"')\n",
    "data_ps2.plot(x = 'year_of_release', y = 'sum_sales', style = 'o')"
   ]
  },
  {
   "cell_type": "code",
   "execution_count": 20,
   "metadata": {},
   "outputs": [
    {
     "data": {
      "text/plain": [
       "<AxesSubplot:xlabel='year_of_release'>"
      ]
     },
     "execution_count": 20,
     "metadata": {},
     "output_type": "execute_result"
    },
    {
     "data": {
      "image/png": "[encoded data removed]",
      "text/plain": [
       "<Figure size 432x288 with 1 Axes>"
      ]
     },
     "metadata": {
      "needs_background": "light"
     },
     "output_type": "display_data"
    }
   ],
   "source": [
    "data_ps = data.query('platform == \"PS\"')\n",
    "data_ps.plot(x = 'year_of_release', y = 'sum_sales', style = 'o')"
   ]
  },
  {
   "cell_type": "code",
   "execution_count": 21,
   "metadata": {},
   "outputs": [
    {
     "data": {
      "text/plain": [
       "<AxesSubplot:xlabel='year_of_release'>"
      ]
     },
     "execution_count": 21,
     "metadata": {},
     "output_type": "execute_result"
    },
    {
     "data": {
      "image/png": "[encoded data removed]",
      "text/plain": [
       "<Figure size 432x288 with 1 Axes>"
      ]
     },
     "metadata": {
      "needs_background": "light"
     },
     "output_type": "display_data"
    }
   ],
   "source": [
    "data_ps3 = data.query('platform == \"PS3\"')\n",
    "data_ps3.plot(x = 'year_of_release', y = 'sum_sales', style = 'o')"
   ]
  },
  {
   "cell_type": "code",
   "execution_count": 22,
   "metadata": {},
   "outputs": [
    {
     "data": {
      "text/plain": [
       "<AxesSubplot:xlabel='year_of_release'>"
      ]
     },
     "execution_count": 22,
     "metadata": {},
     "output_type": "execute_result"
    },
    {
     "data": {
      "image/png": "[encoded data removed]",
      "text/plain": [
       "<Figure size 432x288 with 1 Axes>"
      ]
     },
     "metadata": {
      "needs_background": "light"
     },
     "output_type": "display_data"
    }
   ],
   "source": [
    "data_ps4 = data.query('platform == \"PS4\"')\n",
    "data_ps4.plot(x = 'year_of_release', y = 'sum_sales', style = 'o')"
   ]
  },
  {
   "cell_type": "code",
   "execution_count": 23,
   "metadata": {},
   "outputs": [
    {
     "data": {
      "text/plain": [
       "<AxesSubplot:xlabel='year_of_release'>"
      ]
     },
     "execution_count": 23,
     "metadata": {},
     "output_type": "execute_result"
    },
    {
     "data": {
      "image/png": "[encoded data removed]",
      "text/plain": [
       "<Figure size 432x288 with 1 Axes>"
      ]
     },
     "metadata": {
      "needs_background": "light"
     },
     "output_type": "display_data"
    }
   ],
   "source": [
    "data_X360 = data.query('platform == \"X360\"')\n",
    "data_X360.plot(x = 'year_of_release', y = 'sum_sales', style = 'o')"
   ]
  },
  {
   "cell_type": "markdown",
   "metadata": {},
   "source": [
    "Построив графики, видно, что платформы живут около 10 лет, но популярны всего 5-6 лет. Далее им на смену приходят новые, более свежие модели. Например, рассмотрим ps. Ps1 было популярно до 2002 года, а в 2002 вышла новая версия и ps1 стало все менее и менее популярно. Также произошло и с ps2,ps3,ps4."
   ]
  },
  {
   "cell_type": "markdown",
   "metadata": {},
   "source": [
    "Учитывая, что платформы популярны всего 5-6 лет, сделаем срез именно за этот промежуток. С 2010 по 2016 год."
   ]
  },
  {
   "cell_type": "code",
   "execution_count": 24,
   "metadata": {},
   "outputs": [
    {
     "data": {
      "text/html": [
       "<div>\n",
       "<style scoped>\n",
       "    .dataframe tbody tr th:only-of-type {\n",
       "        vertical-align: middle;\n",
       "    }\n",
       "\n",
       "    .dataframe tbody tr th {\n",
       "        vertical-align: top;\n",
       "    }\n",
       "\n",
       "    .dataframe thead th {\n",
       "        text-align: right;\n",
       "    }\n",
       "</style>\n",
       "<table border=\"1\" class=\"dataframe\">\n",
       "  <thead>\n",
       "    <tr style=\"text-align: right;\">\n",
       "      <th></th>\n",
       "      <th>sum</th>\n",
       "    </tr>\n",
       "    <tr>\n",
       "      <th>platform</th>\n",
       "      <th></th>\n",
       "    </tr>\n",
       "  </thead>\n",
       "  <tbody>\n",
       "    <tr>\n",
       "      <th>PS3</th>\n",
       "      <td>587.74</td>\n",
       "    </tr>\n",
       "    <tr>\n",
       "      <th>X360</th>\n",
       "      <td>550.41</td>\n",
       "    </tr>\n",
       "    <tr>\n",
       "      <th>PS4</th>\n",
       "      <td>314.14</td>\n",
       "    </tr>\n",
       "    <tr>\n",
       "      <th>3DS</th>\n",
       "      <td>257.81</td>\n",
       "    </tr>\n",
       "    <tr>\n",
       "      <th>Wii</th>\n",
       "      <td>222.97</td>\n",
       "    </tr>\n",
       "    <tr>\n",
       "      <th>XOne</th>\n",
       "      <td>159.32</td>\n",
       "    </tr>\n",
       "    <tr>\n",
       "      <th>DS</th>\n",
       "      <td>123.75</td>\n",
       "    </tr>\n",
       "    <tr>\n",
       "      <th>PC</th>\n",
       "      <td>121.96</td>\n",
       "    </tr>\n",
       "    <tr>\n",
       "      <th>WiiU</th>\n",
       "      <td>82.19</td>\n",
       "    </tr>\n",
       "    <tr>\n",
       "      <th>PSP</th>\n",
       "      <td>64.05</td>\n",
       "    </tr>\n",
       "    <tr>\n",
       "      <th>PSV</th>\n",
       "      <td>53.81</td>\n",
       "    </tr>\n",
       "    <tr>\n",
       "      <th>PS2</th>\n",
       "      <td>6.09</td>\n",
       "    </tr>\n",
       "  </tbody>\n",
       "</table>\n",
       "</div>"
      ],
      "text/plain": [
       "             sum\n",
       "platform        \n",
       "PS3       587.74\n",
       "X360      550.41\n",
       "PS4       314.14\n",
       "3DS       257.81\n",
       "Wii       222.97\n",
       "XOne      159.32\n",
       "DS        123.75\n",
       "PC        121.96\n",
       "WiiU       82.19\n",
       "PSP        64.05\n",
       "PSV        53.81\n",
       "PS2         6.09"
      ]
     },
     "execution_count": 24,
     "metadata": {},
     "output_type": "execute_result"
    }
   ],
   "source": [
    "data_2010_2016 = data.query('year_of_release >= 2010 and year_of_release <= 2016')\n",
    "data_2010_2016_groupby_platform = data_2010_2016.groupby('platform')['sum_sales'].agg(['sum']).sort_values(by = 'sum', ascending = False)\n",
    "data_2010_2016_groupby_platform"
   ]
  },
  {
   "cell_type": "code",
   "execution_count": 25,
   "metadata": {},
   "outputs": [
    {
     "data": {
      "text/plain": [
       "<AxesSubplot:xlabel='year_of_release'>"
      ]
     },
     "execution_count": 25,
     "metadata": {},
     "output_type": "execute_result"
    },
    {
     "data": {
      "image/png": "[encoded data removed]",
      "text/plain": [
       "<Figure size 432x288 with 1 Axes>"
      ]
     },
     "metadata": {
      "needs_background": "light"
     },
     "output_type": "display_data"
    }
   ],
   "source": [
    "data_3DS = data.query('platform == \"3DS\"')\n",
    "data_3DS.plot(x = 'year_of_release', y = 'sum_sales', style = 'o')"
   ]
  },
  {
   "cell_type": "code",
   "execution_count": 26,
   "metadata": {
    "scrolled": true
   },
   "outputs": [
    {
     "data": {
      "text/plain": [
       "<AxesSubplot:xlabel='year_of_release'>"
      ]
     },
     "execution_count": 26,
     "metadata": {},
     "output_type": "execute_result"
    },
    {
     "data": {
      "image/png": "[encoded data removed]",
      "text/plain": [
       "<Figure size 432x288 with 1 Axes>"
      ]
     },
     "metadata": {
      "needs_background": "light"
     },
     "output_type": "display_data"
    }
   ],
   "source": [
    "data_Wii = data.query('platform == \"Wii\"')\n",
    "data_Wii.plot(x = 'year_of_release', y = 'sum_sales', style = 'o')"
   ]
  },
  {
   "cell_type": "code",
   "execution_count": 27,
   "metadata": {},
   "outputs": [
    {
     "data": {
      "text/plain": [
       "<AxesSubplot:xlabel='year_of_release'>"
      ]
     },
     "execution_count": 27,
     "metadata": {},
     "output_type": "execute_result"
    },
    {
     "data": {
      "image/png": "[encoded data removed]",
      "text/plain": [
       "<Figure size 432x288 with 1 Axes>"
      ]
     },
     "metadata": {
      "needs_background": "light"
     },
     "output_type": "display_data"
    }
   ],
   "source": [
    "data_XOne = data.query('platform == \"XOne\"')\n",
    "data_XOne.plot(x = 'year_of_release', y = 'sum_sales', style = 'o')"
   ]
  },
  {
   "cell_type": "code",
   "execution_count": 28,
   "metadata": {},
   "outputs": [
    {
     "data": {
      "text/plain": [
       "<AxesSubplot:xlabel='year_of_release'>"
      ]
     },
     "execution_count": 28,
     "metadata": {},
     "output_type": "execute_result"
    },
    {
     "data": {
      "image/png": "[encoded data removed]",
      "text/plain": [
       "<Figure size 432x288 with 1 Axes>"
      ]
     },
     "metadata": {
      "needs_background": "light"
     },
     "output_type": "display_data"
    }
   ],
   "source": [
    "data_DS = data.query('platform == \"DS\"')\n",
    "data_DS.plot(x = 'year_of_release', y = 'sum_sales', style = 'o')"
   ]
  },
  {
   "cell_type": "code",
   "execution_count": 29,
   "metadata": {},
   "outputs": [
    {
     "data": {
      "text/plain": [
       "<AxesSubplot:xlabel='year_of_release'>"
      ]
     },
     "execution_count": 29,
     "metadata": {},
     "output_type": "execute_result"
    },
    {
     "data": {
      "image/png": "[encoded data removed]",
      "text/plain": [
       "<Figure size 432x288 with 1 Axes>"
      ]
     },
     "metadata": {
      "needs_background": "light"
     },
     "output_type": "display_data"
    }
   ],
   "source": [
    "data_WiiU = data.query('platform == \"WiiU\"')\n",
    "data_WiiU.plot(x = 'year_of_release', y = 'sum_sales', style = 'o')"
   ]
  },
  {
   "cell_type": "code",
   "execution_count": 30,
   "metadata": {},
   "outputs": [
    {
     "data": {
      "text/plain": [
       "<AxesSubplot:xlabel='year_of_release'>"
      ]
     },
     "execution_count": 30,
     "metadata": {},
     "output_type": "execute_result"
    },
    {
     "data": {
      "image/png": "[encoded data removed]",
      "text/plain": [
       "<Figure size 432x288 with 1 Axes>"
      ]
     },
     "metadata": {
      "needs_background": "light"
     },
     "output_type": "display_data"
    }
   ],
   "source": [
    "data_PSP = data.query('platform == \"PSP\"')\n",
    "data_PSP.plot(x = 'year_of_release', y = 'sum_sales', style = 'o')"
   ]
  },
  {
   "cell_type": "code",
   "execution_count": 31,
   "metadata": {},
   "outputs": [
    {
     "data": {
      "text/plain": [
       "<AxesSubplot:xlabel='year_of_release'>"
      ]
     },
     "execution_count": 31,
     "metadata": {},
     "output_type": "execute_result"
    },
    {
     "data": {
      "image/png": "[encoded data removed]",
      "text/plain": [
       "<Figure size 432x288 with 1 Axes>"
      ]
     },
     "metadata": {
      "needs_background": "light"
     },
     "output_type": "display_data"
    }
   ],
   "source": [
    "data_PSV = data.query('platform == \"PSV\"')\n",
    "data_PSV.plot(x = 'year_of_release', y = 'sum_sales', style = 'o')"
   ]
  },
  {
   "cell_type": "markdown",
   "metadata": {},
   "source": [
    "- По графику ps3,ps2 и ps(рассмотрены ранее) видно, что они теряют свою популярность, им на смену приходит ps4.Он вышел в 2014 году, а значит еще несколько лет будет популярен.\n",
    "- X360 существует с 2005 года и тоже уже устарел. \n",
    "- 3DS, Wii,Ds,WiiU,PSP,PSV - теряют свою популярность.\n",
    "- XOne - набирает популярность\n",
    "\n",
    "\n",
    "Можно сделать вывод, что наиболее популярны в 2017 году будут платформы: XOne и ps4"
   ]
  },
  {
   "cell_type": "code",
   "execution_count": 32,
   "metadata": {},
   "outputs": [
    {
     "data": {
      "image/png": "[encoded data removed]",
      "text/plain": [
       "<Figure size 936x576 with 1 Axes>"
      ]
     },
     "metadata": {
      "needs_background": "light"
     },
     "output_type": "display_data"
    }
   ],
   "source": [
    "import matplotlib.pyplot as plt\n",
    "import seaborn  as sns\n",
    "\n",
    "plt.figure(figsize=(13, 8))\n",
    "(sns.boxplot(data = data_2010_2016, y = data_2010_2016['sum_sales'], x=data_2010_2016['platform']).set(title = 'Продажи по перспективным платформам за 2014-2016 гг', ylim=(0, 3)))\n",
    "\n",
    "plt.show()"
   ]
  },
  {
   "cell_type": "code",
   "execution_count": 33,
   "metadata": {},
   "outputs": [],
   "source": [
    "#import seaborn as sns\n",
    "#plt.figure(figsize=(13, 8))\n",
    "#(sns.boxplot(data = Название датасета, y = 'столбец суммарных продаж', x='столбец платформ')\n",
    "    #.set(title = 'Продажи по перспективным платформам за 2014-2016 гг', xlabel = 'Платформы', ylabel = 'Общие продажи', ylim=(0, 3)))\n",
    "\n",
    "#plt.show()"
   ]
  },
  {
   "cell_type": "markdown",
   "metadata": {},
   "source": [
    "Самыми используемыми являются X360,PS3,PS4,XOne"
   ]
  },
  {
   "cell_type": "markdown",
   "metadata": {},
   "source": [
    "Посмотрите, как влияют на продажи внутри одной популярной платформы отзывы пользователей и критиков. Постройте диаграмму рассеяния и посчитайте корреляцию между отзывами и продажами. "
   ]
  },
  {
   "cell_type": "code",
   "execution_count": 34,
   "metadata": {
    "scrolled": true
   },
   "outputs": [
    {
     "name": "stdout",
     "output_type": "stream",
     "text": [
      "X360\n",
      "оценки игроков\n",
      "Всего:  680\n",
      "Хорошие данные :  100.0 %\n",
      "оценки экспертов\n",
      "Всего:  680\n",
      "Хорошие данные :  100.0 %\n",
      "\n",
      "PS3\n",
      "оценки игроков\n",
      "Всего:  889\n",
      "Хорошие данные :  100.0 %\n",
      "оценки экспертов\n",
      "Всего:  889\n",
      "Хорошие данные :  100.0 %\n",
      "\n",
      "PS4\n",
      "оценки игроков\n",
      "Всего:  392\n",
      "Хорошие данные :  100.0 %\n",
      "оценки экспертов\n",
      "Всего:  392\n",
      "Хорошие данные :  100.0 %\n",
      "\n",
      "XOne\n",
      "оценки игроков\n",
      "Всего:  247\n",
      "Хорошие данные :  100.0 %\n",
      "оценки экспертов\n",
      "Всего:  247\n",
      "Хорошие данные :  100.0 %\n",
      "\n"
     ]
    }
   ],
   "source": [
    "platforms = ['X360','PS3','PS4','XOne']\n",
    "for platform in platforms:\n",
    "    print(platform)\n",
    "    print('оценки игроков')\n",
    "    print('Всего: ', data_2010_2016.loc[data_2010_2016['platform'] == platform,'user_score'].count())\n",
    "    print('Хорошие данные : ', (data_2010_2016.loc[data_2010_2016['platform'] == platform,'user_score'].count() - data_2010_2016.loc[data_2010_2016['platform'] == platform,'user_score'].isna().sum())/data_2010_2016.loc[data_2010_2016['platform'] == platform,'user_score'].count() * 100,'%')\n",
    "    print('оценки экспертов')\n",
    "    print('Всего: ', data_2010_2016.loc[data_2010_2016['platform'] == platform,'critic_score'].count())\n",
    "    print('Хорошие данные : ', (data_2010_2016.loc[data_2010_2016['platform'] == platform,'critic_score'].count() - data_2010_2016.loc[data_2010_2016['platform'] == platform,'critic_score'].isna().sum())/data_2010_2016.loc[data_2010_2016['platform'] == platform,'critic_score'].count() * 100,'%')\n",
    "    print()"
   ]
  },
  {
   "cell_type": "markdown",
   "metadata": {},
   "source": [
    "Меньше всего пропусков у платформы XOne, возьмем ее для анализа"
   ]
  },
  {
   "cell_type": "code",
   "execution_count": 35,
   "metadata": {
    "scrolled": false
   },
   "outputs": [
    {
     "data": {
      "text/plain": [
       "<AxesSubplot:xlabel='user_score', ylabel='sum_sales'>"
      ]
     },
     "execution_count": 35,
     "metadata": {},
     "output_type": "execute_result"
    },
    {
     "data": {
      "image/png": "[encoded data removed]",
      "text/plain": [
       "<Figure size 432x288 with 1 Axes>"
      ]
     },
     "metadata": {
      "needs_background": "light"
     },
     "output_type": "display_data"
    }
   ],
   "source": [
    "data_XOne.plot(x= 'user_score', y='sum_sales', kind='scatter')"
   ]
  },
  {
   "cell_type": "code",
   "execution_count": 36,
   "metadata": {},
   "outputs": [
    {
     "data": {
      "text/plain": [
       "0.12171152458232884"
      ]
     },
     "execution_count": 36,
     "metadata": {},
     "output_type": "execute_result"
    }
   ],
   "source": [
    "data_XOne['user_score'].corr(data_XOne['sum_sales'])"
   ]
  },
  {
   "cell_type": "code",
   "execution_count": 37,
   "metadata": {},
   "outputs": [
    {
     "data": {
      "text/plain": [
       "<AxesSubplot:xlabel='critic_score', ylabel='sum_sales'>"
      ]
     },
     "execution_count": 37,
     "metadata": {},
     "output_type": "execute_result"
    },
    {
     "data": {
      "image/png": "[encoded data removed]",
      "text/plain": [
       "<Figure size 432x288 with 1 Axes>"
      ]
     },
     "metadata": {
      "needs_background": "light"
     },
     "output_type": "display_data"
    }
   ],
   "source": [
    "data_XOne.plot(x= 'critic_score', y='sum_sales', kind='scatter')"
   ]
  },
  {
   "cell_type": "code",
   "execution_count": 38,
   "metadata": {},
   "outputs": [
    {
     "data": {
      "text/plain": [
       "0.27378217261702115"
      ]
     },
     "execution_count": 38,
     "metadata": {},
     "output_type": "execute_result"
    }
   ],
   "source": [
    "data_XOne['critic_score'].corr(data_XOne['sum_sales'])"
   ]
  },
  {
   "cell_type": "markdown",
   "metadata": {},
   "source": [
    "Судя по графику, чем выше оценка критиков, тем выше продажи, однако, коэффициент корреляции показывает, что связь между этими данными очень слабая."
   ]
  },
  {
   "cell_type": "markdown",
   "metadata": {},
   "source": [
    "Рассмотрим игры по жанрам"
   ]
  },
  {
   "cell_type": "code",
   "execution_count": 39,
   "metadata": {
    "scrolled": true
   },
   "outputs": [
    {
     "data": {
      "text/plain": [
       "array(['Misc', 'Action', 'Role-Playing', 'Shooter', 'Racing', 'Platform',\n",
       "       'Simulation', 'Sports', 'Fighting', 'Strategy', 'Adventure',\n",
       "       'Puzzle'], dtype=object)"
      ]
     },
     "execution_count": 39,
     "metadata": {},
     "output_type": "execute_result"
    }
   ],
   "source": [
    "data_2010_2016['genre'].unique()"
   ]
  },
  {
   "cell_type": "code",
   "execution_count": 40,
   "metadata": {},
   "outputs": [
    {
     "data": {
      "text/plain": [
       "<AxesSubplot:xlabel='genre'>"
      ]
     },
     "execution_count": 40,
     "metadata": {},
     "output_type": "execute_result"
    },
    {
     "data": {
      "image/png": "[encoded data removed]",
      "text/plain": [
       "<Figure size 432x288 with 1 Axes>"
      ]
     },
     "metadata": {
      "needs_background": "light"
     },
     "output_type": "display_data"
    }
   ],
   "source": [
    "name_by_genre = data_2010_2016.groupby('genre')['name'].agg(['count'])\n",
    "name_by_genre.sort_values(by = 'count').plot(y='count', kind='bar')"
   ]
  },
  {
   "cell_type": "markdown",
   "metadata": {},
   "source": [
    "- Больше всего выпускают игр жанра action\n",
    "- На одном уровне находится количество игр жанров: sports, role-playing, adventure\n",
    "- Меньше всего игр жанра puzzle"
   ]
  },
  {
   "cell_type": "code",
   "execution_count": 41,
   "metadata": {},
   "outputs": [
    {
     "data": {
      "text/html": [
       "<div>\n",
       "<style scoped>\n",
       "    .dataframe tbody tr th:only-of-type {\n",
       "        vertical-align: middle;\n",
       "    }\n",
       "\n",
       "    .dataframe tbody tr th {\n",
       "        vertical-align: top;\n",
       "    }\n",
       "\n",
       "    .dataframe thead th {\n",
       "        text-align: right;\n",
       "    }\n",
       "</style>\n",
       "<table border=\"1\" class=\"dataframe\">\n",
       "  <thead>\n",
       "    <tr style=\"text-align: right;\">\n",
       "      <th></th>\n",
       "      <th>median</th>\n",
       "      <th>mean</th>\n",
       "    </tr>\n",
       "    <tr>\n",
       "      <th>genre</th>\n",
       "      <th></th>\n",
       "      <th></th>\n",
       "    </tr>\n",
       "  </thead>\n",
       "  <tbody>\n",
       "    <tr>\n",
       "      <th>Adventure</th>\n",
       "      <td>0.030</td>\n",
       "      <td>0.108348</td>\n",
       "    </tr>\n",
       "    <tr>\n",
       "      <th>Puzzle</th>\n",
       "      <td>0.070</td>\n",
       "      <td>0.180702</td>\n",
       "    </tr>\n",
       "    <tr>\n",
       "      <th>Strategy</th>\n",
       "      <td>0.080</td>\n",
       "      <td>0.210824</td>\n",
       "    </tr>\n",
       "    <tr>\n",
       "      <th>Simulation</th>\n",
       "      <td>0.100</td>\n",
       "      <td>0.330645</td>\n",
       "    </tr>\n",
       "    <tr>\n",
       "      <th>Misc</th>\n",
       "      <td>0.130</td>\n",
       "      <td>0.407222</td>\n",
       "    </tr>\n",
       "    <tr>\n",
       "      <th>Action</th>\n",
       "      <td>0.140</td>\n",
       "      <td>0.450227</td>\n",
       "    </tr>\n",
       "    <tr>\n",
       "      <th>Role-Playing</th>\n",
       "      <td>0.150</td>\n",
       "      <td>0.555070</td>\n",
       "    </tr>\n",
       "    <tr>\n",
       "      <th>Racing</th>\n",
       "      <td>0.170</td>\n",
       "      <td>0.517637</td>\n",
       "    </tr>\n",
       "    <tr>\n",
       "      <th>Fighting</th>\n",
       "      <td>0.180</td>\n",
       "      <td>0.410000</td>\n",
       "    </tr>\n",
       "    <tr>\n",
       "      <th>Sports</th>\n",
       "      <td>0.200</td>\n",
       "      <td>0.571113</td>\n",
       "    </tr>\n",
       "    <tr>\n",
       "      <th>Platform</th>\n",
       "      <td>0.210</td>\n",
       "      <td>0.782484</td>\n",
       "    </tr>\n",
       "    <tr>\n",
       "      <th>Shooter</th>\n",
       "      <td>0.385</td>\n",
       "      <td>1.170098</td>\n",
       "    </tr>\n",
       "  </tbody>\n",
       "</table>\n",
       "</div>"
      ],
      "text/plain": [
       "              median      mean\n",
       "genre                         \n",
       "Adventure      0.030  0.108348\n",
       "Puzzle         0.070  0.180702\n",
       "Strategy       0.080  0.210824\n",
       "Simulation     0.100  0.330645\n",
       "Misc           0.130  0.407222\n",
       "Action         0.140  0.450227\n",
       "Role-Playing   0.150  0.555070\n",
       "Racing         0.170  0.517637\n",
       "Fighting       0.180  0.410000\n",
       "Sports         0.200  0.571113\n",
       "Platform       0.210  0.782484\n",
       "Shooter        0.385  1.170098"
      ]
     },
     "execution_count": 41,
     "metadata": {},
     "output_type": "execute_result"
    },
    {
     "data": {
      "image/png": "[encoded data removed]",
      "text/plain": [
       "<Figure size 432x288 with 1 Axes>"
      ]
     },
     "metadata": {
      "needs_background": "light"
     },
     "output_type": "display_data"
    }
   ],
   "source": [
    "name_by_genre = data_2010_2016.groupby('genre')['sum_sales'].agg(['median','mean'])\n",
    "name_by_genre.sort_values(by = 'median').plot(y='median', kind='bar')\n",
    "name_by_genre.sort_values(by = 'median')"
   ]
  },
  {
   "cell_type": "markdown",
   "metadata": {},
   "source": [
    "- На первом месте по прибыльности - Shooter\n",
    "- Наименее прибыльный жанр - Adventure"
   ]
  },
  {
   "cell_type": "markdown",
   "metadata": {},
   "source": [
    "### Составление портрета пользователя каждого региона"
   ]
  },
  {
   "cell_type": "markdown",
   "metadata": {},
   "source": [
    "Определите для пользователя каждого региона (NA, EU, JP):\n",
    "Самые популярные платформы (топ-5)"
   ]
  },
  {
   "cell_type": "code",
   "execution_count": 42,
   "metadata": {
    "scrolled": false
   },
   "outputs": [
    {
     "data": {
      "text/plain": [
       "<AxesSubplot:ylabel='sum'>"
      ]
     },
     "execution_count": 42,
     "metadata": {},
     "output_type": "execute_result"
    },
    {
     "data": {
      "image/png": "[encoded data removed]",
      "text/plain": [
       "<Figure size 720x720 with 1 Axes>"
      ]
     },
     "metadata": {},
     "output_type": "display_data"
    },
    {
     "data": {
      "image/png": "[encoded data removed]",
      "text/plain": [
       "<Figure size 720x720 with 1 Axes>"
      ]
     },
     "metadata": {},
     "output_type": "display_data"
    },
    {
     "data": {
      "image/png": "[encoded data removed]",
      "text/plain": [
       "<Figure size 1080x1080 with 1 Axes>"
      ]
     },
     "metadata": {},
     "output_type": "display_data"
    }
   ],
   "source": [
    "data_2010_2016.groupby('platform')['na_sales'].agg(['sum']).sort_values(by = 'sum').plot(y = 'sum',kind = 'pie',figsize=(10, 10))\n",
    "data_2010_2016.groupby('platform')['eu_sales'].agg(['sum']).sort_values(by = 'sum').plot(y = 'sum',kind = 'pie',figsize=(10, 10))\n",
    "data_2010_2016.groupby('platform')['jp_sales'].agg(['sum']).sort_values(by = 'sum').plot(y = 'sum',kind = 'pie',figsize=(15, 15))\n"
   ]
  },
  {
   "cell_type": "code",
   "execution_count": 43,
   "metadata": {},
   "outputs": [
    {
     "data": {
      "text/html": [
       "<div>\n",
       "<style scoped>\n",
       "    .dataframe tbody tr th:only-of-type {\n",
       "        vertical-align: middle;\n",
       "    }\n",
       "\n",
       "    .dataframe tbody tr th {\n",
       "        vertical-align: top;\n",
       "    }\n",
       "\n",
       "    .dataframe thead th {\n",
       "        text-align: right;\n",
       "    }\n",
       "</style>\n",
       "<table border=\"1\" class=\"dataframe\">\n",
       "  <thead>\n",
       "    <tr style=\"text-align: right;\">\n",
       "      <th></th>\n",
       "      <th>sum</th>\n",
       "    </tr>\n",
       "    <tr>\n",
       "      <th>platform</th>\n",
       "      <th></th>\n",
       "    </tr>\n",
       "  </thead>\n",
       "  <tbody>\n",
       "    <tr>\n",
       "      <th>PS2</th>\n",
       "      <td>2.32</td>\n",
       "    </tr>\n",
       "    <tr>\n",
       "      <th>PSP</th>\n",
       "      <td>9.65</td>\n",
       "    </tr>\n",
       "    <tr>\n",
       "      <th>PSV</th>\n",
       "      <td>12.47</td>\n",
       "    </tr>\n",
       "    <tr>\n",
       "      <th>WiiU</th>\n",
       "      <td>38.10</td>\n",
       "    </tr>\n",
       "    <tr>\n",
       "      <th>PC</th>\n",
       "      <td>39.07</td>\n",
       "    </tr>\n",
       "    <tr>\n",
       "      <th>DS</th>\n",
       "      <td>59.66</td>\n",
       "    </tr>\n",
       "    <tr>\n",
       "      <th>3DS</th>\n",
       "      <td>82.65</td>\n",
       "    </tr>\n",
       "    <tr>\n",
       "      <th>XOne</th>\n",
       "      <td>93.12</td>\n",
       "    </tr>\n",
       "    <tr>\n",
       "      <th>PS4</th>\n",
       "      <td>108.74</td>\n",
       "    </tr>\n",
       "    <tr>\n",
       "      <th>Wii</th>\n",
       "      <td>121.20</td>\n",
       "    </tr>\n",
       "    <tr>\n",
       "      <th>PS3</th>\n",
       "      <td>229.25</td>\n",
       "    </tr>\n",
       "    <tr>\n",
       "      <th>X360</th>\n",
       "      <td>334.18</td>\n",
       "    </tr>\n",
       "  </tbody>\n",
       "</table>\n",
       "</div>"
      ],
      "text/plain": [
       "             sum\n",
       "platform        \n",
       "PS2         2.32\n",
       "PSP         9.65\n",
       "PSV        12.47\n",
       "WiiU       38.10\n",
       "PC         39.07\n",
       "DS         59.66\n",
       "3DS        82.65\n",
       "XOne       93.12\n",
       "PS4       108.74\n",
       "Wii       121.20\n",
       "PS3       229.25\n",
       "X360      334.18"
      ]
     },
     "execution_count": 43,
     "metadata": {},
     "output_type": "execute_result"
    }
   ],
   "source": [
    "data_2010_2016.groupby('platform')['na_sales'].agg(['sum']).sort_values(by = 'sum')"
   ]
  },
  {
   "cell_type": "code",
   "execution_count": 44,
   "metadata": {
    "scrolled": true
   },
   "outputs": [
    {
     "data": {
      "text/plain": [
       "1130.41"
      ]
     },
     "execution_count": 44,
     "metadata": {},
     "output_type": "execute_result"
    }
   ],
   "source": [
    "data_2010_2016['na_sales'].sum()"
   ]
  },
  {
   "cell_type": "code",
   "execution_count": 45,
   "metadata": {},
   "outputs": [
    {
     "data": {
      "text/html": [
       "<div>\n",
       "<style scoped>\n",
       "    .dataframe tbody tr th:only-of-type {\n",
       "        vertical-align: middle;\n",
       "    }\n",
       "\n",
       "    .dataframe tbody tr th {\n",
       "        vertical-align: top;\n",
       "    }\n",
       "\n",
       "    .dataframe thead th {\n",
       "        text-align: right;\n",
       "    }\n",
       "</style>\n",
       "<table border=\"1\" class=\"dataframe\">\n",
       "  <thead>\n",
       "    <tr style=\"text-align: right;\">\n",
       "      <th></th>\n",
       "      <th>sum</th>\n",
       "    </tr>\n",
       "    <tr>\n",
       "      <th>platform</th>\n",
       "      <th></th>\n",
       "    </tr>\n",
       "  </thead>\n",
       "  <tbody>\n",
       "    <tr>\n",
       "      <th>PS2</th>\n",
       "      <td>1.67</td>\n",
       "    </tr>\n",
       "    <tr>\n",
       "      <th>PSP</th>\n",
       "      <td>7.59</td>\n",
       "    </tr>\n",
       "    <tr>\n",
       "      <th>PSV</th>\n",
       "      <td>13.07</td>\n",
       "    </tr>\n",
       "    <tr>\n",
       "      <th>WiiU</th>\n",
       "      <td>25.13</td>\n",
       "    </tr>\n",
       "    <tr>\n",
       "      <th>DS</th>\n",
       "      <td>28.06</td>\n",
       "    </tr>\n",
       "    <tr>\n",
       "      <th>XOne</th>\n",
       "      <td>51.59</td>\n",
       "    </tr>\n",
       "    <tr>\n",
       "      <th>3DS</th>\n",
       "      <td>61.27</td>\n",
       "    </tr>\n",
       "    <tr>\n",
       "      <th>Wii</th>\n",
       "      <td>65.91</td>\n",
       "    </tr>\n",
       "    <tr>\n",
       "      <th>PC</th>\n",
       "      <td>68.82</td>\n",
       "    </tr>\n",
       "    <tr>\n",
       "      <th>PS4</th>\n",
       "      <td>141.09</td>\n",
       "    </tr>\n",
       "    <tr>\n",
       "      <th>X360</th>\n",
       "      <td>163.41</td>\n",
       "    </tr>\n",
       "    <tr>\n",
       "      <th>PS3</th>\n",
       "      <td>213.60</td>\n",
       "    </tr>\n",
       "  </tbody>\n",
       "</table>\n",
       "</div>"
      ],
      "text/plain": [
       "             sum\n",
       "platform        \n",
       "PS2         1.67\n",
       "PSP         7.59\n",
       "PSV        13.07\n",
       "WiiU       25.13\n",
       "DS         28.06\n",
       "XOne       51.59\n",
       "3DS        61.27\n",
       "Wii        65.91\n",
       "PC         68.82\n",
       "PS4       141.09\n",
       "X360      163.41\n",
       "PS3       213.60"
      ]
     },
     "execution_count": 45,
     "metadata": {},
     "output_type": "execute_result"
    }
   ],
   "source": [
    "data_2010_2016.groupby('platform')['eu_sales'].agg(['sum']).sort_values(by = 'sum')"
   ]
  },
  {
   "cell_type": "code",
   "execution_count": 46,
   "metadata": {},
   "outputs": [
    {
     "data": {
      "text/plain": [
       "841.21"
      ]
     },
     "execution_count": 46,
     "metadata": {},
     "output_type": "execute_result"
    }
   ],
   "source": [
    "data_2010_2016['eu_sales'].sum()"
   ]
  },
  {
   "cell_type": "code",
   "execution_count": 47,
   "metadata": {},
   "outputs": [
    {
     "data": {
      "text/html": [
       "<div>\n",
       "<style scoped>\n",
       "    .dataframe tbody tr th:only-of-type {\n",
       "        vertical-align: middle;\n",
       "    }\n",
       "\n",
       "    .dataframe tbody tr th {\n",
       "        vertical-align: top;\n",
       "    }\n",
       "\n",
       "    .dataframe thead th {\n",
       "        text-align: right;\n",
       "    }\n",
       "</style>\n",
       "<table border=\"1\" class=\"dataframe\">\n",
       "  <thead>\n",
       "    <tr style=\"text-align: right;\">\n",
       "      <th></th>\n",
       "      <th>sum</th>\n",
       "    </tr>\n",
       "    <tr>\n",
       "      <th>platform</th>\n",
       "      <th></th>\n",
       "    </tr>\n",
       "  </thead>\n",
       "  <tbody>\n",
       "    <tr>\n",
       "      <th>PC</th>\n",
       "      <td>0.00</td>\n",
       "    </tr>\n",
       "    <tr>\n",
       "      <th>XOne</th>\n",
       "      <td>0.34</td>\n",
       "    </tr>\n",
       "    <tr>\n",
       "      <th>PS2</th>\n",
       "      <td>0.80</td>\n",
       "    </tr>\n",
       "    <tr>\n",
       "      <th>X360</th>\n",
       "      <td>5.46</td>\n",
       "    </tr>\n",
       "    <tr>\n",
       "      <th>WiiU</th>\n",
       "      <td>13.01</td>\n",
       "    </tr>\n",
       "    <tr>\n",
       "      <th>PS4</th>\n",
       "      <td>15.96</td>\n",
       "    </tr>\n",
       "    <tr>\n",
       "      <th>Wii</th>\n",
       "      <td>17.75</td>\n",
       "    </tr>\n",
       "    <tr>\n",
       "      <th>PSV</th>\n",
       "      <td>21.84</td>\n",
       "    </tr>\n",
       "    <tr>\n",
       "      <th>DS</th>\n",
       "      <td>27.90</td>\n",
       "    </tr>\n",
       "    <tr>\n",
       "      <th>PSP</th>\n",
       "      <td>42.20</td>\n",
       "    </tr>\n",
       "    <tr>\n",
       "      <th>PS3</th>\n",
       "      <td>59.26</td>\n",
       "    </tr>\n",
       "    <tr>\n",
       "      <th>3DS</th>\n",
       "      <td>100.62</td>\n",
       "    </tr>\n",
       "  </tbody>\n",
       "</table>\n",
       "</div>"
      ],
      "text/plain": [
       "             sum\n",
       "platform        \n",
       "PC          0.00\n",
       "XOne        0.34\n",
       "PS2         0.80\n",
       "X360        5.46\n",
       "WiiU       13.01\n",
       "PS4        15.96\n",
       "Wii        17.75\n",
       "PSV        21.84\n",
       "DS         27.90\n",
       "PSP        42.20\n",
       "PS3        59.26\n",
       "3DS       100.62"
      ]
     },
     "execution_count": 47,
     "metadata": {},
     "output_type": "execute_result"
    }
   ],
   "source": [
    "data_2010_2016.groupby('platform')['jp_sales'].agg(['sum']).sort_values(by = 'sum')"
   ]
  },
  {
   "cell_type": "code",
   "execution_count": 48,
   "metadata": {
    "scrolled": true
   },
   "outputs": [
    {
     "data": {
      "text/plain": [
       "305.14"
      ]
     },
     "execution_count": 48,
     "metadata": {},
     "output_type": "execute_result"
    }
   ],
   "source": [
    "data_2010_2016['jp_sales'].sum()"
   ]
  },
  {
   "cell_type": "markdown",
   "metadata": {},
   "source": [
    "Топ 5 платформ для Северной Америки:\n",
    "- X360 (29,6%)\n",
    "- PS3 (20,3%)\n",
    "- Wii (10,7%)\n",
    "- PS4 (9,6%)\n",
    "- XOne (8,2%)"
   ]
  },
  {
   "cell_type": "markdown",
   "metadata": {},
   "source": [
    "Топ 5 платформ в Европе:\n",
    "- PS3 (25,4%)\n",
    "- X360 (19,4%) \n",
    "- PS4 (16,8%)\n",
    "- PС (8,2%)\n",
    "- Wii (7,8%)"
   ]
  },
  {
   "cell_type": "markdown",
   "metadata": {},
   "source": [
    "Топ 5 платформ в Японии:\n",
    "- 3DS (32,9%)    \n",
    "- PS3 (19,4%)\n",
    "- PSP (13,8%)\n",
    "- DS (9,1%)  \n",
    "- PSV (7,1%)"
   ]
  },
  {
   "cell_type": "markdown",
   "metadata": {},
   "source": [
    "Определите для пользователя каждого региона (NA, EU, JP):\n",
    "Самые популярные жанры (топ-5)"
   ]
  },
  {
   "cell_type": "code",
   "execution_count": 49,
   "metadata": {
    "scrolled": false
   },
   "outputs": [
    {
     "data": {
      "text/plain": [
       "<AxesSubplot:xlabel='genre'>"
      ]
     },
     "execution_count": 49,
     "metadata": {},
     "output_type": "execute_result"
    },
    {
     "data": {
      "image/png": "[encoded data removed]",
      "text/plain": [
       "<Figure size 432x288 with 1 Axes>"
      ]
     },
     "metadata": {
      "needs_background": "light"
     },
     "output_type": "display_data"
    }
   ],
   "source": [
    "na_by_genre = data_2010_2016.groupby('genre')['na_sales'].agg(['sum'])\n",
    "na_by_genre.sort_values(by = 'sum').plot(y='sum', kind='bar')"
   ]
  },
  {
   "cell_type": "code",
   "execution_count": 50,
   "metadata": {},
   "outputs": [
    {
     "data": {
      "text/plain": [
       "<AxesSubplot:xlabel='genre'>"
      ]
     },
     "execution_count": 50,
     "metadata": {},
     "output_type": "execute_result"
    },
    {
     "data": {
      "image/png": "[encoded data removed]",
      "text/plain": [
       "<Figure size 432x288 with 1 Axes>"
      ]
     },
     "metadata": {
      "needs_background": "light"
     },
     "output_type": "display_data"
    }
   ],
   "source": [
    "eu_by_genre = data_2010_2016.groupby('genre')['eu_sales'].agg(['sum'])\n",
    "eu_by_genre.sort_values(by = 'sum').plot(y='sum', kind='bar')"
   ]
  },
  {
   "cell_type": "code",
   "execution_count": 51,
   "metadata": {
    "scrolled": false
   },
   "outputs": [
    {
     "data": {
      "text/plain": [
       "<AxesSubplot:xlabel='genre'>"
      ]
     },
     "execution_count": 51,
     "metadata": {},
     "output_type": "execute_result"
    },
    {
     "data": {
      "image/png": "[encoded data removed]",
      "text/plain": [
       "<Figure size 432x288 with 1 Axes>"
      ]
     },
     "metadata": {
      "needs_background": "light"
     },
     "output_type": "display_data"
    }
   ],
   "source": [
    "jp_by_genre = data_2010_2016.groupby('genre')['jp_sales'].agg(['sum'])\n",
    "jp_by_genre.sort_values(by = 'sum').plot(y='sum', kind='bar')"
   ]
  },
  {
   "cell_type": "markdown",
   "metadata": {},
   "source": [
    "Топ 5 жанров в Северной Америки:\n",
    "- Action\n",
    "- Shooter\n",
    "- Sports\n",
    "- Misc\n",
    "- Role-Playing"
   ]
  },
  {
   "cell_type": "markdown",
   "metadata": {},
   "source": [
    "Топ 5 жанров в Европе:\n",
    "- Action\n",
    "- Shooter\n",
    "- Sports\n",
    "- Role-Playing\n",
    "- Misc"
   ]
  },
  {
   "cell_type": "markdown",
   "metadata": {},
   "source": [
    "Топ 5 жанров в Японии:\n",
    "- Role-Playing\n",
    "- Action\n",
    "- Misc\n",
    "- Platform\n",
    "- Adventure\n",
    "\n"
   ]
  },
  {
   "cell_type": "markdown",
   "metadata": {},
   "source": [
    "Япония сильно отличается от Северной Америки и Европы по набору топа жанров."
   ]
  },
  {
   "cell_type": "markdown",
   "metadata": {},
   "source": [
    "### Проверка гипотез"
   ]
  },
  {
   "cell_type": "markdown",
   "metadata": {},
   "source": [
    "H0 Средние пользовательские рейтинги Xbox и PC равны\n",
    "\n",
    "H1 Средние пользовательские рейтинги Xbox и PC не равны"
   ]
  },
  {
   "cell_type": "markdown",
   "metadata": {},
   "source": [
    "Так как в данных о рейтинге есть пропуски, то мы будем брать не генеральную совокупность, а выборку."
   ]
  },
  {
   "cell_type": "code",
   "execution_count": 61,
   "metadata": {
    "scrolled": true
   },
   "outputs": [
    {
     "name": "stdout",
     "output_type": "stream",
     "text": [
      "p-значение: 0.10123426582368222\n",
      "Не получилось отвергнуть нулевую гипотезу\n"
     ]
    }
   ],
   "source": [
    "data_xbox = data.copy()\n",
    "data_xbox = data_xbox.query('platform == \"XB\"')\n",
    "data_pc = data.copy()\n",
    "data_pc = data_pc.query('platform == \"PC\"')\n",
    "\n",
    "from scipy import stats as st\n",
    "alpha = 0.05\n",
    "results = st.ttest_ind(data_xbox['user_score'],data_pc['user_score'],equal_var = False)\n",
    "\n",
    "print('p-значение:', results.pvalue)\n",
    "\n",
    "if results.pvalue < alpha:\n",
    "    print(\"Отвергаем нулевую гипотезу\")\n",
    "else:\n",
    "    print(\"Не получилось отвергнуть нулевую гипотезу\") "
   ]
  },
  {
   "cell_type": "markdown",
   "metadata": {},
   "source": [
    "Ho Средние пользовательские рейтинги жанров Action (англ. «действие», экшен-игры) и Sports (англ. «спортивные соревнования») разные.\n",
    "\n",
    "\n",
    "H1 Средние пользовательские рейтинги жанров Action (англ. «действие», экшен-игры) и Sports (англ. «спортивные соревнования») одинаковые."
   ]
  },
  {
   "cell_type": "code",
   "execution_count": 60,
   "metadata": {},
   "outputs": [
    {
     "name": "stdout",
     "output_type": "stream",
     "text": [
      "p-значение: 7.595997985225105e-09\n",
      "Отвергаем нулевую гипотезу\n"
     ]
    }
   ],
   "source": [
    "from scipy import stats as st\n",
    "alpha = 0.05\n",
    "results = st.ttest_ind(data.loc[data['genre'] == 'Action','user_score'],data.loc[data['genre'] == 'Sports','user_score'],equal_var = False)\n",
    "\n",
    "print('p-значение:', results.pvalue)\n",
    "\n",
    "if results.pvalue < alpha:\n",
    "    print(\"Отвергаем нулевую гипотезу\")\n",
    "else:\n",
    "    print(\"Не получилось отвергнуть нулевую гипотезу\") "
   ]
  },
  {
   "cell_type": "markdown",
   "metadata": {},
   "source": [
    "### Общий вывод"
   ]
  },
  {
   "cell_type": "markdown",
   "metadata": {},
   "source": [
    "В ходе исследования было выявлено, что наиболее популярными платформами для компьютерных игр в 2017 году станут XOne и PS4. Однако, в Японии эти платформы не находятся в топе, поэтому для них ситуация может быть иной.\n",
    "\n",
    "\n",
    "По прибыльности на первом месте жанр - shooter, а наименее прибыльный - adventure. Они входят в топ жанров Северной Америки и Европы, но в Японии популярны совершенно другие жанры. \n",
    "\n",
    "\n",
    "Больше всего выпускают игр жанра action, я считаю, что в 2017 году можно выпускать меньше игр данного жанра, а упор сделать на shooter. Потому что он более прибыльный.\n",
    "\n",
    "На продаваемость игры отзывы экспертов и игроков не влияют."
   ]
  }
 ],
 "metadata": {
  "ExecuteTimeLog": [
   {
    "duration": 73,
    "start_time": "2022-12-12T10:57:13.656Z"
   },
   {
    "duration": 598,
    "start_time": "2022-12-12T10:59:00.781Z"
   },
   {
    "duration": 19,
    "start_time": "2022-12-12T10:59:15.485Z"
   },
   {
    "duration": 13,
    "start_time": "2022-12-12T11:00:54.186Z"
   },
   {
    "duration": 8,
    "start_time": "2022-12-12T11:02:43.777Z"
   },
   {
    "duration": 419,
    "start_time": "2022-12-12T11:04:51.747Z"
   },
   {
    "duration": 21,
    "start_time": "2022-12-12T11:20:29.661Z"
   },
   {
    "duration": 20,
    "start_time": "2022-12-12T11:23:09.219Z"
   },
   {
    "duration": 21,
    "start_time": "2022-12-12T11:23:17.127Z"
   },
   {
    "duration": 20,
    "start_time": "2022-12-12T11:23:32.562Z"
   },
   {
    "duration": 21,
    "start_time": "2022-12-12T11:23:59.528Z"
   },
   {
    "duration": 9,
    "start_time": "2022-12-12T11:24:55.355Z"
   },
   {
    "duration": 9,
    "start_time": "2022-12-12T11:25:03.488Z"
   },
   {
    "duration": 13,
    "start_time": "2022-12-12T11:25:05.755Z"
   },
   {
    "duration": 1250,
    "start_time": "2022-12-12T11:38:22.391Z"
   },
   {
    "duration": 1140,
    "start_time": "2022-12-12T11:38:47.024Z"
   },
   {
    "duration": 67,
    "start_time": "2022-12-12T11:39:26.105Z"
   },
   {
    "duration": 22,
    "start_time": "2022-12-12T11:39:26.174Z"
   },
   {
    "duration": 41,
    "start_time": "2022-12-12T11:39:26.198Z"
   },
   {
    "duration": 35,
    "start_time": "2022-12-12T11:39:26.241Z"
   },
   {
    "duration": 1096,
    "start_time": "2022-12-12T11:39:32.721Z"
   },
   {
    "duration": 5,
    "start_time": "2022-12-12T11:39:46.124Z"
   },
   {
    "duration": 16,
    "start_time": "2022-12-12T11:39:49.130Z"
   },
   {
    "duration": 5,
    "start_time": "2022-12-12T11:39:51.805Z"
   },
   {
    "duration": 10,
    "start_time": "2022-12-12T11:40:05.693Z"
   },
   {
    "duration": 11,
    "start_time": "2022-12-12T11:40:13.087Z"
   },
   {
    "duration": 11,
    "start_time": "2022-12-12T11:40:34.030Z"
   },
   {
    "duration": 12,
    "start_time": "2022-12-12T11:41:13.225Z"
   },
   {
    "duration": 12,
    "start_time": "2022-12-12T11:41:38.649Z"
   },
   {
    "duration": 6,
    "start_time": "2022-12-12T11:44:21.785Z"
   },
   {
    "duration": 94,
    "start_time": "2022-12-12T11:45:42.474Z"
   },
   {
    "duration": 5,
    "start_time": "2022-12-12T11:47:20.728Z"
   },
   {
    "duration": 16,
    "start_time": "2022-12-12T11:51:00.769Z"
   },
   {
    "duration": 26,
    "start_time": "2022-12-12T11:51:10.899Z"
   },
   {
    "duration": 16,
    "start_time": "2022-12-12T11:51:24.815Z"
   },
   {
    "duration": 583,
    "start_time": "2022-12-12T11:51:44.635Z"
   },
   {
    "duration": 10,
    "start_time": "2022-12-12T11:52:35.659Z"
   },
   {
    "duration": 6,
    "start_time": "2022-12-12T11:52:58.926Z"
   },
   {
    "duration": 7,
    "start_time": "2022-12-12T11:53:05.915Z"
   },
   {
    "duration": 50,
    "start_time": "2022-12-12T11:53:49.179Z"
   },
   {
    "duration": 14,
    "start_time": "2022-12-12T11:53:49.231Z"
   },
   {
    "duration": 15,
    "start_time": "2022-12-12T11:53:49.246Z"
   },
   {
    "duration": 8,
    "start_time": "2022-12-12T11:53:49.263Z"
   },
   {
    "duration": 9,
    "start_time": "2022-12-12T11:53:49.273Z"
   },
   {
    "duration": 5,
    "start_time": "2022-12-12T11:53:52.909Z"
   },
   {
    "duration": 11,
    "start_time": "2022-12-12T12:00:12.633Z"
   },
   {
    "duration": 8,
    "start_time": "2022-12-12T12:00:21.649Z"
   },
   {
    "duration": 10,
    "start_time": "2022-12-12T12:00:59.607Z"
   },
   {
    "duration": 6,
    "start_time": "2022-12-12T12:01:54.946Z"
   },
   {
    "duration": 16,
    "start_time": "2022-12-12T12:02:11.083Z"
   },
   {
    "duration": 14,
    "start_time": "2022-12-12T12:02:19.370Z"
   },
   {
    "duration": 11,
    "start_time": "2022-12-12T12:03:02.391Z"
   },
   {
    "duration": 15,
    "start_time": "2022-12-12T12:03:16.346Z"
   },
   {
    "duration": 8,
    "start_time": "2022-12-12T12:03:47.377Z"
   },
   {
    "duration": 19,
    "start_time": "2022-12-12T12:06:19.674Z"
   },
   {
    "duration": 10,
    "start_time": "2022-12-12T12:12:19.437Z"
   },
   {
    "duration": 14,
    "start_time": "2022-12-12T12:12:33.186Z"
   },
   {
    "duration": 23,
    "start_time": "2022-12-12T12:19:08.809Z"
   },
   {
    "duration": 8,
    "start_time": "2022-12-12T12:21:47.096Z"
   },
   {
    "duration": 13,
    "start_time": "2022-12-12T12:22:15.865Z"
   },
   {
    "duration": 10,
    "start_time": "2022-12-12T12:22:20.735Z"
   },
   {
    "duration": 4,
    "start_time": "2022-12-12T12:25:17.617Z"
   },
   {
    "duration": 15,
    "start_time": "2022-12-12T12:25:29.633Z"
   },
   {
    "duration": 7,
    "start_time": "2022-12-12T12:31:36.125Z"
   },
   {
    "duration": 156,
    "start_time": "2022-12-12T12:32:03.593Z"
   },
   {
    "duration": 8,
    "start_time": "2022-12-12T12:32:10.165Z"
   },
   {
    "duration": 157,
    "start_time": "2022-12-12T12:32:33.784Z"
   },
   {
    "duration": 6,
    "start_time": "2022-12-12T12:32:49.166Z"
   },
   {
    "duration": 4,
    "start_time": "2022-12-12T12:35:13.091Z"
   },
   {
    "duration": 6,
    "start_time": "2022-12-12T12:35:20.225Z"
   },
   {
    "duration": 10,
    "start_time": "2022-12-12T12:36:05.364Z"
   },
   {
    "duration": 145,
    "start_time": "2022-12-12T12:36:15.801Z"
   },
   {
    "duration": 11,
    "start_time": "2022-12-12T12:37:35.442Z"
   },
   {
    "duration": 1182,
    "start_time": "2022-12-12T12:39:26.251Z"
   },
   {
    "duration": 9,
    "start_time": "2022-12-12T12:41:03.253Z"
   },
   {
    "duration": 204,
    "start_time": "2022-12-12T13:01:12.092Z"
   },
   {
    "duration": 11,
    "start_time": "2022-12-12T13:11:59.175Z"
   },
   {
    "duration": 12,
    "start_time": "2022-12-12T13:12:16.456Z"
   },
   {
    "duration": 12,
    "start_time": "2022-12-12T13:12:39.268Z"
   },
   {
    "duration": 16,
    "start_time": "2022-12-12T13:13:31.930Z"
   },
   {
    "duration": 14,
    "start_time": "2022-12-12T13:13:56.198Z"
   },
   {
    "duration": 12,
    "start_time": "2022-12-12T13:14:30.339Z"
   },
   {
    "duration": 11,
    "start_time": "2022-12-12T13:14:44.840Z"
   },
   {
    "duration": 11,
    "start_time": "2022-12-12T13:15:02.470Z"
   },
   {
    "duration": 135,
    "start_time": "2022-12-12T13:15:26.582Z"
   },
   {
    "duration": 126,
    "start_time": "2022-12-12T13:15:35.870Z"
   },
   {
    "duration": 437,
    "start_time": "2022-12-12T13:15:58.076Z"
   },
   {
    "duration": 342,
    "start_time": "2022-12-12T13:16:08.943Z"
   },
   {
    "duration": 222,
    "start_time": "2022-12-12T13:16:15.047Z"
   },
   {
    "duration": 130,
    "start_time": "2022-12-12T13:16:29.721Z"
   },
   {
    "duration": 150,
    "start_time": "2022-12-12T13:17:07.550Z"
   },
   {
    "duration": 146,
    "start_time": "2022-12-12T13:17:23.057Z"
   },
   {
    "duration": 13,
    "start_time": "2022-12-12T13:19:51.380Z"
   },
   {
    "duration": 147,
    "start_time": "2022-12-12T13:20:09.426Z"
   },
   {
    "duration": 131,
    "start_time": "2022-12-12T13:20:25.555Z"
   },
   {
    "duration": 1101,
    "start_time": "2022-12-12T13:27:46.159Z"
   },
   {
    "duration": 3596,
    "start_time": "2022-12-12T13:28:54.921Z"
   },
   {
    "duration": 1216,
    "start_time": "2022-12-12T13:31:14.728Z"
   },
   {
    "duration": 1171,
    "start_time": "2022-12-12T13:33:27.412Z"
   },
   {
    "duration": 7,
    "start_time": "2022-12-12T13:36:04.362Z"
   },
   {
    "duration": 82,
    "start_time": "2022-12-12T13:36:11.630Z"
   },
   {
    "duration": 262,
    "start_time": "2022-12-12T13:36:26.099Z"
   },
   {
    "duration": 128,
    "start_time": "2022-12-12T13:37:33.249Z"
   },
   {
    "duration": 127,
    "start_time": "2022-12-12T13:37:55.149Z"
   },
   {
    "duration": 126,
    "start_time": "2022-12-12T13:38:44.950Z"
   },
   {
    "duration": 129,
    "start_time": "2022-12-12T13:39:31.550Z"
   },
   {
    "duration": 135,
    "start_time": "2022-12-12T13:40:01.439Z"
   },
   {
    "duration": 127,
    "start_time": "2022-12-12T13:41:15.569Z"
   },
   {
    "duration": 132,
    "start_time": "2022-12-12T14:46:01.930Z"
   },
   {
    "duration": 1108,
    "start_time": "2022-12-12T14:46:12.093Z"
   },
   {
    "duration": 120,
    "start_time": "2022-12-12T14:49:14.607Z"
   },
   {
    "duration": 16,
    "start_time": "2022-12-12T14:49:30.517Z"
   },
   {
    "duration": 28,
    "start_time": "2022-12-12T14:49:57.505Z"
   },
   {
    "duration": 14,
    "start_time": "2022-12-12T14:50:20.857Z"
   },
   {
    "duration": 1142,
    "start_time": "2022-12-12T14:55:58.819Z"
   },
   {
    "duration": 127,
    "start_time": "2022-12-12T14:56:05.965Z"
   },
   {
    "duration": 134,
    "start_time": "2022-12-12T14:57:46.777Z"
   },
   {
    "duration": 145,
    "start_time": "2022-12-12T15:00:46.991Z"
   },
   {
    "duration": 161,
    "start_time": "2022-12-12T15:02:19.688Z"
   },
   {
    "duration": 235,
    "start_time": "2022-12-12T15:02:35.805Z"
   },
   {
    "duration": 133,
    "start_time": "2022-12-12T15:03:26.557Z"
   },
   {
    "duration": 195,
    "start_time": "2022-12-12T15:03:40.906Z"
   },
   {
    "duration": 15,
    "start_time": "2022-12-12T15:06:08.597Z"
   },
   {
    "duration": 28,
    "start_time": "2022-12-12T15:06:18.199Z"
   },
   {
    "duration": 16,
    "start_time": "2022-12-12T15:06:48.807Z"
   },
   {
    "duration": 14,
    "start_time": "2022-12-12T15:07:21.710Z"
   },
   {
    "duration": 8,
    "start_time": "2022-12-12T15:08:02.233Z"
   },
   {
    "duration": 20,
    "start_time": "2022-12-12T15:08:33.938Z"
   },
   {
    "duration": 8,
    "start_time": "2022-12-12T15:08:42.198Z"
   },
   {
    "duration": 14,
    "start_time": "2022-12-12T15:09:03.156Z"
   },
   {
    "duration": 7,
    "start_time": "2022-12-12T15:12:05.661Z"
   },
   {
    "duration": 52,
    "start_time": "2022-12-12T18:32:38.230Z"
   },
   {
    "duration": 629,
    "start_time": "2022-12-12T18:32:59.688Z"
   },
   {
    "duration": 388,
    "start_time": "2022-12-12T18:33:06.182Z"
   },
   {
    "duration": 22,
    "start_time": "2022-12-12T18:33:06.572Z"
   },
   {
    "duration": 14,
    "start_time": "2022-12-12T18:33:06.595Z"
   },
   {
    "duration": 13,
    "start_time": "2022-12-12T18:33:06.610Z"
   },
   {
    "duration": 9,
    "start_time": "2022-12-12T18:33:06.625Z"
   },
   {
    "duration": 10,
    "start_time": "2022-12-12T18:33:06.635Z"
   },
   {
    "duration": 27,
    "start_time": "2022-12-12T18:33:06.646Z"
   },
   {
    "duration": 0,
    "start_time": "2022-12-12T18:33:06.675Z"
   },
   {
    "duration": 0,
    "start_time": "2022-12-12T18:33:06.676Z"
   },
   {
    "duration": 0,
    "start_time": "2022-12-12T18:33:06.677Z"
   },
   {
    "duration": 0,
    "start_time": "2022-12-12T18:33:06.678Z"
   },
   {
    "duration": 0,
    "start_time": "2022-12-12T18:33:06.680Z"
   },
   {
    "duration": 0,
    "start_time": "2022-12-12T18:33:06.681Z"
   },
   {
    "duration": 0,
    "start_time": "2022-12-12T18:33:06.705Z"
   },
   {
    "duration": 0,
    "start_time": "2022-12-12T18:33:06.706Z"
   },
   {
    "duration": 0,
    "start_time": "2022-12-12T18:33:06.707Z"
   },
   {
    "duration": 0,
    "start_time": "2022-12-12T18:33:06.708Z"
   },
   {
    "duration": 0,
    "start_time": "2022-12-12T18:33:06.709Z"
   },
   {
    "duration": 0,
    "start_time": "2022-12-12T18:33:06.711Z"
   },
   {
    "duration": 0,
    "start_time": "2022-12-12T18:33:06.712Z"
   },
   {
    "duration": 0,
    "start_time": "2022-12-12T18:33:06.714Z"
   },
   {
    "duration": 0,
    "start_time": "2022-12-12T18:33:06.715Z"
   },
   {
    "duration": 0,
    "start_time": "2022-12-12T18:33:06.716Z"
   },
   {
    "duration": 0,
    "start_time": "2022-12-12T18:33:06.717Z"
   },
   {
    "duration": 0,
    "start_time": "2022-12-12T18:33:06.719Z"
   },
   {
    "duration": 0,
    "start_time": "2022-12-12T18:33:06.720Z"
   },
   {
    "duration": 0,
    "start_time": "2022-12-12T18:33:06.721Z"
   },
   {
    "duration": 0,
    "start_time": "2022-12-12T18:33:06.723Z"
   },
   {
    "duration": 0,
    "start_time": "2022-12-12T18:33:06.725Z"
   },
   {
    "duration": 7,
    "start_time": "2022-12-12T18:33:12.922Z"
   },
   {
    "duration": 13,
    "start_time": "2022-12-12T18:33:21.482Z"
   },
   {
    "duration": 56,
    "start_time": "2022-12-12T18:33:29.030Z"
   },
   {
    "duration": 21,
    "start_time": "2022-12-12T18:33:29.088Z"
   },
   {
    "duration": 19,
    "start_time": "2022-12-12T18:33:29.111Z"
   },
   {
    "duration": 11,
    "start_time": "2022-12-12T18:33:29.132Z"
   },
   {
    "duration": 8,
    "start_time": "2022-12-12T18:33:29.145Z"
   },
   {
    "duration": 13,
    "start_time": "2022-12-12T18:33:29.154Z"
   },
   {
    "duration": 13,
    "start_time": "2022-12-12T18:33:29.168Z"
   },
   {
    "duration": 0,
    "start_time": "2022-12-12T18:33:29.205Z"
   },
   {
    "duration": 0,
    "start_time": "2022-12-12T18:33:29.207Z"
   },
   {
    "duration": 0,
    "start_time": "2022-12-12T18:33:29.208Z"
   },
   {
    "duration": 0,
    "start_time": "2022-12-12T18:33:29.209Z"
   },
   {
    "duration": 0,
    "start_time": "2022-12-12T18:33:29.210Z"
   },
   {
    "duration": 0,
    "start_time": "2022-12-12T18:33:29.211Z"
   },
   {
    "duration": 0,
    "start_time": "2022-12-12T18:33:29.213Z"
   },
   {
    "duration": 0,
    "start_time": "2022-12-12T18:33:29.214Z"
   },
   {
    "duration": 0,
    "start_time": "2022-12-12T18:33:29.215Z"
   },
   {
    "duration": 0,
    "start_time": "2022-12-12T18:33:29.216Z"
   },
   {
    "duration": 0,
    "start_time": "2022-12-12T18:33:29.218Z"
   },
   {
    "duration": 0,
    "start_time": "2022-12-12T18:33:29.219Z"
   },
   {
    "duration": 0,
    "start_time": "2022-12-12T18:33:29.219Z"
   },
   {
    "duration": 0,
    "start_time": "2022-12-12T18:33:29.221Z"
   },
   {
    "duration": 0,
    "start_time": "2022-12-12T18:33:29.222Z"
   },
   {
    "duration": 0,
    "start_time": "2022-12-12T18:33:29.223Z"
   },
   {
    "duration": 0,
    "start_time": "2022-12-12T18:33:29.224Z"
   },
   {
    "duration": 0,
    "start_time": "2022-12-12T18:33:29.225Z"
   },
   {
    "duration": 0,
    "start_time": "2022-12-12T18:33:29.227Z"
   },
   {
    "duration": 0,
    "start_time": "2022-12-12T18:33:29.228Z"
   },
   {
    "duration": 0,
    "start_time": "2022-12-12T18:33:29.229Z"
   },
   {
    "duration": 0,
    "start_time": "2022-12-12T18:33:29.230Z"
   },
   {
    "duration": 1187,
    "start_time": "2022-12-12T18:33:39.694Z"
   },
   {
    "duration": 20,
    "start_time": "2022-12-12T18:33:54.128Z"
   },
   {
    "duration": 1082,
    "start_time": "2022-12-12T18:34:01.195Z"
   },
   {
    "duration": 86,
    "start_time": "2022-12-12T18:34:56.539Z"
   },
   {
    "duration": 88,
    "start_time": "2022-12-12T18:35:15.829Z"
   },
   {
    "duration": 84,
    "start_time": "2022-12-12T18:35:20.898Z"
   },
   {
    "duration": 83,
    "start_time": "2022-12-12T18:35:27.910Z"
   },
   {
    "duration": 124,
    "start_time": "2022-12-12T18:35:40.342Z"
   },
   {
    "duration": 76,
    "start_time": "2022-12-12T18:35:50.297Z"
   },
   {
    "duration": 72,
    "start_time": "2022-12-12T18:40:25.025Z"
   },
   {
    "duration": 74,
    "start_time": "2022-12-12T18:43:00.670Z"
   },
   {
    "duration": 68,
    "start_time": "2022-12-12T18:43:01.105Z"
   },
   {
    "duration": 68,
    "start_time": "2022-12-12T18:44:33.403Z"
   },
   {
    "duration": 54,
    "start_time": "2022-12-12T18:45:13.301Z"
   },
   {
    "duration": 18,
    "start_time": "2022-12-12T18:45:13.357Z"
   },
   {
    "duration": 14,
    "start_time": "2022-12-12T18:45:13.376Z"
   },
   {
    "duration": 13,
    "start_time": "2022-12-12T18:45:13.392Z"
   },
   {
    "duration": 4,
    "start_time": "2022-12-12T18:45:13.407Z"
   },
   {
    "duration": 10,
    "start_time": "2022-12-12T18:45:13.412Z"
   },
   {
    "duration": 12,
    "start_time": "2022-12-12T18:45:13.423Z"
   },
   {
    "duration": 0,
    "start_time": "2022-12-12T18:45:13.437Z"
   },
   {
    "duration": 0,
    "start_time": "2022-12-12T18:45:13.438Z"
   },
   {
    "duration": 0,
    "start_time": "2022-12-12T18:45:13.439Z"
   },
   {
    "duration": 0,
    "start_time": "2022-12-12T18:45:13.440Z"
   },
   {
    "duration": 0,
    "start_time": "2022-12-12T18:45:13.441Z"
   },
   {
    "duration": 0,
    "start_time": "2022-12-12T18:45:13.442Z"
   },
   {
    "duration": 0,
    "start_time": "2022-12-12T18:45:13.444Z"
   },
   {
    "duration": 0,
    "start_time": "2022-12-12T18:45:13.445Z"
   },
   {
    "duration": 0,
    "start_time": "2022-12-12T18:45:13.445Z"
   },
   {
    "duration": 0,
    "start_time": "2022-12-12T18:45:13.446Z"
   },
   {
    "duration": 0,
    "start_time": "2022-12-12T18:45:13.447Z"
   },
   {
    "duration": 0,
    "start_time": "2022-12-12T18:45:13.448Z"
   },
   {
    "duration": 0,
    "start_time": "2022-12-12T18:45:13.449Z"
   },
   {
    "duration": 0,
    "start_time": "2022-12-12T18:45:13.450Z"
   },
   {
    "duration": 0,
    "start_time": "2022-12-12T18:45:13.451Z"
   },
   {
    "duration": 0,
    "start_time": "2022-12-12T18:45:13.452Z"
   },
   {
    "duration": 0,
    "start_time": "2022-12-12T18:45:13.453Z"
   },
   {
    "duration": 0,
    "start_time": "2022-12-12T18:45:13.454Z"
   },
   {
    "duration": 0,
    "start_time": "2022-12-12T18:45:13.455Z"
   },
   {
    "duration": 0,
    "start_time": "2022-12-12T18:45:13.505Z"
   },
   {
    "duration": 0,
    "start_time": "2022-12-12T18:45:13.506Z"
   },
   {
    "duration": 0,
    "start_time": "2022-12-12T18:45:13.507Z"
   },
   {
    "duration": 21,
    "start_time": "2022-12-12T18:48:54.997Z"
   },
   {
    "duration": 15,
    "start_time": "2022-12-12T18:49:33.711Z"
   },
   {
    "duration": 13,
    "start_time": "2022-12-12T18:49:39.721Z"
   },
   {
    "duration": 12,
    "start_time": "2022-12-12T18:49:42.076Z"
   },
   {
    "duration": 51,
    "start_time": "2022-12-12T18:49:54.217Z"
   },
   {
    "duration": 18,
    "start_time": "2022-12-12T18:49:54.270Z"
   },
   {
    "duration": 23,
    "start_time": "2022-12-12T18:49:54.289Z"
   },
   {
    "duration": 14,
    "start_time": "2022-12-12T18:49:54.314Z"
   },
   {
    "duration": 8,
    "start_time": "2022-12-12T18:49:54.329Z"
   },
   {
    "duration": 22,
    "start_time": "2022-12-12T18:49:54.338Z"
   },
   {
    "duration": 12,
    "start_time": "2022-12-12T18:49:54.361Z"
   },
   {
    "duration": 0,
    "start_time": "2022-12-12T18:49:54.375Z"
   },
   {
    "duration": 0,
    "start_time": "2022-12-12T18:49:54.376Z"
   },
   {
    "duration": 0,
    "start_time": "2022-12-12T18:49:54.377Z"
   },
   {
    "duration": 0,
    "start_time": "2022-12-12T18:49:54.378Z"
   },
   {
    "duration": 0,
    "start_time": "2022-12-12T18:49:54.379Z"
   },
   {
    "duration": 0,
    "start_time": "2022-12-12T18:49:54.381Z"
   },
   {
    "duration": 0,
    "start_time": "2022-12-12T18:49:54.382Z"
   },
   {
    "duration": 0,
    "start_time": "2022-12-12T18:49:54.383Z"
   },
   {
    "duration": 0,
    "start_time": "2022-12-12T18:49:54.385Z"
   },
   {
    "duration": 0,
    "start_time": "2022-12-12T18:49:54.386Z"
   },
   {
    "duration": 0,
    "start_time": "2022-12-12T18:49:54.387Z"
   },
   {
    "duration": 0,
    "start_time": "2022-12-12T18:49:54.404Z"
   },
   {
    "duration": 0,
    "start_time": "2022-12-12T18:49:54.405Z"
   },
   {
    "duration": 0,
    "start_time": "2022-12-12T18:49:54.406Z"
   },
   {
    "duration": 0,
    "start_time": "2022-12-12T18:49:54.407Z"
   },
   {
    "duration": 0,
    "start_time": "2022-12-12T18:49:54.409Z"
   },
   {
    "duration": 0,
    "start_time": "2022-12-12T18:49:54.410Z"
   },
   {
    "duration": 0,
    "start_time": "2022-12-12T18:49:54.411Z"
   },
   {
    "duration": 0,
    "start_time": "2022-12-12T18:49:54.412Z"
   },
   {
    "duration": 0,
    "start_time": "2022-12-12T18:49:54.413Z"
   },
   {
    "duration": 0,
    "start_time": "2022-12-12T18:49:54.414Z"
   },
   {
    "duration": 0,
    "start_time": "2022-12-12T18:49:54.415Z"
   },
   {
    "duration": 0,
    "start_time": "2022-12-12T18:49:54.416Z"
   },
   {
    "duration": 13,
    "start_time": "2022-12-12T18:49:59.450Z"
   },
   {
    "duration": 15,
    "start_time": "2022-12-12T18:50:10.790Z"
   },
   {
    "duration": 14,
    "start_time": "2022-12-12T18:50:19.487Z"
   },
   {
    "duration": 13,
    "start_time": "2022-12-12T18:50:41.908Z"
   },
   {
    "duration": 78,
    "start_time": "2022-12-12T18:50:59.294Z"
   },
   {
    "duration": 77,
    "start_time": "2022-12-12T18:51:10.576Z"
   },
   {
    "duration": 83,
    "start_time": "2022-12-12T18:51:21.632Z"
   },
   {
    "duration": 86,
    "start_time": "2022-12-12T18:51:36.469Z"
   },
   {
    "duration": 5,
    "start_time": "2022-12-12T18:52:39.204Z"
   },
   {
    "duration": 7,
    "start_time": "2022-12-12T18:54:59.390Z"
   },
   {
    "duration": 8,
    "start_time": "2022-12-12T18:55:38.174Z"
   },
   {
    "duration": 8,
    "start_time": "2022-12-12T18:55:42.941Z"
   },
   {
    "duration": 6,
    "start_time": "2022-12-12T18:56:07.885Z"
   },
   {
    "duration": 9,
    "start_time": "2022-12-12T18:56:15.613Z"
   },
   {
    "duration": 10,
    "start_time": "2022-12-12T18:56:31.468Z"
   },
   {
    "duration": 9,
    "start_time": "2022-12-12T18:56:39.374Z"
   },
   {
    "duration": 128,
    "start_time": "2022-12-12T18:56:57.991Z"
   },
   {
    "duration": 151,
    "start_time": "2022-12-12T18:57:29.280Z"
   },
   {
    "duration": 137,
    "start_time": "2022-12-12T18:57:46.407Z"
   },
   {
    "duration": 134,
    "start_time": "2022-12-12T18:57:53.300Z"
   },
   {
    "duration": 134,
    "start_time": "2022-12-12T18:58:03.425Z"
   },
   {
    "duration": 190,
    "start_time": "2022-12-12T19:02:17.984Z"
   },
   {
    "duration": 13,
    "start_time": "2022-12-12T19:02:47.657Z"
   },
   {
    "duration": 153,
    "start_time": "2022-12-12T19:02:53.082Z"
   },
   {
    "duration": 138,
    "start_time": "2022-12-12T19:03:01.644Z"
   },
   {
    "duration": 1125,
    "start_time": "2022-12-12T19:03:48.049Z"
   },
   {
    "duration": 141,
    "start_time": "2022-12-12T19:04:06.551Z"
   },
   {
    "duration": 1255,
    "start_time": "2022-12-12T19:04:14.954Z"
   },
   {
    "duration": 12,
    "start_time": "2022-12-12T19:04:23.295Z"
   },
   {
    "duration": 9,
    "start_time": "2022-12-12T19:04:37.160Z"
   },
   {
    "duration": 124,
    "start_time": "2022-12-12T19:04:40.202Z"
   },
   {
    "duration": 220,
    "start_time": "2022-12-12T19:05:37.384Z"
   },
   {
    "duration": 1118,
    "start_time": "2022-12-12T19:11:28.418Z"
   },
   {
    "duration": 161,
    "start_time": "2022-12-12T19:11:44.792Z"
   },
   {
    "duration": 217,
    "start_time": "2022-12-12T19:15:37.430Z"
   },
   {
    "duration": 175,
    "start_time": "2022-12-12T19:16:07.286Z"
   },
   {
    "duration": 173,
    "start_time": "2022-12-12T19:16:19.090Z"
   },
   {
    "duration": 234,
    "start_time": "2022-12-12T19:16:32.455Z"
   },
   {
    "duration": 171,
    "start_time": "2022-12-12T19:17:03.344Z"
   },
   {
    "duration": 186,
    "start_time": "2022-12-12T19:18:05.076Z"
   },
   {
    "duration": 13,
    "start_time": "2022-12-12T19:28:06.428Z"
   },
   {
    "duration": 52,
    "start_time": "2022-12-12T19:28:34.877Z"
   },
   {
    "duration": 16,
    "start_time": "2022-12-12T19:28:43.249Z"
   },
   {
    "duration": 10,
    "start_time": "2022-12-12T19:30:38.636Z"
   },
   {
    "duration": 10,
    "start_time": "2022-12-12T19:31:36.964Z"
   },
   {
    "duration": 11,
    "start_time": "2022-12-12T19:31:41.309Z"
   },
   {
    "duration": 10,
    "start_time": "2022-12-12T19:32:07.791Z"
   },
   {
    "duration": 288,
    "start_time": "2022-12-12T19:35:18.254Z"
   },
   {
    "duration": 278,
    "start_time": "2022-12-12T19:36:42.508Z"
   },
   {
    "duration": 614,
    "start_time": "2022-12-12T19:37:23.134Z"
   },
   {
    "duration": 795,
    "start_time": "2022-12-12T19:38:11.319Z"
   },
   {
    "duration": 19,
    "start_time": "2022-12-12T19:39:32.425Z"
   },
   {
    "duration": 11,
    "start_time": "2022-12-12T19:40:01.896Z"
   },
   {
    "duration": 11,
    "start_time": "2022-12-12T19:40:05.350Z"
   },
   {
    "duration": 9,
    "start_time": "2022-12-12T19:40:07.744Z"
   },
   {
    "duration": 1143,
    "start_time": "2022-12-12T19:41:18.618Z"
   },
   {
    "duration": 11,
    "start_time": "2022-12-12T19:41:53.333Z"
   },
   {
    "duration": 8,
    "start_time": "2022-12-12T19:42:38.894Z"
   },
   {
    "duration": 8,
    "start_time": "2022-12-12T19:42:47.104Z"
   },
   {
    "duration": 4,
    "start_time": "2022-12-12T19:43:29.939Z"
   },
   {
    "duration": 4,
    "start_time": "2022-12-12T19:43:50.777Z"
   },
   {
    "duration": 4,
    "start_time": "2022-12-12T19:43:52.455Z"
   },
   {
    "duration": 11,
    "start_time": "2022-12-12T19:44:23.745Z"
   },
   {
    "duration": 74,
    "start_time": "2022-12-12T19:45:07.423Z"
   },
   {
    "duration": 73,
    "start_time": "2022-12-12T19:45:16.842Z"
   },
   {
    "duration": 1084,
    "start_time": "2022-12-12T19:45:24.367Z"
   },
   {
    "duration": 10,
    "start_time": "2022-12-12T19:45:35.899Z"
   },
   {
    "duration": 70,
    "start_time": "2022-12-12T19:45:42.757Z"
   },
   {
    "duration": 9,
    "start_time": "2022-12-12T19:45:59.064Z"
   },
   {
    "duration": 67,
    "start_time": "2022-12-12T19:49:10.127Z"
   },
   {
    "duration": 73,
    "start_time": "2022-12-12T19:49:38.956Z"
   },
   {
    "duration": 79,
    "start_time": "2022-12-12T19:50:02.436Z"
   },
   {
    "duration": 71,
    "start_time": "2022-12-12T19:50:21.716Z"
   },
   {
    "duration": 1175,
    "start_time": "2022-12-12T19:50:47.279Z"
   },
   {
    "duration": 1139,
    "start_time": "2022-12-12T19:50:55.247Z"
   },
   {
    "duration": 1115,
    "start_time": "2022-12-12T19:51:19.985Z"
   },
   {
    "duration": 1097,
    "start_time": "2022-12-12T19:51:38.742Z"
   },
   {
    "duration": 1097,
    "start_time": "2022-12-12T19:52:06.562Z"
   },
   {
    "duration": 7,
    "start_time": "2022-12-12T19:53:15.436Z"
   },
   {
    "duration": 8,
    "start_time": "2022-12-12T19:53:28.595Z"
   },
   {
    "duration": 8,
    "start_time": "2022-12-12T19:53:34.726Z"
   },
   {
    "duration": 8,
    "start_time": "2022-12-12T19:53:53.154Z"
   },
   {
    "duration": 20,
    "start_time": "2022-12-12T19:54:08.224Z"
   },
   {
    "duration": 14,
    "start_time": "2022-12-12T19:54:14.084Z"
   },
   {
    "duration": 13,
    "start_time": "2022-12-12T19:54:27.399Z"
   },
   {
    "duration": 8,
    "start_time": "2022-12-12T19:55:30.209Z"
   },
   {
    "duration": 11,
    "start_time": "2022-12-12T19:55:47.926Z"
   },
   {
    "duration": 12,
    "start_time": "2022-12-12T19:56:07.353Z"
   },
   {
    "duration": 9,
    "start_time": "2022-12-12T19:56:30.749Z"
   },
   {
    "duration": 1111,
    "start_time": "2022-12-12T19:56:31.450Z"
   },
   {
    "duration": 1055,
    "start_time": "2022-12-12T19:56:39.240Z"
   },
   {
    "duration": 51,
    "start_time": "2022-12-12T19:57:08.460Z"
   },
   {
    "duration": 18,
    "start_time": "2022-12-12T19:57:08.513Z"
   },
   {
    "duration": 17,
    "start_time": "2022-12-12T19:57:08.532Z"
   },
   {
    "duration": 10,
    "start_time": "2022-12-12T19:57:08.550Z"
   },
   {
    "duration": 6,
    "start_time": "2022-12-12T19:57:08.562Z"
   },
   {
    "duration": 37,
    "start_time": "2022-12-12T19:57:08.570Z"
   },
   {
    "duration": 12,
    "start_time": "2022-12-12T19:57:08.609Z"
   },
   {
    "duration": 0,
    "start_time": "2022-12-12T19:57:08.623Z"
   },
   {
    "duration": 0,
    "start_time": "2022-12-12T19:57:08.624Z"
   },
   {
    "duration": 0,
    "start_time": "2022-12-12T19:57:08.626Z"
   },
   {
    "duration": 0,
    "start_time": "2022-12-12T19:57:08.627Z"
   },
   {
    "duration": 0,
    "start_time": "2022-12-12T19:57:08.628Z"
   },
   {
    "duration": 0,
    "start_time": "2022-12-12T19:57:08.630Z"
   },
   {
    "duration": 0,
    "start_time": "2022-12-12T19:57:08.631Z"
   },
   {
    "duration": 0,
    "start_time": "2022-12-12T19:57:08.632Z"
   },
   {
    "duration": 0,
    "start_time": "2022-12-12T19:57:08.633Z"
   },
   {
    "duration": 0,
    "start_time": "2022-12-12T19:57:08.635Z"
   },
   {
    "duration": 0,
    "start_time": "2022-12-12T19:57:08.636Z"
   },
   {
    "duration": 0,
    "start_time": "2022-12-12T19:57:08.637Z"
   },
   {
    "duration": 0,
    "start_time": "2022-12-12T19:57:08.639Z"
   },
   {
    "duration": 0,
    "start_time": "2022-12-12T19:57:08.640Z"
   },
   {
    "duration": 0,
    "start_time": "2022-12-12T19:57:08.642Z"
   },
   {
    "duration": 0,
    "start_time": "2022-12-12T19:57:08.643Z"
   },
   {
    "duration": 0,
    "start_time": "2022-12-12T19:57:08.644Z"
   },
   {
    "duration": 0,
    "start_time": "2022-12-12T19:57:08.645Z"
   },
   {
    "duration": 0,
    "start_time": "2022-12-12T19:57:08.647Z"
   },
   {
    "duration": 0,
    "start_time": "2022-12-12T19:57:08.648Z"
   },
   {
    "duration": 0,
    "start_time": "2022-12-12T19:57:08.649Z"
   },
   {
    "duration": 0,
    "start_time": "2022-12-12T19:57:08.651Z"
   },
   {
    "duration": 0,
    "start_time": "2022-12-12T19:57:08.652Z"
   },
   {
    "duration": 0,
    "start_time": "2022-12-12T19:57:08.704Z"
   },
   {
    "duration": 0,
    "start_time": "2022-12-12T19:57:08.705Z"
   },
   {
    "duration": 0,
    "start_time": "2022-12-12T19:57:08.706Z"
   },
   {
    "duration": 0,
    "start_time": "2022-12-12T19:57:08.707Z"
   },
   {
    "duration": 0,
    "start_time": "2022-12-12T19:57:08.708Z"
   },
   {
    "duration": 0,
    "start_time": "2022-12-12T19:57:08.709Z"
   },
   {
    "duration": 0,
    "start_time": "2022-12-12T19:57:08.710Z"
   },
   {
    "duration": 9,
    "start_time": "2022-12-12T19:57:37.316Z"
   },
   {
    "duration": 52,
    "start_time": "2022-12-12T19:57:48.514Z"
   },
   {
    "duration": 19,
    "start_time": "2022-12-12T19:57:49.427Z"
   },
   {
    "duration": 12,
    "start_time": "2022-12-12T19:57:49.750Z"
   },
   {
    "duration": 11,
    "start_time": "2022-12-12T19:57:50.893Z"
   },
   {
    "duration": 5,
    "start_time": "2022-12-12T19:57:51.881Z"
   },
   {
    "duration": 9,
    "start_time": "2022-12-12T19:57:52.237Z"
   },
   {
    "duration": 12,
    "start_time": "2022-12-12T19:57:52.409Z"
   },
   {
    "duration": 10,
    "start_time": "2022-12-12T19:57:52.811Z"
   },
   {
    "duration": 14,
    "start_time": "2022-12-12T19:57:56.548Z"
   },
   {
    "duration": 22,
    "start_time": "2022-12-12T19:57:56.846Z"
   },
   {
    "duration": 16,
    "start_time": "2022-12-12T19:57:58.006Z"
   },
   {
    "duration": 13,
    "start_time": "2022-12-12T19:57:59.128Z"
   },
   {
    "duration": 156,
    "start_time": "2022-12-12T19:57:59.681Z"
   },
   {
    "duration": 12,
    "start_time": "2022-12-12T19:58:00.403Z"
   },
   {
    "duration": 126,
    "start_time": "2022-12-12T19:58:00.594Z"
   },
   {
    "duration": 136,
    "start_time": "2022-12-12T19:58:01.251Z"
   },
   {
    "duration": 115,
    "start_time": "2022-12-12T19:58:01.474Z"
   },
   {
    "duration": 118,
    "start_time": "2022-12-12T19:58:01.888Z"
   },
   {
    "duration": 138,
    "start_time": "2022-12-12T19:58:02.136Z"
   },
   {
    "duration": 124,
    "start_time": "2022-12-12T19:58:02.402Z"
   },
   {
    "duration": 13,
    "start_time": "2022-12-12T19:58:03.379Z"
   },
   {
    "duration": 128,
    "start_time": "2022-12-12T19:58:03.629Z"
   },
   {
    "duration": 114,
    "start_time": "2022-12-12T19:58:03.867Z"
   },
   {
    "duration": 135,
    "start_time": "2022-12-12T19:58:04.190Z"
   },
   {
    "duration": 122,
    "start_time": "2022-12-12T19:58:04.534Z"
   },
   {
    "duration": 233,
    "start_time": "2022-12-12T19:58:04.708Z"
   },
   {
    "duration": 146,
    "start_time": "2022-12-12T19:58:04.943Z"
   },
   {
    "duration": 141,
    "start_time": "2022-12-12T19:58:05.092Z"
   },
   {
    "duration": 80,
    "start_time": "2022-12-12T19:58:05.877Z"
   },
   {
    "duration": 4,
    "start_time": "2022-12-12T19:58:07.250Z"
   },
   {
    "duration": 156,
    "start_time": "2022-12-12T19:58:07.564Z"
   },
   {
    "duration": 193,
    "start_time": "2022-12-12T19:58:08.076Z"
   },
   {
    "duration": 784,
    "start_time": "2022-12-12T19:58:09.731Z"
   },
   {
    "duration": 10,
    "start_time": "2022-12-12T19:58:10.811Z"
   },
   {
    "duration": 4,
    "start_time": "2022-12-12T19:58:12.797Z"
   },
   {
    "duration": 4,
    "start_time": "2022-12-12T19:58:13.324Z"
   },
   {
    "duration": 4,
    "start_time": "2022-12-12T19:58:13.713Z"
   },
   {
    "duration": 10,
    "start_time": "2022-12-12T19:58:35.889Z"
   },
   {
    "duration": 9,
    "start_time": "2022-12-12T19:58:43.115Z"
   },
   {
    "duration": 10,
    "start_time": "2022-12-12T19:58:58.033Z"
   },
   {
    "duration": 71,
    "start_time": "2022-12-12T20:08:32.632Z"
   },
   {
    "duration": 1077,
    "start_time": "2022-12-12T20:14:54.596Z"
   },
   {
    "duration": 161,
    "start_time": "2022-12-12T20:15:06.343Z"
   },
   {
    "duration": 160,
    "start_time": "2022-12-12T20:15:43.005Z"
   },
   {
    "duration": 155,
    "start_time": "2022-12-12T20:16:06.987Z"
   },
   {
    "duration": 87,
    "start_time": "2022-12-12T20:26:29.511Z"
   },
   {
    "duration": 446,
    "start_time": "2022-12-13T18:06:41.451Z"
   },
   {
    "duration": 29,
    "start_time": "2022-12-13T18:06:41.899Z"
   },
   {
    "duration": 14,
    "start_time": "2022-12-13T18:06:41.930Z"
   },
   {
    "duration": 10,
    "start_time": "2022-12-13T18:06:41.946Z"
   },
   {
    "duration": 11,
    "start_time": "2022-12-13T18:06:41.958Z"
   },
   {
    "duration": 10,
    "start_time": "2022-12-13T18:06:41.970Z"
   },
   {
    "duration": 98,
    "start_time": "2022-12-13T18:06:41.982Z"
   },
   {
    "duration": 0,
    "start_time": "2022-12-13T18:06:42.082Z"
   },
   {
    "duration": 0,
    "start_time": "2022-12-13T18:06:42.085Z"
   },
   {
    "duration": 0,
    "start_time": "2022-12-13T18:06:42.086Z"
   },
   {
    "duration": 0,
    "start_time": "2022-12-13T18:06:42.086Z"
   },
   {
    "duration": 0,
    "start_time": "2022-12-13T18:06:42.087Z"
   },
   {
    "duration": 0,
    "start_time": "2022-12-13T18:06:42.088Z"
   },
   {
    "duration": 0,
    "start_time": "2022-12-13T18:06:42.089Z"
   },
   {
    "duration": 0,
    "start_time": "2022-12-13T18:06:42.090Z"
   },
   {
    "duration": 0,
    "start_time": "2022-12-13T18:06:42.091Z"
   },
   {
    "duration": 0,
    "start_time": "2022-12-13T18:06:42.092Z"
   },
   {
    "duration": 0,
    "start_time": "2022-12-13T18:06:42.093Z"
   },
   {
    "duration": 0,
    "start_time": "2022-12-13T18:06:42.094Z"
   },
   {
    "duration": 0,
    "start_time": "2022-12-13T18:06:42.095Z"
   },
   {
    "duration": 0,
    "start_time": "2022-12-13T18:06:42.096Z"
   },
   {
    "duration": 0,
    "start_time": "2022-12-13T18:06:42.113Z"
   },
   {
    "duration": 0,
    "start_time": "2022-12-13T18:06:42.114Z"
   },
   {
    "duration": 0,
    "start_time": "2022-12-13T18:06:42.115Z"
   },
   {
    "duration": 0,
    "start_time": "2022-12-13T18:06:42.116Z"
   },
   {
    "duration": 0,
    "start_time": "2022-12-13T18:06:42.117Z"
   },
   {
    "duration": 0,
    "start_time": "2022-12-13T18:06:42.118Z"
   },
   {
    "duration": 0,
    "start_time": "2022-12-13T18:06:42.119Z"
   },
   {
    "duration": 9,
    "start_time": "2022-12-13T18:06:56.703Z"
   },
   {
    "duration": 291,
    "start_time": "2022-12-13T18:06:57.416Z"
   },
   {
    "duration": 23,
    "start_time": "2022-12-13T18:06:58.023Z"
   },
   {
    "duration": 17,
    "start_time": "2022-12-13T18:06:58.871Z"
   },
   {
    "duration": 14,
    "start_time": "2022-12-13T18:06:59.679Z"
   },
   {
    "duration": 176,
    "start_time": "2022-12-13T18:06:59.898Z"
   },
   {
    "duration": 14,
    "start_time": "2022-12-13T18:07:00.723Z"
   },
   {
    "duration": 138,
    "start_time": "2022-12-13T18:07:00.961Z"
   },
   {
    "duration": 142,
    "start_time": "2022-12-13T18:07:01.590Z"
   },
   {
    "duration": 195,
    "start_time": "2022-12-13T18:07:01.803Z"
   },
   {
    "duration": 137,
    "start_time": "2022-12-13T18:07:02.020Z"
   },
   {
    "duration": 152,
    "start_time": "2022-12-13T18:07:02.228Z"
   },
   {
    "duration": 128,
    "start_time": "2022-12-13T18:07:02.423Z"
   },
   {
    "duration": 14,
    "start_time": "2022-12-13T18:07:03.233Z"
   },
   {
    "duration": 141,
    "start_time": "2022-12-13T18:07:03.659Z"
   },
   {
    "duration": 130,
    "start_time": "2022-12-13T18:07:03.839Z"
   },
   {
    "duration": 151,
    "start_time": "2022-12-13T18:07:04.494Z"
   },
   {
    "duration": 160,
    "start_time": "2022-12-13T18:07:04.713Z"
   },
   {
    "duration": 173,
    "start_time": "2022-12-13T18:07:04.920Z"
   },
   {
    "duration": 150,
    "start_time": "2022-12-13T18:07:05.135Z"
   },
   {
    "duration": 154,
    "start_time": "2022-12-13T18:07:05.375Z"
   },
   {
    "duration": 158,
    "start_time": "2022-12-13T18:07:07.349Z"
   },
   {
    "duration": 22,
    "start_time": "2022-12-13T18:26:56.739Z"
   },
   {
    "duration": 12,
    "start_time": "2022-12-13T18:27:02.419Z"
   },
   {
    "duration": 866,
    "start_time": "2022-12-13T18:27:19.848Z"
   },
   {
    "duration": 3,
    "start_time": "2022-12-13T18:28:54.945Z"
   },
   {
    "duration": 43,
    "start_time": "2022-12-14T09:56:36.274Z"
   },
   {
    "duration": 639,
    "start_time": "2022-12-14T09:56:41.318Z"
   },
   {
    "duration": 24,
    "start_time": "2022-12-14T09:56:41.959Z"
   },
   {
    "duration": 17,
    "start_time": "2022-12-14T09:56:41.985Z"
   },
   {
    "duration": 8,
    "start_time": "2022-12-14T09:56:42.004Z"
   },
   {
    "duration": 433,
    "start_time": "2022-12-14T10:07:21.956Z"
   },
   {
    "duration": 55,
    "start_time": "2022-12-14T10:07:29.392Z"
   },
   {
    "duration": 20,
    "start_time": "2022-12-14T10:07:29.449Z"
   },
   {
    "duration": 14,
    "start_time": "2022-12-14T10:07:29.471Z"
   },
   {
    "duration": 8,
    "start_time": "2022-12-14T10:07:29.486Z"
   },
   {
    "duration": 30,
    "start_time": "2022-12-14T10:07:29.497Z"
   },
   {
    "duration": 11,
    "start_time": "2022-12-14T10:07:29.529Z"
   },
   {
    "duration": 20,
    "start_time": "2022-12-14T10:07:29.543Z"
   },
   {
    "duration": 0,
    "start_time": "2022-12-14T10:07:29.565Z"
   },
   {
    "duration": 0,
    "start_time": "2022-12-14T10:07:29.567Z"
   },
   {
    "duration": 0,
    "start_time": "2022-12-14T10:07:29.568Z"
   },
   {
    "duration": 0,
    "start_time": "2022-12-14T10:07:29.569Z"
   },
   {
    "duration": 0,
    "start_time": "2022-12-14T10:07:29.570Z"
   },
   {
    "duration": 0,
    "start_time": "2022-12-14T10:07:29.572Z"
   },
   {
    "duration": 0,
    "start_time": "2022-12-14T10:07:29.573Z"
   },
   {
    "duration": 0,
    "start_time": "2022-12-14T10:07:29.574Z"
   },
   {
    "duration": 0,
    "start_time": "2022-12-14T10:07:29.575Z"
   },
   {
    "duration": 0,
    "start_time": "2022-12-14T10:07:29.576Z"
   },
   {
    "duration": 0,
    "start_time": "2022-12-14T10:07:29.577Z"
   },
   {
    "duration": 0,
    "start_time": "2022-12-14T10:07:29.577Z"
   },
   {
    "duration": 0,
    "start_time": "2022-12-14T10:07:29.578Z"
   },
   {
    "duration": 0,
    "start_time": "2022-12-14T10:07:29.579Z"
   },
   {
    "duration": 0,
    "start_time": "2022-12-14T10:07:29.580Z"
   },
   {
    "duration": 0,
    "start_time": "2022-12-14T10:07:29.581Z"
   },
   {
    "duration": 0,
    "start_time": "2022-12-14T10:07:29.582Z"
   },
   {
    "duration": 0,
    "start_time": "2022-12-14T10:07:29.583Z"
   },
   {
    "duration": 0,
    "start_time": "2022-12-14T10:07:29.584Z"
   },
   {
    "duration": 0,
    "start_time": "2022-12-14T10:07:29.585Z"
   },
   {
    "duration": 0,
    "start_time": "2022-12-14T10:07:29.586Z"
   },
   {
    "duration": 0,
    "start_time": "2022-12-14T10:07:29.626Z"
   },
   {
    "duration": 10,
    "start_time": "2022-12-14T10:07:38.226Z"
   },
   {
    "duration": 528,
    "start_time": "2022-12-14T10:07:49.443Z"
   },
   {
    "duration": 12,
    "start_time": "2022-12-14T10:07:56.530Z"
   },
   {
    "duration": 12,
    "start_time": "2022-12-14T10:08:03.271Z"
   },
   {
    "duration": 16,
    "start_time": "2022-12-14T10:08:26.869Z"
   },
   {
    "duration": 51,
    "start_time": "2022-12-14T10:08:32.528Z"
   },
   {
    "duration": 20,
    "start_time": "2022-12-14T10:08:32.581Z"
   },
   {
    "duration": 35,
    "start_time": "2022-12-14T10:08:32.602Z"
   },
   {
    "duration": 35,
    "start_time": "2022-12-14T10:08:32.639Z"
   },
   {
    "duration": 37,
    "start_time": "2022-12-14T10:08:32.677Z"
   },
   {
    "duration": 26,
    "start_time": "2022-12-14T10:08:32.716Z"
   },
   {
    "duration": 42,
    "start_time": "2022-12-14T10:08:32.744Z"
   },
   {
    "duration": 0,
    "start_time": "2022-12-14T10:08:32.789Z"
   },
   {
    "duration": 0,
    "start_time": "2022-12-14T10:08:32.791Z"
   },
   {
    "duration": 0,
    "start_time": "2022-12-14T10:08:32.793Z"
   },
   {
    "duration": 0,
    "start_time": "2022-12-14T10:08:32.794Z"
   },
   {
    "duration": 0,
    "start_time": "2022-12-14T10:08:32.795Z"
   },
   {
    "duration": 0,
    "start_time": "2022-12-14T10:08:32.796Z"
   },
   {
    "duration": 0,
    "start_time": "2022-12-14T10:08:32.798Z"
   },
   {
    "duration": 0,
    "start_time": "2022-12-14T10:08:32.799Z"
   },
   {
    "duration": 0,
    "start_time": "2022-12-14T10:08:32.800Z"
   },
   {
    "duration": 0,
    "start_time": "2022-12-14T10:08:32.802Z"
   },
   {
    "duration": 0,
    "start_time": "2022-12-14T10:08:32.803Z"
   },
   {
    "duration": 0,
    "start_time": "2022-12-14T10:08:32.804Z"
   },
   {
    "duration": 0,
    "start_time": "2022-12-14T10:08:32.805Z"
   },
   {
    "duration": 0,
    "start_time": "2022-12-14T10:08:32.807Z"
   },
   {
    "duration": 0,
    "start_time": "2022-12-14T10:08:32.808Z"
   },
   {
    "duration": 0,
    "start_time": "2022-12-14T10:08:32.809Z"
   },
   {
    "duration": 0,
    "start_time": "2022-12-14T10:08:32.810Z"
   },
   {
    "duration": 0,
    "start_time": "2022-12-14T10:08:32.812Z"
   },
   {
    "duration": 0,
    "start_time": "2022-12-14T10:08:32.813Z"
   },
   {
    "duration": 0,
    "start_time": "2022-12-14T10:08:32.826Z"
   },
   {
    "duration": 0,
    "start_time": "2022-12-14T10:08:32.827Z"
   },
   {
    "duration": 0,
    "start_time": "2022-12-14T10:08:32.828Z"
   },
   {
    "duration": 0,
    "start_time": "2022-12-14T10:08:32.829Z"
   },
   {
    "duration": 0,
    "start_time": "2022-12-14T10:08:32.830Z"
   },
   {
    "duration": 0,
    "start_time": "2022-12-14T10:08:32.831Z"
   },
   {
    "duration": 0,
    "start_time": "2022-12-14T10:08:32.832Z"
   },
   {
    "duration": 0,
    "start_time": "2022-12-14T10:08:32.833Z"
   },
   {
    "duration": 0,
    "start_time": "2022-12-14T10:08:32.834Z"
   },
   {
    "duration": 0,
    "start_time": "2022-12-14T10:08:32.835Z"
   },
   {
    "duration": 0,
    "start_time": "2022-12-14T10:08:32.836Z"
   },
   {
    "duration": 0,
    "start_time": "2022-12-14T10:08:32.837Z"
   },
   {
    "duration": 0,
    "start_time": "2022-12-14T10:08:32.838Z"
   },
   {
    "duration": 0,
    "start_time": "2022-12-14T10:08:32.839Z"
   },
   {
    "duration": 0,
    "start_time": "2022-12-14T10:08:32.840Z"
   },
   {
    "duration": 0,
    "start_time": "2022-12-14T10:08:32.841Z"
   },
   {
    "duration": 0,
    "start_time": "2022-12-14T10:08:32.842Z"
   },
   {
    "duration": 1120,
    "start_time": "2022-12-14T10:09:37.299Z"
   },
   {
    "duration": 14,
    "start_time": "2022-12-14T10:10:19.440Z"
   },
   {
    "duration": 24,
    "start_time": "2022-12-14T10:10:59.458Z"
   },
   {
    "duration": 14,
    "start_time": "2022-12-14T10:11:10.583Z"
   },
   {
    "duration": 15,
    "start_time": "2022-12-14T10:11:16.899Z"
   },
   {
    "duration": 368,
    "start_time": "2022-12-14T10:11:23.377Z"
   },
   {
    "duration": 287,
    "start_time": "2022-12-14T10:11:49.211Z"
   },
   {
    "duration": 1163,
    "start_time": "2022-12-14T10:16:06.166Z"
   },
   {
    "duration": 49,
    "start_time": "2022-12-14T10:16:24.636Z"
   },
   {
    "duration": 20,
    "start_time": "2022-12-14T10:16:24.687Z"
   },
   {
    "duration": 24,
    "start_time": "2022-12-14T10:16:24.708Z"
   },
   {
    "duration": 10,
    "start_time": "2022-12-14T10:16:24.734Z"
   },
   {
    "duration": 16,
    "start_time": "2022-12-14T10:16:24.746Z"
   },
   {
    "duration": 19,
    "start_time": "2022-12-14T10:16:24.763Z"
   },
   {
    "duration": 25,
    "start_time": "2022-12-14T10:16:24.783Z"
   },
   {
    "duration": 0,
    "start_time": "2022-12-14T10:16:24.882Z"
   },
   {
    "duration": 0,
    "start_time": "2022-12-14T10:16:24.884Z"
   },
   {
    "duration": 0,
    "start_time": "2022-12-14T10:16:24.885Z"
   },
   {
    "duration": 0,
    "start_time": "2022-12-14T10:16:24.885Z"
   },
   {
    "duration": 0,
    "start_time": "2022-12-14T10:16:24.887Z"
   },
   {
    "duration": 0,
    "start_time": "2022-12-14T10:16:24.888Z"
   },
   {
    "duration": 0,
    "start_time": "2022-12-14T10:16:24.889Z"
   },
   {
    "duration": 0,
    "start_time": "2022-12-14T10:16:24.890Z"
   },
   {
    "duration": 0,
    "start_time": "2022-12-14T10:16:24.892Z"
   },
   {
    "duration": 0,
    "start_time": "2022-12-14T10:16:24.892Z"
   },
   {
    "duration": 0,
    "start_time": "2022-12-14T10:16:24.893Z"
   },
   {
    "duration": 0,
    "start_time": "2022-12-14T10:16:24.894Z"
   },
   {
    "duration": 0,
    "start_time": "2022-12-14T10:16:24.895Z"
   },
   {
    "duration": 0,
    "start_time": "2022-12-14T10:16:24.896Z"
   },
   {
    "duration": 0,
    "start_time": "2022-12-14T10:16:24.897Z"
   },
   {
    "duration": 0,
    "start_time": "2022-12-14T10:16:24.898Z"
   },
   {
    "duration": 0,
    "start_time": "2022-12-14T10:16:24.899Z"
   },
   {
    "duration": 0,
    "start_time": "2022-12-14T10:16:24.926Z"
   },
   {
    "duration": 0,
    "start_time": "2022-12-14T10:16:24.928Z"
   },
   {
    "duration": 0,
    "start_time": "2022-12-14T10:16:24.929Z"
   },
   {
    "duration": 0,
    "start_time": "2022-12-14T10:16:24.930Z"
   },
   {
    "duration": 0,
    "start_time": "2022-12-14T10:16:24.931Z"
   },
   {
    "duration": 0,
    "start_time": "2022-12-14T10:16:24.932Z"
   },
   {
    "duration": 0,
    "start_time": "2022-12-14T10:16:24.933Z"
   },
   {
    "duration": 0,
    "start_time": "2022-12-14T10:16:24.935Z"
   },
   {
    "duration": 0,
    "start_time": "2022-12-14T10:16:24.936Z"
   },
   {
    "duration": 0,
    "start_time": "2022-12-14T10:16:24.937Z"
   },
   {
    "duration": 0,
    "start_time": "2022-12-14T10:16:24.938Z"
   },
   {
    "duration": 0,
    "start_time": "2022-12-14T10:16:24.939Z"
   },
   {
    "duration": 0,
    "start_time": "2022-12-14T10:16:24.940Z"
   },
   {
    "duration": 0,
    "start_time": "2022-12-14T10:16:24.941Z"
   },
   {
    "duration": 0,
    "start_time": "2022-12-14T10:16:24.942Z"
   },
   {
    "duration": 0,
    "start_time": "2022-12-14T10:16:24.943Z"
   },
   {
    "duration": 0,
    "start_time": "2022-12-14T10:16:24.944Z"
   },
   {
    "duration": 0,
    "start_time": "2022-12-14T10:16:24.945Z"
   },
   {
    "duration": 0,
    "start_time": "2022-12-14T10:16:24.946Z"
   },
   {
    "duration": 0,
    "start_time": "2022-12-14T10:16:24.947Z"
   },
   {
    "duration": 1138,
    "start_time": "2022-12-14T10:16:41.155Z"
   },
   {
    "duration": 9,
    "start_time": "2022-12-14T10:16:58.426Z"
   },
   {
    "duration": 1137,
    "start_time": "2022-12-14T10:17:05.319Z"
   },
   {
    "duration": 1196,
    "start_time": "2022-12-14T10:17:29.511Z"
   },
   {
    "duration": 6,
    "start_time": "2022-12-14T10:19:25.889Z"
   },
   {
    "duration": 5,
    "start_time": "2022-12-14T10:19:46.459Z"
   },
   {
    "duration": 5,
    "start_time": "2022-12-14T10:20:03.961Z"
   },
   {
    "duration": 6,
    "start_time": "2022-12-14T10:20:12.745Z"
   },
   {
    "duration": 5,
    "start_time": "2022-12-14T10:20:29.438Z"
   },
   {
    "duration": 5,
    "start_time": "2022-12-14T10:20:43.032Z"
   },
   {
    "duration": 6,
    "start_time": "2022-12-14T10:23:59.530Z"
   },
   {
    "duration": 5,
    "start_time": "2022-12-14T10:24:08.476Z"
   },
   {
    "duration": 9,
    "start_time": "2022-12-14T10:25:10.182Z"
   },
   {
    "duration": 12,
    "start_time": "2022-12-14T10:25:29.628Z"
   },
   {
    "duration": 15,
    "start_time": "2022-12-14T10:26:07.021Z"
   },
   {
    "duration": 14,
    "start_time": "2022-12-14T10:27:05.599Z"
   },
   {
    "duration": 18,
    "start_time": "2022-12-14T10:28:38.284Z"
   },
   {
    "duration": 20,
    "start_time": "2022-12-14T10:28:51.180Z"
   },
   {
    "duration": 19,
    "start_time": "2022-12-14T10:29:15.061Z"
   },
   {
    "duration": 67,
    "start_time": "2022-12-14T10:32:34.594Z"
   },
   {
    "duration": 34,
    "start_time": "2022-12-14T10:32:49.440Z"
   },
   {
    "duration": 9,
    "start_time": "2022-12-14T10:37:16.526Z"
   },
   {
    "duration": 114,
    "start_time": "2022-12-14T10:37:23.501Z"
   },
   {
    "duration": 10,
    "start_time": "2022-12-14T10:39:51.368Z"
   },
   {
    "duration": 4776,
    "start_time": "2022-12-14T10:40:10.311Z"
   },
   {
    "duration": 15,
    "start_time": "2022-12-14T10:40:35.345Z"
   },
   {
    "duration": 1326,
    "start_time": "2022-12-14T10:40:53.789Z"
   },
   {
    "duration": 15,
    "start_time": "2022-12-14T10:41:14.639Z"
   },
   {
    "duration": 133,
    "start_time": "2022-12-14T10:41:30.440Z"
   },
   {
    "duration": 13,
    "start_time": "2022-12-14T10:41:49.497Z"
   },
   {
    "duration": 129,
    "start_time": "2022-12-14T10:41:52.911Z"
   },
   {
    "duration": 130,
    "start_time": "2022-12-14T10:42:17.912Z"
   },
   {
    "duration": 128,
    "start_time": "2022-12-14T10:42:53.020Z"
   },
   {
    "duration": 128,
    "start_time": "2022-12-14T10:43:43.301Z"
   },
   {
    "duration": 250,
    "start_time": "2022-12-14T10:45:39.674Z"
   },
   {
    "duration": 258,
    "start_time": "2022-12-14T10:45:54.372Z"
   },
   {
    "duration": 70,
    "start_time": "2022-12-14T10:48:04.614Z"
   },
   {
    "duration": 7,
    "start_time": "2022-12-14T10:49:02.960Z"
   },
   {
    "duration": 135,
    "start_time": "2022-12-14T10:49:15.109Z"
   },
   {
    "duration": 148,
    "start_time": "2022-12-14T10:49:28.169Z"
   },
   {
    "duration": 138,
    "start_time": "2022-12-14T10:49:37.818Z"
   },
   {
    "duration": 228,
    "start_time": "2022-12-14T10:49:41.667Z"
   },
   {
    "duration": 4,
    "start_time": "2022-12-14T10:50:07.917Z"
   },
   {
    "duration": 8,
    "start_time": "2022-12-14T10:50:25.585Z"
   },
   {
    "duration": 7,
    "start_time": "2022-12-14T10:50:32.036Z"
   },
   {
    "duration": 146,
    "start_time": "2022-12-14T10:50:50.162Z"
   },
   {
    "duration": 50,
    "start_time": "2022-12-14T10:50:58.495Z"
   },
   {
    "duration": 18,
    "start_time": "2022-12-14T10:50:58.547Z"
   },
   {
    "duration": 67,
    "start_time": "2022-12-14T10:50:58.567Z"
   },
   {
    "duration": 48,
    "start_time": "2022-12-14T10:50:58.636Z"
   },
   {
    "duration": 50,
    "start_time": "2022-12-14T10:50:58.686Z"
   },
   {
    "duration": 38,
    "start_time": "2022-12-14T10:50:58.737Z"
   },
   {
    "duration": 50,
    "start_time": "2022-12-14T10:50:58.777Z"
   },
   {
    "duration": 0,
    "start_time": "2022-12-14T10:50:58.896Z"
   },
   {
    "duration": 0,
    "start_time": "2022-12-14T10:50:58.898Z"
   },
   {
    "duration": 0,
    "start_time": "2022-12-14T10:50:58.899Z"
   },
   {
    "duration": 0,
    "start_time": "2022-12-14T10:50:58.900Z"
   },
   {
    "duration": 0,
    "start_time": "2022-12-14T10:50:58.901Z"
   },
   {
    "duration": 0,
    "start_time": "2022-12-14T10:50:58.901Z"
   },
   {
    "duration": 0,
    "start_time": "2022-12-14T10:50:58.902Z"
   },
   {
    "duration": 0,
    "start_time": "2022-12-14T10:50:58.903Z"
   },
   {
    "duration": 0,
    "start_time": "2022-12-14T10:50:58.904Z"
   },
   {
    "duration": 0,
    "start_time": "2022-12-14T10:50:58.905Z"
   },
   {
    "duration": 0,
    "start_time": "2022-12-14T10:50:58.906Z"
   },
   {
    "duration": 0,
    "start_time": "2022-12-14T10:50:58.907Z"
   },
   {
    "duration": 0,
    "start_time": "2022-12-14T10:50:58.926Z"
   },
   {
    "duration": 0,
    "start_time": "2022-12-14T10:50:58.926Z"
   },
   {
    "duration": 0,
    "start_time": "2022-12-14T10:50:58.928Z"
   },
   {
    "duration": 0,
    "start_time": "2022-12-14T10:50:58.928Z"
   },
   {
    "duration": 0,
    "start_time": "2022-12-14T10:50:58.930Z"
   },
   {
    "duration": 0,
    "start_time": "2022-12-14T10:50:58.930Z"
   },
   {
    "duration": 0,
    "start_time": "2022-12-14T10:50:58.931Z"
   },
   {
    "duration": 0,
    "start_time": "2022-12-14T10:50:58.932Z"
   },
   {
    "duration": 0,
    "start_time": "2022-12-14T10:50:58.934Z"
   },
   {
    "duration": 0,
    "start_time": "2022-12-14T10:50:58.935Z"
   },
   {
    "duration": 0,
    "start_time": "2022-12-14T10:50:58.936Z"
   },
   {
    "duration": 0,
    "start_time": "2022-12-14T10:50:58.939Z"
   },
   {
    "duration": 0,
    "start_time": "2022-12-14T10:50:58.940Z"
   },
   {
    "duration": 0,
    "start_time": "2022-12-14T10:50:58.941Z"
   },
   {
    "duration": 0,
    "start_time": "2022-12-14T10:50:58.943Z"
   },
   {
    "duration": 0,
    "start_time": "2022-12-14T10:50:58.944Z"
   },
   {
    "duration": 0,
    "start_time": "2022-12-14T10:50:58.945Z"
   },
   {
    "duration": 0,
    "start_time": "2022-12-14T10:50:58.947Z"
   },
   {
    "duration": 0,
    "start_time": "2022-12-14T10:50:58.948Z"
   },
   {
    "duration": 0,
    "start_time": "2022-12-14T10:50:58.949Z"
   },
   {
    "duration": 0,
    "start_time": "2022-12-14T10:50:58.951Z"
   },
   {
    "duration": 0,
    "start_time": "2022-12-14T10:50:58.952Z"
   },
   {
    "duration": 0,
    "start_time": "2022-12-14T10:50:58.954Z"
   },
   {
    "duration": 0,
    "start_time": "2022-12-14T10:50:58.955Z"
   },
   {
    "duration": 0,
    "start_time": "2022-12-14T10:50:58.956Z"
   },
   {
    "duration": 0,
    "start_time": "2022-12-14T10:50:58.958Z"
   },
   {
    "duration": 0,
    "start_time": "2022-12-14T10:50:58.959Z"
   },
   {
    "duration": 0,
    "start_time": "2022-12-14T10:50:58.960Z"
   },
   {
    "duration": 0,
    "start_time": "2022-12-14T10:50:58.962Z"
   },
   {
    "duration": 0,
    "start_time": "2022-12-14T10:50:58.963Z"
   },
   {
    "duration": 4,
    "start_time": "2022-12-14T10:52:14.341Z"
   },
   {
    "duration": 8,
    "start_time": "2022-12-14T10:53:08.943Z"
   },
   {
    "duration": 5,
    "start_time": "2022-12-14T10:54:36.153Z"
   },
   {
    "duration": 1129,
    "start_time": "2022-12-14T10:54:42.630Z"
   },
   {
    "duration": 51,
    "start_time": "2022-12-14T10:54:52.171Z"
   },
   {
    "duration": 19,
    "start_time": "2022-12-14T10:54:52.224Z"
   },
   {
    "duration": 17,
    "start_time": "2022-12-14T10:54:52.245Z"
   },
   {
    "duration": 11,
    "start_time": "2022-12-14T10:54:52.265Z"
   },
   {
    "duration": 17,
    "start_time": "2022-12-14T10:54:52.277Z"
   },
   {
    "duration": 13,
    "start_time": "2022-12-14T10:54:52.296Z"
   },
   {
    "duration": 12,
    "start_time": "2022-12-14T10:54:52.326Z"
   },
   {
    "duration": 0,
    "start_time": "2022-12-14T10:54:52.340Z"
   },
   {
    "duration": 0,
    "start_time": "2022-12-14T10:54:52.341Z"
   },
   {
    "duration": 0,
    "start_time": "2022-12-14T10:54:52.342Z"
   },
   {
    "duration": 0,
    "start_time": "2022-12-14T10:54:52.343Z"
   },
   {
    "duration": 0,
    "start_time": "2022-12-14T10:54:52.344Z"
   },
   {
    "duration": 0,
    "start_time": "2022-12-14T10:54:52.345Z"
   },
   {
    "duration": 0,
    "start_time": "2022-12-14T10:54:52.346Z"
   },
   {
    "duration": 0,
    "start_time": "2022-12-14T10:54:52.347Z"
   },
   {
    "duration": 0,
    "start_time": "2022-12-14T10:54:52.348Z"
   },
   {
    "duration": 0,
    "start_time": "2022-12-14T10:54:52.349Z"
   },
   {
    "duration": 0,
    "start_time": "2022-12-14T10:54:52.351Z"
   },
   {
    "duration": 0,
    "start_time": "2022-12-14T10:54:52.352Z"
   },
   {
    "duration": 0,
    "start_time": "2022-12-14T10:54:52.353Z"
   },
   {
    "duration": 0,
    "start_time": "2022-12-14T10:54:52.354Z"
   },
   {
    "duration": 0,
    "start_time": "2022-12-14T10:54:52.355Z"
   },
   {
    "duration": 0,
    "start_time": "2022-12-14T10:54:52.356Z"
   },
   {
    "duration": 0,
    "start_time": "2022-12-14T10:54:52.357Z"
   },
   {
    "duration": 0,
    "start_time": "2022-12-14T10:54:52.358Z"
   },
   {
    "duration": 0,
    "start_time": "2022-12-14T10:54:52.359Z"
   },
   {
    "duration": 0,
    "start_time": "2022-12-14T10:54:52.360Z"
   },
   {
    "duration": 0,
    "start_time": "2022-12-14T10:54:52.361Z"
   },
   {
    "duration": 0,
    "start_time": "2022-12-14T10:54:52.362Z"
   },
   {
    "duration": 0,
    "start_time": "2022-12-14T10:54:52.363Z"
   },
   {
    "duration": 0,
    "start_time": "2022-12-14T10:54:52.364Z"
   },
   {
    "duration": 0,
    "start_time": "2022-12-14T10:54:52.365Z"
   },
   {
    "duration": 0,
    "start_time": "2022-12-14T10:54:52.366Z"
   },
   {
    "duration": 0,
    "start_time": "2022-12-14T10:54:52.367Z"
   },
   {
    "duration": 0,
    "start_time": "2022-12-14T10:54:52.368Z"
   },
   {
    "duration": 0,
    "start_time": "2022-12-14T10:54:52.369Z"
   },
   {
    "duration": 0,
    "start_time": "2022-12-14T10:54:52.370Z"
   },
   {
    "duration": 0,
    "start_time": "2022-12-14T10:54:52.371Z"
   },
   {
    "duration": 0,
    "start_time": "2022-12-14T10:54:52.372Z"
   },
   {
    "duration": 0,
    "start_time": "2022-12-14T10:54:52.426Z"
   },
   {
    "duration": 0,
    "start_time": "2022-12-14T10:54:52.427Z"
   },
   {
    "duration": 0,
    "start_time": "2022-12-14T10:54:52.429Z"
   },
   {
    "duration": 0,
    "start_time": "2022-12-14T10:54:52.430Z"
   },
   {
    "duration": 0,
    "start_time": "2022-12-14T10:54:52.431Z"
   },
   {
    "duration": 1,
    "start_time": "2022-12-14T10:54:52.431Z"
   },
   {
    "duration": 0,
    "start_time": "2022-12-14T10:54:52.432Z"
   },
   {
    "duration": 0,
    "start_time": "2022-12-14T10:54:52.433Z"
   },
   {
    "duration": 0,
    "start_time": "2022-12-14T10:54:52.434Z"
   },
   {
    "duration": 0,
    "start_time": "2022-12-14T10:54:52.435Z"
   },
   {
    "duration": 1170,
    "start_time": "2022-12-14T10:54:58.032Z"
   },
   {
    "duration": 16,
    "start_time": "2022-12-14T10:55:11.030Z"
   },
   {
    "duration": 143,
    "start_time": "2022-12-14T10:55:19.764Z"
   },
   {
    "duration": 4,
    "start_time": "2022-12-14T10:55:40.118Z"
   },
   {
    "duration": 4,
    "start_time": "2022-12-14T10:56:16.339Z"
   },
   {
    "duration": 4,
    "start_time": "2022-12-14T10:57:08.986Z"
   },
   {
    "duration": 4,
    "start_time": "2022-12-14T10:58:24.098Z"
   },
   {
    "duration": 4,
    "start_time": "2022-12-14T10:58:34.605Z"
   },
   {
    "duration": 6,
    "start_time": "2022-12-14T10:58:44.531Z"
   },
   {
    "duration": 6,
    "start_time": "2022-12-14T10:58:53.195Z"
   },
   {
    "duration": 256,
    "start_time": "2022-12-14T10:59:00.201Z"
   },
   {
    "duration": 3,
    "start_time": "2022-12-14T10:59:26.681Z"
   },
   {
    "duration": 233,
    "start_time": "2022-12-14T10:59:29.679Z"
   },
   {
    "duration": 57,
    "start_time": "2022-12-14T10:59:39.683Z"
   },
   {
    "duration": 20,
    "start_time": "2022-12-14T10:59:39.742Z"
   },
   {
    "duration": 44,
    "start_time": "2022-12-14T10:59:39.764Z"
   },
   {
    "duration": 43,
    "start_time": "2022-12-14T10:59:39.810Z"
   },
   {
    "duration": 23,
    "start_time": "2022-12-14T10:59:39.854Z"
   },
   {
    "duration": 27,
    "start_time": "2022-12-14T10:59:39.879Z"
   },
   {
    "duration": 24,
    "start_time": "2022-12-14T10:59:39.908Z"
   },
   {
    "duration": 0,
    "start_time": "2022-12-14T10:59:39.935Z"
   },
   {
    "duration": 0,
    "start_time": "2022-12-14T10:59:39.936Z"
   },
   {
    "duration": 0,
    "start_time": "2022-12-14T10:59:39.937Z"
   },
   {
    "duration": 0,
    "start_time": "2022-12-14T10:59:39.938Z"
   },
   {
    "duration": 0,
    "start_time": "2022-12-14T10:59:39.939Z"
   },
   {
    "duration": 0,
    "start_time": "2022-12-14T10:59:39.940Z"
   },
   {
    "duration": 0,
    "start_time": "2022-12-14T10:59:39.941Z"
   },
   {
    "duration": 0,
    "start_time": "2022-12-14T10:59:39.942Z"
   },
   {
    "duration": 0,
    "start_time": "2022-12-14T10:59:39.943Z"
   },
   {
    "duration": 0,
    "start_time": "2022-12-14T10:59:39.945Z"
   },
   {
    "duration": 0,
    "start_time": "2022-12-14T10:59:39.946Z"
   },
   {
    "duration": 0,
    "start_time": "2022-12-14T10:59:39.946Z"
   },
   {
    "duration": 0,
    "start_time": "2022-12-14T10:59:39.948Z"
   },
   {
    "duration": 0,
    "start_time": "2022-12-14T10:59:39.949Z"
   },
   {
    "duration": 0,
    "start_time": "2022-12-14T10:59:39.950Z"
   },
   {
    "duration": 0,
    "start_time": "2022-12-14T10:59:39.951Z"
   },
   {
    "duration": 0,
    "start_time": "2022-12-14T10:59:39.952Z"
   },
   {
    "duration": 0,
    "start_time": "2022-12-14T10:59:39.953Z"
   },
   {
    "duration": 0,
    "start_time": "2022-12-14T10:59:39.954Z"
   },
   {
    "duration": 0,
    "start_time": "2022-12-14T10:59:39.955Z"
   },
   {
    "duration": 0,
    "start_time": "2022-12-14T10:59:39.956Z"
   },
   {
    "duration": 0,
    "start_time": "2022-12-14T10:59:39.957Z"
   },
   {
    "duration": 0,
    "start_time": "2022-12-14T10:59:39.958Z"
   },
   {
    "duration": 0,
    "start_time": "2022-12-14T10:59:39.959Z"
   },
   {
    "duration": 0,
    "start_time": "2022-12-14T10:59:39.960Z"
   },
   {
    "duration": 0,
    "start_time": "2022-12-14T10:59:39.961Z"
   },
   {
    "duration": 0,
    "start_time": "2022-12-14T10:59:39.962Z"
   },
   {
    "duration": 0,
    "start_time": "2022-12-14T10:59:39.963Z"
   },
   {
    "duration": 0,
    "start_time": "2022-12-14T10:59:39.964Z"
   },
   {
    "duration": 0,
    "start_time": "2022-12-14T10:59:39.965Z"
   },
   {
    "duration": 0,
    "start_time": "2022-12-14T10:59:39.966Z"
   },
   {
    "duration": 0,
    "start_time": "2022-12-14T10:59:39.968Z"
   },
   {
    "duration": 0,
    "start_time": "2022-12-14T10:59:39.969Z"
   },
   {
    "duration": 0,
    "start_time": "2022-12-14T10:59:39.969Z"
   },
   {
    "duration": 0,
    "start_time": "2022-12-14T10:59:39.970Z"
   },
   {
    "duration": 0,
    "start_time": "2022-12-14T10:59:39.971Z"
   },
   {
    "duration": 0,
    "start_time": "2022-12-14T10:59:39.972Z"
   },
   {
    "duration": 0,
    "start_time": "2022-12-14T10:59:40.027Z"
   },
   {
    "duration": 0,
    "start_time": "2022-12-14T10:59:40.028Z"
   },
   {
    "duration": 0,
    "start_time": "2022-12-14T10:59:40.029Z"
   },
   {
    "duration": 0,
    "start_time": "2022-12-14T10:59:40.030Z"
   },
   {
    "duration": 0,
    "start_time": "2022-12-14T10:59:40.031Z"
   },
   {
    "duration": 5,
    "start_time": "2022-12-14T11:00:19.375Z"
   },
   {
    "duration": 233,
    "start_time": "2022-12-14T11:00:23.389Z"
   },
   {
    "duration": 113,
    "start_time": "2022-12-14T11:01:57.514Z"
   },
   {
    "duration": 167,
    "start_time": "2022-12-14T11:04:03.860Z"
   },
   {
    "duration": 70,
    "start_time": "2022-12-14T11:07:34.235Z"
   },
   {
    "duration": 88,
    "start_time": "2022-12-14T11:07:43.009Z"
   },
   {
    "duration": 817,
    "start_time": "2022-12-14T11:08:23.457Z"
   },
   {
    "duration": 15,
    "start_time": "2022-12-14T11:08:29.842Z"
   },
   {
    "duration": 74,
    "start_time": "2022-12-14T11:08:45.354Z"
   },
   {
    "duration": 822,
    "start_time": "2022-12-14T11:09:53.736Z"
   },
   {
    "duration": 782,
    "start_time": "2022-12-14T11:10:08.314Z"
   },
   {
    "duration": 1144,
    "start_time": "2022-12-14T11:10:27.553Z"
   },
   {
    "duration": 954,
    "start_time": "2022-12-14T11:10:37.209Z"
   },
   {
    "duration": 838,
    "start_time": "2022-12-14T11:10:46.190Z"
   },
   {
    "duration": 852,
    "start_time": "2022-12-14T11:10:53.446Z"
   },
   {
    "duration": 808,
    "start_time": "2022-12-14T11:11:03.704Z"
   },
   {
    "duration": 781,
    "start_time": "2022-12-14T11:11:09.104Z"
   },
   {
    "duration": 991,
    "start_time": "2022-12-14T11:11:21.743Z"
   },
   {
    "duration": 894,
    "start_time": "2022-12-14T11:11:49.862Z"
   },
   {
    "duration": 967,
    "start_time": "2022-12-14T11:12:04.845Z"
   },
   {
    "duration": 1129,
    "start_time": "2022-12-14T11:19:40.825Z"
   },
   {
    "duration": 302,
    "start_time": "2022-12-14T11:20:31.010Z"
   },
   {
    "duration": 164,
    "start_time": "2022-12-14T11:24:29.710Z"
   },
   {
    "duration": 5,
    "start_time": "2022-12-14T12:04:50.848Z"
   },
   {
    "duration": 8,
    "start_time": "2022-12-14T12:05:36.769Z"
   },
   {
    "duration": 5,
    "start_time": "2022-12-14T12:05:44.941Z"
   },
   {
    "duration": 1273,
    "start_time": "2022-12-14T12:06:55.254Z"
   },
   {
    "duration": 16,
    "start_time": "2022-12-14T12:07:10.108Z"
   },
   {
    "duration": 119,
    "start_time": "2022-12-14T12:07:20.369Z"
   },
   {
    "duration": 8,
    "start_time": "2022-12-14T12:16:44.806Z"
   },
   {
    "duration": 8,
    "start_time": "2022-12-14T12:16:54.086Z"
   },
   {
    "duration": 10,
    "start_time": "2022-12-14T12:17:41.588Z"
   },
   {
    "duration": 5,
    "start_time": "2022-12-14T12:20:18.491Z"
   },
   {
    "duration": 15,
    "start_time": "2022-12-14T12:21:24.651Z"
   },
   {
    "duration": 8,
    "start_time": "2022-12-14T12:25:11.046Z"
   },
   {
    "duration": 1152,
    "start_time": "2022-12-14T12:29:00.433Z"
   },
   {
    "duration": 22,
    "start_time": "2022-12-14T12:30:49.050Z"
   },
   {
    "duration": 83,
    "start_time": "2022-12-14T12:32:03.771Z"
   },
   {
    "duration": 4,
    "start_time": "2022-12-14T12:37:24.122Z"
   },
   {
    "duration": 11,
    "start_time": "2022-12-14T12:38:14.553Z"
   },
   {
    "duration": 49,
    "start_time": "2022-12-14T12:38:45.352Z"
   },
   {
    "duration": 19,
    "start_time": "2022-12-14T12:38:45.404Z"
   },
   {
    "duration": 19,
    "start_time": "2022-12-14T12:38:45.424Z"
   },
   {
    "duration": 12,
    "start_time": "2022-12-14T12:38:45.445Z"
   },
   {
    "duration": 18,
    "start_time": "2022-12-14T12:38:45.458Z"
   },
   {
    "duration": 23,
    "start_time": "2022-12-14T12:38:45.477Z"
   },
   {
    "duration": 38,
    "start_time": "2022-12-14T12:38:45.502Z"
   },
   {
    "duration": 0,
    "start_time": "2022-12-14T12:38:45.543Z"
   },
   {
    "duration": 0,
    "start_time": "2022-12-14T12:38:45.545Z"
   },
   {
    "duration": 0,
    "start_time": "2022-12-14T12:38:45.547Z"
   },
   {
    "duration": 0,
    "start_time": "2022-12-14T12:38:45.549Z"
   },
   {
    "duration": 0,
    "start_time": "2022-12-14T12:38:45.550Z"
   },
   {
    "duration": 0,
    "start_time": "2022-12-14T12:38:45.551Z"
   },
   {
    "duration": 0,
    "start_time": "2022-12-14T12:38:45.552Z"
   },
   {
    "duration": 0,
    "start_time": "2022-12-14T12:38:45.553Z"
   },
   {
    "duration": 0,
    "start_time": "2022-12-14T12:38:45.555Z"
   },
   {
    "duration": 0,
    "start_time": "2022-12-14T12:38:45.556Z"
   },
   {
    "duration": 0,
    "start_time": "2022-12-14T12:38:45.557Z"
   },
   {
    "duration": 0,
    "start_time": "2022-12-14T12:38:45.559Z"
   },
   {
    "duration": 0,
    "start_time": "2022-12-14T12:38:45.560Z"
   },
   {
    "duration": 0,
    "start_time": "2022-12-14T12:38:45.561Z"
   },
   {
    "duration": 0,
    "start_time": "2022-12-14T12:38:45.562Z"
   },
   {
    "duration": 0,
    "start_time": "2022-12-14T12:38:45.564Z"
   },
   {
    "duration": 0,
    "start_time": "2022-12-14T12:38:45.566Z"
   },
   {
    "duration": 0,
    "start_time": "2022-12-14T12:38:45.567Z"
   },
   {
    "duration": 0,
    "start_time": "2022-12-14T12:38:45.569Z"
   },
   {
    "duration": 0,
    "start_time": "2022-12-14T12:38:45.571Z"
   },
   {
    "duration": 0,
    "start_time": "2022-12-14T12:38:45.572Z"
   },
   {
    "duration": 0,
    "start_time": "2022-12-14T12:38:45.573Z"
   },
   {
    "duration": 0,
    "start_time": "2022-12-14T12:38:45.575Z"
   },
   {
    "duration": 0,
    "start_time": "2022-12-14T12:38:45.627Z"
   },
   {
    "duration": 0,
    "start_time": "2022-12-14T12:38:45.629Z"
   },
   {
    "duration": 0,
    "start_time": "2022-12-14T12:38:45.630Z"
   },
   {
    "duration": 0,
    "start_time": "2022-12-14T12:38:45.632Z"
   },
   {
    "duration": 0,
    "start_time": "2022-12-14T12:38:45.634Z"
   },
   {
    "duration": 0,
    "start_time": "2022-12-14T12:38:45.635Z"
   },
   {
    "duration": 0,
    "start_time": "2022-12-14T12:38:45.637Z"
   },
   {
    "duration": 0,
    "start_time": "2022-12-14T12:38:45.639Z"
   },
   {
    "duration": 0,
    "start_time": "2022-12-14T12:38:45.640Z"
   },
   {
    "duration": 0,
    "start_time": "2022-12-14T12:38:45.641Z"
   },
   {
    "duration": 0,
    "start_time": "2022-12-14T12:38:45.643Z"
   },
   {
    "duration": 0,
    "start_time": "2022-12-14T12:38:45.645Z"
   },
   {
    "duration": 0,
    "start_time": "2022-12-14T12:38:45.647Z"
   },
   {
    "duration": 0,
    "start_time": "2022-12-14T12:38:45.648Z"
   },
   {
    "duration": 0,
    "start_time": "2022-12-14T12:38:45.650Z"
   },
   {
    "duration": 0,
    "start_time": "2022-12-14T12:38:45.651Z"
   },
   {
    "duration": 0,
    "start_time": "2022-12-14T12:38:45.653Z"
   },
   {
    "duration": 0,
    "start_time": "2022-12-14T12:38:45.654Z"
   },
   {
    "duration": 0,
    "start_time": "2022-12-14T12:38:45.656Z"
   },
   {
    "duration": 82,
    "start_time": "2022-12-14T12:38:45.660Z"
   },
   {
    "duration": 0,
    "start_time": "2022-12-14T12:38:45.744Z"
   },
   {
    "duration": 8,
    "start_time": "2022-12-14T12:40:12.276Z"
   },
   {
    "duration": 21,
    "start_time": "2022-12-14T12:40:15.707Z"
   },
   {
    "duration": 48,
    "start_time": "2022-12-14T12:40:19.954Z"
   },
   {
    "duration": 21,
    "start_time": "2022-12-14T12:40:20.004Z"
   },
   {
    "duration": 16,
    "start_time": "2022-12-14T12:40:20.026Z"
   },
   {
    "duration": 14,
    "start_time": "2022-12-14T12:40:20.044Z"
   },
   {
    "duration": 9,
    "start_time": "2022-12-14T12:40:20.060Z"
   },
   {
    "duration": 17,
    "start_time": "2022-12-14T12:40:20.070Z"
   },
   {
    "duration": 10,
    "start_time": "2022-12-14T12:40:20.089Z"
   },
   {
    "duration": 17,
    "start_time": "2022-12-14T12:40:20.100Z"
   },
   {
    "duration": 14,
    "start_time": "2022-12-14T12:40:20.118Z"
   },
   {
    "duration": 76,
    "start_time": "2022-12-14T12:40:20.134Z"
   },
   {
    "duration": 19,
    "start_time": "2022-12-14T12:40:20.212Z"
   },
   {
    "duration": 5,
    "start_time": "2022-12-14T12:40:20.232Z"
   },
   {
    "duration": 21,
    "start_time": "2022-12-14T12:40:20.238Z"
   },
   {
    "duration": 11,
    "start_time": "2022-12-14T12:40:20.261Z"
   },
   {
    "duration": 175,
    "start_time": "2022-12-14T12:40:20.273Z"
   },
   {
    "duration": 12,
    "start_time": "2022-12-14T12:40:20.450Z"
   },
   {
    "duration": 154,
    "start_time": "2022-12-14T12:40:20.464Z"
   },
   {
    "duration": 262,
    "start_time": "2022-12-14T12:40:20.620Z"
   },
   {
    "duration": 142,
    "start_time": "2022-12-14T12:40:20.884Z"
   },
   {
    "duration": 134,
    "start_time": "2022-12-14T12:40:21.028Z"
   },
   {
    "duration": 158,
    "start_time": "2022-12-14T12:40:21.163Z"
   },
   {
    "duration": 136,
    "start_time": "2022-12-14T12:40:21.322Z"
   },
   {
    "duration": 15,
    "start_time": "2022-12-14T12:40:21.460Z"
   },
   {
    "duration": 182,
    "start_time": "2022-12-14T12:40:21.476Z"
   },
   {
    "duration": 139,
    "start_time": "2022-12-14T12:40:21.661Z"
   },
   {
    "duration": 162,
    "start_time": "2022-12-14T12:40:21.801Z"
   },
   {
    "duration": 154,
    "start_time": "2022-12-14T12:40:21.965Z"
   },
   {
    "duration": 157,
    "start_time": "2022-12-14T12:40:22.121Z"
   },
   {
    "duration": 157,
    "start_time": "2022-12-14T12:40:22.279Z"
   },
   {
    "duration": 155,
    "start_time": "2022-12-14T12:40:22.438Z"
   },
   {
    "duration": 304,
    "start_time": "2022-12-14T12:40:22.595Z"
   },
   {
    "duration": 0,
    "start_time": "2022-12-14T12:40:22.902Z"
   },
   {
    "duration": 0,
    "start_time": "2022-12-14T12:40:22.904Z"
   },
   {
    "duration": 0,
    "start_time": "2022-12-14T12:40:22.905Z"
   },
   {
    "duration": 0,
    "start_time": "2022-12-14T12:40:22.907Z"
   },
   {
    "duration": 0,
    "start_time": "2022-12-14T12:40:22.908Z"
   },
   {
    "duration": 0,
    "start_time": "2022-12-14T12:40:22.927Z"
   },
   {
    "duration": 0,
    "start_time": "2022-12-14T12:40:22.928Z"
   },
   {
    "duration": 0,
    "start_time": "2022-12-14T12:40:22.930Z"
   },
   {
    "duration": 0,
    "start_time": "2022-12-14T12:40:22.931Z"
   },
   {
    "duration": 0,
    "start_time": "2022-12-14T12:40:22.932Z"
   },
   {
    "duration": 0,
    "start_time": "2022-12-14T12:40:22.934Z"
   },
   {
    "duration": 0,
    "start_time": "2022-12-14T12:40:22.935Z"
   },
   {
    "duration": 0,
    "start_time": "2022-12-14T12:40:22.937Z"
   },
   {
    "duration": 0,
    "start_time": "2022-12-14T12:40:22.938Z"
   },
   {
    "duration": 1,
    "start_time": "2022-12-14T12:40:22.939Z"
   },
   {
    "duration": 0,
    "start_time": "2022-12-14T12:40:22.941Z"
   },
   {
    "duration": 0,
    "start_time": "2022-12-14T12:40:22.942Z"
   },
   {
    "duration": 0,
    "start_time": "2022-12-14T12:40:22.944Z"
   },
   {
    "duration": 0,
    "start_time": "2022-12-14T12:40:22.945Z"
   },
   {
    "duration": 0,
    "start_time": "2022-12-14T12:40:22.946Z"
   },
   {
    "duration": 0,
    "start_time": "2022-12-14T12:40:22.947Z"
   },
   {
    "duration": 97,
    "start_time": "2022-12-14T22:04:55.340Z"
   },
   {
    "duration": 472,
    "start_time": "2022-12-14T22:05:29.361Z"
   },
   {
    "duration": 27,
    "start_time": "2022-12-14T22:05:29.836Z"
   },
   {
    "duration": 13,
    "start_time": "2022-12-14T22:05:29.864Z"
   },
   {
    "duration": 8,
    "start_time": "2022-12-14T22:05:29.879Z"
   },
   {
    "duration": 6,
    "start_time": "2022-12-14T22:05:29.888Z"
   },
   {
    "duration": 8,
    "start_time": "2022-12-14T22:05:29.895Z"
   },
   {
    "duration": 9,
    "start_time": "2022-12-14T22:05:29.916Z"
   },
   {
    "duration": 16,
    "start_time": "2022-12-14T22:05:29.926Z"
   },
   {
    "duration": 8,
    "start_time": "2022-12-14T22:05:29.944Z"
   },
   {
    "duration": 449,
    "start_time": "2022-12-14T22:05:29.953Z"
   },
   {
    "duration": 25,
    "start_time": "2022-12-14T22:05:30.404Z"
   },
   {
    "duration": 26,
    "start_time": "2022-12-14T22:05:30.431Z"
   },
   {
    "duration": 33,
    "start_time": "2022-12-14T22:05:30.458Z"
   },
   {
    "duration": 20,
    "start_time": "2022-12-14T22:05:30.493Z"
   },
   {
    "duration": 191,
    "start_time": "2022-12-14T22:05:30.515Z"
   },
   {
    "duration": 17,
    "start_time": "2022-12-14T22:05:30.708Z"
   },
   {
    "duration": 156,
    "start_time": "2022-12-14T22:05:30.727Z"
   },
   {
    "duration": 136,
    "start_time": "2022-12-14T22:05:30.885Z"
   },
   {
    "duration": 194,
    "start_time": "2022-12-14T22:05:31.023Z"
   },
   {
    "duration": 135,
    "start_time": "2022-12-14T22:05:31.219Z"
   },
   {
    "duration": 154,
    "start_time": "2022-12-14T22:05:31.356Z"
   },
   {
    "duration": 136,
    "start_time": "2022-12-14T22:05:31.515Z"
   },
   {
    "duration": 15,
    "start_time": "2022-12-14T22:05:31.653Z"
   },
   {
    "duration": 153,
    "start_time": "2022-12-14T22:05:31.670Z"
   },
   {
    "duration": 137,
    "start_time": "2022-12-14T22:05:31.824Z"
   },
   {
    "duration": 160,
    "start_time": "2022-12-14T22:05:31.963Z"
   },
   {
    "duration": 156,
    "start_time": "2022-12-14T22:05:32.124Z"
   },
   {
    "duration": 172,
    "start_time": "2022-12-14T22:05:32.281Z"
   },
   {
    "duration": 164,
    "start_time": "2022-12-14T22:05:32.455Z"
   },
   {
    "duration": 158,
    "start_time": "2022-12-14T22:05:32.621Z"
   },
   {
    "duration": 619,
    "start_time": "2022-12-14T22:05:32.781Z"
   },
   {
    "duration": 0,
    "start_time": "2022-12-14T22:05:33.402Z"
   },
   {
    "duration": 0,
    "start_time": "2022-12-14T22:05:33.404Z"
   },
   {
    "duration": 0,
    "start_time": "2022-12-14T22:05:33.405Z"
   },
   {
    "duration": 0,
    "start_time": "2022-12-14T22:05:33.406Z"
   },
   {
    "duration": 0,
    "start_time": "2022-12-14T22:05:33.415Z"
   },
   {
    "duration": 0,
    "start_time": "2022-12-14T22:05:33.416Z"
   },
   {
    "duration": 0,
    "start_time": "2022-12-14T22:05:33.417Z"
   },
   {
    "duration": 0,
    "start_time": "2022-12-14T22:05:33.419Z"
   },
   {
    "duration": 0,
    "start_time": "2022-12-14T22:05:33.420Z"
   },
   {
    "duration": 0,
    "start_time": "2022-12-14T22:05:33.421Z"
   },
   {
    "duration": 0,
    "start_time": "2022-12-14T22:05:33.422Z"
   },
   {
    "duration": 0,
    "start_time": "2022-12-14T22:05:33.423Z"
   },
   {
    "duration": 0,
    "start_time": "2022-12-14T22:05:33.424Z"
   },
   {
    "duration": 0,
    "start_time": "2022-12-14T22:05:33.425Z"
   },
   {
    "duration": 0,
    "start_time": "2022-12-14T22:05:33.427Z"
   },
   {
    "duration": 0,
    "start_time": "2022-12-14T22:05:33.428Z"
   },
   {
    "duration": 0,
    "start_time": "2022-12-14T22:05:33.429Z"
   },
   {
    "duration": 0,
    "start_time": "2022-12-14T22:05:33.430Z"
   },
   {
    "duration": 0,
    "start_time": "2022-12-14T22:05:33.431Z"
   },
   {
    "duration": 0,
    "start_time": "2022-12-14T22:05:33.432Z"
   },
   {
    "duration": 0,
    "start_time": "2022-12-14T22:05:33.433Z"
   },
   {
    "duration": 36,
    "start_time": "2022-12-14T22:05:52.159Z"
   },
   {
    "duration": 128,
    "start_time": "2022-12-14T22:05:53.554Z"
   },
   {
    "duration": 5,
    "start_time": "2022-12-14T22:05:53.823Z"
   },
   {
    "duration": 131,
    "start_time": "2022-12-14T22:05:54.039Z"
   },
   {
    "duration": 5,
    "start_time": "2022-12-14T22:05:54.426Z"
   },
   {
    "duration": 281,
    "start_time": "2022-12-14T22:06:40.364Z"
   },
   {
    "duration": 13,
    "start_time": "2022-12-14T22:07:03.786Z"
   },
   {
    "duration": 367,
    "start_time": "2022-12-14T22:07:10.526Z"
   },
   {
    "duration": 284,
    "start_time": "2022-12-14T22:07:16.713Z"
   },
   {
    "duration": 289,
    "start_time": "2022-12-14T22:08:20.397Z"
   },
   {
    "duration": 5,
    "start_time": "2022-12-14T22:09:21.488Z"
   },
   {
    "duration": 192,
    "start_time": "2022-12-14T22:09:23.580Z"
   },
   {
    "duration": 183,
    "start_time": "2022-12-14T22:09:25.186Z"
   },
   {
    "duration": 972,
    "start_time": "2022-12-14T22:09:52.945Z"
   },
   {
    "duration": 10,
    "start_time": "2022-12-14T22:10:16.691Z"
   },
   {
    "duration": 4,
    "start_time": "2022-12-14T22:10:17.713Z"
   },
   {
    "duration": 14,
    "start_time": "2022-12-14T22:10:18.045Z"
   },
   {
    "duration": 4,
    "start_time": "2022-12-14T22:10:18.254Z"
   },
   {
    "duration": 10,
    "start_time": "2022-12-14T22:10:18.532Z"
   },
   {
    "duration": 4,
    "start_time": "2022-12-14T22:10:18.747Z"
   },
   {
    "duration": 163,
    "start_time": "2022-12-14T22:10:20.261Z"
   },
   {
    "duration": 258,
    "start_time": "2022-12-14T22:10:20.557Z"
   },
   {
    "duration": 174,
    "start_time": "2022-12-14T22:10:20.817Z"
   },
   {
    "duration": 13,
    "start_time": "2022-12-14T22:10:31.757Z"
   },
   {
    "duration": 695,
    "start_time": "2022-12-15T07:14:46.010Z"
   },
   {
    "duration": 412,
    "start_time": "2022-12-15T07:14:53.001Z"
   },
   {
    "duration": 27,
    "start_time": "2022-12-15T07:14:53.415Z"
   },
   {
    "duration": 14,
    "start_time": "2022-12-15T07:14:53.444Z"
   },
   {
    "duration": 10,
    "start_time": "2022-12-15T07:14:53.460Z"
   },
   {
    "duration": 9,
    "start_time": "2022-12-15T07:14:53.472Z"
   },
   {
    "duration": 11,
    "start_time": "2022-12-15T07:14:53.482Z"
   },
   {
    "duration": 32,
    "start_time": "2022-12-15T07:14:53.495Z"
   },
   {
    "duration": 16,
    "start_time": "2022-12-15T07:14:53.529Z"
   },
   {
    "duration": 8,
    "start_time": "2022-12-15T07:14:53.547Z"
   },
   {
    "duration": 509,
    "start_time": "2022-12-15T07:14:53.558Z"
   },
   {
    "duration": 25,
    "start_time": "2022-12-15T07:14:54.069Z"
   },
   {
    "duration": 6,
    "start_time": "2022-12-15T07:14:54.096Z"
   },
   {
    "duration": 20,
    "start_time": "2022-12-15T07:14:54.123Z"
   },
   {
    "duration": 14,
    "start_time": "2022-12-15T07:14:54.145Z"
   },
   {
    "duration": 189,
    "start_time": "2022-12-15T07:14:54.161Z"
   },
   {
    "duration": 12,
    "start_time": "2022-12-15T07:14:54.352Z"
   },
   {
    "duration": 140,
    "start_time": "2022-12-15T07:14:54.366Z"
   },
   {
    "duration": 144,
    "start_time": "2022-12-15T07:14:54.508Z"
   },
   {
    "duration": 139,
    "start_time": "2022-12-15T07:14:54.654Z"
   },
   {
    "duration": 129,
    "start_time": "2022-12-15T07:14:54.794Z"
   },
   {
    "duration": 159,
    "start_time": "2022-12-15T07:14:54.925Z"
   },
   {
    "duration": 140,
    "start_time": "2022-12-15T07:14:55.085Z"
   },
   {
    "duration": 16,
    "start_time": "2022-12-15T07:14:55.227Z"
   },
   {
    "duration": 161,
    "start_time": "2022-12-15T07:14:55.244Z"
   },
   {
    "duration": 205,
    "start_time": "2022-12-15T07:14:55.407Z"
   },
   {
    "duration": 167,
    "start_time": "2022-12-15T07:14:55.614Z"
   },
   {
    "duration": 171,
    "start_time": "2022-12-15T07:14:55.782Z"
   },
   {
    "duration": 166,
    "start_time": "2022-12-15T07:14:55.956Z"
   },
   {
    "duration": 155,
    "start_time": "2022-12-15T07:14:56.123Z"
   },
   {
    "duration": 152,
    "start_time": "2022-12-15T07:14:56.280Z"
   },
   {
    "duration": 348,
    "start_time": "2022-12-15T07:14:56.434Z"
   },
   {
    "duration": 2,
    "start_time": "2022-12-15T07:14:56.783Z"
   },
   {
    "duration": 47,
    "start_time": "2022-12-15T07:14:56.787Z"
   },
   {
    "duration": 139,
    "start_time": "2022-12-15T07:14:56.835Z"
   },
   {
    "duration": 5,
    "start_time": "2022-12-15T07:14:56.976Z"
   },
   {
    "duration": 147,
    "start_time": "2022-12-15T07:14:56.982Z"
   },
   {
    "duration": 5,
    "start_time": "2022-12-15T07:14:57.130Z"
   },
   {
    "duration": 6,
    "start_time": "2022-12-15T07:14:57.137Z"
   },
   {
    "duration": 271,
    "start_time": "2022-12-15T07:14:57.144Z"
   },
   {
    "duration": 199,
    "start_time": "2022-12-15T07:14:57.416Z"
   },
   {
    "duration": 1001,
    "start_time": "2022-12-15T07:14:57.616Z"
   },
   {
    "duration": 11,
    "start_time": "2022-12-15T07:14:58.618Z"
   },
   {
    "duration": 5,
    "start_time": "2022-12-15T07:14:58.631Z"
   },
   {
    "duration": 11,
    "start_time": "2022-12-15T07:14:58.637Z"
   },
   {
    "duration": 4,
    "start_time": "2022-12-15T07:14:58.649Z"
   },
   {
    "duration": 13,
    "start_time": "2022-12-15T07:14:58.654Z"
   },
   {
    "duration": 4,
    "start_time": "2022-12-15T07:14:58.669Z"
   },
   {
    "duration": 212,
    "start_time": "2022-12-15T07:14:58.674Z"
   },
   {
    "duration": 190,
    "start_time": "2022-12-15T07:14:58.888Z"
   },
   {
    "duration": 180,
    "start_time": "2022-12-15T07:14:59.079Z"
   },
   {
    "duration": 14,
    "start_time": "2022-12-15T07:14:59.261Z"
   },
   {
    "duration": 7,
    "start_time": "2022-12-15T07:14:59.277Z"
   },
   {
    "duration": 6,
    "start_time": "2022-12-15T07:17:30.917Z"
   },
   {
    "duration": 8,
    "start_time": "2022-12-15T07:17:55.787Z"
   },
   {
    "duration": 6,
    "start_time": "2022-12-15T07:18:35.935Z"
   },
   {
    "duration": 10,
    "start_time": "2022-12-15T07:19:03.775Z"
   },
   {
    "duration": 27,
    "start_time": "2022-12-15T07:19:13.198Z"
   },
   {
    "duration": 8,
    "start_time": "2022-12-15T07:19:48.942Z"
   },
   {
    "duration": 9,
    "start_time": "2022-12-15T07:19:58.000Z"
   },
   {
    "duration": 14,
    "start_time": "2022-12-15T07:40:47.848Z"
   },
   {
    "duration": 93,
    "start_time": "2022-12-15T07:42:00.555Z"
   }
  ],
  "kernelspec": {
   "display_name": "Python 3 (ipykernel)",
   "language": "python",
   "name": "python3"
  },
  "language_info": {
   "codemirror_mode": {
    "name": "ipython",
    "version": 3
   },
   "file_extension": ".py",
   "mimetype": "text/x-python",
   "name": "python",
   "nbconvert_exporter": "python",
   "pygments_lexer": "ipython3",
   "version": "3.9.5"
  },
  "toc": {
   "base_numbering": 1,
   "nav_menu": {},
   "number_sections": true,
   "sideBar": true,
   "skip_h1_title": true,
   "title_cell": "Table of Contents",
   "title_sidebar": "Contents",
   "toc_cell": false,
   "toc_position": {},
   "toc_section_display": true,
   "toc_window_display": false
  }
 },
 "nbformat": 4,
 "nbformat_minor": 2
}
